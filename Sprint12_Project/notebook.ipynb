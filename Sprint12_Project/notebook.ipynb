{
 "cells": [
  {
   "cell_type": "markdown",
   "metadata": {},
   "source": [
    "## Introduction\n",
    "\n",
    "We work for `Rusty Bargain`, a vehicle sales service. They want to attract new customers through an application in which you can know the market price of their vehicles (cars). To make this possible, Rusty Bargain have shared with us the record, technical specifications and prices of several vehicles on their database, and we have to use this information to determine the price of new vehicles. \n",
    "\n",
    "The main points Rusty Bargain is interested in are:\n",
    "* The quality of the predictions `(the most accurate predictions posible)`;\n",
    "* The speed of the predictions `(in the shortest time possible)`;\n",
    "* The time required to train the model `(in a model trained as fast as possible)`.\n",
    "\n",
    "## Methodology\n",
    "\n",
    "To make this possible we will distribute the content as the following:\n",
    "\n",
    "* Preparing the data\n",
    "    * Pre-processing\n",
    "    * Data engineering\n",
    "* Modeling\n",
    "    * Sanity test - Linear Regression\n",
    "    * Random Forest Regressor\n",
    "    * LightGBM\n",
    "    * XGBoost\n",
    "    * CatBoost\n",
    "* Conclusions"
   ]
  },
  {
   "cell_type": "markdown",
   "metadata": {},
   "source": [
    "## Preparing the data\n",
    "\n",
    "Importing the libraries that will be used on the application."
   ]
  },
  {
   "cell_type": "code",
   "execution_count": 1,
   "metadata": {},
   "outputs": [],
   "source": [
    "import pandas as pd\n",
    "import numpy as np\n",
    "from datetime import datetime\n",
    "\n",
    "from sklearn.linear_model import LinearRegression\n",
    "from sklearn.ensemble import RandomForestRegressor\n",
    "from sklearn.preprocessing import StandardScaler\n",
    "from sklearn.preprocessing import OrdinalEncoder\n",
    "from sklearn.model_selection import train_test_split as tts\n",
    "from sklearn.metrics import mean_squared_error as mse\n",
    "from sklearn.metrics import r2_score\n",
    "\n",
    "import lightgbm as lgb\n",
    "import xgboost as xgb\n",
    "from catboost import CatBoostRegressor"
   ]
  },
  {
   "cell_type": "markdown",
   "metadata": {},
   "source": [
    "Saving the information on a variable `data` to search for discrepancies or \"odd\" values in each column."
   ]
  },
  {
   "cell_type": "code",
   "execution_count": 2,
   "metadata": {},
   "outputs": [],
   "source": [
    "data = pd.read_csv(\"/datasets/car_data.csv\")"
   ]
  },
  {
   "cell_type": "code",
   "execution_count": 3,
   "metadata": {},
   "outputs": [
    {
     "name": "stdout",
     "output_type": "stream",
     "text": [
      "<class 'pandas.core.frame.DataFrame'>\n",
      "RangeIndex: 354369 entries, 0 to 354368\n",
      "Data columns (total 16 columns):\n",
      " #   Column             Non-Null Count   Dtype \n",
      "---  ------             --------------   ----- \n",
      " 0   DateCrawled        354369 non-null  object\n",
      " 1   Price              354369 non-null  int64 \n",
      " 2   VehicleType        316879 non-null  object\n",
      " 3   RegistrationYear   354369 non-null  int64 \n",
      " 4   Gearbox            334536 non-null  object\n",
      " 5   Power              354369 non-null  int64 \n",
      " 6   Model              334664 non-null  object\n",
      " 7   Mileage            354369 non-null  int64 \n",
      " 8   RegistrationMonth  354369 non-null  int64 \n",
      " 9   FuelType           321474 non-null  object\n",
      " 10  Brand              354369 non-null  object\n",
      " 11  NotRepaired        283215 non-null  object\n",
      " 12  DateCreated        354369 non-null  object\n",
      " 13  NumberOfPictures   354369 non-null  int64 \n",
      " 14  PostalCode         354369 non-null  int64 \n",
      " 15  LastSeen           354369 non-null  object\n",
      "dtypes: int64(7), object(9)\n",
      "memory usage: 43.3+ MB\n"
     ]
    }
   ],
   "source": [
    "data.info()"
   ]
  },
  {
   "cell_type": "code",
   "execution_count": 4,
   "metadata": {},
   "outputs": [
    {
     "data": {
      "text/html": [
       "<div>\n",
       "<style scoped>\n",
       "    .dataframe tbody tr th:only-of-type {\n",
       "        vertical-align: middle;\n",
       "    }\n",
       "\n",
       "    .dataframe tbody tr th {\n",
       "        vertical-align: top;\n",
       "    }\n",
       "\n",
       "    .dataframe thead th {\n",
       "        text-align: right;\n",
       "    }\n",
       "</style>\n",
       "<table border=\"1\" class=\"dataframe\">\n",
       "  <thead>\n",
       "    <tr style=\"text-align: right;\">\n",
       "      <th></th>\n",
       "      <th>Price</th>\n",
       "      <th>RegistrationYear</th>\n",
       "      <th>Power</th>\n",
       "      <th>Mileage</th>\n",
       "      <th>RegistrationMonth</th>\n",
       "      <th>NumberOfPictures</th>\n",
       "      <th>PostalCode</th>\n",
       "    </tr>\n",
       "  </thead>\n",
       "  <tbody>\n",
       "    <tr>\n",
       "      <th>count</th>\n",
       "      <td>354369.000000</td>\n",
       "      <td>354369.000000</td>\n",
       "      <td>354369.000000</td>\n",
       "      <td>354369.000000</td>\n",
       "      <td>354369.000000</td>\n",
       "      <td>354369.0</td>\n",
       "      <td>354369.000000</td>\n",
       "    </tr>\n",
       "    <tr>\n",
       "      <th>mean</th>\n",
       "      <td>4416.656776</td>\n",
       "      <td>2004.234448</td>\n",
       "      <td>110.094337</td>\n",
       "      <td>128211.172535</td>\n",
       "      <td>5.714645</td>\n",
       "      <td>0.0</td>\n",
       "      <td>50508.689087</td>\n",
       "    </tr>\n",
       "    <tr>\n",
       "      <th>std</th>\n",
       "      <td>4514.158514</td>\n",
       "      <td>90.227958</td>\n",
       "      <td>189.850405</td>\n",
       "      <td>37905.341530</td>\n",
       "      <td>3.726421</td>\n",
       "      <td>0.0</td>\n",
       "      <td>25783.096248</td>\n",
       "    </tr>\n",
       "    <tr>\n",
       "      <th>min</th>\n",
       "      <td>0.000000</td>\n",
       "      <td>1000.000000</td>\n",
       "      <td>0.000000</td>\n",
       "      <td>5000.000000</td>\n",
       "      <td>0.000000</td>\n",
       "      <td>0.0</td>\n",
       "      <td>1067.000000</td>\n",
       "    </tr>\n",
       "    <tr>\n",
       "      <th>25%</th>\n",
       "      <td>1050.000000</td>\n",
       "      <td>1999.000000</td>\n",
       "      <td>69.000000</td>\n",
       "      <td>125000.000000</td>\n",
       "      <td>3.000000</td>\n",
       "      <td>0.0</td>\n",
       "      <td>30165.000000</td>\n",
       "    </tr>\n",
       "    <tr>\n",
       "      <th>50%</th>\n",
       "      <td>2700.000000</td>\n",
       "      <td>2003.000000</td>\n",
       "      <td>105.000000</td>\n",
       "      <td>150000.000000</td>\n",
       "      <td>6.000000</td>\n",
       "      <td>0.0</td>\n",
       "      <td>49413.000000</td>\n",
       "    </tr>\n",
       "    <tr>\n",
       "      <th>75%</th>\n",
       "      <td>6400.000000</td>\n",
       "      <td>2008.000000</td>\n",
       "      <td>143.000000</td>\n",
       "      <td>150000.000000</td>\n",
       "      <td>9.000000</td>\n",
       "      <td>0.0</td>\n",
       "      <td>71083.000000</td>\n",
       "    </tr>\n",
       "    <tr>\n",
       "      <th>max</th>\n",
       "      <td>20000.000000</td>\n",
       "      <td>9999.000000</td>\n",
       "      <td>20000.000000</td>\n",
       "      <td>150000.000000</td>\n",
       "      <td>12.000000</td>\n",
       "      <td>0.0</td>\n",
       "      <td>99998.000000</td>\n",
       "    </tr>\n",
       "  </tbody>\n",
       "</table>\n",
       "</div>"
      ],
      "text/plain": [
       "               Price  RegistrationYear          Power        Mileage  \\\n",
       "count  354369.000000     354369.000000  354369.000000  354369.000000   \n",
       "mean     4416.656776       2004.234448     110.094337  128211.172535   \n",
       "std      4514.158514         90.227958     189.850405   37905.341530   \n",
       "min         0.000000       1000.000000       0.000000    5000.000000   \n",
       "25%      1050.000000       1999.000000      69.000000  125000.000000   \n",
       "50%      2700.000000       2003.000000     105.000000  150000.000000   \n",
       "75%      6400.000000       2008.000000     143.000000  150000.000000   \n",
       "max     20000.000000       9999.000000   20000.000000  150000.000000   \n",
       "\n",
       "       RegistrationMonth  NumberOfPictures     PostalCode  \n",
       "count      354369.000000          354369.0  354369.000000  \n",
       "mean            5.714645               0.0   50508.689087  \n",
       "std             3.726421               0.0   25783.096248  \n",
       "min             0.000000               0.0    1067.000000  \n",
       "25%             3.000000               0.0   30165.000000  \n",
       "50%             6.000000               0.0   49413.000000  \n",
       "75%             9.000000               0.0   71083.000000  \n",
       "max            12.000000               0.0   99998.000000  "
      ]
     },
     "execution_count": 4,
     "metadata": {},
     "output_type": "execute_result"
    }
   ],
   "source": [
    "data.describe()"
   ]
  },
  {
   "cell_type": "code",
   "execution_count": 5,
   "metadata": {},
   "outputs": [
    {
     "data": {
      "text/html": [
       "<div>\n",
       "<style scoped>\n",
       "    .dataframe tbody tr th:only-of-type {\n",
       "        vertical-align: middle;\n",
       "    }\n",
       "\n",
       "    .dataframe tbody tr th {\n",
       "        vertical-align: top;\n",
       "    }\n",
       "\n",
       "    .dataframe thead th {\n",
       "        text-align: right;\n",
       "    }\n",
       "</style>\n",
       "<table border=\"1\" class=\"dataframe\">\n",
       "  <thead>\n",
       "    <tr style=\"text-align: right;\">\n",
       "      <th></th>\n",
       "      <th>DateCrawled</th>\n",
       "      <th>VehicleType</th>\n",
       "      <th>Gearbox</th>\n",
       "      <th>Model</th>\n",
       "      <th>FuelType</th>\n",
       "      <th>Brand</th>\n",
       "      <th>NotRepaired</th>\n",
       "      <th>DateCreated</th>\n",
       "      <th>LastSeen</th>\n",
       "    </tr>\n",
       "  </thead>\n",
       "  <tbody>\n",
       "    <tr>\n",
       "      <th>count</th>\n",
       "      <td>354369</td>\n",
       "      <td>316879</td>\n",
       "      <td>334536</td>\n",
       "      <td>334664</td>\n",
       "      <td>321474</td>\n",
       "      <td>354369</td>\n",
       "      <td>283215</td>\n",
       "      <td>354369</td>\n",
       "      <td>354369</td>\n",
       "    </tr>\n",
       "    <tr>\n",
       "      <th>unique</th>\n",
       "      <td>15470</td>\n",
       "      <td>8</td>\n",
       "      <td>2</td>\n",
       "      <td>250</td>\n",
       "      <td>7</td>\n",
       "      <td>40</td>\n",
       "      <td>2</td>\n",
       "      <td>109</td>\n",
       "      <td>18592</td>\n",
       "    </tr>\n",
       "    <tr>\n",
       "      <th>top</th>\n",
       "      <td>05/03/2016 14:25</td>\n",
       "      <td>sedan</td>\n",
       "      <td>manual</td>\n",
       "      <td>golf</td>\n",
       "      <td>petrol</td>\n",
       "      <td>volkswagen</td>\n",
       "      <td>no</td>\n",
       "      <td>03/04/2016 00:00</td>\n",
       "      <td>07/04/2016 07:16</td>\n",
       "    </tr>\n",
       "    <tr>\n",
       "      <th>freq</th>\n",
       "      <td>66</td>\n",
       "      <td>91457</td>\n",
       "      <td>268251</td>\n",
       "      <td>29232</td>\n",
       "      <td>216352</td>\n",
       "      <td>77013</td>\n",
       "      <td>247161</td>\n",
       "      <td>13719</td>\n",
       "      <td>654</td>\n",
       "    </tr>\n",
       "  </tbody>\n",
       "</table>\n",
       "</div>"
      ],
      "text/plain": [
       "             DateCrawled VehicleType Gearbox   Model FuelType       Brand  \\\n",
       "count             354369      316879  334536  334664   321474      354369   \n",
       "unique             15470           8       2     250        7          40   \n",
       "top     05/03/2016 14:25       sedan  manual    golf   petrol  volkswagen   \n",
       "freq                  66       91457  268251   29232   216352       77013   \n",
       "\n",
       "       NotRepaired       DateCreated          LastSeen  \n",
       "count       283215            354369            354369  \n",
       "unique           2               109             18592  \n",
       "top             no  03/04/2016 00:00  07/04/2016 07:16  \n",
       "freq        247161             13719               654  "
      ]
     },
     "execution_count": 5,
     "metadata": {},
     "output_type": "execute_result"
    }
   ],
   "source": [
    "data.describe(include='object')"
   ]
  },
  {
   "cell_type": "code",
   "execution_count": 6,
   "metadata": {
    "scrolled": false
   },
   "outputs": [
    {
     "data": {
      "text/plain": [
       "DateCrawled              0\n",
       "Price                    0\n",
       "VehicleType          37490\n",
       "RegistrationYear         0\n",
       "Gearbox              19833\n",
       "Power                    0\n",
       "Model                19705\n",
       "Mileage                  0\n",
       "RegistrationMonth        0\n",
       "FuelType             32895\n",
       "Brand                    0\n",
       "NotRepaired          71154\n",
       "DateCreated              0\n",
       "NumberOfPictures         0\n",
       "PostalCode               0\n",
       "LastSeen                 0\n",
       "dtype: int64"
      ]
     },
     "execution_count": 6,
     "metadata": {},
     "output_type": "execute_result"
    }
   ],
   "source": [
    "data.isna().sum()"
   ]
  },
  {
   "cell_type": "markdown",
   "metadata": {},
   "source": [
    "### Filtering data"
   ]
  },
  {
   "cell_type": "markdown",
   "metadata": {},
   "source": [
    "From the last 4 code blocks above we can make the following changes:\n",
    "* Changing columns names to a lowercase snake case format may be better.\n",
    "* Drop duplicated rows.\n",
    "* We have missing values on columns \"VehicleType\", \"Gearbox\", \"Model\", \"FuelType\" & \"NotRepaired\". We shall drop all columns with missing values on those 5 columns and fill the remaining fill another value.\n",
    "* Columns \"DateCrawled\", \"DateCreated\" & \"LastSeen\" shall be changed to a `datetime` object values columns.\n",
    "* We have minimum \"Price\" values of 0. We shall determine a lower threshold.\n",
    "* We have minimum \"RegistrationYear\" values of 1000 and maximum values of 9999. We shall determine lower and upper thresholds.\n",
    "* \"RegistrationMonth\" value of 0. We shall drop rows with value 0 becuase there is no month 0.\n",
    "* All values on column \"NumberOfPictures\" is 0. Column is not relevant.\n",
    "* \"PostalCode\" column is not relevant for the predictions.\n",
    "* We can generate a new date column from information on columns \"RegistrationYear\" & \"RegistrationMonth\".\n",
    "\n",
    "#### Changing column names to lower case / snake case\n",
    "\n",
    "To make it easier to read the column names let's change them to a combination of lowercase characters and snake case format as the following code blocks."
   ]
  },
  {
   "cell_type": "code",
   "execution_count": 7,
   "metadata": {},
   "outputs": [
    {
     "data": {
      "text/plain": [
       "Index(['date_crawled', 'price', 'vehicle_type', 'registration_year', 'gearbox',\n",
       "       'power', 'model', 'mileage', 'registration_month', 'fuel_type', 'brand',\n",
       "       'not_repaired', 'date_created', 'number_of_pictures', 'postal_code',\n",
       "       'last_seen'],\n",
       "      dtype='object')"
      ]
     },
     "execution_count": 7,
     "metadata": {},
     "output_type": "execute_result"
    }
   ],
   "source": [
    "data.columns = ['date_crawled', 'price', 'vehicle_type', 'registration_year', 'gearbox',\n",
    "       'power', 'model', 'mileage', 'registration_month', 'fuel_type', 'brand',\n",
    "       'not_repaired', 'date_created', 'number_of_pictures', 'postal_code',\n",
    "       'last_seen']\n",
    "data.columns"
   ]
  },
  {
   "cell_type": "markdown",
   "metadata": {},
   "source": [
    "#### Dropping duplicates\n",
    "\n",
    "We need to delete duplicated rows to prevent processing more than once each data entry."
   ]
  },
  {
   "cell_type": "code",
   "execution_count": 8,
   "metadata": {},
   "outputs": [],
   "source": [
    "data.drop_duplicates(inplace=True)"
   ]
  },
  {
   "cell_type": "markdown",
   "metadata": {},
   "source": [
    "#### Deleting `number_of_pictures` column\n",
    "\n",
    "We saw all cells on this column have value 0, therefore this column is not relevant for future steps of the project. Let's drop it."
   ]
  },
  {
   "cell_type": "code",
   "execution_count": 9,
   "metadata": {},
   "outputs": [],
   "source": [
    "data.drop(\"number_of_pictures\", axis=1, inplace=True)"
   ]
  },
  {
   "cell_type": "markdown",
   "metadata": {},
   "source": [
    "#### Deleting `postal_code` column\n",
    "\n",
    "Similar to column `number_of_pictures` this column is not relevant to the modeling, but by different reasons. Postal code information refers to the publisher's address, but does not affect the price of the vehicle. We proceed to drop this column as well."
   ]
  },
  {
   "cell_type": "code",
   "execution_count": 10,
   "metadata": {},
   "outputs": [],
   "source": [
    "data.drop(\"postal_code\", axis=1, inplace=True)"
   ]
  },
  {
   "cell_type": "markdown",
   "metadata": {},
   "source": [
    "#### Column `price` filter\n",
    "\n",
    "We could see the minimum price value we have is 0, meaning this particular vehicle is free. This does not make sense, so we decided to set a lower threshold on this colum on 500 euros and drop all rows below tthis value."
   ]
  },
  {
   "cell_type": "code",
   "execution_count": 11,
   "metadata": {},
   "outputs": [],
   "source": [
    "data = data[~(data['price'] < 500)]"
   ]
  },
  {
   "cell_type": "markdown",
   "metadata": {},
   "source": [
    "#### Column `registration_month` filter\n",
    "\n",
    "This column has values from 0 to 12. The value 0 does not make sense in the 12 months format we are using, so we proceed to drop all rows with value 0."
   ]
  },
  {
   "cell_type": "code",
   "execution_count": 12,
   "metadata": {},
   "outputs": [],
   "source": [
    "data = data[~(data[\"registration_month\"] == 0)]"
   ]
  },
  {
   "cell_type": "markdown",
   "metadata": {},
   "source": [
    "#### Column `registration_year` filter\n",
    "\n",
    "Values on this column goes from 1000 to 9999, which indicates us to filter those \"odd\" values. To make this possible we will set a lower threshold on 1950 and an upper threshold on 2016 and then drop all rows with values out of this range."
   ]
  },
  {
   "cell_type": "code",
   "execution_count": 13,
   "metadata": {},
   "outputs": [],
   "source": [
    "data = data[~(data[\"registration_year\"] < 1950) & ~(data[\"registration_year\"] > 2016)]"
   ]
  },
  {
   "cell_type": "markdown",
   "metadata": {},
   "source": [
    "#### Changing columns data type\n",
    "\n",
    "To correctly process the remaining information let's change our columns with dates to a datetime format."
   ]
  },
  {
   "cell_type": "code",
   "execution_count": 14,
   "metadata": {},
   "outputs": [],
   "source": [
    "data['date_crawled'] = pd.to_datetime(data['date_crawled'], format=\"%d/%m/%Y %H:%M\")\n",
    "data['date_created'] = pd.to_datetime(data['date_created'], format=\"%d/%m/%Y %H:%M\")\n",
    "data['last_seen'] = pd.to_datetime(data['last_seen'], format=\"%d/%m/%Y %H:%M\")"
   ]
  },
  {
   "cell_type": "markdown",
   "metadata": {},
   "source": [
    "#### Dropping rows with a registration date after 04/2016\n",
    "\n",
    "We can see our latest crawled date on the dataset is from April 7th, 2016, meaning there is no sense on have a registration date after that date. Let's proceed to drop all rows with a month higher than April for the registration year 2016."
   ]
  },
  {
   "cell_type": "code",
   "execution_count": 15,
   "metadata": {},
   "outputs": [
    {
     "data": {
      "text/plain": [
       "Timestamp('2016-04-07 00:00:00')"
      ]
     },
     "execution_count": 15,
     "metadata": {},
     "output_type": "execute_result"
    }
   ],
   "source": [
    "data[\"date_created\"].max()"
   ]
  },
  {
   "cell_type": "code",
   "execution_count": 16,
   "metadata": {},
   "outputs": [
    {
     "data": {
      "text/plain": [
       "Timestamp('2016-04-07 14:36:00')"
      ]
     },
     "execution_count": 16,
     "metadata": {},
     "output_type": "execute_result"
    }
   ],
   "source": [
    "data[\"date_crawled\"].max()"
   ]
  },
  {
   "cell_type": "code",
   "execution_count": 17,
   "metadata": {},
   "outputs": [],
   "source": [
    "data = data[~((data[\"registration_year\"] == 2016) & (data[\"registration_month\"] > 5))]"
   ]
  },
  {
   "cell_type": "markdown",
   "metadata": {},
   "source": [
    "#### Dropping rows with several missing values\n",
    "\n",
    "We have rows with several missing values on them. Let's drop all rows with 5 column with missing values on them."
   ]
  },
  {
   "cell_type": "code",
   "execution_count": 18,
   "metadata": {},
   "outputs": [],
   "source": [
    "data = data[~(data[\"vehicle_type\"].isna() & data[\"gearbox\"].isna() & data[\"model\"].isna() & data[\"not_repaired\"].isna() & data[\"fuel_type\"].isna())]"
   ]
  },
  {
   "cell_type": "markdown",
   "metadata": {},
   "source": [
    "#### Filling missing values\n",
    "\n",
    "To finish the data pro-processing let's fill all missing values on our columns with the legend `not_specified`. We can apply this change because all of our columns with missing values have \"object\" data type."
   ]
  },
  {
   "cell_type": "code",
   "execution_count": 19,
   "metadata": {},
   "outputs": [],
   "source": [
    "data[\"vehicle_type\"].fillna(\"not_specified\", inplace=True)\n",
    "data[\"gearbox\"].fillna(\"not_specified\", inplace=True)\n",
    "data[\"model\"].fillna(\"not_specified\", inplace=True)\n",
    "data[\"fuel_type\"].fillna(\"not_specified\", inplace=True)\n",
    "data[\"not_repaired\"].fillna(\"not_specified\", inplace=True)"
   ]
  },
  {
   "cell_type": "markdown",
   "metadata": {},
   "source": [
    "### Data engineering\n",
    "\n",
    "Sometimes there is need that we generate new information using existing information, this can be for various reasons including:\n",
    "* The new information define better the behavior of the dataset.\n",
    "* Need to transform the existing data to a new format for future processing.\n",
    "* Complement the existing information with new information.\n",
    "\n",
    "In our case, we need to transform the information on columns `date_crawled`, `date_created` & `last_seen` in a way we can use this information to make predictions. To define the price of a vehicle, a date by itself is not as relevant as a difference between dates (this means the lower the difference the less the devaluation of the vehicle in most of the cases). For this reason, let's generate this new column containing this dates difference.\n",
    "\n",
    "#### Generating new `days_since_registration` column\n",
    "\n",
    "Before generating this new column let's define the method to use. The first step is to generate a new column called `registration_date` in which we will combine the information from `registration_year` & `registration_month`."
   ]
  },
  {
   "cell_type": "code",
   "execution_count": 20,
   "metadata": {},
   "outputs": [],
   "source": [
    "data[\"registration_date\"] = pd.to_datetime(dict(year=data['registration_year'], month=data['registration_month'], day=1))\n",
    "data.drop(['registration_year', 'registration_month'], axis=1, inplace=True)"
   ]
  },
  {
   "cell_type": "markdown",
   "metadata": {},
   "source": [
    "Then we need to define the date we will be comparing the `registration_date` column values. We have 3 options:\n",
    "* date_crawled: date in which the profile was downloaded from database\n",
    "* date_created: date in which the profile was created\n",
    "* last_seen: last date the user was active\n",
    "\n",
    "We will be using `date_crawled` to generate the difference as following, then drop all unnecessary columns."
   ]
  },
  {
   "cell_type": "code",
   "execution_count": 21,
   "metadata": {},
   "outputs": [],
   "source": [
    "data[\"days_since_registration\"] = (data[\"date_crawled\"] - data[\"registration_date\"]).dt.days\n",
    "data.drop([\"date_crawled\", \"date_created\", \"registration_date\", \"last_seen\"], axis=1, inplace=True)"
   ]
  },
  {
   "cell_type": "markdown",
   "metadata": {},
   "source": [
    "#### Changing categorical columns to categorical data type\n",
    "\n",
    "To make possible the use of more sophisticated machine learning algorithms we will change the data type of all object data type columns to categorical data type. Then, reset index to fit new number of rows."
   ]
  },
  {
   "cell_type": "code",
   "execution_count": 22,
   "metadata": {},
   "outputs": [],
   "source": [
    "for column in data.columns:\n",
    "    if data[column].dtype == \"object\":\n",
    "        data[column] = data[column].astype(\"category\")\n",
    "\n",
    "data.reset_index(drop=True, inplace=True)"
   ]
  },
  {
   "cell_type": "markdown",
   "metadata": {},
   "source": [
    "### Checking the data\n",
    "\n",
    "Once finishing with our pre-processing and data engineering, check on our resultant information to verify all information is correctly shown."
   ]
  },
  {
   "cell_type": "code",
   "execution_count": 23,
   "metadata": {},
   "outputs": [
    {
     "name": "stdout",
     "output_type": "stream",
     "text": [
      "<class 'pandas.core.frame.DataFrame'>\n",
      "RangeIndex: 279993 entries, 0 to 279992\n",
      "Data columns (total 10 columns):\n",
      " #   Column                   Non-Null Count   Dtype   \n",
      "---  ------                   --------------   -----   \n",
      " 0   price                    279993 non-null  int64   \n",
      " 1   vehicle_type             279993 non-null  category\n",
      " 2   gearbox                  279993 non-null  category\n",
      " 3   power                    279993 non-null  int64   \n",
      " 4   model                    279993 non-null  category\n",
      " 5   mileage                  279993 non-null  int64   \n",
      " 6   fuel_type                279993 non-null  category\n",
      " 7   brand                    279993 non-null  category\n",
      " 8   not_repaired             279993 non-null  category\n",
      " 9   days_since_registration  279993 non-null  int64   \n",
      "dtypes: category(6), int64(4)\n",
      "memory usage: 10.4 MB\n"
     ]
    }
   ],
   "source": [
    "data.info()"
   ]
  },
  {
   "cell_type": "code",
   "execution_count": 24,
   "metadata": {},
   "outputs": [
    {
     "data": {
      "text/html": [
       "<div>\n",
       "<style scoped>\n",
       "    .dataframe tbody tr th:only-of-type {\n",
       "        vertical-align: middle;\n",
       "    }\n",
       "\n",
       "    .dataframe tbody tr th {\n",
       "        vertical-align: top;\n",
       "    }\n",
       "\n",
       "    .dataframe thead th {\n",
       "        text-align: right;\n",
       "    }\n",
       "</style>\n",
       "<table border=\"1\" class=\"dataframe\">\n",
       "  <thead>\n",
       "    <tr style=\"text-align: right;\">\n",
       "      <th></th>\n",
       "      <th>price</th>\n",
       "      <th>vehicle_type</th>\n",
       "      <th>gearbox</th>\n",
       "      <th>power</th>\n",
       "      <th>model</th>\n",
       "      <th>mileage</th>\n",
       "      <th>fuel_type</th>\n",
       "      <th>brand</th>\n",
       "      <th>not_repaired</th>\n",
       "      <th>days_since_registration</th>\n",
       "    </tr>\n",
       "  </thead>\n",
       "  <tbody>\n",
       "    <tr>\n",
       "      <th>78828</th>\n",
       "      <td>9999</td>\n",
       "      <td>convertible</td>\n",
       "      <td>manual</td>\n",
       "      <td>163</td>\n",
       "      <td>a4</td>\n",
       "      <td>150000</td>\n",
       "      <td>petrol</td>\n",
       "      <td>audi</td>\n",
       "      <td>not_specified</td>\n",
       "      <td>3525</td>\n",
       "    </tr>\n",
       "    <tr>\n",
       "      <th>133916</th>\n",
       "      <td>2200</td>\n",
       "      <td>sedan</td>\n",
       "      <td>manual</td>\n",
       "      <td>75</td>\n",
       "      <td>golf</td>\n",
       "      <td>150000</td>\n",
       "      <td>petrol</td>\n",
       "      <td>volkswagen</td>\n",
       "      <td>no</td>\n",
       "      <td>5027</td>\n",
       "    </tr>\n",
       "    <tr>\n",
       "      <th>158014</th>\n",
       "      <td>10500</td>\n",
       "      <td>small</td>\n",
       "      <td>manual</td>\n",
       "      <td>174</td>\n",
       "      <td>cooper</td>\n",
       "      <td>125000</td>\n",
       "      <td>petrol</td>\n",
       "      <td>mini</td>\n",
       "      <td>no</td>\n",
       "      <td>2253</td>\n",
       "    </tr>\n",
       "    <tr>\n",
       "      <th>243224</th>\n",
       "      <td>1550</td>\n",
       "      <td>small</td>\n",
       "      <td>manual</td>\n",
       "      <td>50</td>\n",
       "      <td>lupo</td>\n",
       "      <td>100000</td>\n",
       "      <td>petrol</td>\n",
       "      <td>volkswagen</td>\n",
       "      <td>no</td>\n",
       "      <td>5724</td>\n",
       "    </tr>\n",
       "    <tr>\n",
       "      <th>208365</th>\n",
       "      <td>1350</td>\n",
       "      <td>small</td>\n",
       "      <td>manual</td>\n",
       "      <td>75</td>\n",
       "      <td>2_reihe</td>\n",
       "      <td>150000</td>\n",
       "      <td>petrol</td>\n",
       "      <td>peugeot</td>\n",
       "      <td>no</td>\n",
       "      <td>5517</td>\n",
       "    </tr>\n",
       "  </tbody>\n",
       "</table>\n",
       "</div>"
      ],
      "text/plain": [
       "        price vehicle_type gearbox  power    model  mileage fuel_type  \\\n",
       "78828    9999  convertible  manual    163       a4   150000    petrol   \n",
       "133916   2200        sedan  manual     75     golf   150000    petrol   \n",
       "158014  10500        small  manual    174   cooper   125000    petrol   \n",
       "243224   1550        small  manual     50     lupo   100000    petrol   \n",
       "208365   1350        small  manual     75  2_reihe   150000    petrol   \n",
       "\n",
       "             brand   not_repaired  days_since_registration  \n",
       "78828         audi  not_specified                     3525  \n",
       "133916  volkswagen             no                     5027  \n",
       "158014        mini             no                     2253  \n",
       "243224  volkswagen             no                     5724  \n",
       "208365     peugeot             no                     5517  "
      ]
     },
     "execution_count": 24,
     "metadata": {},
     "output_type": "execute_result"
    }
   ],
   "source": [
    "data.sample(5)"
   ]
  },
  {
   "cell_type": "markdown",
   "metadata": {},
   "source": [
    "### Conclusions\n",
    "\n",
    "We need to look carefully and understand the information we have to look up for:\n",
    "* Missing information\n",
    "* Discrepancies\n",
    "* Incorrect data types\n",
    "* Odd values on the columns\n",
    "* Unnecessary information\n",
    "\n",
    "By doing this we can apply an addecuate pre-processing and assure the following:\n",
    "* Working with the best data possible\n",
    "* Discard input data errors\n",
    "* Generate new information if needed\n",
    "* Process the information the best way possible for future steps"
   ]
  },
  {
   "cell_type": "markdown",
   "metadata": {},
   "source": [
    "## Model training\n",
    "\n",
    "Our next step is continue to modeling various machine learning algorithms and test their accuracy and processing time one to another. This will give us a better insight about the capabilities and limits of each algorithm. This will be done this way:\n",
    "* Sanity test\n",
    "    * Linear Regression\n",
    "* Predictive models\n",
    "    * Random Forest Regressor\n",
    "    * LightGBM\n",
    "    * XGBoost\n",
    "    * CatBoost\n",
    "    \n",
    "The loss function for the gradient boost models will be RMSE.\n",
    "\n",
    "### Defining features and target\n",
    "\n",
    "Let's define which columns of our dataset will be our features and which columns will be our targets. For this case will be as following:\n",
    "* Features\n",
    "    * vehicle_type\n",
    "    * gearbox\n",
    "    * power\n",
    "    * model\n",
    "    * mileage\n",
    "    * fuel_type\n",
    "    * brand\n",
    "    * not_repaired\n",
    "    * days_since_registration\n",
    "* Target\n",
    "    * price\n",
    "    \n",
    "Let's save this information on the following variables:\n",
    "* Features: `X`\n",
    "* Target: `y`"
   ]
  },
  {
   "cell_type": "code",
   "execution_count": 25,
   "metadata": {},
   "outputs": [],
   "source": [
    "X = data.drop(['price'], axis=1)\n",
    "y = data['price']"
   ]
  },
  {
   "cell_type": "markdown",
   "metadata": {},
   "source": [
    "Now we need to generate 2 lists with the column names for numeric variables and categorical variables."
   ]
  },
  {
   "cell_type": "code",
   "execution_count": 26,
   "metadata": {},
   "outputs": [],
   "source": [
    "numerics = X.select_dtypes(include=['int64']).columns\n",
    "categorical = X.select_dtypes(include=['category']).columns"
   ]
  },
  {
   "cell_type": "markdown",
   "metadata": {},
   "source": [
    "The last step if this point is standarize the numeric values of our features."
   ]
  },
  {
   "cell_type": "code",
   "execution_count": 27,
   "metadata": {},
   "outputs": [],
   "source": [
    "scaler = StandardScaler()\n",
    "X[numerics] = scaler.fit_transform(X[numerics])"
   ]
  },
  {
   "cell_type": "code",
   "execution_count": 28,
   "metadata": {},
   "outputs": [],
   "source": [
    "del data"
   ]
  },
  {
   "cell_type": "markdown",
   "metadata": {},
   "source": [
    "### Sanity test - Linear Regression\n",
    "\n",
    "We will be using the Linear Regression model from Scikit-Learn module to apply a sanity test. Most of times Linear Regression model is not enough to get the best results, but it can be used as a reference point in which we can compare it to other models and test their accuracy.\n",
    "\n",
    "To make this possible we need to apply an OHE encoding on all our categorical columns as following:"
   ]
  },
  {
   "cell_type": "code",
   "execution_count": 29,
   "metadata": {
    "scrolled": false
   },
   "outputs": [],
   "source": [
    "X_lr = pd.get_dummies(X, drop_first=True)"
   ]
  },
  {
   "cell_type": "markdown",
   "metadata": {},
   "source": [
    "Then we split our features and target on a relation 70/30 for training/test sets:"
   ]
  },
  {
   "cell_type": "code",
   "execution_count": 30,
   "metadata": {},
   "outputs": [],
   "source": [
    "X_train, X_test, y_train, y_test = tts(X_lr, y, test_size=0.3, random_state=0)"
   ]
  },
  {
   "cell_type": "markdown",
   "metadata": {},
   "source": [
    "Now we proceed to train our model and save the training processing time:"
   ]
  },
  {
   "cell_type": "code",
   "execution_count": 31,
   "metadata": {},
   "outputs": [],
   "source": [
    "model_lr = LinearRegression()\n",
    "start_train = datetime.now()\n",
    "model_lr.fit(X_train, y_train)\n",
    "stop_train = datetime.now()\n",
    "train_time = stop_train - start_train"
   ]
  },
  {
   "cell_type": "markdown",
   "metadata": {},
   "source": [
    "Then we predict new target values and evaluate the prediction processing time:"
   ]
  },
  {
   "cell_type": "code",
   "execution_count": 32,
   "metadata": {},
   "outputs": [],
   "source": [
    "start_pred = datetime.now()\n",
    "y_pred = model_lr.predict(X_test)\n",
    "stop_pred = datetime.now()\n",
    "pred_time = stop_pred - start_pred"
   ]
  },
  {
   "cell_type": "markdown",
   "metadata": {},
   "source": [
    "Lastly, we obtain the RMSE score, $R^{2}$ score and execution times."
   ]
  },
  {
   "cell_type": "code",
   "execution_count": 33,
   "metadata": {},
   "outputs": [
    {
     "name": "stdout",
     "output_type": "stream",
     "text": [
      "RMSE: 2771.599205048633.\n",
      "R2: 0.6380002498673689.\n",
      "Training time: 0:00:15.636077.\n",
      "Prediction time: 0:00:00.184401.\n"
     ]
    }
   ],
   "source": [
    "rmse = mse(y_test, y_pred, squared=False)\n",
    "r2 = r2_score(y_test, y_pred)\n",
    "\n",
    "print(f\"RMSE: {rmse}.\")\n",
    "print(f\"R2: {r2}.\")\n",
    "print(f\"Training time: {train_time}.\")\n",
    "print(f\"Prediction time: {pred_time}.\")"
   ]
  },
  {
   "cell_type": "markdown",
   "metadata": {},
   "source": [
    "We can see the $R^{2}$ score is not as high as we wanted, but is a good reference point for future models comparison."
   ]
  },
  {
   "cell_type": "code",
   "execution_count": 34,
   "metadata": {},
   "outputs": [],
   "source": [
    "del X_lr, model_lr"
   ]
  },
  {
   "cell_type": "markdown",
   "metadata": {},
   "source": [
    "### Random Forest Regressor\n",
    "\n",
    "The first model we will be evaluating is the Random Forest Regressor. This machine learning model is not as sophisticated as others and is probable to have overfitting in the model, but commonly have higher $R^{2}$ scores due to its robust tree ensemble.\n",
    "\n",
    "The categorical features will be encoded using the Ordinal Encoder for the information to be read the ebst way possible for the model."
   ]
  },
  {
   "cell_type": "code",
   "execution_count": 35,
   "metadata": {},
   "outputs": [],
   "source": [
    "encoder = OrdinalEncoder()\n",
    "X_rfr = encoder.fit_transform(X)"
   ]
  },
  {
   "cell_type": "markdown",
   "metadata": {},
   "source": [
    "Splitting our features and target in the same relation 70/30:"
   ]
  },
  {
   "cell_type": "code",
   "execution_count": 36,
   "metadata": {},
   "outputs": [],
   "source": [
    "X_train, X_test, y_train, y_test = tts(X_rfr, y, test_size=0.3, random_state=0)"
   ]
  },
  {
   "cell_type": "markdown",
   "metadata": {},
   "source": [
    "Training model and getting training processing time:"
   ]
  },
  {
   "cell_type": "code",
   "execution_count": 37,
   "metadata": {},
   "outputs": [],
   "source": [
    "model_rfr = RandomForestRegressor(n_estimators=100, random_state=0)\n",
    "start_train = datetime.now()\n",
    "model_rfr.fit(X_train, y_train)\n",
    "stop_train = datetime.now()\n",
    "train_time = stop_train - start_train"
   ]
  },
  {
   "cell_type": "markdown",
   "metadata": {},
   "source": [
    "Obtaining predictions and getting prediction processing time:"
   ]
  },
  {
   "cell_type": "code",
   "execution_count": 38,
   "metadata": {},
   "outputs": [],
   "source": [
    "start_pred = datetime.now()\n",
    "y_pred = model_rfr.predict(X_test)\n",
    "stop_pred = datetime.now()\n",
    "pred_time = stop_pred - start_pred"
   ]
  },
  {
   "cell_type": "markdown",
   "metadata": {},
   "source": [
    "Printing the RMSE score, $R^{2}$ score and execution times."
   ]
  },
  {
   "cell_type": "code",
   "execution_count": 39,
   "metadata": {
    "scrolled": false
   },
   "outputs": [
    {
     "name": "stdout",
     "output_type": "stream",
     "text": [
      "RMSE: 1599.9493884269632.\n",
      "R2: 0.8793687288992978.\n",
      "Training time: 0:01:38.786309.\n",
      "Prediction time: 0:00:04.220232.\n"
     ]
    }
   ],
   "source": [
    "rmse = mse(y_test, y_pred, squared=False)\n",
    "r2 = r2_score(y_test, y_pred)\n",
    "\n",
    "print(f\"RMSE: {rmse}.\")\n",
    "print(f\"R2: {r2}.\")\n",
    "print(f\"Training time: {train_time}.\")\n",
    "print(f\"Prediction time: {pred_time}.\")"
   ]
  },
  {
   "cell_type": "markdown",
   "metadata": {},
   "source": [
    "We can see the $R^{2}$ score is higher compared to the Linear Regression model, but the training and prediction times have increased also. This may indicate there would be better model options."
   ]
  },
  {
   "cell_type": "code",
   "execution_count": 40,
   "metadata": {},
   "outputs": [],
   "source": [
    "del X_rfr, model_rfr"
   ]
  },
  {
   "attachments": {
    "image.png": {
     "image/png": "[encoded data removed]"
    }
   },
   "cell_type": "markdown",
   "metadata": {},
   "source": [
    "### LightGBM\n",
    "\n",
    "LightGBM is a gradient boosting framework that uses tree based learning algorithms that grows trees leaf-wise, this means it will choose the leaf with max delta loss to grow.\n",
    "\n",
    "![image.png](attachment:image.png)\n",
    "\n",
    "To work with this model we are going to split our features and target in a relation 70/30 for train/test sets (this sets will also be used for XGBoost and CatBoost)."
   ]
  },
  {
   "cell_type": "code",
   "execution_count": 41,
   "metadata": {},
   "outputs": [],
   "source": [
    "X_train, X_test, y_train, y_test = tts(X, y, test_size=0.3, random_state=0)"
   ]
  },
  {
   "cell_type": "markdown",
   "metadata": {},
   "source": [
    "LightGBM needs us to define our train set using the method `Dataset`, in which we introduce our train set and define which columns are wanted to be processed as categorical features."
   ]
  },
  {
   "cell_type": "code",
   "execution_count": 42,
   "metadata": {},
   "outputs": [],
   "source": [
    "lgb_train = lgb.Dataset(X_train, label=y_train, categorical_feature=list(categorical))"
   ]
  },
  {
   "cell_type": "markdown",
   "metadata": {},
   "source": [
    "LightGBM also needs to define a dictionary containing the parameters for its configuration. For our case the three most important parameters are:\n",
    "* `boosting`: Defined as `'gbdt'` to apply the Gradient Boosting Decision Tree algorithm.\n",
    "* `objective`: Defined as `'regression'` to apply a regresion algorithm.\n",
    "* `metric`: Defined as `'rmse'` to evaluate the rmse value on the modeling.\n",
    "\n",
    "Remaining parameters can be configured as needed."
   ]
  },
  {
   "cell_type": "code",
   "execution_count": 43,
   "metadata": {},
   "outputs": [],
   "source": [
    "lgbm_params = {'learning_rate': 0.05, \n",
    "               'boosting': 'gbdt',\n",
    "               'objective': 'regression',\n",
    "               'metric': 'rmse',\n",
    "               'num_leaves': 100,\n",
    "               'max_depth': 10,\n",
    "               'seed': 0}"
   ]
  },
  {
   "cell_type": "markdown",
   "metadata": {},
   "source": [
    "Training model using training set and parameters and getting training processing time:"
   ]
  },
  {
   "cell_type": "code",
   "execution_count": 44,
   "metadata": {
    "scrolled": true
   },
   "outputs": [
    {
     "name": "stderr",
     "output_type": "stream",
     "text": [
      "/opt/conda/envs/python3/lib/python3.9/site-packages/lightgbm/basic.py:2065: UserWarning: Using categorical_feature in Dataset.\n",
      "  _log_warning('Using categorical_feature in Dataset.')\n"
     ]
    },
    {
     "name": "stdout",
     "output_type": "stream",
     "text": [
      "[LightGBM] [Warning] Auto-choosing row-wise multi-threading, the overhead of testing was 0.081752 seconds.\n",
      "You can set `force_row_wise=true` to remove the overhead.\n",
      "And if memory is not enough, you can set `force_col_wise=true`.\n",
      "[LightGBM] [Info] Total Bins 835\n",
      "[LightGBM] [Info] Number of data points in the train set: 195995, number of used features: 9\n",
      "[LightGBM] [Info] Start training from score 5141.141080\n"
     ]
    }
   ],
   "source": [
    "start_train = datetime.now()\n",
    "model_lgbm = lgb.train(lgbm_params, lgb_train, 50)\n",
    "stop_train = datetime.now()\n",
    "train_time = stop_train - start_train"
   ]
  },
  {
   "cell_type": "markdown",
   "metadata": {},
   "source": [
    "Obtaining predictions and getting prediction processing time:"
   ]
  },
  {
   "cell_type": "code",
   "execution_count": 45,
   "metadata": {},
   "outputs": [],
   "source": [
    "start_pred = datetime.now()\n",
    "y_pred = model_lgbm.predict(X_test)\n",
    "stop_pred = datetime.now()\n",
    "pred_time = stop_pred - start_pred"
   ]
  },
  {
   "cell_type": "markdown",
   "metadata": {},
   "source": [
    "Printing the RMSE score, $R^{2}$ score and execution times."
   ]
  },
  {
   "cell_type": "code",
   "execution_count": 46,
   "metadata": {
    "scrolled": true
   },
   "outputs": [
    {
     "name": "stdout",
     "output_type": "stream",
     "text": [
      "RMSE: 1741.6752406358337.\n",
      "R2: 0.8570507863712131.\n",
      "Training time: 0:00:03.503523.\n",
      "Prediction time: 0:00:00.692402.\n"
     ]
    }
   ],
   "source": [
    "rmse = mse(y_test, y_pred, squared=False)\n",
    "r2 = r2_score(y_test, y_pred)\n",
    "\n",
    "print(f\"RMSE: {rmse}.\")\n",
    "print(f\"R2: {r2}.\")\n",
    "print(f\"Training time: {train_time}.\")\n",
    "print(f\"Prediction time: {pred_time}.\")"
   ]
  },
  {
   "cell_type": "markdown",
   "metadata": {},
   "source": [
    "We can see that using LightGBM we can obtain results quite similar to the ones obtained by the Random Forest Regressor in less time (and by a lot). This is obtained due to the gradient boosting method, but the use of this model shall be considered before hand."
   ]
  },
  {
   "cell_type": "code",
   "execution_count": 47,
   "metadata": {},
   "outputs": [],
   "source": [
    "del lgb_train, lgbm_params, model_lgbm"
   ]
  },
  {
   "attachments": {
    "image.png": {
     "image/png": "[encoded data removed]"
    }
   },
   "cell_type": "markdown",
   "metadata": {},
   "source": [
    "### XGBoost\n",
    "\n",
    "XGBoost stands for “Extreme Gradient Boosting” and the model choice slected is the `decision tree ensembles`. The tree ensemble model consists of a set of classification and regression trees (CART) which sums the prediction of multiple trees together.\n",
    "\n",
    "![image.png](attachment:image.png)\n",
    "\n",
    "Similar to LightGBM, XGBoost also needs to save the training set using the method `DMatrix`, and also needs us to specify the use of categorical features by parameter `enable_categorical`. This parameter started  to appear since version 1.5 of this library."
   ]
  },
  {
   "cell_type": "code",
   "execution_count": 48,
   "metadata": {},
   "outputs": [],
   "source": [
    "xgb_train = xgb.DMatrix(X_train, label=y_train, enable_categorical=True)"
   ]
  },
  {
   "cell_type": "markdown",
   "metadata": {},
   "source": [
    "As well as in LightGBM, XGBoost needs a dictionary in which save the parameters to be used in the model. The principal parameters for our case are:\n",
    "* `objective`: Configured as \"reg:squarederror\" to set a regression with squared loss.\n",
    "* `eval_metric`: Configured as \"rmse\" to apply a RMSE metric to the training and prediction.\n",
    "\n",
    "The remaining parameters can be configured as needed."
   ]
  },
  {
   "cell_type": "code",
   "execution_count": 49,
   "metadata": {},
   "outputs": [],
   "source": [
    "xgb_params = {'max_depth': 10,\n",
    "              'objective': 'reg:squarederror',\n",
    "              'eval_metric': 'rmse',\n",
    "              'learning_rate': 0.05,\n",
    "              'seed': 0}"
   ]
  },
  {
   "cell_type": "markdown",
   "metadata": {},
   "source": [
    "Training model using training set and parameters and getting training processing time:"
   ]
  },
  {
   "cell_type": "code",
   "execution_count": 50,
   "metadata": {},
   "outputs": [],
   "source": [
    "start_train = datetime.now()\n",
    "model_xgbm = xgb.train(xgb_params, xgb_train, 50)\n",
    "stop_train = datetime.now()\n",
    "train_time = stop_train - start_train"
   ]
  },
  {
   "cell_type": "markdown",
   "metadata": {},
   "source": [
    "Obtaining predictions (using a features test set the same way as the training set) and getting prediction processing time:"
   ]
  },
  {
   "cell_type": "code",
   "execution_count": 51,
   "metadata": {},
   "outputs": [],
   "source": [
    "start_pred = datetime.now()\n",
    "xgb_test = xgb.DMatrix(X_test, enable_categorical=True)\n",
    "y_pred = model_xgbm.predict(xgb_test)\n",
    "stop_pred = datetime.now()\n",
    "pred_time = stop_pred - start_pred"
   ]
  },
  {
   "cell_type": "markdown",
   "metadata": {},
   "source": [
    "Printing the RMSE score, $R^{2}$ score and execution times."
   ]
  },
  {
   "cell_type": "code",
   "execution_count": 52,
   "metadata": {},
   "outputs": [
    {
     "name": "stdout",
     "output_type": "stream",
     "text": [
      "RMSE: 1775.7706566554084.\n",
      "R2: 0.8513991939424169.\n",
      "Training time: 0:00:30.062509.\n",
      "Prediction time: 0:00:00.418159.\n"
     ]
    }
   ],
   "source": [
    "rmse = mse(y_test, y_pred, squared=False)\n",
    "r2 = r2_score(y_test, y_pred)\n",
    "\n",
    "print(f\"RMSE: {rmse}.\")\n",
    "print(f\"R2: {r2}.\")\n",
    "print(f\"Training time: {train_time}.\")\n",
    "print(f\"Prediction time: {pred_time}.\")"
   ]
  },
  {
   "cell_type": "markdown",
   "metadata": {},
   "source": [
    "This model can obtain results as good as the ones in the Random Forest Regressor model in a reduced time compared to the Random Forest model. In this particular configuration the RMSE and $R^{2}$ scores lower than the scores on LightGBM model, but this probably can be fixed with a better configuration."
   ]
  },
  {
   "cell_type": "code",
   "execution_count": 53,
   "metadata": {},
   "outputs": [],
   "source": [
    "del xgb_train, xgb_params, model_xgbm, xgb_test"
   ]
  },
  {
   "cell_type": "markdown",
   "metadata": {},
   "source": [
    "### CatBoost\n",
    "\n",
    "CatBoost is a model based on gradient boosted decision trees. During training, a set of decision trees is built consecutively. Each successive tree is built with reduced loss compared to the previous trees.\n",
    "\n",
    "To make this possible we use the CatBoostRegressor model and configure it with the `loss_function` parameter as \"RMSE\"."
   ]
  },
  {
   "cell_type": "code",
   "execution_count": 54,
   "metadata": {},
   "outputs": [],
   "source": [
    "model_cat = CatBoostRegressor(iterations=100, learning_rate=0.1, loss_function=\"RMSE\", random_seed=0)"
   ]
  },
  {
   "cell_type": "markdown",
   "metadata": {},
   "source": [
    "We train the model using the training set, in which we can define the columns that shall be processed as categorical features and the progress information output from the training at the same time we get the training processing time."
   ]
  },
  {
   "cell_type": "code",
   "execution_count": 55,
   "metadata": {},
   "outputs": [
    {
     "name": "stdout",
     "output_type": "stream",
     "text": [
      "0:\tlearn: 4308.5440848\ttotal: 243ms\tremaining: 24s\n",
      "10:\tlearn: 2714.0420062\ttotal: 1.99s\tremaining: 16.1s\n",
      "20:\tlearn: 2203.7169399\ttotal: 3.69s\tremaining: 13.9s\n",
      "30:\tlearn: 2011.9697959\ttotal: 5.38s\tremaining: 12s\n",
      "40:\tlearn: 1935.1327813\ttotal: 7.07s\tremaining: 10.2s\n",
      "50:\tlearn: 1891.7245930\ttotal: 8.77s\tremaining: 8.42s\n",
      "60:\tlearn: 1860.6949227\ttotal: 10.4s\tremaining: 6.68s\n",
      "70:\tlearn: 1836.4251200\ttotal: 12.1s\tremaining: 4.95s\n",
      "80:\tlearn: 1820.1376024\ttotal: 13.8s\tremaining: 3.23s\n",
      "90:\tlearn: 1802.8743513\ttotal: 15.5s\tremaining: 1.53s\n",
      "99:\tlearn: 1784.7645613\ttotal: 17.1s\tremaining: 0us\n"
     ]
    }
   ],
   "source": [
    "start_train = datetime.now()\n",
    "model_cat.fit(X_train, y_train, cat_features=list(categorical), verbose=10)\n",
    "stop_train = datetime.now()\n",
    "train_time = stop_train - start_train"
   ]
  },
  {
   "cell_type": "markdown",
   "metadata": {},
   "source": [
    "Obtaining predictions and getting prediction processing time:"
   ]
  },
  {
   "cell_type": "code",
   "execution_count": 56,
   "metadata": {},
   "outputs": [],
   "source": [
    "start_pred = datetime.now()\n",
    "y_pred = model_cat.predict(X_test)\n",
    "stop_pred = datetime.now()\n",
    "pred_time = stop_pred - start_pred"
   ]
  },
  {
   "cell_type": "markdown",
   "metadata": {},
   "source": [
    "Printing the RMSE score, $R^{2}$ score and execution times."
   ]
  },
  {
   "cell_type": "code",
   "execution_count": 57,
   "metadata": {},
   "outputs": [
    {
     "name": "stdout",
     "output_type": "stream",
     "text": [
      "RMSE: 1801.7260221644888.\n",
      "R2: 0.8470234308295754.\n",
      "Training time: 0:00:17.613183.\n",
      "Prediction time: 0:00:00.104664.\n"
     ]
    }
   ],
   "source": [
    "rmse = mse(y_test, y_pred, squared=False)\n",
    "r2 = r2_score(y_test, y_pred)\n",
    "\n",
    "print(f\"RMSE: {rmse}.\")\n",
    "print(f\"R2: {r2}.\")\n",
    "print(f\"Training time: {train_time}.\")\n",
    "print(f\"Prediction time: {pred_time}.\")"
   ]
  },
  {
   "cell_type": "markdown",
   "metadata": {},
   "source": [
    "This model has the lowest RMSE and $R^{2}$ scores among all the tree based models, but has the lowest prediction time with a moderate training time."
   ]
  },
  {
   "cell_type": "code",
   "execution_count": 58,
   "metadata": {},
   "outputs": [],
   "source": [
    "del model_cat"
   ]
  },
  {
   "cell_type": "markdown",
   "metadata": {},
   "source": [
    "### Conclusions\n",
    "\n",
    "From the application of all the previous models, we can obtain the following table with the following values:\n",
    "\n",
    "| --- | Linear Regression | Random Forest Regressor | LightGBM | XGBoost | CatBoost |\n",
    "| -- | --- | --- | --- | --- | --- |\n",
    "| RMSE | 2771.59 | 1599.94 | 1741.67 | 1775.77 | 1801.72 |\n",
    "| $R^{2}$ score | 0.6380 | 0.8793 | 0.8570 | 0.8513 | 0.8470 |\n",
    "| Training time | 15.25 s | 111.61 s | 3.18 s | 30.74 s | 17.37 s |\n",
    "| Prediction time | 00.14 s | 04.28 s | 00.69 s | 0.43 s | 00.1 s |"
   ]
  },
  {
   "cell_type": "markdown",
   "metadata": {},
   "source": [
    "## General conclusions\n",
    "\n",
    "After completing this project, the conclusions are:\n",
    "\n",
    "* When you want to use a machine learning algorithm you shall keep in mind how the algorithm you will use process the information. This will indicate you how you should pre-process the information on the dataset and transform the information as needed.\n",
    "* Depending on your necesities is the algorithm you shall use. All of them have advantages and disadvantages that shall be considered before decide to use them. \n",
    "* Be careful of the processing time of all the models. Most of times, a more robust model require more time on its training and its predictions (as the Random Forest model), but models with lower processing times (as LightGBM) may not be the best option depending the case."
   ]
  }
 ],
 "metadata": {
  "ExecuteTimeLog": [
   {
    "duration": 427,
    "start_time": "2024-07-10T22:23:06.881Z"
   },
   {
    "duration": 780,
    "start_time": "2024-07-10T22:23:33.867Z"
   },
   {
    "duration": 142,
    "start_time": "2024-07-10T22:23:51.619Z"
   },
   {
    "duration": 169,
    "start_time": "2024-07-10T22:24:04.353Z"
   },
   {
    "duration": 141,
    "start_time": "2024-07-10T22:24:09.751Z"
   },
   {
    "duration": 32,
    "start_time": "2024-07-10T22:24:28.811Z"
   },
   {
    "duration": 140,
    "start_time": "2024-07-10T22:25:09.666Z"
   },
   {
    "duration": 4,
    "start_time": "2024-07-10T22:27:23.413Z"
   },
   {
    "duration": 6,
    "start_time": "2024-07-10T22:27:33.896Z"
   },
   {
    "duration": 21,
    "start_time": "2024-07-10T22:28:08.009Z"
   },
   {
    "duration": 50,
    "start_time": "2024-07-10T22:28:31.325Z"
   },
   {
    "duration": 169,
    "start_time": "2024-07-10T22:28:41.508Z"
   },
   {
    "duration": 596,
    "start_time": "2024-07-10T22:30:18.299Z"
   },
   {
    "duration": 8,
    "start_time": "2024-07-10T22:34:22.593Z"
   },
   {
    "duration": 155,
    "start_time": "2024-07-10T22:34:26.782Z"
   },
   {
    "duration": 50,
    "start_time": "2024-07-10T22:37:10.292Z"
   },
   {
    "duration": 133,
    "start_time": "2024-07-10T22:43:05.571Z"
   },
   {
    "duration": 134,
    "start_time": "2024-07-10T22:43:10.178Z"
   },
   {
    "duration": 50,
    "start_time": "2024-07-10T22:43:23.550Z"
   },
   {
    "duration": 53,
    "start_time": "2024-07-10T22:43:44.902Z"
   },
   {
    "duration": 52,
    "start_time": "2024-07-10T22:43:50.702Z"
   },
   {
    "duration": 52,
    "start_time": "2024-07-10T22:44:20.886Z"
   },
   {
    "duration": 59,
    "start_time": "2024-07-10T22:44:23.846Z"
   },
   {
    "duration": 404,
    "start_time": "2024-07-10T22:44:48.918Z"
   },
   {
    "duration": 52,
    "start_time": "2024-07-10T22:44:54.136Z"
   },
   {
    "duration": 53,
    "start_time": "2024-07-10T22:45:55.605Z"
   },
   {
    "duration": 48,
    "start_time": "2024-07-10T22:46:16.607Z"
   },
   {
    "duration": 41,
    "start_time": "2024-07-10T22:46:24.397Z"
   },
   {
    "duration": 58,
    "start_time": "2024-07-10T22:46:39.258Z"
   },
   {
    "duration": 24,
    "start_time": "2024-07-10T22:47:00.137Z"
   },
   {
    "duration": 19,
    "start_time": "2024-07-10T22:47:06.762Z"
   },
   {
    "duration": 68,
    "start_time": "2024-07-10T22:47:10.962Z"
   },
   {
    "duration": 255,
    "start_time": "2024-07-10T22:48:04.523Z"
   },
   {
    "duration": 17,
    "start_time": "2024-07-10T22:49:16.868Z"
   },
   {
    "duration": 232,
    "start_time": "2024-07-10T22:49:38.524Z"
   },
   {
    "duration": 16,
    "start_time": "2024-07-10T22:49:39.396Z"
   },
   {
    "duration": 4432,
    "start_time": "2024-07-10T22:49:52.374Z"
   },
   {
    "duration": 448,
    "start_time": "2024-07-10T22:50:18.986Z"
   },
   {
    "duration": 14,
    "start_time": "2024-07-10T22:50:45.602Z"
   },
   {
    "duration": 482,
    "start_time": "2024-07-10T22:52:06.227Z"
   },
   {
    "duration": 14,
    "start_time": "2024-07-10T22:52:57.273Z"
   },
   {
    "duration": 27,
    "start_time": "2024-07-10T22:56:28.275Z"
   },
   {
    "duration": 29,
    "start_time": "2024-07-10T22:56:36.223Z"
   },
   {
    "duration": 15,
    "start_time": "2024-07-10T22:56:57.037Z"
   },
   {
    "duration": 7,
    "start_time": "2024-07-10T22:59:07.025Z"
   },
   {
    "duration": 27,
    "start_time": "2024-07-10T22:59:17.763Z"
   },
   {
    "duration": 25,
    "start_time": "2024-07-10T23:04:37.625Z"
   },
   {
    "duration": 30,
    "start_time": "2024-07-10T23:04:55.453Z"
   },
   {
    "duration": 26,
    "start_time": "2024-07-10T23:05:16.374Z"
   },
   {
    "duration": 26,
    "start_time": "2024-07-10T23:05:37.671Z"
   },
   {
    "duration": 515,
    "start_time": "2024-07-10T23:11:25.651Z"
   },
   {
    "duration": 433,
    "start_time": "2024-07-10T23:12:05.365Z"
   },
   {
    "duration": 941,
    "start_time": "2024-07-10T23:13:14.136Z"
   },
   {
    "duration": 1000,
    "start_time": "2024-07-10T23:13:49.490Z"
   },
   {
    "duration": 865,
    "start_time": "2024-07-10T23:14:44.075Z"
   },
   {
    "duration": 419,
    "start_time": "2024-07-10T23:15:00.285Z"
   },
   {
    "duration": 1352,
    "start_time": "2024-07-10T23:15:30.863Z"
   },
   {
    "duration": 749,
    "start_time": "2024-07-10T23:15:32.220Z"
   },
   {
    "duration": 148,
    "start_time": "2024-07-10T23:15:32.972Z"
   },
   {
    "duration": 660,
    "start_time": "2024-07-10T23:15:33.136Z"
   },
   {
    "duration": 45,
    "start_time": "2024-07-10T23:15:33.800Z"
   },
   {
    "duration": 904,
    "start_time": "2024-07-10T23:15:33.847Z"
   },
   {
    "duration": 142,
    "start_time": "2024-07-10T23:15:34.754Z"
   },
   {
    "duration": 9,
    "start_time": "2024-07-10T23:15:34.899Z"
   },
   {
    "duration": 46,
    "start_time": "2024-07-10T23:15:34.911Z"
   },
   {
    "duration": 27,
    "start_time": "2024-07-10T23:15:34.960Z"
   },
   {
    "duration": 53,
    "start_time": "2024-07-10T23:15:34.989Z"
   },
   {
    "duration": 28,
    "start_time": "2024-07-10T23:15:35.045Z"
   },
   {
    "duration": 58,
    "start_time": "2024-07-10T23:15:35.076Z"
   },
   {
    "duration": 239,
    "start_time": "2024-07-10T23:15:35.140Z"
   },
   {
    "duration": 1179,
    "start_time": "2024-07-10T23:15:35.382Z"
   },
   {
    "duration": 900,
    "start_time": "2024-07-10T23:22:46.411Z"
   },
   {
    "duration": 147,
    "start_time": "2024-07-10T23:22:57.004Z"
   },
   {
    "duration": 7,
    "start_time": "2024-07-10T23:23:00.568Z"
   },
   {
    "duration": 26,
    "start_time": "2024-07-10T23:23:01.947Z"
   },
   {
    "duration": 27,
    "start_time": "2024-07-10T23:23:02.751Z"
   },
   {
    "duration": 28,
    "start_time": "2024-07-10T23:23:03.497Z"
   },
   {
    "duration": 28,
    "start_time": "2024-07-10T23:23:04.684Z"
   },
   {
    "duration": 29,
    "start_time": "2024-07-10T23:23:06.029Z"
   },
   {
    "duration": 225,
    "start_time": "2024-07-10T23:23:06.896Z"
   },
   {
    "duration": 14,
    "start_time": "2024-07-10T23:23:08.834Z"
   },
   {
    "duration": 94,
    "start_time": "2024-07-11T01:23:44.215Z"
   },
   {
    "duration": 136,
    "start_time": "2024-07-11T01:32:10.530Z"
   },
   {
    "duration": 170,
    "start_time": "2024-07-11T01:32:24.935Z"
   },
   {
    "duration": 141,
    "start_time": "2024-07-11T01:32:44.042Z"
   },
   {
    "duration": 189,
    "start_time": "2024-07-11T01:33:03.708Z"
   },
   {
    "duration": 136,
    "start_time": "2024-07-11T01:33:35.167Z"
   },
   {
    "duration": 328,
    "start_time": "2024-07-11T04:04:23.465Z"
   },
   {
    "duration": 35,
    "start_time": "2024-07-11T04:07:23.332Z"
   },
   {
    "duration": 43,
    "start_time": "2024-07-11T04:07:57.511Z"
   },
   {
    "duration": 26,
    "start_time": "2024-07-11T04:09:20.283Z"
   },
   {
    "duration": 4,
    "start_time": "2024-07-11T04:09:23.877Z"
   },
   {
    "duration": 176,
    "start_time": "2024-07-11T04:09:28.745Z"
   },
   {
    "duration": 4,
    "start_time": "2024-07-11T04:11:13.685Z"
   },
   {
    "duration": 3,
    "start_time": "2024-07-11T04:14:38.721Z"
   },
   {
    "duration": 4,
    "start_time": "2024-07-11T04:14:53.955Z"
   },
   {
    "duration": 25,
    "start_time": "2024-07-11T04:17:07.163Z"
   },
   {
    "duration": 7,
    "start_time": "2024-07-11T04:17:35.475Z"
   },
   {
    "duration": 38,
    "start_time": "2024-07-11T04:17:39.561Z"
   },
   {
    "duration": 772,
    "start_time": "2024-07-11T04:17:46.049Z"
   },
   {
    "duration": 14,
    "start_time": "2024-07-12T21:39:45.755Z"
   },
   {
    "duration": 6280,
    "start_time": "2024-07-12T21:41:28.865Z"
   },
   {
    "duration": 942,
    "start_time": "2024-07-12T21:41:35.149Z"
   },
   {
    "duration": 179,
    "start_time": "2024-07-12T21:41:36.093Z"
   },
   {
    "duration": 727,
    "start_time": "2024-07-12T21:41:36.276Z"
   },
   {
    "duration": 43,
    "start_time": "2024-07-12T21:41:37.006Z"
   },
   {
    "duration": 1009,
    "start_time": "2024-07-12T21:41:37.053Z"
   },
   {
    "duration": 178,
    "start_time": "2024-07-12T21:41:38.065Z"
   },
   {
    "duration": 8,
    "start_time": "2024-07-12T21:41:38.245Z"
   },
   {
    "duration": 27,
    "start_time": "2024-07-12T21:41:38.257Z"
   },
   {
    "duration": 56,
    "start_time": "2024-07-12T21:41:38.289Z"
   },
   {
    "duration": 29,
    "start_time": "2024-07-12T21:41:38.348Z"
   },
   {
    "duration": 56,
    "start_time": "2024-07-12T21:41:38.380Z"
   },
   {
    "duration": 28,
    "start_time": "2024-07-12T21:41:38.439Z"
   },
   {
    "duration": 260,
    "start_time": "2024-07-12T21:41:38.470Z"
   },
   {
    "duration": 1256,
    "start_time": "2024-07-12T21:41:38.733Z"
   },
   {
    "duration": 0,
    "start_time": "2024-07-12T21:41:39.992Z"
   },
   {
    "duration": 0,
    "start_time": "2024-07-12T21:41:39.994Z"
   },
   {
    "duration": 0,
    "start_time": "2024-07-12T21:41:39.996Z"
   },
   {
    "duration": 0,
    "start_time": "2024-07-12T21:41:39.998Z"
   },
   {
    "duration": 0,
    "start_time": "2024-07-12T21:41:40.000Z"
   },
   {
    "duration": 14,
    "start_time": "2024-07-12T21:42:00.036Z"
   },
   {
    "duration": 5,
    "start_time": "2024-07-12T21:42:57.173Z"
   },
   {
    "duration": 52,
    "start_time": "2024-07-12T21:43:31.708Z"
   },
   {
    "duration": 216,
    "start_time": "2024-07-12T21:43:32.650Z"
   },
   {
    "duration": 4,
    "start_time": "2024-07-12T21:43:34.363Z"
   },
   {
    "duration": 4,
    "start_time": "2024-07-12T21:43:35.145Z"
   },
   {
    "duration": 881,
    "start_time": "2024-07-12T21:43:39.793Z"
   },
   {
    "duration": 5,
    "start_time": "2024-07-12T21:53:43.478Z"
   },
   {
    "duration": 171,
    "start_time": "2024-07-12T21:53:45.291Z"
   },
   {
    "duration": 9,
    "start_time": "2024-07-12T22:01:54.594Z"
   },
   {
    "duration": 26,
    "start_time": "2024-07-12T22:02:14.720Z"
   },
   {
    "duration": 4,
    "start_time": "2024-07-12T22:02:27.646Z"
   },
   {
    "duration": 4,
    "start_time": "2024-07-12T22:02:30.005Z"
   },
   {
    "duration": 180,
    "start_time": "2024-07-12T22:02:31.132Z"
   },
   {
    "duration": 394,
    "start_time": "2024-07-12T22:15:13.276Z"
   },
   {
    "duration": 687,
    "start_time": "2024-07-13T02:35:19.389Z"
   },
   {
    "duration": 437,
    "start_time": "2024-07-13T02:35:24.682Z"
   },
   {
    "duration": 89,
    "start_time": "2024-07-13T02:37:45.447Z"
   },
   {
    "duration": 1503,
    "start_time": "2024-07-13T02:38:08.369Z"
   },
   {
    "duration": 726,
    "start_time": "2024-07-13T02:38:09.876Z"
   },
   {
    "duration": 145,
    "start_time": "2024-07-13T02:38:10.611Z"
   },
   {
    "duration": 629,
    "start_time": "2024-07-13T02:38:10.760Z"
   },
   {
    "duration": 40,
    "start_time": "2024-07-13T02:38:11.392Z"
   },
   {
    "duration": 2809,
    "start_time": "2024-07-13T02:38:14.564Z"
   },
   {
    "duration": 637,
    "start_time": "2024-07-13T02:38:25.263Z"
   },
   {
    "duration": 8,
    "start_time": "2024-07-13T02:38:27.878Z"
   },
   {
    "duration": 37,
    "start_time": "2024-07-13T02:38:42.632Z"
   },
   {
    "duration": 36,
    "start_time": "2024-07-13T02:38:52.955Z"
   },
   {
    "duration": 8,
    "start_time": "2024-07-13T02:39:19.317Z"
   },
   {
    "duration": 8,
    "start_time": "2024-07-13T02:39:22.794Z"
   },
   {
    "duration": 7,
    "start_time": "2024-07-13T02:39:26.494Z"
   },
   {
    "duration": 30,
    "start_time": "2024-07-13T02:40:51.191Z"
   },
   {
    "duration": 1570,
    "start_time": "2024-07-13T02:41:19.508Z"
   },
   {
    "duration": 714,
    "start_time": "2024-07-13T02:41:21.711Z"
   },
   {
    "duration": 145,
    "start_time": "2024-07-13T02:41:23.251Z"
   },
   {
    "duration": 602,
    "start_time": "2024-07-13T02:41:26.804Z"
   },
   {
    "duration": 29,
    "start_time": "2024-07-13T02:41:29.554Z"
   },
   {
    "duration": 7,
    "start_time": "2024-07-13T02:41:32.816Z"
   },
   {
    "duration": 2818,
    "start_time": "2024-07-13T02:42:13.688Z"
   },
   {
    "duration": 46,
    "start_time": "2024-07-13T02:42:36.918Z"
   },
   {
    "duration": 44,
    "start_time": "2024-07-13T02:43:00.352Z"
   },
   {
    "duration": 43,
    "start_time": "2024-07-13T02:43:07.218Z"
   },
   {
    "duration": 45,
    "start_time": "2024-07-13T02:43:17.623Z"
   },
   {
    "duration": 7,
    "start_time": "2024-07-13T02:48:31.153Z"
   },
   {
    "duration": 52,
    "start_time": "2024-07-13T02:48:36.192Z"
   },
   {
    "duration": 78,
    "start_time": "2024-07-13T02:48:41.824Z"
   },
   {
    "duration": 5,
    "start_time": "2024-07-13T02:49:22.449Z"
   },
   {
    "duration": 65,
    "start_time": "2024-07-13T02:49:26.633Z"
   },
   {
    "duration": 76,
    "start_time": "2024-07-13T02:49:37.429Z"
   },
   {
    "duration": 73,
    "start_time": "2024-07-13T02:49:49.399Z"
   },
   {
    "duration": 55,
    "start_time": "2024-07-13T02:50:06.773Z"
   },
   {
    "duration": 15,
    "start_time": "2024-07-13T02:50:09.730Z"
   },
   {
    "duration": 14,
    "start_time": "2024-07-13T02:50:23.949Z"
   },
   {
    "duration": 9,
    "start_time": "2024-07-13T02:50:29.141Z"
   },
   {
    "duration": 4,
    "start_time": "2024-07-13T02:50:44.414Z"
   },
   {
    "duration": 687,
    "start_time": "2024-07-13T02:50:44.422Z"
   },
   {
    "duration": 148,
    "start_time": "2024-07-13T02:50:45.112Z"
   },
   {
    "duration": 621,
    "start_time": "2024-07-13T02:50:45.263Z"
   },
   {
    "duration": 36,
    "start_time": "2024-07-13T02:50:45.888Z"
   },
   {
    "duration": 7,
    "start_time": "2024-07-13T02:50:45.928Z"
   },
   {
    "duration": 80,
    "start_time": "2024-07-13T02:50:55.263Z"
   },
   {
    "duration": 7,
    "start_time": "2024-07-13T02:50:58.881Z"
   },
   {
    "duration": 9,
    "start_time": "2024-07-13T02:51:09.733Z"
   },
   {
    "duration": 1600,
    "start_time": "2024-07-13T02:51:19.380Z"
   },
   {
    "duration": 728,
    "start_time": "2024-07-13T02:51:20.984Z"
   },
   {
    "duration": 152,
    "start_time": "2024-07-13T02:51:21.715Z"
   },
   {
    "duration": 632,
    "start_time": "2024-07-13T02:51:21.871Z"
   },
   {
    "duration": 40,
    "start_time": "2024-07-13T02:51:22.507Z"
   },
   {
    "duration": 10,
    "start_time": "2024-07-13T02:51:22.550Z"
   },
   {
    "duration": 22,
    "start_time": "2024-07-13T02:51:25.197Z"
   },
   {
    "duration": 7,
    "start_time": "2024-07-13T02:51:29.514Z"
   },
   {
    "duration": 1519,
    "start_time": "2024-07-13T02:51:35.956Z"
   },
   {
    "duration": 740,
    "start_time": "2024-07-13T02:51:37.480Z"
   },
   {
    "duration": 150,
    "start_time": "2024-07-13T02:51:38.223Z"
   },
   {
    "duration": 613,
    "start_time": "2024-07-13T02:51:38.377Z"
   },
   {
    "duration": 37,
    "start_time": "2024-07-13T02:51:38.994Z"
   },
   {
    "duration": 8,
    "start_time": "2024-07-13T02:51:39.035Z"
   },
   {
    "duration": 80,
    "start_time": "2024-07-13T02:51:42.938Z"
   },
   {
    "duration": 135,
    "start_time": "2024-07-13T02:52:06.769Z"
   },
   {
    "duration": 168,
    "start_time": "2024-07-13T02:52:31.466Z"
   },
   {
    "duration": 5,
    "start_time": "2024-07-13T02:53:58.505Z"
   },
   {
    "duration": 7,
    "start_time": "2024-07-13T02:54:26.384Z"
   },
   {
    "duration": 27,
    "start_time": "2024-07-13T02:54:41.944Z"
   },
   {
    "duration": 7,
    "start_time": "2024-07-13T02:54:58.937Z"
   },
   {
    "duration": 6,
    "start_time": "2024-07-13T02:55:16.589Z"
   },
   {
    "duration": 5,
    "start_time": "2024-07-13T02:56:03.569Z"
   },
   {
    "duration": 26,
    "start_time": "2024-07-13T02:56:43.554Z"
   },
   {
    "duration": 2436,
    "start_time": "2024-07-13T02:57:08.218Z"
   },
   {
    "duration": 527,
    "start_time": "2024-07-13T02:57:16.831Z"
   },
   {
    "duration": 80,
    "start_time": "2024-07-13T02:58:01.085Z"
   },
   {
    "duration": 24,
    "start_time": "2024-07-13T02:58:23.075Z"
   },
   {
    "duration": 23,
    "start_time": "2024-07-13T02:58:24.531Z"
   },
   {
    "duration": 25,
    "start_time": "2024-07-13T02:58:25.893Z"
   },
   {
    "duration": 24,
    "start_time": "2024-07-13T02:58:29.622Z"
   },
   {
    "duration": 90,
    "start_time": "2024-07-13T03:03:03.330Z"
   },
   {
    "duration": 5,
    "start_time": "2024-07-13T03:04:58.880Z"
   },
   {
    "duration": 6,
    "start_time": "2024-07-13T03:05:43.712Z"
   },
   {
    "duration": 5,
    "start_time": "2024-07-13T03:06:18.752Z"
   },
   {
    "duration": 5,
    "start_time": "2024-07-17T21:54:36.886Z"
   },
   {
    "duration": 874,
    "start_time": "2024-07-17T21:54:44.816Z"
   },
   {
    "duration": 123,
    "start_time": "2024-07-17T21:55:06.252Z"
   },
   {
    "duration": 621,
    "start_time": "2024-07-17T21:55:16.173Z"
   },
   {
    "duration": 243,
    "start_time": "2024-07-17T21:59:45.118Z"
   },
   {
    "duration": 1423,
    "start_time": "2024-07-18T02:41:13.256Z"
   },
   {
    "duration": 877,
    "start_time": "2024-07-18T02:41:14.683Z"
   },
   {
    "duration": 262,
    "start_time": "2024-07-18T02:41:15.565Z"
   },
   {
    "duration": 140,
    "start_time": "2024-07-18T02:41:15.833Z"
   },
   {
    "duration": 596,
    "start_time": "2024-07-18T02:41:15.977Z"
   },
   {
    "duration": 173,
    "start_time": "2024-07-18T02:41:16.576Z"
   },
   {
    "duration": 11,
    "start_time": "2024-07-18T02:41:16.753Z"
   },
   {
    "duration": 1435,
    "start_time": "2024-07-18T07:05:10.664Z"
   },
   {
    "duration": 856,
    "start_time": "2024-07-18T07:05:12.103Z"
   },
   {
    "duration": 169,
    "start_time": "2024-07-18T07:05:12.964Z"
   },
   {
    "duration": 139,
    "start_time": "2024-07-18T07:05:13.138Z"
   },
   {
    "duration": 565,
    "start_time": "2024-07-18T07:05:13.281Z"
   },
   {
    "duration": 147,
    "start_time": "2024-07-18T07:05:13.850Z"
   },
   {
    "duration": 9,
    "start_time": "2024-07-18T07:05:14.000Z"
   },
   {
    "duration": 49,
    "start_time": "2024-07-18T07:07:06.544Z"
   },
   {
    "duration": 67,
    "start_time": "2024-07-18T07:08:23.654Z"
   },
   {
    "duration": 45,
    "start_time": "2024-07-18T07:09:42.272Z"
   },
   {
    "duration": 45,
    "start_time": "2024-07-18T07:11:05.855Z"
   },
   {
    "duration": 1214,
    "start_time": "2024-07-18T07:12:27.162Z"
   },
   {
    "duration": 39,
    "start_time": "2024-07-18T07:12:40.545Z"
   },
   {
    "duration": 103,
    "start_time": "2024-07-18T07:15:36.884Z"
   },
   {
    "duration": 83,
    "start_time": "2024-07-18T07:17:51.706Z"
   },
   {
    "duration": 2203,
    "start_time": "2024-07-18T07:21:44.206Z"
   },
   {
    "duration": 240,
    "start_time": "2024-07-18T07:22:55.652Z"
   },
   {
    "duration": 42,
    "start_time": "2024-07-18T07:24:27.224Z"
   },
   {
    "duration": 39,
    "start_time": "2024-07-18T07:25:41.125Z"
   },
   {
    "duration": 180,
    "start_time": "2024-07-18T07:26:48.802Z"
   },
   {
    "duration": 29,
    "start_time": "2024-07-18T07:27:26.845Z"
   },
   {
    "duration": 1235,
    "start_time": "2024-07-18T07:28:52.471Z"
   },
   {
    "duration": 726,
    "start_time": "2024-07-18T07:28:53.709Z"
   },
   {
    "duration": 150,
    "start_time": "2024-07-18T07:28:54.438Z"
   },
   {
    "duration": 121,
    "start_time": "2024-07-18T07:28:54.592Z"
   },
   {
    "duration": 563,
    "start_time": "2024-07-18T07:28:54.717Z"
   },
   {
    "duration": 151,
    "start_time": "2024-07-18T07:28:55.283Z"
   },
   {
    "duration": 7,
    "start_time": "2024-07-18T07:28:55.437Z"
   },
   {
    "duration": 482,
    "start_time": "2024-07-18T07:28:55.448Z"
   },
   {
    "duration": 50,
    "start_time": "2024-07-18T07:28:55.933Z"
   },
   {
    "duration": 73,
    "start_time": "2024-07-18T07:28:55.990Z"
   },
   {
    "duration": 64,
    "start_time": "2024-07-18T07:28:56.066Z"
   },
   {
    "duration": 45,
    "start_time": "2024-07-18T07:28:56.133Z"
   },
   {
    "duration": 58,
    "start_time": "2024-07-18T07:28:56.181Z"
   },
   {
    "duration": 108,
    "start_time": "2024-07-18T07:28:56.242Z"
   },
   {
    "duration": 82,
    "start_time": "2024-07-18T07:28:56.353Z"
   },
   {
    "duration": 2193,
    "start_time": "2024-07-18T07:28:56.437Z"
   },
   {
    "duration": 44,
    "start_time": "2024-07-18T07:28:58.633Z"
   },
   {
    "duration": 58,
    "start_time": "2024-07-18T07:28:58.680Z"
   },
   {
    "duration": 189,
    "start_time": "2024-07-18T07:28:58.741Z"
   },
   {
    "duration": 28,
    "start_time": "2024-07-18T07:28:58.933Z"
   },
   {
    "duration": 1207,
    "start_time": "2024-07-18T07:31:13.016Z"
   },
   {
    "duration": 723,
    "start_time": "2024-07-18T07:31:14.230Z"
   },
   {
    "duration": 153,
    "start_time": "2024-07-18T07:31:14.956Z"
   },
   {
    "duration": 124,
    "start_time": "2024-07-18T07:31:15.112Z"
   },
   {
    "duration": 585,
    "start_time": "2024-07-18T07:31:15.240Z"
   },
   {
    "duration": 144,
    "start_time": "2024-07-18T07:31:15.832Z"
   },
   {
    "duration": 8,
    "start_time": "2024-07-18T07:31:15.979Z"
   },
   {
    "duration": 487,
    "start_time": "2024-07-18T07:31:15.990Z"
   },
   {
    "duration": 67,
    "start_time": "2024-07-18T07:31:16.480Z"
   },
   {
    "duration": 49,
    "start_time": "2024-07-18T07:31:16.549Z"
   },
   {
    "duration": 70,
    "start_time": "2024-07-18T07:31:16.601Z"
   },
   {
    "duration": 60,
    "start_time": "2024-07-18T07:31:16.674Z"
   },
   {
    "duration": 51,
    "start_time": "2024-07-18T07:31:16.737Z"
   },
   {
    "duration": 106,
    "start_time": "2024-07-18T07:31:16.794Z"
   },
   {
    "duration": 82,
    "start_time": "2024-07-18T07:31:16.903Z"
   },
   {
    "duration": 2189,
    "start_time": "2024-07-18T07:31:16.987Z"
   },
   {
    "duration": 54,
    "start_time": "2024-07-18T07:31:19.179Z"
   },
   {
    "duration": 39,
    "start_time": "2024-07-18T07:31:19.236Z"
   },
   {
    "duration": 203,
    "start_time": "2024-07-18T07:31:19.278Z"
   },
   {
    "duration": 30,
    "start_time": "2024-07-18T07:31:19.484Z"
   },
   {
    "duration": 26,
    "start_time": "2024-07-18T07:38:30.781Z"
   },
   {
    "duration": 7,
    "start_time": "2024-07-18T07:39:20.765Z"
   },
   {
    "duration": 50,
    "start_time": "2024-07-18T07:39:43.256Z"
   },
   {
    "duration": 5,
    "start_time": "2024-07-18T07:41:25.569Z"
   },
   {
    "duration": 213,
    "start_time": "2024-07-18T07:43:01.193Z"
   },
   {
    "duration": 174,
    "start_time": "2024-07-18T07:43:30.048Z"
   },
   {
    "duration": 51,
    "start_time": "2024-07-18T07:43:31.719Z"
   },
   {
    "duration": 324,
    "start_time": "2024-07-18T07:47:12.157Z"
   },
   {
    "duration": 1416,
    "start_time": "2024-07-18T07:47:23.076Z"
   },
   {
    "duration": 771,
    "start_time": "2024-07-18T07:47:24.496Z"
   },
   {
    "duration": 145,
    "start_time": "2024-07-18T07:47:25.269Z"
   },
   {
    "duration": 134,
    "start_time": "2024-07-18T07:47:25.417Z"
   },
   {
    "duration": 638,
    "start_time": "2024-07-18T07:47:25.554Z"
   },
   {
    "duration": 146,
    "start_time": "2024-07-18T07:47:26.195Z"
   },
   {
    "duration": 7,
    "start_time": "2024-07-18T07:47:26.344Z"
   },
   {
    "duration": 487,
    "start_time": "2024-07-18T07:47:26.355Z"
   },
   {
    "duration": 55,
    "start_time": "2024-07-18T07:47:26.845Z"
   },
   {
    "duration": 80,
    "start_time": "2024-07-18T07:47:26.906Z"
   },
   {
    "duration": 60,
    "start_time": "2024-07-18T07:47:26.990Z"
   },
   {
    "duration": 56,
    "start_time": "2024-07-18T07:47:27.052Z"
   },
   {
    "duration": 72,
    "start_time": "2024-07-18T07:47:27.111Z"
   },
   {
    "duration": 117,
    "start_time": "2024-07-18T07:47:27.185Z"
   },
   {
    "duration": 74,
    "start_time": "2024-07-18T07:47:27.305Z"
   },
   {
    "duration": 2256,
    "start_time": "2024-07-18T07:47:27.383Z"
   },
   {
    "duration": 43,
    "start_time": "2024-07-18T07:47:29.643Z"
   },
   {
    "duration": 60,
    "start_time": "2024-07-18T07:47:29.689Z"
   },
   {
    "duration": 190,
    "start_time": "2024-07-18T07:47:29.752Z"
   },
   {
    "duration": 29,
    "start_time": "2024-07-18T07:47:29.945Z"
   },
   {
    "duration": 26,
    "start_time": "2024-07-18T07:47:29.978Z"
   },
   {
    "duration": 6,
    "start_time": "2024-07-18T07:47:30.031Z"
   },
   {
    "duration": 7,
    "start_time": "2024-07-18T07:47:30.040Z"
   },
   {
    "duration": 195,
    "start_time": "2024-07-18T07:47:30.051Z"
   },
   {
    "duration": 149,
    "start_time": "2024-07-18T07:47:30.250Z"
   },
   {
    "duration": 49,
    "start_time": "2024-07-18T07:47:53.976Z"
   },
   {
    "duration": 323,
    "start_time": "2024-07-18T07:48:26.600Z"
   },
   {
    "duration": 1500,
    "start_time": "2024-07-18T07:48:32.620Z"
   },
   {
    "duration": 760,
    "start_time": "2024-07-18T07:48:34.123Z"
   },
   {
    "duration": 159,
    "start_time": "2024-07-18T07:48:34.886Z"
   },
   {
    "duration": 196,
    "start_time": "2024-07-18T07:48:35.050Z"
   },
   {
    "duration": 589,
    "start_time": "2024-07-18T07:48:35.249Z"
   },
   {
    "duration": 148,
    "start_time": "2024-07-18T07:48:35.840Z"
   },
   {
    "duration": 8,
    "start_time": "2024-07-18T07:48:35.991Z"
   },
   {
    "duration": 469,
    "start_time": "2024-07-18T07:48:36.029Z"
   },
   {
    "duration": 54,
    "start_time": "2024-07-18T07:48:36.500Z"
   },
   {
    "duration": 49,
    "start_time": "2024-07-18T07:48:36.560Z"
   },
   {
    "duration": 60,
    "start_time": "2024-07-18T07:48:36.612Z"
   },
   {
    "duration": 63,
    "start_time": "2024-07-18T07:48:36.678Z"
   },
   {
    "duration": 51,
    "start_time": "2024-07-18T07:48:36.743Z"
   },
   {
    "duration": 110,
    "start_time": "2024-07-18T07:48:36.797Z"
   },
   {
    "duration": 87,
    "start_time": "2024-07-18T07:48:36.910Z"
   },
   {
    "duration": 2198,
    "start_time": "2024-07-18T07:48:37.000Z"
   },
   {
    "duration": 55,
    "start_time": "2024-07-18T07:48:39.200Z"
   },
   {
    "duration": 39,
    "start_time": "2024-07-18T07:48:39.257Z"
   },
   {
    "duration": 200,
    "start_time": "2024-07-18T07:48:39.298Z"
   },
   {
    "duration": 43,
    "start_time": "2024-07-18T07:48:39.503Z"
   },
   {
    "duration": 30,
    "start_time": "2024-07-18T07:48:39.549Z"
   },
   {
    "duration": 7,
    "start_time": "2024-07-18T07:48:39.582Z"
   },
   {
    "duration": 38,
    "start_time": "2024-07-18T07:48:39.592Z"
   },
   {
    "duration": 179,
    "start_time": "2024-07-18T07:48:39.633Z"
   },
   {
    "duration": 56,
    "start_time": "2024-07-18T07:48:39.815Z"
   },
   {
    "duration": 26,
    "start_time": "2024-07-18T07:48:43.380Z"
   },
   {
    "duration": 1447,
    "start_time": "2024-07-18T07:49:44.543Z"
   },
   {
    "duration": 740,
    "start_time": "2024-07-18T07:49:45.994Z"
   },
   {
    "duration": 146,
    "start_time": "2024-07-18T07:49:46.737Z"
   },
   {
    "duration": 125,
    "start_time": "2024-07-18T07:49:46.887Z"
   },
   {
    "duration": 568,
    "start_time": "2024-07-18T07:49:47.015Z"
   },
   {
    "duration": 149,
    "start_time": "2024-07-18T07:49:47.587Z"
   },
   {
    "duration": 7,
    "start_time": "2024-07-18T07:49:47.740Z"
   },
   {
    "duration": 470,
    "start_time": "2024-07-18T07:49:47.751Z"
   },
   {
    "duration": 56,
    "start_time": "2024-07-18T07:49:48.224Z"
   },
   {
    "duration": 65,
    "start_time": "2024-07-18T07:49:48.286Z"
   },
   {
    "duration": 49,
    "start_time": "2024-07-18T07:49:48.353Z"
   },
   {
    "duration": 58,
    "start_time": "2024-07-18T07:49:48.405Z"
   },
   {
    "duration": 66,
    "start_time": "2024-07-18T07:49:48.466Z"
   },
   {
    "duration": 110,
    "start_time": "2024-07-18T07:49:48.534Z"
   },
   {
    "duration": 85,
    "start_time": "2024-07-18T07:49:48.646Z"
   },
   {
    "duration": 2245,
    "start_time": "2024-07-18T07:49:48.734Z"
   },
   {
    "duration": 55,
    "start_time": "2024-07-18T07:49:50.981Z"
   },
   {
    "duration": 39,
    "start_time": "2024-07-18T07:49:51.039Z"
   },
   {
    "duration": 206,
    "start_time": "2024-07-18T07:49:51.080Z"
   },
   {
    "duration": 29,
    "start_time": "2024-07-18T07:49:51.289Z"
   },
   {
    "duration": 28,
    "start_time": "2024-07-18T07:49:51.331Z"
   },
   {
    "duration": 8,
    "start_time": "2024-07-18T07:49:51.362Z"
   },
   {
    "duration": 6,
    "start_time": "2024-07-18T07:49:51.373Z"
   },
   {
    "duration": 327,
    "start_time": "2024-07-18T07:50:47.911Z"
   },
   {
    "duration": 1442,
    "start_time": "2024-07-18T07:50:54.071Z"
   },
   {
    "duration": 783,
    "start_time": "2024-07-18T07:50:55.517Z"
   },
   {
    "duration": 150,
    "start_time": "2024-07-18T07:50:56.303Z"
   },
   {
    "duration": 135,
    "start_time": "2024-07-18T07:50:56.458Z"
   },
   {
    "duration": 617,
    "start_time": "2024-07-18T07:50:56.596Z"
   },
   {
    "duration": 139,
    "start_time": "2024-07-18T07:50:57.216Z"
   },
   {
    "duration": 8,
    "start_time": "2024-07-18T07:50:57.359Z"
   },
   {
    "duration": 511,
    "start_time": "2024-07-18T07:50:57.371Z"
   },
   {
    "duration": 61,
    "start_time": "2024-07-18T07:50:57.884Z"
   },
   {
    "duration": 54,
    "start_time": "2024-07-18T07:50:57.952Z"
   },
   {
    "duration": 59,
    "start_time": "2024-07-18T07:50:58.009Z"
   },
   {
    "duration": 67,
    "start_time": "2024-07-18T07:50:58.071Z"
   },
   {
    "duration": 41,
    "start_time": "2024-07-18T07:50:58.142Z"
   },
   {
    "duration": 111,
    "start_time": "2024-07-18T07:50:58.186Z"
   },
   {
    "duration": 78,
    "start_time": "2024-07-18T07:50:58.300Z"
   },
   {
    "duration": 2250,
    "start_time": "2024-07-18T07:50:58.381Z"
   },
   {
    "duration": 45,
    "start_time": "2024-07-18T07:51:00.634Z"
   },
   {
    "duration": 58,
    "start_time": "2024-07-18T07:51:00.682Z"
   },
   {
    "duration": 188,
    "start_time": "2024-07-18T07:51:00.744Z"
   },
   {
    "duration": 31,
    "start_time": "2024-07-18T07:51:00.934Z"
   },
   {
    "duration": 27,
    "start_time": "2024-07-18T07:51:00.968Z"
   },
   {
    "duration": 34,
    "start_time": "2024-07-18T07:51:00.998Z"
   },
   {
    "duration": 7,
    "start_time": "2024-07-18T07:51:01.035Z"
   },
   {
    "duration": 305,
    "start_time": "2024-07-18T07:53:33.885Z"
   },
   {
    "duration": 1479,
    "start_time": "2024-07-18T07:53:42.632Z"
   },
   {
    "duration": 803,
    "start_time": "2024-07-18T07:53:44.114Z"
   },
   {
    "duration": 160,
    "start_time": "2024-07-18T07:53:44.919Z"
   },
   {
    "duration": 195,
    "start_time": "2024-07-18T07:53:45.085Z"
   },
   {
    "duration": 566,
    "start_time": "2024-07-18T07:53:45.283Z"
   },
   {
    "duration": 150,
    "start_time": "2024-07-18T07:53:45.852Z"
   },
   {
    "duration": 7,
    "start_time": "2024-07-18T07:53:46.005Z"
   },
   {
    "duration": 480,
    "start_time": "2024-07-18T07:53:46.029Z"
   },
   {
    "duration": 55,
    "start_time": "2024-07-18T07:53:46.512Z"
   },
   {
    "duration": 66,
    "start_time": "2024-07-18T07:53:46.575Z"
   },
   {
    "duration": 47,
    "start_time": "2024-07-18T07:53:46.644Z"
   },
   {
    "duration": 73,
    "start_time": "2024-07-18T07:53:46.694Z"
   },
   {
    "duration": 67,
    "start_time": "2024-07-18T07:53:46.770Z"
   },
   {
    "duration": 104,
    "start_time": "2024-07-18T07:53:46.840Z"
   },
   {
    "duration": 69,
    "start_time": "2024-07-18T07:53:46.946Z"
   },
   {
    "duration": 2193,
    "start_time": "2024-07-18T07:53:47.018Z"
   },
   {
    "duration": 50,
    "start_time": "2024-07-18T07:53:49.214Z"
   },
   {
    "duration": 39,
    "start_time": "2024-07-18T07:53:49.267Z"
   },
   {
    "duration": 200,
    "start_time": "2024-07-18T07:53:49.309Z"
   },
   {
    "duration": 37,
    "start_time": "2024-07-18T07:53:49.512Z"
   },
   {
    "duration": 26,
    "start_time": "2024-07-18T07:53:49.554Z"
   },
   {
    "duration": 6,
    "start_time": "2024-07-18T07:53:49.583Z"
   },
   {
    "duration": 22,
    "start_time": "2024-07-18T07:53:51.849Z"
   },
   {
    "duration": 6,
    "start_time": "2024-07-18T07:54:01.028Z"
   },
   {
    "duration": 9,
    "start_time": "2024-07-18T07:54:05.900Z"
   },
   {
    "duration": 1486,
    "start_time": "2024-07-18T07:57:57.258Z"
   },
   {
    "duration": 770,
    "start_time": "2024-07-18T07:57:58.747Z"
   },
   {
    "duration": 151,
    "start_time": "2024-07-18T07:57:59.519Z"
   },
   {
    "duration": 133,
    "start_time": "2024-07-18T07:57:59.674Z"
   },
   {
    "duration": 566,
    "start_time": "2024-07-18T07:57:59.812Z"
   },
   {
    "duration": 152,
    "start_time": "2024-07-18T07:58:00.380Z"
   },
   {
    "duration": 7,
    "start_time": "2024-07-18T07:58:00.535Z"
   },
   {
    "duration": 480,
    "start_time": "2024-07-18T07:58:00.545Z"
   },
   {
    "duration": 56,
    "start_time": "2024-07-18T07:58:01.028Z"
   },
   {
    "duration": 75,
    "start_time": "2024-07-18T07:58:01.086Z"
   },
   {
    "duration": 69,
    "start_time": "2024-07-18T07:58:01.163Z"
   },
   {
    "duration": 53,
    "start_time": "2024-07-18T07:58:01.234Z"
   },
   {
    "duration": 74,
    "start_time": "2024-07-18T07:58:01.290Z"
   },
   {
    "duration": 112,
    "start_time": "2024-07-18T07:58:01.370Z"
   },
   {
    "duration": 78,
    "start_time": "2024-07-18T07:58:01.484Z"
   },
   {
    "duration": 2259,
    "start_time": "2024-07-18T07:58:01.565Z"
   },
   {
    "duration": 43,
    "start_time": "2024-07-18T07:58:03.826Z"
   },
   {
    "duration": 61,
    "start_time": "2024-07-18T07:58:03.872Z"
   },
   {
    "duration": 192,
    "start_time": "2024-07-18T07:58:03.936Z"
   },
   {
    "duration": 29,
    "start_time": "2024-07-18T07:58:04.132Z"
   },
   {
    "duration": 28,
    "start_time": "2024-07-18T07:58:04.165Z"
   },
   {
    "duration": 34,
    "start_time": "2024-07-18T07:58:04.196Z"
   },
   {
    "duration": 21,
    "start_time": "2024-07-18T07:58:04.234Z"
   },
   {
    "duration": 19,
    "start_time": "2024-07-18T07:58:09.206Z"
   },
   {
    "duration": 1440,
    "start_time": "2024-07-18T07:58:39.001Z"
   },
   {
    "duration": 793,
    "start_time": "2024-07-18T07:58:40.446Z"
   },
   {
    "duration": 158,
    "start_time": "2024-07-18T07:58:41.242Z"
   },
   {
    "duration": 127,
    "start_time": "2024-07-18T07:58:41.405Z"
   },
   {
    "duration": 607,
    "start_time": "2024-07-18T07:58:41.535Z"
   },
   {
    "duration": 150,
    "start_time": "2024-07-18T07:58:42.146Z"
   },
   {
    "duration": 7,
    "start_time": "2024-07-18T07:58:42.299Z"
   },
   {
    "duration": 472,
    "start_time": "2024-07-18T07:58:42.331Z"
   },
   {
    "duration": 58,
    "start_time": "2024-07-18T07:58:42.806Z"
   },
   {
    "duration": 64,
    "start_time": "2024-07-18T07:58:42.871Z"
   },
   {
    "duration": 44,
    "start_time": "2024-07-18T07:58:42.939Z"
   },
   {
    "duration": 67,
    "start_time": "2024-07-18T07:58:42.986Z"
   },
   {
    "duration": 53,
    "start_time": "2024-07-18T07:58:43.056Z"
   },
   {
    "duration": 109,
    "start_time": "2024-07-18T07:58:43.112Z"
   },
   {
    "duration": 70,
    "start_time": "2024-07-18T07:58:43.232Z"
   },
   {
    "duration": 2189,
    "start_time": "2024-07-18T07:58:43.304Z"
   },
   {
    "duration": 59,
    "start_time": "2024-07-18T07:58:45.495Z"
   },
   {
    "duration": 38,
    "start_time": "2024-07-18T07:58:45.557Z"
   },
   {
    "duration": 195,
    "start_time": "2024-07-18T07:58:45.598Z"
   },
   {
    "duration": 40,
    "start_time": "2024-07-18T07:58:45.796Z"
   },
   {
    "duration": 27,
    "start_time": "2024-07-18T07:58:45.839Z"
   },
   {
    "duration": 7,
    "start_time": "2024-07-18T07:58:45.869Z"
   },
   {
    "duration": 55,
    "start_time": "2024-07-18T07:58:45.878Z"
   },
   {
    "duration": 1430,
    "start_time": "2024-07-18T07:59:36.599Z"
   },
   {
    "duration": 782,
    "start_time": "2024-07-18T07:59:38.034Z"
   },
   {
    "duration": 153,
    "start_time": "2024-07-18T07:59:38.819Z"
   },
   {
    "duration": 127,
    "start_time": "2024-07-18T07:59:38.976Z"
   },
   {
    "duration": 561,
    "start_time": "2024-07-18T07:59:39.106Z"
   },
   {
    "duration": 142,
    "start_time": "2024-07-18T07:59:39.670Z"
   },
   {
    "duration": 19,
    "start_time": "2024-07-18T07:59:39.814Z"
   },
   {
    "duration": 502,
    "start_time": "2024-07-18T07:59:39.837Z"
   },
   {
    "duration": 47,
    "start_time": "2024-07-18T07:59:40.342Z"
   },
   {
    "duration": 68,
    "start_time": "2024-07-18T07:59:40.395Z"
   },
   {
    "duration": 49,
    "start_time": "2024-07-18T07:59:40.466Z"
   },
   {
    "duration": 56,
    "start_time": "2024-07-18T07:59:40.518Z"
   },
   {
    "duration": 64,
    "start_time": "2024-07-18T07:59:40.577Z"
   },
   {
    "duration": 103,
    "start_time": "2024-07-18T07:59:40.645Z"
   },
   {
    "duration": 80,
    "start_time": "2024-07-18T07:59:40.751Z"
   },
   {
    "duration": 2264,
    "start_time": "2024-07-18T07:59:40.834Z"
   },
   {
    "duration": 53,
    "start_time": "2024-07-18T07:59:43.102Z"
   },
   {
    "duration": 39,
    "start_time": "2024-07-18T07:59:43.157Z"
   },
   {
    "duration": 200,
    "start_time": "2024-07-18T07:59:43.198Z"
   },
   {
    "duration": 38,
    "start_time": "2024-07-18T07:59:43.401Z"
   },
   {
    "duration": 31,
    "start_time": "2024-07-18T07:59:43.442Z"
   },
   {
    "duration": 10,
    "start_time": "2024-07-18T07:59:43.476Z"
   },
   {
    "duration": 59,
    "start_time": "2024-07-18T07:59:43.490Z"
   },
   {
    "duration": 1491,
    "start_time": "2024-07-18T08:01:29.443Z"
   },
   {
    "duration": 806,
    "start_time": "2024-07-18T08:01:30.937Z"
   },
   {
    "duration": 183,
    "start_time": "2024-07-18T08:01:31.746Z"
   },
   {
    "duration": 127,
    "start_time": "2024-07-18T08:01:31.934Z"
   },
   {
    "duration": 562,
    "start_time": "2024-07-18T08:01:32.064Z"
   },
   {
    "duration": 144,
    "start_time": "2024-07-18T08:01:32.631Z"
   },
   {
    "duration": 7,
    "start_time": "2024-07-18T08:01:32.778Z"
   },
   {
    "duration": 499,
    "start_time": "2024-07-18T08:01:32.788Z"
   },
   {
    "duration": 59,
    "start_time": "2024-07-18T08:01:33.290Z"
   },
   {
    "duration": 53,
    "start_time": "2024-07-18T08:01:33.357Z"
   },
   {
    "duration": 65,
    "start_time": "2024-07-18T08:01:33.413Z"
   },
   {
    "duration": 66,
    "start_time": "2024-07-18T08:01:33.481Z"
   },
   {
    "duration": 46,
    "start_time": "2024-07-18T08:01:33.550Z"
   },
   {
    "duration": 110,
    "start_time": "2024-07-18T08:01:33.598Z"
   },
   {
    "duration": 77,
    "start_time": "2024-07-18T08:01:33.710Z"
   },
   {
    "duration": 2241,
    "start_time": "2024-07-18T08:01:33.790Z"
   },
   {
    "duration": 43,
    "start_time": "2024-07-18T08:01:36.033Z"
   },
   {
    "duration": 59,
    "start_time": "2024-07-18T08:01:36.079Z"
   },
   {
    "duration": 189,
    "start_time": "2024-07-18T08:01:36.141Z"
   },
   {
    "duration": 30,
    "start_time": "2024-07-18T08:01:36.333Z"
   },
   {
    "duration": 28,
    "start_time": "2024-07-18T08:01:36.366Z"
   },
   {
    "duration": 40,
    "start_time": "2024-07-18T08:01:36.396Z"
   },
   {
    "duration": 23,
    "start_time": "2024-07-18T08:01:36.438Z"
   },
   {
    "duration": 189,
    "start_time": "2024-07-18T08:01:36.464Z"
   },
   {
    "duration": 1467,
    "start_time": "2024-07-18T08:04:33.441Z"
   },
   {
    "duration": 723,
    "start_time": "2024-07-18T08:04:34.912Z"
   },
   {
    "duration": 171,
    "start_time": "2024-07-18T08:04:35.639Z"
   },
   {
    "duration": 134,
    "start_time": "2024-07-18T08:04:35.813Z"
   },
   {
    "duration": 590,
    "start_time": "2024-07-18T08:04:35.953Z"
   },
   {
    "duration": 144,
    "start_time": "2024-07-18T08:04:36.547Z"
   },
   {
    "duration": 7,
    "start_time": "2024-07-18T08:04:36.695Z"
   },
   {
    "duration": 501,
    "start_time": "2024-07-18T08:04:36.706Z"
   },
   {
    "duration": 57,
    "start_time": "2024-07-18T08:04:37.210Z"
   },
   {
    "duration": 61,
    "start_time": "2024-07-18T08:04:37.269Z"
   },
   {
    "duration": 55,
    "start_time": "2024-07-18T08:04:37.333Z"
   },
   {
    "duration": 65,
    "start_time": "2024-07-18T08:04:37.391Z"
   },
   {
    "duration": 59,
    "start_time": "2024-07-18T08:04:37.458Z"
   },
   {
    "duration": 49,
    "start_time": "2024-07-18T08:04:37.534Z"
   },
   {
    "duration": 121,
    "start_time": "2024-07-18T08:04:37.585Z"
   },
   {
    "duration": 77,
    "start_time": "2024-07-18T08:04:37.708Z"
   },
   {
    "duration": 2199,
    "start_time": "2024-07-18T08:04:37.788Z"
   },
   {
    "duration": 53,
    "start_time": "2024-07-18T08:04:39.990Z"
   },
   {
    "duration": 37,
    "start_time": "2024-07-18T08:04:40.047Z"
   },
   {
    "duration": 195,
    "start_time": "2024-07-18T08:04:40.087Z"
   },
   {
    "duration": 26,
    "start_time": "2024-07-18T08:04:40.285Z"
   },
   {
    "duration": 33,
    "start_time": "2024-07-18T08:04:40.331Z"
   },
   {
    "duration": 9,
    "start_time": "2024-07-18T08:04:40.367Z"
   },
   {
    "duration": 48,
    "start_time": "2024-07-18T08:04:40.383Z"
   },
   {
    "duration": 181,
    "start_time": "2024-07-18T08:04:40.435Z"
   },
   {
    "duration": 389,
    "start_time": "2024-07-18T08:04:43.553Z"
   },
   {
    "duration": 46,
    "start_time": "2024-07-18T08:05:12.128Z"
   },
   {
    "duration": 861,
    "start_time": "2024-07-18T08:05:49.204Z"
   },
   {
    "duration": 754,
    "start_time": "2024-07-18T08:06:28.830Z"
   },
   {
    "duration": 15431,
    "start_time": "2024-07-18T08:06:32.405Z"
   },
   {
    "duration": 15171,
    "start_time": "2024-07-18T08:07:32.864Z"
   },
   {
    "duration": 69,
    "start_time": "2024-07-18T08:09:01.419Z"
   },
   {
    "duration": 7,
    "start_time": "2024-07-18T08:09:48.906Z"
   },
   {
    "duration": 7,
    "start_time": "2024-07-18T08:09:59.765Z"
   },
   {
    "duration": 9,
    "start_time": "2024-07-18T08:10:31.008Z"
   },
   {
    "duration": 42,
    "start_time": "2024-07-18T08:12:37.356Z"
   },
   {
    "duration": 108,
    "start_time": "2024-07-18T08:13:49.557Z"
   },
   {
    "duration": 5,
    "start_time": "2024-07-18T08:14:39.854Z"
   },
   {
    "duration": 700,
    "start_time": "2024-07-18T08:14:43.912Z"
   },
   {
    "duration": 49,
    "start_time": "2024-07-18T08:14:46.128Z"
   },
   {
    "duration": 95369,
    "start_time": "2024-07-18T08:14:47.438Z"
   },
   {
    "duration": 4263,
    "start_time": "2024-07-18T08:16:28.585Z"
   },
   {
    "duration": 8,
    "start_time": "2024-07-18T08:16:33.685Z"
   },
   {
    "duration": 42,
    "start_time": "2024-07-18T08:17:15.021Z"
   },
   {
    "duration": 7,
    "start_time": "2024-07-18T08:17:23.835Z"
   },
   {
    "duration": 3,
    "start_time": "2024-07-18T08:17:29.698Z"
   },
   {
    "duration": 487,
    "start_time": "2024-07-18T08:17:31.378Z"
   },
   {
    "duration": 4,
    "start_time": "2024-07-18T08:18:06.776Z"
   },
   {
    "duration": 4,
    "start_time": "2024-07-18T08:18:07.766Z"
   },
   {
    "duration": 2966,
    "start_time": "2024-07-18T08:18:08.667Z"
   },
   {
    "duration": 70,
    "start_time": "2024-07-18T08:19:07.519Z"
   },
   {
    "duration": 4,
    "start_time": "2024-07-18T08:19:11.726Z"
   },
   {
    "duration": 4,
    "start_time": "2024-07-18T08:19:12.583Z"
   },
   {
    "duration": 3077,
    "start_time": "2024-07-18T08:19:13.763Z"
   },
   {
    "duration": 572,
    "start_time": "2024-07-18T08:20:21.794Z"
   },
   {
    "duration": 613,
    "start_time": "2024-07-18T08:20:45.138Z"
   },
   {
    "duration": 8,
    "start_time": "2024-07-18T08:20:50.718Z"
   },
   {
    "duration": 83,
    "start_time": "2024-07-18T08:22:35.452Z"
   },
   {
    "duration": 4,
    "start_time": "2024-07-18T08:22:44.801Z"
   },
   {
    "duration": 30330,
    "start_time": "2024-07-18T08:23:12.740Z"
   },
   {
    "duration": 434,
    "start_time": "2024-07-18T08:24:10.308Z"
   },
   {
    "duration": 8,
    "start_time": "2024-07-18T08:24:20.908Z"
   },
   {
    "duration": 4,
    "start_time": "2024-07-18T08:26:00.985Z"
   },
   {
    "duration": 938,
    "start_time": "2024-07-18T08:26:28.594Z"
   },
   {
    "duration": 1460,
    "start_time": "2024-07-18T08:32:36.244Z"
   },
   {
    "duration": 785,
    "start_time": "2024-07-18T08:32:37.708Z"
   },
   {
    "duration": 159,
    "start_time": "2024-07-18T08:32:38.495Z"
   },
   {
    "duration": 129,
    "start_time": "2024-07-18T08:32:38.659Z"
   },
   {
    "duration": 554,
    "start_time": "2024-07-18T08:32:38.794Z"
   },
   {
    "duration": 153,
    "start_time": "2024-07-18T08:32:39.351Z"
   },
   {
    "duration": 8,
    "start_time": "2024-07-18T08:32:39.506Z"
   },
   {
    "duration": 511,
    "start_time": "2024-07-18T08:32:39.532Z"
   },
   {
    "duration": 61,
    "start_time": "2024-07-18T08:32:40.046Z"
   },
   {
    "duration": 54,
    "start_time": "2024-07-18T08:32:40.111Z"
   },
   {
    "duration": 79,
    "start_time": "2024-07-18T08:32:40.168Z"
   },
   {
    "duration": 55,
    "start_time": "2024-07-18T08:32:40.250Z"
   },
   {
    "duration": 76,
    "start_time": "2024-07-18T08:32:40.309Z"
   },
   {
    "duration": 64,
    "start_time": "2024-07-18T08:32:40.392Z"
   },
   {
    "duration": 119,
    "start_time": "2024-07-18T08:32:40.458Z"
   },
   {
    "duration": 87,
    "start_time": "2024-07-18T08:32:40.580Z"
   },
   {
    "duration": 2226,
    "start_time": "2024-07-18T08:32:40.670Z"
   },
   {
    "duration": 57,
    "start_time": "2024-07-18T08:32:42.899Z"
   },
   {
    "duration": 42,
    "start_time": "2024-07-18T08:32:42.959Z"
   },
   {
    "duration": 185,
    "start_time": "2024-07-18T08:32:43.005Z"
   },
   {
    "duration": 38,
    "start_time": "2024-07-18T08:32:43.193Z"
   },
   {
    "duration": 28,
    "start_time": "2024-07-18T08:32:43.235Z"
   },
   {
    "duration": 6,
    "start_time": "2024-07-18T08:32:43.266Z"
   },
   {
    "duration": 18,
    "start_time": "2024-07-18T08:32:43.276Z"
   },
   {
    "duration": 174,
    "start_time": "2024-07-18T08:32:43.330Z"
   },
   {
    "duration": 388,
    "start_time": "2024-07-18T08:32:43.506Z"
   },
   {
    "duration": 762,
    "start_time": "2024-07-18T08:32:43.898Z"
   },
   {
    "duration": 15286,
    "start_time": "2024-07-18T08:32:44.662Z"
   },
   {
    "duration": 218,
    "start_time": "2024-07-18T08:32:59.951Z"
   },
   {
    "duration": 61,
    "start_time": "2024-07-18T08:33:00.172Z"
   },
   {
    "duration": 5,
    "start_time": "2024-07-18T08:33:00.236Z"
   },
   {
    "duration": 783,
    "start_time": "2024-07-18T08:33:00.244Z"
   },
   {
    "duration": 57,
    "start_time": "2024-07-18T08:33:01.030Z"
   },
   {
    "duration": 96855,
    "start_time": "2024-07-18T08:33:01.089Z"
   },
   {
    "duration": 4366,
    "start_time": "2024-07-18T08:34:37.947Z"
   },
   {
    "duration": 18,
    "start_time": "2024-07-18T08:34:42.316Z"
   },
   {
    "duration": 136,
    "start_time": "2024-07-18T08:34:42.337Z"
   },
   {
    "duration": 52,
    "start_time": "2024-07-18T08:34:42.479Z"
   },
   {
    "duration": 9,
    "start_time": "2024-07-18T08:34:42.534Z"
   },
   {
    "duration": 5,
    "start_time": "2024-07-18T08:34:42.546Z"
   },
   {
    "duration": 3572,
    "start_time": "2024-07-18T08:34:42.564Z"
   },
   {
    "duration": 617,
    "start_time": "2024-07-18T08:34:46.138Z"
   },
   {
    "duration": 72,
    "start_time": "2024-07-18T08:34:46.758Z"
   },
   {
    "duration": 4,
    "start_time": "2024-07-18T08:34:46.833Z"
   },
   {
    "duration": 98,
    "start_time": "2024-07-18T08:34:46.840Z"
   },
   {
    "duration": 4,
    "start_time": "2024-07-18T08:34:46.941Z"
   },
   {
    "duration": 30919,
    "start_time": "2024-07-18T08:34:46.948Z"
   },
   {
    "duration": 394,
    "start_time": "2024-07-18T08:35:17.870Z"
   },
   {
    "duration": 69,
    "start_time": "2024-07-18T08:35:18.267Z"
   },
   {
    "duration": 4,
    "start_time": "2024-07-18T08:35:18.339Z"
   },
   {
    "duration": 4,
    "start_time": "2024-07-18T08:35:18.346Z"
   },
   {
    "duration": 17427,
    "start_time": "2024-07-18T08:35:28.963Z"
   },
   {
    "duration": 94,
    "start_time": "2024-07-18T08:36:18.886Z"
   },
   {
    "duration": 9,
    "start_time": "2024-07-18T08:36:32.243Z"
   },
   {
    "duration": 3,
    "start_time": "2024-07-18T08:37:14.306Z"
   },
   {
    "duration": 467,
    "start_time": "2024-07-18T08:45:04.237Z"
   },
   {
    "duration": 7,
    "start_time": "2024-07-18T08:45:30.642Z"
   },
   {
    "duration": 704,
    "start_time": "2024-07-18T08:45:30.654Z"
   },
   {
    "duration": 148,
    "start_time": "2024-07-18T08:45:31.361Z"
   },
   {
    "duration": 120,
    "start_time": "2024-07-18T08:45:31.514Z"
   },
   {
    "duration": 577,
    "start_time": "2024-07-18T08:45:31.637Z"
   },
   {
    "duration": 162,
    "start_time": "2024-07-18T08:45:32.217Z"
   },
   {
    "duration": 8,
    "start_time": "2024-07-18T08:45:32.383Z"
   },
   {
    "duration": 452,
    "start_time": "2024-07-18T08:45:32.394Z"
   },
   {
    "duration": 45,
    "start_time": "2024-07-18T08:45:32.849Z"
   },
   {
    "duration": 61,
    "start_time": "2024-07-18T08:45:32.900Z"
   },
   {
    "duration": 69,
    "start_time": "2024-07-18T08:45:32.964Z"
   },
   {
    "duration": 52,
    "start_time": "2024-07-18T08:45:33.036Z"
   },
   {
    "duration": 62,
    "start_time": "2024-07-18T08:45:33.091Z"
   },
   {
    "duration": 51,
    "start_time": "2024-07-18T08:45:33.156Z"
   },
   {
    "duration": 124,
    "start_time": "2024-07-18T08:45:33.210Z"
   },
   {
    "duration": 73,
    "start_time": "2024-07-18T08:45:33.336Z"
   },
   {
    "duration": 2171,
    "start_time": "2024-07-18T08:45:33.413Z"
   },
   {
    "duration": 62,
    "start_time": "2024-07-18T08:45:35.586Z"
   },
   {
    "duration": 41,
    "start_time": "2024-07-18T08:45:35.651Z"
   },
   {
    "duration": 184,
    "start_time": "2024-07-18T08:45:35.696Z"
   },
   {
    "duration": 28,
    "start_time": "2024-07-18T08:45:35.882Z"
   },
   {
    "duration": 42,
    "start_time": "2024-07-18T08:45:35.913Z"
   },
   {
    "duration": 6,
    "start_time": "2024-07-18T08:45:35.959Z"
   },
   {
    "duration": 18,
    "start_time": "2024-07-18T08:45:35.968Z"
   },
   {
    "duration": 200,
    "start_time": "2024-07-18T08:45:35.989Z"
   },
   {
    "duration": 384,
    "start_time": "2024-07-18T08:45:36.192Z"
   },
   {
    "duration": 754,
    "start_time": "2024-07-18T08:45:36.579Z"
   },
   {
    "duration": 15309,
    "start_time": "2024-07-18T08:45:37.341Z"
   },
   {
    "duration": 218,
    "start_time": "2024-07-18T08:45:52.653Z"
   },
   {
    "duration": 62,
    "start_time": "2024-07-18T08:45:52.874Z"
   },
   {
    "duration": 5,
    "start_time": "2024-07-18T08:45:52.944Z"
   },
   {
    "duration": 769,
    "start_time": "2024-07-18T08:45:52.954Z"
   },
   {
    "duration": 59,
    "start_time": "2024-07-18T08:45:53.729Z"
   },
   {
    "duration": 95061,
    "start_time": "2024-07-18T08:45:53.791Z"
   },
   {
    "duration": 4257,
    "start_time": "2024-07-18T08:47:28.856Z"
   },
   {
    "duration": 19,
    "start_time": "2024-07-18T08:47:33.115Z"
   },
   {
    "duration": 123,
    "start_time": "2024-07-18T08:47:33.137Z"
   },
   {
    "duration": 42,
    "start_time": "2024-07-18T08:47:33.262Z"
   },
   {
    "duration": 4,
    "start_time": "2024-07-18T08:47:33.307Z"
   },
   {
    "duration": 4,
    "start_time": "2024-07-18T08:47:33.331Z"
   },
   {
    "duration": 3009,
    "start_time": "2024-07-18T08:47:33.339Z"
   },
   {
    "duration": 688,
    "start_time": "2024-07-18T08:47:36.353Z"
   },
   {
    "duration": 8,
    "start_time": "2024-07-18T08:47:37.044Z"
   },
   {
    "duration": 7,
    "start_time": "2024-07-18T08:47:37.056Z"
   },
   {
    "duration": 80,
    "start_time": "2024-07-18T08:47:37.066Z"
   },
   {
    "duration": 4,
    "start_time": "2024-07-18T08:47:37.149Z"
   },
   {
    "duration": 30140,
    "start_time": "2024-07-18T08:47:37.157Z"
   },
   {
    "duration": 442,
    "start_time": "2024-07-18T08:48:07.300Z"
   },
   {
    "duration": 9,
    "start_time": "2024-07-18T08:48:07.745Z"
   },
   {
    "duration": 4,
    "start_time": "2024-07-18T08:48:07.757Z"
   },
   {
    "duration": 4,
    "start_time": "2024-07-18T08:48:07.765Z"
   },
   {
    "duration": 17379,
    "start_time": "2024-07-18T08:48:07.772Z"
   },
   {
    "duration": 96,
    "start_time": "2024-07-18T08:48:25.154Z"
   },
   {
    "duration": 9,
    "start_time": "2024-07-18T08:48:25.253Z"
   },
   {
    "duration": 4,
    "start_time": "2024-07-18T08:48:25.264Z"
   },
   {
    "duration": 1436,
    "start_time": "2024-07-18T20:35:25.191Z"
   },
   {
    "duration": 780,
    "start_time": "2024-07-18T20:35:26.630Z"
   },
   {
    "duration": 154,
    "start_time": "2024-07-18T20:35:27.412Z"
   },
   {
    "duration": 134,
    "start_time": "2024-07-18T20:35:27.570Z"
   },
   {
    "duration": 612,
    "start_time": "2024-07-18T20:35:27.708Z"
   },
   {
    "duration": 202,
    "start_time": "2024-07-18T20:35:28.323Z"
   },
   {
    "duration": 8,
    "start_time": "2024-07-18T20:35:28.530Z"
   },
   {
    "duration": 479,
    "start_time": "2024-07-18T20:35:28.542Z"
   },
   {
    "duration": 57,
    "start_time": "2024-07-18T20:35:29.024Z"
   },
   {
    "duration": 63,
    "start_time": "2024-07-18T20:35:29.088Z"
   },
   {
    "duration": 56,
    "start_time": "2024-07-18T20:35:29.154Z"
   },
   {
    "duration": 66,
    "start_time": "2024-07-18T20:35:29.213Z"
   },
   {
    "duration": 69,
    "start_time": "2024-07-18T20:35:29.282Z"
   },
   {
    "duration": 45,
    "start_time": "2024-07-18T20:35:29.354Z"
   },
   {
    "duration": 112,
    "start_time": "2024-07-18T20:35:29.402Z"
   },
   {
    "duration": 83,
    "start_time": "2024-07-18T20:35:29.516Z"
   },
   {
    "duration": 2382,
    "start_time": "2024-07-18T20:35:29.602Z"
   },
   {
    "duration": 65,
    "start_time": "2024-07-18T20:35:31.990Z"
   },
   {
    "duration": 42,
    "start_time": "2024-07-18T20:35:32.064Z"
   },
   {
    "duration": 188,
    "start_time": "2024-07-18T20:35:32.109Z"
   },
   {
    "duration": 51,
    "start_time": "2024-07-18T20:35:32.300Z"
   },
   {
    "duration": 26,
    "start_time": "2024-07-18T20:35:32.355Z"
   },
   {
    "duration": 16,
    "start_time": "2024-07-18T20:35:32.384Z"
   },
   {
    "duration": 44,
    "start_time": "2024-07-18T20:35:32.403Z"
   },
   {
    "duration": 224,
    "start_time": "2024-07-18T20:35:32.451Z"
   },
   {
    "duration": 390,
    "start_time": "2024-07-18T20:35:32.681Z"
   },
   {
    "duration": 764,
    "start_time": "2024-07-18T20:35:33.073Z"
   },
   {
    "duration": 17794,
    "start_time": "2024-07-18T20:35:33.847Z"
   },
   {
    "duration": 190,
    "start_time": "2024-07-18T20:35:51.644Z"
   },
   {
    "duration": 9,
    "start_time": "2024-07-18T20:35:51.837Z"
   },
   {
    "duration": 81,
    "start_time": "2024-07-18T20:35:51.849Z"
   },
   {
    "duration": 779,
    "start_time": "2024-07-18T20:35:51.934Z"
   },
   {
    "duration": 64,
    "start_time": "2024-07-18T20:35:52.715Z"
   },
   {
    "duration": 98005,
    "start_time": "2024-07-18T20:35:52.782Z"
   },
   {
    "duration": 4303,
    "start_time": "2024-07-18T20:37:30.791Z"
   },
   {
    "duration": 9,
    "start_time": "2024-07-18T20:37:35.097Z"
   },
   {
    "duration": 109,
    "start_time": "2024-07-18T20:37:35.111Z"
   },
   {
    "duration": 69,
    "start_time": "2024-07-18T20:37:35.223Z"
   },
   {
    "duration": 6,
    "start_time": "2024-07-18T20:37:35.296Z"
   },
   {
    "duration": 7,
    "start_time": "2024-07-18T20:37:35.330Z"
   },
   {
    "duration": 5805,
    "start_time": "2024-07-18T20:37:35.342Z"
   },
   {
    "duration": 695,
    "start_time": "2024-07-18T20:37:41.150Z"
   },
   {
    "duration": 8,
    "start_time": "2024-07-18T20:37:41.848Z"
   },
   {
    "duration": 4,
    "start_time": "2024-07-18T20:37:41.860Z"
   },
   {
    "duration": 103,
    "start_time": "2024-07-18T20:37:41.867Z"
   },
   {
    "duration": 5,
    "start_time": "2024-07-18T20:37:41.972Z"
   },
   {
    "duration": 31368,
    "start_time": "2024-07-18T20:37:41.980Z"
   },
   {
    "duration": 407,
    "start_time": "2024-07-18T20:38:13.351Z"
   },
   {
    "duration": 8,
    "start_time": "2024-07-18T20:38:13.830Z"
   },
   {
    "duration": 4,
    "start_time": "2024-07-18T20:38:13.842Z"
   },
   {
    "duration": 4,
    "start_time": "2024-07-18T20:38:13.849Z"
   },
   {
    "duration": 17529,
    "start_time": "2024-07-18T20:38:13.856Z"
   },
   {
    "duration": 94,
    "start_time": "2024-07-18T20:38:31.388Z"
   },
   {
    "duration": 9,
    "start_time": "2024-07-18T20:38:31.485Z"
   },
   {
    "duration": 3,
    "start_time": "2024-07-18T20:38:31.497Z"
   },
   {
    "duration": 5,
    "start_time": "2024-07-18T21:36:21.100Z"
   },
   {
    "duration": 682,
    "start_time": "2024-07-18T21:36:21.109Z"
   },
   {
    "duration": 159,
    "start_time": "2024-07-18T21:36:21.794Z"
   },
   {
    "duration": 139,
    "start_time": "2024-07-18T21:36:21.958Z"
   },
   {
    "duration": 579,
    "start_time": "2024-07-18T21:36:22.101Z"
   },
   {
    "duration": 155,
    "start_time": "2024-07-18T21:36:22.683Z"
   },
   {
    "duration": 9,
    "start_time": "2024-07-18T21:36:22.841Z"
   },
   {
    "duration": 454,
    "start_time": "2024-07-18T21:36:22.853Z"
   },
   {
    "duration": 52,
    "start_time": "2024-07-18T21:36:23.309Z"
   },
   {
    "duration": 42,
    "start_time": "2024-07-18T21:36:23.366Z"
   },
   {
    "duration": 67,
    "start_time": "2024-07-18T21:36:23.411Z"
   },
   {
    "duration": 59,
    "start_time": "2024-07-18T21:36:23.481Z"
   },
   {
    "duration": 46,
    "start_time": "2024-07-18T21:36:23.544Z"
   },
   {
    "duration": 1317,
    "start_time": "2024-07-18T21:36:37.947Z"
   },
   {
    "duration": 33,
    "start_time": "2024-07-18T21:36:52.888Z"
   },
   {
    "duration": 27,
    "start_time": "2024-07-18T21:37:20.464Z"
   },
   {
    "duration": 28,
    "start_time": "2024-07-18T21:37:34.104Z"
   },
   {
    "duration": 2180,
    "start_time": "2024-07-18T21:38:27.093Z"
   },
   {
    "duration": 8,
    "start_time": "2024-07-18T21:38:31.064Z"
   },
   {
    "duration": 9,
    "start_time": "2024-07-18T21:38:33.332Z"
   },
   {
    "duration": 31,
    "start_time": "2024-07-18T21:43:31.082Z"
   },
   {
    "duration": 102,
    "start_time": "2024-07-18T21:44:52.664Z"
   },
   {
    "duration": 68,
    "start_time": "2024-07-18T21:46:10.605Z"
   },
   {
    "duration": 39,
    "start_time": "2024-07-18T21:52:13.953Z"
   },
   {
    "duration": 37,
    "start_time": "2024-07-18T21:52:15.135Z"
   },
   {
    "duration": 175,
    "start_time": "2024-07-18T21:52:16.665Z"
   },
   {
    "duration": 34,
    "start_time": "2024-07-18T21:52:21.983Z"
   },
   {
    "duration": 25,
    "start_time": "2024-07-18T21:52:28.163Z"
   },
   {
    "duration": 6,
    "start_time": "2024-07-19T00:28:32.658Z"
   },
   {
    "duration": 21,
    "start_time": "2024-07-19T01:16:01.209Z"
   },
   {
    "duration": 170,
    "start_time": "2024-07-19T01:16:02.525Z"
   },
   {
    "duration": 3,
    "start_time": "2024-07-19T01:16:03.668Z"
   },
   {
    "duration": 397,
    "start_time": "2024-07-19T01:27:23.193Z"
   },
   {
    "duration": 745,
    "start_time": "2024-07-19T01:28:10.985Z"
   },
   {
    "duration": 15168,
    "start_time": "2024-07-19T01:28:39.986Z"
   },
   {
    "duration": 73,
    "start_time": "2024-07-19T01:29:34.400Z"
   },
   {
    "duration": 7,
    "start_time": "2024-07-19T02:07:56.138Z"
   },
   {
    "duration": 4,
    "start_time": "2024-07-19T02:08:01.783Z"
   },
   {
    "duration": 706,
    "start_time": "2024-07-19T02:08:04.733Z"
   },
   {
    "duration": 51,
    "start_time": "2024-07-19T02:08:08.878Z"
   },
   {
    "duration": 96690,
    "start_time": "2024-07-19T02:08:39.188Z"
   },
   {
    "duration": 4250,
    "start_time": "2024-07-19T02:10:15.881Z"
   },
   {
    "duration": 9,
    "start_time": "2024-07-19T02:10:20.134Z"
   },
   {
    "duration": 23,
    "start_time": "2024-07-19T02:10:20.256Z"
   },
   {
    "duration": 0,
    "start_time": "2024-07-19T02:10:20.283Z"
   },
   {
    "duration": 0,
    "start_time": "2024-07-19T02:10:20.285Z"
   },
   {
    "duration": 0,
    "start_time": "2024-07-19T02:10:20.287Z"
   },
   {
    "duration": 0,
    "start_time": "2024-07-19T02:10:20.289Z"
   },
   {
    "duration": 0,
    "start_time": "2024-07-19T02:10:20.291Z"
   },
   {
    "duration": 0,
    "start_time": "2024-07-19T02:10:20.293Z"
   },
   {
    "duration": 0,
    "start_time": "2024-07-19T02:10:20.295Z"
   },
   {
    "duration": 0,
    "start_time": "2024-07-19T02:10:20.329Z"
   },
   {
    "duration": 0,
    "start_time": "2024-07-19T02:10:20.331Z"
   },
   {
    "duration": 0,
    "start_time": "2024-07-19T02:10:20.333Z"
   },
   {
    "duration": 0,
    "start_time": "2024-07-19T02:10:20.335Z"
   },
   {
    "duration": 0,
    "start_time": "2024-07-19T02:10:20.338Z"
   },
   {
    "duration": 0,
    "start_time": "2024-07-19T02:10:20.340Z"
   },
   {
    "duration": 0,
    "start_time": "2024-07-19T02:10:20.343Z"
   },
   {
    "duration": 0,
    "start_time": "2024-07-19T02:10:20.345Z"
   },
   {
    "duration": 0,
    "start_time": "2024-07-19T02:10:20.346Z"
   },
   {
    "duration": 0,
    "start_time": "2024-07-19T02:10:20.349Z"
   },
   {
    "duration": 0,
    "start_time": "2024-07-19T02:10:20.351Z"
   },
   {
    "duration": 43,
    "start_time": "2024-07-19T02:37:51.520Z"
   },
   {
    "duration": 4,
    "start_time": "2024-07-19T02:37:55.923Z"
   },
   {
    "duration": 4,
    "start_time": "2024-07-19T02:37:56.760Z"
   },
   {
    "duration": 4,
    "start_time": "2024-07-19T02:37:59.697Z"
   },
   {
    "duration": 3246,
    "start_time": "2024-07-19T02:37:59.705Z"
   },
   {
    "duration": 699,
    "start_time": "2024-07-19T02:38:02.954Z"
   },
   {
    "duration": 9,
    "start_time": "2024-07-19T02:38:03.658Z"
   },
   {
    "duration": 61,
    "start_time": "2024-07-19T02:38:03.671Z"
   },
   {
    "duration": 101,
    "start_time": "2024-07-19T02:38:03.736Z"
   },
   {
    "duration": 5,
    "start_time": "2024-07-19T02:38:03.839Z"
   },
   {
    "duration": 32378,
    "start_time": "2024-07-19T02:38:03.848Z"
   },
   {
    "duration": 410,
    "start_time": "2024-07-19T02:38:36.232Z"
   },
   {
    "duration": 8,
    "start_time": "2024-07-19T02:38:36.648Z"
   },
   {
    "duration": 5,
    "start_time": "2024-07-19T02:38:36.659Z"
   },
   {
    "duration": 5,
    "start_time": "2024-07-19T02:38:36.731Z"
   },
   {
    "duration": 17483,
    "start_time": "2024-07-19T02:38:36.739Z"
   },
   {
    "duration": 109,
    "start_time": "2024-07-19T02:38:54.225Z"
   },
   {
    "duration": 13,
    "start_time": "2024-07-19T02:38:54.337Z"
   },
   {
    "duration": 5,
    "start_time": "2024-07-19T02:38:54.354Z"
   },
   {
    "duration": 1502,
    "start_time": "2024-07-19T04:06:13.090Z"
   },
   {
    "duration": 787,
    "start_time": "2024-07-19T04:06:14.596Z"
   },
   {
    "duration": 165,
    "start_time": "2024-07-19T04:06:15.386Z"
   },
   {
    "duration": 130,
    "start_time": "2024-07-19T04:06:15.555Z"
   },
   {
    "duration": 614,
    "start_time": "2024-07-19T04:06:15.689Z"
   },
   {
    "duration": 151,
    "start_time": "2024-07-19T04:06:16.306Z"
   },
   {
    "duration": 8,
    "start_time": "2024-07-19T04:06:16.460Z"
   },
   {
    "duration": 509,
    "start_time": "2024-07-19T04:06:16.472Z"
   },
   {
    "duration": 64,
    "start_time": "2024-07-19T04:06:16.984Z"
   },
   {
    "duration": 52,
    "start_time": "2024-07-19T04:06:17.055Z"
   },
   {
    "duration": 68,
    "start_time": "2024-07-19T04:06:17.110Z"
   },
   {
    "duration": 72,
    "start_time": "2024-07-19T04:06:17.181Z"
   },
   {
    "duration": 60,
    "start_time": "2024-07-19T04:06:17.256Z"
   },
   {
    "duration": 2343,
    "start_time": "2024-07-19T04:06:17.331Z"
   },
   {
    "duration": 9,
    "start_time": "2024-07-19T04:06:19.678Z"
   },
   {
    "duration": 9,
    "start_time": "2024-07-19T04:06:19.691Z"
   },
   {
    "duration": 38,
    "start_time": "2024-07-19T04:06:19.730Z"
   },
   {
    "duration": 106,
    "start_time": "2024-07-19T04:06:19.771Z"
   },
   {
    "duration": 116,
    "start_time": "2024-07-19T04:06:19.880Z"
   },
   {
    "duration": 57,
    "start_time": "2024-07-19T04:06:19.999Z"
   },
   {
    "duration": 41,
    "start_time": "2024-07-19T04:06:20.058Z"
   },
   {
    "duration": 235,
    "start_time": "2024-07-19T04:06:20.102Z"
   },
   {
    "duration": 33,
    "start_time": "2024-07-19T04:06:20.341Z"
   },
   {
    "duration": 54,
    "start_time": "2024-07-19T04:06:20.378Z"
   },
   {
    "duration": 7,
    "start_time": "2024-07-19T04:06:20.436Z"
   },
   {
    "duration": 20,
    "start_time": "2024-07-19T04:06:20.446Z"
   },
   {
    "duration": 195,
    "start_time": "2024-07-19T04:06:20.472Z"
   },
   {
    "duration": 3,
    "start_time": "2024-07-19T04:06:20.677Z"
   },
   {
    "duration": 464,
    "start_time": "2024-07-19T04:06:20.684Z"
   },
   {
    "duration": 822,
    "start_time": "2024-07-19T04:06:21.151Z"
   },
   {
    "duration": 18751,
    "start_time": "2024-07-19T04:06:21.981Z"
   },
   {
    "duration": 149,
    "start_time": "2024-07-19T04:06:40.735Z"
   },
   {
    "duration": 45,
    "start_time": "2024-07-19T04:06:40.887Z"
   },
   {
    "duration": 4,
    "start_time": "2024-07-19T04:06:40.935Z"
   },
   {
    "duration": 869,
    "start_time": "2024-07-19T04:06:40.942Z"
   },
   {
    "duration": 72,
    "start_time": "2024-07-19T04:06:41.818Z"
   },
   {
    "duration": 108989,
    "start_time": "2024-07-19T04:06:41.892Z"
   },
   {
    "duration": 5233,
    "start_time": "2024-07-19T04:08:30.884Z"
   },
   {
    "duration": 14,
    "start_time": "2024-07-19T04:08:36.121Z"
   },
   {
    "duration": 102,
    "start_time": "2024-07-19T04:08:36.138Z"
   },
   {
    "duration": 49,
    "start_time": "2024-07-19T04:08:36.244Z"
   },
   {
    "duration": 5,
    "start_time": "2024-07-19T04:08:36.298Z"
   },
   {
    "duration": 5,
    "start_time": "2024-07-19T04:08:36.332Z"
   },
   {
    "duration": 1447,
    "start_time": "2024-07-19T04:10:38.086Z"
   },
   {
    "duration": 749,
    "start_time": "2024-07-19T04:10:39.539Z"
   },
   {
    "duration": 155,
    "start_time": "2024-07-19T04:10:40.291Z"
   },
   {
    "duration": 126,
    "start_time": "2024-07-19T04:10:40.451Z"
   },
   {
    "duration": 559,
    "start_time": "2024-07-19T04:10:40.580Z"
   },
   {
    "duration": 155,
    "start_time": "2024-07-19T04:10:41.142Z"
   },
   {
    "duration": 7,
    "start_time": "2024-07-19T04:10:41.300Z"
   },
   {
    "duration": 478,
    "start_time": "2024-07-19T04:10:41.311Z"
   },
   {
    "duration": 56,
    "start_time": "2024-07-19T04:10:41.794Z"
   },
   {
    "duration": 45,
    "start_time": "2024-07-19T04:10:41.858Z"
   },
   {
    "duration": 67,
    "start_time": "2024-07-19T04:10:41.906Z"
   },
   {
    "duration": 66,
    "start_time": "2024-07-19T04:10:41.976Z"
   },
   {
    "duration": 54,
    "start_time": "2024-07-19T04:10:42.046Z"
   },
   {
    "duration": 2256,
    "start_time": "2024-07-19T04:10:42.103Z"
   },
   {
    "duration": 8,
    "start_time": "2024-07-19T04:10:44.361Z"
   },
   {
    "duration": 9,
    "start_time": "2024-07-19T04:10:44.372Z"
   },
   {
    "duration": 71,
    "start_time": "2024-07-19T04:10:44.384Z"
   },
   {
    "duration": 96,
    "start_time": "2024-07-19T04:10:44.457Z"
   },
   {
    "duration": 99,
    "start_time": "2024-07-19T04:10:44.556Z"
   },
   {
    "duration": 42,
    "start_time": "2024-07-19T04:10:44.657Z"
   },
   {
    "duration": 55,
    "start_time": "2024-07-19T04:10:44.702Z"
   },
   {
    "duration": 186,
    "start_time": "2024-07-19T04:10:44.759Z"
   },
   {
    "duration": 26,
    "start_time": "2024-07-19T04:10:44.948Z"
   },
   {
    "duration": 26,
    "start_time": "2024-07-19T04:10:44.977Z"
   },
   {
    "duration": 6,
    "start_time": "2024-07-19T04:10:45.030Z"
   },
   {
    "duration": 20,
    "start_time": "2024-07-19T04:10:45.039Z"
   },
   {
    "duration": 199,
    "start_time": "2024-07-19T04:10:45.063Z"
   },
   {
    "duration": 4,
    "start_time": "2024-07-19T04:10:45.270Z"
   },
   {
    "duration": 403,
    "start_time": "2024-07-19T04:10:45.277Z"
   },
   {
    "duration": 787,
    "start_time": "2024-07-19T04:10:45.684Z"
   },
   {
    "duration": 15260,
    "start_time": "2024-07-19T04:10:46.473Z"
   },
   {
    "duration": 149,
    "start_time": "2024-07-19T04:11:01.736Z"
   },
   {
    "duration": 49,
    "start_time": "2024-07-19T04:11:01.888Z"
   },
   {
    "duration": 4,
    "start_time": "2024-07-19T04:11:01.940Z"
   },
   {
    "duration": 821,
    "start_time": "2024-07-19T04:11:01.947Z"
   },
   {
    "duration": 81,
    "start_time": "2024-07-19T04:11:02.772Z"
   },
   {
    "duration": 101616,
    "start_time": "2024-07-19T04:11:02.856Z"
   },
   {
    "duration": 4284,
    "start_time": "2024-07-19T04:12:44.475Z"
   },
   {
    "duration": 8,
    "start_time": "2024-07-19T04:12:48.762Z"
   },
   {
    "duration": 103,
    "start_time": "2024-07-19T04:12:48.773Z"
   },
   {
    "duration": 59,
    "start_time": "2024-07-19T04:12:48.880Z"
   },
   {
    "duration": 4,
    "start_time": "2024-07-19T04:12:48.942Z"
   },
   {
    "duration": 4,
    "start_time": "2024-07-19T04:12:48.949Z"
   },
   {
    "duration": 3195,
    "start_time": "2024-07-19T04:12:48.956Z"
   },
   {
    "duration": 698,
    "start_time": "2024-07-19T04:12:52.154Z"
   },
   {
    "duration": 9,
    "start_time": "2024-07-19T04:12:52.855Z"
   },
   {
    "duration": 65,
    "start_time": "2024-07-19T04:12:52.867Z"
   },
   {
    "duration": 102,
    "start_time": "2024-07-19T04:12:52.935Z"
   },
   {
    "duration": 4,
    "start_time": "2024-07-19T04:12:53.040Z"
   },
   {
    "duration": 30749,
    "start_time": "2024-07-19T04:12:53.048Z"
   },
   {
    "duration": 442,
    "start_time": "2024-07-19T04:13:23.800Z"
   },
   {
    "duration": 9,
    "start_time": "2024-07-19T04:13:24.245Z"
   },
   {
    "duration": 4,
    "start_time": "2024-07-19T04:13:24.257Z"
   },
   {
    "duration": 4,
    "start_time": "2024-07-19T04:13:24.264Z"
   },
   {
    "duration": 17592,
    "start_time": "2024-07-19T04:13:24.331Z"
   },
   {
    "duration": 110,
    "start_time": "2024-07-19T04:13:41.926Z"
   },
   {
    "duration": 14,
    "start_time": "2024-07-19T04:13:42.039Z"
   },
   {
    "duration": 4,
    "start_time": "2024-07-19T04:13:42.056Z"
   },
   {
    "duration": 4,
    "start_time": "2024-07-19T04:42:21.848Z"
   },
   {
    "duration": 17376,
    "start_time": "2024-07-19T04:42:23.235Z"
   },
   {
    "duration": 108,
    "start_time": "2024-07-19T04:42:42.900Z"
   },
   {
    "duration": 8,
    "start_time": "2024-07-19T04:42:45.624Z"
   },
   {
    "duration": 1801,
    "start_time": "2024-07-20T06:04:18.650Z"
   },
   {
    "duration": 1172,
    "start_time": "2024-07-20T06:04:20.455Z"
   },
   {
    "duration": 227,
    "start_time": "2024-07-20T06:04:21.631Z"
   },
   {
    "duration": 150,
    "start_time": "2024-07-20T06:04:21.861Z"
   },
   {
    "duration": 866,
    "start_time": "2024-07-20T06:04:22.016Z"
   },
   {
    "duration": 219,
    "start_time": "2024-07-20T06:04:22.886Z"
   },
   {
    "duration": 22,
    "start_time": "2024-07-20T06:04:23.109Z"
   },
   {
    "duration": 693,
    "start_time": "2024-07-20T06:04:23.136Z"
   },
   {
    "duration": 65,
    "start_time": "2024-07-20T06:04:23.833Z"
   },
   {
    "duration": 70,
    "start_time": "2024-07-20T06:04:23.902Z"
   },
   {
    "duration": 66,
    "start_time": "2024-07-20T06:04:23.975Z"
   },
   {
    "duration": 56,
    "start_time": "2024-07-20T06:04:24.044Z"
   },
   {
    "duration": 76,
    "start_time": "2024-07-20T06:04:24.104Z"
   },
   {
    "duration": 2963,
    "start_time": "2024-07-20T06:04:24.188Z"
   },
   {
    "duration": 12,
    "start_time": "2024-07-20T06:04:27.154Z"
   },
   {
    "duration": 10,
    "start_time": "2024-07-20T06:04:27.169Z"
   },
   {
    "duration": 72,
    "start_time": "2024-07-20T06:04:27.182Z"
   },
   {
    "duration": 150,
    "start_time": "2024-07-20T06:04:27.257Z"
   },
   {
    "duration": 127,
    "start_time": "2024-07-20T06:04:27.411Z"
   },
   {
    "duration": 54,
    "start_time": "2024-07-20T06:04:27.546Z"
   },
   {
    "duration": 64,
    "start_time": "2024-07-20T06:04:27.603Z"
   },
   {
    "duration": 219,
    "start_time": "2024-07-20T06:04:27.674Z"
   },
   {
    "duration": 46,
    "start_time": "2024-07-20T06:04:27.896Z"
   },
   {
    "duration": 38,
    "start_time": "2024-07-20T06:04:27.946Z"
   },
   {
    "duration": 6,
    "start_time": "2024-07-20T06:12:07.480Z"
   },
   {
    "duration": 20,
    "start_time": "2024-07-20T06:12:16.247Z"
   },
   {
    "duration": 164,
    "start_time": "2024-07-20T06:12:17.142Z"
   },
   {
    "duration": 34,
    "start_time": "2024-07-20T06:12:25.671Z"
   },
   {
    "duration": 3,
    "start_time": "2024-07-20T06:19:47.983Z"
   },
   {
    "duration": 368,
    "start_time": "2024-07-20T06:20:10.088Z"
   },
   {
    "duration": 755,
    "start_time": "2024-07-20T06:20:14.521Z"
   },
   {
    "duration": 16585,
    "start_time": "2024-07-20T06:20:20.171Z"
   },
   {
    "duration": 128,
    "start_time": "2024-07-20T06:20:36.832Z"
   },
   {
    "duration": 72,
    "start_time": "2024-07-20T06:20:36.963Z"
   },
   {
    "duration": 33,
    "start_time": "2024-07-20T06:22:32.808Z"
   },
   {
    "duration": 1251,
    "start_time": "2024-07-20T06:22:42.267Z"
   },
   {
    "duration": 17,
    "start_time": "2024-07-20T06:22:49.572Z"
   },
   {
    "duration": 1529,
    "start_time": "2024-07-20T17:32:46.507Z"
   },
   {
    "duration": 781,
    "start_time": "2024-07-20T17:32:48.041Z"
   },
   {
    "duration": 151,
    "start_time": "2024-07-20T17:32:48.826Z"
   },
   {
    "duration": 132,
    "start_time": "2024-07-20T17:32:48.979Z"
   },
   {
    "duration": 562,
    "start_time": "2024-07-20T17:32:49.115Z"
   },
   {
    "duration": 231,
    "start_time": "2024-07-20T17:32:49.679Z"
   },
   {
    "duration": 7,
    "start_time": "2024-07-20T17:32:49.913Z"
   },
   {
    "duration": 493,
    "start_time": "2024-07-20T17:32:49.923Z"
   },
   {
    "duration": 43,
    "start_time": "2024-07-20T17:32:50.419Z"
   },
   {
    "duration": 60,
    "start_time": "2024-07-20T17:32:50.464Z"
   },
   {
    "duration": 50,
    "start_time": "2024-07-20T17:32:50.527Z"
   },
   {
    "duration": 58,
    "start_time": "2024-07-20T17:32:50.580Z"
   },
   {
    "duration": 44,
    "start_time": "2024-07-20T17:32:50.641Z"
   },
   {
    "duration": 2291,
    "start_time": "2024-07-20T17:32:50.691Z"
   },
   {
    "duration": 23,
    "start_time": "2024-07-20T17:32:52.985Z"
   },
   {
    "duration": 8,
    "start_time": "2024-07-20T17:32:53.011Z"
   },
   {
    "duration": 37,
    "start_time": "2024-07-20T17:32:53.022Z"
   },
   {
    "duration": 112,
    "start_time": "2024-07-20T17:32:53.061Z"
   },
   {
    "duration": 77,
    "start_time": "2024-07-20T17:32:53.175Z"
   },
   {
    "duration": 19,
    "start_time": "2024-07-20T17:32:53.255Z"
   },
   {
    "duration": 67,
    "start_time": "2024-07-20T17:32:53.277Z"
   },
   {
    "duration": 171,
    "start_time": "2024-07-20T17:32:53.346Z"
   },
   {
    "duration": 28,
    "start_time": "2024-07-20T17:32:53.521Z"
   },
   {
    "duration": 55,
    "start_time": "2024-07-20T17:32:53.553Z"
   },
   {
    "duration": 7,
    "start_time": "2024-07-20T17:32:53.611Z"
   },
   {
    "duration": 19,
    "start_time": "2024-07-20T17:32:53.622Z"
   },
   {
    "duration": 301,
    "start_time": "2024-07-20T17:32:53.643Z"
   },
   {
    "duration": 4,
    "start_time": "2024-07-20T17:32:53.947Z"
   },
   {
    "duration": 399,
    "start_time": "2024-07-20T17:32:53.954Z"
   },
   {
    "duration": 783,
    "start_time": "2024-07-20T17:32:54.356Z"
   },
   {
    "duration": 15373,
    "start_time": "2024-07-20T17:32:55.143Z"
   },
   {
    "duration": 192,
    "start_time": "2024-07-20T17:33:10.518Z"
   },
   {
    "duration": 8,
    "start_time": "2024-07-20T17:33:10.714Z"
   },
   {
    "duration": 4,
    "start_time": "2024-07-20T17:33:10.725Z"
   },
   {
    "duration": 787,
    "start_time": "2024-07-20T17:33:10.809Z"
   },
   {
    "duration": 65,
    "start_time": "2024-07-20T17:33:11.599Z"
   },
   {
    "duration": 116121,
    "start_time": "2024-07-20T17:33:11.666Z"
   },
   {
    "duration": 4202,
    "start_time": "2024-07-20T17:35:07.790Z"
   },
   {
    "duration": 14,
    "start_time": "2024-07-20T17:35:11.995Z"
   },
   {
    "duration": 109,
    "start_time": "2024-07-20T17:35:12.012Z"
   },
   {
    "duration": 45,
    "start_time": "2024-07-20T17:35:12.132Z"
   },
   {
    "duration": 4,
    "start_time": "2024-07-20T17:35:12.180Z"
   },
   {
    "duration": 4,
    "start_time": "2024-07-20T17:35:12.210Z"
   },
   {
    "duration": 4199,
    "start_time": "2024-07-20T17:35:12.217Z"
   },
   {
    "duration": 690,
    "start_time": "2024-07-20T17:35:16.419Z"
   },
   {
    "duration": 9,
    "start_time": "2024-07-20T17:35:17.112Z"
   },
   {
    "duration": 5,
    "start_time": "2024-07-20T17:35:17.125Z"
   },
   {
    "duration": 99,
    "start_time": "2024-07-20T17:35:17.133Z"
   },
   {
    "duration": 4,
    "start_time": "2024-07-20T17:35:17.235Z"
   },
   {
    "duration": 35482,
    "start_time": "2024-07-20T17:35:17.308Z"
   },
   {
    "duration": 429,
    "start_time": "2024-07-20T17:35:52.793Z"
   },
   {
    "duration": 8,
    "start_time": "2024-07-20T17:35:53.225Z"
   },
   {
    "duration": 5,
    "start_time": "2024-07-20T17:35:53.236Z"
   },
   {
    "duration": 64,
    "start_time": "2024-07-20T17:35:53.244Z"
   },
   {
    "duration": 17951,
    "start_time": "2024-07-20T17:35:53.311Z"
   },
   {
    "duration": 110,
    "start_time": "2024-07-20T17:36:11.265Z"
   },
   {
    "duration": 8,
    "start_time": "2024-07-20T17:36:11.378Z"
   },
   {
    "duration": 3,
    "start_time": "2024-07-20T17:36:11.389Z"
   },
   {
    "duration": 1456,
    "start_time": "2024-07-20T20:43:14.153Z"
   },
   {
    "duration": 708,
    "start_time": "2024-07-20T20:43:15.614Z"
   },
   {
    "duration": 147,
    "start_time": "2024-07-20T20:43:16.326Z"
   },
   {
    "duration": 129,
    "start_time": "2024-07-20T20:43:16.476Z"
   },
   {
    "duration": 575,
    "start_time": "2024-07-20T20:43:16.609Z"
   },
   {
    "duration": 142,
    "start_time": "2024-07-20T20:43:17.186Z"
   },
   {
    "duration": 8,
    "start_time": "2024-07-20T20:43:17.330Z"
   },
   {
    "duration": 479,
    "start_time": "2024-07-20T20:43:17.342Z"
   },
   {
    "duration": 50,
    "start_time": "2024-07-20T20:43:17.824Z"
   },
   {
    "duration": 62,
    "start_time": "2024-07-20T20:43:17.878Z"
   },
   {
    "duration": 64,
    "start_time": "2024-07-20T20:43:17.944Z"
   },
   {
    "duration": 49,
    "start_time": "2024-07-20T20:43:18.012Z"
   },
   {
    "duration": 72,
    "start_time": "2024-07-20T20:43:18.063Z"
   },
   {
    "duration": 2206,
    "start_time": "2024-07-20T20:43:18.142Z"
   },
   {
    "duration": 8,
    "start_time": "2024-07-20T20:43:20.350Z"
   },
   {
    "duration": 8,
    "start_time": "2024-07-20T20:43:20.360Z"
   },
   {
    "duration": 60,
    "start_time": "2024-07-20T20:43:20.372Z"
   },
   {
    "duration": 99,
    "start_time": "2024-07-20T20:43:20.434Z"
   },
   {
    "duration": 80,
    "start_time": "2024-07-20T20:43:20.535Z"
   },
   {
    "duration": 42,
    "start_time": "2024-07-20T20:43:20.618Z"
   },
   {
    "duration": 60,
    "start_time": "2024-07-20T20:43:20.662Z"
   },
   {
    "duration": 177,
    "start_time": "2024-07-20T20:43:20.725Z"
   },
   {
    "duration": 31,
    "start_time": "2024-07-20T20:43:20.905Z"
   },
   {
    "duration": 27,
    "start_time": "2024-07-20T20:43:20.939Z"
   },
   {
    "duration": 6,
    "start_time": "2024-07-20T20:43:20.968Z"
   },
   {
    "duration": 47,
    "start_time": "2024-07-20T20:43:20.977Z"
   },
   {
    "duration": 186,
    "start_time": "2024-07-20T20:43:21.027Z"
   },
   {
    "duration": 4,
    "start_time": "2024-07-20T20:43:21.215Z"
   },
   {
    "duration": 405,
    "start_time": "2024-07-20T20:43:21.222Z"
   },
   {
    "duration": 741,
    "start_time": "2024-07-20T20:43:21.630Z"
   },
   {
    "duration": 15639,
    "start_time": "2024-07-20T20:43:22.374Z"
   },
   {
    "duration": 192,
    "start_time": "2024-07-20T20:43:38.019Z"
   },
   {
    "duration": 13,
    "start_time": "2024-07-20T20:43:38.216Z"
   },
   {
    "duration": 8,
    "start_time": "2024-07-20T20:43:38.312Z"
   },
   {
    "duration": 1406,
    "start_time": "2024-07-20T20:43:38.328Z"
   },
   {
    "duration": 113,
    "start_time": "2024-07-20T20:43:39.737Z"
   },
   {
    "duration": 98790,
    "start_time": "2024-07-20T20:43:39.854Z"
   },
   {
    "duration": 4223,
    "start_time": "2024-07-20T20:45:18.647Z"
   },
   {
    "duration": 8,
    "start_time": "2024-07-20T20:45:22.873Z"
   },
   {
    "duration": 121,
    "start_time": "2024-07-20T20:45:22.884Z"
   },
   {
    "duration": 46,
    "start_time": "2024-07-20T20:45:23.015Z"
   },
   {
    "duration": 4,
    "start_time": "2024-07-20T20:45:23.064Z"
   },
   {
    "duration": 4,
    "start_time": "2024-07-20T20:45:23.071Z"
   },
   {
    "duration": 3507,
    "start_time": "2024-07-20T20:45:23.110Z"
   },
   {
    "duration": 696,
    "start_time": "2024-07-20T20:45:26.620Z"
   },
   {
    "duration": 10,
    "start_time": "2024-07-20T20:45:27.319Z"
   },
   {
    "duration": 7,
    "start_time": "2024-07-20T20:45:27.332Z"
   },
   {
    "duration": 88,
    "start_time": "2024-07-20T20:45:27.343Z"
   },
   {
    "duration": 4,
    "start_time": "2024-07-20T20:45:27.434Z"
   },
   {
    "duration": 30068,
    "start_time": "2024-07-20T20:45:27.441Z"
   },
   {
    "duration": 423,
    "start_time": "2024-07-20T20:45:57.512Z"
   },
   {
    "duration": 10,
    "start_time": "2024-07-20T20:45:57.937Z"
   },
   {
    "duration": 61,
    "start_time": "2024-07-20T20:45:57.949Z"
   },
   {
    "duration": 4,
    "start_time": "2024-07-20T20:45:58.013Z"
   },
   {
    "duration": 17617,
    "start_time": "2024-07-20T20:45:58.021Z"
   },
   {
    "duration": 109,
    "start_time": "2024-07-20T20:46:15.641Z"
   },
   {
    "duration": 8,
    "start_time": "2024-07-20T20:46:15.752Z"
   },
   {
    "duration": 4,
    "start_time": "2024-07-20T20:46:15.763Z"
   }
  ],
  "kernelspec": {
   "display_name": "Python 3 (ipykernel)",
   "language": "python",
   "name": "python3"
  },
  "language_info": {
   "codemirror_mode": {
    "name": "ipython",
    "version": 3
   },
   "file_extension": ".py",
   "mimetype": "text/x-python",
   "name": "python",
   "nbconvert_exporter": "python",
   "pygments_lexer": "ipython3",
   "version": "3.9.19"
  },
  "toc": {
   "base_numbering": 1,
   "nav_menu": {},
   "number_sections": true,
   "sideBar": true,
   "skip_h1_title": true,
   "title_cell": "Table of Contents",
   "title_sidebar": "Contents",
   "toc_cell": false,
   "toc_position": {
    "height": "calc(100% - 180px)",
    "left": "10px",
    "top": "150px",
    "width": "425.99px"
   },
   "toc_section_display": true,
   "toc_window_display": true
  }
 },
 "nbformat": 4,
 "nbformat_minor": 2
}
