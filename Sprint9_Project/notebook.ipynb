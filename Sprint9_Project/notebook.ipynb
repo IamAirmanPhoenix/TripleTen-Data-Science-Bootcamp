{
 "cells": [
  {
   "cell_type": "markdown",
   "metadata": {},
   "source": [
    "`-----------------------------------------------------WARNING------------------------------------------------------------------`\n",
    "\n",
    "On section 5 is a code block which calls a function with high time processing (29 minutes aproximately). Select \"Run all.\" on Cell window prudently.\n",
    "\n",
    "`-----------------------------------------------------WARNING------------------------------------------------------------------`"
   ]
  },
  {
   "cell_type": "markdown",
   "metadata": {},
   "source": [
    "----"
   ]
  },
  {
   "cell_type": "markdown",
   "metadata": {},
   "source": [
    "## Introduction"
   ]
  },
  {
   "cell_type": "markdown",
   "metadata": {},
   "source": [
    "We are working for a company named Beta Bank, a company of the banking industry. In the past months they have noticed more clients have exited their services with Beta Bank and have decided the best strategy is to retain the greatest amount of customers they can before focusing on getting more customers.\n",
    "\n",
    "To make this possible, Beta Bank needs us to create a new model which can predict wether a customer will exit their services or not. Beta Bank has give us the information for the behaviour of it's customers and if they have exited or not to generate the model."
   ]
  },
  {
   "cell_type": "markdown",
   "metadata": {},
   "source": [
    "## Preparing the data"
   ]
  },
  {
   "cell_type": "markdown",
   "metadata": {},
   "source": [
    "Let's visualize the data Beta Bank gave us and see what kind of preprocessing we need to apply before start working. To make this possible we will follow the next steps:"
   ]
  },
  {
   "cell_type": "markdown",
   "metadata": {},
   "source": [
    "### Importing libraries"
   ]
  },
  {
   "cell_type": "markdown",
   "metadata": {},
   "source": [
    "These are the libraries/modules we'll need for this project."
   ]
  },
  {
   "cell_type": "code",
   "execution_count": 1,
   "metadata": {},
   "outputs": [],
   "source": [
    "import math\n",
    "import pandas as pd\n",
    "import numpy as np\n",
    "from matplotlib import pyplot as plt\n",
    "from sklearn.model_selection import train_test_split\n",
    "from sklearn.ensemble import RandomForestClassifier\n",
    "from sklearn.preprocessing import OrdinalEncoder, StandardScaler\n",
    "from sklearn.metrics import plot_confusion_matrix, recall_score, precision_score, f1_score, precision_recall_curve, roc_auc_score, roc_curve\n",
    "from sklearn.linear_model import LogisticRegression\n",
    "from sklearn.utils import shuffle"
   ]
  },
  {
   "cell_type": "markdown",
   "metadata": {},
   "source": [
    "### Processing the data"
   ]
  },
  {
   "cell_type": "markdown",
   "metadata": {},
   "source": [
    "Once we have the information saved on the variable `data`, let's see what we have and then determine if a preprocessing is necessary."
   ]
  },
  {
   "cell_type": "code",
   "execution_count": 2,
   "metadata": {},
   "outputs": [],
   "source": [
    "data = pd.read_csv('/datasets/Churn.csv')"
   ]
  },
  {
   "cell_type": "markdown",
   "metadata": {},
   "source": [
    "#### Understanding the dataset"
   ]
  },
  {
   "cell_type": "markdown",
   "metadata": {},
   "source": [
    "Let's see the information we have and remember what is the meaning of all the columns on the dataset.\n",
    "\n",
    "Features:\n",
    " * `RowNumber`: index of data\n",
    " * `CustomerId`: customer's identifier\n",
    " * `Surname`: customer's surname\n",
    " * `CreditScore`: customer's credit value\n",
    " * `Geography`: customer's residence country\n",
    " * `Gender`: customer's gender\n",
    " * `Age`: customer's age\n",
    " * `Tenure`: period of time a customer's credit score has (in years)\n",
    " * `Balance`: customer's account balance\n",
    " * `NumOfProducts`: banking products used by the customer\n",
    " * `HasCrCard`: status of a customer possesing a credit card (1 - yes; 0 - no)\n",
    " * `IsActiveMember`: status marking if a customer is active or not (1 - yes; 0 - no)\n",
    " * `EstimatedSalary`: customer's estimated salary\n",
    " \n",
    "Target:\n",
    " * `Exited`: status marking if a customer is not exited from the bank service (1 - yes; 0 - no)\n",
    " \n",
    "With this information in hand we can countine with a deeper analysis of the dataset."
   ]
  },
  {
   "cell_type": "code",
   "execution_count": 3,
   "metadata": {},
   "outputs": [
    {
     "name": "stdout",
     "output_type": "stream",
     "text": [
      "   RowNumber  CustomerId   Surname  CreditScore Geography  Gender  Age  \\\n",
      "0          1    15634602  Hargrave          619    France  Female   42   \n",
      "1          2    15647311      Hill          608     Spain  Female   41   \n",
      "2          3    15619304      Onio          502    France  Female   42   \n",
      "3          4    15701354      Boni          699    France  Female   39   \n",
      "4          5    15737888  Mitchell          850     Spain  Female   43   \n",
      "\n",
      "   Tenure    Balance  NumOfProducts  HasCrCard  IsActiveMember  \\\n",
      "0     2.0       0.00              1          1               1   \n",
      "1     1.0   83807.86              1          0               1   \n",
      "2     8.0  159660.80              3          1               0   \n",
      "3     1.0       0.00              2          0               0   \n",
      "4     2.0  125510.82              1          1               1   \n",
      "\n",
      "   EstimatedSalary  Exited  \n",
      "0        101348.88       1  \n",
      "1        112542.58       0  \n",
      "2        113931.57       1  \n",
      "3         93826.63       0  \n",
      "4         79084.10       0  \n",
      "\n",
      "<class 'pandas.core.frame.DataFrame'>\n",
      "RangeIndex: 10000 entries, 0 to 9999\n",
      "Data columns (total 14 columns):\n",
      " #   Column           Non-Null Count  Dtype  \n",
      "---  ------           --------------  -----  \n",
      " 0   RowNumber        10000 non-null  int64  \n",
      " 1   CustomerId       10000 non-null  int64  \n",
      " 2   Surname          10000 non-null  object \n",
      " 3   CreditScore      10000 non-null  int64  \n",
      " 4   Geography        10000 non-null  object \n",
      " 5   Gender           10000 non-null  object \n",
      " 6   Age              10000 non-null  int64  \n",
      " 7   Tenure           9091 non-null   float64\n",
      " 8   Balance          10000 non-null  float64\n",
      " 9   NumOfProducts    10000 non-null  int64  \n",
      " 10  HasCrCard        10000 non-null  int64  \n",
      " 11  IsActiveMember   10000 non-null  int64  \n",
      " 12  EstimatedSalary  10000 non-null  float64\n",
      " 13  Exited           10000 non-null  int64  \n",
      "dtypes: float64(3), int64(8), object(3)\n",
      "memory usage: 1.1+ MB\n",
      "None\n",
      "\n",
      "          RowNumber    CustomerId Surname   CreditScore Geography Gender  \\\n",
      "count   10000.00000  1.000000e+04   10000  10000.000000     10000  10000   \n",
      "unique          NaN           NaN    2932           NaN         3      2   \n",
      "top             NaN           NaN   Smith           NaN    France   Male   \n",
      "freq            NaN           NaN      32           NaN      5014   5457   \n",
      "mean     5000.50000  1.569094e+07     NaN    650.528800       NaN    NaN   \n",
      "std      2886.89568  7.193619e+04     NaN     96.653299       NaN    NaN   \n",
      "min         1.00000  1.556570e+07     NaN    350.000000       NaN    NaN   \n",
      "25%      2500.75000  1.562853e+07     NaN    584.000000       NaN    NaN   \n",
      "50%      5000.50000  1.569074e+07     NaN    652.000000       NaN    NaN   \n",
      "75%      7500.25000  1.575323e+07     NaN    718.000000       NaN    NaN   \n",
      "max     10000.00000  1.581569e+07     NaN    850.000000       NaN    NaN   \n",
      "\n",
      "                 Age       Tenure        Balance  NumOfProducts    HasCrCard  \\\n",
      "count   10000.000000  9091.000000   10000.000000   10000.000000  10000.00000   \n",
      "unique           NaN          NaN            NaN            NaN          NaN   \n",
      "top              NaN          NaN            NaN            NaN          NaN   \n",
      "freq             NaN          NaN            NaN            NaN          NaN   \n",
      "mean       38.921800     4.997690   76485.889288       1.530200      0.70550   \n",
      "std        10.487806     2.894723   62397.405202       0.581654      0.45584   \n",
      "min        18.000000     0.000000       0.000000       1.000000      0.00000   \n",
      "25%        32.000000     2.000000       0.000000       1.000000      0.00000   \n",
      "50%        37.000000     5.000000   97198.540000       1.000000      1.00000   \n",
      "75%        44.000000     7.000000  127644.240000       2.000000      1.00000   \n",
      "max        92.000000    10.000000  250898.090000       4.000000      1.00000   \n",
      "\n",
      "        IsActiveMember  EstimatedSalary        Exited  \n",
      "count     10000.000000     10000.000000  10000.000000  \n",
      "unique             NaN              NaN           NaN  \n",
      "top                NaN              NaN           NaN  \n",
      "freq               NaN              NaN           NaN  \n",
      "mean          0.515100    100090.239881      0.203700  \n",
      "std           0.499797     57510.492818      0.402769  \n",
      "min           0.000000        11.580000      0.000000  \n",
      "25%           0.000000     51002.110000      0.000000  \n",
      "50%           1.000000    100193.915000      0.000000  \n",
      "75%           1.000000    149388.247500      0.000000  \n",
      "max           1.000000    199992.480000      1.000000  \n"
     ]
    }
   ],
   "source": [
    "print(data.head())\n",
    "print()\n",
    "print(data.info())\n",
    "print()\n",
    "print(data.describe(include='all'))"
   ]
  },
  {
   "cell_type": "markdown",
   "metadata": {},
   "source": [
    "Seeing this new information we can see there are a few points we must change and check on the dataset:\n",
    "\n",
    " * Change the column names to an lower case and snake case naming.\n",
    " * Fill the missing values of the 'Tenure' column.\n",
    " * Check if column 'Tenure' can be changed to int data type.\n",
    " * Check for duplicated rows."
   ]
  },
  {
   "cell_type": "markdown",
   "metadata": {},
   "source": [
    "#### Applying changes"
   ]
  },
  {
   "cell_type": "markdown",
   "metadata": {},
   "source": [
    "As we could see on previous section we need to work on the dataset before processing the information. This help us to avoid future probles due to the form the data may have in the dataset, so making the necessary changes on the data is necessary on every project we may have in the future.\n",
    "\n",
    "Let's begin with the changes:"
   ]
  },
  {
   "cell_type": "markdown",
   "metadata": {},
   "source": [
    "##### New columns names"
   ]
  },
  {
   "cell_type": "markdown",
   "metadata": {},
   "source": [
    "Currently we have our column names with capitalized, and if this is not necessarily a problem is better to have the naming of the column in way we can work easier with them, ex.: lower case and snake case naming combination.\n",
    "\n",
    "We will chane the names to fit this new format we will be working with."
   ]
  },
  {
   "cell_type": "code",
   "execution_count": 4,
   "metadata": {},
   "outputs": [],
   "source": [
    "# Creating a new list with the new names for the columns\n",
    "new_columns = ['row_number', 'customer_id', 'surname', 'credit_score', 'geography',\n",
    "       'gender', 'age', 'tenure', 'balance', 'num_of_products', 'has_cr_card',\n",
    "       'is_active_member', 'estimated_salary', 'exited']"
   ]
  },
  {
   "cell_type": "code",
   "execution_count": 5,
   "metadata": {},
   "outputs": [],
   "source": [
    "# Changing current names with new names\n",
    "data.columns = new_columns"
   ]
  },
  {
   "cell_type": "code",
   "execution_count": 6,
   "metadata": {
    "scrolled": true
   },
   "outputs": [
    {
     "name": "stdout",
     "output_type": "stream",
     "text": [
      "Index(['row_number', 'customer_id', 'surname', 'credit_score', 'geography',\n",
      "       'gender', 'age', 'tenure', 'balance', 'num_of_products', 'has_cr_card',\n",
      "       'is_active_member', 'estimated_salary', 'exited'],\n",
      "      dtype='object')\n"
     ]
    }
   ],
   "source": [
    "# Printing new current names\n",
    "print(data.columns)"
   ]
  },
  {
   "cell_type": "markdown",
   "metadata": {},
   "source": [
    "##### Filling missing values on column 'Tenure'"
   ]
  },
  {
   "cell_type": "markdown",
   "metadata": {},
   "source": [
    "We need to fill the 909 missing values on 'Tenure' column. This column has float64 dtype, so we shall fill it with a numeric value; let's determine whether the mean value or the median value of the column is the better option."
   ]
  },
  {
   "cell_type": "code",
   "execution_count": 7,
   "metadata": {},
   "outputs": [
    {
     "name": "stdout",
     "output_type": "stream",
     "text": [
      "Mean value: 4.997690023099769\n",
      "\n",
      "Median value: 5.0\n"
     ]
    }
   ],
   "source": [
    "print(f\"Mean value: {data['tenure'].mean()}\")\n",
    "print()\n",
    "print(f\"Median value: {data['tenure'].median()}\")"
   ]
  },
  {
   "cell_type": "markdown",
   "metadata": {},
   "source": [
    "We can see there is no big difference between these 2 values (aproximately 0.003), so let's fill it with the median. This is because the values on this column are all integer numbers (see the unique values on the column). Once filled with the median value check again if the change was correctly applied."
   ]
  },
  {
   "cell_type": "code",
   "execution_count": 8,
   "metadata": {},
   "outputs": [
    {
     "data": {
      "text/plain": [
       "array([ 2.,  1.,  8.,  7.,  4.,  6.,  3., 10.,  5.,  9.,  0., nan])"
      ]
     },
     "execution_count": 8,
     "metadata": {},
     "output_type": "execute_result"
    }
   ],
   "source": [
    "data['tenure'].unique()"
   ]
  },
  {
   "cell_type": "code",
   "execution_count": 9,
   "metadata": {},
   "outputs": [
    {
     "data": {
      "text/plain": [
       "0"
      ]
     },
     "execution_count": 9,
     "metadata": {},
     "output_type": "execute_result"
    }
   ],
   "source": [
    "data['tenure'].fillna(data['tenure'].median(), inplace=True)\n",
    "data['tenure'].isna().sum()"
   ]
  },
  {
   "cell_type": "markdown",
   "metadata": {},
   "source": [
    "##### Check if is valid chaning column 'Tenure' to int data type"
   ]
  },
  {
   "cell_type": "markdown",
   "metadata": {},
   "source": [
    "As we could see on the previous section all values can be represented as integers, so let's check if no data will be lost if we make the dtype change on the column, and in case we have no information loss change the column dtype."
   ]
  },
  {
   "cell_type": "code",
   "execution_count": 10,
   "metadata": {},
   "outputs": [],
   "source": [
    "if np.array_equal(data['tenure'], data['tenure'].astype('int')) == True:\n",
    "    \n",
    "    data['tenure'] = data['tenure'].astype('int')"
   ]
  },
  {
   "cell_type": "code",
   "execution_count": 11,
   "metadata": {},
   "outputs": [
    {
     "data": {
      "text/plain": [
       "dtype('int64')"
      ]
     },
     "execution_count": 11,
     "metadata": {},
     "output_type": "execute_result"
    }
   ],
   "source": [
    "data['tenure'].dtype"
   ]
  },
  {
   "cell_type": "markdown",
   "metadata": {},
   "source": [
    "The changes were applied correctly and the column has a new dtype `int64`."
   ]
  },
  {
   "cell_type": "markdown",
   "metadata": {},
   "source": [
    "##### Check duplicated rows"
   ]
  },
  {
   "cell_type": "markdown",
   "metadata": {},
   "source": [
    "We are not sure if our dataset has duplicates so let's check this up (we can assure there are not duplicates if we can confirm all values on 'customer_id' column are different, but let's use the tools our libraries give us)."
   ]
  },
  {
   "cell_type": "code",
   "execution_count": 12,
   "metadata": {},
   "outputs": [
    {
     "data": {
      "text/plain": [
       "0"
      ]
     },
     "execution_count": 12,
     "metadata": {},
     "output_type": "execute_result"
    }
   ],
   "source": [
    "data.duplicated().sum()"
   ]
  },
  {
   "cell_type": "markdown",
   "metadata": {},
   "source": [
    "Now we are sure there are no duplicates on the dataset. Let's see how our dataset is after the changes we applied."
   ]
  },
  {
   "cell_type": "code",
   "execution_count": 13,
   "metadata": {},
   "outputs": [
    {
     "name": "stdout",
     "output_type": "stream",
     "text": [
      "<class 'pandas.core.frame.DataFrame'>\n",
      "RangeIndex: 10000 entries, 0 to 9999\n",
      "Data columns (total 14 columns):\n",
      " #   Column            Non-Null Count  Dtype  \n",
      "---  ------            --------------  -----  \n",
      " 0   row_number        10000 non-null  int64  \n",
      " 1   customer_id       10000 non-null  int64  \n",
      " 2   surname           10000 non-null  object \n",
      " 3   credit_score      10000 non-null  int64  \n",
      " 4   geography         10000 non-null  object \n",
      " 5   gender            10000 non-null  object \n",
      " 6   age               10000 non-null  int64  \n",
      " 7   tenure            10000 non-null  int64  \n",
      " 8   balance           10000 non-null  float64\n",
      " 9   num_of_products   10000 non-null  int64  \n",
      " 10  has_cr_card       10000 non-null  int64  \n",
      " 11  is_active_member  10000 non-null  int64  \n",
      " 12  estimated_salary  10000 non-null  float64\n",
      " 13  exited            10000 non-null  int64  \n",
      "dtypes: float64(2), int64(9), object(3)\n",
      "memory usage: 1.1+ MB\n",
      "None\n"
     ]
    }
   ],
   "source": [
    "print(data.info())"
   ]
  },
  {
   "cell_type": "markdown",
   "metadata": {},
   "source": [
    "## Encoding and scaling the information"
   ]
  },
  {
   "cell_type": "markdown",
   "metadata": {},
   "source": [
    "Once our information is complete and we can assure there are no missing values and all columns have adequate dtypes we can procced with the class balancing. We need to process our data this way to assure all of our variables have the appropiate \"weight\" on the algorithms we will be using to generate our predictive models, this means we need to encode and/or scale them properly depending of what our information means.\n",
    "\n",
    "Let's see how our information changes with this process."
   ]
  },
  {
   "cell_type": "markdown",
   "metadata": {},
   "source": [
    "### Before starting"
   ]
  },
  {
   "cell_type": "markdown",
   "metadata": {},
   "source": [
    "Before staring encoding and scalating is necessary to determine what information we have to know what we need to do to that same information, so let's take a quick look to our information again:\n",
    "\n",
    " * Categoric variables\n",
    "     * `row_number`: A number which represents the index of the table.\n",
    "     * `customer_id`: An identifier number for each customer.\n",
    "     * `surname`: The surname of the customer.\n",
    "     * `geography`: The country of the customer.\n",
    "     * `gender`: The gender of the customer.\n",
    "     * `has_cr_card`: A number (boolean) which means if a customer has a credit card or not.\n",
    "     * `is_active_member`: A number (boolean) which means if a customer is active or not.\n",
    "     * `exited`: A number (boolean) which means if a customer has quit the service or not.\n",
    "     \n",
    "     \n",
    " * Numeric variables\n",
    "     * `credit_score`: Score of the customer's account.\n",
    "     * `age`: Age of the customer.\n",
    "     * `tenure`: Tenure of the customer's account.\n",
    "     * `balance`: Balance in the customer's account.\n",
    "     * `num_of_products`: Number of banking products a customer has.\n",
    "     * `estimated_salary`: Estimated salary for a customer.\n",
    "     \n",
    "Now that we know the kind of variables (columns) we have is easier to determine in which we have to apply an encoding or an scaling, but we have to apply one of those for all our variables? We will follow the next points to balance our information:\n",
    "\n",
    "1.- There are variables in which has sense to think are relevant to the prediction, but this is not the case for columns `\"row_number\"`, `\"customer_id\"` and `\"surname\"`. This is because those columns do not have relevant value that can have relation with our interest values: why a specific customer's id, surname or order in the table is relevant to predict if they will exit the back services? This is why we will not use the values on it for the models we will generate and will only categorize the following features: `\"geography\"`, `\"gender\"`, `\"has_cr_card\"` & `\"is_active_member\"`.\n",
    "\n",
    "2.- In case of scaling, we will apply it on all the numeric variables on our dataset.\n",
    "\n",
    "3.- For the column `\"exited\"` (which is our target), we will not apply an encoding to it becaused is already encoded as we need (0s and 1s).\n",
    "\n",
    "-------------------------------------------------------------------------------------------------------------------------------\n",
    "----------\n",
    "\n",
    "Now is time to define our goal:\n",
    "\n",
    "`The goal is to obtain a model with an F1 score of 0.65 or above.`"
   ]
  },
  {
   "cell_type": "markdown",
   "metadata": {},
   "source": [
    "### Defining features and target"
   ]
  },
  {
   "cell_type": "markdown",
   "metadata": {},
   "source": [
    "Before starting let's define our features and target for this project:\n",
    "\n",
    " * Target: \"exited\" column.\n",
    " * Features: All columns except \"exited\", \"row_number\", \"customer_id\" and \"surname\" columns.\n",
    " \n",
    "With this in mind we can proceed with further steps of the project."
   ]
  },
  {
   "cell_type": "code",
   "execution_count": 14,
   "metadata": {},
   "outputs": [],
   "source": [
    "features = data.drop(['row_number', 'customer_id', 'surname', 'exited'], axis=1)\n",
    "target = data['exited']"
   ]
  },
  {
   "cell_type": "markdown",
   "metadata": {},
   "source": [
    "Something we will be using for the data in all our models are our lists categorics and numerics which has on them the names of the columns which must have an encoding (categorics list) or the names of the columns which must have an scaling (numerics list). The type of encoding will vary depending of the model we will use on the data but the scaling will be the same for all the different kinds of data."
   ]
  },
  {
   "cell_type": "code",
   "execution_count": 82,
   "metadata": {},
   "outputs": [],
   "source": [
    "categorics = ['geography', 'gender', 'has_cr_card', 'is_active_member']\n",
    "numerics = ['credit_score', 'age', 'tenure', 'balance', 'num_of_products', 'estimated_salary']"
   ]
  },
  {
   "cell_type": "markdown",
   "metadata": {},
   "source": [
    "### Ordinal Encoding and scaling"
   ]
  },
  {
   "cell_type": "markdown",
   "metadata": {},
   "source": [
    "The first type of encoding we will be using is the Ordinal Encoding (in this case we will use it to encode nominal variables). The data we encode this way will be used for the RandomForestClassifier models on the project. Let's see the way our data changes with this encoding."
   ]
  },
  {
   "cell_type": "code",
   "execution_count": 83,
   "metadata": {},
   "outputs": [],
   "source": [
    "encoder = OrdinalEncoder()\n",
    "feat_nom = pd.DataFrame(encoder.fit_transform(features[categorics]), columns=features[categorics].columns)\n",
    "feat_nom = pd.concat([feat_nom, features[numerics]], axis=1)"
   ]
  },
  {
   "cell_type": "markdown",
   "metadata": {},
   "source": [
    "Once the encoding is done we can see the columns \"geography\" and \"gender\" changed ther values to numeric type values: in case of \"geography\" the values are from 0-2 and for \"gender\" are 0-1. But for columns \"has_cr_card\" and \"is_active_,member\" no change was made because those columns already had numeric type values (0 and 1 on both of them)."
   ]
  },
  {
   "cell_type": "code",
   "execution_count": 16,
   "metadata": {},
   "outputs": [
    {
     "data": {
      "text/html": [
       "<div>\n",
       "<style scoped>\n",
       "    .dataframe tbody tr th:only-of-type {\n",
       "        vertical-align: middle;\n",
       "    }\n",
       "\n",
       "    .dataframe tbody tr th {\n",
       "        vertical-align: top;\n",
       "    }\n",
       "\n",
       "    .dataframe thead th {\n",
       "        text-align: right;\n",
       "    }\n",
       "</style>\n",
       "<table border=\"1\" class=\"dataframe\">\n",
       "  <thead>\n",
       "    <tr style=\"text-align: right;\">\n",
       "      <th></th>\n",
       "      <th>geography</th>\n",
       "      <th>gender</th>\n",
       "      <th>has_cr_card</th>\n",
       "      <th>is_active_member</th>\n",
       "      <th>credit_score</th>\n",
       "      <th>age</th>\n",
       "      <th>tenure</th>\n",
       "      <th>balance</th>\n",
       "      <th>num_of_products</th>\n",
       "      <th>estimated_salary</th>\n",
       "    </tr>\n",
       "  </thead>\n",
       "  <tbody>\n",
       "    <tr>\n",
       "      <th>0</th>\n",
       "      <td>0.0</td>\n",
       "      <td>0.0</td>\n",
       "      <td>1.0</td>\n",
       "      <td>1.0</td>\n",
       "      <td>619</td>\n",
       "      <td>42</td>\n",
       "      <td>2</td>\n",
       "      <td>0.00</td>\n",
       "      <td>1</td>\n",
       "      <td>101348.88</td>\n",
       "    </tr>\n",
       "    <tr>\n",
       "      <th>1</th>\n",
       "      <td>2.0</td>\n",
       "      <td>0.0</td>\n",
       "      <td>0.0</td>\n",
       "      <td>1.0</td>\n",
       "      <td>608</td>\n",
       "      <td>41</td>\n",
       "      <td>1</td>\n",
       "      <td>83807.86</td>\n",
       "      <td>1</td>\n",
       "      <td>112542.58</td>\n",
       "    </tr>\n",
       "    <tr>\n",
       "      <th>2</th>\n",
       "      <td>0.0</td>\n",
       "      <td>0.0</td>\n",
       "      <td>1.0</td>\n",
       "      <td>0.0</td>\n",
       "      <td>502</td>\n",
       "      <td>42</td>\n",
       "      <td>8</td>\n",
       "      <td>159660.80</td>\n",
       "      <td>3</td>\n",
       "      <td>113931.57</td>\n",
       "    </tr>\n",
       "    <tr>\n",
       "      <th>3</th>\n",
       "      <td>0.0</td>\n",
       "      <td>0.0</td>\n",
       "      <td>0.0</td>\n",
       "      <td>0.0</td>\n",
       "      <td>699</td>\n",
       "      <td>39</td>\n",
       "      <td>1</td>\n",
       "      <td>0.00</td>\n",
       "      <td>2</td>\n",
       "      <td>93826.63</td>\n",
       "    </tr>\n",
       "    <tr>\n",
       "      <th>4</th>\n",
       "      <td>2.0</td>\n",
       "      <td>0.0</td>\n",
       "      <td>1.0</td>\n",
       "      <td>1.0</td>\n",
       "      <td>850</td>\n",
       "      <td>43</td>\n",
       "      <td>2</td>\n",
       "      <td>125510.82</td>\n",
       "      <td>1</td>\n",
       "      <td>79084.10</td>\n",
       "    </tr>\n",
       "  </tbody>\n",
       "</table>\n",
       "</div>"
      ],
      "text/plain": [
       "   geography  gender  has_cr_card  is_active_member  credit_score  age  \\\n",
       "0        0.0     0.0          1.0               1.0           619   42   \n",
       "1        2.0     0.0          0.0               1.0           608   41   \n",
       "2        0.0     0.0          1.0               0.0           502   42   \n",
       "3        0.0     0.0          0.0               0.0           699   39   \n",
       "4        2.0     0.0          1.0               1.0           850   43   \n",
       "\n",
       "   tenure    balance  num_of_products  estimated_salary  \n",
       "0       2       0.00                1         101348.88  \n",
       "1       1   83807.86                1         112542.58  \n",
       "2       8  159660.80                3         113931.57  \n",
       "3       1       0.00                2          93826.63  \n",
       "4       2  125510.82                1          79084.10  "
      ]
     },
     "execution_count": 16,
     "metadata": {},
     "output_type": "execute_result"
    }
   ],
   "source": [
    "feat_nom.head()"
   ]
  },
  {
   "cell_type": "markdown",
   "metadata": {},
   "source": [
    "Before proceeding with the scaling of numeric columns we need to split our information in 3 different sets: training set, validation set and test set. This will be the naming and percentage of information for all the sets we will be using:\n",
    "\n",
    "* Set \"x\": Training set (70%)\n",
    "* Set \"y\": Validation set (20%)\n",
    "* Set \"z\": Test set (10%)"
   ]
  },
  {
   "cell_type": "code",
   "execution_count": 17,
   "metadata": {},
   "outputs": [],
   "source": [
    "x_feat_nom, yz_feat_nom, x_target, yz_target = train_test_split(feat_nom, target, test_size=0.3, train_size=0.7, random_state=12345)\n",
    "y_feat_nom, z_feat_nom, y_target, z_target = train_test_split(yz_feat_nom, yz_target, train_size=0.66667, random_state=12345)"
   ]
  },
  {
   "cell_type": "markdown",
   "metadata": {},
   "source": [
    "Now we have our sets the way we want we can continue with the scaling of the data. For this we need to use ou training features set to fit the scaler and the apply it on all the features sets we generated."
   ]
  },
  {
   "cell_type": "code",
   "execution_count": 18,
   "metadata": {},
   "outputs": [
    {
     "data": {
      "text/plain": [
       "StandardScaler()"
      ]
     },
     "execution_count": 18,
     "metadata": {},
     "output_type": "execute_result"
    }
   ],
   "source": [
    "scaler = StandardScaler()\n",
    "scaler.fit(x_feat_nom.loc[:, numerics])"
   ]
  },
  {
   "cell_type": "code",
   "execution_count": 19,
   "metadata": {},
   "outputs": [
    {
     "name": "stderr",
     "output_type": "stream",
     "text": [
      "/opt/conda/envs/python3/lib/python3.9/site-packages/pandas/core/indexing.py:1738: SettingWithCopyWarning: \n",
      "A value is trying to be set on a copy of a slice from a DataFrame.\n",
      "Try using .loc[row_indexer,col_indexer] = value instead\n",
      "\n",
      "See the caveats in the documentation: https://pandas.pydata.org/pandas-docs/stable/user_guide/indexing.html#returning-a-view-versus-a-copy\n",
      "  self._setitem_single_column(loc, value[:, i].tolist(), pi)\n",
      "/opt/conda/envs/python3/lib/python3.9/site-packages/pandas/core/indexing.py:1738: SettingWithCopyWarning: \n",
      "A value is trying to be set on a copy of a slice from a DataFrame.\n",
      "Try using .loc[row_indexer,col_indexer] = value instead\n",
      "\n",
      "See the caveats in the documentation: https://pandas.pydata.org/pandas-docs/stable/user_guide/indexing.html#returning-a-view-versus-a-copy\n",
      "  self._setitem_single_column(loc, value[:, i].tolist(), pi)\n",
      "/opt/conda/envs/python3/lib/python3.9/site-packages/pandas/core/indexing.py:1738: SettingWithCopyWarning: \n",
      "A value is trying to be set on a copy of a slice from a DataFrame.\n",
      "Try using .loc[row_indexer,col_indexer] = value instead\n",
      "\n",
      "See the caveats in the documentation: https://pandas.pydata.org/pandas-docs/stable/user_guide/indexing.html#returning-a-view-versus-a-copy\n",
      "  self._setitem_single_column(loc, value[:, i].tolist(), pi)\n"
     ]
    }
   ],
   "source": [
    "x_feat_nom.loc[:, numerics] = scaler.transform(x_feat_nom.loc[:, numerics])\n",
    "y_feat_nom.loc[:, numerics] = scaler.transform(y_feat_nom.loc[:, numerics])\n",
    "z_feat_nom.loc[:, numerics] = scaler.transform(z_feat_nom.loc[:, numerics])"
   ]
  },
  {
   "cell_type": "markdown",
   "metadata": {},
   "source": [
    "We can see now our information has been processed the way we need and can continue to train our RandomForestClassifier."
   ]
  },
  {
   "cell_type": "code",
   "execution_count": 20,
   "metadata": {
    "scrolled": true
   },
   "outputs": [
    {
     "data": {
      "text/html": [
       "<div>\n",
       "<style scoped>\n",
       "    .dataframe tbody tr th:only-of-type {\n",
       "        vertical-align: middle;\n",
       "    }\n",
       "\n",
       "    .dataframe tbody tr th {\n",
       "        vertical-align: top;\n",
       "    }\n",
       "\n",
       "    .dataframe thead th {\n",
       "        text-align: right;\n",
       "    }\n",
       "</style>\n",
       "<table border=\"1\" class=\"dataframe\">\n",
       "  <thead>\n",
       "    <tr style=\"text-align: right;\">\n",
       "      <th></th>\n",
       "      <th>geography</th>\n",
       "      <th>gender</th>\n",
       "      <th>has_cr_card</th>\n",
       "      <th>is_active_member</th>\n",
       "      <th>credit_score</th>\n",
       "      <th>age</th>\n",
       "      <th>tenure</th>\n",
       "      <th>balance</th>\n",
       "      <th>num_of_products</th>\n",
       "      <th>estimated_salary</th>\n",
       "    </tr>\n",
       "  </thead>\n",
       "  <tbody>\n",
       "    <tr>\n",
       "      <th>9716</th>\n",
       "      <td>1.0</td>\n",
       "      <td>1.0</td>\n",
       "      <td>1.0</td>\n",
       "      <td>1.0</td>\n",
       "      <td>1.658077</td>\n",
       "      <td>0.012853</td>\n",
       "      <td>-0.011409</td>\n",
       "      <td>0.635477</td>\n",
       "      <td>2.527132</td>\n",
       "      <td>1.480907</td>\n",
       "    </tr>\n",
       "    <tr>\n",
       "      <th>224</th>\n",
       "      <td>1.0</td>\n",
       "      <td>1.0</td>\n",
       "      <td>1.0</td>\n",
       "      <td>1.0</td>\n",
       "      <td>0.198643</td>\n",
       "      <td>0.584111</td>\n",
       "      <td>0.353260</td>\n",
       "      <td>0.375870</td>\n",
       "      <td>-0.895510</td>\n",
       "      <td>0.153167</td>\n",
       "    </tr>\n",
       "    <tr>\n",
       "      <th>589</th>\n",
       "      <td>2.0</td>\n",
       "      <td>0.0</td>\n",
       "      <td>0.0</td>\n",
       "      <td>0.0</td>\n",
       "      <td>-1.374648</td>\n",
       "      <td>0.774530</td>\n",
       "      <td>0.353260</td>\n",
       "      <td>1.302947</td>\n",
       "      <td>0.815811</td>\n",
       "      <td>0.817773</td>\n",
       "    </tr>\n",
       "    <tr>\n",
       "      <th>7507</th>\n",
       "      <td>1.0</td>\n",
       "      <td>1.0</td>\n",
       "      <td>1.0</td>\n",
       "      <td>0.0</td>\n",
       "      <td>-0.784664</td>\n",
       "      <td>0.488901</td>\n",
       "      <td>1.447267</td>\n",
       "      <td>0.696496</td>\n",
       "      <td>-0.895510</td>\n",
       "      <td>0.329403</td>\n",
       "    </tr>\n",
       "    <tr>\n",
       "      <th>1457</th>\n",
       "      <td>0.0</td>\n",
       "      <td>1.0</td>\n",
       "      <td>0.0</td>\n",
       "      <td>1.0</td>\n",
       "      <td>2.051400</td>\n",
       "      <td>2.583513</td>\n",
       "      <td>-0.376078</td>\n",
       "      <td>-1.222967</td>\n",
       "      <td>0.815811</td>\n",
       "      <td>-0.617269</td>\n",
       "    </tr>\n",
       "  </tbody>\n",
       "</table>\n",
       "</div>"
      ],
      "text/plain": [
       "      geography  gender  has_cr_card  is_active_member  credit_score  \\\n",
       "9716        1.0     1.0          1.0               1.0      1.658077   \n",
       "224         1.0     1.0          1.0               1.0      0.198643   \n",
       "589         2.0     0.0          0.0               0.0     -1.374648   \n",
       "7507        1.0     1.0          1.0               0.0     -0.784664   \n",
       "1457        0.0     1.0          0.0               1.0      2.051400   \n",
       "\n",
       "           age    tenure   balance  num_of_products  estimated_salary  \n",
       "9716  0.012853 -0.011409  0.635477         2.527132          1.480907  \n",
       "224   0.584111  0.353260  0.375870        -0.895510          0.153167  \n",
       "589   0.774530  0.353260  1.302947         0.815811          0.817773  \n",
       "7507  0.488901  1.447267  0.696496        -0.895510          0.329403  \n",
       "1457  2.583513 -0.376078 -1.222967         0.815811         -0.617269  "
      ]
     },
     "execution_count": 20,
     "metadata": {},
     "output_type": "execute_result"
    }
   ],
   "source": [
    "x_feat_nom.head()"
   ]
  },
  {
   "cell_type": "markdown",
   "metadata": {},
   "source": [
    "Once with our model we can obtain many useful information as the following (we will use a n_estimators and max_depth of 100 and 11 respectively):\n",
    "\n",
    " * Although we have a precision score of almost 0.8, the recall score of 0.42 can be improved.\n",
    " * The model's F1 score is 0.5574, almost 0.1 below the desired value.\n",
    " * We are missing more than the half (57%) of positives with the current model."
   ]
  },
  {
   "cell_type": "code",
   "execution_count": 21,
   "metadata": {},
   "outputs": [
    {
     "data": {
      "text/plain": [
       "RandomForestClassifier(max_depth=11, random_state=12345)"
      ]
     },
     "execution_count": 21,
     "metadata": {},
     "output_type": "execute_result"
    }
   ],
   "source": [
    "model_nom = RandomForestClassifier(n_estimators=100, max_depth=11, random_state=12345)\n",
    "model_nom.fit(x_feat_nom, x_target)"
   ]
  },
  {
   "cell_type": "code",
   "execution_count": 22,
   "metadata": {},
   "outputs": [
    {
     "name": "stdout",
     "output_type": "stream",
     "text": [
      "The recall score is:    0.42961165048543687.\n",
      "The precision score is: 0.7937219730941704.\n",
      "The F1 score is:        0.5574803149606299.\n"
     ]
    }
   ],
   "source": [
    "pred_nom = model_nom.predict(y_feat_nom)\n",
    "\n",
    "print(f\"The recall score is:    {recall_score(y_target, pred_nom)}.\")\n",
    "print(f\"The precision score is: {precision_score(y_target, pred_nom)}.\")\n",
    "print(f\"The F1 score is:        {f1_score(y_target, pred_nom)}.\")"
   ]
  },
  {
   "cell_type": "code",
   "execution_count": 23,
   "metadata": {
    "scrolled": false
   },
   "outputs": [
    {
     "data": {
      "text/plain": [
       "<sklearn.metrics._plot.confusion_matrix.ConfusionMatrixDisplay at 0x7fb418e8e6a0>"
      ]
     },
     "execution_count": 23,
     "metadata": {},
     "output_type": "execute_result"
    },
    {
     "data": {
      "image/png": "[encoded data removed]",
      "text/plain": [
       "<Figure size 640x480 with 2 Axes>"
      ]
     },
     "metadata": {},
     "output_type": "display_data"
    }
   ],
   "source": [
    "plot_confusion_matrix(model_nom, X=y_feat_nom, y_true=y_target, normalize='true', cmap='Blues')"
   ]
  },
  {
   "cell_type": "markdown",
   "metadata": {},
   "source": [
    "### OHE Encoding and scaling"
   ]
  },
  {
   "cell_type": "markdown",
   "metadata": {},
   "source": [
    "Similar with the data we will use for the Random Forest models, we need to encode the data we will use for Logistic Regression models in a specific way: the OHE encoding. \n",
    "\n",
    "Using the \"pandas\" function \"get_dummies()\" we can take all columns with categoric type value and generate a new columns for each unique value on them, though we can drop one of them with the parameter \"drop_first = True\" to save memory and processing resources. Each column generated will have zeros and ones stating a true or false value for a specific unique value.\n",
    "\n",
    "Once done we can see the shape of the dataframe changed due to the OHE encoding."
   ]
  },
  {
   "cell_type": "code",
   "execution_count": 24,
   "metadata": {},
   "outputs": [],
   "source": [
    "feat_ohe = pd.get_dummies(features, drop_first=True)"
   ]
  },
  {
   "cell_type": "code",
   "execution_count": 25,
   "metadata": {},
   "outputs": [
    {
     "data": {
      "text/html": [
       "<div>\n",
       "<style scoped>\n",
       "    .dataframe tbody tr th:only-of-type {\n",
       "        vertical-align: middle;\n",
       "    }\n",
       "\n",
       "    .dataframe tbody tr th {\n",
       "        vertical-align: top;\n",
       "    }\n",
       "\n",
       "    .dataframe thead th {\n",
       "        text-align: right;\n",
       "    }\n",
       "</style>\n",
       "<table border=\"1\" class=\"dataframe\">\n",
       "  <thead>\n",
       "    <tr style=\"text-align: right;\">\n",
       "      <th></th>\n",
       "      <th>credit_score</th>\n",
       "      <th>age</th>\n",
       "      <th>tenure</th>\n",
       "      <th>balance</th>\n",
       "      <th>num_of_products</th>\n",
       "      <th>has_cr_card</th>\n",
       "      <th>is_active_member</th>\n",
       "      <th>estimated_salary</th>\n",
       "      <th>geography_Germany</th>\n",
       "      <th>geography_Spain</th>\n",
       "      <th>gender_Male</th>\n",
       "    </tr>\n",
       "  </thead>\n",
       "  <tbody>\n",
       "    <tr>\n",
       "      <th>0</th>\n",
       "      <td>619</td>\n",
       "      <td>42</td>\n",
       "      <td>2</td>\n",
       "      <td>0.00</td>\n",
       "      <td>1</td>\n",
       "      <td>1</td>\n",
       "      <td>1</td>\n",
       "      <td>101348.88</td>\n",
       "      <td>0</td>\n",
       "      <td>0</td>\n",
       "      <td>0</td>\n",
       "    </tr>\n",
       "    <tr>\n",
       "      <th>1</th>\n",
       "      <td>608</td>\n",
       "      <td>41</td>\n",
       "      <td>1</td>\n",
       "      <td>83807.86</td>\n",
       "      <td>1</td>\n",
       "      <td>0</td>\n",
       "      <td>1</td>\n",
       "      <td>112542.58</td>\n",
       "      <td>0</td>\n",
       "      <td>1</td>\n",
       "      <td>0</td>\n",
       "    </tr>\n",
       "    <tr>\n",
       "      <th>2</th>\n",
       "      <td>502</td>\n",
       "      <td>42</td>\n",
       "      <td>8</td>\n",
       "      <td>159660.80</td>\n",
       "      <td>3</td>\n",
       "      <td>1</td>\n",
       "      <td>0</td>\n",
       "      <td>113931.57</td>\n",
       "      <td>0</td>\n",
       "      <td>0</td>\n",
       "      <td>0</td>\n",
       "    </tr>\n",
       "    <tr>\n",
       "      <th>3</th>\n",
       "      <td>699</td>\n",
       "      <td>39</td>\n",
       "      <td>1</td>\n",
       "      <td>0.00</td>\n",
       "      <td>2</td>\n",
       "      <td>0</td>\n",
       "      <td>0</td>\n",
       "      <td>93826.63</td>\n",
       "      <td>0</td>\n",
       "      <td>0</td>\n",
       "      <td>0</td>\n",
       "    </tr>\n",
       "    <tr>\n",
       "      <th>4</th>\n",
       "      <td>850</td>\n",
       "      <td>43</td>\n",
       "      <td>2</td>\n",
       "      <td>125510.82</td>\n",
       "      <td>1</td>\n",
       "      <td>1</td>\n",
       "      <td>1</td>\n",
       "      <td>79084.10</td>\n",
       "      <td>0</td>\n",
       "      <td>1</td>\n",
       "      <td>0</td>\n",
       "    </tr>\n",
       "  </tbody>\n",
       "</table>\n",
       "</div>"
      ],
      "text/plain": [
       "   credit_score  age  tenure    balance  num_of_products  has_cr_card  \\\n",
       "0           619   42       2       0.00                1            1   \n",
       "1           608   41       1   83807.86                1            0   \n",
       "2           502   42       8  159660.80                3            1   \n",
       "3           699   39       1       0.00                2            0   \n",
       "4           850   43       2  125510.82                1            1   \n",
       "\n",
       "   is_active_member  estimated_salary  geography_Germany  geography_Spain  \\\n",
       "0                 1         101348.88                  0                0   \n",
       "1                 1         112542.58                  0                1   \n",
       "2                 0         113931.57                  0                0   \n",
       "3                 0          93826.63                  0                0   \n",
       "4                 1          79084.10                  0                1   \n",
       "\n",
       "   gender_Male  \n",
       "0            0  \n",
       "1            0  \n",
       "2            0  \n",
       "3            0  \n",
       "4            0  "
      ]
     },
     "execution_count": 25,
     "metadata": {},
     "output_type": "execute_result"
    }
   ],
   "source": [
    "feat_ohe.head()"
   ]
  },
  {
   "cell_type": "markdown",
   "metadata": {},
   "source": [
    "Same as in the Ordinal Encoding, we have to scale the numeric values for the Logistic Regression models. We will name and split the information the same way as in previous section `(basically the scaling process will be the same for the rest of the project so we will move fast in further scaling sections in the project)`."
   ]
  },
  {
   "cell_type": "code",
   "execution_count": 26,
   "metadata": {},
   "outputs": [],
   "source": [
    "x_feat_ohe, yz_feat_ohe = train_test_split(feat_ohe, test_size=0.3, train_size=0.7, random_state=12345)\n",
    "y_feat_ohe, z_feat_ohe = train_test_split(yz_feat_ohe, train_size=0.66667, random_state=12345)"
   ]
  },
  {
   "cell_type": "code",
   "execution_count": 27,
   "metadata": {},
   "outputs": [
    {
     "data": {
      "text/plain": [
       "StandardScaler()"
      ]
     },
     "execution_count": 27,
     "metadata": {},
     "output_type": "execute_result"
    }
   ],
   "source": [
    "scaler = StandardScaler()\n",
    "scaler.fit(x_feat_ohe.loc[:, numerics])"
   ]
  },
  {
   "cell_type": "code",
   "execution_count": 28,
   "metadata": {},
   "outputs": [
    {
     "name": "stderr",
     "output_type": "stream",
     "text": [
      "/opt/conda/envs/python3/lib/python3.9/site-packages/pandas/core/indexing.py:1738: SettingWithCopyWarning: \n",
      "A value is trying to be set on a copy of a slice from a DataFrame.\n",
      "Try using .loc[row_indexer,col_indexer] = value instead\n",
      "\n",
      "See the caveats in the documentation: https://pandas.pydata.org/pandas-docs/stable/user_guide/indexing.html#returning-a-view-versus-a-copy\n",
      "  self._setitem_single_column(loc, value[:, i].tolist(), pi)\n",
      "/opt/conda/envs/python3/lib/python3.9/site-packages/pandas/core/indexing.py:1738: SettingWithCopyWarning: \n",
      "A value is trying to be set on a copy of a slice from a DataFrame.\n",
      "Try using .loc[row_indexer,col_indexer] = value instead\n",
      "\n",
      "See the caveats in the documentation: https://pandas.pydata.org/pandas-docs/stable/user_guide/indexing.html#returning-a-view-versus-a-copy\n",
      "  self._setitem_single_column(loc, value[:, i].tolist(), pi)\n",
      "/opt/conda/envs/python3/lib/python3.9/site-packages/pandas/core/indexing.py:1738: SettingWithCopyWarning: \n",
      "A value is trying to be set on a copy of a slice from a DataFrame.\n",
      "Try using .loc[row_indexer,col_indexer] = value instead\n",
      "\n",
      "See the caveats in the documentation: https://pandas.pydata.org/pandas-docs/stable/user_guide/indexing.html#returning-a-view-versus-a-copy\n",
      "  self._setitem_single_column(loc, value[:, i].tolist(), pi)\n"
     ]
    }
   ],
   "source": [
    "x_feat_ohe.loc[:, numerics] = scaler.transform(x_feat_ohe.loc[:, numerics])\n",
    "y_feat_ohe.loc[:, numerics] = scaler.transform(y_feat_ohe.loc[:, numerics])\n",
    "z_feat_ohe.loc[:, numerics] = scaler.transform(z_feat_ohe.loc[:, numerics])"
   ]
  },
  {
   "cell_type": "code",
   "execution_count": 29,
   "metadata": {},
   "outputs": [
    {
     "data": {
      "text/html": [
       "<div>\n",
       "<style scoped>\n",
       "    .dataframe tbody tr th:only-of-type {\n",
       "        vertical-align: middle;\n",
       "    }\n",
       "\n",
       "    .dataframe tbody tr th {\n",
       "        vertical-align: top;\n",
       "    }\n",
       "\n",
       "    .dataframe thead th {\n",
       "        text-align: right;\n",
       "    }\n",
       "</style>\n",
       "<table border=\"1\" class=\"dataframe\">\n",
       "  <thead>\n",
       "    <tr style=\"text-align: right;\">\n",
       "      <th></th>\n",
       "      <th>credit_score</th>\n",
       "      <th>age</th>\n",
       "      <th>tenure</th>\n",
       "      <th>balance</th>\n",
       "      <th>num_of_products</th>\n",
       "      <th>has_cr_card</th>\n",
       "      <th>is_active_member</th>\n",
       "      <th>estimated_salary</th>\n",
       "      <th>geography_Germany</th>\n",
       "      <th>geography_Spain</th>\n",
       "      <th>gender_Male</th>\n",
       "    </tr>\n",
       "  </thead>\n",
       "  <tbody>\n",
       "    <tr>\n",
       "      <th>9716</th>\n",
       "      <td>1.658077</td>\n",
       "      <td>0.012853</td>\n",
       "      <td>-0.011409</td>\n",
       "      <td>0.635477</td>\n",
       "      <td>2.527132</td>\n",
       "      <td>1</td>\n",
       "      <td>1</td>\n",
       "      <td>1.480907</td>\n",
       "      <td>1</td>\n",
       "      <td>0</td>\n",
       "      <td>1</td>\n",
       "    </tr>\n",
       "    <tr>\n",
       "      <th>224</th>\n",
       "      <td>0.198643</td>\n",
       "      <td>0.584111</td>\n",
       "      <td>0.353260</td>\n",
       "      <td>0.375870</td>\n",
       "      <td>-0.895510</td>\n",
       "      <td>1</td>\n",
       "      <td>1</td>\n",
       "      <td>0.153167</td>\n",
       "      <td>1</td>\n",
       "      <td>0</td>\n",
       "      <td>1</td>\n",
       "    </tr>\n",
       "    <tr>\n",
       "      <th>589</th>\n",
       "      <td>-1.374648</td>\n",
       "      <td>0.774530</td>\n",
       "      <td>0.353260</td>\n",
       "      <td>1.302947</td>\n",
       "      <td>0.815811</td>\n",
       "      <td>0</td>\n",
       "      <td>0</td>\n",
       "      <td>0.817773</td>\n",
       "      <td>0</td>\n",
       "      <td>1</td>\n",
       "      <td>0</td>\n",
       "    </tr>\n",
       "    <tr>\n",
       "      <th>7507</th>\n",
       "      <td>-0.784664</td>\n",
       "      <td>0.488901</td>\n",
       "      <td>1.447267</td>\n",
       "      <td>0.696496</td>\n",
       "      <td>-0.895510</td>\n",
       "      <td>1</td>\n",
       "      <td>0</td>\n",
       "      <td>0.329403</td>\n",
       "      <td>1</td>\n",
       "      <td>0</td>\n",
       "      <td>1</td>\n",
       "    </tr>\n",
       "    <tr>\n",
       "      <th>1457</th>\n",
       "      <td>2.051400</td>\n",
       "      <td>2.583513</td>\n",
       "      <td>-0.376078</td>\n",
       "      <td>-1.222967</td>\n",
       "      <td>0.815811</td>\n",
       "      <td>0</td>\n",
       "      <td>1</td>\n",
       "      <td>-0.617269</td>\n",
       "      <td>0</td>\n",
       "      <td>0</td>\n",
       "      <td>1</td>\n",
       "    </tr>\n",
       "  </tbody>\n",
       "</table>\n",
       "</div>"
      ],
      "text/plain": [
       "      credit_score       age    tenure   balance  num_of_products  \\\n",
       "9716      1.658077  0.012853 -0.011409  0.635477         2.527132   \n",
       "224       0.198643  0.584111  0.353260  0.375870        -0.895510   \n",
       "589      -1.374648  0.774530  0.353260  1.302947         0.815811   \n",
       "7507     -0.784664  0.488901  1.447267  0.696496        -0.895510   \n",
       "1457      2.051400  2.583513 -0.376078 -1.222967         0.815811   \n",
       "\n",
       "      has_cr_card  is_active_member  estimated_salary  geography_Germany  \\\n",
       "9716            1                 1          1.480907                  1   \n",
       "224             1                 1          0.153167                  1   \n",
       "589             0                 0          0.817773                  0   \n",
       "7507            1                 0          0.329403                  1   \n",
       "1457            0                 1         -0.617269                  0   \n",
       "\n",
       "      geography_Spain  gender_Male  \n",
       "9716                0            1  \n",
       "224                 0            1  \n",
       "589                 1            0  \n",
       "7507                0            1  \n",
       "1457                0            1  "
      ]
     },
     "execution_count": 29,
     "metadata": {},
     "output_type": "execute_result"
    }
   ],
   "source": [
    "x_feat_ohe.head()"
   ]
  },
  {
   "cell_type": "markdown",
   "metadata": {},
   "source": [
    "Training our Logistic Regression model using \"saga\" as our solver (following documentation both \"sag\" and \"saga\" work faster with large datasets so this solver will be used for the training process) we get the following information:\n",
    "\n",
    "* Both recall and precision model's scores are lower than Random Forest model's values.\n",
    "* Model's F1 score is 0.31, 0.34 units below than desired value.\n",
    "* The model is missing the 78% of positive values."
   ]
  },
  {
   "cell_type": "code",
   "execution_count": 94,
   "metadata": {},
   "outputs": [
    {
     "data": {
      "text/plain": [
       "LogisticRegression(random_state=12345, solver='saga')"
      ]
     },
     "execution_count": 94,
     "metadata": {},
     "output_type": "execute_result"
    }
   ],
   "source": [
    "model_ohe = LogisticRegression(random_state=12345, solver='saga')\n",
    "model_ohe.fit(x_feat_ohe, x_target)"
   ]
  },
  {
   "cell_type": "code",
   "execution_count": 95,
   "metadata": {},
   "outputs": [
    {
     "name": "stdout",
     "output_type": "stream",
     "text": [
      "The recall score is:    0.21601941747572814.\n",
      "The precision score is: 0.577922077922078.\n",
      "The F1 score is:        0.31448763250883394.\n"
     ]
    }
   ],
   "source": [
    "pred_ohe = model_ohe.predict(y_feat_ohe)\n",
    "\n",
    "print(f\"The recall score is:    {recall_score(y_target, pred_ohe)}.\")\n",
    "print(f\"The precision score is: {precision_score(y_target, pred_ohe)}.\")\n",
    "print(f\"The F1 score is:        {f1_score(y_target, pred_ohe)}.\")"
   ]
  },
  {
   "cell_type": "code",
   "execution_count": 96,
   "metadata": {
    "scrolled": false
   },
   "outputs": [
    {
     "data": {
      "text/plain": [
       "<sklearn.metrics._plot.confusion_matrix.ConfusionMatrixDisplay at 0x7fb416f70b20>"
      ]
     },
     "execution_count": 96,
     "metadata": {},
     "output_type": "execute_result"
    },
    {
     "data": {
      "image/png": "[encoded data removed]",
      "text/plain": [
       "<Figure size 640x480 with 2 Axes>"
      ]
     },
     "metadata": {},
     "output_type": "display_data"
    }
   ],
   "source": [
    "plot_confusion_matrix(model_ohe, X=y_feat_ohe, y_true=y_target, normalize='true', cmap='Blues')"
   ]
  },
  {
   "cell_type": "markdown",
   "metadata": {},
   "source": [
    "### Conclusions"
   ]
  },
  {
   "cell_type": "markdown",
   "metadata": {},
   "source": [
    "With the values we have we cannot reach the project's goal. Our models are incorrectly predicting many positive values as false, maybe for a huge difference of the quantity of both values on the dataframe, causing both our precision and recall scores decrease along the F1 value. So we need to apply techniques to improve our predictive models in a way we can increase the F1 values for both models.\n",
    "\n",
    "To achieve this, in the following sections we will apply different balancing strategies, see how each of those improve the models and the decided if a specific strategy or a combination of them help us increase the F1 values."
   ]
  },
  {
   "cell_type": "markdown",
   "metadata": {},
   "source": [
    "## Fixing the unbalance in the sets"
   ]
  },
  {
   "cell_type": "markdown",
   "metadata": {},
   "source": [
    "When we are working with datasets, there will be situations where the target variable in the set has one or various unique values will be repeated more than other values (popular classes and rare classes). This is called \"unbalance\" and can be solved in different ways, ones more effective than others depending of the case.\n",
    "\n",
    "The strategies to solve the unbalance that will be used on this project are:\n",
    " * class_weight='balanced'\n",
    " * Oversampling\n",
    " * Undersampling\n",
    " * Classification threshold\n",
    " \n",
    "Let's see how each of these strategies improves our models."
   ]
  },
  {
   "cell_type": "markdown",
   "metadata": {},
   "source": [
    "### class_weight = 'balanced'"
   ]
  },
  {
   "cell_type": "markdown",
   "metadata": {},
   "source": [
    "Both Random Forest and Logistic Regression models have a parameter \"class_weight\" which default value is None, but can be changes using a dictionary or with the value 'balanced'. The way the 'balanced' configuration works is the following:\n",
    "\n",
    "`The “balanced” mode uses the values of y to automatically adjust weights inversely proportional to class frequencies in the input data as \" n_samples / ( n_classes * np.bincount(y) ) \".`\n",
    "\n",
    "This means the 'balanced' configuration will give each of target values a weight to simulate each unique value in target has the same quantity of observations with weight equal 1.\n",
    "\n",
    "Let's see how this change our results in both models."
   ]
  },
  {
   "cell_type": "markdown",
   "metadata": {},
   "source": [
    "#### Case Ordinal Encoding"
   ]
  },
  {
   "cell_type": "markdown",
   "metadata": {},
   "source": [
    "For the Random Forest Classifier model we can see the following changes:\n",
    "\n",
    "* The recall score improved from 0.42 to 0.59.\n",
    "* The precision score droped from 0.79 to 0.66.\n",
    "* The F1 score improved from 0.55 to 0.62 (0.03 points below the desired value).\n",
    "* The true positive rate improved from 0.43 to 0.59.\n",
    "* The true negative rate droped from 0.97 to 0.92.\n",
    "\n",
    "The changes were overall positive for this model. Nevertheless, this states the 'balanced' configuration is `not enough` for the Random Forest Classifier model."
   ]
  },
  {
   "cell_type": "code",
   "execution_count": 33,
   "metadata": {},
   "outputs": [
    {
     "name": "stdout",
     "output_type": "stream",
     "text": [
      "The recall score is:    0.5922330097087378.\n",
      "The precision score is: 0.6612466124661247.\n",
      "The F1 score is:        0.6248399487836107.\n"
     ]
    },
    {
     "data": {
      "text/plain": [
       "<sklearn.metrics._plot.confusion_matrix.ConfusionMatrixDisplay at 0x7fb4183aa5e0>"
      ]
     },
     "execution_count": 33,
     "metadata": {},
     "output_type": "execute_result"
    },
    {
     "data": {
      "image/png": "[encoded data removed]",
      "text/plain": [
       "<Figure size 640x480 with 2 Axes>"
      ]
     },
     "metadata": {},
     "output_type": "display_data"
    }
   ],
   "source": [
    "model_nom_bal = RandomForestClassifier(n_estimators=100, max_depth=11, random_state=12345, class_weight='balanced')\n",
    "model_nom_bal.fit(x_feat_nom, x_target)\n",
    "pred_nom_bal = model_nom_bal.predict(y_feat_nom)\n",
    "\n",
    "print(f\"The recall score is:    {recall_score(y_target, pred_nom_bal)}.\")\n",
    "print(f\"The precision score is: {precision_score(y_target, pred_nom_bal)}.\")\n",
    "print(f\"The F1 score is:        {f1_score(y_target, pred_nom_bal)}.\")\n",
    "\n",
    "plot_confusion_matrix(model_nom_bal, X=y_feat_nom, y_true=y_target, normalize='true', cmap='Blues')"
   ]
  },
  {
   "cell_type": "markdown",
   "metadata": {},
   "source": [
    "#### Case OHE"
   ]
  },
  {
   "cell_type": "markdown",
   "metadata": {},
   "source": [
    "For the Logistic Regression model we can see many values have changed:\n",
    "\n",
    "* The recall score improved from 0.21 to 0.71.\n",
    "* The precision score droped from 0.57 to 0.38.\n",
    "* The F1 score improved from 0.31 to 0.49 (0.16 points below the desired value).\n",
    "* The true positive rate improved from 0.22 to 0.71.\n",
    "* The true negative rate droped from 0.96 to 0.7.\n",
    "\n",
    "The changes in the Logistic Regression model were more drastical and even though this the F1 score is not enough yet. So we can conclude the 'balanced' configuration is `not enough` for the Logistic Regression model."
   ]
  },
  {
   "cell_type": "code",
   "execution_count": 98,
   "metadata": {
    "scrolled": false
   },
   "outputs": [
    {
     "name": "stdout",
     "output_type": "stream",
     "text": [
      "The recall score is:    0.7135922330097088.\n",
      "The precision score is: 0.3843137254901961.\n",
      "The F1 score is:        0.4995751911639762.\n"
     ]
    },
    {
     "data": {
      "text/plain": [
       "<sklearn.metrics._plot.confusion_matrix.ConfusionMatrixDisplay at 0x7fb416b7ef40>"
      ]
     },
     "execution_count": 98,
     "metadata": {},
     "output_type": "execute_result"
    },
    {
     "data": {
      "image/png": "[encoded data removed]",
      "text/plain": [
       "<Figure size 640x480 with 2 Axes>"
      ]
     },
     "metadata": {},
     "output_type": "display_data"
    }
   ],
   "source": [
    "model_ohe_bal = LogisticRegression(random_state=12345, class_weight='balanced')\n",
    "model_ohe_bal.fit(x_feat_ohe, x_target)\n",
    "pred_ohe_bal = model_ohe_bal.predict(y_feat_ohe)\n",
    "\n",
    "print(f\"The recall score is:    {recall_score(y_target, pred_ohe_bal)}.\")\n",
    "print(f\"The precision score is: {precision_score(y_target, pred_ohe_bal)}.\")\n",
    "print(f\"The F1 score is:        {f1_score(y_target, pred_ohe_bal)}.\")\n",
    "\n",
    "plot_confusion_matrix(model_ohe_bal, X=y_feat_ohe, y_true=y_target, normalize='true', cmap='Blues')"
   ]
  },
  {
   "cell_type": "markdown",
   "metadata": {},
   "source": [
    "### Oversampling"
   ]
  },
  {
   "cell_type": "markdown",
   "metadata": {},
   "source": [
    "Other way to solve the unbalance in a dataset is to increase the quantity of samples of the rare classes a number of times to increase their class weight. The number of times we can increase our rare values depends on eachone interpretation, but in this case we will try to balance both classes as much as we can.\n",
    "\n",
    "Let's obtain the relation between both classes and use this information to balance the dataframe."
   ]
  },
  {
   "cell_type": "code",
   "execution_count": 35,
   "metadata": {},
   "outputs": [
    {
     "name": "stdout",
     "output_type": "stream",
     "text": [
      "Qty. of not exited customers: 7963\n",
      "Qty. of exited customers:     2037\n"
     ]
    }
   ],
   "source": [
    "# Obtaining the quatity of data for each class\n",
    "print(f\"Qty. of not exited customers: {len(target[target == 0])}\")\n",
    "print(f\"Qty. of exited customers:     {len(target[target == 1])}\")"
   ]
  },
  {
   "cell_type": "code",
   "execution_count": 36,
   "metadata": {},
   "outputs": [
    {
     "name": "stdout",
     "output_type": "stream",
     "text": [
      "Relation between the rare class and the popular class: 3.9091801669121256\n"
     ]
    }
   ],
   "source": [
    "# Obtaining the relation between classes\n",
    "relation = len(target[target == 0]) / len(target[target == 1])\n",
    "\n",
    "print(f\"Relation between the rare class and the popular class: {relation}\")"
   ]
  },
  {
   "cell_type": "markdown",
   "metadata": {},
   "source": [
    "Once we have the relation between classes, we can create a function to generate oversampled sets. The following function is an example:"
   ]
  },
  {
   "cell_type": "code",
   "execution_count": 37,
   "metadata": {},
   "outputs": [],
   "source": [
    "def oversampling(features, target, pop, rare, repeat:int) -> tuple:\n",
    "    \n",
    "    \"\"\"\n",
    "    This function oversamples a features and target sets a number of times equal to 'repeat' depending of the\n",
    "    popular class 'pop' and the rare class 'rare'.\n",
    "    \n",
    "    Input:\n",
    "        ~features: DataFrame, Series, dict, list\n",
    "            -Features dict like variable to oversample.\n",
    "        \n",
    "        ~target: DataFrame, Series, dict, list\n",
    "            -Target dict like variable to oversample.\n",
    "            \n",
    "        ~pop: int, float, bool, str\n",
    "            -Popular class.\n",
    "            \n",
    "        ~rare: int, float, bool, str\n",
    "            -Rare class.\n",
    "            \n",
    "        ~repeat: int, float\n",
    "            -Times you want to repeat the rare class (if float will be rounded up).\n",
    "            \n",
    "    Output:\n",
    "        ~features_over: DataFrame, Series, dict, list\n",
    "            -Oversampled features dict like variable.\n",
    "            \n",
    "        ~target_over: DataFrame, Series, dict, list\n",
    "            -Oversampled target dict like variable.\n",
    "    \"\"\"\n",
    "    \n",
    "    # Obtaining the features and target sets for popular and rare classes\n",
    "    features_pop = features[target == pop]\n",
    "    features_rare = features[target == rare]\n",
    "    target_pop = target[target == pop]\n",
    "    target_rare = target[target == rare]\n",
    "    \n",
    "    # Generating oversampled features and target sets using the input arguments of functions\n",
    "    features_over = pd.concat([features_pop] + [features_rare] * math.ceil(repeat))\n",
    "    target_over = pd.concat([target_pop] + [target_rare] * math.ceil(repeat))\n",
    "    \n",
    "    # Shuffling the sets\n",
    "    features_over, target_over = shuffle(features_over, target_over, random_state=12345)\n",
    "    \n",
    "    # Returning oversampled sets\n",
    "    return features_over, target_over"
   ]
  },
  {
   "cell_type": "markdown",
   "metadata": {},
   "source": [
    "Creating our oversampled features and target set marking 0 as the popular class and 1 as the rare class and set repeat as the relation we got before, we can see their new shapes and quantity of values for each class."
   ]
  },
  {
   "cell_type": "code",
   "execution_count": 38,
   "metadata": {},
   "outputs": [],
   "source": [
    "features_over, target_over = oversampling(features, target, 0, 1, relation)"
   ]
  },
  {
   "cell_type": "code",
   "execution_count": 39,
   "metadata": {},
   "outputs": [
    {
     "name": "stdout",
     "output_type": "stream",
     "text": [
      "(16111, 10)\n",
      "\n",
      "(16111,)\n"
     ]
    }
   ],
   "source": [
    "print(features_over.shape)\n",
    "print()\n",
    "print(target_over.shape)"
   ]
  },
  {
   "cell_type": "code",
   "execution_count": 101,
   "metadata": {},
   "outputs": [
    {
     "name": "stdout",
     "output_type": "stream",
     "text": [
      "7963\n",
      "7963\n",
      "\n",
      "8148\n",
      "8148\n"
     ]
    }
   ],
   "source": [
    "print(len(target_over[target_over == 0]))\n",
    "print(len(features_over[target_over == 0]))\n",
    "print()\n",
    "print(len(target_over[target_over == 1]))\n",
    "print(len(features_over[target_over == 1]))"
   ]
  },
  {
   "cell_type": "markdown",
   "metadata": {},
   "source": [
    "#### Case Ordinal Encoding"
   ]
  },
  {
   "cell_type": "markdown",
   "metadata": {},
   "source": [
    "We follow the same encoding, splitting and scaling as in section 3.3 and continue."
   ]
  },
  {
   "cell_type": "code",
   "execution_count": 41,
   "metadata": {},
   "outputs": [],
   "source": [
    "feat_over_nom = pd.DataFrame(encoder.fit_transform(features_over[categorics]), columns=features_over[categorics].columns)\n",
    "feat_over_nom = pd.concat([feat_over_nom, features_over[numerics].reset_index(drop=True)], axis=1)"
   ]
  },
  {
   "cell_type": "code",
   "execution_count": 42,
   "metadata": {},
   "outputs": [],
   "source": [
    "x_feat_over_nom, yz_feat_over_nom, x_target_over, yz_target_over = train_test_split(feat_over_nom, target_over, test_size=0.3, train_size=0.7, random_state=12345)\n",
    "y_feat_over_nom, z_feat_over_nom, y_target_over, z_target_over = train_test_split(yz_feat_over_nom, yz_target_over, train_size=0.66667, random_state=12345)"
   ]
  },
  {
   "cell_type": "code",
   "execution_count": 43,
   "metadata": {
    "scrolled": false
   },
   "outputs": [
    {
     "name": "stderr",
     "output_type": "stream",
     "text": [
      "/opt/conda/envs/python3/lib/python3.9/site-packages/pandas/core/indexing.py:1738: SettingWithCopyWarning: \n",
      "A value is trying to be set on a copy of a slice from a DataFrame.\n",
      "Try using .loc[row_indexer,col_indexer] = value instead\n",
      "\n",
      "See the caveats in the documentation: https://pandas.pydata.org/pandas-docs/stable/user_guide/indexing.html#returning-a-view-versus-a-copy\n",
      "  self._setitem_single_column(loc, value[:, i].tolist(), pi)\n",
      "/opt/conda/envs/python3/lib/python3.9/site-packages/pandas/core/indexing.py:1738: SettingWithCopyWarning: \n",
      "A value is trying to be set on a copy of a slice from a DataFrame.\n",
      "Try using .loc[row_indexer,col_indexer] = value instead\n",
      "\n",
      "See the caveats in the documentation: https://pandas.pydata.org/pandas-docs/stable/user_guide/indexing.html#returning-a-view-versus-a-copy\n",
      "  self._setitem_single_column(loc, value[:, i].tolist(), pi)\n",
      "/opt/conda/envs/python3/lib/python3.9/site-packages/pandas/core/indexing.py:1738: SettingWithCopyWarning: \n",
      "A value is trying to be set on a copy of a slice from a DataFrame.\n",
      "Try using .loc[row_indexer,col_indexer] = value instead\n",
      "\n",
      "See the caveats in the documentation: https://pandas.pydata.org/pandas-docs/stable/user_guide/indexing.html#returning-a-view-versus-a-copy\n",
      "  self._setitem_single_column(loc, value[:, i].tolist(), pi)\n"
     ]
    }
   ],
   "source": [
    "scaler.fit(x_feat_over_nom.loc[:, numerics])\n",
    "\n",
    "x_feat_over_nom.loc[:, numerics] = scaler.transform(x_feat_over_nom.loc[:, numerics])\n",
    "y_feat_over_nom.loc[:, numerics] = scaler.transform(y_feat_over_nom.loc[:, numerics])\n",
    "z_feat_over_nom.loc[:, numerics] = scaler.transform(z_feat_over_nom.loc[:, numerics])"
   ]
  },
  {
   "cell_type": "markdown",
   "metadata": {},
   "source": [
    "Verify our information was correctly processed and continue."
   ]
  },
  {
   "cell_type": "code",
   "execution_count": 44,
   "metadata": {},
   "outputs": [
    {
     "data": {
      "text/html": [
       "<div>\n",
       "<style scoped>\n",
       "    .dataframe tbody tr th:only-of-type {\n",
       "        vertical-align: middle;\n",
       "    }\n",
       "\n",
       "    .dataframe tbody tr th {\n",
       "        vertical-align: top;\n",
       "    }\n",
       "\n",
       "    .dataframe thead th {\n",
       "        text-align: right;\n",
       "    }\n",
       "</style>\n",
       "<table border=\"1\" class=\"dataframe\">\n",
       "  <thead>\n",
       "    <tr style=\"text-align: right;\">\n",
       "      <th></th>\n",
       "      <th>geography</th>\n",
       "      <th>gender</th>\n",
       "      <th>has_cr_card</th>\n",
       "      <th>is_active_member</th>\n",
       "      <th>credit_score</th>\n",
       "      <th>age</th>\n",
       "      <th>tenure</th>\n",
       "      <th>balance</th>\n",
       "      <th>num_of_products</th>\n",
       "      <th>estimated_salary</th>\n",
       "    </tr>\n",
       "  </thead>\n",
       "  <tbody>\n",
       "    <tr>\n",
       "      <th>4334</th>\n",
       "      <td>0.0</td>\n",
       "      <td>1.0</td>\n",
       "      <td>1.0</td>\n",
       "      <td>0.0</td>\n",
       "      <td>-1.516965</td>\n",
       "      <td>1.409519</td>\n",
       "      <td>-1.426905</td>\n",
       "      <td>0.303912</td>\n",
       "      <td>-0.761054</td>\n",
       "      <td>0.311653</td>\n",
       "    </tr>\n",
       "    <tr>\n",
       "      <th>10993</th>\n",
       "      <td>2.0</td>\n",
       "      <td>1.0</td>\n",
       "      <td>1.0</td>\n",
       "      <td>1.0</td>\n",
       "      <td>-0.945493</td>\n",
       "      <td>0.462246</td>\n",
       "      <td>-0.704370</td>\n",
       "      <td>0.815636</td>\n",
       "      <td>-0.761054</td>\n",
       "      <td>0.138526</td>\n",
       "    </tr>\n",
       "    <tr>\n",
       "      <th>3735</th>\n",
       "      <td>1.0</td>\n",
       "      <td>0.0</td>\n",
       "      <td>0.0</td>\n",
       "      <td>0.0</td>\n",
       "      <td>-0.251563</td>\n",
       "      <td>1.030610</td>\n",
       "      <td>-1.788172</td>\n",
       "      <td>0.847563</td>\n",
       "      <td>-0.761054</td>\n",
       "      <td>-1.657549</td>\n",
       "    </tr>\n",
       "    <tr>\n",
       "      <th>365</th>\n",
       "      <td>1.0</td>\n",
       "      <td>1.0</td>\n",
       "      <td>1.0</td>\n",
       "      <td>1.0</td>\n",
       "      <td>0.115812</td>\n",
       "      <td>-0.958664</td>\n",
       "      <td>1.463233</td>\n",
       "      <td>0.708447</td>\n",
       "      <td>0.716887</td>\n",
       "      <td>0.682226</td>\n",
       "    </tr>\n",
       "    <tr>\n",
       "      <th>5698</th>\n",
       "      <td>0.0</td>\n",
       "      <td>1.0</td>\n",
       "      <td>1.0</td>\n",
       "      <td>0.0</td>\n",
       "      <td>-0.414841</td>\n",
       "      <td>-0.769209</td>\n",
       "      <td>1.463233</td>\n",
       "      <td>0.134276</td>\n",
       "      <td>-0.761054</td>\n",
       "      <td>-0.549871</td>\n",
       "    </tr>\n",
       "  </tbody>\n",
       "</table>\n",
       "</div>"
      ],
      "text/plain": [
       "       geography  gender  has_cr_card  is_active_member  credit_score  \\\n",
       "4334         0.0     1.0          1.0               0.0     -1.516965   \n",
       "10993        2.0     1.0          1.0               1.0     -0.945493   \n",
       "3735         1.0     0.0          0.0               0.0     -0.251563   \n",
       "365          1.0     1.0          1.0               1.0      0.115812   \n",
       "5698         0.0     1.0          1.0               0.0     -0.414841   \n",
       "\n",
       "            age    tenure   balance  num_of_products  estimated_salary  \n",
       "4334   1.409519 -1.426905  0.303912        -0.761054          0.311653  \n",
       "10993  0.462246 -0.704370  0.815636        -0.761054          0.138526  \n",
       "3735   1.030610 -1.788172  0.847563        -0.761054         -1.657549  \n",
       "365   -0.958664  1.463233  0.708447         0.716887          0.682226  \n",
       "5698  -0.769209  1.463233  0.134276        -0.761054         -0.549871  "
      ]
     },
     "execution_count": 44,
     "metadata": {},
     "output_type": "execute_result"
    }
   ],
   "source": [
    "x_feat_over_nom.head()"
   ]
  },
  {
   "cell_type": "markdown",
   "metadata": {},
   "source": [
    "For the Random Forest Classifier model we can see the following changes:\n",
    "\n",
    "* The recall score improved from 0.42 to 0.88.\n",
    "* The precision score improved from 0.79 to 0.86.\n",
    "* The F1 score improved from 0.55 to 0.87 (0.22 points above the desired value).\n",
    "* The true positive rate improved from 0.43 to 0.89.\n",
    "* The true negative rate droped from 0.97 to 0.86.\n",
    "\n",
    "The changes were overall positive for this model. `The oversampling was enough` to reach the desired F1 value, but let's continue with our research."
   ]
  },
  {
   "cell_type": "code",
   "execution_count": 45,
   "metadata": {},
   "outputs": [
    {
     "name": "stdout",
     "output_type": "stream",
     "text": [
      "The recall score is:    0.8854731766124171.\n",
      "The precision score is: 0.8692307692307693.\n",
      "The F1 score is:        0.877276799044491.\n"
     ]
    },
    {
     "data": {
      "text/plain": [
       "<sklearn.metrics._plot.confusion_matrix.ConfusionMatrixDisplay at 0x7fb418322f10>"
      ]
     },
     "execution_count": 45,
     "metadata": {},
     "output_type": "execute_result"
    },
    {
     "data": {
      "image/png": "[encoded data removed]",
      "text/plain": [
       "<Figure size 640x480 with 2 Axes>"
      ]
     },
     "metadata": {},
     "output_type": "display_data"
    }
   ],
   "source": [
    "model_nom.fit(x_feat_over_nom, x_target_over)\n",
    "pred_over_nom = model_nom.predict(y_feat_over_nom)\n",
    "\n",
    "print(f\"The recall score is:    {recall_score(y_target_over, pred_over_nom)}.\")\n",
    "print(f\"The precision score is: {precision_score(y_target_over, pred_over_nom)}.\")\n",
    "print(f\"The F1 score is:        {f1_score(y_target_over, pred_over_nom)}.\")\n",
    "\n",
    "plot_confusion_matrix(model_nom, X=y_feat_over_nom, y_true=y_target_over, normalize='true', cmap='Blues')"
   ]
  },
  {
   "cell_type": "markdown",
   "metadata": {},
   "source": [
    "#### Case OHE"
   ]
  },
  {
   "cell_type": "markdown",
   "metadata": {},
   "source": [
    "We apply the same encoding, splitting and scaling as in section 3.4 and continue."
   ]
  },
  {
   "cell_type": "code",
   "execution_count": 46,
   "metadata": {},
   "outputs": [
    {
     "name": "stderr",
     "output_type": "stream",
     "text": [
      "/opt/conda/envs/python3/lib/python3.9/site-packages/pandas/core/indexing.py:1738: SettingWithCopyWarning: \n",
      "A value is trying to be set on a copy of a slice from a DataFrame.\n",
      "Try using .loc[row_indexer,col_indexer] = value instead\n",
      "\n",
      "See the caveats in the documentation: https://pandas.pydata.org/pandas-docs/stable/user_guide/indexing.html#returning-a-view-versus-a-copy\n",
      "  self._setitem_single_column(loc, value[:, i].tolist(), pi)\n",
      "/opt/conda/envs/python3/lib/python3.9/site-packages/pandas/core/indexing.py:1738: SettingWithCopyWarning: \n",
      "A value is trying to be set on a copy of a slice from a DataFrame.\n",
      "Try using .loc[row_indexer,col_indexer] = value instead\n",
      "\n",
      "See the caveats in the documentation: https://pandas.pydata.org/pandas-docs/stable/user_guide/indexing.html#returning-a-view-versus-a-copy\n",
      "  self._setitem_single_column(loc, value[:, i].tolist(), pi)\n",
      "/opt/conda/envs/python3/lib/python3.9/site-packages/pandas/core/indexing.py:1738: SettingWithCopyWarning: \n",
      "A value is trying to be set on a copy of a slice from a DataFrame.\n",
      "Try using .loc[row_indexer,col_indexer] = value instead\n",
      "\n",
      "See the caveats in the documentation: https://pandas.pydata.org/pandas-docs/stable/user_guide/indexing.html#returning-a-view-versus-a-copy\n",
      "  self._setitem_single_column(loc, value[:, i].tolist(), pi)\n"
     ]
    }
   ],
   "source": [
    "feat_over_ohe = pd.get_dummies(features_over, drop_first=True)\n",
    "\n",
    "x_feat_over_ohe, yz_feat_over_ohe = train_test_split(feat_over_ohe, test_size=0.3, train_size=0.7, random_state=12345)\n",
    "y_feat_over_ohe, z_feat_over_ohe = train_test_split(yz_feat_over_ohe, train_size=0.66667, random_state=12345)\n",
    "\n",
    "scaler.fit(x_feat_over_ohe.loc[:, numerics])\n",
    "x_feat_over_ohe.loc[:, numerics] = scaler.transform(x_feat_over_ohe.loc[:, numerics])\n",
    "y_feat_over_ohe.loc[:, numerics] = scaler.transform(y_feat_over_ohe.loc[:, numerics])\n",
    "z_feat_over_ohe.loc[:, numerics] = scaler.transform(z_feat_over_ohe.loc[:, numerics])"
   ]
  },
  {
   "cell_type": "markdown",
   "metadata": {},
   "source": [
    "Varify our information was correctly processed and continue."
   ]
  },
  {
   "cell_type": "code",
   "execution_count": 47,
   "metadata": {},
   "outputs": [
    {
     "data": {
      "text/html": [
       "<div>\n",
       "<style scoped>\n",
       "    .dataframe tbody tr th:only-of-type {\n",
       "        vertical-align: middle;\n",
       "    }\n",
       "\n",
       "    .dataframe tbody tr th {\n",
       "        vertical-align: top;\n",
       "    }\n",
       "\n",
       "    .dataframe thead th {\n",
       "        text-align: right;\n",
       "    }\n",
       "</style>\n",
       "<table border=\"1\" class=\"dataframe\">\n",
       "  <thead>\n",
       "    <tr style=\"text-align: right;\">\n",
       "      <th></th>\n",
       "      <th>credit_score</th>\n",
       "      <th>age</th>\n",
       "      <th>tenure</th>\n",
       "      <th>balance</th>\n",
       "      <th>num_of_products</th>\n",
       "      <th>has_cr_card</th>\n",
       "      <th>is_active_member</th>\n",
       "      <th>estimated_salary</th>\n",
       "      <th>geography_Germany</th>\n",
       "      <th>geography_Spain</th>\n",
       "      <th>gender_Male</th>\n",
       "    </tr>\n",
       "  </thead>\n",
       "  <tbody>\n",
       "    <tr>\n",
       "      <th>1653</th>\n",
       "      <td>-1.516965</td>\n",
       "      <td>1.409519</td>\n",
       "      <td>-1.426905</td>\n",
       "      <td>0.303912</td>\n",
       "      <td>-0.761054</td>\n",
       "      <td>1</td>\n",
       "      <td>0</td>\n",
       "      <td>0.311653</td>\n",
       "      <td>0</td>\n",
       "      <td>0</td>\n",
       "      <td>1</td>\n",
       "    </tr>\n",
       "    <tr>\n",
       "      <th>8876</th>\n",
       "      <td>-0.945493</td>\n",
       "      <td>0.462246</td>\n",
       "      <td>-0.704370</td>\n",
       "      <td>0.815636</td>\n",
       "      <td>-0.761054</td>\n",
       "      <td>1</td>\n",
       "      <td>1</td>\n",
       "      <td>0.138526</td>\n",
       "      <td>0</td>\n",
       "      <td>1</td>\n",
       "      <td>1</td>\n",
       "    </tr>\n",
       "    <tr>\n",
       "      <th>9206</th>\n",
       "      <td>-0.251563</td>\n",
       "      <td>1.030610</td>\n",
       "      <td>-1.788172</td>\n",
       "      <td>0.847563</td>\n",
       "      <td>-0.761054</td>\n",
       "      <td>0</td>\n",
       "      <td>0</td>\n",
       "      <td>-1.657549</td>\n",
       "      <td>1</td>\n",
       "      <td>0</td>\n",
       "      <td>0</td>\n",
       "    </tr>\n",
       "    <tr>\n",
       "      <th>165</th>\n",
       "      <td>0.115812</td>\n",
       "      <td>-0.958664</td>\n",
       "      <td>1.463233</td>\n",
       "      <td>0.708447</td>\n",
       "      <td>0.716887</td>\n",
       "      <td>1</td>\n",
       "      <td>1</td>\n",
       "      <td>0.682226</td>\n",
       "      <td>1</td>\n",
       "      <td>0</td>\n",
       "      <td>1</td>\n",
       "    </tr>\n",
       "    <tr>\n",
       "      <th>465</th>\n",
       "      <td>-0.414841</td>\n",
       "      <td>-0.769209</td>\n",
       "      <td>1.463233</td>\n",
       "      <td>0.134276</td>\n",
       "      <td>-0.761054</td>\n",
       "      <td>1</td>\n",
       "      <td>0</td>\n",
       "      <td>-0.549871</td>\n",
       "      <td>0</td>\n",
       "      <td>0</td>\n",
       "      <td>1</td>\n",
       "    </tr>\n",
       "  </tbody>\n",
       "</table>\n",
       "</div>"
      ],
      "text/plain": [
       "      credit_score       age    tenure   balance  num_of_products  \\\n",
       "1653     -1.516965  1.409519 -1.426905  0.303912        -0.761054   \n",
       "8876     -0.945493  0.462246 -0.704370  0.815636        -0.761054   \n",
       "9206     -0.251563  1.030610 -1.788172  0.847563        -0.761054   \n",
       "165       0.115812 -0.958664  1.463233  0.708447         0.716887   \n",
       "465      -0.414841 -0.769209  1.463233  0.134276        -0.761054   \n",
       "\n",
       "      has_cr_card  is_active_member  estimated_salary  geography_Germany  \\\n",
       "1653            1                 0          0.311653                  0   \n",
       "8876            1                 1          0.138526                  0   \n",
       "9206            0                 0         -1.657549                  1   \n",
       "165             1                 1          0.682226                  1   \n",
       "465             1                 0         -0.549871                  0   \n",
       "\n",
       "      geography_Spain  gender_Male  \n",
       "1653                0            1  \n",
       "8876                1            1  \n",
       "9206                0            0  \n",
       "165                 0            1  \n",
       "465                 0            1  "
      ]
     },
     "execution_count": 47,
     "metadata": {},
     "output_type": "execute_result"
    }
   ],
   "source": [
    "x_feat_over_ohe.head()"
   ]
  },
  {
   "cell_type": "markdown",
   "metadata": {},
   "source": [
    "For the Logistic Regression model we can see the following changes:\n",
    "\n",
    "* The recall score improved from 0.21 to 0.70.\n",
    "* The precision score improved from 0.57 to 0.72.\n",
    "* The F1 score improved from 0.31 to 0.71 (0.06 points above the desired value).\n",
    "* The true positive rate improved from 0.22 to 0.71.\n",
    "* The true negative rate droped from 0.96 to 0.71.\n",
    "\n",
    "The changes were mainly positive for this model. `The oversampling was enough` to reach the desired F1 value, but let's continue with our research."
   ]
  },
  {
   "cell_type": "code",
   "execution_count": 48,
   "metadata": {},
   "outputs": [
    {
     "name": "stdout",
     "output_type": "stream",
     "text": [
      "The recall score is:    0.707655213984328.\n",
      "The precision score is: 0.7242442936458976.\n",
      "The F1 score is:        0.7158536585365856.\n"
     ]
    },
    {
     "data": {
      "text/plain": [
       "<sklearn.metrics._plot.confusion_matrix.ConfusionMatrixDisplay at 0x7fb417ef0df0>"
      ]
     },
     "execution_count": 48,
     "metadata": {},
     "output_type": "execute_result"
    },
    {
     "data": {
      "image/png": "[encoded data removed]",
      "text/plain": [
       "<Figure size 640x480 with 2 Axes>"
      ]
     },
     "metadata": {},
     "output_type": "display_data"
    }
   ],
   "source": [
    "model_ohe.fit(x_feat_over_ohe, x_target_over)\n",
    "pred_over_ohe = model_ohe.predict(y_feat_over_ohe)\n",
    "\n",
    "print(f\"The recall score is:    {recall_score(y_target_over, pred_over_ohe)}.\")\n",
    "print(f\"The precision score is: {precision_score(y_target_over, pred_over_ohe)}.\")\n",
    "print(f\"The F1 score is:        {f1_score(y_target_over, pred_over_ohe)}.\")\n",
    "\n",
    "plot_confusion_matrix(model_ohe, X=y_feat_over_ohe, y_true=y_target_over, normalize='true', cmap='Blues')"
   ]
  },
  {
   "cell_type": "markdown",
   "metadata": {},
   "source": [
    "### Undersampling"
   ]
  },
  {
   "cell_type": "markdown",
   "metadata": {},
   "source": [
    "A third way to solve the unbalance in a dataset is to decrease the quantity of samples of the popular classes a number of times to decrease their class weight. The number of times we can decrease the popular values depends on each one interpretation, but in this case we will try to balance both classes as much as we can using the inverse of the relation we got on section 4.2.\n",
    "\n",
    "This is the inverse of oversampling but works similar. Let's create a new function we can use to generate new sets applying this method using our features and target sets."
   ]
  },
  {
   "cell_type": "code",
   "execution_count": 49,
   "metadata": {},
   "outputs": [],
   "source": [
    "def undersampling(features, target, pop, rare, repeat):\n",
    "    \n",
    "    \"\"\"\n",
    "    This function undersamples a features and target sets a number of times equal to 'repeat' depending of the\n",
    "    popular class 'pop' and the rare class 'rare'.\n",
    "    \n",
    "    Input:\n",
    "        ~features: DataFrame, Series, dict, list\n",
    "            -Features dict like variable to undersample.\n",
    "        \n",
    "        ~target: DataFrame, Series, dict, list\n",
    "            -Target dict like variable to undersample.\n",
    "            \n",
    "        ~pop: int, float, bool, str\n",
    "            -Popular class.\n",
    "            \n",
    "        ~rare: int, float, bool, str\n",
    "            -Rare class.\n",
    "            \n",
    "        ~repeat: int, float\n",
    "            -Times you want to fractionate the popular class.\n",
    "            \n",
    "    Output:\n",
    "        ~features_over: DataFrame, Series, dict, list\n",
    "            -Undersampled features dict like variable.\n",
    "            \n",
    "        ~target_over: DataFrame, Series, dict, list\n",
    "            -Undersampled target dict like variable.\n",
    "    \"\"\"\n",
    "    \n",
    "    # Obtaining the features and target sets for popular and rare classes\n",
    "    features_pop = features[target == pop]\n",
    "    features_rare = features[target == rare]\n",
    "    target_pop = target[target == pop]\n",
    "    target_rare = target[target == rare]\n",
    "    \n",
    "    # Generating undersampled features and target sets using the input arguments of functions\n",
    "    features_under = pd.concat([features_pop.sample(frac=(1/relation), random_state=12345)] + [features_rare])\n",
    "    target_under = pd.concat([target_pop.sample(frac=(1/relation), random_state=12345)] + [target_rare])\n",
    "    \n",
    "    # Shuffling the sets\n",
    "    features_under, target_under = shuffle(features_under, target_under, random_state=12345)\n",
    "    \n",
    "    # Returning undersampled sets\n",
    "    return features_under, target_under"
   ]
  },
  {
   "cell_type": "markdown",
   "metadata": {},
   "source": [
    "With this new function created we can now generate our new undersampled set and see show its shape and quantity of each class value has changed."
   ]
  },
  {
   "cell_type": "code",
   "execution_count": 50,
   "metadata": {},
   "outputs": [],
   "source": [
    "features_under, target_under = undersampling(features, target, 0, 1, relation)"
   ]
  },
  {
   "cell_type": "code",
   "execution_count": 51,
   "metadata": {},
   "outputs": [
    {
     "name": "stdout",
     "output_type": "stream",
     "text": [
      "(4074, 10)\n",
      "\n",
      "(4074,)\n"
     ]
    }
   ],
   "source": [
    "print(features_under.shape)\n",
    "print()\n",
    "print(target_under.shape)"
   ]
  },
  {
   "cell_type": "code",
   "execution_count": 102,
   "metadata": {},
   "outputs": [
    {
     "name": "stdout",
     "output_type": "stream",
     "text": [
      "2037\n",
      "2037\n",
      "\n",
      "2037\n",
      "2037\n"
     ]
    }
   ],
   "source": [
    "print(len(features_under[target_under == 0]))\n",
    "print(len(target_under[target_under == 0]))\n",
    "print()\n",
    "print(len(features_under[target_under == 1]))\n",
    "print(len(target_under[target_under == 1]))"
   ]
  },
  {
   "cell_type": "markdown",
   "metadata": {},
   "source": [
    "#### Case Ordinal Encoding"
   ]
  },
  {
   "cell_type": "markdown",
   "metadata": {},
   "source": [
    "We follow the same encoding, splitting and scaling as in section 3.3 and continue."
   ]
  },
  {
   "cell_type": "code",
   "execution_count": 53,
   "metadata": {},
   "outputs": [],
   "source": [
    "feat_under_nom = pd.DataFrame(encoder.fit_transform(features_under[categorics]), columns=features_under[categorics].columns)\n",
    "feat_under_nom = pd.concat([feat_under_nom, features_under[numerics].reset_index(drop=True)], axis=1)"
   ]
  },
  {
   "cell_type": "code",
   "execution_count": 54,
   "metadata": {},
   "outputs": [],
   "source": [
    "x_feat_under_nom, yz_feat_under_nom, x_target_under, yz_target_under = train_test_split(feat_under_nom, target_under, test_size=0.3, train_size=0.7, random_state=12345)\n",
    "y_feat_under_nom, z_feat_under_nom, y_target_under, z_target_under = train_test_split(yz_feat_under_nom, yz_target_under, train_size=0.66667, random_state=12345)"
   ]
  },
  {
   "cell_type": "code",
   "execution_count": 55,
   "metadata": {},
   "outputs": [
    {
     "name": "stderr",
     "output_type": "stream",
     "text": [
      "/opt/conda/envs/python3/lib/python3.9/site-packages/pandas/core/indexing.py:1738: SettingWithCopyWarning: \n",
      "A value is trying to be set on a copy of a slice from a DataFrame.\n",
      "Try using .loc[row_indexer,col_indexer] = value instead\n",
      "\n",
      "See the caveats in the documentation: https://pandas.pydata.org/pandas-docs/stable/user_guide/indexing.html#returning-a-view-versus-a-copy\n",
      "  self._setitem_single_column(loc, value[:, i].tolist(), pi)\n",
      "/opt/conda/envs/python3/lib/python3.9/site-packages/pandas/core/indexing.py:1738: SettingWithCopyWarning: \n",
      "A value is trying to be set on a copy of a slice from a DataFrame.\n",
      "Try using .loc[row_indexer,col_indexer] = value instead\n",
      "\n",
      "See the caveats in the documentation: https://pandas.pydata.org/pandas-docs/stable/user_guide/indexing.html#returning-a-view-versus-a-copy\n",
      "  self._setitem_single_column(loc, value[:, i].tolist(), pi)\n",
      "/opt/conda/envs/python3/lib/python3.9/site-packages/pandas/core/indexing.py:1738: SettingWithCopyWarning: \n",
      "A value is trying to be set on a copy of a slice from a DataFrame.\n",
      "Try using .loc[row_indexer,col_indexer] = value instead\n",
      "\n",
      "See the caveats in the documentation: https://pandas.pydata.org/pandas-docs/stable/user_guide/indexing.html#returning-a-view-versus-a-copy\n",
      "  self._setitem_single_column(loc, value[:, i].tolist(), pi)\n"
     ]
    }
   ],
   "source": [
    "scaler.fit(x_feat_under_nom.loc[:, numerics])\n",
    "\n",
    "x_feat_under_nom.loc[:, numerics] = scaler.transform(x_feat_under_nom.loc[:, numerics])\n",
    "y_feat_under_nom.loc[:, numerics] = scaler.transform(y_feat_under_nom.loc[:, numerics])\n",
    "z_feat_under_nom.loc[:, numerics] = scaler.transform(z_feat_under_nom.loc[:, numerics])"
   ]
  },
  {
   "cell_type": "markdown",
   "metadata": {},
   "source": [
    "Verify our information was correctly processed and continue."
   ]
  },
  {
   "cell_type": "code",
   "execution_count": 56,
   "metadata": {},
   "outputs": [
    {
     "data": {
      "text/html": [
       "<div>\n",
       "<style scoped>\n",
       "    .dataframe tbody tr th:only-of-type {\n",
       "        vertical-align: middle;\n",
       "    }\n",
       "\n",
       "    .dataframe tbody tr th {\n",
       "        vertical-align: top;\n",
       "    }\n",
       "\n",
       "    .dataframe thead th {\n",
       "        text-align: right;\n",
       "    }\n",
       "</style>\n",
       "<table border=\"1\" class=\"dataframe\">\n",
       "  <thead>\n",
       "    <tr style=\"text-align: right;\">\n",
       "      <th></th>\n",
       "      <th>geography</th>\n",
       "      <th>gender</th>\n",
       "      <th>has_cr_card</th>\n",
       "      <th>is_active_member</th>\n",
       "      <th>credit_score</th>\n",
       "      <th>age</th>\n",
       "      <th>tenure</th>\n",
       "      <th>balance</th>\n",
       "      <th>num_of_products</th>\n",
       "      <th>estimated_salary</th>\n",
       "    </tr>\n",
       "  </thead>\n",
       "  <tbody>\n",
       "    <tr>\n",
       "      <th>2754</th>\n",
       "      <td>1.0</td>\n",
       "      <td>0.0</td>\n",
       "      <td>0.0</td>\n",
       "      <td>0.0</td>\n",
       "      <td>0.563543</td>\n",
       "      <td>2.155168</td>\n",
       "      <td>-0.700035</td>\n",
       "      <td>1.183672</td>\n",
       "      <td>2.22828</td>\n",
       "      <td>0.793269</td>\n",
       "    </tr>\n",
       "    <tr>\n",
       "      <th>723</th>\n",
       "      <td>0.0</td>\n",
       "      <td>1.0</td>\n",
       "      <td>1.0</td>\n",
       "      <td>0.0</td>\n",
       "      <td>-1.196813</td>\n",
       "      <td>-0.200952</td>\n",
       "      <td>-1.055223</td>\n",
       "      <td>-1.315792</td>\n",
       "      <td>0.72643</td>\n",
       "      <td>1.687653</td>\n",
       "    </tr>\n",
       "    <tr>\n",
       "      <th>2147</th>\n",
       "      <td>2.0</td>\n",
       "      <td>0.0</td>\n",
       "      <td>1.0</td>\n",
       "      <td>0.0</td>\n",
       "      <td>-0.382019</td>\n",
       "      <td>-0.389442</td>\n",
       "      <td>-0.344847</td>\n",
       "      <td>-1.315792</td>\n",
       "      <td>0.72643</td>\n",
       "      <td>0.429634</td>\n",
       "    </tr>\n",
       "    <tr>\n",
       "      <th>287</th>\n",
       "      <td>0.0</td>\n",
       "      <td>0.0</td>\n",
       "      <td>1.0</td>\n",
       "      <td>0.0</td>\n",
       "      <td>-0.824623</td>\n",
       "      <td>-0.012462</td>\n",
       "      <td>1.431091</td>\n",
       "      <td>0.929964</td>\n",
       "      <td>-0.77542</td>\n",
       "      <td>0.713771</td>\n",
       "    </tr>\n",
       "    <tr>\n",
       "      <th>1816</th>\n",
       "      <td>1.0</td>\n",
       "      <td>0.0</td>\n",
       "      <td>1.0</td>\n",
       "      <td>0.0</td>\n",
       "      <td>0.573602</td>\n",
       "      <td>0.458762</td>\n",
       "      <td>-0.344847</td>\n",
       "      <td>0.397776</td>\n",
       "      <td>-0.77542</td>\n",
       "      <td>0.133592</td>\n",
       "    </tr>\n",
       "  </tbody>\n",
       "</table>\n",
       "</div>"
      ],
      "text/plain": [
       "      geography  gender  has_cr_card  is_active_member  credit_score  \\\n",
       "2754        1.0     0.0          0.0               0.0      0.563543   \n",
       "723         0.0     1.0          1.0               0.0     -1.196813   \n",
       "2147        2.0     0.0          1.0               0.0     -0.382019   \n",
       "287         0.0     0.0          1.0               0.0     -0.824623   \n",
       "1816        1.0     0.0          1.0               0.0      0.573602   \n",
       "\n",
       "           age    tenure   balance  num_of_products  estimated_salary  \n",
       "2754  2.155168 -0.700035  1.183672          2.22828          0.793269  \n",
       "723  -0.200952 -1.055223 -1.315792          0.72643          1.687653  \n",
       "2147 -0.389442 -0.344847 -1.315792          0.72643          0.429634  \n",
       "287  -0.012462  1.431091  0.929964         -0.77542          0.713771  \n",
       "1816  0.458762 -0.344847  0.397776         -0.77542          0.133592  "
      ]
     },
     "execution_count": 56,
     "metadata": {},
     "output_type": "execute_result"
    }
   ],
   "source": [
    "x_feat_under_nom.head()"
   ]
  },
  {
   "cell_type": "markdown",
   "metadata": {},
   "source": [
    "For the Random Forest Classifier model we can see the following changes:\n",
    "\n",
    "* The recall score improved from 0.42 to 0.72.\n",
    "* The precision score stayed the with 0.79.\n",
    "* The F1 score improved from 0.55 to 0.75 (0.1 points above the desired value).\n",
    "* The true positive rate improved from 0.43 to 0.72.\n",
    "* The true negative rate droped from 0.97 to 0.81.\n",
    "\n",
    "The changes were mainly positive for this model. `The undersampling was enough` to reach the desired F1 value, but let's continue with our research."
   ]
  },
  {
   "cell_type": "code",
   "execution_count": 57,
   "metadata": {},
   "outputs": [
    {
     "name": "stdout",
     "output_type": "stream",
     "text": [
      "The recall score is:    0.7215496368038741.\n",
      "The precision score is: 0.7989276139410187.\n",
      "The F1 score is:        0.7582697201017812.\n"
     ]
    },
    {
     "data": {
      "text/plain": [
       "<sklearn.metrics._plot.confusion_matrix.ConfusionMatrixDisplay at 0x7fb41878f0d0>"
      ]
     },
     "execution_count": 57,
     "metadata": {},
     "output_type": "execute_result"
    },
    {
     "data": {
      "image/png": "[encoded data removed]",
      "text/plain": [
       "<Figure size 640x480 with 2 Axes>"
      ]
     },
     "metadata": {},
     "output_type": "display_data"
    }
   ],
   "source": [
    "model_nom.fit(x_feat_under_nom, x_target_under)\n",
    "pred_under_nom = model_nom.predict(y_feat_under_nom)\n",
    "\n",
    "print(f\"The recall score is:    {recall_score(y_target_under, pred_under_nom)}.\")\n",
    "print(f\"The precision score is: {precision_score(y_target_under, pred_under_nom)}.\")\n",
    "print(f\"The F1 score is:        {f1_score(y_target_under, pred_under_nom)}.\")\n",
    "\n",
    "plot_confusion_matrix(model_nom, X=y_feat_under_nom, y_true=y_target_under, normalize='true', cmap='Blues')"
   ]
  },
  {
   "cell_type": "markdown",
   "metadata": {},
   "source": [
    "#### Case OHE"
   ]
  },
  {
   "cell_type": "markdown",
   "metadata": {},
   "source": [
    "We follow the same encoding, splitting and scaling as in section 3.4 and continue."
   ]
  },
  {
   "cell_type": "code",
   "execution_count": 58,
   "metadata": {
    "scrolled": false
   },
   "outputs": [
    {
     "name": "stderr",
     "output_type": "stream",
     "text": [
      "/opt/conda/envs/python3/lib/python3.9/site-packages/pandas/core/indexing.py:1738: SettingWithCopyWarning: \n",
      "A value is trying to be set on a copy of a slice from a DataFrame.\n",
      "Try using .loc[row_indexer,col_indexer] = value instead\n",
      "\n",
      "See the caveats in the documentation: https://pandas.pydata.org/pandas-docs/stable/user_guide/indexing.html#returning-a-view-versus-a-copy\n",
      "  self._setitem_single_column(loc, value[:, i].tolist(), pi)\n",
      "/opt/conda/envs/python3/lib/python3.9/site-packages/pandas/core/indexing.py:1738: SettingWithCopyWarning: \n",
      "A value is trying to be set on a copy of a slice from a DataFrame.\n",
      "Try using .loc[row_indexer,col_indexer] = value instead\n",
      "\n",
      "See the caveats in the documentation: https://pandas.pydata.org/pandas-docs/stable/user_guide/indexing.html#returning-a-view-versus-a-copy\n",
      "  self._setitem_single_column(loc, value[:, i].tolist(), pi)\n",
      "/opt/conda/envs/python3/lib/python3.9/site-packages/pandas/core/indexing.py:1738: SettingWithCopyWarning: \n",
      "A value is trying to be set on a copy of a slice from a DataFrame.\n",
      "Try using .loc[row_indexer,col_indexer] = value instead\n",
      "\n",
      "See the caveats in the documentation: https://pandas.pydata.org/pandas-docs/stable/user_guide/indexing.html#returning-a-view-versus-a-copy\n",
      "  self._setitem_single_column(loc, value[:, i].tolist(), pi)\n"
     ]
    }
   ],
   "source": [
    "feat_under_ohe = pd.get_dummies(features_under, drop_first=True)\n",
    "\n",
    "x_feat_under_ohe, yz_feat_under_ohe = train_test_split(feat_under_ohe, test_size=0.3, train_size=0.7, random_state=12345)\n",
    "y_feat_under_ohe, z_feat_under_ohe = train_test_split(yz_feat_under_ohe, train_size=0.66667, random_state=12345)\n",
    "\n",
    "scaler.fit(x_feat_under_ohe.loc[:, numerics])\n",
    "x_feat_under_ohe.loc[:, numerics] = scaler.transform(x_feat_under_ohe.loc[:, numerics])\n",
    "y_feat_under_ohe.loc[:, numerics] = scaler.transform(y_feat_under_ohe.loc[:, numerics])\n",
    "z_feat_under_ohe.loc[:, numerics] = scaler.transform(z_feat_under_ohe.loc[:, numerics])"
   ]
  },
  {
   "cell_type": "markdown",
   "metadata": {},
   "source": [
    "Verify our information was correctly processed and continue."
   ]
  },
  {
   "cell_type": "code",
   "execution_count": 59,
   "metadata": {},
   "outputs": [
    {
     "data": {
      "text/html": [
       "<div>\n",
       "<style scoped>\n",
       "    .dataframe tbody tr th:only-of-type {\n",
       "        vertical-align: middle;\n",
       "    }\n",
       "\n",
       "    .dataframe tbody tr th {\n",
       "        vertical-align: top;\n",
       "    }\n",
       "\n",
       "    .dataframe thead th {\n",
       "        text-align: right;\n",
       "    }\n",
       "</style>\n",
       "<table border=\"1\" class=\"dataframe\">\n",
       "  <thead>\n",
       "    <tr style=\"text-align: right;\">\n",
       "      <th></th>\n",
       "      <th>credit_score</th>\n",
       "      <th>age</th>\n",
       "      <th>tenure</th>\n",
       "      <th>balance</th>\n",
       "      <th>num_of_products</th>\n",
       "      <th>has_cr_card</th>\n",
       "      <th>is_active_member</th>\n",
       "      <th>estimated_salary</th>\n",
       "      <th>geography_Germany</th>\n",
       "      <th>geography_Spain</th>\n",
       "      <th>gender_Male</th>\n",
       "    </tr>\n",
       "  </thead>\n",
       "  <tbody>\n",
       "    <tr>\n",
       "      <th>4563</th>\n",
       "      <td>0.563543</td>\n",
       "      <td>2.155168</td>\n",
       "      <td>-0.700035</td>\n",
       "      <td>1.183672</td>\n",
       "      <td>2.22828</td>\n",
       "      <td>0</td>\n",
       "      <td>0</td>\n",
       "      <td>0.793269</td>\n",
       "      <td>1</td>\n",
       "      <td>0</td>\n",
       "      <td>0</td>\n",
       "    </tr>\n",
       "    <tr>\n",
       "      <th>3867</th>\n",
       "      <td>-1.196813</td>\n",
       "      <td>-0.200952</td>\n",
       "      <td>-1.055223</td>\n",
       "      <td>-1.315792</td>\n",
       "      <td>0.72643</td>\n",
       "      <td>1</td>\n",
       "      <td>0</td>\n",
       "      <td>1.687653</td>\n",
       "      <td>0</td>\n",
       "      <td>0</td>\n",
       "      <td>1</td>\n",
       "    </tr>\n",
       "    <tr>\n",
       "      <th>407</th>\n",
       "      <td>-0.382019</td>\n",
       "      <td>-0.389442</td>\n",
       "      <td>-0.344847</td>\n",
       "      <td>-1.315792</td>\n",
       "      <td>0.72643</td>\n",
       "      <td>1</td>\n",
       "      <td>0</td>\n",
       "      <td>0.429634</td>\n",
       "      <td>0</td>\n",
       "      <td>1</td>\n",
       "      <td>0</td>\n",
       "    </tr>\n",
       "    <tr>\n",
       "      <th>8453</th>\n",
       "      <td>-0.824623</td>\n",
       "      <td>-0.012462</td>\n",
       "      <td>1.431091</td>\n",
       "      <td>0.929964</td>\n",
       "      <td>-0.77542</td>\n",
       "      <td>1</td>\n",
       "      <td>0</td>\n",
       "      <td>0.713771</td>\n",
       "      <td>0</td>\n",
       "      <td>0</td>\n",
       "      <td>0</td>\n",
       "    </tr>\n",
       "    <tr>\n",
       "      <th>4597</th>\n",
       "      <td>0.573602</td>\n",
       "      <td>0.458762</td>\n",
       "      <td>-0.344847</td>\n",
       "      <td>0.397776</td>\n",
       "      <td>-0.77542</td>\n",
       "      <td>1</td>\n",
       "      <td>0</td>\n",
       "      <td>0.133592</td>\n",
       "      <td>1</td>\n",
       "      <td>0</td>\n",
       "      <td>0</td>\n",
       "    </tr>\n",
       "  </tbody>\n",
       "</table>\n",
       "</div>"
      ],
      "text/plain": [
       "      credit_score       age    tenure   balance  num_of_products  \\\n",
       "4563      0.563543  2.155168 -0.700035  1.183672          2.22828   \n",
       "3867     -1.196813 -0.200952 -1.055223 -1.315792          0.72643   \n",
       "407      -0.382019 -0.389442 -0.344847 -1.315792          0.72643   \n",
       "8453     -0.824623 -0.012462  1.431091  0.929964         -0.77542   \n",
       "4597      0.573602  0.458762 -0.344847  0.397776         -0.77542   \n",
       "\n",
       "      has_cr_card  is_active_member  estimated_salary  geography_Germany  \\\n",
       "4563            0                 0          0.793269                  1   \n",
       "3867            1                 0          1.687653                  0   \n",
       "407             1                 0          0.429634                  0   \n",
       "8453            1                 0          0.713771                  0   \n",
       "4597            1                 0          0.133592                  1   \n",
       "\n",
       "      geography_Spain  gender_Male  \n",
       "4563                0            0  \n",
       "3867                0            1  \n",
       "407                 1            0  \n",
       "8453                0            0  \n",
       "4597                0            0  "
      ]
     },
     "execution_count": 59,
     "metadata": {},
     "output_type": "execute_result"
    }
   ],
   "source": [
    "x_feat_under_ohe.head()"
   ]
  },
  {
   "cell_type": "markdown",
   "metadata": {},
   "source": [
    "For the Logistic Regression model we can see the following changes:\n",
    "\n",
    "* The recall score improved from 0.21 to 0.65.\n",
    "* The precision score improved from 0.57 to 0.7.\n",
    "* The F1 score improved from 0.31 to 0.67 (0.02 points above the desired value).\n",
    "* The true positive rate improved from 0.22 to 0.66.\n",
    "* The true negative rate droped from 0.96 to 0.71.\n",
    "\n",
    "The changes were mainly positive for this model. `The oversampling was enough` to reach the desired F1 value, but let's continue with our research."
   ]
  },
  {
   "cell_type": "code",
   "execution_count": 60,
   "metadata": {},
   "outputs": [
    {
     "name": "stdout",
     "output_type": "stream",
     "text": [
      "The recall score is:    0.6585956416464891.\n",
      "The precision score is: 0.7010309278350515.\n",
      "The F1 score is:        0.6791510611735331.\n"
     ]
    },
    {
     "data": {
      "text/plain": [
       "<sklearn.metrics._plot.confusion_matrix.ConfusionMatrixDisplay at 0x7fb417fc3610>"
      ]
     },
     "execution_count": 60,
     "metadata": {},
     "output_type": "execute_result"
    },
    {
     "data": {
      "image/png": "[encoded data removed]",
      "text/plain": [
       "<Figure size 640x480 with 2 Axes>"
      ]
     },
     "metadata": {},
     "output_type": "display_data"
    }
   ],
   "source": [
    "model_ohe.fit(x_feat_under_ohe, x_target_under)\n",
    "pred_under_ohe = model_ohe.predict(y_feat_under_ohe)\n",
    "\n",
    "print(f\"The recall score is:    {recall_score(y_target_under, pred_under_ohe)}.\")\n",
    "print(f\"The precision score is: {precision_score(y_target_under, pred_under_ohe)}.\")\n",
    "print(f\"The F1 score is:        {f1_score(y_target_under, pred_under_ohe)}.\")\n",
    "\n",
    "plot_confusion_matrix(model_ohe, X=y_feat_under_ohe, y_true=y_target_under, normalize='true', cmap='Blues')"
   ]
  },
  {
   "cell_type": "markdown",
   "metadata": {},
   "source": [
    "### Adjusting the Classification Threshold"
   ]
  },
  {
   "cell_type": "markdown",
   "metadata": {},
   "source": [
    "The final way to get through unbalance we will see in this project is adjusting the classification threshold. This means to adjust the probability value in which our model identifies as true positives the predicted values we got. In our case we have 2 possible values 0 and 1 which means is 50% probable to get any of those values, now we can adjust this to be lower or higher for our possitive class (1) and improve our F1 score.\n",
    "\n",
    "The way we will make this possible is to obtain the probabilities for a row in our dataframe to be 0 or 1 and the filter the \"ones list\" using our threshold value. Then we can get the information we need.\n",
    "\n",
    "Let's see how this helps us improve our F1 value."
   ]
  },
  {
   "cell_type": "markdown",
   "metadata": {},
   "source": [
    "#### Case Ordinal Encoding"
   ]
  },
  {
   "cell_type": "markdown",
   "metadata": {},
   "source": [
    "Using the features and target sets we generated in section 3.3 we can iterate over various possible \"best threshold\" values, but first we need to obatin the probabilities using the function \"predict_proba()\" and then filtering the postives column.\n",
    "\n",
    "Let's see the process."
   ]
  },
  {
   "cell_type": "code",
   "execution_count": 131,
   "metadata": {},
   "outputs": [],
   "source": [
    "# Tarining the model\n",
    "model_nom.fit(x_feat_nom, x_target)\n",
    "\n",
    "# Getting the probabilities using our validation set\n",
    "prob_valid_nom = model_nom.predict_proba(y_feat_nom)\n",
    "\n",
    "# Getting the list os probabilities for the positives column\n",
    "prob_one_valid_nom = prob_valid_nom[:, 1]"
   ]
  },
  {
   "cell_type": "code",
   "execution_count": 132,
   "metadata": {},
   "outputs": [],
   "source": [
    "# Variables to save the best configuration threshold and interes information\n",
    "best_thr_nom = 0\n",
    "best_rec_nom = 0\n",
    "best_pre_nom = 0\n",
    "best_f1_nom = 0"
   ]
  },
  {
   "cell_type": "code",
   "execution_count": 133,
   "metadata": {
    "scrolled": true
   },
   "outputs": [
    {
     "name": "stderr",
     "output_type": "stream",
     "text": [
      "/opt/conda/envs/python3/lib/python3.9/site-packages/sklearn/metrics/_classification.py:1245: UndefinedMetricWarning: Recall is ill-defined and being set to 0.0 due to no true samples. Use `zero_division` parameter to control this behavior.\n",
      "  _warn_prf(average, modifier, msg_start, len(result))\n",
      "/opt/conda/envs/python3/lib/python3.9/site-packages/sklearn/metrics/_classification.py:1245: UndefinedMetricWarning: Recall is ill-defined and being set to 0.0 due to no true samples. Use `zero_division` parameter to control this behavior.\n",
      "  _warn_prf(average, modifier, msg_start, len(result))\n"
     ]
    }
   ],
   "source": [
    "# Iterative process to get the best threshold value\n",
    "for threshold in np.arange(0, 1, 0.01):\n",
    "    predicted_valid_nom = prob_one_valid_nom > threshold\n",
    "    rec_nom = recall_score(predicted_valid_nom, y_target)\n",
    "    pre_nom = precision_score(predicted_valid_nom, y_target)\n",
    "    f1_nom = f1_score(predicted_valid_nom, y_target)\n",
    "    \n",
    "    # Save new values if current F1 score is higher than saved F1 score\n",
    "    if f1_nom > best_f1_nom:\n",
    "        best_thr_nom = threshold\n",
    "        best_rec_nom = rec_nom\n",
    "        best_pre_nom = pre_nom\n",
    "        best_f1_nom = f1_nom"
   ]
  },
  {
   "cell_type": "markdown",
   "metadata": {},
   "source": [
    "Iterating over possibles \"best threshold\" values we can see the best value is 0.29. This means our model shall identify better the true possitives with new value with a F1 score of 0.62 (0.03 below the desired value)."
   ]
  },
  {
   "cell_type": "code",
   "execution_count": 134,
   "metadata": {},
   "outputs": [
    {
     "name": "stdout",
     "output_type": "stream",
     "text": [
      "The best threshold value is 0.29 and its values are: recall = 0.6004415011037527; precision = 0.6601941747572816; F1 = 0.6289017341040462.\n"
     ]
    }
   ],
   "source": [
    "print(f\"The best threshold value is {best_thr_nom} and its values are: recall = {best_rec_nom}; precision = {best_pre_nom}; F1 = {best_f1_nom}.\")"
   ]
  },
  {
   "cell_type": "markdown",
   "metadata": {},
   "source": [
    "To comprehend how the configuration of the threshold affects our relation precision-recall (therefore the F1 score) we can use the function \"precision_recall_curve\" to get all the needed values tu plot it on a step plot. We also added two lines marking the precision (orange line) and recall (green line) values obtained for out \"best threshold\" value.\n",
    "\n",
    "We can see by the step plot the more the recall increases the less precision the model has."
   ]
  },
  {
   "cell_type": "code",
   "execution_count": 135,
   "metadata": {},
   "outputs": [
    {
     "data": {
      "image/png": "[encoded data removed]",
      "text/plain": [
       "<Figure size 600x600 with 1 Axes>"
      ]
     },
     "metadata": {},
     "output_type": "display_data"
    }
   ],
   "source": [
    "precision_nom, recall_nom, threshold_nom = precision_recall_curve(y_target, prob_one_valid_nom)\n",
    "\n",
    "plt.figure(figsize=(6, 6))\n",
    "plt.step(recall_nom, precision_nom, where='post')\n",
    "plt.plot([best_rec_nom, best_rec_nom], [0, 1.05])\n",
    "plt.plot([0, 1], [best_pre_nom, best_pre_nom])\n",
    "plt.xlabel('Recall')\n",
    "plt.ylabel('Precision')\n",
    "plt.ylim([0.0, 1.05])\n",
    "plt.xlim([0.0, 1.0])\n",
    "plt.title('Precision-Recall Curve')\n",
    "plt.show()"
   ]
  },
  {
   "cell_type": "markdown",
   "metadata": {},
   "source": [
    "Now we can plot a ROC curve and obtain the are under it (AUC-ROC) to see how our true positives rate and false positives rate (tpr and fpr) behaves with a variation on the threshold.\n",
    "\n",
    "Also if we plot a confusion matrix on the set we can get the values of the tpr and fpr and plot those values as lines to visualize an interesting point in the ROC curve. At the moment we do not know if it is coincidence or not, but is interesting stand out this point."
   ]
  },
  {
   "cell_type": "code",
   "execution_count": 151,
   "metadata": {},
   "outputs": [
    {
     "data": {
      "image/png": "[encoded data removed]",
      "text/plain": [
       "<Figure size 640x480 with 2 Axes>"
      ]
     },
     "metadata": {},
     "output_type": "display_data"
    }
   ],
   "source": [
    "plot_confusion_matrix(model_nom, X=y_feat_nom, y_true=y_target, normalize='true', cmap='Blues')\n",
    "plt.show()"
   ]
  },
  {
   "cell_type": "code",
   "execution_count": 153,
   "metadata": {},
   "outputs": [
    {
     "name": "stdout",
     "output_type": "stream",
     "text": [
      "The ROC=AUC is: 0.8533861363136143.\n"
     ]
    },
    {
     "data": {
      "image/png": "[encoded data removed]",
      "text/plain": [
       "<Figure size 640x480 with 1 Axes>"
      ]
     },
     "metadata": {},
     "output_type": "display_data"
    }
   ],
   "source": [
    "fpr, tpr, thresholds = roc_curve(y_target, prob_one_valid_nom)\n",
    "auc_nom = roc_auc_score(y_target, prob_one_valid_nom)\n",
    "print(f\"The ROC=AUC is: {auc_nom}.\")\n",
    "\n",
    "plt.figure()\n",
    "\n",
    "# Plotting the points for fpr and tpr\n",
    "plt.plot(fpr, tpr)\n",
    "\n",
    "# Reference ROC curve for 0.5 AUC-ROC and lines of the intersection\n",
    "plt.plot([0, 1], [0, 1], linestyle='--')\n",
    "plt.plot([0, 1.0], [0.43, 0.43])\n",
    "plt.plot([0.029, 0.029], [0, 1.0])\n",
    "\n",
    "# Set limits from 0 to 1 for x-axis and y-axis\n",
    "plt.xlim([0, 1])\n",
    "plt.ylim([0, 1])\n",
    "\n",
    "# Changing axles labels\n",
    "plt.xlabel(\"Tasa de falsos positivos\")\n",
    "plt.ylabel(\"Tasa de verdaderos positivos\")\n",
    "\n",
    "# Adding a title to the plot\n",
    "plt.title(\"Curva ROC\")\n",
    "\n",
    "plt.show()"
   ]
  },
  {
   "cell_type": "markdown",
   "metadata": {},
   "source": [
    "Plotting a new confusion matrix using the predicted data with the threshold applied, we can see the model can predict 100% of the negative class values as true negatives but only a 49% of the positive class values as true positives."
   ]
  },
  {
   "cell_type": "code",
   "execution_count": 156,
   "metadata": {},
   "outputs": [
    {
     "data": {
      "image/png": "[encoded data removed]",
      "text/plain": [
       "<Figure size 640x480 with 2 Axes>"
      ]
     },
     "metadata": {},
     "output_type": "display_data"
    }
   ],
   "source": [
    "plot_confusion_matrix(model_nom, X=y_feat_nom, y_true=prob_one_valid_nom > best_thr_nom, normalize='true', cmap='Blues')\n",
    "plt.show()"
   ]
  },
  {
   "cell_type": "markdown",
   "metadata": {},
   "source": [
    "With all the coding above we can conclude the following:\n",
    "\n",
    "* Our best F1 score is 0.6289017341040462 (aprox. 0.021 points below desired value) with a threshold of 0.29.\n",
    "* Our best recall-precision relation is in recall = 0.6004415011037527 and precision = 0.6601941747572816.\n",
    "* Our AUC-ROC is 0.8533861363136143.\n",
    "* Our interest point in the ROC plot is in tpr = 0.43 and fpr = 0.029."
   ]
  },
  {
   "cell_type": "markdown",
   "metadata": {},
   "source": [
    "#### Case OHE"
   ]
  },
  {
   "cell_type": "markdown",
   "metadata": {},
   "source": [
    "Same as in section 4.4.1 we apply the same threshold processing to the OHE processed data."
   ]
  },
  {
   "cell_type": "code",
   "execution_count": 142,
   "metadata": {},
   "outputs": [],
   "source": [
    "model_ohe.fit(x_feat_ohe, x_target)\n",
    "prob_valid_ohe = model_ohe.predict_proba(y_feat_ohe)\n",
    "prob_one_valid_ohe = prob_valid_ohe[:, 1]"
   ]
  },
  {
   "cell_type": "code",
   "execution_count": 144,
   "metadata": {},
   "outputs": [],
   "source": [
    "best_thr_ohe = 0\n",
    "best_rec_ohe = 0\n",
    "best_pre_ohe = 0\n",
    "best_f1_ohe = 0"
   ]
  },
  {
   "cell_type": "code",
   "execution_count": 145,
   "metadata": {},
   "outputs": [
    {
     "name": "stderr",
     "output_type": "stream",
     "text": [
      "/opt/conda/envs/python3/lib/python3.9/site-packages/sklearn/metrics/_classification.py:1245: UndefinedMetricWarning: Recall is ill-defined and being set to 0.0 due to no true samples. Use `zero_division` parameter to control this behavior.\n",
      "  _warn_prf(average, modifier, msg_start, len(result))\n",
      "/opt/conda/envs/python3/lib/python3.9/site-packages/sklearn/metrics/_classification.py:1245: UndefinedMetricWarning: Recall is ill-defined and being set to 0.0 due to no true samples. Use `zero_division` parameter to control this behavior.\n",
      "  _warn_prf(average, modifier, msg_start, len(result))\n",
      "/opt/conda/envs/python3/lib/python3.9/site-packages/sklearn/metrics/_classification.py:1245: UndefinedMetricWarning: Recall is ill-defined and being set to 0.0 due to no true samples. Use `zero_division` parameter to control this behavior.\n",
      "  _warn_prf(average, modifier, msg_start, len(result))\n",
      "/opt/conda/envs/python3/lib/python3.9/site-packages/sklearn/metrics/_classification.py:1245: UndefinedMetricWarning: Recall is ill-defined and being set to 0.0 due to no true samples. Use `zero_division` parameter to control this behavior.\n",
      "  _warn_prf(average, modifier, msg_start, len(result))\n",
      "/opt/conda/envs/python3/lib/python3.9/site-packages/sklearn/metrics/_classification.py:1245: UndefinedMetricWarning: Recall is ill-defined and being set to 0.0 due to no true samples. Use `zero_division` parameter to control this behavior.\n",
      "  _warn_prf(average, modifier, msg_start, len(result))\n",
      "/opt/conda/envs/python3/lib/python3.9/site-packages/sklearn/metrics/_classification.py:1245: UndefinedMetricWarning: Recall is ill-defined and being set to 0.0 due to no true samples. Use `zero_division` parameter to control this behavior.\n",
      "  _warn_prf(average, modifier, msg_start, len(result))\n",
      "/opt/conda/envs/python3/lib/python3.9/site-packages/sklearn/metrics/_classification.py:1245: UndefinedMetricWarning: Recall is ill-defined and being set to 0.0 due to no true samples. Use `zero_division` parameter to control this behavior.\n",
      "  _warn_prf(average, modifier, msg_start, len(result))\n"
     ]
    }
   ],
   "source": [
    "for threshold in np.arange(0, 1, 0.01):\n",
    "    predicted_valid_ohe = prob_one_valid_ohe > threshold\n",
    "    rec_ohe = recall_score(predicted_valid_ohe, y_target)\n",
    "    pre_ohe = precision_score(predicted_valid_ohe, y_target)\n",
    "    f1_ohe = f1_score(predicted_valid_ohe, y_target)\n",
    "    \n",
    "    if f1_ohe > best_f1_ohe:\n",
    "        best_thr_ohe = threshold\n",
    "        best_rec_ohe = rec_ohe\n",
    "        best_pre_ohe = pre_ohe\n",
    "        best_f1_ohe = f1_ohe"
   ]
  },
  {
   "cell_type": "code",
   "execution_count": 146,
   "metadata": {},
   "outputs": [
    {
     "name": "stdout",
     "output_type": "stream",
     "text": [
      "The best threshold value is 0.25 and its values are: recall = 0.4219001610305958; precision = 0.6359223300970874; F1 = 0.5072604065827687.\n"
     ]
    }
   ],
   "source": [
    "print(f\"The best threshold value is {best_thr_ohe} and its values are: recall = {best_rec_ohe}; precision = {best_pre_ohe}; F1 = {best_f1_ohe}.\")"
   ]
  },
  {
   "cell_type": "markdown",
   "metadata": {},
   "source": [
    "Plotting a new precision-recall curve we can see the behaviour of this new curve has less variance compared with the one of previous section, but still has a tendecy to drop the recall score the more the precision scores increases."
   ]
  },
  {
   "cell_type": "code",
   "execution_count": 147,
   "metadata": {},
   "outputs": [
    {
     "data": {
      "image/png": "[encoded data removed]",
      "text/plain": [
       "<Figure size 600x600 with 1 Axes>"
      ]
     },
     "metadata": {},
     "output_type": "display_data"
    }
   ],
   "source": [
    "precision_ohe, recall_ohe, threshold_ohe = precision_recall_curve(y_target, prob_one_valid_ohe)\n",
    "\n",
    "plt.figure(figsize=(6, 6))\n",
    "plt.step(recall_ohe, precision_ohe, where='post')\n",
    "plt.plot([best_rec_ohe, best_rec_ohe], [0, 1.05])\n",
    "plt.plot([0, 1], [best_pre_ohe, best_pre_ohe])\n",
    "plt.xlabel('Recall')\n",
    "plt.ylabel('Precision')\n",
    "plt.ylim([0.0, 1.05])\n",
    "plt.xlim([0.0, 1.0])\n",
    "plt.title('Precision-Recall Curve')\n",
    "plt.show()"
   ]
  },
  {
   "cell_type": "markdown",
   "metadata": {},
   "source": [
    "Plotting a new ROC curve with the OHE set we can see its quite different from the curve generated with the Nominal Encoded set, as this new curve has a form similar tu a curve.\n",
    "\n",
    "It also has the singularity that if you plot as lines the tpr and the fpr both intersects in a point in the curve."
   ]
  },
  {
   "cell_type": "code",
   "execution_count": 149,
   "metadata": {},
   "outputs": [
    {
     "data": {
      "image/png": "[encoded data removed]",
      "text/plain": [
       "<Figure size 640x480 with 2 Axes>"
      ]
     },
     "metadata": {},
     "output_type": "display_data"
    }
   ],
   "source": [
    "plot_confusion_matrix(model_ohe, X=y_feat_ohe, y_true=y_target, normalize='true', cmap='Blues')\n",
    "plt.show()"
   ]
  },
  {
   "cell_type": "code",
   "execution_count": 157,
   "metadata": {},
   "outputs": [
    {
     "name": "stdout",
     "output_type": "stream",
     "text": [
      "The ROC=AUC is: 0.7665546819593554.\n"
     ]
    },
    {
     "data": {
      "image/png": "[encoded data removed]",
      "text/plain": [
       "<Figure size 640x480 with 1 Axes>"
      ]
     },
     "metadata": {},
     "output_type": "display_data"
    }
   ],
   "source": [
    "fpr, tpr, thresholds = roc_curve(y_target, prob_one_valid_ohe)\n",
    "auc_ohe = roc_auc_score(y_target, prob_one_valid_ohe)\n",
    "print(f\"The ROC=AUC is: {auc_ohe}.\")\n",
    "\n",
    "plt.figure()\n",
    "\n",
    "# Plotting the points for fpr and tpr\n",
    "plt.plot(fpr, tpr)\n",
    "\n",
    "# Reference ROC curve for 0.5 AUC-ROC and lines of the intersection\n",
    "plt.plot([0, 1], [0, 1], linestyle='--')\n",
    "plt.plot([0, 1.0], [0.22, 0.22])\n",
    "plt.plot([0.041, 0.041], [0, 1.0])\n",
    "\n",
    "# Set limits from 0 to 1 for x-axis and y-axis\n",
    "plt.xlim([0, 1])\n",
    "plt.ylim([0, 1])\n",
    "\n",
    "# Changing axles labels\n",
    "plt.xlabel(\"Tasa de falsos positivos\")\n",
    "plt.ylabel(\"Tasa de verdaderos positivos\")\n",
    "\n",
    "# Adding a title to the plot\n",
    "plt.title(\"Curva ROC\")\n",
    "\n",
    "plt.show()"
   ]
  },
  {
   "cell_type": "markdown",
   "metadata": {},
   "source": [
    "Plotting a new confusion matrix using the predicted data with the threshold applied, we can see the model can predict 100% of the negative class values as true negatives but only a 25% of the positive class values as true positives."
   ]
  },
  {
   "cell_type": "code",
   "execution_count": 159,
   "metadata": {
    "scrolled": false
   },
   "outputs": [
    {
     "data": {
      "image/png": "[encoded data removed]",
      "text/plain": [
       "<Figure size 640x480 with 2 Axes>"
      ]
     },
     "metadata": {},
     "output_type": "display_data"
    }
   ],
   "source": [
    "plot_confusion_matrix(model_ohe, X=y_feat_ohe, y_true=prob_one_valid_ohe > best_thr_ohe, normalize='true', cmap='Blues')\n",
    "plt.show()"
   ]
  },
  {
   "cell_type": "markdown",
   "metadata": {},
   "source": [
    "With all the coding above we can conclude the following:\n",
    "\n",
    "* Our best F1 score is 0.0.5072604065827687 (aprox. 0.15 points below desired value) with a threshold of 0.25.\n",
    "* Our best recall-precision relation is in recall = 0.4219001610305958 and precision = 0.6359223300970874.\n",
    "* Our AUC-ROC is 0.7665546819593554.\n",
    "* Our interest point in the ROC plot is in tpr = 0.22 and fpr = 0.041."
   ]
  },
  {
   "cell_type": "markdown",
   "metadata": {},
   "source": [
    "### Summary of tests"
   ]
  },
  {
   "cell_type": "markdown",
   "metadata": {},
   "source": [
    "Let's remember the results obtained from both models on all the balancing methods we applied:\n",
    "\n",
    "* class_weight='balance'\n",
    "\n",
    "\n",
    "    * Ordinal Encoding\n",
    "        * The recall score is:    0.5922330097087378.\n",
    "        * The precision score is: 0.6612466124661247.\n",
    "        * The F1 score is:        0.6248399487836107.\n",
    "        \n",
    "    * OHE\n",
    "        * The recall score is:    0.7135922330097088.\n",
    "        * The precision score is: 0.3843137254901961.\n",
    "        * The F1 score is:        0.4995751911639762.\n",
    "            \n",
    "* Oversampling\n",
    "\n",
    "\n",
    "    * Ordinal Encoding\n",
    "        * The recall score is:    0.8854731766124171.\n",
    "        * The precision score is: 0.8692307692307693.\n",
    "        * The F1 score is:        0.877276799044491.\n",
    "            \n",
    "    * OHE\n",
    "        * The recall score is:    0.707655213984328.\n",
    "        * The precision score is: 0.7242442936458976.\n",
    "        * The F1 score is:        0.7158536585365856.\n",
    "        \n",
    "* Undersampling\n",
    "\n",
    "\n",
    "    * Ordinal Encoding\n",
    "        * The recall score is:    0.7215496368038741.\n",
    "        * The precision score is: 0.7989276139410187.\n",
    "        * The F1 score is:        0.7582697201017812.\n",
    "            \n",
    "    * OHE\n",
    "        * The recall score is:    0.6585956416464891.\n",
    "        * The precision score is: 0.7010309278350515.\n",
    "        * The F1 score is:        0.6791510611735331.\n",
    "        \n",
    "* Classification Threshold\n",
    "\n",
    "\n",
    "    * Ordinal Encoding\n",
    "        * The recall score is:    0.6004415011037527.\n",
    "        * The precision score is: 0.6601941747572816.\n",
    "        * The F1 score is:        0.6289017341040462.\n",
    "        * Threshold:              0.29.\n",
    "            \n",
    "    * OHE\n",
    "        * The recall score is:    0.4219001610305958.\n",
    "        * The precision score is: 0.6359223300970874.\n",
    "        * The F1 score is:        0.5072604065827687.\n",
    "        * Threshold:              0.25.\n",
    "        \n",
    "We can see the Ordinal Encoded models (Random Forest Classifier models) have higuer results in contrast of the OHE encoded models (Logistical Regression models), so we will use the Random Forest model for the final steps of the project.\n",
    "\n",
    "Also, in all the balancing processing of the Random Forest model we could see the oversampling returned us higuer results than the undersampling. Our final combination of balancing for the final Random Forest model will be: `class_weight='balanced'` + `oversampling` + `threshold classification`."
   ]
  },
  {
   "cell_type": "markdown",
   "metadata": {},
   "source": [
    "#### Using a new RandomForestClassifier model"
   ]
  },
  {
   "cell_type": "markdown",
   "metadata": {},
   "source": [
    "As we said earlier, our selected balancing processing will be: `balanced configuration` + `oversampling` + `classification threshold`. Let's apply all of them together on the same Random Forest model we were using all the project."
   ]
  },
  {
   "cell_type": "markdown",
   "metadata": {},
   "source": [
    "In this block we use the Random Forest model with the parameter class_weight='balanced' to train the oversampled training set and then to obtain the best threshold value evaluating F1 score obtained in the iteration (also saving the precision and recall scores)."
   ]
  },
  {
   "cell_type": "code",
   "execution_count": 76,
   "metadata": {},
   "outputs": [],
   "source": [
    "best_thr_nom_test = 0\n",
    "best_rec_nom_test = 0\n",
    "best_pre_nom_test = 0\n",
    "best_f1_nom_test = 0\n",
    "\n",
    "model_nom_bal.fit(x_feat_over_nom, x_target_over)\n",
    "pred_test = model_nom_bal.predict_proba(y_feat_over_nom)\n",
    "prob_one_valid_nom_test = pred_test[:, 1]\n",
    "\n",
    "for threshold in np.arange(0, 1, 0.01):\n",
    "    predicted_valid_nom_test = prob_one_valid_nom_test > threshold\n",
    "    rec_nom_test = recall_score(predicted_valid_nom_test, y_target_over)\n",
    "    pre_nom_test = precision_score(predicted_valid_nom_test, y_target_over)\n",
    "    f1_nom_test = f1_score(predicted_valid_nom_test, y_target_over)\n",
    "    \n",
    "    if f1_nom_test > best_f1_nom_test:\n",
    "        best_thr_nom_test = threshold\n",
    "        best_rec_nom_test = rec_nom_test\n",
    "        best_pre_nom_test = pre_nom_test\n",
    "        best_f1_nom_test = f1_nom_test"
   ]
  },
  {
   "cell_type": "markdown",
   "metadata": {},
   "source": [
    "Now knowing the results we can print it in a way all people can comprehend the information obtained."
   ]
  },
  {
   "cell_type": "code",
   "execution_count": 77,
   "metadata": {},
   "outputs": [
    {
     "name": "stdout",
     "output_type": "stream",
     "text": [
      "The best threshold value is 0.48 and its values are: recall = 0.8610478359908884; precision = 0.9113924050632911; F1 = 0.8855051244509516.\n"
     ]
    }
   ],
   "source": [
    "print(f\"The best threshold value is {best_thr_nom_test} and its values are: recall = {best_rec_nom_test}; precision = {best_pre_nom_test}; F1 = {best_f1_nom_test}.\")"
   ]
  },
  {
   "cell_type": "markdown",
   "metadata": {},
   "source": [
    "Plotting a new precision-recall curve we can see our results mark the following:\n",
    "\n",
    "* The precision score is 0.9113924050632911 (green line).\n",
    "* The recall score is 0.8610478359908884 (orange line).\n",
    "* The F1 score is 0.8855051244509516.\n",
    "\n",
    "The precision-recall curve has improved drastically from previous curves indicating our balancing process has been succesful."
   ]
  },
  {
   "cell_type": "code",
   "execution_count": 168,
   "metadata": {},
   "outputs": [
    {
     "data": {
      "image/png": "[encoded data removed]",
      "text/plain": [
       "<Figure size 600x600 with 1 Axes>"
      ]
     },
     "metadata": {},
     "output_type": "display_data"
    }
   ],
   "source": [
    "precision_nom_test, recall_nom_test, threshold_nom_test = precision_recall_curve(y_target_over, prob_one_valid_nom_test)\n",
    "\n",
    "plt.figure(figsize=(6, 6))\n",
    "plt.step(recall_nom_test, precision_nom_test, where='post')\n",
    "plt.plot([best_rec_nom_test, best_rec_nom_test], [0, 1.0])\n",
    "plt.plot([0, 1], [best_pre_nom_test, best_pre_nom_test])\n",
    "plt.xlabel('Recall')\n",
    "plt.ylabel('Precision')\n",
    "plt.ylim([0.0, 1.0])\n",
    "plt.xlim([0.0, 1.0])\n",
    "plt.title('Precision-Recall Curve')\n",
    "plt.show()"
   ]
  },
  {
   "cell_type": "markdown",
   "metadata": {},
   "source": [
    "With a new confusion matrix we can see a minimum improvement from past models because the true negatives rate has improved from 0.97 to 0.99 and the true positives rate staying on 0.43, so we can conclude as minimal it gets is an improvement.\n",
    "\n",
    "With this is hand we can plot a new ROC curve and obtain the new AUC-ROC value."
   ]
  },
  {
   "cell_type": "code",
   "execution_count": 163,
   "metadata": {},
   "outputs": [
    {
     "data": {
      "image/png": "[encoded data removed]",
      "text/plain": [
       "<Figure size 640x480 with 2 Axes>"
      ]
     },
     "metadata": {},
     "output_type": "display_data"
    }
   ],
   "source": [
    "plot_confusion_matrix(model_nom, X=y_feat_over_nom, y_true=y_target_over, normalize='true', cmap='Blues')\n",
    "plt.show()"
   ]
  },
  {
   "cell_type": "code",
   "execution_count": 165,
   "metadata": {},
   "outputs": [
    {
     "name": "stdout",
     "output_type": "stream",
     "text": [
      "The AUC-ROC value is: 0.9471129576088394.\n"
     ]
    },
    {
     "data": {
      "image/png": "[encoded data removed]",
      "text/plain": [
       "<Figure size 640x480 with 1 Axes>"
      ]
     },
     "metadata": {},
     "output_type": "display_data"
    }
   ],
   "source": [
    "fpr, tpr, thresholds = roc_curve(y_target_over, prob_one_valid_nom_test)\n",
    "auc_nom_test = roc_auc_score(y_target_over, prob_one_valid_nom_test)\n",
    "print(f\"The AUC-ROC value is: {auc_nom_test}.\")\n",
    "\n",
    "plt.figure()\n",
    "\n",
    "# Plotting the points for fpr and tpr\n",
    "plt.plot(fpr, tpr)\n",
    "\n",
    "# Reference ROC curve for 0.5 AUC-ROC and lines of the intersection\n",
    "plt.plot([0, 1], [0, 1], linestyle='--')\n",
    "plt.plot([0, 1.0], [0.43, 0.43])\n",
    "plt.plot([0.012, 0.012], [0, 1.0])\n",
    "\n",
    "# Set limits from 0 to 1 for x-axis and y-axis\n",
    "plt.xlim([0, 1])\n",
    "plt.ylim([0, 1])\n",
    "\n",
    "# Changing axles labels\n",
    "plt.xlabel(\"Tasa de falsos positivos\")\n",
    "plt.ylabel(\"Tasa de verdaderos positivos\")\n",
    "\n",
    "# Adding a title to the plot\n",
    "plt.title(\"Curva ROC\")\n",
    "\n",
    "plt.show()"
   ]
  },
  {
   "cell_type": "code",
   "execution_count": 166,
   "metadata": {
    "scrolled": false
   },
   "outputs": [
    {
     "data": {
      "image/png": "[encoded data removed]",
      "text/plain": [
       "<Figure size 640x480 with 2 Axes>"
      ]
     },
     "metadata": {},
     "output_type": "display_data"
    }
   ],
   "source": [
    "plot_confusion_matrix(model_nom, X=y_feat_over_nom, y_true=prob_one_valid_nom_test > best_thr_nom_test, normalize='true', cmap='Blues')\n",
    "plt.show()"
   ]
  },
  {
   "cell_type": "markdown",
   "metadata": {},
   "source": [
    "Using the new confusion matrix and ROC plots we can conclude the following:\n",
    "\n",
    "* Our AUC-ROC is 0.0.9471129576088394.\n",
    "* Our interest point in the ROC plot is in tpr = 0.43 and fpr = 0.012.\n",
    "* Our new confusion matrix plot states we can predict almost the 100% of true negatives as negatives, but only the 42% of true positives as positives."
   ]
  },
  {
   "cell_type": "markdown",
   "metadata": {},
   "source": [
    "### Conclusions"
   ]
  },
  {
   "cell_type": "markdown",
   "metadata": {},
   "source": [
    "1.- We could see the Random Forest models had better results after balancing processing compared to the Logistic Regression models.\n",
    "\n",
    "2.- The oversampling has better results compared to the undersampling (maybe because the more information you have the better for the algorithms).\n",
    "\n",
    "3.- Once we applied more than one balancing processing to the model we could see a drastical improvement on the Random Forest model and also an improvement on the F1 score.\n",
    "\n",
    "4.- Eventhough we do not have yet a model which can predict most of true positives as positives, we are still left to find the best Random Forest model hyperparameters configuration. This means we still have oportunities to improve our model."
   ]
  },
  {
   "cell_type": "markdown",
   "metadata": {},
   "source": [
    "## Designing the final model"
   ]
  },
  {
   "cell_type": "markdown",
   "metadata": {},
   "source": [
    "Now we have a better idea of how our preditive model shall be. We have decided to be a Random Forest Classifier model with 3 types of balancing processing on it, but we still need to find the best hyperparameters configuration for the model.\n",
    "\n",
    "We will use a previous function we used on Sprint 8 project with a few changes to fit the new balancing process we learned on sprint 9 and find the best configuration for our model."
   ]
  },
  {
   "cell_type": "markdown",
   "metadata": {},
   "source": [
    "`-----------------------------------------------------WARNING------------------------------------------------------------------`\n",
    "\n",
    "Due to the iterative process of the function, we recommend runing this function by caution because we have estimated `the processing time of this function is around 29 minutes`. We saved the values we got on new variables on following blocks (section 5.1) so you do not have to run it again, nevertheless if you want to try another configuration you are free to.\n",
    "\n",
    "`-----------------------------------------------------WARNING------------------------------------------------------------------`"
   ]
  },
  {
   "cell_type": "code",
   "execution_count": 81,
   "metadata": {},
   "outputs": [],
   "source": [
    "def rfc_Chooser(training_features, training_target, validation_features, validation_target, in_estimators=100, in_split=2, in_leaf=1, in_depth=None, weight='balanced'):\n",
    "    \n",
    "    \"\"\"\n",
    "    This function takes as inputs 2 sets of data (the validation and the training sets), and gets the accuracy score\n",
    "    for the information on those sets using a Random Forest Classifier model. You can also specify a new value \n",
    "    for the following parameters:\n",
    "    \n",
    "    n_estimators, min_samples_split, min_samples_leaf & max_depth.\n",
    "    \n",
    "    to iterate over them in the model if you want to use values different from the default parameters.\n",
    "    \n",
    "    Inputs:\n",
    "    -training_features: DataFrame or Series\n",
    "        ~ The feature(s) values for the training set.\n",
    "    -training_target: DataFrame or Series\n",
    "        ~ The target(s) values for the training set.\n",
    "    -validation_features: DataFrame or Series\n",
    "        ~ The feature(s) values for the validation set.\n",
    "    -validation_target: DataFrame or Series\n",
    "        ~ The target(s) values for the validation set.\n",
    "    -in_estimators: int\n",
    "        ~ Maximum value for the n_estimators parameter.\n",
    "    -in_split: int or float\n",
    "        ~ Maximum value for the min_samples_split parameter.\n",
    "    -in_leaf: int or float\n",
    "        ~ Maximum value for the min_samples_leaf parameter.\n",
    "    -in_depth: None or int\n",
    "        ~ Maximum value for the max_depth parameter.\n",
    "    -weight: str\n",
    "        ~ Class weight for the model model. Balanced by default.\n",
    "        \n",
    "    Outputs:\n",
    "    -best_split_rfc: int or float\n",
    "        ~ The most optimal value for the min_samples_split parameter.\n",
    "    -best_leaf_rfc: int or float\n",
    "        ~ The most optimal value for the min_samples_leaf parameter.\n",
    "    -best_depth_rfc: None or int\n",
    "        ~ The most optimal value for the max_depth parameter.\n",
    "    -best_est_rfc: int\n",
    "        ~ The most optimal value for the max_depth parameter.\n",
    "    -best_f1_rfc: float\n",
    "        ~ The best F1 value obtained in the iteration.\n",
    "    -best_threshold_rfc: float\n",
    "        ~ The best threshold value obtained in the iteration.\n",
    "    \"\"\"\n",
    "    \n",
    "    # Evaluations for incorrect inputs\n",
    "    if len(training_features) != len(training_target):\n",
    "        return \"Error. Training sets do not have the same lenght.\"\n",
    "        \n",
    "    if len(validation_features) != len(validation_target):\n",
    "        return \"Error. Test sets do not have the same lenght.\"\n",
    "    \n",
    "    if in_estimators < 1:\n",
    "        return \"Error. Number of estimators value is less than 1.\"\n",
    "    \n",
    "    if in_estimators % 1 != 0:\n",
    "        return \"Error. Number of estimators value is less than 0.\"\n",
    "        \n",
    "    if in_split < 0:\n",
    "        return \"Error. Minimum samples split value is less than 0.\"\n",
    "        \n",
    "    if in_leaf < 0:\n",
    "        return \"Error. Minimum samples leaf value is less than 0.\"\n",
    "        \n",
    "    if in_depth % 1 != 0:\n",
    "        return \"Error. Max depth value is a float number.\"\n",
    "    \n",
    "    if in_depth < 0:\n",
    "        return \"Error. Max depth value is less than 0.\"\n",
    "    \n",
    "    # Local variables for the parameters for the best accuracy in the evaluation\n",
    "    best_threshold_rfc = 0.0\n",
    "    best_split_rfc = 0.0\n",
    "    best_leaf_rfc = 0.0\n",
    "    best_depth_rfc = 0.0\n",
    "    best_est_rfc = 0.0\n",
    "    best_f1_rfc = 0.0\n",
    "    \n",
    "    # Getting the value for min_samples_split variable in case our input is a float number between 0 and 1\n",
    "    if in_split % 1 != 0:\n",
    "        \n",
    "        in_split = math.ceil(len(target_train) * in_split)\n",
    "        \n",
    "    # Getting the value for min_samples_leaf variable in case our input is a float number between 0 and 1\n",
    "    if in_leaf % 1 != 0:\n",
    "        \n",
    "        in_leaf = math.ceil(len(target_train) * in_leaf)\n",
    "\n",
    "    # Evaluating the model for min_samples_split between 2 and the input value (increments by 1)\n",
    "    for split in range(2, (in_split+1), 1):\n",
    "\n",
    "        # Evaluating the model for min_samples_leaf between 1 and the input value (increments by 1)\n",
    "        for leaf in range(1, (in_leaf+1), 1):\n",
    "            \n",
    "            # Evaluating the model for n_estimators between 10 and the input value (increments by 10)\n",
    "            for est in range(10, (in_estimators+1), 10):\n",
    "\n",
    "                # Evaluating if out input value for the max_depth variable is not None\n",
    "                if in_depth != None:\n",
    "\n",
    "                    # Evaluating the model for max_depth between 1 and the input value (increments by 1)\n",
    "                    for depth in range(1, (in_depth+1), 1):\n",
    "\n",
    "                        # Setting the model with our hyperparameters\n",
    "                        model_rfc = RandomForestClassifier(random_state=12345, n_estimators=est, max_depth=depth, min_samples_split=split, min_samples_leaf=leaf, class_weight=weight)\n",
    "\n",
    "                        # Training the model with the training sets\n",
    "                        model_rfc.fit(training_features, training_target)\n",
    "\n",
    "                        # Obtaining the predictions using test set features\n",
    "                        predictions = model_rfc.predict_proba(validation_features)\n",
    "                        \n",
    "                        predictions_one = predictions[:, 1]\n",
    "\n",
    "                        # Obtaining the accuracy of the model for each configuration (usinf both accuracy_score and score functions)\n",
    "                        for threshold in np.arange(0, 1, 0.01):\n",
    "                            \n",
    "                            predictions_valid = predictions_one > threshold\n",
    "                            \n",
    "                            f1 = f1_score(predictions_valid, validation_target) \n",
    "\n",
    "                            # In case the accuracy of the current configuration is greater than the current \"best configuration\",\n",
    "                            # save the current configuration as the \"best configuration\"\n",
    "                            if f1 > best_f1_rfc:\n",
    "                                best_f1_rfc = f1\n",
    "                                best_split_rfc = split\n",
    "                                best_leaf_rfc = leaf\n",
    "                                best_depth_rfc = depth\n",
    "                                best_est_rfc = est\n",
    "                                best_threshold_rfc = threshold\n",
    "                            \n",
    "                # In case we select None as the value for max_depth\n",
    "                else:\n",
    "\n",
    "                    # Setting the model with our hyperparameters\n",
    "                    model_rfc = RandomForestClassifier(random_state=12345, n_estimators=est, max_depth=None, min_samples_split=split, min_samples_leaf=leaf, class_weight=weight)\n",
    "\n",
    "                    # Training the model with the training sets\n",
    "                    model_rfc.fit(training_features, training_target)\n",
    "\n",
    "                    # Obtaining the predictions using test set features\n",
    "                    predictions = model_rfc.predict_proba(validation_features)\n",
    "                        \n",
    "                    predictions_one = predictions[:, 1]\n",
    "\n",
    "                    # Obtaining the accuracy of the model for each configuration (usinf both accuracy_score and score functions)\n",
    "                    for threshold in np.arange(0, 1, 0.01):\n",
    "                            \n",
    "                        predictions_valid = predictions_one > threshold\n",
    "                            \n",
    "                        f1 = f1_score(predictions_valid, validation_target) \n",
    "\n",
    "                        # In case the accuracy of the current configuration is greater than the current \"best configuration\",\n",
    "                        # save the current configuration as the \"best configuration\"\n",
    "                        if f1 > best_f1_rfc:\n",
    "                            best_f1_rfc = f1\n",
    "                            best_split_rfc = split\n",
    "                            best_leaf_rfc = leaf\n",
    "                            best_depth_rfc = depth\n",
    "                            best_est_rfc = est\n",
    "                            best_threshold_rfc = threshold\n",
    "                \n",
    "    # Once finished the iterations, print the best configuration hyperparameters with its accuracy scores\n",
    "    print(f\"\"\"The best configuration with a result of '{best_f1_rfc}' is: \n",
    "              split ({best_split_rfc}), leaf ({best_leaf_rfc}), depth ({best_depth_rfc}), estimators ({best_est_rfc}), threshold ({best_threshold_rfc}).'\"\"\")\n",
    "    \n",
    "    # Returning values of the best hyperparameters configuration in case we want to use them in the future\n",
    "    return best_split_rfc, best_leaf_rfc, best_depth_rfc, best_est_rfc, best_f1_rfc, best_threshold_rfc"
   ]
  },
  {
   "cell_type": "markdown",
   "metadata": {},
   "source": [
    "Once we decided the range on which we want the function to iterate over we can get best configuration in the range of values we give to the function (as in code block below)."
   ]
  },
  {
   "cell_type": "code",
   "execution_count": 113,
   "metadata": {},
   "outputs": [
    {
     "name": "stdout",
     "output_type": "stream",
     "text": [
      "The best configuration with a result of '0.885987815491732' is: \n",
      "              split (2), leaf (1), depth (11), estimators (80), threshold (0.46).'\n"
     ]
    }
   ],
   "source": [
    "split, leaf, depth, est, f1, threshold = rfc_Chooser(x_feat_over_nom, x_target_over, y_feat_over_nom, y_target_over, in_estimators=100, in_split=5, in_leaf=5, in_depth=11)"
   ]
  },
  {
   "cell_type": "markdown",
   "metadata": {},
   "source": [
    "### Using the validation sets"
   ]
  },
  {
   "cell_type": "markdown",
   "metadata": {},
   "source": [
    "Saving the values obtained on the previous funtion to not have to run that codeblock each time we need to see the results."
   ]
  },
  {
   "cell_type": "code",
   "execution_count": 104,
   "metadata": {},
   "outputs": [],
   "source": [
    "n_split = 2\n",
    "n_leaf = 1\n",
    "n_depth = 11\n",
    "n_est = 80\n",
    "n_threshold = 0.46"
   ]
  },
  {
   "cell_type": "markdown",
   "metadata": {},
   "source": [
    "Training the final model with the configuration we previously got we can see the following:\n",
    "\n",
    "* The F1 score has improved from 0.8855051244509516 to 0.885987815491732 (not that much).\n",
    "* The model can predict 86% of true negatives as negatives and 90% of true positives as positives.\n",
    "* The model precision score is 0.9204339963833634.\n",
    "* The model recall score is 0.8540268456375839."
   ]
  },
  {
   "cell_type": "code",
   "execution_count": 169,
   "metadata": {
    "scrolled": false
   },
   "outputs": [
    {
     "name": "stdout",
     "output_type": "stream",
     "text": [
      "The precision value is: 0.9204339963833634.\n",
      "The recall value is: 0.8540268456375839.\n",
      "The F1 value is: 0.885987815491732.\n"
     ]
    },
    {
     "data": {
      "image/png": "[encoded data removed]",
      "text/plain": [
       "<Figure size 640x480 with 2 Axes>"
      ]
     },
     "metadata": {},
     "output_type": "display_data"
    }
   ],
   "source": [
    "model_tree = RandomForestClassifier(random_state=12345, n_estimators=n_est, max_depth=n_depth, min_samples_split=n_split, min_samples_leaf=n_leaf, class_weight='balanced')\n",
    "model_tree.fit(x_feat_over_nom, x_target_over)\n",
    "\n",
    "pred_tree = model_tree.predict_proba(y_feat_over_nom)\n",
    "pred_ones = pred_tree[:, 1]\n",
    "pred_valid = pred_ones > n_threshold\n",
    "\n",
    "print(f\"The precision value is: {precision_score(pred_valid, y_target_over)}.\")\n",
    "print(f\"The recall value is: {recall_score(pred_valid, y_target_over)}.\")\n",
    "print(f\"The F1 value is: {f1_score(pred_valid, y_target_over)}.\")\n",
    "\n",
    "plot_confusion_matrix(model_tree, X=y_feat_over_nom, y_true=y_target_over, normalize='true', cmap='Blues')\n",
    "plt.show()"
   ]
  },
  {
   "cell_type": "markdown",
   "metadata": {},
   "source": [
    "The new precision-recall curve is similar to the precision-recall curve in section 4.5.1. This has logic, because if our new F1 score does not differ much from the previous F1 score the plot of the precision-recall curve shall be similar."
   ]
  },
  {
   "cell_type": "code",
   "execution_count": 124,
   "metadata": {
    "scrolled": false
   },
   "outputs": [
    {
     "name": "stdout",
     "output_type": "stream",
     "text": [
      "The AUC-ROC is: 0.9465017005287664.\n"
     ]
    },
    {
     "data": {
      "image/png": "[encoded data removed]",
      "text/plain": [
       "<Figure size 600x600 with 1 Axes>"
      ]
     },
     "metadata": {},
     "output_type": "display_data"
    }
   ],
   "source": [
    "precision_final, recall_final, threshold_final = precision_recall_curve(y_target_over, pred_ones)\n",
    "pre_final = precision_score(pred_valid, y_target_over)\n",
    "rec_final = recall_score(pred_valid, y_target_over)\n",
    "\n",
    "plt.figure(figsize=(6, 6))\n",
    "plt.step(recall_final, precision_final, where='post')\n",
    "plt.plot([rec_final, rec_final], [0, 1.05])\n",
    "plt.plot([0, 1], [pre_final, pre_final])\n",
    "plt.xlabel('Recall')\n",
    "plt.ylabel('Precision')\n",
    "plt.ylim([0.0, 1.05])\n",
    "plt.xlim([0.0, 1.0])\n",
    "plt.title('Precision-Recall Curve')\n",
    "plt.show()"
   ]
  },
  {
   "cell_type": "markdown",
   "metadata": {},
   "source": [
    "We can see a difference in the the new ROC plot, not by its form but for the intersection of the tpr and fpr lines on the curve. This intersection is now much higher on the plot (which means a higher number of true positive values). Does this mean our model will behave different?"
   ]
  },
  {
   "cell_type": "code",
   "execution_count": 120,
   "metadata": {
    "scrolled": false
   },
   "outputs": [
    {
     "name": "stdout",
     "output_type": "stream",
     "text": [
      "The AUC-ROC is: 0.9465017005287664.\n"
     ]
    },
    {
     "data": {
      "image/png": "[encoded data removed]",
      "text/plain": [
       "<Figure size 640x480 with 1 Axes>"
      ]
     },
     "metadata": {},
     "output_type": "display_data"
    }
   ],
   "source": [
    "fpr, tpr, thresholds = roc_curve(y_target_over, pred_ones)\n",
    "print(f\"The AUC-ROC is: {roc_auc_score(y_target_over, pred_ones)}.\")\n",
    "\n",
    "plt.figure()\n",
    "\n",
    "# Plotting the points for fpr and tpr\n",
    "plt.plot(fpr, tpr)\n",
    "\n",
    "# Reference ROC curve for 0.5 AUC-ROC and lines of the intersection\n",
    "plt.plot([0, 1], [0, 1], linestyle='--')\n",
    "plt.plot([0, 1.0], [0.9, 0.9])\n",
    "plt.plot([0.14, 0.14], [0, 1.0])\n",
    "\n",
    "# Set limits from 0 to 1 for x-axis and y-axis\n",
    "plt.xlim([0, 1])\n",
    "plt.ylim([0, 1])\n",
    "\n",
    "# Changing axles labels\n",
    "plt.xlabel(\"Tasa de falsos positivos\")\n",
    "plt.ylabel(\"Tasa de verdaderos positivos\")\n",
    "\n",
    "# Adding a title to the plot\n",
    "plt.title(\"Curva ROC\")\n",
    "\n",
    "plt.show()"
   ]
  },
  {
   "cell_type": "markdown",
   "metadata": {},
   "source": [
    "If we plot a new confusion matrix with the oversampled ordinal encoded features set and the predicted values with the threshold applied we obtain the model behaves this way:\n",
    "\n",
    "* The model can predict 100% of the validation set's true negatives as negatives.\n",
    "* The model can predict 96% of the validation set's true positives as positives.\n",
    "\n",
    "We do have a change in our model now. `How will the model behave with the test sets?`"
   ]
  },
  {
   "cell_type": "code",
   "execution_count": 126,
   "metadata": {},
   "outputs": [
    {
     "data": {
      "image/png": "[encoded data removed]",
      "text/plain": [
       "<Figure size 640x480 with 2 Axes>"
      ]
     },
     "metadata": {},
     "output_type": "display_data"
    }
   ],
   "source": [
    "plot_confusion_matrix(model_tree, X=y_feat_over_nom, y_true=pred_valid, normalize='true', cmap='Blues')\n",
    "plt.show()"
   ]
  },
  {
   "cell_type": "markdown",
   "metadata": {},
   "source": [
    "### Using the test sets"
   ]
  },
  {
   "cell_type": "markdown",
   "metadata": {},
   "source": [
    "Applying the same processing as in section 5.1 to the test sets we obtain the following information:\n",
    "\n",
    "* The F1 score has decreased from 0.885987815491732 to 0.0.8750747160789002 (0.01 point).\n",
    "* The model can predict 85% of true negatives as negatives and 90% of true positives as positives (a little decrease).\n",
    "* The model precision score increased from 0.9204339963833634 to 0.9230769230769231 (0.003 points).\n",
    "* The model recall score decreased from 0.8540268456375839 to 0.8318181818181818 (0.02 points)."
   ]
  },
  {
   "cell_type": "code",
   "execution_count": 170,
   "metadata": {},
   "outputs": [
    {
     "name": "stdout",
     "output_type": "stream",
     "text": [
      "The precision value is: 0.9230769230769231.\n",
      "The recall value is: 0.8318181818181818.\n",
      "F1 value is: 0.8750747160789002.\n"
     ]
    },
    {
     "data": {
      "image/png": "[encoded data removed]",
      "text/plain": [
       "<Figure size 640x480 with 2 Axes>"
      ]
     },
     "metadata": {},
     "output_type": "display_data"
    }
   ],
   "source": [
    "pred_test = model_tree.predict_proba(z_feat_over_nom)\n",
    "test_ones = pred_test[:, 1]\n",
    "test_valid = test_ones > n_threshold\n",
    "\n",
    "print(f\"The precision value is: {precision_score(test_valid, z_target_over)}.\")\n",
    "print(f\"The recall value is: {recall_score(test_valid, z_target_over)}.\")\n",
    "print(f\"F1 value is: {f1_score(test_valid, z_target_over)}.\")\n",
    "\n",
    "plot_confusion_matrix(model_tree, X=z_feat_over_nom, y_true=z_target_over, normalize='true', cmap='Blues')\n",
    "plt.show()"
   ]
  },
  {
   "cell_type": "markdown",
   "metadata": {},
   "source": [
    "Similar as in section 5.1, the precision-recall curve does not changed drastically by the same reasons. But is interesting to remark that apparently the curve drops earlier onthis new plot."
   ]
  },
  {
   "cell_type": "code",
   "execution_count": 126,
   "metadata": {},
   "outputs": [
    {
     "name": "stdout",
     "output_type": "stream",
     "text": [
      "The AUC-ROC is: 0.9447931919558653.\n"
     ]
    },
    {
     "data": {
      "image/png": "[encoded data removed]",
      "text/plain": [
       "<Figure size 600x600 with 1 Axes>"
      ]
     },
     "metadata": {},
     "output_type": "display_data"
    }
   ],
   "source": [
    "precision_test, recall_test, threshold_test = precision_recall_curve(z_target_over, test_ones)\n",
    "pre_test = precision_score(test_valid, z_target_over)\n",
    "rec_test = recall_score(test_valid, z_target_over)\n",
    "\n",
    "plt.figure(figsize=(6, 6))\n",
    "plt.step(recall_test, precision_test, where='post')\n",
    "plt.plot([rec_test, rec_test], [0, 1.05])\n",
    "plt.plot([0, 1], [pre_test, pre_test])\n",
    "plt.xlabel('Recall')\n",
    "plt.ylabel('Precision')\n",
    "plt.ylim([0.0, 1.05])\n",
    "plt.xlim([0.0, 1.0])\n",
    "plt.title('Precision-Recall Curve')\n",
    "plt.show()"
   ]
  },
  {
   "cell_type": "markdown",
   "metadata": {},
   "source": [
    "Similar as in section 5.1, the ROC plot does not differ much from the new one for the test set, but we have a little decrease on the AUC-ROC result from 0.9465017005287664 to 0.9447931919558653 (aprox. 0.002 points)."
   ]
  },
  {
   "cell_type": "code",
   "execution_count": 118,
   "metadata": {},
   "outputs": [
    {
     "name": "stdout",
     "output_type": "stream",
     "text": [
      "The AUC-ROC is: 0.9447931919558653.\n"
     ]
    },
    {
     "data": {
      "image/png": "[encoded data removed]",
      "text/plain": [
       "<Figure size 640x480 with 1 Axes>"
      ]
     },
     "metadata": {},
     "output_type": "display_data"
    }
   ],
   "source": [
    "fpr, tpr, thresholds = roc_curve(z_target_over, test_ones)\n",
    "print(f\"The AUC-ROC is: {roc_auc_score(z_target_over, test_ones)}.\")\n",
    "\n",
    "plt.figure()\n",
    "\n",
    "# Plotting the points for fpr and tpr\n",
    "plt.plot(fpr, tpr)\n",
    "\n",
    "# Reference ROC curve for 0.5 AUC-ROC and lines of the intersection\n",
    "plt.plot([0, 1], [0, 1], linestyle='--')\n",
    "plt.plot([0, 1.0], [0.9, 0.9])\n",
    "plt.plot([0.15, 0.15], [0, 1.0])\n",
    "\n",
    "# Set limits from 0 to 1 for x-axis and y-axis\n",
    "plt.xlim([0, 1])\n",
    "plt.ylim([0, 1])\n",
    "\n",
    "# Changing axles labels\n",
    "plt.xlabel(\"Tasa de falsos positivos\")\n",
    "plt.ylabel(\"Tasa de verdaderos positivos\")\n",
    "\n",
    "# Adding a title to the plot\n",
    "plt.title(\"Curva ROC\")\n",
    "\n",
    "plt.show()"
   ]
  },
  {
   "cell_type": "markdown",
   "metadata": {},
   "source": [
    "The new confusion matrix plot is similar to the final one we obtained on section 5.1 for the validation set with a slight difference on results:\n",
    "\n",
    "* The true negatives rate stays the same.\n",
    "* The true positives rate drops from 96% to 95%."
   ]
  },
  {
   "cell_type": "code",
   "execution_count": 127,
   "metadata": {
    "scrolled": false
   },
   "outputs": [
    {
     "data": {
      "image/png": "[encoded data removed]",
      "text/plain": [
       "<Figure size 640x480 with 2 Axes>"
      ]
     },
     "metadata": {},
     "output_type": "display_data"
    }
   ],
   "source": [
    "plot_confusion_matrix(model_tree, X=z_feat_over_nom, y_true=test_valid, normalize='true', cmap='Blues')\n",
    "plt.show()"
   ]
  },
  {
   "cell_type": "markdown",
   "metadata": {},
   "source": [
    "### Conclusions"
   ]
  },
  {
   "cell_type": "markdown",
   "metadata": {},
   "source": [
    "We could improve our model drastically with the use of the function on section 5 despite the fact we could not get higher values in the test sets predictions compared to the validation sets predictions.\n",
    "\n",
    "Nevertheless, we obtained a model with a F1 score much higher than the requested value (0.65). Depending of how optimistic we can get the F1 scores we can use are: 0.885987815491732 (validation sets) and 0.8750747160789002 (test sets) so we can conclude we have achieved the goal for this project and can finish the project with the last Random Forest Classifier model we generated."
   ]
  },
  {
   "cell_type": "markdown",
   "metadata": {},
   "source": [
    "## General conclusions"
   ]
  },
  {
   "cell_type": "markdown",
   "metadata": {},
   "source": [
    "As we could work with many different methods and encode the information in two different ways we can conclude the following:\n",
    "\n",
    "* If we want to work with Tree-based models we must encode our information with an OrdinalEncode method, and if using LogisticRegression model we shall use an OHE encoding method.\n",
    "\n",
    "* We must scale all our numeric quantitative values to avoid our models taking columns with high variance in their values have more weight on the prediction.\n",
    "\n",
    "* We must balance our sets to \"help\" our models to predict correctly our interest target(s). There are many ways of doing this, but the correct method will vary depending on the required task.\n",
    "\n",
    "* Despite we may have similar F1 scores there can be a difference between models (as in section 4.5 and sections 5.1 and 5.2) so we should interpret the F1 score prudently.\n",
    "\n",
    "* Generating a confusion matrix plot along with the ROC plot can help us to interpret correctly the information we are getting."
   ]
  }
 ],
 "metadata": {
  "ExecuteTimeLog": [
   {
    "duration": 493,
    "start_time": "2024-05-30T21:25:01.299Z"
   },
   {
    "duration": 44,
    "start_time": "2024-05-30T21:25:22.376Z"
   },
   {
    "duration": 72,
    "start_time": "2024-05-30T21:25:58.941Z"
   },
   {
    "duration": 11,
    "start_time": "2024-05-30T21:30:36.433Z"
   },
   {
    "duration": 318,
    "start_time": "2024-05-31T21:39:57.846Z"
   },
   {
    "duration": 413,
    "start_time": "2024-05-31T21:40:04.894Z"
   },
   {
    "duration": 37,
    "start_time": "2024-05-31T21:40:05.312Z"
   },
   {
    "duration": 67,
    "start_time": "2024-05-31T21:40:05.351Z"
   },
   {
    "duration": 19,
    "start_time": "2024-05-31T21:40:05.421Z"
   },
   {
    "duration": 57,
    "start_time": "2024-05-31T21:40:05.443Z"
   },
   {
    "duration": 18,
    "start_time": "2024-05-31T21:40:10.524Z"
   },
   {
    "duration": 7,
    "start_time": "2024-05-31T21:41:46.096Z"
   },
   {
    "duration": 31,
    "start_time": "2024-05-31T21:50:59.881Z"
   },
   {
    "duration": 8,
    "start_time": "2024-05-31T21:51:11.602Z"
   },
   {
    "duration": 8,
    "start_time": "2024-05-31T21:51:38.480Z"
   },
   {
    "duration": 29,
    "start_time": "2024-05-31T21:51:47.342Z"
   },
   {
    "duration": 67,
    "start_time": "2024-05-31T21:54:05.191Z"
   },
   {
    "duration": 3,
    "start_time": "2024-05-31T22:00:44.160Z"
   },
   {
    "duration": 5,
    "start_time": "2024-05-31T22:00:52.617Z"
   },
   {
    "duration": 22,
    "start_time": "2024-05-31T22:05:29.641Z"
   },
   {
    "duration": 5,
    "start_time": "2024-05-31T22:05:31.677Z"
   },
   {
    "duration": 4,
    "start_time": "2024-05-31T22:05:33.692Z"
   },
   {
    "duration": 6,
    "start_time": "2024-05-31T22:05:35.466Z"
   },
   {
    "duration": 868,
    "start_time": "2024-05-31T22:09:41.695Z"
   },
   {
    "duration": 76,
    "start_time": "2024-05-31T22:09:56.592Z"
   },
   {
    "duration": 10,
    "start_time": "2024-05-31T22:10:02.610Z"
   },
   {
    "duration": 8,
    "start_time": "2024-05-31T22:10:27.042Z"
   },
   {
    "duration": 9,
    "start_time": "2024-05-31T22:10:39.624Z"
   },
   {
    "duration": 5,
    "start_time": "2024-05-31T22:10:43.483Z"
   },
   {
    "duration": 3,
    "start_time": "2024-05-31T22:13:12.359Z"
   },
   {
    "duration": 6,
    "start_time": "2024-05-31T22:14:00.296Z"
   },
   {
    "duration": 5,
    "start_time": "2024-05-31T22:14:14.981Z"
   },
   {
    "duration": 14,
    "start_time": "2024-05-31T22:14:25.439Z"
   },
   {
    "duration": 16,
    "start_time": "2024-05-31T22:14:53.996Z"
   },
   {
    "duration": 360,
    "start_time": "2024-05-31T22:33:09.679Z"
   },
   {
    "duration": 6,
    "start_time": "2024-05-31T22:33:50.227Z"
   },
   {
    "duration": 31,
    "start_time": "2024-05-31T22:33:56.883Z"
   },
   {
    "duration": 9,
    "start_time": "2024-05-31T22:34:11.018Z"
   },
   {
    "duration": 22,
    "start_time": "2024-06-01T00:04:47.485Z"
   },
   {
    "duration": 799,
    "start_time": "2024-06-01T00:05:44.686Z"
   },
   {
    "duration": 4,
    "start_time": "2024-06-01T00:06:47.862Z"
   },
   {
    "duration": 9,
    "start_time": "2024-06-01T00:08:36.216Z"
   },
   {
    "duration": 11,
    "start_time": "2024-06-01T00:10:38.585Z"
   },
   {
    "duration": 114,
    "start_time": "2024-06-01T00:10:47.981Z"
   },
   {
    "duration": 4,
    "start_time": "2024-06-01T00:25:55.104Z"
   },
   {
    "duration": 47,
    "start_time": "2024-06-01T00:27:07.006Z"
   },
   {
    "duration": 34,
    "start_time": "2024-06-01T00:27:18.646Z"
   },
   {
    "duration": 4,
    "start_time": "2024-06-01T00:28:22.221Z"
   },
   {
    "duration": 10,
    "start_time": "2024-06-01T00:28:24.024Z"
   },
   {
    "duration": 1243,
    "start_time": "2024-06-01T00:28:26.256Z"
   },
   {
    "duration": 971,
    "start_time": "2024-06-01T00:28:45.749Z"
   },
   {
    "duration": 5,
    "start_time": "2024-06-01T00:31:00.610Z"
   },
   {
    "duration": 5,
    "start_time": "2024-06-01T00:31:16.769Z"
   },
   {
    "duration": 4424,
    "start_time": "2024-06-01T00:33:27.478Z"
   },
   {
    "duration": 5,
    "start_time": "2024-06-01T00:34:17.523Z"
   },
   {
    "duration": 11,
    "start_time": "2024-06-01T00:34:18.492Z"
   },
   {
    "duration": 1224,
    "start_time": "2024-06-01T00:34:19.498Z"
   },
   {
    "duration": 261,
    "start_time": "2024-06-01T00:34:26.307Z"
   },
   {
    "duration": 5,
    "start_time": "2024-06-01T00:34:43.421Z"
   },
   {
    "duration": 10,
    "start_time": "2024-06-01T00:34:44.697Z"
   },
   {
    "duration": 972,
    "start_time": "2024-06-01T00:34:45.701Z"
   },
   {
    "duration": 268,
    "start_time": "2024-06-01T00:34:49.395Z"
   },
   {
    "duration": 46,
    "start_time": "2024-06-01T00:52:46.279Z"
   },
   {
    "duration": 34,
    "start_time": "2024-06-01T00:52:47.444Z"
   },
   {
    "duration": 5,
    "start_time": "2024-06-01T00:52:48.957Z"
   },
   {
    "duration": 10,
    "start_time": "2024-06-01T00:52:49.779Z"
   },
   {
    "duration": 994,
    "start_time": "2024-06-01T00:52:50.575Z"
   },
   {
    "duration": 268,
    "start_time": "2024-06-01T00:52:54.137Z"
   },
   {
    "duration": 97,
    "start_time": "2024-06-01T00:58:26.573Z"
   },
   {
    "duration": 12,
    "start_time": "2024-06-01T00:58:31.089Z"
   },
   {
    "duration": 15,
    "start_time": "2024-06-01T00:58:41.206Z"
   },
   {
    "duration": 11,
    "start_time": "2024-06-01T00:59:04.586Z"
   },
   {
    "duration": 15,
    "start_time": "2024-06-01T00:59:05.505Z"
   },
   {
    "duration": 10,
    "start_time": "2024-06-01T01:00:09.383Z"
   },
   {
    "duration": 11,
    "start_time": "2024-06-01T01:02:13.985Z"
   },
   {
    "duration": 24,
    "start_time": "2024-06-01T01:02:25.266Z"
   },
   {
    "duration": 11,
    "start_time": "2024-06-01T01:02:54.162Z"
   },
   {
    "duration": 22,
    "start_time": "2024-06-01T01:02:55.069Z"
   },
   {
    "duration": 89,
    "start_time": "2024-06-01T01:03:41.763Z"
   },
   {
    "duration": 11,
    "start_time": "2024-06-01T01:03:59.493Z"
   },
   {
    "duration": 8,
    "start_time": "2024-06-01T01:04:43.152Z"
   },
   {
    "duration": 7,
    "start_time": "2024-06-01T01:04:54.311Z"
   },
   {
    "duration": 11,
    "start_time": "2024-06-01T01:06:58.363Z"
   },
   {
    "duration": 153,
    "start_time": "2024-06-01T01:07:37.389Z"
   },
   {
    "duration": 401,
    "start_time": "2024-06-01T01:08:04.294Z"
   },
   {
    "duration": 327,
    "start_time": "2024-06-01T01:08:39.990Z"
   },
   {
    "duration": 48,
    "start_time": "2024-06-01T01:11:05.255Z"
   },
   {
    "duration": 381,
    "start_time": "2024-06-01T01:11:06.441Z"
   },
   {
    "duration": 323,
    "start_time": "2024-06-01T01:11:37.181Z"
   },
   {
    "duration": 2127,
    "start_time": "2024-06-01T01:11:56.130Z"
   },
   {
    "duration": 357,
    "start_time": "2024-06-01T01:12:00.918Z"
   },
   {
    "duration": 226,
    "start_time": "2024-06-01T01:12:35.407Z"
   },
   {
    "duration": 363,
    "start_time": "2024-06-01T01:12:37.573Z"
   },
   {
    "duration": 193,
    "start_time": "2024-06-01T01:12:57.695Z"
   },
   {
    "duration": 377,
    "start_time": "2024-06-01T01:13:02.246Z"
   },
   {
    "duration": 162,
    "start_time": "2024-06-01T01:13:08.372Z"
   },
   {
    "duration": 320,
    "start_time": "2024-06-01T01:13:09.489Z"
   },
   {
    "duration": 49,
    "start_time": "2024-06-01T01:18:32.798Z"
   },
   {
    "duration": 5,
    "start_time": "2024-06-01T01:18:33.826Z"
   },
   {
    "duration": 11,
    "start_time": "2024-06-01T01:18:34.623Z"
   },
   {
    "duration": 24,
    "start_time": "2024-06-01T01:18:35.474Z"
   },
   {
    "duration": 11,
    "start_time": "2024-06-01T01:18:45.092Z"
   },
   {
    "duration": 964,
    "start_time": "2024-06-01T01:18:45.953Z"
   },
   {
    "duration": 272,
    "start_time": "2024-06-01T01:18:49.073Z"
   },
   {
    "duration": 7,
    "start_time": "2024-06-01T01:21:33.408Z"
   },
   {
    "duration": 29,
    "start_time": "2024-06-01T01:23:36.949Z"
   },
   {
    "duration": 27,
    "start_time": "2024-06-01T01:23:43.730Z"
   },
   {
    "duration": 32,
    "start_time": "2024-06-01T01:24:13.548Z"
   },
   {
    "duration": 28,
    "start_time": "2024-06-01T01:24:28.019Z"
   },
   {
    "duration": 6,
    "start_time": "2024-06-01T01:26:42.594Z"
   },
   {
    "duration": 6,
    "start_time": "2024-06-01T01:29:15.193Z"
   },
   {
    "duration": 7,
    "start_time": "2024-06-01T01:29:21.407Z"
   },
   {
    "duration": 5,
    "start_time": "2024-06-01T01:30:07.822Z"
   },
   {
    "duration": 12,
    "start_time": "2024-06-01T01:30:55.162Z"
   },
   {
    "duration": 8,
    "start_time": "2024-06-01T01:32:41.864Z"
   },
   {
    "duration": 7,
    "start_time": "2024-06-01T01:32:50.032Z"
   },
   {
    "duration": 12,
    "start_time": "2024-06-01T01:33:46.386Z"
   },
   {
    "duration": 6,
    "start_time": "2024-06-01T01:36:26.687Z"
   },
   {
    "duration": 32,
    "start_time": "2024-06-01T01:36:26.698Z"
   },
   {
    "duration": 86,
    "start_time": "2024-06-01T01:36:26.734Z"
   },
   {
    "duration": 7,
    "start_time": "2024-06-01T01:36:26.838Z"
   },
   {
    "duration": 11,
    "start_time": "2024-06-01T01:36:26.854Z"
   },
   {
    "duration": 9,
    "start_time": "2024-06-01T01:36:26.868Z"
   },
   {
    "duration": 50,
    "start_time": "2024-06-01T01:36:26.883Z"
   },
   {
    "duration": 10,
    "start_time": "2024-06-01T01:36:26.938Z"
   },
   {
    "duration": 9,
    "start_time": "2024-06-01T01:36:26.952Z"
   },
   {
    "duration": 6,
    "start_time": "2024-06-01T01:36:26.967Z"
   },
   {
    "duration": 16,
    "start_time": "2024-06-01T01:36:26.975Z"
   },
   {
    "duration": 16,
    "start_time": "2024-06-01T01:36:27.033Z"
   },
   {
    "duration": 7,
    "start_time": "2024-06-01T01:36:27.052Z"
   },
   {
    "duration": 77,
    "start_time": "2024-06-01T01:36:27.062Z"
   },
   {
    "duration": 16,
    "start_time": "2024-06-01T01:36:27.142Z"
   },
   {
    "duration": 18,
    "start_time": "2024-06-01T01:36:27.162Z"
   },
   {
    "duration": 19,
    "start_time": "2024-06-01T01:36:27.184Z"
   },
   {
    "duration": 41,
    "start_time": "2024-06-01T01:36:27.206Z"
   },
   {
    "duration": 1056,
    "start_time": "2024-06-01T01:36:27.250Z"
   },
   {
    "duration": 325,
    "start_time": "2024-06-01T01:36:28.310Z"
   },
   {
    "duration": 14,
    "start_time": "2024-06-01T01:36:28.637Z"
   },
   {
    "duration": 17,
    "start_time": "2024-06-01T01:36:28.654Z"
   },
   {
    "duration": 13,
    "start_time": "2024-06-01T01:36:28.674Z"
   },
   {
    "duration": 53,
    "start_time": "2024-06-01T01:36:28.690Z"
   },
   {
    "duration": 490,
    "start_time": "2024-06-01T01:36:28.747Z"
   },
   {
    "duration": 401,
    "start_time": "2024-06-01T01:36:29.240Z"
   },
   {
    "duration": 1183,
    "start_time": "2024-06-01T01:37:14.810Z"
   },
   {
    "duration": 24,
    "start_time": "2024-06-01T01:37:15.997Z"
   },
   {
    "duration": 73,
    "start_time": "2024-06-01T01:37:16.032Z"
   },
   {
    "duration": 4,
    "start_time": "2024-06-01T01:37:16.108Z"
   },
   {
    "duration": 4,
    "start_time": "2024-06-01T01:37:16.135Z"
   },
   {
    "duration": 9,
    "start_time": "2024-06-01T01:37:16.142Z"
   },
   {
    "duration": 6,
    "start_time": "2024-06-01T01:37:16.154Z"
   },
   {
    "duration": 9,
    "start_time": "2024-06-01T01:37:16.163Z"
   },
   {
    "duration": 6,
    "start_time": "2024-06-01T01:37:16.175Z"
   },
   {
    "duration": 6,
    "start_time": "2024-06-01T01:37:16.234Z"
   },
   {
    "duration": 17,
    "start_time": "2024-06-01T01:37:16.244Z"
   },
   {
    "duration": 17,
    "start_time": "2024-06-01T01:37:16.263Z"
   },
   {
    "duration": 6,
    "start_time": "2024-06-01T01:37:16.283Z"
   },
   {
    "duration": 46,
    "start_time": "2024-06-01T01:37:16.335Z"
   },
   {
    "duration": 6,
    "start_time": "2024-06-01T01:37:16.384Z"
   },
   {
    "duration": 42,
    "start_time": "2024-06-01T01:37:16.392Z"
   },
   {
    "duration": 10,
    "start_time": "2024-06-01T01:37:16.437Z"
   },
   {
    "duration": 18,
    "start_time": "2024-06-01T01:37:16.450Z"
   },
   {
    "duration": 1007,
    "start_time": "2024-06-01T01:37:16.472Z"
   },
   {
    "duration": 596,
    "start_time": "2024-06-01T01:37:17.482Z"
   },
   {
    "duration": 14,
    "start_time": "2024-06-01T01:37:18.081Z"
   },
   {
    "duration": 37,
    "start_time": "2024-06-01T01:37:18.098Z"
   },
   {
    "duration": 12,
    "start_time": "2024-06-01T01:37:18.137Z"
   },
   {
    "duration": 12,
    "start_time": "2024-06-01T01:37:18.152Z"
   },
   {
    "duration": 180,
    "start_time": "2024-06-01T01:37:18.167Z"
   },
   {
    "duration": 396,
    "start_time": "2024-06-01T01:37:18.349Z"
   },
   {
    "duration": 1188,
    "start_time": "2024-06-01T01:38:34.646Z"
   },
   {
    "duration": 27,
    "start_time": "2024-06-01T01:38:35.837Z"
   },
   {
    "duration": 81,
    "start_time": "2024-06-01T01:38:35.867Z"
   },
   {
    "duration": 4,
    "start_time": "2024-06-01T01:38:35.952Z"
   },
   {
    "duration": 3,
    "start_time": "2024-06-01T01:38:35.960Z"
   },
   {
    "duration": 10,
    "start_time": "2024-06-01T01:38:35.966Z"
   },
   {
    "duration": 9,
    "start_time": "2024-06-01T01:38:35.978Z"
   },
   {
    "duration": 49,
    "start_time": "2024-06-01T01:38:35.990Z"
   },
   {
    "duration": 6,
    "start_time": "2024-06-01T01:38:36.041Z"
   },
   {
    "duration": 7,
    "start_time": "2024-06-01T01:38:36.054Z"
   },
   {
    "duration": 15,
    "start_time": "2024-06-01T01:38:36.064Z"
   },
   {
    "duration": 67,
    "start_time": "2024-06-01T01:38:36.082Z"
   },
   {
    "duration": 7,
    "start_time": "2024-06-01T01:38:36.152Z"
   },
   {
    "duration": 70,
    "start_time": "2024-06-01T01:38:36.162Z"
   },
   {
    "duration": 6,
    "start_time": "2024-06-01T01:38:36.235Z"
   },
   {
    "duration": 13,
    "start_time": "2024-06-01T01:38:36.244Z"
   },
   {
    "duration": 10,
    "start_time": "2024-06-01T01:38:36.259Z"
   },
   {
    "duration": 19,
    "start_time": "2024-06-01T01:38:36.272Z"
   },
   {
    "duration": 989,
    "start_time": "2024-06-01T01:38:36.334Z"
   },
   {
    "duration": 568,
    "start_time": "2024-06-01T01:38:37.326Z"
   },
   {
    "duration": 15,
    "start_time": "2024-06-01T01:38:37.898Z"
   },
   {
    "duration": 33,
    "start_time": "2024-06-01T01:38:37.915Z"
   },
   {
    "duration": 11,
    "start_time": "2024-06-01T01:38:37.951Z"
   },
   {
    "duration": 11,
    "start_time": "2024-06-01T01:38:37.965Z"
   },
   {
    "duration": 265,
    "start_time": "2024-06-01T01:38:37.979Z"
   },
   {
    "duration": 381,
    "start_time": "2024-06-01T01:38:38.246Z"
   },
   {
    "duration": 1179,
    "start_time": "2024-06-01T01:39:05.151Z"
   },
   {
    "duration": 24,
    "start_time": "2024-06-01T01:39:06.333Z"
   },
   {
    "duration": 83,
    "start_time": "2024-06-01T01:39:06.360Z"
   },
   {
    "duration": 4,
    "start_time": "2024-06-01T01:39:06.447Z"
   },
   {
    "duration": 4,
    "start_time": "2024-06-01T01:39:06.454Z"
   },
   {
    "duration": 10,
    "start_time": "2024-06-01T01:39:06.461Z"
   },
   {
    "duration": 7,
    "start_time": "2024-06-01T01:39:06.474Z"
   },
   {
    "duration": 53,
    "start_time": "2024-06-01T01:39:06.484Z"
   },
   {
    "duration": 6,
    "start_time": "2024-06-01T01:39:06.540Z"
   },
   {
    "duration": 7,
    "start_time": "2024-06-01T01:39:06.551Z"
   },
   {
    "duration": 16,
    "start_time": "2024-06-01T01:39:06.561Z"
   },
   {
    "duration": 56,
    "start_time": "2024-06-01T01:39:06.580Z"
   },
   {
    "duration": 7,
    "start_time": "2024-06-01T01:39:06.639Z"
   },
   {
    "duration": 47,
    "start_time": "2024-06-01T01:39:06.648Z"
   },
   {
    "duration": 40,
    "start_time": "2024-06-01T01:39:06.697Z"
   },
   {
    "duration": 14,
    "start_time": "2024-06-01T01:39:06.740Z"
   },
   {
    "duration": 13,
    "start_time": "2024-06-01T01:39:06.759Z"
   },
   {
    "duration": 23,
    "start_time": "2024-06-01T01:39:06.776Z"
   },
   {
    "duration": 982,
    "start_time": "2024-06-01T01:39:06.834Z"
   },
   {
    "duration": 585,
    "start_time": "2024-06-01T01:39:07.833Z"
   },
   {
    "duration": 20,
    "start_time": "2024-06-01T01:39:08.421Z"
   },
   {
    "duration": 16,
    "start_time": "2024-06-01T01:39:08.443Z"
   },
   {
    "duration": 12,
    "start_time": "2024-06-01T01:39:08.462Z"
   },
   {
    "duration": 12,
    "start_time": "2024-06-01T01:39:08.477Z"
   },
   {
    "duration": 215,
    "start_time": "2024-06-01T01:39:08.532Z"
   },
   {
    "duration": 392,
    "start_time": "2024-06-01T01:39:08.749Z"
   },
   {
    "duration": 1191,
    "start_time": "2024-06-01T01:39:43.973Z"
   },
   {
    "duration": 24,
    "start_time": "2024-06-01T01:39:45.169Z"
   },
   {
    "duration": 86,
    "start_time": "2024-06-01T01:39:45.196Z"
   },
   {
    "duration": 4,
    "start_time": "2024-06-01T01:39:45.285Z"
   },
   {
    "duration": 4,
    "start_time": "2024-06-01T01:39:45.295Z"
   },
   {
    "duration": 34,
    "start_time": "2024-06-01T01:39:45.302Z"
   },
   {
    "duration": 8,
    "start_time": "2024-06-01T01:39:45.340Z"
   },
   {
    "duration": 10,
    "start_time": "2024-06-01T01:39:45.351Z"
   },
   {
    "duration": 8,
    "start_time": "2024-06-01T01:39:45.364Z"
   },
   {
    "duration": 8,
    "start_time": "2024-06-01T01:39:45.375Z"
   },
   {
    "duration": 18,
    "start_time": "2024-06-01T01:39:45.432Z"
   },
   {
    "duration": 16,
    "start_time": "2024-06-01T01:39:45.453Z"
   },
   {
    "duration": 6,
    "start_time": "2024-06-01T01:39:45.472Z"
   },
   {
    "duration": 47,
    "start_time": "2024-06-01T01:39:45.532Z"
   },
   {
    "duration": 6,
    "start_time": "2024-06-01T01:39:45.582Z"
   },
   {
    "duration": 12,
    "start_time": "2024-06-01T01:39:45.591Z"
   },
   {
    "duration": 35,
    "start_time": "2024-06-01T01:39:45.606Z"
   },
   {
    "duration": 18,
    "start_time": "2024-06-01T01:39:45.643Z"
   },
   {
    "duration": 992,
    "start_time": "2024-06-01T01:39:45.664Z"
   },
   {
    "duration": 585,
    "start_time": "2024-06-01T01:39:46.658Z"
   },
   {
    "duration": 13,
    "start_time": "2024-06-01T01:39:47.247Z"
   },
   {
    "duration": 16,
    "start_time": "2024-06-01T01:39:47.263Z"
   },
   {
    "duration": 12,
    "start_time": "2024-06-01T01:39:47.283Z"
   },
   {
    "duration": 44,
    "start_time": "2024-06-01T01:39:47.297Z"
   },
   {
    "duration": 196,
    "start_time": "2024-06-01T01:39:47.344Z"
   },
   {
    "duration": 378,
    "start_time": "2024-06-01T01:39:47.543Z"
   },
   {
    "duration": 13,
    "start_time": "2024-06-01T01:41:03.685Z"
   },
   {
    "duration": 10,
    "start_time": "2024-06-01T01:41:05.055Z"
   },
   {
    "duration": 33,
    "start_time": "2024-06-01T01:41:06.083Z"
   },
   {
    "duration": 27,
    "start_time": "2024-06-01T01:41:08.109Z"
   },
   {
    "duration": 357,
    "start_time": "2024-06-01T01:41:09.556Z"
   },
   {
    "duration": 1204,
    "start_time": "2024-06-02T00:59:21.282Z"
   },
   {
    "duration": 41,
    "start_time": "2024-06-02T00:59:22.490Z"
   },
   {
    "duration": 73,
    "start_time": "2024-06-02T00:59:22.535Z"
   },
   {
    "duration": 11,
    "start_time": "2024-06-02T00:59:22.612Z"
   },
   {
    "duration": 4,
    "start_time": "2024-06-02T00:59:22.626Z"
   },
   {
    "duration": 5,
    "start_time": "2024-06-02T00:59:22.633Z"
   },
   {
    "duration": 8,
    "start_time": "2024-06-02T00:59:22.640Z"
   },
   {
    "duration": 10,
    "start_time": "2024-06-02T00:59:25.913Z"
   },
   {
    "duration": 9,
    "start_time": "2024-06-02T01:00:06.964Z"
   },
   {
    "duration": 4,
    "start_time": "2024-06-02T01:21:21.763Z"
   },
   {
    "duration": 27,
    "start_time": "2024-06-02T01:21:21.772Z"
   },
   {
    "duration": 72,
    "start_time": "2024-06-02T01:21:21.802Z"
   },
   {
    "duration": 4,
    "start_time": "2024-06-02T01:21:21.881Z"
   },
   {
    "duration": 4,
    "start_time": "2024-06-02T01:21:21.888Z"
   },
   {
    "duration": 5,
    "start_time": "2024-06-02T01:21:21.896Z"
   },
   {
    "duration": 9,
    "start_time": "2024-06-02T01:21:21.924Z"
   },
   {
    "duration": 7,
    "start_time": "2024-06-02T01:21:21.937Z"
   },
   {
    "duration": 9,
    "start_time": "2024-06-02T01:21:21.948Z"
   },
   {
    "duration": 6,
    "start_time": "2024-06-02T01:21:21.960Z"
   },
   {
    "duration": 56,
    "start_time": "2024-06-02T01:21:21.969Z"
   },
   {
    "duration": 17,
    "start_time": "2024-06-02T01:21:22.028Z"
   },
   {
    "duration": 19,
    "start_time": "2024-06-02T01:21:22.048Z"
   },
   {
    "duration": 3,
    "start_time": "2024-06-02T01:35:09.418Z"
   },
   {
    "duration": 1248,
    "start_time": "2024-06-02T22:56:31.256Z"
   },
   {
    "duration": 41,
    "start_time": "2024-06-02T22:56:32.508Z"
   },
   {
    "duration": 78,
    "start_time": "2024-06-02T22:56:32.552Z"
   },
   {
    "duration": 4,
    "start_time": "2024-06-02T22:56:32.635Z"
   },
   {
    "duration": 5,
    "start_time": "2024-06-02T22:56:32.642Z"
   },
   {
    "duration": 5,
    "start_time": "2024-06-02T22:56:32.650Z"
   },
   {
    "duration": 7,
    "start_time": "2024-06-02T22:56:32.658Z"
   },
   {
    "duration": 56,
    "start_time": "2024-06-02T22:56:32.668Z"
   },
   {
    "duration": 10,
    "start_time": "2024-06-02T22:56:32.727Z"
   },
   {
    "duration": 6,
    "start_time": "2024-06-02T22:56:32.741Z"
   },
   {
    "duration": 7,
    "start_time": "2024-06-02T22:56:32.750Z"
   },
   {
    "duration": 67,
    "start_time": "2024-06-02T22:56:32.760Z"
   },
   {
    "duration": 17,
    "start_time": "2024-06-02T22:56:32.829Z"
   },
   {
    "duration": 6,
    "start_time": "2024-06-02T23:00:21.369Z"
   },
   {
    "duration": 29,
    "start_time": "2024-06-02T23:00:27.817Z"
   },
   {
    "duration": 8,
    "start_time": "2024-06-02T23:00:48.297Z"
   },
   {
    "duration": 27,
    "start_time": "2024-06-02T23:05:25.996Z"
   },
   {
    "duration": 26,
    "start_time": "2024-06-02T23:05:30.835Z"
   },
   {
    "duration": 23,
    "start_time": "2024-06-02T23:05:37.430Z"
   },
   {
    "duration": 13,
    "start_time": "2024-06-02T23:09:17.182Z"
   },
   {
    "duration": 23,
    "start_time": "2024-06-02T23:09:28.297Z"
   },
   {
    "duration": 13,
    "start_time": "2024-06-02T23:18:27.708Z"
   },
   {
    "duration": 25,
    "start_time": "2024-06-02T23:18:33.619Z"
   },
   {
    "duration": 1534,
    "start_time": "2024-06-02T23:24:49.182Z"
   },
   {
    "duration": 16,
    "start_time": "2024-06-02T23:25:17.610Z"
   },
   {
    "duration": 17,
    "start_time": "2024-06-02T23:25:20.276Z"
   },
   {
    "duration": 18,
    "start_time": "2024-06-02T23:25:59.992Z"
   },
   {
    "duration": 17,
    "start_time": "2024-06-02T23:26:01.852Z"
   },
   {
    "duration": 20,
    "start_time": "2024-06-02T23:31:33.201Z"
   },
   {
    "duration": 27,
    "start_time": "2024-06-02T23:31:35.341Z"
   },
   {
    "duration": 12,
    "start_time": "2024-06-02T23:33:16.923Z"
   },
   {
    "duration": 29,
    "start_time": "2024-06-02T23:33:29.776Z"
   },
   {
    "duration": 27,
    "start_time": "2024-06-02T23:33:35.559Z"
   },
   {
    "duration": 29,
    "start_time": "2024-06-02T23:33:43.412Z"
   },
   {
    "duration": 174,
    "start_time": "2024-06-02T23:33:50.201Z"
   },
   {
    "duration": 11,
    "start_time": "2024-06-02T23:34:19.242Z"
   },
   {
    "duration": 26,
    "start_time": "2024-06-02T23:34:23.205Z"
   },
   {
    "duration": 27,
    "start_time": "2024-06-02T23:34:27.089Z"
   },
   {
    "duration": 66,
    "start_time": "2024-06-02T23:34:33.000Z"
   },
   {
    "duration": 13,
    "start_time": "2024-06-02T23:34:45.065Z"
   },
   {
    "duration": 25,
    "start_time": "2024-06-02T23:34:46.745Z"
   },
   {
    "duration": 26,
    "start_time": "2024-06-02T23:34:51.943Z"
   },
   {
    "duration": 11,
    "start_time": "2024-06-02T23:35:01.375Z"
   },
   {
    "duration": 34,
    "start_time": "2024-06-02T23:35:02.680Z"
   },
   {
    "duration": 12,
    "start_time": "2024-06-02T23:35:06.871Z"
   },
   {
    "duration": 26,
    "start_time": "2024-06-02T23:35:08.727Z"
   },
   {
    "duration": 10,
    "start_time": "2024-06-02T23:35:12.897Z"
   },
   {
    "duration": 32,
    "start_time": "2024-06-02T23:35:13.831Z"
   },
   {
    "duration": 12,
    "start_time": "2024-06-02T23:35:19.164Z"
   },
   {
    "duration": 32,
    "start_time": "2024-06-02T23:35:20.015Z"
   },
   {
    "duration": 29,
    "start_time": "2024-06-02T23:35:24.475Z"
   },
   {
    "duration": 27,
    "start_time": "2024-06-02T23:35:29.139Z"
   },
   {
    "duration": 11,
    "start_time": "2024-06-02T23:36:54.290Z"
   },
   {
    "duration": 35,
    "start_time": "2024-06-02T23:38:06.052Z"
   },
   {
    "duration": 32,
    "start_time": "2024-06-02T23:38:19.699Z"
   },
   {
    "duration": 34,
    "start_time": "2024-06-02T23:38:32.842Z"
   },
   {
    "duration": 26,
    "start_time": "2024-06-02T23:38:38.089Z"
   },
   {
    "duration": 1010,
    "start_time": "2024-06-02T23:40:53.674Z"
   },
   {
    "duration": 4369,
    "start_time": "2024-06-02T23:41:34.466Z"
   },
   {
    "duration": 7,
    "start_time": "2024-06-02T23:44:27.552Z"
   },
   {
    "duration": 30,
    "start_time": "2024-06-02T23:44:27.564Z"
   },
   {
    "duration": 91,
    "start_time": "2024-06-02T23:44:27.598Z"
   },
   {
    "duration": 9,
    "start_time": "2024-06-02T23:44:27.694Z"
   },
   {
    "duration": 5,
    "start_time": "2024-06-02T23:44:27.726Z"
   },
   {
    "duration": 8,
    "start_time": "2024-06-02T23:44:27.735Z"
   },
   {
    "duration": 10,
    "start_time": "2024-06-02T23:44:27.754Z"
   },
   {
    "duration": 8,
    "start_time": "2024-06-02T23:44:27.768Z"
   },
   {
    "duration": 43,
    "start_time": "2024-06-02T23:44:27.781Z"
   },
   {
    "duration": 7,
    "start_time": "2024-06-02T23:44:27.826Z"
   },
   {
    "duration": 6,
    "start_time": "2024-06-02T23:44:27.836Z"
   },
   {
    "duration": 17,
    "start_time": "2024-06-02T23:44:27.845Z"
   },
   {
    "duration": 68,
    "start_time": "2024-06-02T23:44:27.866Z"
   },
   {
    "duration": 7,
    "start_time": "2024-06-02T23:44:27.942Z"
   },
   {
    "duration": 17,
    "start_time": "2024-06-02T23:44:27.953Z"
   },
   {
    "duration": 55,
    "start_time": "2024-06-02T23:44:27.973Z"
   },
   {
    "duration": 28,
    "start_time": "2024-06-02T23:44:28.031Z"
   },
   {
    "duration": 12,
    "start_time": "2024-06-02T23:44:28.063Z"
   },
   {
    "duration": 45,
    "start_time": "2024-06-02T23:44:28.078Z"
   },
   {
    "duration": 36,
    "start_time": "2024-06-02T23:44:28.126Z"
   },
   {
    "duration": 1064,
    "start_time": "2024-06-02T23:44:28.164Z"
   },
   {
    "duration": 295,
    "start_time": "2024-06-02T23:44:29.234Z"
   },
   {
    "duration": 23,
    "start_time": "2024-06-02T23:44:55.363Z"
   },
   {
    "duration": 16,
    "start_time": "2024-06-02T23:46:47.869Z"
   },
   {
    "duration": 56,
    "start_time": "2024-06-02T23:46:49.879Z"
   },
   {
    "duration": 31,
    "start_time": "2024-06-02T23:46:56.246Z"
   },
   {
    "duration": 10,
    "start_time": "2024-06-02T23:49:25.923Z"
   },
   {
    "duration": 11,
    "start_time": "2024-06-02T23:49:27.068Z"
   },
   {
    "duration": 32,
    "start_time": "2024-06-02T23:49:28.143Z"
   },
   {
    "duration": 999,
    "start_time": "2024-06-02T23:49:30.505Z"
   },
   {
    "duration": 1002,
    "start_time": "2024-06-02T23:49:40.335Z"
   },
   {
    "duration": 289,
    "start_time": "2024-06-02T23:49:49.429Z"
   },
   {
    "duration": 12,
    "start_time": "2024-06-02T23:50:59.779Z"
   },
   {
    "duration": 23,
    "start_time": "2024-06-02T23:51:06.671Z"
   },
   {
    "duration": 24,
    "start_time": "2024-06-02T23:51:13.854Z"
   },
   {
    "duration": 31,
    "start_time": "2024-06-02T23:51:18.459Z"
   },
   {
    "duration": 10,
    "start_time": "2024-06-02T23:52:40.506Z"
   },
   {
    "duration": 33,
    "start_time": "2024-06-02T23:53:01.020Z"
   },
   {
    "duration": 23,
    "start_time": "2024-06-02T23:53:16.798Z"
   },
   {
    "duration": 88,
    "start_time": "2024-06-02T23:53:48.334Z"
   },
   {
    "duration": 1022,
    "start_time": "2024-06-02T23:54:20.493Z"
   },
   {
    "duration": 309,
    "start_time": "2024-06-02T23:54:23.495Z"
   },
   {
    "duration": 63,
    "start_time": "2024-06-02T23:54:51.883Z"
   },
   {
    "duration": 409,
    "start_time": "2024-06-02T23:54:54.068Z"
   },
   {
    "duration": 16,
    "start_time": "2024-06-02T23:56:20.533Z"
   },
   {
    "duration": 1218,
    "start_time": "2024-06-02T23:56:37.398Z"
   },
   {
    "duration": 26,
    "start_time": "2024-06-02T23:56:38.622Z"
   },
   {
    "duration": 96,
    "start_time": "2024-06-02T23:56:38.652Z"
   },
   {
    "duration": 4,
    "start_time": "2024-06-02T23:56:38.751Z"
   },
   {
    "duration": 4,
    "start_time": "2024-06-02T23:56:38.761Z"
   },
   {
    "duration": 6,
    "start_time": "2024-06-02T23:56:38.767Z"
   },
   {
    "duration": 7,
    "start_time": "2024-06-02T23:56:38.776Z"
   },
   {
    "duration": 12,
    "start_time": "2024-06-02T23:56:38.822Z"
   },
   {
    "duration": 9,
    "start_time": "2024-06-02T23:56:38.837Z"
   },
   {
    "duration": 7,
    "start_time": "2024-06-02T23:56:38.849Z"
   },
   {
    "duration": 7,
    "start_time": "2024-06-02T23:56:38.859Z"
   },
   {
    "duration": 66,
    "start_time": "2024-06-02T23:56:38.870Z"
   },
   {
    "duration": 17,
    "start_time": "2024-06-02T23:56:38.939Z"
   },
   {
    "duration": 7,
    "start_time": "2024-06-02T23:56:38.963Z"
   },
   {
    "duration": 62,
    "start_time": "2024-06-02T23:56:38.973Z"
   },
   {
    "duration": 19,
    "start_time": "2024-06-02T23:56:39.038Z"
   },
   {
    "duration": 15,
    "start_time": "2024-06-02T23:56:39.060Z"
   },
   {
    "duration": 48,
    "start_time": "2024-06-02T23:56:39.080Z"
   },
   {
    "duration": 36,
    "start_time": "2024-06-02T23:56:39.132Z"
   },
   {
    "duration": 1021,
    "start_time": "2024-06-02T23:56:39.172Z"
   },
   {
    "duration": 597,
    "start_time": "2024-06-02T23:56:40.196Z"
   },
   {
    "duration": 29,
    "start_time": "2024-06-02T23:56:40.797Z"
   },
   {
    "duration": 17,
    "start_time": "2024-06-02T23:56:40.831Z"
   },
   {
    "duration": 13,
    "start_time": "2024-06-02T23:56:40.852Z"
   },
   {
    "duration": 12,
    "start_time": "2024-06-02T23:56:40.868Z"
   },
   {
    "duration": 69,
    "start_time": "2024-06-02T23:56:40.883Z"
   },
   {
    "duration": 77,
    "start_time": "2024-06-02T23:56:40.955Z"
   },
   {
    "duration": 388,
    "start_time": "2024-06-02T23:56:41.035Z"
   },
   {
    "duration": 19,
    "start_time": "2024-06-02T23:57:05.334Z"
   },
   {
    "duration": 16,
    "start_time": "2024-06-02T23:57:24.447Z"
   },
   {
    "duration": 5,
    "start_time": "2024-06-03T01:40:30.553Z"
   },
   {
    "duration": 47,
    "start_time": "2024-06-03T01:42:15.356Z"
   },
   {
    "duration": 52,
    "start_time": "2024-06-03T01:42:50.260Z"
   },
   {
    "duration": 699,
    "start_time": "2024-06-03T01:43:42.453Z"
   },
   {
    "duration": 16,
    "start_time": "2024-06-03T01:43:57.168Z"
   },
   {
    "duration": 19,
    "start_time": "2024-06-03T01:44:17.419Z"
   },
   {
    "duration": 54,
    "start_time": "2024-06-03T01:44:30.113Z"
   },
   {
    "duration": 536,
    "start_time": "2024-06-03T01:53:39.114Z"
   },
   {
    "duration": 456,
    "start_time": "2024-06-03T01:56:52.578Z"
   },
   {
    "duration": 1381,
    "start_time": "2024-06-03T01:57:34.557Z"
   },
   {
    "duration": 21,
    "start_time": "2024-06-03T02:14:49.676Z"
   },
   {
    "duration": 7,
    "start_time": "2024-06-03T02:15:06.345Z"
   },
   {
    "duration": 10,
    "start_time": "2024-06-03T02:15:29.698Z"
   },
   {
    "duration": 7,
    "start_time": "2024-06-03T02:16:53.135Z"
   },
   {
    "duration": 6,
    "start_time": "2024-06-03T02:18:04.751Z"
   },
   {
    "duration": 9,
    "start_time": "2024-06-03T02:19:03.398Z"
   },
   {
    "duration": 7,
    "start_time": "2024-06-03T02:22:34.816Z"
   },
   {
    "duration": 6,
    "start_time": "2024-06-03T02:26:52.424Z"
   },
   {
    "duration": 48,
    "start_time": "2024-06-03T02:27:54.440Z"
   },
   {
    "duration": 11,
    "start_time": "2024-06-03T02:28:50.721Z"
   },
   {
    "duration": 6,
    "start_time": "2024-06-03T02:29:10.182Z"
   },
   {
    "duration": 51,
    "start_time": "2024-06-03T02:29:11.188Z"
   },
   {
    "duration": 6,
    "start_time": "2024-06-03T02:30:09.102Z"
   },
   {
    "duration": 7,
    "start_time": "2024-06-03T02:30:16.414Z"
   },
   {
    "duration": 18,
    "start_time": "2024-06-03T02:30:17.225Z"
   },
   {
    "duration": 6,
    "start_time": "2024-06-03T02:30:52.520Z"
   },
   {
    "duration": 7,
    "start_time": "2024-06-03T02:32:02.412Z"
   },
   {
    "duration": 6,
    "start_time": "2024-06-03T02:35:37.015Z"
   },
   {
    "duration": 50,
    "start_time": "2024-06-03T02:35:38.055Z"
   },
   {
    "duration": 7,
    "start_time": "2024-06-03T02:36:02.113Z"
   },
   {
    "duration": 15,
    "start_time": "2024-06-03T02:36:02.887Z"
   },
   {
    "duration": 6,
    "start_time": "2024-06-03T02:36:13.263Z"
   },
   {
    "duration": 5,
    "start_time": "2024-06-03T02:36:23.697Z"
   },
   {
    "duration": 7,
    "start_time": "2024-06-03T02:36:43.779Z"
   },
   {
    "duration": 26,
    "start_time": "2024-06-03T02:43:07.869Z"
   },
   {
    "duration": 42,
    "start_time": "2024-06-03T02:47:31.262Z"
   },
   {
    "duration": 437,
    "start_time": "2024-06-03T02:47:53.713Z"
   },
   {
    "duration": 33,
    "start_time": "2024-06-03T02:48:50.043Z"
   },
   {
    "duration": 85,
    "start_time": "2024-06-03T02:50:00.552Z"
   },
   {
    "duration": 36,
    "start_time": "2024-06-03T02:50:26.748Z"
   },
   {
    "duration": 40,
    "start_time": "2024-06-03T02:51:14.190Z"
   },
   {
    "duration": 36,
    "start_time": "2024-06-03T02:51:19.765Z"
   },
   {
    "duration": 19,
    "start_time": "2024-06-03T02:52:41.712Z"
   },
   {
    "duration": 33,
    "start_time": "2024-06-03T02:53:42.251Z"
   },
   {
    "duration": 22,
    "start_time": "2024-06-03T02:53:55.709Z"
   },
   {
    "duration": 24,
    "start_time": "2024-06-03T02:54:35.156Z"
   },
   {
    "duration": 31,
    "start_time": "2024-06-03T02:54:41.137Z"
   },
   {
    "duration": 18,
    "start_time": "2024-06-03T02:55:21.855Z"
   },
   {
    "duration": 14,
    "start_time": "2024-06-03T02:58:14.105Z"
   },
   {
    "duration": 45,
    "start_time": "2024-06-03T03:01:54.728Z"
   },
   {
    "duration": 16,
    "start_time": "2024-06-03T03:02:06.603Z"
   },
   {
    "duration": 18,
    "start_time": "2024-06-03T03:02:14.942Z"
   },
   {
    "duration": 21,
    "start_time": "2024-06-03T03:02:37.477Z"
   },
   {
    "duration": 25,
    "start_time": "2024-06-03T03:02:48.627Z"
   },
   {
    "duration": 26,
    "start_time": "2024-06-03T03:02:56.452Z"
   },
   {
    "duration": 26,
    "start_time": "2024-06-03T03:02:59.328Z"
   },
   {
    "duration": 19,
    "start_time": "2024-06-03T03:03:09.170Z"
   },
   {
    "duration": 1859,
    "start_time": "2024-06-03T03:06:46.483Z"
   },
   {
    "duration": 1272,
    "start_time": "2024-06-03T05:28:18.622Z"
   },
   {
    "duration": 30,
    "start_time": "2024-06-03T05:28:19.898Z"
   },
   {
    "duration": 72,
    "start_time": "2024-06-03T05:28:19.930Z"
   },
   {
    "duration": 5,
    "start_time": "2024-06-03T05:28:20.005Z"
   },
   {
    "duration": 3,
    "start_time": "2024-06-03T05:28:20.037Z"
   },
   {
    "duration": 4,
    "start_time": "2024-06-03T05:28:20.044Z"
   },
   {
    "duration": 8,
    "start_time": "2024-06-03T05:28:20.051Z"
   },
   {
    "duration": 10,
    "start_time": "2024-06-03T05:28:20.062Z"
   },
   {
    "duration": 62,
    "start_time": "2024-06-03T05:28:20.074Z"
   },
   {
    "duration": 6,
    "start_time": "2024-06-03T05:28:20.139Z"
   },
   {
    "duration": 10,
    "start_time": "2024-06-03T05:28:20.148Z"
   },
   {
    "duration": 15,
    "start_time": "2024-06-03T05:28:20.161Z"
   },
   {
    "duration": 55,
    "start_time": "2024-06-03T05:28:20.179Z"
   },
   {
    "duration": 7,
    "start_time": "2024-06-03T05:28:20.240Z"
   },
   {
    "duration": 20,
    "start_time": "2024-06-03T05:28:20.250Z"
   },
   {
    "duration": 18,
    "start_time": "2024-06-03T05:28:20.272Z"
   },
   {
    "duration": 49,
    "start_time": "2024-06-03T05:28:20.293Z"
   },
   {
    "duration": 12,
    "start_time": "2024-06-03T05:28:20.345Z"
   },
   {
    "duration": 33,
    "start_time": "2024-06-03T05:28:20.359Z"
   },
   {
    "duration": 52,
    "start_time": "2024-06-03T05:28:20.396Z"
   },
   {
    "duration": 991,
    "start_time": "2024-06-03T05:28:20.451Z"
   },
   {
    "duration": 53,
    "start_time": "2024-06-03T05:28:21.445Z"
   },
   {
    "duration": 4260,
    "start_time": "2024-06-03T05:28:21.501Z"
   },
   {
    "duration": 14,
    "start_time": "2024-06-03T05:28:25.764Z"
   },
   {
    "duration": 16,
    "start_time": "2024-06-03T05:28:25.780Z"
   },
   {
    "duration": 36,
    "start_time": "2024-06-03T05:28:25.799Z"
   },
   {
    "duration": 13,
    "start_time": "2024-06-03T05:28:25.837Z"
   },
   {
    "duration": 32,
    "start_time": "2024-06-03T05:28:25.852Z"
   },
   {
    "duration": 53,
    "start_time": "2024-06-03T05:28:25.887Z"
   },
   {
    "duration": 99,
    "start_time": "2024-06-03T05:28:25.943Z"
   },
   {
    "duration": 91,
    "start_time": "2024-06-03T05:28:26.046Z"
   },
   {
    "duration": 381,
    "start_time": "2024-06-03T05:28:26.140Z"
   },
   {
    "duration": 1311,
    "start_time": "2024-06-03T05:28:26.524Z"
   },
   {
    "duration": 526,
    "start_time": "2024-06-03T05:28:27.838Z"
   },
   {
    "duration": 7,
    "start_time": "2024-06-03T05:28:28.366Z"
   },
   {
    "duration": 7,
    "start_time": "2024-06-03T05:28:28.376Z"
   },
   {
    "duration": 5,
    "start_time": "2024-06-03T05:28:28.389Z"
   },
   {
    "duration": 49,
    "start_time": "2024-06-03T05:28:28.398Z"
   },
   {
    "duration": 5,
    "start_time": "2024-06-03T05:28:28.449Z"
   },
   {
    "duration": 8,
    "start_time": "2024-06-03T05:28:28.457Z"
   },
   {
    "duration": 63,
    "start_time": "2024-06-03T05:28:28.474Z"
   },
   {
    "duration": 12,
    "start_time": "2024-06-03T05:28:28.540Z"
   },
   {
    "duration": 42,
    "start_time": "2024-06-03T05:28:28.554Z"
   },
   {
    "duration": 47,
    "start_time": "2024-06-03T05:28:28.600Z"
   },
   {
    "duration": 1775,
    "start_time": "2024-06-03T05:28:28.651Z"
   },
   {
    "duration": 57,
    "start_time": "2024-06-03T05:28:49.874Z"
   },
   {
    "duration": 22,
    "start_time": "2024-06-03T05:29:02.777Z"
   },
   {
    "duration": 21,
    "start_time": "2024-06-03T05:29:15.840Z"
   },
   {
    "duration": 466,
    "start_time": "2024-06-03T05:32:48.067Z"
   },
   {
    "duration": 520,
    "start_time": "2024-06-03T06:11:31.575Z"
   },
   {
    "duration": 6,
    "start_time": "2024-06-03T06:11:47.179Z"
   },
   {
    "duration": 15,
    "start_time": "2024-06-03T06:11:48.337Z"
   },
   {
    "duration": 4,
    "start_time": "2024-06-03T06:11:49.363Z"
   },
   {
    "duration": 6,
    "start_time": "2024-06-03T06:11:50.418Z"
   },
   {
    "duration": 16,
    "start_time": "2024-06-03T06:11:52.656Z"
   },
   {
    "duration": 10,
    "start_time": "2024-06-03T06:13:07.775Z"
   },
   {
    "duration": 32,
    "start_time": "2024-06-03T06:13:37.085Z"
   },
   {
    "duration": 19,
    "start_time": "2024-06-03T06:13:41.110Z"
   },
   {
    "duration": 25,
    "start_time": "2024-06-03T06:14:25.130Z"
   },
   {
    "duration": 824,
    "start_time": "2024-06-03T06:15:47.963Z"
   },
   {
    "duration": 42,
    "start_time": "2024-06-03T06:36:36.505Z"
   },
   {
    "duration": 16,
    "start_time": "2024-06-03T06:36:39.529Z"
   },
   {
    "duration": 377,
    "start_time": "2024-06-03T06:38:08.897Z"
   },
   {
    "duration": 1381,
    "start_time": "2024-06-03T20:04:06.226Z"
   },
   {
    "duration": 51,
    "start_time": "2024-06-03T20:04:07.611Z"
   },
   {
    "duration": 102,
    "start_time": "2024-06-03T20:04:07.665Z"
   },
   {
    "duration": 4,
    "start_time": "2024-06-03T20:04:07.771Z"
   },
   {
    "duration": 4,
    "start_time": "2024-06-03T20:04:07.781Z"
   },
   {
    "duration": 29,
    "start_time": "2024-06-03T20:04:07.795Z"
   },
   {
    "duration": 7,
    "start_time": "2024-06-03T20:04:07.828Z"
   },
   {
    "duration": 12,
    "start_time": "2024-06-03T20:04:07.838Z"
   },
   {
    "duration": 11,
    "start_time": "2024-06-03T20:04:07.854Z"
   },
   {
    "duration": 7,
    "start_time": "2024-06-03T20:04:07.870Z"
   },
   {
    "duration": 9,
    "start_time": "2024-06-03T20:04:07.925Z"
   },
   {
    "duration": 20,
    "start_time": "2024-06-03T20:04:07.938Z"
   },
   {
    "duration": 19,
    "start_time": "2024-06-03T20:04:07.962Z"
   },
   {
    "duration": 8,
    "start_time": "2024-06-03T20:04:08.030Z"
   },
   {
    "duration": 29,
    "start_time": "2024-06-03T20:04:08.041Z"
   },
   {
    "duration": 52,
    "start_time": "2024-06-03T20:04:08.073Z"
   },
   {
    "duration": 14,
    "start_time": "2024-06-03T20:04:08.136Z"
   },
   {
    "duration": 17,
    "start_time": "2024-06-03T20:04:08.154Z"
   },
   {
    "duration": 66,
    "start_time": "2024-06-03T20:04:08.174Z"
   },
   {
    "duration": 19,
    "start_time": "2024-06-03T20:04:08.244Z"
   },
   {
    "duration": 1059,
    "start_time": "2024-06-03T20:04:08.268Z"
   },
   {
    "duration": 57,
    "start_time": "2024-06-03T20:04:09.330Z"
   },
   {
    "duration": 4699,
    "start_time": "2024-06-03T20:04:09.391Z"
   },
   {
    "duration": 33,
    "start_time": "2024-06-03T20:04:14.093Z"
   },
   {
    "duration": 19,
    "start_time": "2024-06-03T20:04:14.131Z"
   },
   {
    "duration": 13,
    "start_time": "2024-06-03T20:04:14.154Z"
   },
   {
    "duration": 53,
    "start_time": "2024-06-03T20:04:14.170Z"
   },
   {
    "duration": 104,
    "start_time": "2024-06-03T20:04:14.227Z"
   },
   {
    "duration": 23,
    "start_time": "2024-06-03T20:04:14.335Z"
   },
   {
    "duration": 290,
    "start_time": "2024-06-03T20:04:14.361Z"
   },
   {
    "duration": 100,
    "start_time": "2024-06-03T20:04:14.726Z"
   },
   {
    "duration": 636,
    "start_time": "2024-06-03T20:04:14.831Z"
   },
   {
    "duration": 1779,
    "start_time": "2024-06-03T20:04:15.525Z"
   },
   {
    "duration": 678,
    "start_time": "2024-06-03T20:04:17.307Z"
   },
   {
    "duration": 11,
    "start_time": "2024-06-03T20:04:17.988Z"
   },
   {
    "duration": 24,
    "start_time": "2024-06-03T20:04:18.003Z"
   },
   {
    "duration": 8,
    "start_time": "2024-06-03T20:04:18.032Z"
   },
   {
    "duration": 21,
    "start_time": "2024-06-03T20:04:18.044Z"
   },
   {
    "duration": 7,
    "start_time": "2024-06-03T20:04:18.070Z"
   },
   {
    "duration": 48,
    "start_time": "2024-06-03T20:04:18.081Z"
   },
   {
    "duration": 29,
    "start_time": "2024-06-03T20:04:18.141Z"
   },
   {
    "duration": 56,
    "start_time": "2024-06-03T20:04:18.174Z"
   },
   {
    "duration": 60,
    "start_time": "2024-06-03T20:04:18.233Z"
   },
   {
    "duration": 37,
    "start_time": "2024-06-03T20:04:18.297Z"
   },
   {
    "duration": 2051,
    "start_time": "2024-06-03T20:04:18.338Z"
   },
   {
    "duration": 95,
    "start_time": "2024-06-03T20:04:20.396Z"
   },
   {
    "duration": 40,
    "start_time": "2024-06-03T20:04:20.495Z"
   },
   {
    "duration": 763,
    "start_time": "2024-06-03T20:04:20.539Z"
   },
   {
    "duration": 17,
    "start_time": "2024-06-03T20:04:21.306Z"
   },
   {
    "duration": 18,
    "start_time": "2024-06-03T20:04:21.327Z"
   },
   {
    "duration": 5,
    "start_time": "2024-06-03T20:04:21.348Z"
   },
   {
    "duration": 13,
    "start_time": "2024-06-03T20:04:21.357Z"
   },
   {
    "duration": 58,
    "start_time": "2024-06-03T20:04:21.374Z"
   },
   {
    "duration": 14,
    "start_time": "2024-06-03T20:04:21.436Z"
   },
   {
    "duration": 135,
    "start_time": "2024-06-03T20:04:21.454Z"
   },
   {
    "duration": 35,
    "start_time": "2024-06-03T20:04:21.595Z"
   },
   {
    "duration": 878,
    "start_time": "2024-06-03T20:04:21.634Z"
   },
   {
    "duration": 45,
    "start_time": "2024-06-03T20:04:22.522Z"
   },
   {
    "duration": 20,
    "start_time": "2024-06-03T20:04:22.572Z"
   },
   {
    "duration": 532,
    "start_time": "2024-06-03T20:04:22.595Z"
   },
   {
    "duration": 747,
    "start_time": "2024-06-03T20:08:12.789Z"
   },
   {
    "duration": 35,
    "start_time": "2024-06-03T20:08:20.816Z"
   },
   {
    "duration": 39,
    "start_time": "2024-06-03T20:09:16.458Z"
   },
   {
    "duration": 7,
    "start_time": "2024-06-03T20:09:34.005Z"
   },
   {
    "duration": 4,
    "start_time": "2024-06-03T20:11:14.768Z"
   },
   {
    "duration": 30,
    "start_time": "2024-06-03T20:13:30.668Z"
   },
   {
    "duration": 3,
    "start_time": "2024-06-03T20:14:15.888Z"
   },
   {
    "duration": 35,
    "start_time": "2024-06-03T20:14:16.814Z"
   },
   {
    "duration": 4,
    "start_time": "2024-06-03T20:15:50.753Z"
   },
   {
    "duration": 64,
    "start_time": "2024-06-03T20:16:07.981Z"
   },
   {
    "duration": 4,
    "start_time": "2024-06-03T20:16:09.170Z"
   },
   {
    "duration": 556,
    "start_time": "2024-06-03T20:19:36.456Z"
   },
   {
    "duration": 5,
    "start_time": "2024-06-03T20:19:41.351Z"
   },
   {
    "duration": 6,
    "start_time": "2024-06-03T20:28:23.533Z"
   },
   {
    "duration": 196,
    "start_time": "2024-06-03T20:28:28.996Z"
   },
   {
    "duration": 1889,
    "start_time": "2024-06-03T20:29:22.729Z"
   },
   {
    "duration": 223,
    "start_time": "2024-06-03T20:29:27.218Z"
   },
   {
    "duration": 220,
    "start_time": "2024-06-03T20:34:08.071Z"
   },
   {
    "duration": 225,
    "start_time": "2024-06-03T20:34:34.086Z"
   },
   {
    "duration": 6,
    "start_time": "2024-06-03T21:35:55.698Z"
   },
   {
    "duration": 27,
    "start_time": "2024-06-03T21:37:46.502Z"
   },
   {
    "duration": 7,
    "start_time": "2024-06-03T21:37:53.141Z"
   },
   {
    "duration": 27,
    "start_time": "2024-06-03T21:43:31.790Z"
   },
   {
    "duration": 6,
    "start_time": "2024-06-03T21:43:32.618Z"
   },
   {
    "duration": 5,
    "start_time": "2024-06-03T21:43:34.332Z"
   },
   {
    "duration": 542,
    "start_time": "2024-06-03T21:43:36.150Z"
   },
   {
    "duration": 5,
    "start_time": "2024-06-03T21:43:39.132Z"
   },
   {
    "duration": 200,
    "start_time": "2024-06-03T21:43:42.009Z"
   },
   {
    "duration": 8,
    "start_time": "2024-06-03T21:43:45.461Z"
   },
   {
    "duration": 1028,
    "start_time": "2024-06-03T21:46:00.394Z"
   },
   {
    "duration": 26,
    "start_time": "2024-06-03T21:46:11.852Z"
   },
   {
    "duration": 30,
    "start_time": "2024-06-03T21:46:41.826Z"
   },
   {
    "duration": 4,
    "start_time": "2024-06-03T21:47:13.798Z"
   },
   {
    "duration": 526,
    "start_time": "2024-06-03T21:48:13.958Z"
   },
   {
    "duration": 5,
    "start_time": "2024-06-03T21:48:51.079Z"
   },
   {
    "duration": 212,
    "start_time": "2024-06-03T21:50:35.857Z"
   },
   {
    "duration": 13,
    "start_time": "2024-06-03T21:53:09.823Z"
   },
   {
    "duration": 8,
    "start_time": "2024-06-03T21:53:19.408Z"
   },
   {
    "duration": 1594,
    "start_time": "2024-06-03T22:43:53.748Z"
   },
   {
    "duration": 2183,
    "start_time": "2024-06-03T22:44:34.030Z"
   },
   {
    "duration": 4,
    "start_time": "2024-06-03T22:45:01.998Z"
   },
   {
    "duration": 2186,
    "start_time": "2024-06-03T22:45:20.691Z"
   },
   {
    "duration": 5,
    "start_time": "2024-06-03T22:45:23.837Z"
   },
   {
    "duration": 218,
    "start_time": "2024-06-03T22:46:42.509Z"
   },
   {
    "duration": 8,
    "start_time": "2024-06-03T22:47:31.025Z"
   },
   {
    "duration": 22,
    "start_time": "2024-06-03T23:28:13.275Z"
   },
   {
    "duration": 548,
    "start_time": "2024-06-03T23:30:36.151Z"
   },
   {
    "duration": 22,
    "start_time": "2024-06-03T23:31:45.456Z"
   },
   {
    "duration": 116,
    "start_time": "2024-06-03T23:31:46.994Z"
   },
   {
    "duration": 20,
    "start_time": "2024-06-03T23:32:24.362Z"
   },
   {
    "duration": 1724544,
    "start_time": "2024-06-03T23:32:25.446Z"
   },
   {
    "duration": 23,
    "start_time": "2024-06-04T00:03:11.272Z"
   },
   {
    "duration": 1749084,
    "start_time": "2024-06-04T00:03:13.940Z"
   },
   {
    "duration": 1480,
    "start_time": "2024-06-04T02:28:59.327Z"
   },
   {
    "duration": 1505,
    "start_time": "2024-06-04T02:32:13.077Z"
   },
   {
    "duration": 1549,
    "start_time": "2024-06-04T02:33:31.800Z"
   },
   {
    "duration": 190,
    "start_time": "2024-06-04T02:35:47.722Z"
   },
   {
    "duration": 187,
    "start_time": "2024-06-04T02:36:37.843Z"
   },
   {
    "duration": 204,
    "start_time": "2024-06-04T02:37:59.214Z"
   },
   {
    "duration": 192,
    "start_time": "2024-06-04T02:38:55.961Z"
   },
   {
    "duration": 1658,
    "start_time": "2024-06-04T02:39:42.422Z"
   },
   {
    "duration": 1523,
    "start_time": "2024-06-04T02:40:00.196Z"
   },
   {
    "duration": 203,
    "start_time": "2024-06-04T02:43:33.871Z"
   },
   {
    "duration": 211,
    "start_time": "2024-06-04T02:44:04.044Z"
   },
   {
    "duration": 333,
    "start_time": "2024-06-04T02:48:27.192Z"
   },
   {
    "duration": 193,
    "start_time": "2024-06-04T02:50:28.770Z"
   },
   {
    "duration": 5,
    "start_time": "2024-06-04T02:53:42.755Z"
   },
   {
    "duration": 5,
    "start_time": "2024-06-04T02:54:13.886Z"
   },
   {
    "duration": 6,
    "start_time": "2024-06-04T02:58:52.990Z"
   },
   {
    "duration": 187,
    "start_time": "2024-06-04T02:59:41.861Z"
   },
   {
    "duration": 192,
    "start_time": "2024-06-04T03:00:25.848Z"
   },
   {
    "duration": 191,
    "start_time": "2024-06-04T03:01:30.268Z"
   },
   {
    "duration": 189,
    "start_time": "2024-06-04T03:02:11.396Z"
   },
   {
    "duration": 238,
    "start_time": "2024-06-04T03:02:38.216Z"
   },
   {
    "duration": 192,
    "start_time": "2024-06-04T03:04:20.843Z"
   },
   {
    "duration": 217,
    "start_time": "2024-06-04T03:04:37.230Z"
   },
   {
    "duration": 5731,
    "start_time": "2024-06-04T20:36:43.705Z"
   },
   {
    "duration": 40,
    "start_time": "2024-06-04T20:36:49.441Z"
   },
   {
    "duration": 85,
    "start_time": "2024-06-04T20:36:49.484Z"
   },
   {
    "duration": 4,
    "start_time": "2024-06-04T20:36:49.574Z"
   },
   {
    "duration": 4,
    "start_time": "2024-06-04T20:36:49.582Z"
   },
   {
    "duration": 5,
    "start_time": "2024-06-04T20:36:49.590Z"
   },
   {
    "duration": 8,
    "start_time": "2024-06-04T20:36:49.624Z"
   },
   {
    "duration": 9,
    "start_time": "2024-06-04T20:36:49.636Z"
   },
   {
    "duration": 12,
    "start_time": "2024-06-04T20:36:49.649Z"
   },
   {
    "duration": 65,
    "start_time": "2024-06-04T20:36:49.669Z"
   },
   {
    "duration": 7,
    "start_time": "2024-06-04T20:36:49.737Z"
   },
   {
    "duration": 17,
    "start_time": "2024-06-04T20:36:49.750Z"
   },
   {
    "duration": 17,
    "start_time": "2024-06-04T20:36:49.770Z"
   },
   {
    "duration": 11,
    "start_time": "2024-06-04T20:36:49.824Z"
   },
   {
    "duration": 21,
    "start_time": "2024-06-04T20:36:49.838Z"
   },
   {
    "duration": 21,
    "start_time": "2024-06-04T20:36:49.863Z"
   },
   {
    "duration": 15,
    "start_time": "2024-06-04T20:36:49.922Z"
   },
   {
    "duration": 14,
    "start_time": "2024-06-04T20:36:49.940Z"
   },
   {
    "duration": 70,
    "start_time": "2024-06-04T20:36:49.957Z"
   },
   {
    "duration": 20,
    "start_time": "2024-06-04T20:36:50.032Z"
   },
   {
    "duration": 1018,
    "start_time": "2024-06-04T20:36:50.056Z"
   },
   {
    "duration": 75,
    "start_time": "2024-06-04T20:36:51.078Z"
   },
   {
    "duration": 287,
    "start_time": "2024-06-04T20:36:51.157Z"
   },
   {
    "duration": 14,
    "start_time": "2024-06-04T20:36:51.447Z"
   },
   {
    "duration": 17,
    "start_time": "2024-06-04T20:36:51.466Z"
   },
   {
    "duration": 44,
    "start_time": "2024-06-04T20:36:51.486Z"
   },
   {
    "duration": 13,
    "start_time": "2024-06-04T20:36:51.533Z"
   },
   {
    "duration": 79,
    "start_time": "2024-06-04T20:36:51.559Z"
   },
   {
    "duration": 18,
    "start_time": "2024-06-04T20:36:51.642Z"
   },
   {
    "duration": 75,
    "start_time": "2024-06-04T20:36:51.663Z"
   },
   {
    "duration": 96,
    "start_time": "2024-06-04T20:36:51.740Z"
   },
   {
    "duration": 443,
    "start_time": "2024-06-04T20:36:51.842Z"
   },
   {
    "duration": 1421,
    "start_time": "2024-06-04T20:36:52.288Z"
   },
   {
    "duration": 538,
    "start_time": "2024-06-04T20:36:53.713Z"
   },
   {
    "duration": 7,
    "start_time": "2024-06-04T20:36:54.254Z"
   },
   {
    "duration": 7,
    "start_time": "2024-06-04T20:36:54.266Z"
   },
   {
    "duration": 8,
    "start_time": "2024-06-04T20:36:54.276Z"
   },
   {
    "duration": 18,
    "start_time": "2024-06-04T20:36:54.324Z"
   },
   {
    "duration": 6,
    "start_time": "2024-06-04T20:36:54.345Z"
   },
   {
    "duration": 8,
    "start_time": "2024-06-04T20:36:54.354Z"
   },
   {
    "duration": 70,
    "start_time": "2024-06-04T20:36:54.366Z"
   },
   {
    "duration": 16,
    "start_time": "2024-06-04T20:36:54.439Z"
   },
   {
    "duration": 78,
    "start_time": "2024-06-04T20:36:54.458Z"
   },
   {
    "duration": 20,
    "start_time": "2024-06-04T20:36:54.540Z"
   },
   {
    "duration": 1891,
    "start_time": "2024-06-04T20:36:54.564Z"
   },
   {
    "duration": 78,
    "start_time": "2024-06-04T20:36:56.459Z"
   },
   {
    "duration": 18,
    "start_time": "2024-06-04T20:36:56.540Z"
   },
   {
    "duration": 580,
    "start_time": "2024-06-04T20:36:56.561Z"
   },
   {
    "duration": 7,
    "start_time": "2024-06-04T20:36:57.145Z"
   },
   {
    "duration": 20,
    "start_time": "2024-06-04T20:36:57.156Z"
   },
   {
    "duration": 44,
    "start_time": "2024-06-04T20:36:57.179Z"
   },
   {
    "duration": 10,
    "start_time": "2024-06-04T20:36:57.228Z"
   },
   {
    "duration": 17,
    "start_time": "2024-06-04T20:36:57.242Z"
   },
   {
    "duration": 10,
    "start_time": "2024-06-04T20:36:57.262Z"
   },
   {
    "duration": 73,
    "start_time": "2024-06-04T20:36:57.275Z"
   },
   {
    "duration": 20,
    "start_time": "2024-06-04T20:36:57.351Z"
   },
   {
    "duration": 806,
    "start_time": "2024-06-04T20:36:57.374Z"
   },
   {
    "duration": 61,
    "start_time": "2024-06-04T20:36:58.183Z"
   },
   {
    "duration": 18,
    "start_time": "2024-06-04T20:36:58.247Z"
   },
   {
    "duration": 494,
    "start_time": "2024-06-04T20:36:58.278Z"
   },
   {
    "duration": 1070,
    "start_time": "2024-06-04T20:36:58.775Z"
   },
   {
    "duration": 3,
    "start_time": "2024-06-04T20:36:59.851Z"
   },
   {
    "duration": 576,
    "start_time": "2024-06-04T20:36:59.858Z"
   },
   {
    "duration": 5,
    "start_time": "2024-06-04T20:37:00.438Z"
   },
   {
    "duration": 258,
    "start_time": "2024-06-04T20:37:00.448Z"
   },
   {
    "duration": 223,
    "start_time": "2024-06-04T20:37:00.710Z"
   },
   {
    "duration": 9,
    "start_time": "2024-06-04T20:37:00.936Z"
   },
   {
    "duration": 82,
    "start_time": "2024-06-04T20:37:00.949Z"
   },
   {
    "duration": 13,
    "start_time": "2024-06-04T20:37:01.034Z"
   },
   {
    "duration": 12,
    "start_time": "2024-06-04T20:37:01.125Z"
   },
   {
    "duration": 608,
    "start_time": "2024-06-04T20:37:01.141Z"
   },
   {
    "duration": 10,
    "start_time": "2024-06-04T20:37:01.757Z"
   },
   {
    "duration": 223,
    "start_time": "2024-06-04T20:37:01.770Z"
   },
   {
    "duration": 216,
    "start_time": "2024-06-04T20:37:01.997Z"
   },
   {
    "duration": 11,
    "start_time": "2024-06-04T20:37:02.216Z"
   },
   {
    "duration": 2231,
    "start_time": "2024-06-04T20:37:02.230Z"
   },
   {
    "duration": 4,
    "start_time": "2024-06-04T20:37:04.465Z"
   },
   {
    "duration": 223,
    "start_time": "2024-06-04T20:37:04.473Z"
   },
   {
    "duration": 229,
    "start_time": "2024-06-04T20:37:04.699Z"
   },
   {
    "duration": 9,
    "start_time": "2024-06-04T20:37:04.932Z"
   },
   {
    "duration": 132,
    "start_time": "2024-06-04T20:37:11.651Z"
   },
   {
    "duration": 5,
    "start_time": "2024-06-04T21:23:13.019Z"
   },
   {
    "duration": 27,
    "start_time": "2024-06-04T21:23:15.325Z"
   },
   {
    "duration": 518,
    "start_time": "2024-06-04T21:54:26.001Z"
   },
   {
    "duration": 44,
    "start_time": "2024-06-04T21:54:30.238Z"
   },
   {
    "duration": 27,
    "start_time": "2024-06-04T21:54:32.670Z"
   },
   {
    "duration": 322,
    "start_time": "2024-06-04T21:54:35.001Z"
   },
   {
    "duration": 61,
    "start_time": "2024-06-04T21:54:52.898Z"
   },
   {
    "duration": 16,
    "start_time": "2024-06-04T21:54:54.381Z"
   },
   {
    "duration": 369,
    "start_time": "2024-06-04T21:54:56.128Z"
   },
   {
    "duration": 47,
    "start_time": "2024-06-04T21:55:01.544Z"
   },
   {
    "duration": 15,
    "start_time": "2024-06-04T21:55:02.499Z"
   },
   {
    "duration": 311,
    "start_time": "2024-06-04T21:55:03.482Z"
   },
   {
    "duration": 48,
    "start_time": "2024-06-04T21:56:38.099Z"
   },
   {
    "duration": 18,
    "start_time": "2024-06-04T21:56:39.015Z"
   },
   {
    "duration": 394,
    "start_time": "2024-06-04T21:56:40.513Z"
   },
   {
    "duration": 481,
    "start_time": "2024-06-04T22:25:55.566Z"
   },
   {
    "duration": 133,
    "start_time": "2024-06-04T22:28:30.017Z"
   },
   {
    "duration": 31,
    "start_time": "2024-06-04T22:28:39.641Z"
   },
   {
    "duration": 15,
    "start_time": "2024-06-04T23:27:29.788Z"
   },
   {
    "duration": 9,
    "start_time": "2024-06-04T23:41:43.560Z"
   },
   {
    "duration": 29,
    "start_time": "2024-06-05T00:34:03.153Z"
   },
   {
    "duration": 4,
    "start_time": "2024-06-05T00:34:05.671Z"
   },
   {
    "duration": 1536,
    "start_time": "2024-06-05T00:34:07.770Z"
   },
   {
    "duration": 502,
    "start_time": "2024-06-05T00:53:22.479Z"
   },
   {
    "duration": 4,
    "start_time": "2024-06-05T00:53:27.919Z"
   },
   {
    "duration": 511,
    "start_time": "2024-06-05T00:53:34.591Z"
   },
   {
    "duration": 5,
    "start_time": "2024-06-05T00:53:36.610Z"
   },
   {
    "duration": 205,
    "start_time": "2024-06-05T01:04:37.756Z"
   },
   {
    "duration": 249,
    "start_time": "2024-06-05T01:07:09.686Z"
   },
   {
    "duration": 292,
    "start_time": "2024-06-05T01:45:50.423Z"
   },
   {
    "duration": 1532,
    "start_time": "2024-06-05T01:46:44.313Z"
   },
   {
    "duration": 312,
    "start_time": "2024-06-05T01:47:01.278Z"
   },
   {
    "duration": 196,
    "start_time": "2024-06-05T01:56:21.176Z"
   },
   {
    "duration": 198,
    "start_time": "2024-06-05T01:56:32.452Z"
   },
   {
    "duration": 192,
    "start_time": "2024-06-05T01:57:04.603Z"
   },
   {
    "duration": 200,
    "start_time": "2024-06-05T01:59:16.945Z"
   },
   {
    "duration": 351,
    "start_time": "2024-06-05T02:00:37.311Z"
   },
   {
    "duration": 213,
    "start_time": "2024-06-05T02:01:25.573Z"
   },
   {
    "duration": 1505,
    "start_time": "2024-06-05T02:06:14.130Z"
   },
   {
    "duration": 321,
    "start_time": "2024-06-05T02:06:35.557Z"
   },
   {
    "duration": 145,
    "start_time": "2024-06-05T02:08:16.038Z"
   },
   {
    "duration": 105,
    "start_time": "2024-06-05T02:11:12.454Z"
   },
   {
    "duration": 304,
    "start_time": "2024-06-05T02:11:27.896Z"
   },
   {
    "duration": 419,
    "start_time": "2024-06-05T02:12:59.037Z"
   },
   {
    "duration": 271,
    "start_time": "2024-06-05T02:14:00.740Z"
   },
   {
    "duration": 292,
    "start_time": "2024-06-05T02:16:42.416Z"
   },
   {
    "duration": 190,
    "start_time": "2024-06-05T02:17:18.061Z"
   },
   {
    "duration": 214,
    "start_time": "2024-06-05T02:19:54.520Z"
   },
   {
    "duration": 1040,
    "start_time": "2024-06-05T02:21:23.643Z"
   },
   {
    "duration": 4,
    "start_time": "2024-06-05T02:21:25.577Z"
   },
   {
    "duration": 527,
    "start_time": "2024-06-05T02:21:26.611Z"
   },
   {
    "duration": 5,
    "start_time": "2024-06-05T02:21:29.288Z"
   },
   {
    "duration": 194,
    "start_time": "2024-06-05T02:21:32.991Z"
   },
   {
    "duration": 274,
    "start_time": "2024-06-05T02:21:35.328Z"
   },
   {
    "duration": 224,
    "start_time": "2024-06-05T02:21:59.524Z"
   },
   {
    "duration": 125,
    "start_time": "2024-06-05T02:23:37.963Z"
   },
   {
    "duration": 296,
    "start_time": "2024-06-05T02:24:41.094Z"
   },
   {
    "duration": 294,
    "start_time": "2024-06-05T02:26:40.131Z"
   },
   {
    "duration": 201,
    "start_time": "2024-06-05T02:32:07.357Z"
   },
   {
    "duration": 48,
    "start_time": "2024-06-05T02:34:06.282Z"
   },
   {
    "duration": 7,
    "start_time": "2024-06-05T02:34:07.474Z"
   },
   {
    "duration": 5,
    "start_time": "2024-06-05T02:34:08.332Z"
   },
   {
    "duration": 550,
    "start_time": "2024-06-05T02:34:09.209Z"
   },
   {
    "duration": 5,
    "start_time": "2024-06-05T02:34:11.838Z"
   },
   {
    "duration": 196,
    "start_time": "2024-06-05T02:34:13.603Z"
   },
   {
    "duration": 328,
    "start_time": "2024-06-05T02:34:26.786Z"
   },
   {
    "duration": 320,
    "start_time": "2024-06-05T02:34:55.990Z"
   },
   {
    "duration": 205,
    "start_time": "2024-06-05T02:35:40.256Z"
   },
   {
    "duration": 391,
    "start_time": "2024-06-05T02:36:17.955Z"
   },
   {
    "duration": 198,
    "start_time": "2024-06-05T02:36:39.225Z"
   },
   {
    "duration": 193,
    "start_time": "2024-06-05T02:36:49.002Z"
   },
   {
    "duration": 8,
    "start_time": "2024-06-05T02:39:56.925Z"
   },
   {
    "duration": 270,
    "start_time": "2024-06-05T02:40:26.897Z"
   },
   {
    "duration": 287,
    "start_time": "2024-06-05T02:40:40.022Z"
   },
   {
    "duration": 198,
    "start_time": "2024-06-05T02:41:38.981Z"
   },
   {
    "duration": 127,
    "start_time": "2024-06-05T02:42:15.120Z"
   },
   {
    "duration": 381,
    "start_time": "2024-06-05T02:43:00.053Z"
   },
   {
    "duration": 8,
    "start_time": "2024-06-05T03:19:58.613Z"
   },
   {
    "duration": 9,
    "start_time": "2024-06-05T03:20:07.009Z"
   },
   {
    "duration": 284,
    "start_time": "2024-06-05T03:45:09.773Z"
   },
   {
    "duration": 294,
    "start_time": "2024-06-05T03:45:38.146Z"
   },
   {
    "duration": 209,
    "start_time": "2024-06-05T03:46:12.232Z"
   },
   {
    "duration": 232,
    "start_time": "2024-06-05T03:57:09.657Z"
   },
   {
    "duration": 362,
    "start_time": "2024-06-05T03:58:09.587Z"
   },
   {
    "duration": 191,
    "start_time": "2024-06-05T04:45:24.854Z"
   },
   {
    "duration": 203,
    "start_time": "2024-06-05T04:45:40.219Z"
   },
   {
    "duration": 1531,
    "start_time": "2024-06-05T05:11:58.646Z"
   },
   {
    "duration": 325,
    "start_time": "2024-06-05T05:22:45.673Z"
   }
  ],
  "kernelspec": {
   "display_name": "Python 3 (ipykernel)",
   "language": "python",
   "name": "python3"
  },
  "language_info": {
   "codemirror_mode": {
    "name": "ipython",
    "version": 3
   },
   "file_extension": ".py",
   "mimetype": "text/x-python",
   "name": "python",
   "nbconvert_exporter": "python",
   "pygments_lexer": "ipython3",
   "version": "3.9.19"
  },
  "toc": {
   "base_numbering": 1,
   "nav_menu": {},
   "number_sections": true,
   "sideBar": true,
   "skip_h1_title": true,
   "title_cell": "Table of Contents",
   "title_sidebar": "Contents",
   "toc_cell": false,
   "toc_position": {
    "height": "calc(100% - 180px)",
    "left": "10px",
    "top": "150px",
    "width": "312.76px"
   },
   "toc_section_display": true,
   "toc_window_display": true
  }
 },
 "nbformat": 4,
 "nbformat_minor": 2
}
