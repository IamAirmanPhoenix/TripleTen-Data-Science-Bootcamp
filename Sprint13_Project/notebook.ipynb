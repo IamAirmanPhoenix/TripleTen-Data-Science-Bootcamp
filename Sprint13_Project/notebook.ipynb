{
 "cells": [
  {
   "cell_type": "markdown",
   "metadata": {},
   "source": [
    "# Project description\n",
    "\n",
    "The company `Sweet Lift Taxi` has collected historical data on taxi orders at airports. Looking to attract more drivers at rush hours, we are asked to predict the quantity of taxi orders for the next hour. To make this possible we need to build a predictive model to do the corresponding predictions.\n",
    "\n",
    "The metric that shall be used is `RMSE (Root Mean Squared Error)` and should not be greater than 48 on the test set.\n",
    "\n",
    "## Project instructions:\n",
    "\n",
    "1. Download the dataset and do an hourly resample.\n",
    "2. Analize the data.\n",
    "3. Train different models with a different hyperparameters set. The test set must be 10% of the initial dataset.\n",
    "4. Test the data using the test set and show conclusions.\n",
    "\n",
    "## Data description\n",
    "\n",
    "Data is saved on the file `taxi.csv`.    \n",
    "The number of orders is on column `num_orders`."
   ]
  },
  {
   "cell_type": "markdown",
   "metadata": {},
   "source": [
    "## Preparing the data\n",
    "\n",
    "Before we can do some predictions on the current information we need to assure we can process it correctly. To make to possible we need to preprocess the information. Depending on the data we have is the addecuate preprocessing; For time series we need to check if is monotonic and in sampled on the required time periods.\n",
    "\n",
    "This section will be divided on the following sub-sections:\n",
    "1. Importing libraries\n",
    "2. Reading the data\n",
    "3. Preprocessing the data\n",
    "\n",
    "### Importing libraries\n",
    "\n",
    "The following modules/libraries will be the ones used on this project. We used libraries to manipulate datasets (`Pandas`), plotting data (`Matplotlib`), seasonal analysis (`Statsmodels`) and machine learning metrics and models (`Scikit-learn`, `LightGBM`, `XGBoost` and `CatBoost`)."
   ]
  },
  {
   "cell_type": "code",
   "execution_count": 1,
   "metadata": {},
   "outputs": [],
   "source": [
    "import pandas as pd\n",
    "from matplotlib import pyplot as plt\n",
    "\n",
    "from statsmodels.tsa.seasonal import seasonal_decompose\n",
    "\n",
    "from sklearn.linear_model import LinearRegression\n",
    "from sklearn.ensemble import RandomForestRegressor\n",
    "from sklearn.preprocessing import StandardScaler\n",
    "from sklearn.model_selection import train_test_split\n",
    "from sklearn.metrics import mean_squared_error as mse\n",
    "from sklearn.metrics import r2_score\n",
    "\n",
    "import lightgbm as lgb\n",
    "import xgboost as xgb\n",
    "from catboost import CatBoostRegressor"
   ]
  },
  {
   "cell_type": "markdown",
   "metadata": {},
   "source": [
    "### Reading the data\n",
    "\n",
    "Once we have the needed modules let's read the dataset information. For time series is very practical to set a value for the Pandas function `read_csv()` on parameters `index_col` and `parse_dates`. On this way we can set the time series as the index and parse it on a datetime format."
   ]
  },
  {
   "cell_type": "code",
   "execution_count": 2,
   "metadata": {},
   "outputs": [],
   "source": [
    "data = pd.read_csv(\"/datasets/taxi.csv\", index_col=[0], parse_dates=[0])"
   ]
  },
  {
   "cell_type": "code",
   "execution_count": 3,
   "metadata": {
    "scrolled": false
   },
   "outputs": [
    {
     "name": "stdout",
     "output_type": "stream",
     "text": [
      "<class 'pandas.core.frame.DataFrame'>\n",
      "DatetimeIndex: 26496 entries, 2018-03-01 00:00:00 to 2018-08-31 23:50:00\n",
      "Data columns (total 1 columns):\n",
      " #   Column      Non-Null Count  Dtype\n",
      "---  ------      --------------  -----\n",
      " 0   num_orders  26496 non-null  int64\n",
      "dtypes: int64(1)\n",
      "memory usage: 414.0 KB\n"
     ]
    }
   ],
   "source": [
    "data.info()"
   ]
  },
  {
   "cell_type": "markdown",
   "metadata": {},
   "source": [
    "### Preprocessing the data\n",
    "\n",
    "Now let's continue to the preprocessing, in which we will determine two main points:\n",
    "\n",
    "1. `Determine if time series can be interpreted as a monotonic function`.    \n",
    "A monotonic function is a function between ordered sets that preserves or reverses the given order. This means it can be entirely increasing or entirely decreasing, in our case shall be entirely increasing. To determine if it is monotonic behaviour or not we will be using the Pandas method `is_monotonic` which will evaluate the index and sort it if method returns `False`, or remain the same if not."
   ]
  },
  {
   "cell_type": "code",
   "execution_count": 4,
   "metadata": {},
   "outputs": [
    {
     "name": "stdout",
     "output_type": "stream",
     "text": [
      "Index is sorted correctly.\n"
     ]
    }
   ],
   "source": [
    "if data.index.is_monotonic:\n",
    "    print(\"Index is sorted correctly.\")\n",
    "else:\n",
    "    data.sort_index(inplace=True)\n",
    "    print(\"Index was not sorted correctly. Processing completed.\")"
   ]
  },
  {
   "cell_type": "markdown",
   "metadata": {},
   "source": [
    "2. `Resampling the data`.    \n",
    "We have our information sampled on instances of 10 minutes but we need to make predictions on an hourly base, so we need to resample the data hourly. Using the Pandas function `resample()` we can do this possible on any valid format, but we will use the input \"1H\" which means \"1 hour\" and sum the rows for all hours."
   ]
  },
  {
   "cell_type": "code",
   "execution_count": 5,
   "metadata": {},
   "outputs": [],
   "source": [
    "data = data.resample(\"1H\").sum()"
   ]
  },
  {
   "cell_type": "code",
   "execution_count": 6,
   "metadata": {},
   "outputs": [
    {
     "name": "stdout",
     "output_type": "stream",
     "text": [
      "<class 'pandas.core.frame.DataFrame'>\n",
      "DatetimeIndex: 4416 entries, 2018-03-01 00:00:00 to 2018-08-31 23:00:00\n",
      "Freq: H\n",
      "Data columns (total 1 columns):\n",
      " #   Column      Non-Null Count  Dtype\n",
      "---  ------      --------------  -----\n",
      " 0   num_orders  4416 non-null   int64\n",
      "dtypes: int64(1)\n",
      "memory usage: 69.0 KB\n"
     ]
    }
   ],
   "source": [
    "data.info()"
   ]
  },
  {
   "cell_type": "markdown",
   "metadata": {},
   "source": [
    "## Analizing the time series\n",
    "\n",
    "The next step is to comprehend how our time series behaves, so we need to analize it correctly. We need to generate new information to make this possible, but it can be difficult to comprehend the whole time series (this does not mean is not necessary) so we will complement it with the same analysis for the last month of the time series.\n",
    "\n",
    "This section will be divided as following:\n",
    "1. Rolling mean\n",
    "2. Seasonal decompose\n",
    "3. Time series diferrence\n",
    "\n",
    "### Rolling mean\n",
    "\n",
    "The rollimg mean, or moving average, is a calculation to analyze data points by creating a series of averages of different selections of the full data set. In other words, we can obtain the mean value for a specific point by taking a number of values on the series, the window size, and for each following point we drop the first value of the current window and add the following value of the series.\n",
    "\n",
    "This new value is commonly used to smooth short-term fluctuations and highlight longer-term trends. Let's see the rolling mean on the whole time series.\n",
    "\n",
    "#### Whole time series\n",
    "\n",
    "Interpreting the whole time series we can conclude the following:\n",
    "\n",
    "1. The mean value is increasing through all the series.\n",
    "2. The last mean value is much greater than the initial mean value."
   ]
  },
  {
   "cell_type": "code",
   "execution_count": 7,
   "metadata": {},
   "outputs": [
    {
     "data": {
      "image/png": "[encoded data removed]",
      "text/plain": [
       "<Figure size 640x480 with 1 Axes>"
      ]
     },
     "metadata": {},
     "output_type": "display_data"
    }
   ],
   "source": [
    "moving_mean = data.rolling(10).mean()\n",
    "\n",
    "moving_mean.plot(grid=True)\n",
    "plt.title(\"Rolling mean for taxi orders\")\n",
    "plt.show()"
   ]
  },
  {
   "cell_type": "markdown",
   "metadata": {},
   "source": [
    "### Seasonal decompose\n",
    "\n",
    "Another analysis for time series is decompose the series o its 4 main components: Tendency, Seasonality and Residue. Those 3 components define the following:\n",
    "\n",
    "1. Tendency: Describe the orientation of the series (incresing or decreasing).\n",
    "2. Seasonality: Describe beahaviour patters on the series.\n",
    "3. Residue: Information which is not relevant for the analysis (also called noise).\n",
    "\n",
    "#### Whole time series\n",
    "\n",
    "Decomposing the whole time series we can conclude the following:\n",
    "\n",
    "1. The tendency for the time series is mainly increasing.\n",
    "2. The time series has a clear pattern, but it is difficult to determine its period.\n",
    "3. The residue of the time series has a mean value near 0.\n",
    "\n",
    "Let's analyze this decomposition for the August month and see if we can get a better insight."
   ]
  },
  {
   "cell_type": "code",
   "execution_count": 9,
   "metadata": {
    "scrolled": false
   },
   "outputs": [
    {
     "data": {
      "image/png": "[encoded data removed]",
      "text/plain": [
       "<Figure size 1500x800 with 3 Axes>"
      ]
     },
     "metadata": {},
     "output_type": "display_data"
    }
   ],
   "source": [
    "decomposed = seasonal_decompose(data)\n",
    "\n",
    "plt.figure(figsize=(15,8))\n",
    "\n",
    "plt.subplot(311)\n",
    "decomposed.trend.plot(ax=plt.gca(), grid=True)\n",
    "plt.title(\"Tendency\")\n",
    "\n",
    "plt.subplot(312)\n",
    "decomposed.seasonal.plot(ax=plt.gca())\n",
    "plt.title(\"Seasonality\")\n",
    "\n",
    "plt.subplot(313)\n",
    "decomposed.resid.plot(ax=plt.gca(), grid=True)\n",
    "plt.title(\"Residue\")\n",
    "\n",
    "plt.tight_layout()"
   ]
  },
  {
   "cell_type": "markdown",
   "metadata": {},
   "source": [
    "#### August time series\n",
    "\n",
    "Decomposing the series on August we can conclude the following:\n",
    "\n",
    "1. Tendency remains the same orientation as in the whole series.\n",
    "2. Now we can appreciate the seasonality has a daily pattern, with its greater values on the start, end and mid-right values of the series.\n",
    "3. Residue values remains the same as in the whole series."
   ]
  },
  {
   "cell_type": "code",
   "execution_count": 10,
   "metadata": {},
   "outputs": [
    {
     "data": {
      "image/png": "[encoded data removed]",
      "text/plain": [
       "<Figure size 1500x800 with 3 Axes>"
      ]
     },
     "metadata": {},
     "output_type": "display_data"
    }
   ],
   "source": [
    "decomposed_test = seasonal_decompose(data[\"2018-08\":])\n",
    "\n",
    "indexes = data[\"2018-08\"].resample(\"1D\").sum()\n",
    "\n",
    "plt.figure(figsize=(15,8))\n",
    "\n",
    "plt.subplot(311)\n",
    "decomposed_test.trend.plot(ax=plt.gca(), grid=True)\n",
    "plt.vlines(indexes.index, 85, 180, colors=\"0.8\")\n",
    "plt.title(\"Tendency for August\")\n",
    "\n",
    "plt.subplot(312)\n",
    "decomposed_test.seasonal.plot(ax=plt.gca(), grid=True)\n",
    "plt.vlines(indexes.index, -95, 95, colors=\"0.8\")\n",
    "plt.title(\"Seasonality for August\")\n",
    "\n",
    "plt.subplot(313)\n",
    "decomposed_test.resid.plot(ax=plt.gca(), grid=True)\n",
    "plt.vlines(indexes.index, -95, 245, colors=\"0.8\")\n",
    "plt.title(\"Residue for August\")\n",
    "\n",
    "plt.tight_layout()"
   ]
  },
  {
   "cell_type": "markdown",
   "metadata": {},
   "source": [
    "### Time series diferrence\n",
    "\n",
    "Time series difference is a type of transformation in which we can achieve two main things:\n",
    "1. Make a time series stationary (in case it is not).\n",
    "2. Stabilizing the mean value of the time series.\n",
    "\n",
    "This is also needed to be able to model properly our series and generate more accurate predictions. Let's apply it to the series.\n",
    "\n",
    "#### Original time series\n",
    "\n",
    "On the plot below we can see the distribution of orders in our original data. It seems sufficiently stationary and we could start working with it, but we can improve this process even more. The time series difference helps us to transform the time series in a \"more-stationary\" series, and this mean better model predictions."
   ]
  },
  {
   "cell_type": "code",
   "execution_count": 11,
   "metadata": {},
   "outputs": [
    {
     "data": {
      "image/png": "[encoded data removed]",
      "text/plain": [
       "<Figure size 640x480 with 1 Axes>"
      ]
     },
     "metadata": {},
     "output_type": "display_data"
    }
   ],
   "source": [
    "data.plot(grid=True)\n",
    "plt.title(\"Original time series\")\n",
    "plt.show()"
   ]
  },
  {
   "cell_type": "markdown",
   "metadata": {},
   "source": [
    "#### Differenced time series\n",
    "\n",
    "Once a difference is applied to the time series we can see the differences between both of them:\n",
    "1. The values are stabilized near 0.\n",
    "2. Variances have lowered.\n",
    "3. Are easier to interpret."
   ]
  },
  {
   "cell_type": "code",
   "execution_count": 12,
   "metadata": {},
   "outputs": [
    {
     "data": {
      "image/png": "[encoded data removed]",
      "text/plain": [
       "<Figure size 640x480 with 1 Axes>"
      ]
     },
     "metadata": {},
     "output_type": "display_data"
    }
   ],
   "source": [
    "diff_data = data - data.shift(fill_value=0)\n",
    "\n",
    "diff_data.plot(grid=True)\n",
    "plt.title(\"Time series difference\")\n",
    "plt.show()"
   ]
  },
  {
   "cell_type": "markdown",
   "metadata": {},
   "source": [
    "## Generating new features\n",
    "\n",
    "Before the modeling process we need to generate new features which can help the models to make the predictions in an easier way. Those new features will be created on the function `make_features`:\n",
    "\n",
    "1. `week_of_year`: The number of the week of the year for the current date.\n",
    "1. `day`: The day of the current date.\n",
    "1. `hour`: The hour of the current date.\n",
    "1. `lag_X`: Features in which the time series values will change their locations. The offset on the values and the number of the \"lag_X\" column is defined by the input \"lag_lenght\", i.e.: if \"lag_lenght = 3\" there will be new columns \"lag_1, lag_2 and lag_3\" with offsets of 1, 2 and 3 respectively.\n",
    "1. `rolling_mean`: Moving average value for the time series. The window size is determined by input \"rolling_lenght\"."
   ]
  },
  {
   "cell_type": "code",
   "execution_count": 13,
   "metadata": {},
   "outputs": [],
   "source": [
    "def make_features(df, lag_lenght:int=3, rolling_lenght:int=5):\n",
    "\n",
    "    # Generating new columns from dataframe index's timestamps components\n",
    "    df[\"week_of_year\"] = df.index.weekofyear\n",
    "    df[\"day\"] = df.index.day\n",
    "    df[\"hour\"] = df.index.hour\n",
    "\n",
    "    # Generatig new lag columns from 1 to lag_lenght + 1\n",
    "    for lag in range(1, lag_lenght + 1):\n",
    "\n",
    "        # Offsetting the column values by lag value\n",
    "        df[\"lag_{}\".format(lag)] = df.iloc[:,0].shift(lag)\n",
    "\n",
    "    # Generating moving average series with a \"rolling_lenght\" window size\n",
    "    df[\"rolling_mean\"] = df.iloc[:,0].shift().rolling(rolling_lenght).mean()"
   ]
  },
  {
   "cell_type": "markdown",
   "metadata": {},
   "source": [
    "Generate new features with 5 lag columns and a rolling mean series with a window size of 10."
   ]
  },
  {
   "cell_type": "code",
   "execution_count": 14,
   "metadata": {},
   "outputs": [],
   "source": [
    "make_features(data, 5, 10)"
   ]
  },
  {
   "cell_type": "code",
   "execution_count": 15,
   "metadata": {},
   "outputs": [
    {
     "data": {
      "text/html": [
       "<div>\n",
       "<style scoped>\n",
       "    .dataframe tbody tr th:only-of-type {\n",
       "        vertical-align: middle;\n",
       "    }\n",
       "\n",
       "    .dataframe tbody tr th {\n",
       "        vertical-align: top;\n",
       "    }\n",
       "\n",
       "    .dataframe thead th {\n",
       "        text-align: right;\n",
       "    }\n",
       "</style>\n",
       "<table border=\"1\" class=\"dataframe\">\n",
       "  <thead>\n",
       "    <tr style=\"text-align: right;\">\n",
       "      <th></th>\n",
       "      <th>num_orders</th>\n",
       "      <th>week_of_year</th>\n",
       "      <th>day</th>\n",
       "      <th>hour</th>\n",
       "      <th>lag_1</th>\n",
       "      <th>lag_2</th>\n",
       "      <th>lag_3</th>\n",
       "      <th>lag_4</th>\n",
       "      <th>lag_5</th>\n",
       "      <th>rolling_mean</th>\n",
       "    </tr>\n",
       "    <tr>\n",
       "      <th>datetime</th>\n",
       "      <th></th>\n",
       "      <th></th>\n",
       "      <th></th>\n",
       "      <th></th>\n",
       "      <th></th>\n",
       "      <th></th>\n",
       "      <th></th>\n",
       "      <th></th>\n",
       "      <th></th>\n",
       "      <th></th>\n",
       "    </tr>\n",
       "  </thead>\n",
       "  <tbody>\n",
       "    <tr>\n",
       "      <th>2018-03-01 00:00:00</th>\n",
       "      <td>124</td>\n",
       "      <td>9</td>\n",
       "      <td>1</td>\n",
       "      <td>0</td>\n",
       "      <td>NaN</td>\n",
       "      <td>NaN</td>\n",
       "      <td>NaN</td>\n",
       "      <td>NaN</td>\n",
       "      <td>NaN</td>\n",
       "      <td>NaN</td>\n",
       "    </tr>\n",
       "    <tr>\n",
       "      <th>2018-03-01 01:00:00</th>\n",
       "      <td>85</td>\n",
       "      <td>9</td>\n",
       "      <td>1</td>\n",
       "      <td>1</td>\n",
       "      <td>124.0</td>\n",
       "      <td>NaN</td>\n",
       "      <td>NaN</td>\n",
       "      <td>NaN</td>\n",
       "      <td>NaN</td>\n",
       "      <td>NaN</td>\n",
       "    </tr>\n",
       "    <tr>\n",
       "      <th>2018-03-01 02:00:00</th>\n",
       "      <td>71</td>\n",
       "      <td>9</td>\n",
       "      <td>1</td>\n",
       "      <td>2</td>\n",
       "      <td>85.0</td>\n",
       "      <td>124.0</td>\n",
       "      <td>NaN</td>\n",
       "      <td>NaN</td>\n",
       "      <td>NaN</td>\n",
       "      <td>NaN</td>\n",
       "    </tr>\n",
       "    <tr>\n",
       "      <th>2018-03-01 03:00:00</th>\n",
       "      <td>66</td>\n",
       "      <td>9</td>\n",
       "      <td>1</td>\n",
       "      <td>3</td>\n",
       "      <td>71.0</td>\n",
       "      <td>85.0</td>\n",
       "      <td>124.0</td>\n",
       "      <td>NaN</td>\n",
       "      <td>NaN</td>\n",
       "      <td>NaN</td>\n",
       "    </tr>\n",
       "    <tr>\n",
       "      <th>2018-03-01 04:00:00</th>\n",
       "      <td>43</td>\n",
       "      <td>9</td>\n",
       "      <td>1</td>\n",
       "      <td>4</td>\n",
       "      <td>66.0</td>\n",
       "      <td>71.0</td>\n",
       "      <td>85.0</td>\n",
       "      <td>124.0</td>\n",
       "      <td>NaN</td>\n",
       "      <td>NaN</td>\n",
       "    </tr>\n",
       "    <tr>\n",
       "      <th>2018-03-01 05:00:00</th>\n",
       "      <td>6</td>\n",
       "      <td>9</td>\n",
       "      <td>1</td>\n",
       "      <td>5</td>\n",
       "      <td>43.0</td>\n",
       "      <td>66.0</td>\n",
       "      <td>71.0</td>\n",
       "      <td>85.0</td>\n",
       "      <td>124.0</td>\n",
       "      <td>NaN</td>\n",
       "    </tr>\n",
       "    <tr>\n",
       "      <th>2018-03-01 06:00:00</th>\n",
       "      <td>12</td>\n",
       "      <td>9</td>\n",
       "      <td>1</td>\n",
       "      <td>6</td>\n",
       "      <td>6.0</td>\n",
       "      <td>43.0</td>\n",
       "      <td>66.0</td>\n",
       "      <td>71.0</td>\n",
       "      <td>85.0</td>\n",
       "      <td>NaN</td>\n",
       "    </tr>\n",
       "    <tr>\n",
       "      <th>2018-03-01 07:00:00</th>\n",
       "      <td>15</td>\n",
       "      <td>9</td>\n",
       "      <td>1</td>\n",
       "      <td>7</td>\n",
       "      <td>12.0</td>\n",
       "      <td>6.0</td>\n",
       "      <td>43.0</td>\n",
       "      <td>66.0</td>\n",
       "      <td>71.0</td>\n",
       "      <td>NaN</td>\n",
       "    </tr>\n",
       "    <tr>\n",
       "      <th>2018-03-01 08:00:00</th>\n",
       "      <td>34</td>\n",
       "      <td>9</td>\n",
       "      <td>1</td>\n",
       "      <td>8</td>\n",
       "      <td>15.0</td>\n",
       "      <td>12.0</td>\n",
       "      <td>6.0</td>\n",
       "      <td>43.0</td>\n",
       "      <td>66.0</td>\n",
       "      <td>NaN</td>\n",
       "    </tr>\n",
       "    <tr>\n",
       "      <th>2018-03-01 09:00:00</th>\n",
       "      <td>69</td>\n",
       "      <td>9</td>\n",
       "      <td>1</td>\n",
       "      <td>9</td>\n",
       "      <td>34.0</td>\n",
       "      <td>15.0</td>\n",
       "      <td>12.0</td>\n",
       "      <td>6.0</td>\n",
       "      <td>43.0</td>\n",
       "      <td>NaN</td>\n",
       "    </tr>\n",
       "    <tr>\n",
       "      <th>2018-03-01 10:00:00</th>\n",
       "      <td>64</td>\n",
       "      <td>9</td>\n",
       "      <td>1</td>\n",
       "      <td>10</td>\n",
       "      <td>69.0</td>\n",
       "      <td>34.0</td>\n",
       "      <td>15.0</td>\n",
       "      <td>12.0</td>\n",
       "      <td>6.0</td>\n",
       "      <td>52.5</td>\n",
       "    </tr>\n",
       "  </tbody>\n",
       "</table>\n",
       "</div>"
      ],
      "text/plain": [
       "                     num_orders  week_of_year  day  hour  lag_1  lag_2  lag_3  \\\n",
       "datetime                                                                        \n",
       "2018-03-01 00:00:00         124             9    1     0    NaN    NaN    NaN   \n",
       "2018-03-01 01:00:00          85             9    1     1  124.0    NaN    NaN   \n",
       "2018-03-01 02:00:00          71             9    1     2   85.0  124.0    NaN   \n",
       "2018-03-01 03:00:00          66             9    1     3   71.0   85.0  124.0   \n",
       "2018-03-01 04:00:00          43             9    1     4   66.0   71.0   85.0   \n",
       "2018-03-01 05:00:00           6             9    1     5   43.0   66.0   71.0   \n",
       "2018-03-01 06:00:00          12             9    1     6    6.0   43.0   66.0   \n",
       "2018-03-01 07:00:00          15             9    1     7   12.0    6.0   43.0   \n",
       "2018-03-01 08:00:00          34             9    1     8   15.0   12.0    6.0   \n",
       "2018-03-01 09:00:00          69             9    1     9   34.0   15.0   12.0   \n",
       "2018-03-01 10:00:00          64             9    1    10   69.0   34.0   15.0   \n",
       "\n",
       "                     lag_4  lag_5  rolling_mean  \n",
       "datetime                                         \n",
       "2018-03-01 00:00:00    NaN    NaN           NaN  \n",
       "2018-03-01 01:00:00    NaN    NaN           NaN  \n",
       "2018-03-01 02:00:00    NaN    NaN           NaN  \n",
       "2018-03-01 03:00:00    NaN    NaN           NaN  \n",
       "2018-03-01 04:00:00  124.0    NaN           NaN  \n",
       "2018-03-01 05:00:00   85.0  124.0           NaN  \n",
       "2018-03-01 06:00:00   71.0   85.0           NaN  \n",
       "2018-03-01 07:00:00   66.0   71.0           NaN  \n",
       "2018-03-01 08:00:00   43.0   66.0           NaN  \n",
       "2018-03-01 09:00:00    6.0   43.0           NaN  \n",
       "2018-03-01 10:00:00   12.0    6.0          52.5  "
      ]
     },
     "execution_count": 15,
     "metadata": {},
     "output_type": "execute_result"
    }
   ],
   "source": [
    "data.head(11)"
   ]
  },
  {
   "cell_type": "markdown",
   "metadata": {},
   "source": [
    "## Modeling\n",
    "\n",
    "Let's test various models and determine the best one for our application. Remember our target is to reach a RMSE value below 48. The models we will use are:\n",
    "\n",
    "1. Linear Regression (for sanity test)\n",
    "2. Random Forest Regressor\n",
    "3. LightGBM\n",
    "4. XGBoost\n",
    "5. CatBoost\n",
    "\n",
    "### Scaling and split data\n",
    "\n",
    "Scaling the features for a better prediction accuracy."
   ]
  },
  {
   "cell_type": "code",
   "execution_count": 16,
   "metadata": {},
   "outputs": [],
   "source": [
    "scaler = StandardScaler()\n",
    "data.iloc[:, 1:] = scaler.fit_transform(data.iloc[:, 1:])"
   ]
  },
  {
   "cell_type": "markdown",
   "metadata": {},
   "source": [
    "Splitting the data in a relation 90/10 for the train and test set."
   ]
  },
  {
   "cell_type": "code",
   "execution_count": 17,
   "metadata": {},
   "outputs": [],
   "source": [
    "train, test = train_test_split(data, shuffle=False, test_size=0.1, random_state=0)"
   ]
  },
  {
   "cell_type": "markdown",
   "metadata": {},
   "source": [
    "Dropping all rows with missing values and divide train and test sets in features and target."
   ]
  },
  {
   "cell_type": "code",
   "execution_count": 18,
   "metadata": {},
   "outputs": [],
   "source": [
    "train = train.dropna()\n",
    "\n",
    "X_train = train.drop(\"num_orders\", axis=1)\n",
    "X_test = test.drop(\"num_orders\", axis=1)\n",
    "y_train = train[\"num_orders\"]\n",
    "y_test = test[\"num_orders\"]"
   ]
  },
  {
   "cell_type": "markdown",
   "metadata": {},
   "source": [
    "### Linear Regression - Sanity test\n",
    "\n",
    "Applying a Linear Regression model as sanity test we achieved an RMSE value of `53.05`, 5 units above the threshold. This is not acceptable for our application, but is indeed a good comparison point for other models."
   ]
  },
  {
   "cell_type": "code",
   "execution_count": 19,
   "metadata": {},
   "outputs": [
    {
     "name": "stdout",
     "output_type": "stream",
     "text": [
      "RMSE: 53.05493251778698.\n",
      "R2: 0.17888586299714704.\n"
     ]
    }
   ],
   "source": [
    "model = LinearRegression().fit(X_train, y_train)\n",
    "y_pred = model.predict(X_test)\n",
    "\n",
    "rmse = mse(y_test, y_pred, squared=False)\n",
    "r2 = r2_score(y_test, y_pred)\n",
    "print(f\"RMSE: {rmse}.\")\n",
    "print(f\"R2: {r2}.\")"
   ]
  },
  {
   "cell_type": "markdown",
   "metadata": {},
   "source": [
    "### Random Forest Regressor\n",
    "\n",
    "Using a Random Forest Regressor model and setting its hyperparameters as showing in the code block below we achieved an RMSE value of `46.03`, almost 2 units below the threshold. This value is enough for our application, but let's remember this model has higher processing times for big datasets and also lacks more \"sophisticated\" predictive methods (as the case of gradient boosting), so let's test other models and compare values."
   ]
  },
  {
   "cell_type": "code",
   "execution_count": 20,
   "metadata": {},
   "outputs": [
    {
     "name": "stdout",
     "output_type": "stream",
     "text": [
      "RMSE: 46.03082517862621.\n",
      "R2: 0.3819131310567577.\n"
     ]
    }
   ],
   "source": [
    "model = RandomForestRegressor(n_estimators=100, max_depth=10, min_samples_split=5, min_samples_leaf=5, random_state=0).fit(X_train, y_train)\n",
    "\n",
    "y_pred = model.predict(X_test)\n",
    "rmse = mse(y_test, y_pred, squared=False)\n",
    "r2 = r2_score(y_test, y_pred)\n",
    "print(f\"RMSE: {rmse}.\")\n",
    "print(f\"R2: {r2}.\")"
   ]
  },
  {
   "cell_type": "markdown",
   "metadata": {},
   "source": [
    "### LightGBM\n",
    "\n",
    "LightGBM is the first model with gradient boosting we will use, and with the parameters shown on the code block below we can achieve a RMSE value of `47.02`, almost 1 unit below the threshold. This value worse than the one obtained on the previous tree-based model, but the processing advantages are better than the RMSE values difference. However, let's see if we can improve this value with other models."
   ]
  },
  {
   "cell_type": "code",
   "execution_count": 21,
   "metadata": {},
   "outputs": [
    {
     "name": "stdout",
     "output_type": "stream",
     "text": [
      "[LightGBM] [Warning] Auto-choosing col-wise multi-threading, the overhead of testing was 0.000239 seconds.\n",
      "You can set `force_col_wise=true` to remove the overhead.\n",
      "[LightGBM] [Info] Total Bins 1288\n",
      "[LightGBM] [Info] Number of data points in the train set: 3964, number of used features: 9\n",
      "[LightGBM] [Info] Start training from score 78.355701\n",
      "[LightGBM] [Warning] No further splits with positive gain, best gain: -inf\n",
      "[LightGBM] [Warning] No further splits with positive gain, best gain: -inf\n",
      "[LightGBM] [Warning] No further splits with positive gain, best gain: -inf\n",
      "[LightGBM] [Warning] No further splits with positive gain, best gain: -inf\n",
      "RMSE: 47.02750414407832.\n",
      "R2: 0.35485719645337477.\n"
     ]
    }
   ],
   "source": [
    "lgb_train = lgb.Dataset(X_train, label=y_train)\n",
    "\n",
    "lgbm_params = {'learning_rate': 0.05, \n",
    "               'boosting': 'gbdt',\n",
    "               'objective': 'regression',\n",
    "               'metric': 'rmse',\n",
    "               'num_leaves': 100,\n",
    "               'max_depth': 10,\n",
    "               'seed': 0}\n",
    "\n",
    "model_lgbm = lgb.train(lgbm_params, lgb_train, 50)\n",
    "y_pred = model_lgbm.predict(X_test)\n",
    "\n",
    "rmse = mse(y_test, y_pred, squared=False)\n",
    "r2 = r2_score(y_test, y_pred)\n",
    "print(f\"RMSE: {rmse}.\")\n",
    "print(f\"R2: {r2}.\")"
   ]
  },
  {
   "cell_type": "markdown",
   "metadata": {},
   "source": [
    "### XGBoost\n",
    "\n",
    "Using XGBoost, a tree ensemble model with gradient boosting, and the parameters shown in the code block below we achieved a RNSE value of `47.21`, almost 0.8 units below the threshold. Comparing XGBoost and LightGBM we can appreciate this first model is not addecaute for time series, maybe for the tree ensemble itself or other internal processing in the model."
   ]
  },
  {
   "cell_type": "code",
   "execution_count": 22,
   "metadata": {},
   "outputs": [
    {
     "name": "stdout",
     "output_type": "stream",
     "text": [
      "RMSE: 47.21156321910664.\n",
      "R2: 0.34979731652516455.\n"
     ]
    }
   ],
   "source": [
    "xgb_train = xgb.DMatrix(X_train, label=y_train)\n",
    "\n",
    "xgb_params = {'max_depth': 5,\n",
    "              'objective': 'reg:squarederror',\n",
    "              'eval_metric': 'rmse',\n",
    "              'learning_rate': 0.08,\n",
    "              'seed': 0}\n",
    "\n",
    "model_xgbm = xgb.train(xgb_params, xgb_train, 300)\n",
    "xgb_test = xgb.DMatrix(X_test)\n",
    "y_pred = model_xgbm.predict(xgb_test)\n",
    "\n",
    "rmse = mse(y_test, y_pred, squared=False)\n",
    "r2 = r2_score(y_test, y_pred)\n",
    "print(f\"RMSE: {rmse}.\")\n",
    "print(f\"R2: {r2}.\")"
   ]
  },
  {
   "cell_type": "markdown",
   "metadata": {},
   "source": [
    "### CatBoost\n",
    "\n",
    "CatBoost is the last model we will be using on the project. This model with the configuration shown on the code block below we can achieve a RMSE value of `45.12`, almost 3 units below the threshold. This is the RMSE value obtained with a processing time of 5 seconds approximately."
   ]
  },
  {
   "cell_type": "code",
   "execution_count": 23,
   "metadata": {},
   "outputs": [
    {
     "name": "stdout",
     "output_type": "stream",
     "text": [
      "0:\tlearn: 36.7112142\ttotal: 50ms\tremaining: 4.95s\n",
      "10:\tlearn: 27.5837795\ttotal: 79ms\tremaining: 639ms\n",
      "20:\tlearn: 24.7369215\ttotal: 107ms\tremaining: 403ms\n",
      "30:\tlearn: 23.6499849\ttotal: 135ms\tremaining: 301ms\n",
      "40:\tlearn: 22.8422077\ttotal: 165ms\tremaining: 237ms\n",
      "50:\tlearn: 22.3964150\ttotal: 192ms\tremaining: 185ms\n",
      "60:\tlearn: 21.8964136\ttotal: 220ms\tremaining: 141ms\n",
      "70:\tlearn: 21.5140038\ttotal: 249ms\tremaining: 102ms\n",
      "80:\tlearn: 21.1374704\ttotal: 277ms\tremaining: 65ms\n",
      "90:\tlearn: 20.8027996\ttotal: 310ms\tremaining: 30.6ms\n",
      "99:\tlearn: 20.5332985\ttotal: 337ms\tremaining: 0us\n",
      "RMSE: 45.12057860902888.\n",
      "R2: 0.4061164212958368.\n"
     ]
    }
   ],
   "source": [
    "model_cat = CatBoostRegressor(iterations=100, learning_rate=0.1, loss_function=\"RMSE\", random_seed=0)\n",
    "model_cat.fit(X_train, y_train, verbose=10)\n",
    "y_pred = model_cat.predict(X_test)\n",
    "rmse = mse(y_test, y_pred, squared=False)\n",
    "r2 = r2_score(y_test, y_pred)\n",
    "\n",
    "print(f\"RMSE: {rmse}.\")\n",
    "print(f\"R2: {r2}.\")"
   ]
  },
  {
   "cell_type": "markdown",
   "metadata": {},
   "source": [
    "### Conclusions\n",
    "\n",
    "The RMSE values obtained may vary depending on many variables:\n",
    "1. Number of lag features\n",
    "2. Number of date components features\n",
    "3. Model used\n",
    "4. Parameters setting\n",
    "\n",
    "This is why obtaining the best results possible is an iterative process in which many posibilities should be tested.\n",
    "\n",
    "Results obtained on the table below:\n",
    "\n",
    "| Values | Linear Regression | Random Forest Regressor | LightGBM | XGBoost | CatBoost |\n",
    "| ------ | ----------------- | ----------------------- | -------- | ------- | -------- |\n",
    "| RMSE | 53.05 | 46.03 | 47.02 | 47.21 | 45.12 |\n",
    "| $R^{2}$ score | 0.1788 | 0.3819 | 0.3548 | 0.3497 | 0.4061 |\n",
    "\n",
    "## General conclusions\n",
    "\n",
    "1. Is important to comprehend how the data of your time series is distributed and how you need to resample it. Once you comprehend what you have and what you need to continue your modeling process is easier to continue with the pre-processing of the data.\n",
    "\n",
    "2. Is essential to generate new features on your time series dataset to help the model to make more accurate predictions. Testing different features distributions is essential to get the best results possible.\n",
    "\n",
    "3. Testing different models can help on the search of better results. As we could see on section 6 depending on the model used is the result obtained, so testing different models with different parameters configuration is recommended for all projects."
   ]
  }
 ],
 "metadata": {
  "ExecuteTimeLog": [
   {
    "duration": 458,
    "start_time": "2024-07-22T20:31:02.894Z"
   },
   {
    "duration": 39,
    "start_time": "2024-07-22T20:31:35.432Z"
   },
   {
    "duration": 16,
    "start_time": "2024-07-22T20:31:42.584Z"
   },
   {
    "duration": 19,
    "start_time": "2024-07-22T20:31:54.593Z"
   },
   {
    "duration": 31,
    "start_time": "2024-07-22T20:33:29.311Z"
   },
   {
    "duration": 16,
    "start_time": "2024-07-22T20:33:30.982Z"
   },
   {
    "duration": 10,
    "start_time": "2024-07-22T20:33:35.298Z"
   },
   {
    "duration": 9,
    "start_time": "2024-07-22T20:33:45.860Z"
   },
   {
    "duration": 30,
    "start_time": "2024-07-22T20:34:32.284Z"
   },
   {
    "duration": 13,
    "start_time": "2024-07-22T20:34:33.726Z"
   },
   {
    "duration": 11,
    "start_time": "2024-07-22T20:34:34.813Z"
   },
   {
    "duration": 7,
    "start_time": "2024-07-22T20:36:33.932Z"
   },
   {
    "duration": 23,
    "start_time": "2024-07-22T20:36:43.267Z"
   },
   {
    "duration": 16,
    "start_time": "2024-07-22T20:36:44.426Z"
   },
   {
    "duration": 33,
    "start_time": "2024-07-22T20:37:25.960Z"
   },
   {
    "duration": 14,
    "start_time": "2024-07-22T20:37:26.828Z"
   },
   {
    "duration": 6,
    "start_time": "2024-07-22T20:37:28.959Z"
   },
   {
    "duration": 32,
    "start_time": "2024-07-22T20:38:02.548Z"
   },
   {
    "duration": 14,
    "start_time": "2024-07-22T20:38:04.206Z"
   },
   {
    "duration": 9,
    "start_time": "2024-07-22T20:38:05.941Z"
   },
   {
    "duration": 5,
    "start_time": "2024-07-22T20:40:50.817Z"
   },
   {
    "duration": 10,
    "start_time": "2024-07-22T20:46:16.362Z"
   },
   {
    "duration": 12,
    "start_time": "2024-07-22T20:46:22.282Z"
   },
   {
    "duration": 16,
    "start_time": "2024-07-22T20:47:12.613Z"
   },
   {
    "duration": 12,
    "start_time": "2024-07-22T20:47:19.955Z"
   },
   {
    "duration": 514,
    "start_time": "2024-07-22T20:47:27.605Z"
   },
   {
    "duration": 43,
    "start_time": "2024-07-22T20:47:28.123Z"
   },
   {
    "duration": 17,
    "start_time": "2024-07-22T20:47:28.169Z"
   },
   {
    "duration": 33,
    "start_time": "2024-07-22T20:47:28.190Z"
   },
   {
    "duration": 15,
    "start_time": "2024-07-22T20:47:28.226Z"
   },
   {
    "duration": 14,
    "start_time": "2024-07-22T20:47:28.246Z"
   },
   {
    "duration": 385,
    "start_time": "2024-07-22T22:10:13.648Z"
   },
   {
    "duration": 554,
    "start_time": "2024-07-22T22:10:40.139Z"
   },
   {
    "duration": 14,
    "start_time": "2024-07-22T22:10:44.618Z"
   },
   {
    "duration": 95,
    "start_time": "2024-07-22T22:11:14.135Z"
   },
   {
    "duration": 14,
    "start_time": "2024-07-22T22:11:18.081Z"
   },
   {
    "duration": 13,
    "start_time": "2024-07-22T22:11:30.717Z"
   },
   {
    "duration": 12,
    "start_time": "2024-07-22T22:11:40.052Z"
   },
   {
    "duration": 4560,
    "start_time": "2024-07-22T22:11:48.027Z"
   },
   {
    "duration": 428,
    "start_time": "2024-07-22T22:12:01.776Z"
   },
   {
    "duration": 348,
    "start_time": "2024-07-22T22:12:17.286Z"
   },
   {
    "duration": 55,
    "start_time": "2024-07-22T22:15:15.815Z"
   },
   {
    "duration": 26,
    "start_time": "2024-07-22T22:15:39.284Z"
   },
   {
    "duration": 4,
    "start_time": "2024-07-22T22:15:43.607Z"
   },
   {
    "duration": 1198,
    "start_time": "2024-07-22T22:15:46.210Z"
   },
   {
    "duration": 1510,
    "start_time": "2024-07-22T22:18:48.908Z"
   },
   {
    "duration": 1191,
    "start_time": "2024-07-22T22:20:01.489Z"
   },
   {
    "duration": 1169,
    "start_time": "2024-07-22T22:20:08.342Z"
   },
   {
    "duration": 24,
    "start_time": "2024-07-22T23:52:13.279Z"
   },
   {
    "duration": 341,
    "start_time": "2024-07-22T23:52:27.300Z"
   },
   {
    "duration": 334,
    "start_time": "2024-07-22T23:52:33.200Z"
   },
   {
    "duration": 433,
    "start_time": "2024-07-22T23:52:51.273Z"
   },
   {
    "duration": 28,
    "start_time": "2024-07-22T23:54:21.960Z"
   },
   {
    "duration": 26,
    "start_time": "2024-07-22T23:55:08.606Z"
   },
   {
    "duration": 480,
    "start_time": "2024-07-22T23:55:21.419Z"
   },
   {
    "duration": 1489,
    "start_time": "2024-07-22T23:56:21.427Z"
   },
   {
    "duration": 1062,
    "start_time": "2024-07-22T23:56:51.515Z"
   },
   {
    "duration": 327,
    "start_time": "2024-07-22T23:58:18.445Z"
   },
   {
    "duration": 1194,
    "start_time": "2024-07-22T23:58:46.572Z"
   },
   {
    "duration": 345,
    "start_time": "2024-07-22T23:59:16.430Z"
   },
   {
    "duration": 4,
    "start_time": "2024-07-23T01:20:54.784Z"
   },
   {
    "duration": 351,
    "start_time": "2024-07-23T01:21:08.180Z"
   },
   {
    "duration": 410,
    "start_time": "2024-07-23T01:22:23.959Z"
   },
   {
    "duration": 335,
    "start_time": "2024-07-23T01:23:04.686Z"
   },
   {
    "duration": 1102,
    "start_time": "2024-07-23T01:25:37.465Z"
   },
   {
    "duration": 1227,
    "start_time": "2024-07-23T01:25:50.852Z"
   },
   {
    "duration": 1086,
    "start_time": "2024-07-23T01:26:22.673Z"
   },
   {
    "duration": 1114,
    "start_time": "2024-07-23T01:26:39.869Z"
   },
   {
    "duration": 342,
    "start_time": "2024-07-23T01:27:06.480Z"
   },
   {
    "duration": 359,
    "start_time": "2024-07-23T01:27:11.880Z"
   },
   {
    "duration": 335,
    "start_time": "2024-07-23T01:27:23.973Z"
   },
   {
    "duration": 463,
    "start_time": "2024-07-23T01:27:31.906Z"
   },
   {
    "duration": 1202,
    "start_time": "2024-07-23T01:28:33.394Z"
   },
   {
    "duration": 354,
    "start_time": "2024-07-23T01:39:57.795Z"
   },
   {
    "duration": 5,
    "start_time": "2024-07-23T01:41:44.001Z"
   },
   {
    "duration": 889,
    "start_time": "2024-07-23T01:41:56.994Z"
   },
   {
    "duration": 6,
    "start_time": "2024-07-23T01:42:10.305Z"
   },
   {
    "duration": 876,
    "start_time": "2024-07-23T01:42:11.434Z"
   },
   {
    "duration": 6,
    "start_time": "2024-07-23T01:42:24.344Z"
   },
   {
    "duration": 5,
    "start_time": "2024-07-23T01:42:29.045Z"
   },
   {
    "duration": 280,
    "start_time": "2024-07-23T01:42:29.882Z"
   },
   {
    "duration": 5,
    "start_time": "2024-07-23T01:42:43.840Z"
   },
   {
    "duration": 121,
    "start_time": "2024-07-23T01:42:45.111Z"
   },
   {
    "duration": 16,
    "start_time": "2024-07-23T01:42:51.820Z"
   },
   {
    "duration": 23,
    "start_time": "2024-07-23T01:43:10.899Z"
   },
   {
    "duration": 5,
    "start_time": "2024-07-23T01:43:37.747Z"
   },
   {
    "duration": 119,
    "start_time": "2024-07-23T01:43:40.171Z"
   },
   {
    "duration": 24,
    "start_time": "2024-07-23T01:43:40.999Z"
   },
   {
    "duration": 44,
    "start_time": "2024-07-23T01:43:54.870Z"
   },
   {
    "duration": 6,
    "start_time": "2024-07-23T01:44:38.942Z"
   },
   {
    "duration": 9,
    "start_time": "2024-07-23T01:44:39.657Z"
   },
   {
    "duration": 44,
    "start_time": "2024-07-23T01:44:40.692Z"
   },
   {
    "duration": 25,
    "start_time": "2024-07-23T01:44:47.788Z"
   },
   {
    "duration": 18,
    "start_time": "2024-07-23T01:44:57.443Z"
   },
   {
    "duration": 21,
    "start_time": "2024-07-23T01:45:02.236Z"
   },
   {
    "duration": 1164,
    "start_time": "2024-07-23T01:45:22.894Z"
   },
   {
    "duration": 42,
    "start_time": "2024-07-23T01:45:24.063Z"
   },
   {
    "duration": 26,
    "start_time": "2024-07-23T01:45:24.108Z"
   },
   {
    "duration": 5,
    "start_time": "2024-07-23T01:45:24.137Z"
   },
   {
    "duration": 12,
    "start_time": "2024-07-23T01:45:24.145Z"
   },
   {
    "duration": 13,
    "start_time": "2024-07-23T01:45:24.160Z"
   },
   {
    "duration": 439,
    "start_time": "2024-07-23T01:45:24.176Z"
   },
   {
    "duration": 332,
    "start_time": "2024-07-23T01:45:24.619Z"
   },
   {
    "duration": 1225,
    "start_time": "2024-07-23T01:45:24.954Z"
   },
   {
    "duration": 1092,
    "start_time": "2024-07-23T01:45:26.186Z"
   },
   {
    "duration": 369,
    "start_time": "2024-07-23T01:45:27.282Z"
   },
   {
    "duration": 379,
    "start_time": "2024-07-23T01:45:27.654Z"
   },
   {
    "duration": 7,
    "start_time": "2024-07-23T01:45:28.036Z"
   },
   {
    "duration": 13,
    "start_time": "2024-07-23T01:45:28.046Z"
   },
   {
    "duration": 23,
    "start_time": "2024-07-23T01:45:28.063Z"
   },
   {
    "duration": 7,
    "start_time": "2024-07-23T01:46:35.906Z"
   },
   {
    "duration": 475,
    "start_time": "2024-07-23T01:47:32.188Z"
   },
   {
    "duration": 239,
    "start_time": "2024-07-23T01:47:55.449Z"
   },
   {
    "duration": 9,
    "start_time": "2024-07-23T01:48:13.169Z"
   },
   {
    "duration": 7,
    "start_time": "2024-07-23T01:48:18.987Z"
   },
   {
    "duration": 348,
    "start_time": "2024-07-23T02:05:25.597Z"
   },
   {
    "duration": 480,
    "start_time": "2024-07-23T02:06:24.136Z"
   },
   {
    "duration": 5,
    "start_time": "2024-07-23T02:35:36.616Z"
   },
   {
    "duration": 10,
    "start_time": "2024-07-23T02:37:30.553Z"
   },
   {
    "duration": 1896,
    "start_time": "2024-07-23T02:50:58.247Z"
   },
   {
    "duration": 4,
    "start_time": "2024-07-23T02:51:04.199Z"
   },
   {
    "duration": 6,
    "start_time": "2024-07-23T02:51:15.025Z"
   },
   {
    "duration": 42,
    "start_time": "2024-07-23T02:51:15.036Z"
   },
   {
    "duration": 42,
    "start_time": "2024-07-23T02:51:15.081Z"
   },
   {
    "duration": 7,
    "start_time": "2024-07-23T02:51:15.128Z"
   },
   {
    "duration": 15,
    "start_time": "2024-07-23T02:51:15.139Z"
   },
   {
    "duration": 15,
    "start_time": "2024-07-23T02:51:15.157Z"
   },
   {
    "duration": 478,
    "start_time": "2024-07-23T02:51:15.177Z"
   },
   {
    "duration": 369,
    "start_time": "2024-07-23T02:51:15.658Z"
   },
   {
    "duration": 1249,
    "start_time": "2024-07-23T02:51:16.030Z"
   },
   {
    "duration": 1192,
    "start_time": "2024-07-23T02:51:17.286Z"
   },
   {
    "duration": 366,
    "start_time": "2024-07-23T02:51:18.480Z"
   },
   {
    "duration": 379,
    "start_time": "2024-07-23T02:51:18.850Z"
   },
   {
    "duration": 7,
    "start_time": "2024-07-23T02:51:19.232Z"
   },
   {
    "duration": 15,
    "start_time": "2024-07-23T02:51:19.242Z"
   },
   {
    "duration": 63,
    "start_time": "2024-07-23T02:51:19.261Z"
   },
   {
    "duration": 8,
    "start_time": "2024-07-23T02:51:19.329Z"
   },
   {
    "duration": 13,
    "start_time": "2024-07-23T02:51:19.340Z"
   },
   {
    "duration": 4,
    "start_time": "2024-07-23T02:51:19.356Z"
   },
   {
    "duration": 12,
    "start_time": "2024-07-23T02:52:20.389Z"
   },
   {
    "duration": 15,
    "start_time": "2024-07-23T02:52:28.907Z"
   },
   {
    "duration": 32,
    "start_time": "2024-07-23T02:54:29.278Z"
   },
   {
    "duration": 1558,
    "start_time": "2024-07-23T02:54:47.595Z"
   },
   {
    "duration": 879,
    "start_time": "2024-07-23T02:54:57.603Z"
   },
   {
    "duration": 12,
    "start_time": "2024-07-23T02:55:27.821Z"
   },
   {
    "duration": 840,
    "start_time": "2024-07-23T02:55:29.128Z"
   },
   {
    "duration": 5,
    "start_time": "2024-07-23T02:56:13.902Z"
   },
   {
    "duration": 666,
    "start_time": "2024-07-23T02:58:38.906Z"
   },
   {
    "duration": 1569,
    "start_time": "2024-07-23T02:58:46.414Z"
   },
   {
    "duration": 123,
    "start_time": "2024-07-23T02:59:57.144Z"
   },
   {
    "duration": 1218,
    "start_time": "2024-07-23T03:00:11.639Z"
   },
   {
    "duration": 1246,
    "start_time": "2024-07-23T03:04:22.047Z"
   },
   {
    "duration": 319,
    "start_time": "2024-07-23T03:05:17.799Z"
   },
   {
    "duration": 1789,
    "start_time": "2024-07-23T03:05:23.410Z"
   },
   {
    "duration": 38,
    "start_time": "2024-07-23T03:05:25.204Z"
   },
   {
    "duration": 14,
    "start_time": "2024-07-23T03:05:25.246Z"
   },
   {
    "duration": 6,
    "start_time": "2024-07-23T03:05:25.263Z"
   },
   {
    "duration": 11,
    "start_time": "2024-07-23T03:05:25.276Z"
   },
   {
    "duration": 44,
    "start_time": "2024-07-23T03:05:25.289Z"
   },
   {
    "duration": 469,
    "start_time": "2024-07-23T03:05:25.335Z"
   },
   {
    "duration": 355,
    "start_time": "2024-07-23T03:05:25.808Z"
   },
   {
    "duration": 1201,
    "start_time": "2024-07-23T03:05:26.166Z"
   },
   {
    "duration": 1136,
    "start_time": "2024-07-23T03:05:27.370Z"
   },
   {
    "duration": 435,
    "start_time": "2024-07-23T03:05:28.509Z"
   },
   {
    "duration": 379,
    "start_time": "2024-07-23T03:05:28.947Z"
   },
   {
    "duration": 7,
    "start_time": "2024-07-23T03:05:29.330Z"
   },
   {
    "duration": 18,
    "start_time": "2024-07-23T03:05:29.345Z"
   },
   {
    "duration": 58,
    "start_time": "2024-07-23T03:05:29.366Z"
   },
   {
    "duration": 7,
    "start_time": "2024-07-23T03:05:29.427Z"
   },
   {
    "duration": 11,
    "start_time": "2024-07-23T03:05:29.437Z"
   },
   {
    "duration": 19,
    "start_time": "2024-07-23T03:05:29.451Z"
   },
   {
    "duration": 1523,
    "start_time": "2024-07-23T03:06:06.594Z"
   },
   {
    "duration": 32,
    "start_time": "2024-07-23T03:06:08.120Z"
   },
   {
    "duration": 15,
    "start_time": "2024-07-23T03:06:08.155Z"
   },
   {
    "duration": 5,
    "start_time": "2024-07-23T03:06:08.173Z"
   },
   {
    "duration": 46,
    "start_time": "2024-07-23T03:06:08.182Z"
   },
   {
    "duration": 14,
    "start_time": "2024-07-23T03:06:08.230Z"
   },
   {
    "duration": 412,
    "start_time": "2024-07-23T03:06:08.247Z"
   },
   {
    "duration": 334,
    "start_time": "2024-07-23T03:06:08.663Z"
   },
   {
    "duration": 1198,
    "start_time": "2024-07-23T03:06:09.000Z"
   },
   {
    "duration": 1094,
    "start_time": "2024-07-23T03:06:10.204Z"
   },
   {
    "duration": 430,
    "start_time": "2024-07-23T03:06:11.301Z"
   },
   {
    "duration": 365,
    "start_time": "2024-07-23T03:06:11.735Z"
   },
   {
    "duration": 6,
    "start_time": "2024-07-23T03:06:12.103Z"
   },
   {
    "duration": 13,
    "start_time": "2024-07-23T03:06:12.123Z"
   },
   {
    "duration": 24,
    "start_time": "2024-07-23T03:06:12.138Z"
   },
   {
    "duration": 6,
    "start_time": "2024-07-23T03:06:12.166Z"
   },
   {
    "duration": 50,
    "start_time": "2024-07-23T03:06:12.175Z"
   },
   {
    "duration": 13,
    "start_time": "2024-07-23T03:06:12.228Z"
   },
   {
    "duration": 1524,
    "start_time": "2024-07-23T03:06:39.831Z"
   },
   {
    "duration": 33,
    "start_time": "2024-07-23T03:06:41.358Z"
   },
   {
    "duration": 30,
    "start_time": "2024-07-23T03:06:41.394Z"
   },
   {
    "duration": 5,
    "start_time": "2024-07-23T03:06:41.427Z"
   },
   {
    "duration": 12,
    "start_time": "2024-07-23T03:06:41.438Z"
   },
   {
    "duration": 14,
    "start_time": "2024-07-23T03:06:41.453Z"
   },
   {
    "duration": 449,
    "start_time": "2024-07-23T03:06:41.470Z"
   },
   {
    "duration": 340,
    "start_time": "2024-07-23T03:06:41.923Z"
   },
   {
    "duration": 1139,
    "start_time": "2024-07-23T03:06:42.266Z"
   },
   {
    "duration": 1095,
    "start_time": "2024-07-23T03:06:43.408Z"
   },
   {
    "duration": 441,
    "start_time": "2024-07-23T03:06:44.506Z"
   },
   {
    "duration": 358,
    "start_time": "2024-07-23T03:06:44.950Z"
   },
   {
    "duration": 13,
    "start_time": "2024-07-23T03:06:45.311Z"
   },
   {
    "duration": 13,
    "start_time": "2024-07-23T03:06:45.330Z"
   },
   {
    "duration": 24,
    "start_time": "2024-07-23T03:06:45.345Z"
   },
   {
    "duration": 7,
    "start_time": "2024-07-23T03:06:45.371Z"
   },
   {
    "duration": 48,
    "start_time": "2024-07-23T03:06:45.382Z"
   },
   {
    "duration": 12,
    "start_time": "2024-07-23T03:06:45.433Z"
   },
   {
    "duration": 1485,
    "start_time": "2024-07-23T03:37:40.950Z"
   },
   {
    "duration": 39,
    "start_time": "2024-07-23T03:37:42.439Z"
   },
   {
    "duration": 15,
    "start_time": "2024-07-23T03:37:42.481Z"
   },
   {
    "duration": 5,
    "start_time": "2024-07-23T03:37:42.522Z"
   },
   {
    "duration": 12,
    "start_time": "2024-07-23T03:37:42.530Z"
   },
   {
    "duration": 13,
    "start_time": "2024-07-23T03:37:42.545Z"
   },
   {
    "duration": 434,
    "start_time": "2024-07-23T03:37:42.561Z"
   },
   {
    "duration": 340,
    "start_time": "2024-07-23T03:37:42.998Z"
   },
   {
    "duration": 1133,
    "start_time": "2024-07-23T03:37:43.342Z"
   },
   {
    "duration": 2347,
    "start_time": "2024-07-23T03:37:44.480Z"
   },
   {
    "duration": 1192,
    "start_time": "2024-07-23T03:37:46.830Z"
   },
   {
    "duration": 817,
    "start_time": "2024-07-23T03:37:48.026Z"
   },
   {
    "duration": 9,
    "start_time": "2024-07-23T03:37:48.846Z"
   },
   {
    "duration": 74,
    "start_time": "2024-07-23T03:37:48.860Z"
   },
   {
    "duration": 25,
    "start_time": "2024-07-23T03:37:48.938Z"
   },
   {
    "duration": 57,
    "start_time": "2024-07-23T03:37:48.967Z"
   },
   {
    "duration": 12,
    "start_time": "2024-07-23T03:37:49.030Z"
   },
   {
    "duration": 13,
    "start_time": "2024-07-23T03:37:49.046Z"
   },
   {
    "duration": 4340196,
    "start_time": "2024-07-23T03:37:49.063Z"
   },
   {
    "duration": 1209,
    "start_time": "2024-07-23T07:01:06.807Z"
   },
   {
    "duration": 10,
    "start_time": "2024-07-23T07:01:13.534Z"
   },
   {
    "duration": 24,
    "start_time": "2024-07-23T07:01:18.552Z"
   },
   {
    "duration": 18,
    "start_time": "2024-07-23T07:02:15.328Z"
   },
   {
    "duration": 23,
    "start_time": "2024-07-23T07:02:16.372Z"
   },
   {
    "duration": 7,
    "start_time": "2024-07-23T07:02:21.252Z"
   },
   {
    "duration": 9,
    "start_time": "2024-07-23T07:02:22.421Z"
   },
   {
    "duration": 15,
    "start_time": "2024-07-23T07:02:25.862Z"
   },
   {
    "duration": 1396,
    "start_time": "2024-07-23T07:03:31.148Z"
   },
   {
    "duration": 1404,
    "start_time": "2024-07-23T07:04:07.395Z"
   },
   {
    "duration": 1396,
    "start_time": "2024-07-23T07:04:18.185Z"
   },
   {
    "duration": 1478,
    "start_time": "2024-07-23T07:04:31.306Z"
   },
   {
    "duration": 1123,
    "start_time": "2024-07-23T07:04:44.863Z"
   },
   {
    "duration": 990,
    "start_time": "2024-07-23T07:04:52.133Z"
   },
   {
    "duration": 843,
    "start_time": "2024-07-23T07:04:56.456Z"
   },
   {
    "duration": 989,
    "start_time": "2024-07-23T07:05:01.136Z"
   },
   {
    "duration": 1118,
    "start_time": "2024-07-23T07:05:04.505Z"
   },
   {
    "duration": 1282,
    "start_time": "2024-07-23T07:05:09.496Z"
   },
   {
    "duration": 974,
    "start_time": "2024-07-23T07:05:17.239Z"
   },
   {
    "duration": 1124,
    "start_time": "2024-07-23T07:05:22.075Z"
   },
   {
    "duration": 1054,
    "start_time": "2024-07-23T07:05:26.741Z"
   },
   {
    "duration": 1051,
    "start_time": "2024-07-23T07:05:32.063Z"
   },
   {
    "duration": 1055,
    "start_time": "2024-07-23T07:05:38.672Z"
   },
   {
    "duration": 1058,
    "start_time": "2024-07-23T07:05:47.068Z"
   },
   {
    "duration": 1052,
    "start_time": "2024-07-23T07:05:52.465Z"
   },
   {
    "duration": 1071,
    "start_time": "2024-07-23T07:05:57.296Z"
   },
   {
    "duration": 1080,
    "start_time": "2024-07-23T07:06:01.366Z"
   },
   {
    "duration": 1054,
    "start_time": "2024-07-23T07:06:05.680Z"
   },
   {
    "duration": 668,
    "start_time": "2024-07-23T07:06:10.663Z"
   },
   {
    "duration": 798,
    "start_time": "2024-07-23T07:06:16.273Z"
   },
   {
    "duration": 661,
    "start_time": "2024-07-23T07:06:21.562Z"
   },
   {
    "duration": 529,
    "start_time": "2024-07-23T07:06:24.865Z"
   },
   {
    "duration": 409,
    "start_time": "2024-07-23T07:06:28.818Z"
   },
   {
    "duration": 271,
    "start_time": "2024-07-23T07:06:33.188Z"
   },
   {
    "duration": 142,
    "start_time": "2024-07-23T07:06:37.993Z"
   },
   {
    "duration": 401,
    "start_time": "2024-07-23T07:06:42.313Z"
   },
   {
    "duration": 276,
    "start_time": "2024-07-23T07:06:46.545Z"
   },
   {
    "duration": 146,
    "start_time": "2024-07-23T07:06:49.491Z"
   },
   {
    "duration": 51,
    "start_time": "2024-07-23T07:06:53.686Z"
   },
   {
    "duration": 66,
    "start_time": "2024-07-23T07:06:57.518Z"
   },
   {
    "duration": 151,
    "start_time": "2024-07-23T07:07:00.379Z"
   },
   {
    "duration": 158,
    "start_time": "2024-07-23T07:07:04.707Z"
   },
   {
    "duration": 163,
    "start_time": "2024-07-23T07:07:08.498Z"
   },
   {
    "duration": 168,
    "start_time": "2024-07-23T07:07:11.977Z"
   },
   {
    "duration": 171,
    "start_time": "2024-07-23T07:07:17.904Z"
   },
   {
    "duration": 177,
    "start_time": "2024-07-23T07:07:21.726Z"
   },
   {
    "duration": 171,
    "start_time": "2024-07-23T07:07:26.749Z"
   },
   {
    "duration": 170,
    "start_time": "2024-07-23T07:07:30.374Z"
   },
   {
    "duration": 167,
    "start_time": "2024-07-23T07:07:34.379Z"
   },
   {
    "duration": 199,
    "start_time": "2024-07-23T07:07:40.363Z"
   },
   {
    "duration": 185,
    "start_time": "2024-07-23T07:07:46.669Z"
   },
   {
    "duration": 168,
    "start_time": "2024-07-23T07:07:50.481Z"
   },
   {
    "duration": 152,
    "start_time": "2024-07-23T07:07:54.217Z"
   },
   {
    "duration": 153,
    "start_time": "2024-07-23T07:07:57.380Z"
   },
   {
    "duration": 154,
    "start_time": "2024-07-23T07:08:05.884Z"
   },
   {
    "duration": 156,
    "start_time": "2024-07-23T07:08:10.794Z"
   },
   {
    "duration": 164,
    "start_time": "2024-07-23T07:08:15.628Z"
   },
   {
    "duration": 1529,
    "start_time": "2024-07-23T07:08:30.506Z"
   },
   {
    "duration": 1385,
    "start_time": "2024-07-23T07:08:40.539Z"
   },
   {
    "duration": 1500,
    "start_time": "2024-07-23T07:08:49.868Z"
   },
   {
    "duration": 1404,
    "start_time": "2024-07-23T07:08:58.558Z"
   },
   {
    "duration": 1407,
    "start_time": "2024-07-23T07:09:03.530Z"
   },
   {
    "duration": 289,
    "start_time": "2024-07-23T07:25:47.728Z"
   },
   {
    "duration": 40,
    "start_time": "2024-07-23T07:27:32.313Z"
   },
   {
    "duration": 487,
    "start_time": "2024-07-23T07:27:40.344Z"
   },
   {
    "duration": 1425,
    "start_time": "2024-07-23T07:28:57.226Z"
   },
   {
    "duration": 30,
    "start_time": "2024-07-23T07:30:55.699Z"
   },
   {
    "duration": 476,
    "start_time": "2024-07-23T07:31:04.040Z"
   },
   {
    "duration": 1687,
    "start_time": "2024-07-23T07:31:43.308Z"
   },
   {
    "duration": 38,
    "start_time": "2024-07-23T07:31:44.998Z"
   },
   {
    "duration": 14,
    "start_time": "2024-07-23T07:31:45.039Z"
   },
   {
    "duration": 6,
    "start_time": "2024-07-23T07:31:45.058Z"
   },
   {
    "duration": 13,
    "start_time": "2024-07-23T07:31:45.066Z"
   },
   {
    "duration": 51,
    "start_time": "2024-07-23T07:31:45.082Z"
   },
   {
    "duration": 407,
    "start_time": "2024-07-23T07:31:45.136Z"
   },
   {
    "duration": 337,
    "start_time": "2024-07-23T07:31:45.546Z"
   },
   {
    "duration": 1164,
    "start_time": "2024-07-23T07:31:45.886Z"
   },
   {
    "duration": 1172,
    "start_time": "2024-07-23T07:31:47.055Z"
   },
   {
    "duration": 355,
    "start_time": "2024-07-23T07:31:48.230Z"
   },
   {
    "duration": 359,
    "start_time": "2024-07-23T07:31:48.589Z"
   },
   {
    "duration": 5,
    "start_time": "2024-07-23T07:31:48.952Z"
   },
   {
    "duration": 12,
    "start_time": "2024-07-23T07:31:48.960Z"
   },
   {
    "duration": 53,
    "start_time": "2024-07-23T07:31:48.975Z"
   },
   {
    "duration": 18,
    "start_time": "2024-07-23T07:31:49.031Z"
   },
   {
    "duration": 22,
    "start_time": "2024-07-23T07:31:49.051Z"
   },
   {
    "duration": 7,
    "start_time": "2024-07-23T07:31:49.076Z"
   },
   {
    "duration": 44,
    "start_time": "2024-07-23T07:31:49.086Z"
   },
   {
    "duration": 13,
    "start_time": "2024-07-23T07:31:49.133Z"
   },
   {
    "duration": 1157,
    "start_time": "2024-07-23T07:31:49.151Z"
   },
   {
    "duration": 520,
    "start_time": "2024-07-23T07:31:50.311Z"
   },
   {
    "duration": 1276,
    "start_time": "2024-07-23T07:31:50.834Z"
   },
   {
    "duration": 361,
    "start_time": "2024-07-23T07:31:52.122Z"
   },
   {
    "duration": 8,
    "start_time": "2024-07-23T07:32:10.926Z"
   },
   {
    "duration": 7,
    "start_time": "2024-07-23T07:32:13.365Z"
   },
   {
    "duration": 19,
    "start_time": "2024-07-23T07:32:13.375Z"
   },
   {
    "duration": 16,
    "start_time": "2024-07-23T07:32:13.397Z"
   },
   {
    "duration": 21,
    "start_time": "2024-07-23T07:32:13.417Z"
   },
   {
    "duration": 6,
    "start_time": "2024-07-23T07:32:13.441Z"
   },
   {
    "duration": 10,
    "start_time": "2024-07-23T07:32:13.450Z"
   },
   {
    "duration": 12,
    "start_time": "2024-07-23T07:32:13.463Z"
   },
   {
    "duration": 1129,
    "start_time": "2024-07-23T07:32:13.479Z"
   },
   {
    "duration": 420,
    "start_time": "2024-07-23T07:32:14.612Z"
   },
   {
    "duration": 1186,
    "start_time": "2024-07-23T07:32:15.036Z"
   },
   {
    "duration": 308,
    "start_time": "2024-07-23T07:32:16.226Z"
   },
   {
    "duration": 1716,
    "start_time": "2024-07-23T07:32:46.402Z"
   },
   {
    "duration": 34,
    "start_time": "2024-07-23T07:32:48.123Z"
   },
   {
    "duration": 15,
    "start_time": "2024-07-23T07:32:48.159Z"
   },
   {
    "duration": 6,
    "start_time": "2024-07-23T07:32:48.177Z"
   },
   {
    "duration": 40,
    "start_time": "2024-07-23T07:32:48.186Z"
   },
   {
    "duration": 14,
    "start_time": "2024-07-23T07:32:48.228Z"
   },
   {
    "duration": 426,
    "start_time": "2024-07-23T07:32:48.245Z"
   },
   {
    "duration": 351,
    "start_time": "2024-07-23T07:32:48.675Z"
   },
   {
    "duration": 1190,
    "start_time": "2024-07-23T07:32:49.029Z"
   },
   {
    "duration": 1173,
    "start_time": "2024-07-23T07:32:50.228Z"
   },
   {
    "duration": 352,
    "start_time": "2024-07-23T07:32:51.405Z"
   },
   {
    "duration": 368,
    "start_time": "2024-07-23T07:32:51.760Z"
   },
   {
    "duration": 6,
    "start_time": "2024-07-23T07:32:52.131Z"
   },
   {
    "duration": 11,
    "start_time": "2024-07-23T07:32:52.140Z"
   },
   {
    "duration": 20,
    "start_time": "2024-07-23T07:32:52.154Z"
   },
   {
    "duration": 46,
    "start_time": "2024-07-23T07:32:52.177Z"
   },
   {
    "duration": 23,
    "start_time": "2024-07-23T07:32:52.225Z"
   },
   {
    "duration": 7,
    "start_time": "2024-07-23T07:32:52.251Z"
   },
   {
    "duration": 10,
    "start_time": "2024-07-23T07:32:52.262Z"
   },
   {
    "duration": 52,
    "start_time": "2024-07-23T07:32:52.275Z"
   },
   {
    "duration": 1080,
    "start_time": "2024-07-23T07:32:52.330Z"
   },
   {
    "duration": 422,
    "start_time": "2024-07-23T07:32:53.413Z"
   },
   {
    "duration": 1223,
    "start_time": "2024-07-23T07:32:53.838Z"
   },
   {
    "duration": 365,
    "start_time": "2024-07-23T07:32:55.065Z"
   },
   {
    "duration": 16,
    "start_time": "2024-07-23T07:33:15.032Z"
   },
   {
    "duration": 21,
    "start_time": "2024-07-23T07:33:15.892Z"
   },
   {
    "duration": 16,
    "start_time": "2024-07-23T07:33:21.821Z"
   },
   {
    "duration": 6,
    "start_time": "2024-07-23T07:33:21.842Z"
   },
   {
    "duration": 11,
    "start_time": "2024-07-23T07:33:21.851Z"
   },
   {
    "duration": 12,
    "start_time": "2024-07-23T07:33:21.866Z"
   },
   {
    "duration": 1084,
    "start_time": "2024-07-23T07:33:21.923Z"
   },
   {
    "duration": 421,
    "start_time": "2024-07-23T07:33:23.010Z"
   },
   {
    "duration": 1164,
    "start_time": "2024-07-23T07:33:23.434Z"
   },
   {
    "duration": 320,
    "start_time": "2024-07-23T07:33:24.601Z"
   },
   {
    "duration": 17,
    "start_time": "2024-07-23T07:34:08.396Z"
   },
   {
    "duration": 1707,
    "start_time": "2024-07-23T07:34:18.938Z"
   },
   {
    "duration": 33,
    "start_time": "2024-07-23T07:34:20.648Z"
   },
   {
    "duration": 14,
    "start_time": "2024-07-23T07:34:20.686Z"
   },
   {
    "duration": 22,
    "start_time": "2024-07-23T07:34:20.704Z"
   },
   {
    "duration": 14,
    "start_time": "2024-07-23T07:34:20.729Z"
   },
   {
    "duration": 13,
    "start_time": "2024-07-23T07:34:20.745Z"
   },
   {
    "duration": 463,
    "start_time": "2024-07-23T07:34:20.761Z"
   },
   {
    "duration": 346,
    "start_time": "2024-07-23T07:34:21.227Z"
   },
   {
    "duration": 1121,
    "start_time": "2024-07-23T07:34:21.576Z"
   },
   {
    "duration": 1155,
    "start_time": "2024-07-23T07:34:22.706Z"
   },
   {
    "duration": 361,
    "start_time": "2024-07-23T07:34:23.864Z"
   },
   {
    "duration": 361,
    "start_time": "2024-07-23T07:34:24.228Z"
   },
   {
    "duration": 5,
    "start_time": "2024-07-23T07:34:24.592Z"
   },
   {
    "duration": 28,
    "start_time": "2024-07-23T07:34:24.600Z"
   },
   {
    "duration": 21,
    "start_time": "2024-07-23T07:34:24.631Z"
   },
   {
    "duration": 17,
    "start_time": "2024-07-23T07:34:24.655Z"
   },
   {
    "duration": 6,
    "start_time": "2024-07-23T07:34:24.675Z"
   },
   {
    "duration": 46,
    "start_time": "2024-07-23T07:34:24.684Z"
   },
   {
    "duration": 14,
    "start_time": "2024-07-23T07:34:24.733Z"
   },
   {
    "duration": 1129,
    "start_time": "2024-07-23T07:34:24.751Z"
   },
   {
    "duration": 446,
    "start_time": "2024-07-23T07:34:25.885Z"
   },
   {
    "duration": 1172,
    "start_time": "2024-07-23T07:34:26.334Z"
   },
   {
    "duration": 372,
    "start_time": "2024-07-23T07:34:27.509Z"
   },
   {
    "duration": 5,
    "start_time": "2024-07-23T07:35:34.036Z"
   },
   {
    "duration": 8,
    "start_time": "2024-07-23T07:35:35.238Z"
   },
   {
    "duration": 19,
    "start_time": "2024-07-23T07:35:38.281Z"
   },
   {
    "duration": 1681,
    "start_time": "2024-07-23T07:35:50.221Z"
   },
   {
    "duration": 41,
    "start_time": "2024-07-23T07:35:51.905Z"
   },
   {
    "duration": 15,
    "start_time": "2024-07-23T07:35:51.949Z"
   },
   {
    "duration": 5,
    "start_time": "2024-07-23T07:35:51.968Z"
   },
   {
    "duration": 12,
    "start_time": "2024-07-23T07:35:51.975Z"
   },
   {
    "duration": 14,
    "start_time": "2024-07-23T07:35:52.022Z"
   },
   {
    "duration": 422,
    "start_time": "2024-07-23T07:35:52.038Z"
   },
   {
    "duration": 329,
    "start_time": "2024-07-23T07:35:52.463Z"
   },
   {
    "duration": 1137,
    "start_time": "2024-07-23T07:35:52.795Z"
   },
   {
    "duration": 1128,
    "start_time": "2024-07-23T07:35:53.939Z"
   },
   {
    "duration": 349,
    "start_time": "2024-07-23T07:35:55.070Z"
   },
   {
    "duration": 356,
    "start_time": "2024-07-23T07:35:55.424Z"
   },
   {
    "duration": 6,
    "start_time": "2024-07-23T07:35:55.784Z"
   },
   {
    "duration": 34,
    "start_time": "2024-07-23T07:35:55.793Z"
   },
   {
    "duration": 22,
    "start_time": "2024-07-23T07:35:55.829Z"
   },
   {
    "duration": 18,
    "start_time": "2024-07-23T07:35:55.854Z"
   },
   {
    "duration": 7,
    "start_time": "2024-07-23T07:35:55.875Z"
   },
   {
    "duration": 43,
    "start_time": "2024-07-23T07:35:55.884Z"
   },
   {
    "duration": 13,
    "start_time": "2024-07-23T07:35:55.930Z"
   },
   {
    "duration": 1217,
    "start_time": "2024-07-23T07:35:55.947Z"
   },
   {
    "duration": 471,
    "start_time": "2024-07-23T07:35:57.167Z"
   },
   {
    "duration": 1217,
    "start_time": "2024-07-23T07:35:57.641Z"
   },
   {
    "duration": 381,
    "start_time": "2024-07-23T07:35:58.862Z"
   },
   {
    "duration": 1719,
    "start_time": "2024-07-23T07:36:19.597Z"
   },
   {
    "duration": 35,
    "start_time": "2024-07-23T07:36:21.320Z"
   },
   {
    "duration": 15,
    "start_time": "2024-07-23T07:36:21.358Z"
   },
   {
    "duration": 4,
    "start_time": "2024-07-23T07:36:21.378Z"
   },
   {
    "duration": 37,
    "start_time": "2024-07-23T07:36:21.386Z"
   },
   {
    "duration": 13,
    "start_time": "2024-07-23T07:36:21.426Z"
   },
   {
    "duration": 425,
    "start_time": "2024-07-23T07:36:21.442Z"
   },
   {
    "duration": 330,
    "start_time": "2024-07-23T07:36:21.871Z"
   },
   {
    "duration": 1153,
    "start_time": "2024-07-23T07:36:22.204Z"
   },
   {
    "duration": 1177,
    "start_time": "2024-07-23T07:36:23.365Z"
   },
   {
    "duration": 353,
    "start_time": "2024-07-23T07:36:24.545Z"
   },
   {
    "duration": 359,
    "start_time": "2024-07-23T07:36:24.902Z"
   },
   {
    "duration": 7,
    "start_time": "2024-07-23T07:36:25.264Z"
   },
   {
    "duration": 12,
    "start_time": "2024-07-23T07:36:25.274Z"
   },
   {
    "duration": 49,
    "start_time": "2024-07-23T07:36:25.289Z"
   },
   {
    "duration": 16,
    "start_time": "2024-07-23T07:36:25.341Z"
   },
   {
    "duration": 7,
    "start_time": "2024-07-23T07:36:25.360Z"
   },
   {
    "duration": 13,
    "start_time": "2024-07-23T07:36:25.369Z"
   },
   {
    "duration": 46,
    "start_time": "2024-07-23T07:36:25.385Z"
   },
   {
    "duration": 1149,
    "start_time": "2024-07-23T07:36:25.434Z"
   },
   {
    "duration": 460,
    "start_time": "2024-07-23T07:36:26.585Z"
   },
   {
    "duration": 1224,
    "start_time": "2024-07-23T07:36:27.048Z"
   },
   {
    "duration": 369,
    "start_time": "2024-07-23T07:36:28.275Z"
   },
   {
    "duration": 1688,
    "start_time": "2024-07-23T07:37:12.909Z"
   },
   {
    "duration": 36,
    "start_time": "2024-07-23T07:37:14.601Z"
   },
   {
    "duration": 14,
    "start_time": "2024-07-23T07:37:14.640Z"
   },
   {
    "duration": 5,
    "start_time": "2024-07-23T07:37:14.658Z"
   },
   {
    "duration": 11,
    "start_time": "2024-07-23T07:37:14.669Z"
   },
   {
    "duration": 50,
    "start_time": "2024-07-23T07:37:14.683Z"
   },
   {
    "duration": 419,
    "start_time": "2024-07-23T07:37:14.736Z"
   },
   {
    "duration": 338,
    "start_time": "2024-07-23T07:37:15.159Z"
   },
   {
    "duration": 1172,
    "start_time": "2024-07-23T07:37:15.500Z"
   },
   {
    "duration": 1196,
    "start_time": "2024-07-23T07:37:16.675Z"
   },
   {
    "duration": 356,
    "start_time": "2024-07-23T07:37:17.874Z"
   },
   {
    "duration": 359,
    "start_time": "2024-07-23T07:37:18.233Z"
   },
   {
    "duration": 6,
    "start_time": "2024-07-23T07:37:18.595Z"
   },
   {
    "duration": 12,
    "start_time": "2024-07-23T07:37:18.622Z"
   },
   {
    "duration": 23,
    "start_time": "2024-07-23T07:37:18.637Z"
   },
   {
    "duration": 19,
    "start_time": "2024-07-23T07:37:18.663Z"
   },
   {
    "duration": 6,
    "start_time": "2024-07-23T07:37:18.684Z"
   },
   {
    "duration": 12,
    "start_time": "2024-07-23T07:37:18.724Z"
   },
   {
    "duration": 13,
    "start_time": "2024-07-23T07:37:18.738Z"
   },
   {
    "duration": 1327,
    "start_time": "2024-07-23T07:37:18.754Z"
   },
   {
    "duration": 651,
    "start_time": "2024-07-23T07:37:20.084Z"
   },
   {
    "duration": 1308,
    "start_time": "2024-07-23T07:37:20.738Z"
   },
   {
    "duration": 386,
    "start_time": "2024-07-23T07:37:22.049Z"
   },
   {
    "duration": 1644,
    "start_time": "2024-07-23T07:37:46.064Z"
   },
   {
    "duration": 37,
    "start_time": "2024-07-23T07:37:47.711Z"
   },
   {
    "duration": 16,
    "start_time": "2024-07-23T07:37:47.750Z"
   },
   {
    "duration": 5,
    "start_time": "2024-07-23T07:37:47.769Z"
   },
   {
    "duration": 47,
    "start_time": "2024-07-23T07:37:47.781Z"
   },
   {
    "duration": 17,
    "start_time": "2024-07-23T07:37:47.831Z"
   },
   {
    "duration": 424,
    "start_time": "2024-07-23T07:37:47.851Z"
   },
   {
    "duration": 333,
    "start_time": "2024-07-23T07:37:48.279Z"
   },
   {
    "duration": 1151,
    "start_time": "2024-07-23T07:37:48.615Z"
   },
   {
    "duration": 1213,
    "start_time": "2024-07-23T07:37:49.769Z"
   },
   {
    "duration": 357,
    "start_time": "2024-07-23T07:37:50.985Z"
   },
   {
    "duration": 361,
    "start_time": "2024-07-23T07:37:51.344Z"
   },
   {
    "duration": 6,
    "start_time": "2024-07-23T07:37:51.708Z"
   },
   {
    "duration": 13,
    "start_time": "2024-07-23T07:37:51.723Z"
   },
   {
    "duration": 22,
    "start_time": "2024-07-23T07:37:51.739Z"
   },
   {
    "duration": 15,
    "start_time": "2024-07-23T07:37:51.764Z"
   },
   {
    "duration": 48,
    "start_time": "2024-07-23T07:37:51.781Z"
   },
   {
    "duration": 11,
    "start_time": "2024-07-23T07:37:51.831Z"
   },
   {
    "duration": 12,
    "start_time": "2024-07-23T07:37:51.844Z"
   },
   {
    "duration": 1020,
    "start_time": "2024-07-23T07:37:51.859Z"
   },
   {
    "duration": 358,
    "start_time": "2024-07-23T07:37:52.882Z"
   },
   {
    "duration": 1148,
    "start_time": "2024-07-23T07:37:53.243Z"
   },
   {
    "duration": 376,
    "start_time": "2024-07-23T07:37:54.394Z"
   },
   {
    "duration": 1689,
    "start_time": "2024-07-23T07:43:29.834Z"
   },
   {
    "duration": 32,
    "start_time": "2024-07-23T07:43:31.527Z"
   },
   {
    "duration": 14,
    "start_time": "2024-07-23T07:43:31.562Z"
   },
   {
    "duration": 5,
    "start_time": "2024-07-23T07:43:31.580Z"
   },
   {
    "duration": 44,
    "start_time": "2024-07-23T07:43:31.589Z"
   },
   {
    "duration": 17,
    "start_time": "2024-07-23T07:43:31.636Z"
   },
   {
    "duration": 428,
    "start_time": "2024-07-23T07:43:31.659Z"
   },
   {
    "duration": 339,
    "start_time": "2024-07-23T07:43:32.091Z"
   },
   {
    "duration": 1133,
    "start_time": "2024-07-23T07:43:32.432Z"
   },
   {
    "duration": 1184,
    "start_time": "2024-07-23T07:43:33.570Z"
   },
   {
    "duration": 358,
    "start_time": "2024-07-23T07:43:34.758Z"
   },
   {
    "duration": 358,
    "start_time": "2024-07-23T07:43:35.124Z"
   },
   {
    "duration": 6,
    "start_time": "2024-07-23T07:43:35.485Z"
   },
   {
    "duration": 36,
    "start_time": "2024-07-23T07:43:35.494Z"
   },
   {
    "duration": 23,
    "start_time": "2024-07-23T07:43:35.533Z"
   },
   {
    "duration": 17,
    "start_time": "2024-07-23T07:43:35.559Z"
   },
   {
    "duration": 6,
    "start_time": "2024-07-23T07:43:35.579Z"
   },
   {
    "duration": 43,
    "start_time": "2024-07-23T07:43:35.588Z"
   },
   {
    "duration": 11,
    "start_time": "2024-07-23T07:43:35.635Z"
   },
   {
    "duration": 1321,
    "start_time": "2024-07-23T07:43:35.649Z"
   },
   {
    "duration": 474,
    "start_time": "2024-07-23T07:43:36.974Z"
   },
   {
    "duration": 1973,
    "start_time": "2024-07-23T07:43:37.451Z"
   },
   {
    "duration": 408,
    "start_time": "2024-07-23T07:43:39.427Z"
   },
   {
    "duration": 1638,
    "start_time": "2024-07-23T08:01:43.667Z"
   },
   {
    "duration": 38,
    "start_time": "2024-07-23T08:01:45.309Z"
   },
   {
    "duration": 14,
    "start_time": "2024-07-23T08:01:45.350Z"
   },
   {
    "duration": 5,
    "start_time": "2024-07-23T08:01:45.370Z"
   },
   {
    "duration": 42,
    "start_time": "2024-07-23T08:01:45.381Z"
   },
   {
    "duration": 13,
    "start_time": "2024-07-23T08:01:45.426Z"
   },
   {
    "duration": 430,
    "start_time": "2024-07-23T08:01:45.442Z"
   },
   {
    "duration": 358,
    "start_time": "2024-07-23T08:01:45.874Z"
   },
   {
    "duration": 1151,
    "start_time": "2024-07-23T08:01:46.236Z"
   },
   {
    "duration": 1183,
    "start_time": "2024-07-23T08:01:47.390Z"
   },
   {
    "duration": 371,
    "start_time": "2024-07-23T08:01:48.576Z"
   },
   {
    "duration": 373,
    "start_time": "2024-07-23T08:01:48.950Z"
   },
   {
    "duration": 6,
    "start_time": "2024-07-23T08:01:49.326Z"
   },
   {
    "duration": 16,
    "start_time": "2024-07-23T08:01:49.339Z"
   },
   {
    "duration": 25,
    "start_time": "2024-07-23T08:01:49.358Z"
   },
   {
    "duration": 51,
    "start_time": "2024-07-23T08:01:49.386Z"
   },
   {
    "duration": 9,
    "start_time": "2024-07-23T08:01:49.440Z"
   },
   {
    "duration": 13,
    "start_time": "2024-07-23T08:01:49.452Z"
   },
   {
    "duration": 55,
    "start_time": "2024-07-23T08:01:49.470Z"
   },
   {
    "duration": 1189,
    "start_time": "2024-07-23T08:01:49.528Z"
   },
   {
    "duration": 15906,
    "start_time": "2024-07-23T08:01:50.724Z"
   },
   {
    "duration": 1221,
    "start_time": "2024-07-23T08:02:06.633Z"
   },
   {
    "duration": 421,
    "start_time": "2024-07-23T08:02:07.856Z"
   },
   {
    "duration": 1638,
    "start_time": "2024-07-23T08:02:32.286Z"
   },
   {
    "duration": 32,
    "start_time": "2024-07-23T08:02:33.928Z"
   },
   {
    "duration": 19,
    "start_time": "2024-07-23T08:02:33.963Z"
   },
   {
    "duration": 7,
    "start_time": "2024-07-23T08:02:33.985Z"
   },
   {
    "duration": 11,
    "start_time": "2024-07-23T08:02:34.024Z"
   },
   {
    "duration": 13,
    "start_time": "2024-07-23T08:02:34.038Z"
   },
   {
    "duration": 432,
    "start_time": "2024-07-23T08:02:34.055Z"
   },
   {
    "duration": 332,
    "start_time": "2024-07-23T08:02:34.491Z"
   },
   {
    "duration": 1133,
    "start_time": "2024-07-23T08:02:34.825Z"
   },
   {
    "duration": 1168,
    "start_time": "2024-07-23T08:02:35.961Z"
   },
   {
    "duration": 358,
    "start_time": "2024-07-23T08:02:37.133Z"
   },
   {
    "duration": 370,
    "start_time": "2024-07-23T08:02:37.493Z"
   },
   {
    "duration": 6,
    "start_time": "2024-07-23T08:02:37.866Z"
   },
   {
    "duration": 15,
    "start_time": "2024-07-23T08:02:37.878Z"
   },
   {
    "duration": 47,
    "start_time": "2024-07-23T08:02:37.896Z"
   },
   {
    "duration": 17,
    "start_time": "2024-07-23T08:02:37.946Z"
   },
   {
    "duration": 6,
    "start_time": "2024-07-23T08:02:37.966Z"
   },
   {
    "duration": 45,
    "start_time": "2024-07-23T08:02:37.978Z"
   },
   {
    "duration": 13,
    "start_time": "2024-07-23T08:02:38.026Z"
   },
   {
    "duration": 1313,
    "start_time": "2024-07-23T08:02:38.043Z"
   },
   {
    "duration": 689,
    "start_time": "2024-07-23T08:02:39.359Z"
   },
   {
    "duration": 1472,
    "start_time": "2024-07-23T08:02:40.051Z"
   },
   {
    "duration": 382,
    "start_time": "2024-07-23T08:02:41.526Z"
   },
   {
    "duration": 5290,
    "start_time": "2024-07-23T21:45:58.833Z"
   },
   {
    "duration": 46,
    "start_time": "2024-07-23T21:46:04.126Z"
   },
   {
    "duration": 14,
    "start_time": "2024-07-23T21:46:04.174Z"
   },
   {
    "duration": 6,
    "start_time": "2024-07-23T21:46:04.191Z"
   },
   {
    "duration": 31,
    "start_time": "2024-07-23T21:46:04.202Z"
   },
   {
    "duration": 13,
    "start_time": "2024-07-23T21:46:04.236Z"
   },
   {
    "duration": 425,
    "start_time": "2024-07-23T21:46:04.252Z"
   },
   {
    "duration": 403,
    "start_time": "2024-07-23T21:46:04.681Z"
   },
   {
    "duration": 1184,
    "start_time": "2024-07-23T21:46:05.088Z"
   },
   {
    "duration": 1108,
    "start_time": "2024-07-23T21:46:06.275Z"
   },
   {
    "duration": 361,
    "start_time": "2024-07-23T21:46:07.386Z"
   },
   {
    "duration": 443,
    "start_time": "2024-07-23T21:46:07.752Z"
   },
   {
    "duration": 6,
    "start_time": "2024-07-23T21:46:08.198Z"
   },
   {
    "duration": 26,
    "start_time": "2024-07-23T21:46:08.210Z"
   },
   {
    "duration": 24,
    "start_time": "2024-07-23T21:46:08.239Z"
   },
   {
    "duration": 21,
    "start_time": "2024-07-23T21:46:08.268Z"
   },
   {
    "duration": 41,
    "start_time": "2024-07-23T21:46:08.292Z"
   },
   {
    "duration": 12,
    "start_time": "2024-07-23T21:46:08.335Z"
   },
   {
    "duration": 14,
    "start_time": "2024-07-23T21:46:08.350Z"
   },
   {
    "duration": 1314,
    "start_time": "2024-07-23T21:46:08.367Z"
   },
   {
    "duration": 474,
    "start_time": "2024-07-23T21:46:09.684Z"
   },
   {
    "duration": 1285,
    "start_time": "2024-07-23T21:46:10.161Z"
   },
   {
    "duration": 415,
    "start_time": "2024-07-23T21:46:11.450Z"
   },
   {
    "duration": 1219,
    "start_time": "2024-07-23T21:47:03.937Z"
   },
   {
    "duration": 1685,
    "start_time": "2024-07-23T21:47:21.617Z"
   },
   {
    "duration": 41,
    "start_time": "2024-07-23T21:47:23.306Z"
   },
   {
    "duration": 22,
    "start_time": "2024-07-23T21:47:23.350Z"
   },
   {
    "duration": 5,
    "start_time": "2024-07-23T21:47:23.377Z"
   },
   {
    "duration": 44,
    "start_time": "2024-07-23T21:47:23.389Z"
   },
   {
    "duration": 14,
    "start_time": "2024-07-23T21:47:23.435Z"
   },
   {
    "duration": 417,
    "start_time": "2024-07-23T21:47:23.452Z"
   },
   {
    "duration": 340,
    "start_time": "2024-07-23T21:47:23.872Z"
   },
   {
    "duration": 1156,
    "start_time": "2024-07-23T21:47:24.215Z"
   },
   {
    "duration": 1180,
    "start_time": "2024-07-23T21:47:25.374Z"
   },
   {
    "duration": 350,
    "start_time": "2024-07-23T21:47:26.557Z"
   },
   {
    "duration": 375,
    "start_time": "2024-07-23T21:47:26.910Z"
   },
   {
    "duration": 6,
    "start_time": "2024-07-23T21:47:27.288Z"
   },
   {
    "duration": 36,
    "start_time": "2024-07-23T21:47:27.300Z"
   },
   {
    "duration": 22,
    "start_time": "2024-07-23T21:47:27.339Z"
   },
   {
    "duration": 18,
    "start_time": "2024-07-23T21:47:27.364Z"
   },
   {
    "duration": 9,
    "start_time": "2024-07-23T21:47:27.385Z"
   },
   {
    "duration": 10,
    "start_time": "2024-07-23T21:47:27.433Z"
   },
   {
    "duration": 13,
    "start_time": "2024-07-23T21:47:27.445Z"
   },
   {
    "duration": 1722,
    "start_time": "2024-07-23T21:47:27.460Z"
   },
   {
    "duration": 0,
    "start_time": "2024-07-23T21:47:29.185Z"
   },
   {
    "duration": 0,
    "start_time": "2024-07-23T21:47:29.187Z"
   },
   {
    "duration": 0,
    "start_time": "2024-07-23T21:47:29.189Z"
   },
   {
    "duration": 1648,
    "start_time": "2024-07-23T21:48:12.158Z"
   },
   {
    "duration": 36,
    "start_time": "2024-07-23T21:48:13.810Z"
   },
   {
    "duration": 14,
    "start_time": "2024-07-23T21:48:13.849Z"
   },
   {
    "duration": 6,
    "start_time": "2024-07-23T21:48:13.866Z"
   },
   {
    "duration": 11,
    "start_time": "2024-07-23T21:48:13.876Z"
   },
   {
    "duration": 49,
    "start_time": "2024-07-23T21:48:13.890Z"
   },
   {
    "duration": 442,
    "start_time": "2024-07-23T21:48:13.943Z"
   },
   {
    "duration": 329,
    "start_time": "2024-07-23T21:48:14.389Z"
   },
   {
    "duration": 1172,
    "start_time": "2024-07-23T21:48:14.721Z"
   },
   {
    "duration": 1181,
    "start_time": "2024-07-23T21:48:15.896Z"
   },
   {
    "duration": 373,
    "start_time": "2024-07-23T21:48:17.079Z"
   },
   {
    "duration": 363,
    "start_time": "2024-07-23T21:48:17.455Z"
   },
   {
    "duration": 5,
    "start_time": "2024-07-23T21:48:17.832Z"
   },
   {
    "duration": 14,
    "start_time": "2024-07-23T21:48:17.843Z"
   },
   {
    "duration": 24,
    "start_time": "2024-07-23T21:48:17.859Z"
   },
   {
    "duration": 49,
    "start_time": "2024-07-23T21:48:17.886Z"
   },
   {
    "duration": 7,
    "start_time": "2024-07-23T21:48:17.937Z"
   },
   {
    "duration": 10,
    "start_time": "2024-07-23T21:48:17.947Z"
   },
   {
    "duration": 12,
    "start_time": "2024-07-23T21:48:17.960Z"
   },
   {
    "duration": 1327,
    "start_time": "2024-07-23T21:48:17.976Z"
   },
   {
    "duration": 434,
    "start_time": "2024-07-23T21:48:19.307Z"
   },
   {
    "duration": 1263,
    "start_time": "2024-07-23T21:48:19.744Z"
   },
   {
    "duration": 390,
    "start_time": "2024-07-23T21:48:21.010Z"
   },
   {
    "duration": 2201,
    "start_time": "2024-07-23T21:48:42.572Z"
   },
   {
    "duration": 2318,
    "start_time": "2024-07-23T21:48:52.329Z"
   },
   {
    "duration": 1202,
    "start_time": "2024-07-23T21:48:57.951Z"
   },
   {
    "duration": 10944,
    "start_time": "2024-07-23T21:49:02.447Z"
   },
   {
    "duration": 12690,
    "start_time": "2024-07-23T21:49:21.857Z"
   },
   {
    "duration": 8942,
    "start_time": "2024-07-23T21:49:45.704Z"
   },
   {
    "duration": 6892,
    "start_time": "2024-07-23T21:50:09.753Z"
   },
   {
    "duration": 5040,
    "start_time": "2024-07-23T21:50:21.018Z"
   },
   {
    "duration": 9052,
    "start_time": "2024-07-23T21:50:30.285Z"
   },
   {
    "duration": 7206,
    "start_time": "2024-07-23T21:50:51.627Z"
   },
   {
    "duration": 6309,
    "start_time": "2024-07-23T21:51:03.843Z"
   },
   {
    "duration": 6344,
    "start_time": "2024-07-23T21:51:15.468Z"
   },
   {
    "duration": 8751,
    "start_time": "2024-07-23T21:51:28.192Z"
   },
   {
    "duration": 6850,
    "start_time": "2024-07-23T21:51:46.598Z"
   },
   {
    "duration": 6679,
    "start_time": "2024-07-23T21:51:55.831Z"
   },
   {
    "duration": 9804,
    "start_time": "2024-07-23T21:52:05.863Z"
   },
   {
    "duration": 5040,
    "start_time": "2024-07-23T21:52:22.909Z"
   },
   {
    "duration": 4464,
    "start_time": "2024-07-23T21:52:35.687Z"
   },
   {
    "duration": 7535,
    "start_time": "2024-07-23T21:52:46.264Z"
   },
   {
    "duration": 4988,
    "start_time": "2024-07-23T21:52:56.322Z"
   },
   {
    "duration": 3838,
    "start_time": "2024-07-23T21:53:06.997Z"
   },
   {
    "duration": 3385,
    "start_time": "2024-07-23T21:53:14.529Z"
   },
   {
    "duration": 1676,
    "start_time": "2024-07-23T21:59:19.848Z"
   },
   {
    "duration": 39,
    "start_time": "2024-07-23T21:59:21.528Z"
   },
   {
    "duration": 16,
    "start_time": "2024-07-23T21:59:21.569Z"
   },
   {
    "duration": 6,
    "start_time": "2024-07-23T21:59:21.589Z"
   },
   {
    "duration": 42,
    "start_time": "2024-07-23T21:59:21.598Z"
   },
   {
    "duration": 13,
    "start_time": "2024-07-23T21:59:21.643Z"
   },
   {
    "duration": 437,
    "start_time": "2024-07-23T21:59:21.660Z"
   },
   {
    "duration": 364,
    "start_time": "2024-07-23T21:59:22.101Z"
   },
   {
    "duration": 1145,
    "start_time": "2024-07-23T21:59:22.467Z"
   },
   {
    "duration": 1158,
    "start_time": "2024-07-23T21:59:23.619Z"
   },
   {
    "duration": 354,
    "start_time": "2024-07-23T21:59:24.781Z"
   },
   {
    "duration": 365,
    "start_time": "2024-07-23T21:59:25.138Z"
   },
   {
    "duration": 6,
    "start_time": "2024-07-23T21:59:25.507Z"
   },
   {
    "duration": 24,
    "start_time": "2024-07-23T21:59:25.516Z"
   },
   {
    "duration": 26,
    "start_time": "2024-07-23T21:59:25.543Z"
   },
   {
    "duration": 19,
    "start_time": "2024-07-23T21:59:25.572Z"
   },
   {
    "duration": 43,
    "start_time": "2024-07-23T21:59:25.594Z"
   },
   {
    "duration": 12,
    "start_time": "2024-07-23T21:59:25.641Z"
   },
   {
    "duration": 13,
    "start_time": "2024-07-23T21:59:25.656Z"
   },
   {
    "duration": 1695,
    "start_time": "2024-07-23T21:59:25.672Z"
   },
   {
    "duration": 475,
    "start_time": "2024-07-23T21:59:27.370Z"
   },
   {
    "duration": 4112,
    "start_time": "2024-07-23T21:59:27.848Z"
   },
   {
    "duration": 451,
    "start_time": "2024-07-23T21:59:31.963Z"
   },
   {
    "duration": 1658,
    "start_time": "2024-07-23T22:00:34.656Z"
   },
   {
    "duration": 38,
    "start_time": "2024-07-23T22:00:36.318Z"
   },
   {
    "duration": 15,
    "start_time": "2024-07-23T22:00:36.359Z"
   },
   {
    "duration": 6,
    "start_time": "2024-07-23T22:00:36.378Z"
   },
   {
    "duration": 48,
    "start_time": "2024-07-23T22:00:36.390Z"
   },
   {
    "duration": 13,
    "start_time": "2024-07-23T22:00:36.441Z"
   },
   {
    "duration": 427,
    "start_time": "2024-07-23T22:00:36.458Z"
   },
   {
    "duration": 360,
    "start_time": "2024-07-23T22:00:36.888Z"
   },
   {
    "duration": 1129,
    "start_time": "2024-07-23T22:00:37.252Z"
   },
   {
    "duration": 1204,
    "start_time": "2024-07-23T22:00:38.385Z"
   },
   {
    "duration": 347,
    "start_time": "2024-07-23T22:00:39.592Z"
   },
   {
    "duration": 352,
    "start_time": "2024-07-23T22:00:39.942Z"
   },
   {
    "duration": 6,
    "start_time": "2024-07-23T22:00:40.298Z"
   },
   {
    "duration": 34,
    "start_time": "2024-07-23T22:00:40.311Z"
   },
   {
    "duration": 25,
    "start_time": "2024-07-23T22:00:40.348Z"
   },
   {
    "duration": 22,
    "start_time": "2024-07-23T22:00:40.377Z"
   },
   {
    "duration": 35,
    "start_time": "2024-07-23T22:00:40.402Z"
   },
   {
    "duration": 11,
    "start_time": "2024-07-23T22:00:40.439Z"
   },
   {
    "duration": 13,
    "start_time": "2024-07-23T22:00:40.453Z"
   },
   {
    "duration": 1733,
    "start_time": "2024-07-23T22:00:40.469Z"
   },
   {
    "duration": 529,
    "start_time": "2024-07-23T22:00:42.205Z"
   },
   {
    "duration": 3896,
    "start_time": "2024-07-23T22:00:42.737Z"
   },
   {
    "duration": 448,
    "start_time": "2024-07-23T22:00:46.637Z"
   },
   {
    "duration": 1595,
    "start_time": "2024-07-23T22:03:39.610Z"
   },
   {
    "duration": 1641,
    "start_time": "2024-07-23T22:03:57.552Z"
   },
   {
    "duration": 39,
    "start_time": "2024-07-23T22:03:59.197Z"
   },
   {
    "duration": 15,
    "start_time": "2024-07-23T22:03:59.239Z"
   },
   {
    "duration": 5,
    "start_time": "2024-07-23T22:03:59.257Z"
   },
   {
    "duration": 11,
    "start_time": "2024-07-23T22:03:59.267Z"
   },
   {
    "duration": 52,
    "start_time": "2024-07-23T22:03:59.281Z"
   },
   {
    "duration": 405,
    "start_time": "2024-07-23T22:03:59.336Z"
   },
   {
    "duration": 331,
    "start_time": "2024-07-23T22:03:59.745Z"
   },
   {
    "duration": 1774,
    "start_time": "2024-07-23T22:04:00.079Z"
   },
   {
    "duration": 1217,
    "start_time": "2024-07-23T22:04:01.856Z"
   },
   {
    "duration": 695,
    "start_time": "2024-07-23T22:04:03.076Z"
   },
   {
    "duration": 718,
    "start_time": "2024-07-23T22:04:03.774Z"
   },
   {
    "duration": 5,
    "start_time": "2024-07-23T22:04:04.495Z"
   },
   {
    "duration": 35,
    "start_time": "2024-07-23T22:04:04.507Z"
   },
   {
    "duration": 23,
    "start_time": "2024-07-23T22:04:04.545Z"
   },
   {
    "duration": 21,
    "start_time": "2024-07-23T22:04:04.571Z"
   },
   {
    "duration": 39,
    "start_time": "2024-07-23T22:04:04.595Z"
   },
   {
    "duration": 10,
    "start_time": "2024-07-23T22:04:04.637Z"
   },
   {
    "duration": 12,
    "start_time": "2024-07-23T22:04:04.650Z"
   },
   {
    "duration": 2303,
    "start_time": "2024-07-23T22:04:04.665Z"
   },
   {
    "duration": 485,
    "start_time": "2024-07-23T22:04:06.971Z"
   },
   {
    "duration": 3874,
    "start_time": "2024-07-23T22:04:07.459Z"
   },
   {
    "duration": 450,
    "start_time": "2024-07-23T22:04:11.336Z"
   },
   {
    "duration": 2071,
    "start_time": "2024-07-23T22:08:14.797Z"
   },
   {
    "duration": 83,
    "start_time": "2024-07-23T22:08:16.872Z"
   },
   {
    "duration": 13,
    "start_time": "2024-07-23T22:08:16.959Z"
   },
   {
    "duration": 60,
    "start_time": "2024-07-23T22:08:16.975Z"
   },
   {
    "duration": 10,
    "start_time": "2024-07-23T22:08:17.040Z"
   },
   {
    "duration": 13,
    "start_time": "2024-07-23T22:08:17.054Z"
   },
   {
    "duration": 579,
    "start_time": "2024-07-23T22:08:17.070Z"
   },
   {
    "duration": 326,
    "start_time": "2024-07-23T22:08:17.653Z"
   },
   {
    "duration": 1135,
    "start_time": "2024-07-23T22:08:17.982Z"
   },
   {
    "duration": 1274,
    "start_time": "2024-07-23T22:08:19.120Z"
   },
   {
    "duration": 343,
    "start_time": "2024-07-23T22:08:20.399Z"
   },
   {
    "duration": 357,
    "start_time": "2024-07-23T22:08:20.745Z"
   },
   {
    "duration": 6,
    "start_time": "2024-07-23T22:08:21.105Z"
   },
   {
    "duration": 29,
    "start_time": "2024-07-23T22:08:21.117Z"
   },
   {
    "duration": 25,
    "start_time": "2024-07-23T22:08:21.148Z"
   },
   {
    "duration": 22,
    "start_time": "2024-07-23T22:08:21.176Z"
   },
   {
    "duration": 7,
    "start_time": "2024-07-23T22:08:21.232Z"
   },
   {
    "duration": 11,
    "start_time": "2024-07-23T22:08:21.242Z"
   },
   {
    "duration": 12,
    "start_time": "2024-07-23T22:08:21.257Z"
   },
   {
    "duration": 1726,
    "start_time": "2024-07-23T22:08:21.273Z"
   },
   {
    "duration": 547,
    "start_time": "2024-07-23T22:08:23.002Z"
   },
   {
    "duration": 3929,
    "start_time": "2024-07-23T22:08:23.552Z"
   },
   {
    "duration": 443,
    "start_time": "2024-07-23T22:08:27.484Z"
   },
   {
    "duration": 2141,
    "start_time": "2024-07-23T22:09:18.092Z"
   },
   {
    "duration": 43,
    "start_time": "2024-07-23T22:09:20.239Z"
   },
   {
    "duration": 16,
    "start_time": "2024-07-23T22:09:20.335Z"
   },
   {
    "duration": 5,
    "start_time": "2024-07-23T22:09:20.354Z"
   },
   {
    "duration": 11,
    "start_time": "2024-07-23T22:09:20.364Z"
   },
   {
    "duration": 13,
    "start_time": "2024-07-23T22:09:20.436Z"
   },
   {
    "duration": 473,
    "start_time": "2024-07-23T22:09:20.452Z"
   },
   {
    "duration": 345,
    "start_time": "2024-07-23T22:09:20.928Z"
   },
   {
    "duration": 1204,
    "start_time": "2024-07-23T22:09:21.275Z"
   },
   {
    "duration": 1212,
    "start_time": "2024-07-23T22:09:22.483Z"
   },
   {
    "duration": 0,
    "start_time": "2024-07-23T22:09:23.699Z"
   },
   {
    "duration": 0,
    "start_time": "2024-07-23T22:09:23.701Z"
   },
   {
    "duration": 0,
    "start_time": "2024-07-23T22:09:23.702Z"
   },
   {
    "duration": 0,
    "start_time": "2024-07-23T22:09:23.704Z"
   },
   {
    "duration": 0,
    "start_time": "2024-07-23T22:09:23.705Z"
   },
   {
    "duration": 0,
    "start_time": "2024-07-23T22:09:23.707Z"
   },
   {
    "duration": 0,
    "start_time": "2024-07-23T22:09:23.708Z"
   },
   {
    "duration": 0,
    "start_time": "2024-07-23T22:09:23.710Z"
   },
   {
    "duration": 0,
    "start_time": "2024-07-23T22:09:23.733Z"
   },
   {
    "duration": 0,
    "start_time": "2024-07-23T22:09:23.735Z"
   },
   {
    "duration": 0,
    "start_time": "2024-07-23T22:09:23.737Z"
   },
   {
    "duration": 0,
    "start_time": "2024-07-23T22:09:23.739Z"
   },
   {
    "duration": 0,
    "start_time": "2024-07-23T22:09:23.741Z"
   },
   {
    "duration": 1075,
    "start_time": "2024-07-23T22:11:00.444Z"
   },
   {
    "duration": 1205,
    "start_time": "2024-07-23T22:11:10.640Z"
   },
   {
    "duration": 1063,
    "start_time": "2024-07-23T22:11:25.120Z"
   },
   {
    "duration": 1817,
    "start_time": "2024-07-23T22:12:14.797Z"
   },
   {
    "duration": 1177,
    "start_time": "2024-07-23T22:12:32.889Z"
   },
   {
    "duration": 50,
    "start_time": "2024-07-23T22:17:02.121Z"
   },
   {
    "duration": 15,
    "start_time": "2024-07-23T22:17:17.614Z"
   },
   {
    "duration": 19,
    "start_time": "2024-07-23T22:17:42.444Z"
   },
   {
    "duration": 18,
    "start_time": "2024-07-23T22:17:54.066Z"
   },
   {
    "duration": 21,
    "start_time": "2024-07-23T22:18:13.498Z"
   },
   {
    "duration": 9,
    "start_time": "2024-07-23T22:18:39.322Z"
   },
   {
    "duration": 1138,
    "start_time": "2024-07-23T22:18:52.334Z"
   },
   {
    "duration": 1080,
    "start_time": "2024-07-23T22:19:12.553Z"
   },
   {
    "duration": 1080,
    "start_time": "2024-07-23T22:19:21.992Z"
   },
   {
    "duration": 1121,
    "start_time": "2024-07-23T22:19:35.550Z"
   },
   {
    "duration": 1229,
    "start_time": "2024-07-23T22:19:53.007Z"
   },
   {
    "duration": 1101,
    "start_time": "2024-07-23T22:20:20.812Z"
   },
   {
    "duration": 1098,
    "start_time": "2024-07-23T22:20:52.692Z"
   },
   {
    "duration": 1075,
    "start_time": "2024-07-23T22:20:55.421Z"
   },
   {
    "duration": 1131,
    "start_time": "2024-07-23T22:21:17.536Z"
   },
   {
    "duration": 1656,
    "start_time": "2024-07-23T22:22:00.481Z"
   },
   {
    "duration": 34,
    "start_time": "2024-07-23T22:22:02.141Z"
   },
   {
    "duration": 16,
    "start_time": "2024-07-23T22:22:02.178Z"
   },
   {
    "duration": 4,
    "start_time": "2024-07-23T22:22:02.197Z"
   },
   {
    "duration": 36,
    "start_time": "2024-07-23T22:22:02.206Z"
   },
   {
    "duration": 13,
    "start_time": "2024-07-23T22:22:02.246Z"
   },
   {
    "duration": 423,
    "start_time": "2024-07-23T22:22:02.262Z"
   },
   {
    "duration": 381,
    "start_time": "2024-07-23T22:22:02.689Z"
   },
   {
    "duration": 1683,
    "start_time": "2024-07-23T22:22:03.074Z"
   },
   {
    "duration": 1200,
    "start_time": "2024-07-23T22:22:04.760Z"
   },
   {
    "duration": 351,
    "start_time": "2024-07-23T22:22:05.965Z"
   },
   {
    "duration": 358,
    "start_time": "2024-07-23T22:22:06.319Z"
   },
   {
    "duration": 9,
    "start_time": "2024-07-23T22:22:06.680Z"
   },
   {
    "duration": 15,
    "start_time": "2024-07-23T22:22:06.694Z"
   },
   {
    "duration": 40,
    "start_time": "2024-07-23T22:22:06.712Z"
   },
   {
    "duration": 22,
    "start_time": "2024-07-23T22:22:06.755Z"
   },
   {
    "duration": 7,
    "start_time": "2024-07-23T22:22:06.780Z"
   },
   {
    "duration": 43,
    "start_time": "2024-07-23T22:22:06.791Z"
   },
   {
    "duration": 15,
    "start_time": "2024-07-23T22:22:06.837Z"
   },
   {
    "duration": 1699,
    "start_time": "2024-07-23T22:22:06.856Z"
   },
   {
    "duration": 497,
    "start_time": "2024-07-23T22:22:08.558Z"
   },
   {
    "duration": 4218,
    "start_time": "2024-07-23T22:22:09.060Z"
   },
   {
    "duration": 443,
    "start_time": "2024-07-23T22:22:13.281Z"
   }
  ],
  "kernelspec": {
   "display_name": "Python 3 (ipykernel)",
   "language": "python",
   "name": "python3"
  },
  "language_info": {
   "codemirror_mode": {
    "name": "ipython",
    "version": 3
   },
   "file_extension": ".py",
   "mimetype": "text/x-python",
   "name": "python",
   "nbconvert_exporter": "python",
   "pygments_lexer": "ipython3",
   "version": "3.9.19"
  },
  "toc": {
   "base_numbering": 1,
   "nav_menu": {},
   "number_sections": true,
   "sideBar": true,
   "skip_h1_title": true,
   "title_cell": "Table of Contents",
   "title_sidebar": "Contents",
   "toc_cell": false,
   "toc_position": {
    "height": "calc(100% - 180px)",
    "left": "10px",
    "top": "150px",
    "width": "339.549px"
   },
   "toc_section_display": true,
   "toc_window_display": true
  }
 },
 "nbformat": 4,
 "nbformat_minor": 2
}
