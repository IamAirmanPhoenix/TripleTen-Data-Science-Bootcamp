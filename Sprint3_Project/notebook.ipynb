{
 "cells": [
  {
   "cell_type": "markdown",
   "metadata": {},
   "source": [
    "# Introducción\n",
    "\n",
    "Instacart es una plataforma de entregas de comestibles donde la clientela puede registrar un pedido y hacer que se lo entreguen, similar a Uber Eats y Door Dash.\n",
    "El conjunto de datos que te hemos proporcionado tiene modificaciones del original. Redujimos el tamaño del conjunto para que tus cálculos se hicieran más rápido e introdujimos valores ausentes y duplicados. Tuvimos cuidado de conservar las distribuciones de los datos originales cuando hicimos los cambios.\n",
    "\n",
    "Debes completar tres pasos. Para cada uno de ellos, escribe una breve introducción que refleje con claridad cómo pretendes resolver cada paso, y escribe párrafos explicatorios que justifiquen tus decisiones al tiempo que avanzas en tu solución.  También escribe una conclusión que resuma tus hallazgos y elecciones.\n"
   ]
  },
  {
   "cell_type": "markdown",
   "metadata": {},
   "source": [
    "## Diccionario de datos\n",
    "\n",
    "Hay cinco tablas en el conjunto de datos, y tendrás que usarlas todas para hacer el preprocesamiento de datos y el análisis exploratorio de datos. A continuación se muestra un diccionario de datos que enumera las columnas de cada tabla y describe los datos que contienen.\n",
    "\n",
    "- `instacart_orders.csv`: cada fila corresponde a un pedido en la aplicación Instacart.\n",
    "    - `'order_id'`: número de ID que identifica de manera única cada pedido.\n",
    "    - `'user_id'`: número de ID que identifica de manera única la cuenta de cada cliente.\n",
    "    - `'order_number'`: el número de veces que este cliente ha hecho un pedido.\n",
    "    - `'order_dow'`: día de la semana en que se hizo el pedido (0 si es domingo).\n",
    "    - `'order_hour_of_day'`: hora del día en que se hizo el pedido.\n",
    "    - `'days_since_prior_order'`: número de días transcurridos desde que este cliente hizo su pedido anterior.\n",
    "- `products.csv`: cada fila corresponde a un producto único que pueden comprar los clientes.\n",
    "    - `'product_id'`: número ID que identifica de manera única cada producto.\n",
    "    - `'product_name'`: nombre del producto.\n",
    "    - `'aisle_id'`: número ID que identifica de manera única cada categoría de pasillo de víveres.\n",
    "    - `'department_id'`: número ID que identifica de manera única cada departamento de víveres.\n",
    "- `order_products.csv`: cada fila corresponde a un artículo pedido en un pedido.\n",
    "    - `'order_id'`: número de ID que identifica de manera única cada pedido.\n",
    "    - `'product_id'`: número ID que identifica de manera única cada producto.\n",
    "    - `'add_to_cart_order'`: el orden secuencial en el que se añadió cada artículo en el carrito.\n",
    "    - `'reordered'`: 0 si el cliente nunca ha pedido este producto antes, 1 si lo ha pedido.\n",
    "- `aisles.csv`\n",
    "    - `'aisle_id'`: número ID que identifica de manera única cada categoría de pasillo de víveres.\n",
    "    - `'aisle'`: nombre del pasillo.\n",
    "- `departments.csv`\n",
    "    - `'department_id'`: número ID que identifica de manera única cada departamento de víveres.\n",
    "    - `'department'`: nombre del departamento."
   ]
  },
  {
   "cell_type": "markdown",
   "metadata": {},
   "source": [
    "# Paso 1. Descripción de los datos\n",
    "\n",
    "Lee los archivos de datos (`/datasets/instacart_orders.csv`, `/datasets/products.csv`, `/datasets/aisles.csv`, `/datasets/departments.csv` y `/datasets/order_products.csv`) con `pd.read_csv()` usando los parámetros adecuados para leer los datos correctamente. Verifica la información para cada DataFrame creado."
   ]
  },
  {
   "cell_type": "markdown",
   "metadata": {},
   "source": [
    "## Plan de solución\n",
    "\n",
    "Escribe aquí tu plan de solución para el Paso 1. Descripción de los datos.\n",
    "\n",
    "Lo primero que debemos de hacer es leer los documentos presentes y descubrir como está distribuida la información dentro de ellos (ya sea abriendo los documentos a mano o desde el IDE que se guste usar). Dependiendo del orden que presenten, se deberá de trabajar más o menos para que esta información sea legible para fines de procesamiento y análisis.\n",
    "\n",
    "Para este caso, yo abrí los documentos y me pude dar cuenta que todos los valores estaban separados por el caracter `';'`, por lo que supe que debía de definir el separador como `'sep = ;'` y así tener los datos de la forma correcta para emepezar a comprender los datos. En mi caso, usaré una combinación de las funciones `head()`, `info()` y `describe()` para tener mi segundo contacto con los datos."
   ]
  },
  {
   "cell_type": "code",
   "execution_count": 2,
   "metadata": {},
   "outputs": [],
   "source": [
    "# Importar pandas para el procesamiento de los DataFrames y numpy para el posible futuro de gráficos\n",
    "import pandas as pd\n",
    "from matplotlib import pyplot as plt\n",
    "import numpy as np"
   ]
  },
  {
   "cell_type": "code",
   "execution_count": 3,
   "metadata": {},
   "outputs": [],
   "source": [
    "# leer conjuntos de datos en los DataFrames\n",
    "df_instacart_orders = pd.read_csv('datasets/instacart_orders.csv', sep = ';')\n",
    "df_products         = pd.read_csv('datasets/products.csv', sep = ';')\n",
    "df_order_products   = pd.read_csv('datasets/order_products.csv', sep = ';')\n",
    "df_aisles           = pd.read_csv('datasets/aisles.csv', sep = ';')\n",
    "df_departments      = pd.read_csv('datasets/departments.csv', sep = ';')"
   ]
  },
  {
   "cell_type": "code",
   "execution_count": 4,
   "metadata": {},
   "outputs": [
    {
     "name": "stdout",
     "output_type": "stream",
     "text": [
      "   order_id  user_id  order_number  order_dow  order_hour_of_day  \\\n",
      "0   1515936   183418            11          6                 13   \n",
      "1   1690866   163593             5          5                 12   \n",
      "2   1454967    39980             4          5                 19   \n",
      "3   1768857    82516            56          0                 20   \n",
      "4   3007858   196724             2          4                 12   \n",
      "\n",
      "   days_since_prior_order  \n",
      "0                    30.0  \n",
      "1                     9.0  \n",
      "2                     2.0  \n",
      "3                    10.0  \n",
      "4                    17.0  \n",
      "<class 'pandas.core.frame.DataFrame'>\n",
      "RangeIndex: 478967 entries, 0 to 478966\n",
      "Data columns (total 6 columns):\n",
      " #   Column                  Non-Null Count   Dtype  \n",
      "---  ------                  --------------   -----  \n",
      " 0   order_id                478967 non-null  int64  \n",
      " 1   user_id                 478967 non-null  int64  \n",
      " 2   order_number            478967 non-null  int64  \n",
      " 3   order_dow               478967 non-null  int64  \n",
      " 4   order_hour_of_day       478967 non-null  int64  \n",
      " 5   days_since_prior_order  450148 non-null  float64\n",
      "dtypes: float64(1), int64(5)\n",
      "memory usage: 21.9 MB\n",
      "           order_id        user_id   order_number      order_dow  \\\n",
      "count  4.789670e+05  478967.000000  478967.000000  478967.000000   \n",
      "mean   1.709947e+06  102966.537475      17.157808       2.775058   \n",
      "std    9.869480e+05   59525.328991      17.704688       2.045869   \n",
      "min    4.000000e+00       2.000000       1.000000       0.000000   \n",
      "25%    8.564685e+05   51414.000000       5.000000       1.000000   \n",
      "50%    1.709522e+06  102633.000000      11.000000       3.000000   \n",
      "75%    2.562990e+06  154419.000000      23.000000       5.000000   \n",
      "max    3.421079e+06  206209.000000     100.000000       6.000000   \n",
      "\n",
      "       order_hour_of_day  days_since_prior_order  \n",
      "count      478967.000000           450148.000000  \n",
      "mean           13.446676               11.101751  \n",
      "std             4.224986                9.189975  \n",
      "min             0.000000                0.000000  \n",
      "25%            10.000000                4.000000  \n",
      "50%            13.000000                7.000000  \n",
      "75%            16.000000               15.000000  \n",
      "max            23.000000               30.000000  \n"
     ]
    }
   ],
   "source": [
    "# mostrar información del DataFrame\n",
    "print(df_instacart_orders.head())\n",
    "df_instacart_orders.info()\n",
    "print(df_instacart_orders.describe())"
   ]
  },
  {
   "cell_type": "code",
   "execution_count": 5,
   "metadata": {},
   "outputs": [
    {
     "name": "stdout",
     "output_type": "stream",
     "text": [
      "   product_id                                       product_name  aisle_id  \\\n",
      "0           1                         Chocolate Sandwich Cookies        61   \n",
      "1           2                                   All-Seasons Salt       104   \n",
      "2           3               Robust Golden Unsweetened Oolong Tea        94   \n",
      "3           4  Smart Ones Classic Favorites Mini Rigatoni Wit...        38   \n",
      "4           5                          Green Chile Anytime Sauce         5   \n",
      "\n",
      "   department_id  \n",
      "0             19  \n",
      "1             13  \n",
      "2              7  \n",
      "3              1  \n",
      "4             13  \n",
      "<class 'pandas.core.frame.DataFrame'>\n",
      "RangeIndex: 49694 entries, 0 to 49693\n",
      "Data columns (total 4 columns):\n",
      " #   Column         Non-Null Count  Dtype \n",
      "---  ------         --------------  ----- \n",
      " 0   product_id     49694 non-null  int64 \n",
      " 1   product_name   48436 non-null  object\n",
      " 2   aisle_id       49694 non-null  int64 \n",
      " 3   department_id  49694 non-null  int64 \n",
      "dtypes: int64(3), object(1)\n",
      "memory usage: 1.5+ MB\n",
      "          product_id                product_name      aisle_id  department_id\n",
      "count   49694.000000                       48436  49694.000000   49694.000000\n",
      "unique           NaN                       48436           NaN            NaN\n",
      "top              NaN  Chocolate Sandwich Cookies           NaN            NaN\n",
      "freq             NaN                           1           NaN            NaN\n",
      "mean    24847.500000                         NaN     67.773192      11.728478\n",
      "std     14345.566475                         NaN     38.317265       5.850314\n",
      "min         1.000000                         NaN      1.000000       1.000000\n",
      "25%     12424.250000                         NaN     35.000000       7.000000\n",
      "50%     24847.500000                         NaN     69.000000      13.000000\n",
      "75%     37270.750000                         NaN    100.000000      17.000000\n",
      "max     49694.000000                         NaN    134.000000      21.000000\n"
     ]
    }
   ],
   "source": [
    "# mostrar información del DataFrame\n",
    "print(df_products.head())\n",
    "df_products.info()\n",
    "print(df_products.describe(include='all'))"
   ]
  },
  {
   "cell_type": "code",
   "execution_count": 6,
   "metadata": {},
   "outputs": [
    {
     "name": "stdout",
     "output_type": "stream",
     "text": [
      "   order_id  product_id  add_to_cart_order  reordered\n",
      "0   2141543       11440               17.0          0\n",
      "1    567889        1560                1.0          1\n",
      "2   2261212       26683                1.0          1\n",
      "3    491251        8670               35.0          1\n",
      "4   2571142        1940                5.0          1\n",
      "<class 'pandas.core.frame.DataFrame'>\n",
      "RangeIndex: 4545007 entries, 0 to 4545006\n",
      "Data columns (total 4 columns):\n",
      " #   Column             Non-Null Count    Dtype  \n",
      "---  ------             --------------    -----  \n",
      " 0   order_id           4545007 non-null  int64  \n",
      " 1   product_id         4545007 non-null  int64  \n",
      " 2   add_to_cart_order  4544171 non-null  float64\n",
      " 3   reordered          4545007 non-null  int64  \n",
      "dtypes: float64(1), int64(3)\n",
      "memory usage: 138.7 MB\n",
      "           order_id    product_id  add_to_cart_order     reordered\n",
      "count  4.545007e+06  4.545007e+06       4.544171e+06  4.545007e+06\n",
      "mean   1.711166e+06  2.558084e+04       8.351669e+00  5.905025e-01\n",
      "std    9.850955e+05  1.409552e+04       7.080368e+00  4.917411e-01\n",
      "min    4.000000e+00  1.000000e+00       1.000000e+00  0.000000e+00\n",
      "25%    8.608170e+05  1.353500e+04       3.000000e+00  0.000000e+00\n",
      "50%    1.711530e+06  2.527200e+04       6.000000e+00  1.000000e+00\n",
      "75%    2.561311e+06  3.793500e+04       1.100000e+01  1.000000e+00\n",
      "max    3.421079e+06  4.969400e+04       6.400000e+01  1.000000e+00\n"
     ]
    }
   ],
   "source": [
    "# mostrar información del DataFrame\n",
    "print(df_order_products.head())\n",
    "df_order_products.info(show_counts = True)\n",
    "print(df_order_products.describe())"
   ]
  },
  {
   "cell_type": "code",
   "execution_count": 7,
   "metadata": {},
   "outputs": [
    {
     "name": "stdout",
     "output_type": "stream",
     "text": [
      "   aisle_id                       aisle\n",
      "0         1       prepared soups salads\n",
      "1         2           specialty cheeses\n",
      "2         3         energy granola bars\n",
      "3         4               instant foods\n",
      "4         5  marinades meat preparation\n",
      "<class 'pandas.core.frame.DataFrame'>\n",
      "RangeIndex: 134 entries, 0 to 133\n",
      "Data columns (total 2 columns):\n",
      " #   Column    Non-Null Count  Dtype \n",
      "---  ------    --------------  ----- \n",
      " 0   aisle_id  134 non-null    int64 \n",
      " 1   aisle     134 non-null    object\n",
      "dtypes: int64(1), object(1)\n",
      "memory usage: 2.2+ KB\n",
      "          aisle_id                  aisle\n",
      "count   134.000000                    134\n",
      "unique         NaN                    134\n",
      "top            NaN  prepared soups salads\n",
      "freq           NaN                      1\n",
      "mean     67.500000                    NaN\n",
      "std      38.826537                    NaN\n",
      "min       1.000000                    NaN\n",
      "25%      34.250000                    NaN\n",
      "50%      67.500000                    NaN\n",
      "75%     100.750000                    NaN\n",
      "max     134.000000                    NaN\n"
     ]
    }
   ],
   "source": [
    "# mostrar información del DataFrame\n",
    "print(df_aisles.head())\n",
    "df_aisles.info()\n",
    "print(df_aisles.describe(include='all'))"
   ]
  },
  {
   "cell_type": "code",
   "execution_count": 8,
   "metadata": {},
   "outputs": [
    {
     "name": "stdout",
     "output_type": "stream",
     "text": [
      "   department_id department\n",
      "0              1     frozen\n",
      "1              2      other\n",
      "2              3     bakery\n",
      "3              4    produce\n",
      "4              5    alcohol\n",
      "<class 'pandas.core.frame.DataFrame'>\n",
      "RangeIndex: 21 entries, 0 to 20\n",
      "Data columns (total 2 columns):\n",
      " #   Column         Non-Null Count  Dtype \n",
      "---  ------         --------------  ----- \n",
      " 0   department_id  21 non-null     int64 \n",
      " 1   department     21 non-null     object\n",
      "dtypes: int64(1), object(1)\n",
      "memory usage: 468.0+ bytes\n",
      "        department_id department\n",
      "count       21.000000         21\n",
      "unique            NaN         21\n",
      "top               NaN     frozen\n",
      "freq              NaN          1\n",
      "mean        11.000000        NaN\n",
      "std          6.204837        NaN\n",
      "min          1.000000        NaN\n",
      "25%          6.000000        NaN\n",
      "50%         11.000000        NaN\n",
      "75%         16.000000        NaN\n",
      "max         21.000000        NaN\n"
     ]
    }
   ],
   "source": [
    "# mostrar información del DataFrame\n",
    "print(df_departments.head())\n",
    "df_departments.info()\n",
    "print(df_departments.describe(include='all'))"
   ]
  },
  {
   "cell_type": "markdown",
   "metadata": {},
   "source": [
    "## Conclusiones\n",
    "\n",
    "Escribe aquí tus conclusiones intermedias sobre el Paso 1. Descripción de los datos.\n",
    "\n",
    "Lo primero que podemos ver es la distribución de valores nulos en cada uno de los documentos. Para nuestro caso solo 3 documentos presentan datos nulos aparentes\n",
    "\n",
    "| \\ | instacart_orders | products | order_products | aisles | departments |\n",
    "| --- | -: | -: | -: | -: | -: |\n",
    "| Columna | days_since_prior_order | product_name | add_to_cart_order | NA | NA |\n",
    "| Valores nulos | 28,819 | 1,258 | 836 | 0 | 0 |\n",
    "\n",
    "Lo siguiente es entender que representa cada columna de cada DataFrame y comprobar si tiene el tipo de dato correcto para su futuro procesamiento. Estas son mis conclusiones:\n",
    "\n",
    "   - 1.- `df_nstacart_orders`\n",
    "   \n",
    "   \n",
    "      - a)'order_id': Esta columna está como 'int64', se puede trabajar así aunque una alternativa sería cambiarla a un dato de tipo 'object'.\n",
    "      \n",
    "      - b)'user_id': Esta columna está como 'int64', se puede trabajar así aunque una alternativa sería cambiarla a un dato de tipo 'object'.\n",
    "      \n",
    "      - c)'order_number': Esta  columna está como 'int64', considero que esta correcto.\n",
    "      \n",
    "      - d)'order_dow': Esta columna está como 'int64', propongo cambiarlo a un dato de tipo 'object' para poder categorizarla con un tipo de dato 'category'.\n",
    "      \n",
    "      - e)'order_hour_of_day': Esta columna está como 'int64', propongo cambiarlo a un dato de tipo 'object' para poder categorizarla con un tipo de dato 'category'.\n",
    "      \n",
    "      - f)'days_since_prior_order': Esta columna está como 'float64', propongo cambiarlo a un dato de tipo 'int' ya que nos interesa la cantidad de días enteros, por lo que los decimales no nos intresan (de todas formas hay que evaluar que tanta diferencia habría si se ejecuta el cambio y evaluar si es factible).\n",
    "      \n",
    "      \n",
    "   - 2.- `df_products`\n",
    "   \n",
    "   \n",
    "      - a) 'product_id': Esta columna esta como 'int64', se puede trabajar así aunque una alternativa sería cambiarla a un dato de tipo 'object'.\n",
    "      \n",
    "      - b) 'product_name': Esta columna esta como 'object', se puede trabajar de esta forma aunque también se puede trabajar como dato 'category' (faltaría evaluar si es factible).\n",
    "      \n",
    "      - c) 'aisle_id': Esta columna esta como 'int64', propongo cambiarla a dato 'object' ya que los números describen un estado y no una cantidad (pensé en categorizar esta columna, pero si entiendo bien lso datos se espera agrupar esta columna en función a la columna 'department_id', haciendo que no resulte tan útil hacer esa conversión para esta columna).\n",
    "      \n",
    "      - d) 'department_id': Esta columna está como 'int64', propongo cambiarla a dato 'object' y despues pasarla a un dato 'category' (como tenemos pocos valores puede servirnos categorizarlos).\n",
    "      \n",
    "      \n",
    "   - 3.- `df_order_products`\n",
    "   \n",
    "   \n",
    "      - a) 'order_id': Esta columna está como 'int64', se puede trabajar así aunque una alternativa sería cambiarla a un dato de tipo 'object'.\n",
    "      \n",
    "      - b) 'product_id': Esta columna está como 'int64', se puede trabajar así aunque una alternativa sería cambiarla a un dato de tipo 'object'.\n",
    "      \n",
    "      - c) 'add_to_cart_order': Esta columna está como 'float64', propongo cambiarlo a un dato de tipo 'int' ya que para este dato no podemos tener posiciones fraccionarias, por lo que los decimales no nos intresan (de todas formas hay que evaluar que tanta diferencia habría si se ejecuta el cambio y evaluar si es factible).\n",
    "      \n",
    "      - d) 'reordered': Esta columna tiene datos tipo 'int64'. Se puede trabajar de esta forma debido a que podemos usar los valores numéricos '0 y 1' para marcar los estados 'False y True' respectivamente. De otro modo, podemos convertirlos en datos 'object' y después categorizarlos.\n",
    "      \n",
    "      \n",
    "   - 4.- `df_aisles`\n",
    "   \n",
    "   \n",
    "      - a) 'aisle_id': Esta columna está como 'int64', se puede trabajar así aunque una alternativa sería cambiarla a un dato de tipo 'object'.\n",
    "      \n",
    "      - b) 'aisle': Esta columna tiene un dato tipo 'object'. Considero que está bien así.\n",
    "      \n",
    "      \n",
    "   - 5.- `df_departments`\n",
    "   \n",
    "   \n",
    "      - a) 'department_id': Esta columna está como 'int64', se puede trabajar así aunque una alternativa sería cambiarla a un dato de tipo 'object'.\n",
    "      \n",
    "      - b) 'department': Esta columna tiene un dato tipo 'object'. Considero que está bien así."
   ]
  },
  {
   "cell_type": "markdown",
   "metadata": {},
   "source": [
    "# Paso 2. Preprocesamiento de los datos\n",
    "\n",
    "Preprocesa los datos de la siguiente manera:\n",
    "\n",
    "- Verifica y corrige los tipos de datos (por ejemplo, asegúrate de que las columnas de ID sean números enteros).\n",
    "- Identifica y completa los valores ausentes.\n",
    "- Identifica y elimina los valores duplicados.\n",
    "\n",
    "Asegúrate de explicar qué tipos de valores ausentes y duplicados encontraste, cómo los completaste o eliminaste y por qué usaste esos métodos. ¿Por qué crees que estos valores ausentes y duplicados pueden haber estado presentes en el conjunto de datos?"
   ]
  },
  {
   "cell_type": "markdown",
   "metadata": {},
   "source": [
    "## Plan de solución\n",
    "\n",
    "Escribe aquí tu plan para el Paso 2. Preprocesamiento de los datos.\n",
    "\n",
    "Para un pre-procesamiento de datos correcto, se deben de eliminar los valores duplicados, eliminar valores ausentes (aparentes e inesperados) y corregir el tipo de dato de cada columna para su futuro análisis.\n",
    "\n",
    " - Para eliminar duplicados primero hay que evaluar si existen filas duplicadas usando la combinación de funciones `'.duplicated().sum()'` al DataFrame deseado, siendo el resultado la cantidad de filas duplicadas. En caso de querer visualizarlas la indexación lógico de la forma `'dataFrame[dataFrame.duplicated() == True]'` es suficiente. Una vez hecho estos pasos, la función `'.drop_duplicates()'` eliminaría las filas no deseadas.\n",
    "\n",
    " - Para eliminar valores ausentes (en caso de que existan valores ausentes) se tiene que evaluar el tipo de dato en cuestión para definir que nuevo valor sería adecuado para rellenar la celda. En caso de valores numéricos la media o mediana pueden servir para rellenar celdas con valores ausentes, y en caso de valores en cadenas de texto (como nombres) con un valor 'unknown' o 'none'. No todos los datos numéricos deben de ser tratados de la misma forma porque pueden ser tanto cuantitativos como categóricos, por lo que se debe de tener cuidado con este punto.\n",
    "\n",
    " - Para corregir los tipos de datos de las columnas se necesita tener contexto de lo que significan los valores de cada DataFrame y comprender si la lectura de los archivos por parte de Pandas se realizo correctamente. En caso de no ser el caso, nosotros debemos de convertirlos al tipo de dato correcto para poder procesarlos y analizarlos correctamente.\n",
    "\n",
    "No necesariamente se tiene que hacer este pre-procesamiento en este orden ni tampoco solo una vez cada paso, dependera de los datos y las estratégias que manejemos en un futuro. En mi opinión, una estratégia recomendada sería el orden: `'corregir tipo de datos'`, `'rellenar valores ausentes'` y `'eliminar duplicados'`."
   ]
  },
  {
   "cell_type": "markdown",
   "metadata": {},
   "source": [
    "## Encuentra y elimina los valores duplicados (y describe cómo tomaste tus decisiones)."
   ]
  },
  {
   "cell_type": "markdown",
   "metadata": {},
   "source": [
    "### `orders` data frame"
   ]
  },
  {
   "cell_type": "code",
   "execution_count": 9,
   "metadata": {},
   "outputs": [
    {
     "name": "stdout",
     "output_type": "stream",
     "text": [
      "        order_id  user_id  order_number  order_dow  order_hour_of_day  \\\n",
      "145574    794638    50898            24          3                  2   \n",
      "223105   2160484   107525            16          3                  2   \n",
      "230807   1918001   188546            14          3                  2   \n",
      "266232   1782114   106752             1          3                  2   \n",
      "273805   1112182   202304            84          3                  2   \n",
      "284038   2845099    31189            11          3                  2   \n",
      "311713   1021560    53767             3          3                  2   \n",
      "321100    408114    68324             4          3                  2   \n",
      "323900   1919531   191501            32          3                  2   \n",
      "345917   2232988    82565             1          3                  2   \n",
      "371905    391768    57671            19          3                  2   \n",
      "394347    467134    63189            21          3                  2   \n",
      "411408   1286742   183220            48          3                  2   \n",
      "415163   2282673    86751            49          3                  2   \n",
      "441599   2125197    14050            48          3                  2   \n",
      "\n",
      "        days_since_prior_order  \n",
      "145574                     2.0  \n",
      "223105                    30.0  \n",
      "230807                    16.0  \n",
      "266232                     NaN  \n",
      "273805                     6.0  \n",
      "284038                     7.0  \n",
      "311713                     9.0  \n",
      "321100                    18.0  \n",
      "323900                     7.0  \n",
      "345917                     NaN  \n",
      "371905                    10.0  \n",
      "394347                     2.0  \n",
      "411408                     4.0  \n",
      "415163                     2.0  \n",
      "441599                     3.0  \n",
      "\n",
      "La cantidad de valores duplicados es: 15\n"
     ]
    }
   ],
   "source": [
    "# Revisa si hay pedidos duplicados\n",
    "print(df_instacart_orders[df_instacart_orders.duplicated() == True])\n",
    "print()\n",
    "print('La cantidad de valores duplicados es: ' + str(df_instacart_orders.duplicated().sum()))"
   ]
  },
  {
   "cell_type": "markdown",
   "metadata": {},
   "source": [
    "¿Tienes líneas duplicadas? Si sí, ¿qué tienen en común?\n",
    "\n",
    "Se tiene un total de 15 filas duplicadas y todas reflejan compras hechas el día Miercoles a las 2:00 a.m."
   ]
  },
  {
   "cell_type": "code",
   "execution_count": 10,
   "metadata": {},
   "outputs": [
    {
     "name": "stdout",
     "output_type": "stream",
     "text": [
      "        order_id  user_id  order_number  order_dow  order_hour_of_day  \\\n",
      "4838     2766110   162084            41          3                  2   \n",
      "5156     2190225   138285            18          3                  2   \n",
      "15506     553049    58599            13          3                  2   \n",
      "18420     382357   120200            19          3                  2   \n",
      "24691     690242    77357             2          3                  2   \n",
      "...          ...      ...           ...        ...                ...   \n",
      "457013   3384021    14881             6          3                  2   \n",
      "458816    910166   164782            18          3                  2   \n",
      "459635   1680532   106435             6          3                  2   \n",
      "468324    222962    54979            59          3                  2   \n",
      "477526   2592344    46860            38          3                  2   \n",
      "\n",
      "        days_since_prior_order  \n",
      "4838                      16.0  \n",
      "5156                      11.0  \n",
      "15506                      7.0  \n",
      "18420                     11.0  \n",
      "24691                      9.0  \n",
      "...                        ...  \n",
      "457013                    30.0  \n",
      "458816                     4.0  \n",
      "459635                    21.0  \n",
      "468324                     3.0  \n",
      "477526                     3.0  \n",
      "\n",
      "[121 rows x 6 columns]\n"
     ]
    }
   ],
   "source": [
    "# Basándote en tus hallazgos,\n",
    "# Verifica todos los pedidos que se hicieron el miércoles a las 2:00 a.m.\n",
    "print(df_instacart_orders[(df_instacart_orders['order_dow'] == 3) & (df_instacart_orders['order_hour_of_day'] == 2)])"
   ]
  },
  {
   "cell_type": "markdown",
   "metadata": {},
   "source": [
    "¿Qué sugiere este resultado?\n",
    "\n",
    "De los 121 pedidos que se efectuaron los Miercoles a la 2:00 a.m., solo 15 son duplicados (un 12.4%). Aun así, estos duplicados solo representan un 0.003% de los valores totales del DataFrame (teniendo en cuenta los valores totales iniciales), por lo que eliminarlos no supondría ningún problema para un futuro análisis."
   ]
  },
  {
   "cell_type": "code",
   "execution_count": 11,
   "metadata": {},
   "outputs": [],
   "source": [
    "# Elimina los pedidos duplicados\n",
    "df_instacart_orders = df_instacart_orders.drop_duplicates()"
   ]
  },
  {
   "cell_type": "code",
   "execution_count": 12,
   "metadata": {},
   "outputs": [
    {
     "name": "stdout",
     "output_type": "stream",
     "text": [
      "0\n"
     ]
    }
   ],
   "source": [
    "# Vuelve a verificar si hay filas duplicadas\n",
    "print(df_instacart_orders.duplicated().sum())"
   ]
  },
  {
   "cell_type": "code",
   "execution_count": 13,
   "metadata": {},
   "outputs": [
    {
     "name": "stdout",
     "output_type": "stream",
     "text": [
      "0\n"
     ]
    }
   ],
   "source": [
    "# Vuelve a verificar únicamente si hay IDs duplicados de pedidos\n",
    "print(df_instacart_orders['order_id'].duplicated().sum())"
   ]
  },
  {
   "cell_type": "markdown",
   "metadata": {},
   "source": [
    "Describe brevemente tus hallazgos y lo que hiciste con ellos\n",
    "\n",
    "Al obtener la cantidad de filas duplicadas se analizó la información, con lo que se obtuvo que para este caso mostraban una relación directa con el día y la hora en la que las compras fueron efectuadas. Depués se evaluó si la cantidad obtenida de datos era determinante para el conjunto de datos, y al concluir que no es lo determinante se optó por borrar la información duplicada."
   ]
  },
  {
   "cell_type": "markdown",
   "metadata": {},
   "source": [
    "### `products` data frame"
   ]
  },
  {
   "cell_type": "code",
   "execution_count": 14,
   "metadata": {},
   "outputs": [
    {
     "name": "stdout",
     "output_type": "stream",
     "text": [
      "Filas duplicadas: \n",
      "0\n"
     ]
    }
   ],
   "source": [
    "# Verifica si hay filas totalmente duplicadas\n",
    "print('Filas duplicadas: ')\n",
    "print(df_products.duplicated().sum())"
   ]
  },
  {
   "cell_type": "code",
   "execution_count": 15,
   "metadata": {},
   "outputs": [
    {
     "name": "stdout",
     "output_type": "stream",
     "text": [
      "IDs de departamentos duplicados: \n",
      "49673\n"
     ]
    }
   ],
   "source": [
    "# Revisa únicamente si hay ID de departamentos duplicados\n",
    "print(\"IDs de departamentos duplicados: \")\n",
    "print(df_products['department_id'].duplicated().sum())"
   ]
  },
  {
   "cell_type": "code",
   "execution_count": 16,
   "metadata": {},
   "outputs": [
    {
     "name": "stdout",
     "output_type": "stream",
     "text": [
      "Nombres de productos duplicados: \n",
      "1361\n"
     ]
    }
   ],
   "source": [
    "# Revisa únicamente si hay nombres duplicados de productos (convierte los nombres a letras mayúsculas para compararlos mejor)\n",
    "df_products['product_uppercase'] = df_products['product_name'].str.upper()\n",
    "print(\"Nombres de productos duplicados: \")\n",
    "print(df_products['product_uppercase'].duplicated().sum())"
   ]
  },
  {
   "cell_type": "code",
   "execution_count": 17,
   "metadata": {},
   "outputs": [
    {
     "name": "stdout",
     "output_type": "stream",
     "text": [
      "Valores no ausentes duplicados en el nombre de los productos: \n",
      "104\n"
     ]
    }
   ],
   "source": [
    "# Revisa si hay nombres duplicados de productos no faltantes\n",
    "print('Valores no ausentes duplicados en el nombre de los productos: ')\n",
    "print(df_products[~df_products['product_uppercase'].isna()]['product_uppercase'].duplicated().sum())"
   ]
  },
  {
   "cell_type": "markdown",
   "metadata": {},
   "source": [
    "Describe brevemente tus hallazgos y lo que hiciste con ellos.\n",
    "\n",
    "Aparentemente este DataFrame no presenta filas duplicadas, lo cual puede tener sentido debido a que la fila `'product_id'` no presenta valores duplicados. Aun así, debido a que tenemos la columna `'product_name'` la cual puede tener duplicados no aparentes no está de más revisar dos veces si podemos llegar a tener un error en la base de datos (puede ser posible en el resto de columnas, pero considero que en la columna 'product_name' es más probable).\n",
    "\n",
    "Procesando la información vemos que la columna `'product_name'` tiene varios valores duplicados, los cuales son en su mayoría valores ausentes (los cuales se pueden reemplazar con un 'TBD' o 'Pending name' en mi opinión). Para los valores no ausentes duplicados tenemos un total de 104 valores. Con esto tenemos 2 posibles escenarios: \n",
    " - Son los mismos productos, pero llenaron sus IDs de manera erronea (duplicado inesperado).\n",
    " - Son productos distintos, pero llenaron sus nombres de manera erronea.\n",
    " \n",
    "Por facilidad del proyecto, optaré por la segunda opción porque es la que me permite continuar con el análisis de los datos con distintas estratégias.\n",
    "\n",
    "A pesar de que las columnas `'aisle_id'` y `'department_id'` también presentan valores duplicados, no considero que tenga mucho sentido contarlos como duplicados ya que resulta obvio concluir que distintos productos pueden pertenecer a un mismo pasillo y/o departamento."
   ]
  },
  {
   "cell_type": "markdown",
   "metadata": {},
   "source": [
    "### `departments` data frame"
   ]
  },
  {
   "cell_type": "code",
   "execution_count": 18,
   "metadata": {},
   "outputs": [
    {
     "name": "stdout",
     "output_type": "stream",
     "text": [
      "Filas duplicadas: \n",
      "0\n"
     ]
    }
   ],
   "source": [
    "# Revisa si hay filas totalmente duplicadas\n",
    "print('Filas duplicadas: ')\n",
    "print(df_departments.duplicated().sum())"
   ]
  },
  {
   "cell_type": "code",
   "execution_count": 19,
   "metadata": {},
   "outputs": [
    {
     "name": "stdout",
     "output_type": "stream",
     "text": [
      "Cantidad de IDs de departamentos duplicados: \n",
      "0\n"
     ]
    }
   ],
   "source": [
    "# Revisa únicamente si hay IDs duplicadas de productos\n",
    "print('Cantidad de IDs de departamentos duplicados: ')\n",
    "print(df_departments['department_id'].duplicated().sum())"
   ]
  },
  {
   "cell_type": "markdown",
   "metadata": {},
   "source": [
    "Describe brevemente tus hallazgos y lo que hiciste con ellos.\n",
    "\n",
    "No hay valores duplicados en ninguna de las filas ni en ninguna de las columnas de este DataFrame. Podemos ver esto en las lineas de código anteriores y en la linea de código `'df_departments.describre()'` del Paso 1 (marca 21 valores totales y 21 valores únicos en la columna con frecuencia 1 `department`).\n",
    "\n",
    "No hay nada que procesar en este DataFrame."
   ]
  },
  {
   "cell_type": "markdown",
   "metadata": {},
   "source": [
    "### `aisles` data frame"
   ]
  },
  {
   "cell_type": "code",
   "execution_count": 20,
   "metadata": {},
   "outputs": [
    {
     "name": "stdout",
     "output_type": "stream",
     "text": [
      "Filas duplicadas: \n",
      "0\n"
     ]
    }
   ],
   "source": [
    "# Revisa si hay filas totalmente duplicadas\n",
    "print('Filas duplicadas: ')\n",
    "print(df_aisles.duplicated().sum())"
   ]
  },
  {
   "cell_type": "code",
   "execution_count": 21,
   "metadata": {},
   "outputs": [
    {
     "name": "stdout",
     "output_type": "stream",
     "text": [
      "Cantidad de IDs de departamentos duplicados: \n",
      "0\n"
     ]
    }
   ],
   "source": [
    "# Revisa únicamente si hay IDs duplicadas de productos\n",
    "print('Cantidad de IDs de departamentos duplicados: ')\n",
    "print(df_aisles['aisle_id'].duplicated().sum())"
   ]
  },
  {
   "cell_type": "markdown",
   "metadata": {},
   "source": [
    "Describe brevemente tus hallazgos y lo que hiciste con ellos.\n",
    "\n",
    "No hay valores duplicados en ninguna de las filas ni en ninguna de las columnas de este DataFrame. Podemos ver esto en las lineas de código anteriores y en la linea de código `'df_aisles.describre()'` del Paso 1 (marca 134 valores totales y 134 valores únicos en la columna con frecuencia 1 `aisle`).\n",
    "\n",
    "No hay nada que procesar en este DataFrame."
   ]
  },
  {
   "cell_type": "markdown",
   "metadata": {},
   "source": [
    "### `order_products` data frame"
   ]
  },
  {
   "cell_type": "code",
   "execution_count": 22,
   "metadata": {},
   "outputs": [
    {
     "name": "stdout",
     "output_type": "stream",
     "text": [
      "Filas duplicadas: \n",
      "0\n"
     ]
    }
   ],
   "source": [
    "# Revisa si hay filas totalmente duplicadas\n",
    "print('Filas duplicadas: ')\n",
    "print(df_order_products.duplicated().sum())"
   ]
  },
  {
   "cell_type": "code",
   "execution_count": 23,
   "metadata": {},
   "outputs": [
    {
     "name": "stdout",
     "output_type": "stream",
     "text": [
      "Cantidad de IDs de ordenes duplicadas: \n",
      "4094961\n",
      "\n",
      "Cantidad de ordenes únicas: \n",
      "450046\n",
      "\n",
      "\n",
      "Cantidad de IDs de productos duplicados: \n",
      "4499434\n",
      "\n",
      "Cantidad de productos únicos: \n",
      "45573\n"
     ]
    }
   ],
   "source": [
    "# Vuelve a verificar si hay cualquier otro duplicado engañoso\n",
    "print('Cantidad de IDs de ordenes duplicadas: ')\n",
    "print(df_order_products['order_id'].duplicated().sum())\n",
    "print()\n",
    "print('Cantidad de ordenes únicas: ')\n",
    "print(df_order_products['order_id'].nunique())\n",
    "print()\n",
    "print()\n",
    "print('Cantidad de IDs de productos duplicados: ')\n",
    "print(df_order_products['product_id'].duplicated().sum())\n",
    "print()\n",
    "print('Cantidad de productos únicos: ')\n",
    "print(df_order_products['product_id'].nunique())"
   ]
  },
  {
   "cell_type": "markdown",
   "metadata": {},
   "source": [
    "Describe brevemente tus hallazgos y lo que hiciste con ellos.\n",
    "\n",
    "Aparentemente no hay filas duplicadas para este DataFrame, además analizando las columnas `'order_id'` y `'product_id'` se puede apreciar que hay duplicados en cada una de ellas. Esto por si mismo no dice nada, porque se puede presentar el caso en donde para una misma orden de compra se marque un mismo producto varias veces con un orden de entrada distínto o con un valor distinto en la columna 'reordered'. En caso de que así sea, se tendría que filtrar la base de datos de tal forma que se evalue para cada orden de compra que no haya entradas de un mismo producto más de una vez (en caso contrario significa que una o más de las entradas de ese producto en la orden de compra está mal). Por otro lado, no hay mucho caso en evaluar duplicados en las columnas `'add_to_cart_order'` y `'reordered'` debido a que es lógico que esos valores se repitan en cada una de las ordenes de compra.\n",
    "\n",
    "Para facilidad del proyecto, asumire que un filtrado más sofísticado no será necesario y continuare suponiendo que los duplicados en las columnas `'order_id'` y `'product_id'` son el resultado de introducir un cada posible producto en una orden de compra y así para todas las ordenes de compra."
   ]
  },
  {
   "cell_type": "markdown",
   "metadata": {},
   "source": [
    "## Encuentra y elimina los valores ausentes\n",
    "\n",
    "Al trabajar con valores duplicados, pudimos observar que también nos falta investigar valores ausentes:\n",
    "\n",
    "* La columna `'product_name'` de la tabla products.\n",
    "* La columna `'days_since_prior_order'` de la tabla orders.\n",
    "* La columna `'add_to_cart_order'` de la tabla order_productos."
   ]
  },
  {
   "cell_type": "markdown",
   "metadata": {},
   "source": [
    "### `products` data frame"
   ]
  },
  {
   "cell_type": "code",
   "execution_count": 24,
   "metadata": {},
   "outputs": [
    {
     "name": "stdout",
     "output_type": "stream",
     "text": [
      "       product_id product_name  aisle_id  department_id product_uppercase\n",
      "37             38          NaN       100             21               NaN\n",
      "71             72          NaN       100             21               NaN\n",
      "109           110          NaN       100             21               NaN\n",
      "296           297          NaN       100             21               NaN\n",
      "416           417          NaN       100             21               NaN\n",
      "...           ...          ...       ...            ...               ...\n",
      "49552       49553          NaN       100             21               NaN\n",
      "49574       49575          NaN       100             21               NaN\n",
      "49640       49641          NaN       100             21               NaN\n",
      "49663       49664          NaN       100             21               NaN\n",
      "49668       49669          NaN       100             21               NaN\n",
      "\n",
      "[1258 rows x 5 columns]\n"
     ]
    }
   ],
   "source": [
    "# Encuentra los valores ausentes en la columna 'product_name'\n",
    "print(df_products[df_products['product_name'].isna()])"
   ]
  },
  {
   "cell_type": "markdown",
   "metadata": {},
   "source": [
    "Describe brevemente cuáles son tus hallazgos.\n",
    "\n",
    "Al mostrar los 5 primeras y últimas filas del DataFrame se puede ver que todos los productos con nombre ausente mostrados pertenecen al pasillo 100 y al departamento 21. Falta más información para saltar a conclusiones."
   ]
  },
  {
   "cell_type": "code",
   "execution_count": 25,
   "metadata": {},
   "outputs": [
    {
     "name": "stdout",
     "output_type": "stream",
     "text": [
      "[100]\n"
     ]
    }
   ],
   "source": [
    "#  ¿Todos los nombres de productos ausentes están relacionados con el pasillo con ID 100?\n",
    "print(df_products[df_products['product_name'].isna()]['aisle_id'].unique())"
   ]
  },
  {
   "cell_type": "markdown",
   "metadata": {},
   "source": [
    "Describe brevemente cuáles son tus hallazgos.\n",
    "\n",
    "Confirmamos que todos los productos con nombres ausentes están relacionados con el pasillo ID 100."
   ]
  },
  {
   "cell_type": "code",
   "execution_count": 26,
   "metadata": {},
   "outputs": [
    {
     "name": "stdout",
     "output_type": "stream",
     "text": [
      "[21]\n"
     ]
    }
   ],
   "source": [
    "# ¿Todos los nombres de productos ausentes están relacionados con el departamento con ID 21?\n",
    "print(df_products[df_products['product_name'].isna()]['department_id'].unique())"
   ]
  },
  {
   "cell_type": "markdown",
   "metadata": {},
   "source": [
    "Describe brevemente cuáles son tus hallazgos.\n",
    "\n",
    "Confirmamos que todos los productos con nombres ausentes están relacionados con el departamento ID 21."
   ]
  },
  {
   "cell_type": "code",
   "execution_count": 27,
   "metadata": {},
   "outputs": [
    {
     "name": "stdout",
     "output_type": "stream",
     "text": [
      "Valores para el departamento con ID 21: \n",
      "20    missing\n",
      "Name: department, dtype: object\n",
      "\n",
      "Valores del pasillo con ID 100: \n",
      "99    missing\n",
      "Name: aisle, dtype: object\n"
     ]
    }
   ],
   "source": [
    "# Usa las tablas department y aisle para revisar los datos del pasillo con ID 100 y el departamento con ID 21.\n",
    "print(\"Valores para el departamento con ID 21: \")\n",
    "print(df_departments.query(\"department_id == 21\")['department'])\n",
    "print()\n",
    "print(\"Valores del pasillo con ID 100: \")\n",
    "print(df_aisles[df_aisles['aisle_id'].isin([100])]['aisle'])"
   ]
  },
  {
   "cell_type": "markdown",
   "metadata": {},
   "source": [
    "Describe brevemente cuáles son tus hallazgos.\n",
    "\n",
    "Los departamentos y pasillos de los productos con nombres vacios son ambos 'missing'. Sin más información, se puede concluir que la razón por la que no tienen nombres es que no van a ser comerciados debido a que no hay ningún lugar físico en donde disponerlos (aunque para esto aún hace falta relacionar la información con los demás DataFrames para confirmar que esto sea verdad). "
   ]
  },
  {
   "cell_type": "code",
   "execution_count": 28,
   "metadata": {},
   "outputs": [
    {
     "name": "stdout",
     "output_type": "stream",
     "text": [
      "0\n"
     ]
    }
   ],
   "source": [
    "# Completa los nombres de productos ausentes con 'Unknown'\n",
    "df_products['product_name'] = df_products['product_name'].fillna('unknown')\n",
    "\n",
    "print(df_products['product_name'].isna().sum())"
   ]
  },
  {
   "cell_type": "markdown",
   "metadata": {},
   "source": [
    "Describe brevemente tus hallazgos y lo que hiciste con ellos.\n",
    "\n",
    "Una vez relacionadas las filas con valores nulos con las filas de los DataFrames `'aisles.csv'` y `'departments.csv'`, podemos estar seguros de asignar un valor categórico a esas filas que represente una ausencia. De esta forma, reemplazamos todos los valores ausentes de la columna `'product_name'` de `'products.csv'` con el valor `'unknown'` y así poder manipularlos de forma eficiente en futuros pasos."
   ]
  },
  {
   "cell_type": "markdown",
   "metadata": {},
   "source": [
    "### `orders` data frame"
   ]
  },
  {
   "cell_type": "code",
   "execution_count": 29,
   "metadata": {},
   "outputs": [
    {
     "name": "stdout",
     "output_type": "stream",
     "text": [
      "        order_id  user_id  order_number  order_dow  order_hour_of_day  \\\n",
      "28        133707   182261             1          3                 10   \n",
      "96        787445    25685             1          6                 18   \n",
      "100       294410   111449             1          0                 19   \n",
      "103      2869915   123958             1          4                 16   \n",
      "104      2521921    42286             1          3                 18   \n",
      "...          ...      ...           ...        ...                ...   \n",
      "478895   2589657   205028             1          0                 16   \n",
      "478896   2222353   141211             1          2                 13   \n",
      "478922   2272807   204154             1          1                 15   \n",
      "478926   2499542    68810             1          4                 19   \n",
      "478945   1387033    22496             1          5                 14   \n",
      "\n",
      "        days_since_prior_order  \n",
      "28                         NaN  \n",
      "96                         NaN  \n",
      "100                        NaN  \n",
      "103                        NaN  \n",
      "104                        NaN  \n",
      "...                        ...  \n",
      "478895                     NaN  \n",
      "478896                     NaN  \n",
      "478922                     NaN  \n",
      "478926                     NaN  \n",
      "478945                     NaN  \n",
      "\n",
      "[28817 rows x 6 columns]\n"
     ]
    }
   ],
   "source": [
    "# Encuentra los valores ausentes\n",
    "print(df_instacart_orders[df_instacart_orders['days_since_prior_order'].isna()])"
   ]
  },
  {
   "cell_type": "code",
   "execution_count": 30,
   "metadata": {},
   "outputs": [
    {
     "name": "stdout",
     "output_type": "stream",
     "text": [
      "[1]\n",
      "Empty DataFrame\n",
      "Columns: [order_id, user_id, order_number, order_dow, order_hour_of_day, days_since_prior_order]\n",
      "Index: []\n"
     ]
    }
   ],
   "source": [
    "# ¿Hay algún valor ausente que no sea el primer pedido del cliente?\n",
    "\n",
    "# Obtener los valores únicos de la columna 'order_number' para todas las filas con valores ausentes\n",
    "print(df_instacart_orders[df_instacart_orders['days_since_prior_order'].isna()]['order_number'].unique())\n",
    "\n",
    "# Mostrar las filas que tengan valores ausentes y cuyo valor en la columna 'order number' no sea '1'\n",
    "print(df_instacart_orders[df_instacart_orders['days_since_prior_order'].isna() & ~df_instacart_orders['order_number'] == 1])"
   ]
  },
  {
   "cell_type": "markdown",
   "metadata": {},
   "source": [
    "Describe brevemente tus hallazgos y lo que hiciste con ellos.\n",
    "\n",
    "Todas las filas donde no exista un valor en la columna 'days_since_prior_order' son donde algún usuario haya efectuado una compra por primera vez (lo cual explica porque no exista un valor).\n",
    "\n",
    "Debido a que esta columna va a tener valores puramente numéricos, no hay razón para poner un valor a esas celdas ya que cualquier valor 'infectaría' a los resultados, por lo que se tendrá que excluir estas filas cuando se quiera hacer un procesamiento real con esta columna (a lo mucho podreemos reemplazar esas celdas con algún valor simbólico que represente que nunca ha efectuado una compra antes, por ejemplo 999, pero igual recomendaría tener este hecho en cuenta para futuros procesamientos y análisis)."
   ]
  },
  {
   "cell_type": "markdown",
   "metadata": {},
   "source": [
    "### `order_products` data frame"
   ]
  },
  {
   "cell_type": "code",
   "execution_count": 31,
   "metadata": {},
   "outputs": [
    {
     "name": "stdout",
     "output_type": "stream",
     "text": [
      "         order_id  product_id  add_to_cart_order  reordered\n",
      "737       2449164        5068                NaN          0\n",
      "9926      1968313       43867                NaN          0\n",
      "14394     2926893       11688                NaN          0\n",
      "16418     1717990        4142                NaN          0\n",
      "30114     1959075       42828                NaN          1\n",
      "...           ...         ...                ...        ...\n",
      "4505662   1800005        7411                NaN          0\n",
      "4511400   1633337         260                NaN          0\n",
      "4517562    404157        9517                NaN          0\n",
      "4534112   1673227       17835                NaN          0\n",
      "4535739   1832957       17949                NaN          1\n",
      "\n",
      "[836 rows x 4 columns]\n"
     ]
    }
   ],
   "source": [
    "# Encuentra los valores ausentes\n",
    "print(df_order_products[df_order_products['add_to_cart_order'].isna()])"
   ]
  },
  {
   "cell_type": "code",
   "execution_count": 32,
   "metadata": {},
   "outputs": [
    {
     "name": "stdout",
     "output_type": "stream",
     "text": [
      "Valor máximo de 'add_to_cart_order': \n",
      "64.0\n",
      "\n",
      "\n",
      "Valor mínimo de 'add_to_cart_order': \n",
      "1.0\n"
     ]
    }
   ],
   "source": [
    "# ¿Cuáles son los valores mínimos y máximos en esta columna?\n",
    "print(\"Valor máximo de 'add_to_cart_order': \")\n",
    "print(df_order_products['add_to_cart_order'].max())\n",
    "print()\n",
    "print()\n",
    "print(\"Valor mínimo de 'add_to_cart_order': \")\n",
    "print(df_order_products['add_to_cart_order'].min())"
   ]
  },
  {
   "cell_type": "markdown",
   "metadata": {},
   "source": [
    "Describe brevemente cuáles son tus hallazgos.\n",
    "\n",
    "Usando las funciones `.max()` y `.min()` sabemos que los valores máximos y mínimos de la columna `add_to_cart_order` son 64 y 1 respectivamente."
   ]
  },
  {
   "cell_type": "code",
   "execution_count": 33,
   "metadata": {},
   "outputs": [
    {
     "name": "stdout",
     "output_type": "stream",
     "text": [
      "(836,)\n"
     ]
    },
    {
     "data": {
      "text/plain": [
       "70"
      ]
     },
     "execution_count": 33,
     "metadata": {},
     "output_type": "execute_result"
    }
   ],
   "source": [
    "# Guarda todas las IDs de pedidos que tengan un valor ausente en 'add_to_cart_order'\n",
    "id_list = []\n",
    "\n",
    "id_list = df_order_products[df_order_products['add_to_cart_order'].isna()]['order_id']\n",
    "\n",
    "print(id_list.shape)\n",
    "id_list.nunique()"
   ]
  },
  {
   "cell_type": "code",
   "execution_count": 34,
   "metadata": {},
   "outputs": [
    {
     "name": "stdout",
     "output_type": "stream",
     "text": [
      "order_id\n",
      "9310        1\n",
      "61355      63\n",
      "102236     31\n",
      "129627      5\n",
      "165801      6\n",
      "           ..\n",
      "2999801     6\n",
      "3125735    22\n",
      "3308010    51\n",
      "3347453     7\n",
      "3383594     5\n",
      "Name: product_id, Length: 70, dtype: int64\n",
      "\n",
      "Valor mínimo del conteo: \n",
      "1\n"
     ]
    }
   ],
   "source": [
    "# ¿Todos los pedidos con valores ausentes tienen más de 64 productos?\n",
    "# Agrupa todos los pedidos con datos ausentes por su ID de pedido.\n",
    "# Cuenta el número de 'product_id' en cada pedido y revisa el valor mínimo del conteo.\n",
    "\n",
    "order_products_count = df_order_products[df_order_products['add_to_cart_order'].isna()].groupby(id_list)['product_id'].count()\n",
    "\n",
    "print(order_products_count)\n",
    "print()\n",
    "print(\"Valor mínimo del conteo: \")\n",
    "print(order_products_count.min())"
   ]
  },
  {
   "cell_type": "markdown",
   "metadata": {},
   "source": [
    "Describe brevemente cuáles son tus hallazgos.\n",
    "\n",
    "No todas las filas que tienen un valor ausente en la columna `add_to_cart_order` tienen 64 productos. Se puede ver en el código anterior que la cantidad de productos varia en todas las filas."
   ]
  },
  {
   "cell_type": "code",
   "execution_count": 35,
   "metadata": {},
   "outputs": [
    {
     "name": "stdout",
     "output_type": "stream",
     "text": [
      "Empty DataFrame\n",
      "Columns: [order_id, product_id, add_to_cart_order, reordered]\n",
      "Index: []\n"
     ]
    },
    {
     "data": {
      "text/html": [
       "<div>\n",
       "<style scoped>\n",
       "    .dataframe tbody tr th:only-of-type {\n",
       "        vertical-align: middle;\n",
       "    }\n",
       "\n",
       "    .dataframe tbody tr th {\n",
       "        vertical-align: top;\n",
       "    }\n",
       "\n",
       "    .dataframe thead th {\n",
       "        text-align: right;\n",
       "    }\n",
       "</style>\n",
       "<table border=\"1\" class=\"dataframe\">\n",
       "  <thead>\n",
       "    <tr style=\"text-align: right;\">\n",
       "      <th></th>\n",
       "      <th>order_id</th>\n",
       "      <th>product_id</th>\n",
       "      <th>add_to_cart_order</th>\n",
       "      <th>reordered</th>\n",
       "    </tr>\n",
       "  </thead>\n",
       "  <tbody>\n",
       "    <tr>\n",
       "      <th>3094695</th>\n",
       "      <td>3347453</td>\n",
       "      <td>25837</td>\n",
       "      <td>13</td>\n",
       "      <td>0</td>\n",
       "    </tr>\n",
       "    <tr>\n",
       "      <th>3570304</th>\n",
       "      <td>3308010</td>\n",
       "      <td>15984</td>\n",
       "      <td>37</td>\n",
       "      <td>1</td>\n",
       "    </tr>\n",
       "    <tr>\n",
       "      <th>1892757</th>\n",
       "      <td>2999801</td>\n",
       "      <td>17191</td>\n",
       "      <td>42</td>\n",
       "      <td>1</td>\n",
       "    </tr>\n",
       "    <tr>\n",
       "      <th>4020911</th>\n",
       "      <td>1169835</td>\n",
       "      <td>30389</td>\n",
       "      <td>52</td>\n",
       "      <td>1</td>\n",
       "    </tr>\n",
       "    <tr>\n",
       "      <th>1007421</th>\n",
       "      <td>2849370</td>\n",
       "      <td>6013</td>\n",
       "      <td>47</td>\n",
       "      <td>0</td>\n",
       "    </tr>\n",
       "    <tr>\n",
       "      <th>883470</th>\n",
       "      <td>1564093</td>\n",
       "      <td>37683</td>\n",
       "      <td>21</td>\n",
       "      <td>0</td>\n",
       "    </tr>\n",
       "    <tr>\n",
       "      <th>1730046</th>\n",
       "      <td>854647</td>\n",
       "      <td>24024</td>\n",
       "      <td>4</td>\n",
       "      <td>1</td>\n",
       "    </tr>\n",
       "    <tr>\n",
       "      <th>4143741</th>\n",
       "      <td>171934</td>\n",
       "      <td>1216</td>\n",
       "      <td>999</td>\n",
       "      <td>0</td>\n",
       "    </tr>\n",
       "    <tr>\n",
       "      <th>3412675</th>\n",
       "      <td>1386261</td>\n",
       "      <td>12312</td>\n",
       "      <td>999</td>\n",
       "      <td>0</td>\n",
       "    </tr>\n",
       "    <tr>\n",
       "      <th>3720408</th>\n",
       "      <td>1386261</td>\n",
       "      <td>25623</td>\n",
       "      <td>38</td>\n",
       "      <td>1</td>\n",
       "    </tr>\n",
       "  </tbody>\n",
       "</table>\n",
       "</div>"
      ],
      "text/plain": [
       "         order_id  product_id  add_to_cart_order  reordered\n",
       "3094695   3347453       25837                 13          0\n",
       "3570304   3308010       15984                 37          1\n",
       "1892757   2999801       17191                 42          1\n",
       "4020911   1169835       30389                 52          1\n",
       "1007421   2849370        6013                 47          0\n",
       "883470    1564093       37683                 21          0\n",
       "1730046    854647       24024                  4          1\n",
       "4143741    171934        1216                999          0\n",
       "3412675   1386261       12312                999          0\n",
       "3720408   1386261       25623                 38          1"
      ]
     },
     "execution_count": 35,
     "metadata": {},
     "output_type": "execute_result"
    }
   ],
   "source": [
    "# Remplaza los valores ausentes en la columna 'add_to_cart? con 999 y convierte la columna al tipo entero.\n",
    "df_order_products['add_to_cart_order'] = df_order_products['add_to_cart_order'].fillna(999).astype('int')\n",
    "\n",
    "# Comprobar que no hay valores ausentes en la columna 'add_to_cart_order'\n",
    "print(df_order_products[df_order_products['add_to_cart_order'].isna()].head())\n",
    "\n",
    "# Comprobamos para cada valor de la lista 'id_list' que se hayan llenado los valores ausentes y se cambiara su tipo de dato\n",
    "df_order_products[df_order_products['order_id'].isin(id_list)].sample(10)"
   ]
  },
  {
   "cell_type": "markdown",
   "metadata": {},
   "source": [
    "Describe brevemente tus hallazgos y lo que hiciste con ellos.\n",
    "\n",
    "La única columna con valores ausentes en este DataFrame es `add_to_cart_order`. Al analizar las filas con valores ausentes, no pudimos obtener una relación entre estas y el resto de información del DataFrame, por lo que se optó por reemplazar los valores ausentes con `'valores representativos'` para no perder el resto de información de las filas. Después se cambio el dato de la columna a `'int'` porque los valores después del punto decimal no afectan al conjunto de datos, por lo que se transformó a un tipo de dato que no tiene esos valores."
   ]
  },
  {
   "cell_type": "markdown",
   "metadata": {},
   "source": [
    "## Conclusiones\n",
    "\n",
    "Escribe aquí tus conclusiones intermedias sobre el Paso 2. Preprocesamiento de los datos\n",
    "\n",
    "Se trabajaron o no los datos en consideración del caso de cada DataFrame y sus columnas. En el primer caso, se reemplazaron los valores ausentes con una cadena de texto que represente una ausencia de valor (esto nos servirá adelante en el análisis de los datos); en el segundo caso se dejaron los datos ausentes sin rellenar porque ese mismo valor ausente representa correctamente el 'estado' de la celda (como la fila refleja la primera compra de un usuario o ususaria, tiene sentido que las celdas no tengan valor) además de que no representa ningún problema para el futuro procesamiento de este proyecto; y en el tercer caso se reemplazaron los valores ausentes con un valor considerablemente alto para mostrar un estado de ausencia (creo que esto se hizo para evitar que se presentara en las graficas posteriores debido a que la diferencia lineal entre el 64 y 999 es mucha, pero no llegue a una respuesta clara para esto).\n",
    "\n",
    "En resumen, se debe de analizar cada conjunto de datos de manera independiente y comprender lo que significa cada columna para hacer un pre-procesamiento correcto y evitar futuros errores en el trabajo."
   ]
  },
  {
   "cell_type": "markdown",
   "metadata": {},
   "source": [
    "# Paso 3. Análisis de los datos\n",
    "\n",
    "Una vez los datos estén procesados y listos, haz el siguiente análisis:"
   ]
  },
  {
   "cell_type": "markdown",
   "metadata": {},
   "source": [
    "# [A] Fácil (deben completarse todos para aprobar)\n",
    "\n",
    "1. Verifica que los valores en las columnas `'order_hour_of_day'` y `'order_dow'` en la tabla orders sean razonables (es decir, `'order_hour_of_day'` oscile entre 0 y 23 y `'order_dow'` oscile entre 0 y 6).\n",
    "2. Crea un gráfico que muestre el número de personas que hacen pedidos dependiendo de la hora del día.\n",
    "3. Crea un gráfico que muestre qué día de la semana la gente hace sus compras.\n",
    "4. Crea un gráfico que muestre el tiempo que la gente espera hasta hacer su siguiente pedido, y comenta sobre los valores mínimos y máximos."
   ]
  },
  {
   "cell_type": "markdown",
   "metadata": {},
   "source": [
    "### [A1] Verifica que los valores sean sensibles"
   ]
  },
  {
   "cell_type": "code",
   "execution_count": 36,
   "metadata": {},
   "outputs": [
    {
     "name": "stdout",
     "output_type": "stream",
     "text": [
      "Valor máximo de 'order_hour_of_day': \n",
      "0\n",
      "Valor mínimo de 'order_hour_of_day': \n",
      "23\n",
      "Tipo de dato de 'order_hour_of_day': \n",
      "int64\n"
     ]
    }
   ],
   "source": [
    "print(\"Valor máximo de 'order_hour_of_day': \")\n",
    "print(df_instacart_orders['order_hour_of_day'].min())\n",
    "print(\"Valor mínimo de 'order_hour_of_day': \")\n",
    "print(df_instacart_orders['order_hour_of_day'].max())\n",
    "print(\"Tipo de dato de 'order_hour_of_day': \")\n",
    "print(df_instacart_orders['order_hour_of_day'].dtypes)"
   ]
  },
  {
   "cell_type": "code",
   "execution_count": 37,
   "metadata": {},
   "outputs": [
    {
     "name": "stdout",
     "output_type": "stream",
     "text": [
      "Valor máximo de 'order_dow': \n",
      "0\n",
      "Valor mínimo de 'order_dow': \n",
      "6\n",
      "Tipo de dato de 'order_dow': \n",
      "int64\n"
     ]
    }
   ],
   "source": [
    "print(\"Valor máximo de 'order_dow': \")\n",
    "print(df_instacart_orders['order_dow'].min())\n",
    "print(\"Valor mínimo de 'order_dow': \")\n",
    "print(df_instacart_orders['order_dow'].max())\n",
    "print(\"Tipo de dato de 'order_dow': \")\n",
    "print(df_instacart_orders['order_dow'].dtypes)"
   ]
  },
  {
   "cell_type": "markdown",
   "metadata": {},
   "source": [
    "Escribe aquí tus conclusiones\n",
    "\n",
    "Usando las funciones `.max()`, `.min()` y `.dtypes`, se pueden conocer los valores máximos, mínimos y el tipo de datos de las columnas `order_hour_of_day` y `order_dow`. Asi confirmamos que ambas columnas tienen valores y datos razonables, por lo que se puede trabajar con ellos."
   ]
  },
  {
   "cell_type": "markdown",
   "metadata": {},
   "source": [
    "### [A2] Para cada hora del día, ¿cuántas personas hacen órdenes?"
   ]
  },
  {
   "cell_type": "code",
   "execution_count": 38,
   "metadata": {},
   "outputs": [
    {
     "data": {
      "image/png": "[encoded data removed]",
      "text/plain": [
       "<Figure size 1000x800 with 1 Axes>"
      ]
     },
     "metadata": {},
     "output_type": "display_data"
    }
   ],
   "source": [
    "# Obtenemos una lista de la cantidad de usuarios que hicieron una compra en cada hora\n",
    "df_hist_1 = df_instacart_orders.groupby('order_hour_of_day')['user_id'].count()\n",
    "\n",
    "df_hist_1.plot(kind = 'bar',\n",
    "               xlabel = 'Hour of the day (24 hrs format)',\n",
    "               ylabel = 'Qty. of customers',\n",
    "               rot = 0,\n",
    "               figsize = [10, 8],\n",
    "               title = 'Customers per hour')\n",
    "\n",
    "plt.show()"
   ]
  },
  {
   "cell_type": "markdown",
   "metadata": {},
   "source": [
    "Escribe aquí tus conclusiones\n",
    "\n",
    "Se puede ver que el comportamiento de los usuarios y usuarias inician a crecer a partir de las 7:00 a.m. y baja entre las 10:00 - 11:00 p.m., teniendo una baja en la actividad considerable entre las 12:00 a.m. y las 6:00 a.m. La gráfica muestra una relación con una rutina diurna ordinaria, por lo que se podría esperar una mayor actividad en esas horas, siendo necesaria una mayor actividad por parte del personal de servicio al cliente de la compañia."
   ]
  },
  {
   "cell_type": "markdown",
   "metadata": {},
   "source": [
    "### [A3] ¿Qué día de la semana compran víveres las personas?"
   ]
  },
  {
   "cell_type": "code",
   "execution_count": 39,
   "metadata": {},
   "outputs": [
    {
     "data": {
      "image/png": "[encoded data removed]",
      "text/plain": [
       "<Figure size 600x500 with 1 Axes>"
      ]
     },
     "metadata": {},
     "output_type": "display_data"
    }
   ],
   "source": [
    "# Listas para los nuevos valores de los xticks y sus posiciones\n",
    "x_values = [0, 1, 2, 3, 4, 5, 6]\n",
    "x_labels = ['Sunday', 'Monday', 'Tuesday', 'Wednesday', 'Thursday', 'Friday', 'Saturday']\n",
    "\n",
    "# Lista para cantidad de usuarios que hicieron una compra cada día\n",
    "df_hist_2 = df_instacart_orders.groupby('order_dow')['user_id'].count()\n",
    "\n",
    "df_hist_2.plot(kind = 'bar',\n",
    "               xlabel = 'Day of the week',\n",
    "               ylabel = 'Qty. of customers',\n",
    "               rot = 20,\n",
    "               figsize = [6, 5],\n",
    "               title = 'Purchases per day')\n",
    "\n",
    "plt.xticks(ticks = x_values, labels = x_labels)\n",
    "plt.show()"
   ]
  },
  {
   "cell_type": "markdown",
   "metadata": {},
   "source": [
    "Escribe aquí tus conclusiones\n",
    "\n",
    "La actividad de compras de los usuarios y usuarias no varia abruptamente durante toda la semana, pero si se puede apreciar un ligero aumento (ligero en comparación a la actividad de la mayoría de los dias, pero puede que mi persepción sea erronea) en los días Domingo y Lunes.\n",
    "\n",
    "Tomaría esta información para tener un aumento de personal de servivio al cliente parecida durante todos los días con un ligero aumento de un 20% para los días Domingo y Lunes y así evitar tiempo de espera largos para los clientes."
   ]
  },
  {
   "cell_type": "markdown",
   "metadata": {},
   "source": [
    "### [A4] ¿Cuánto tiempo esperan las personas hasta hacer otro pedido? Comenta sobre los valores mínimos y máximos."
   ]
  },
  {
   "cell_type": "code",
   "execution_count": 40,
   "metadata": {},
   "outputs": [
    {
     "name": "stdout",
     "output_type": "stream",
     "text": [
      "30.0\n",
      "0.0\n",
      "[ 0.  1.  2.  3.  4.  5.  6.  7.  8.  9. 10. 11. 12. 13. 14. 15. 16. 17.\n",
      " 18. 19. 20. 21. 22. 23. 24. 25. 26. 27. 28. 29. 30. nan]\n"
     ]
    }
   ],
   "source": [
    "# Valor máximo y mínimo de días esperados entre compras junto a los valores únicos\n",
    "print(df_instacart_orders['days_since_prior_order'].max())\n",
    "print(df_instacart_orders['days_since_prior_order'].min())\n",
    "print(df_instacart_orders['days_since_prior_order'].sort_values().unique())"
   ]
  },
  {
   "cell_type": "code",
   "execution_count": 42,
   "metadata": {},
   "outputs": [
    {
     "name": "stdout",
     "output_type": "stream",
     "text": [
      "\n"
     ]
    },
    {
     "data": {
      "image/png": "[encoded data removed]",
      "text/plain": [
       "<Figure size 1000x500 with 1 Axes>"
      ]
     },
     "metadata": {},
     "output_type": "display_data"
    }
   ],
   "source": [
    "df_hist_3 = df_instacart_orders.groupby('days_since_prior_order')['user_id'].count()\n",
    "\n",
    "# Variables usadas para el bucle de abajo\n",
    "i = 0\n",
    "x_labels_2 = []\n",
    "x_pos = []\n",
    "\n",
    "# Bucle para cambiar las etiquetas de la gráfica a valores enteros sin manipular la columna \n",
    "for element in df_instacart_orders['days_since_prior_order'].sort_values().unique():\n",
    "    try:\n",
    "       x_labels_2.append(str(int(element / 1)))\n",
    "    except:\n",
    "        print(\"\")\n",
    "\n",
    "# Bucle para obtener las posiciones de las nuevas etiquetas de la gráfica\n",
    "while i < df_instacart_orders['days_since_prior_order'].nunique():\n",
    "    x_pos.append(i)\n",
    "    i += 1\n",
    "\n",
    "df_hist_3.plot(kind = 'bar',\n",
    "               xlabel = 'Days',\n",
    "               ylabel = 'Qty. of customers',\n",
    "               rot = 0,\n",
    "               figsize = [10,5],\n",
    "               title = 'Days since prior order')\n",
    "\n",
    "plt.xticks(ticks = x_pos, labels = x_labels_2)\n",
    "plt.show()"
   ]
  },
  {
   "cell_type": "markdown",
   "metadata": {},
   "source": [
    "Escribe aquí tus conclusiones\n",
    "\n",
    "De esta imagen tenemos 3 comportamientos principales en los usuarios y usuarias:\n",
    " - 1.- Un gran número de los clientes toma periodos de tiempo largos entre compras, como se puede apreciar en el pico más alto usuarios en el valor 30.\n",
    " - 2.- De no ser el caso, comunmente los clientes tomas periodos de tiempo dentro de una semana para efectuar compras, como se ve en que el mayor conjunto de los datos se encuentra dentro de los valores 0 y 7.\n",
    " - 3.- En menor medida, los usuarios tienden a efectuar una segunda compra después de 1 a 2 semanas. Se aprecia esto debido a que el conjunto de 8 a 14 días muestra una muestra, que si bien es pequeña en comparación a las muestras de los primeros 2 puntos, representa un buen porcentaje de los datos."
   ]
  },
  {
   "cell_type": "markdown",
   "metadata": {},
   "source": [
    "# [B] Intermedio (deben completarse todos para aprobar)\n",
    "\n",
    "1. ¿Existe alguna diferencia entre las distribuciones `'order_hour_of_day'` de los miércoles y los sábados? Traza gráficos de barra de `'order_hour_of_day'` para ambos días en la misma figura y describe las diferencias que observes.\n",
    "2. Grafica la distribución para el número de órdenes que hacen los clientes (es decir, cuántos clientes hicieron solo 1 pedido, cuántos hicieron 2, cuántos 3, y así sucesivamente...).\n",
    "3. ¿Cuáles son los 20 principales productos que se piden con más frecuencia (muestra su identificación y nombre)?"
   ]
  },
  {
   "cell_type": "markdown",
   "metadata": {},
   "source": [
    "### [B1] Diferencia entre miércoles y sábados para  `'order_hour_of_day'`. Traza gráficos de barra para los dos días y describe las diferencias que veas."
   ]
  },
  {
   "cell_type": "code",
   "execution_count": 43,
   "metadata": {},
   "outputs": [],
   "source": [
    "# Obtener valores para el día Miércoles\n",
    "df_orders_wednesday = df_instacart_orders[df_instacart_orders['order_dow'] == 3].groupby('order_hour_of_day')['user_id'].count()\n",
    "\n",
    "# Obtener valores para el día Sábado\n",
    "df_orders_saturday = df_instacart_orders[df_instacart_orders['order_dow'] == 6].groupby('order_hour_of_day')['user_id'].count()"
   ]
  },
  {
   "cell_type": "code",
   "execution_count": 44,
   "metadata": {},
   "outputs": [],
   "source": [
    "# Combinamos ambas listas en un DataFrame\n",
    "df_days_of_week = pd.concat([df_orders_wednesday, df_orders_saturday], axis = 'columns')\n",
    "\n",
    "# Cambiamos las etiquetas a valores más descriptivos\n",
    "df_days_of_week.columns = ['users_wednesday', 'users_saturday']"
   ]
  },
  {
   "cell_type": "code",
   "execution_count": 46,
   "metadata": {},
   "outputs": [
    {
     "data": {
      "image/png": "[encoded data removed]",
      "text/plain": [
       "<Figure size 800x500 with 1 Axes>"
      ]
     },
     "metadata": {},
     "output_type": "display_data"
    }
   ],
   "source": [
    "df_days_of_week.plot(kind = 'bar',\n",
    "                     y = ['users_wednesday', 'users_saturday'],\n",
    "                     xlabel = 'Hour of day (24hrs format)',\n",
    "                     ylabel = 'Qty. of customers',\n",
    "                     rot = 0,\n",
    "                     figsize = [8,5],\n",
    "                     title = 'Customers per hour Wednesday vs Saturday')\n",
    "\n",
    "plt.legend(['Wednesday', 'Saturday'])\n",
    "plt.show()"
   ]
  },
  {
   "cell_type": "markdown",
   "metadata": {},
   "source": [
    "Escribe aquí tus conclusiones\n",
    "\n",
    "Ambos días presentan una actividad similar (parecida a una campana de Gauss) en las compras pero con ligeras diferencias en las horas del día cercas de las 12:00 p.m. Se podría suponer que esto se debe a que una mayor cantidad de usuarios y usuarias tienen más tiempo libre el Sábado, pero se debe de profundizar con más información para confirmar esta hipótesis."
   ]
  },
  {
   "cell_type": "markdown",
   "metadata": {},
   "source": [
    "### [B2] ¿Cuál es la distribución para el número de pedidos por cliente?"
   ]
  },
  {
   "cell_type": "code",
   "execution_count": 47,
   "metadata": {},
   "outputs": [],
   "source": [
    "# Obtenemos la cantidad de ordenes por usuario\n",
    "df_orders_distribution = df_instacart_orders.groupby('user_id')['order_id'].count()"
   ]
  },
  {
   "cell_type": "code",
   "execution_count": 48,
   "metadata": {},
   "outputs": [
    {
     "data": {
      "image/png": "[encoded data removed]",
      "text/plain": [
       "<Figure size 1000x500 with 1 Axes>"
      ]
     },
     "metadata": {},
     "output_type": "display_data"
    }
   ],
   "source": [
    "df_orders_distribution.plot(kind = 'hist',\n",
    "                            bins = 25,\n",
    "                            xlabel = 'Number of orders',\n",
    "                            ylabel = 'Frequency of customers',\n",
    "                            rot = 0,\n",
    "                            figsize = [10, 5],\n",
    "                            title = 'Orders per customer')\n",
    "\n",
    "plt.show()"
   ]
  },
  {
   "cell_type": "markdown",
   "metadata": {},
   "source": [
    "Escribe aquí tus conclusiones\n",
    "\n",
    "La gran mayoría de los usuarios y usuarias han efectuado 5 compras o menos, y la gran minoría han efectuado más de 5 compras. Existen casos donde usuarios han hecho muchas más compras que la mayoría, pero son muy escasas (hasta 28 compras)."
   ]
  },
  {
   "cell_type": "markdown",
   "metadata": {},
   "source": [
    "### [B3] ¿Cuáles son los 20 productos más populares (muestra su ID y nombre)?"
   ]
  },
  {
   "cell_type": "code",
   "execution_count": 49,
   "metadata": {},
   "outputs": [],
   "source": [
    "# Creamos un DataFrame vacio\n",
    "popular_products = pd.DataFrame({})\n",
    "\n",
    "# Obtenemos una lista descendente de los productos más populares y guardamos el indice\n",
    "# en la columna product_id del DataFrame vacio\n",
    "popular_products['product_id'] = df_order_products.groupby('product_id')['order_id'].count().sort_values(ascending=False).index"
   ]
  },
  {
   "cell_type": "code",
   "execution_count": 50,
   "metadata": {},
   "outputs": [],
   "source": [
    "# Hacemos inner merge con el DF de productos para obtener el nombre de los productos\n",
    "complete_popular_products = popular_products.merge(df_products, on='product_id')\n",
    "\n",
    "# Nos deshacemos de las columnas innecesarias\n",
    "complete_popular_products = complete_popular_products.drop(['product_name','aisle_id', 'department_id'], axis='columns')"
   ]
  },
  {
   "cell_type": "code",
   "execution_count": 51,
   "metadata": {},
   "outputs": [
    {
     "name": "stdout",
     "output_type": "stream",
     "text": [
      "    product_id         product_uppercase\n",
      "0        24852                    BANANA\n",
      "1        13176    BAG OF ORGANIC BANANAS\n",
      "2        21137      ORGANIC STRAWBERRIES\n",
      "3        21903      ORGANIC BABY SPINACH\n",
      "4        47209      ORGANIC HASS AVOCADO\n",
      "5        47766           ORGANIC AVOCADO\n",
      "6        47626               LARGE LEMON\n",
      "7        16797              STRAWBERRIES\n",
      "8        26209                     LIMES\n",
      "9        27845        ORGANIC WHOLE MILK\n",
      "10       27966       ORGANIC RASPBERRIES\n",
      "11       22935      ORGANIC YELLOW ONION\n",
      "12       24964            ORGANIC GARLIC\n",
      "13       45007          ORGANIC ZUCCHINI\n",
      "14       39275       ORGANIC BLUEBERRIES\n",
      "15       49683            CUCUMBER KIRBY\n",
      "16       28204        ORGANIC FUJI APPLE\n",
      "17        5876             ORGANIC LEMON\n",
      "18        8277  APPLE HONEYCRISP ORGANIC\n",
      "19       40706    ORGANIC GRAPE TOMATOES\n"
     ]
    }
   ],
   "source": [
    "print(complete_popular_products.head(20))"
   ]
  },
  {
   "cell_type": "markdown",
   "metadata": {},
   "source": [
    "Escribe aquí tus conclusiones\n",
    "\n",
    "La lista de los productos más populares muestra una clara tendencia en `productos orgánicos` o de `origen animal`. Esto significa que nuestros clientes prefieren este tipo de productos y puede que si aumentemos nuestro inventario en estas categorías aumenten las ventas (se necesitan más datos para confirmar esto)."
   ]
  },
  {
   "cell_type": "markdown",
   "metadata": {},
   "source": [
    "# [C] Difícil (deben completarse todos para aprobar)\n",
    "\n",
    "1. ¿Cuántos artículos suelen comprar las personas en un pedido? ¿Cómo es la distribución?\n",
    "2. ¿Cuáles son los 20 principales artículos que vuelven a pedirse con mayor frecuencia (muestra sus nombres e IDs de los productos)?\n",
    "3. Para cada producto, ¿cuál es la tasa de repetición del pedido (número de repeticiones de pedido/total de pedidos?\n",
    "4. Para cada cliente, ¿qué proporción de los productos que pidió ya los había pedido? Calcula la tasa de repetición de pedido para cada usuario en lugar de para cada producto.\n",
    "5. ¿Cuáles son los 20 principales artículos que la gente pone primero en sus carritos (muestra las IDs de los productos, sus nombres, y el número de veces en que fueron el primer artículo en añadirse al carrito)?"
   ]
  },
  {
   "cell_type": "markdown",
   "metadata": {},
   "source": [
    "### [C1] ¿Cuántos artículos compran normalmente las personas en un pedido? ¿Cómo es la distribución?"
   ]
  },
  {
   "cell_type": "code",
   "execution_count": 52,
   "metadata": {},
   "outputs": [
    {
     "name": "stdout",
     "output_type": "stream",
     "text": [
      "Customers bought an average of: 10 products.\n"
     ]
    }
   ],
   "source": [
    "# Obtenbemos la cantidad promedio de productos comprados por orden de compra\n",
    "mean_distribution = df_order_products['product_id'].count() / df_order_products['order_id'].nunique()\n",
    "print(\"Customers bought an average of: \" + str(int(mean_distribution)) + \" products.\")"
   ]
  },
  {
   "cell_type": "code",
   "execution_count": 53,
   "metadata": {},
   "outputs": [
    {
     "name": "stdout",
     "output_type": "stream",
     "text": [
      "order_id\n",
      "4          13\n",
      "9          15\n",
      "11          5\n",
      "19          3\n",
      "20          8\n",
      "           ..\n",
      "3421034    17\n",
      "3421053     9\n",
      "3421071     5\n",
      "3421077     4\n",
      "3421079     1\n",
      "Name: product_id, Length: 450046, dtype: int64\n",
      "64\n",
      "75\n"
     ]
    }
   ],
   "source": [
    "# Obtenemos el número de artículos comprados en cada orden de compra\n",
    "df_mean = df_order_products.groupby('order_id')['product_id'].count()\n",
    "print(df_mean)\n",
    "\n",
    "# Lineas para asegurarme de la información (no afectan al código)\n",
    "print(df_order_products[df_order_products['add_to_cart_order'] != 999]['add_to_cart_order'].max())\n",
    "print(df_order_products[df_order_products['add_to_cart_order'] == 64]['add_to_cart_order'].count())"
   ]
  },
  {
   "cell_type": "code",
   "execution_count": 54,
   "metadata": {},
   "outputs": [
    {
     "data": {
      "image/png": "[encoded data removed]",
      "text/plain": [
       "<Figure size 640x480 with 1 Axes>"
      ]
     },
     "metadata": {},
     "output_type": "display_data"
    }
   ],
   "source": [
    "df_mean.plot(kind = 'hist',\n",
    "            bins = 30,\n",
    "            xlabel = 'Products per order',\n",
    "            ylabel = 'Frequency',\n",
    "             grid = True,\n",
    "            title = 'Distribution of products per order')\n",
    "\n",
    "plt.show()"
   ]
  },
  {
   "cell_type": "markdown",
   "metadata": {},
   "source": [
    "Escribe aquí tus conclusiones\n",
    "\n",
    "Si bien se aprecia que la gran mayoría de los clientes compran 10 productos o menos (como se ve en el histograma), considero seguro concluir que una cifra óptima de productos por compra sería 20, siendo las compras con más productos una cifra considerablemente pequeña en comparación.\n",
    "\n",
    "Para fomentar la compra de estas cantidades, puede que el uso de cupones para compras superiores a 10 productos aumente las ventas."
   ]
  },
  {
   "cell_type": "markdown",
   "metadata": {},
   "source": [
    "### [C2] ¿Cuáles son los 20 principales artículos que vuelven a pedirse con mayor frecuencia (muestra sus nombres e IDs de los productos)?"
   ]
  },
  {
   "cell_type": "code",
   "execution_count": 55,
   "metadata": {},
   "outputs": [
    {
     "name": "stdout",
     "output_type": "stream",
     "text": [
      "    product_id\n",
      "0        24852\n",
      "1        13176\n",
      "2        21137\n",
      "3        21903\n",
      "4        47209\n",
      "5        47766\n",
      "6        27845\n",
      "7        47626\n",
      "8        27966\n",
      "9        16797\n",
      "10       26209\n",
      "11       22935\n",
      "12       24964\n",
      "13       45007\n",
      "14       49683\n",
      "15       28204\n",
      "16        8277\n",
      "17       39275\n",
      "18        5876\n",
      "19       49235\n"
     ]
    }
   ],
   "source": [
    "# Creamos un DataFrame vacio\n",
    "reordered_df = pd.DataFrame({})\n",
    "\n",
    "# Obtenemos una lista con la cantidad de productos que más se repiten en las compras, obtenemos su product_id\n",
    "# y lo guardamos en el DataFrame vacio\n",
    "reordered_df['product_id'] = df_order_products.groupby('product_id')['reordered'].sum().sort_values(ascending=False).index\n",
    "print(reordered_df.head(20))"
   ]
  },
  {
   "cell_type": "code",
   "execution_count": 56,
   "metadata": {},
   "outputs": [],
   "source": [
    "# Hacemos inner merge con el DF de productos y borramos las columnas innecesarias\n",
    "reordered_merge = reordered_df.merge(df_products, on = 'product_id').drop(['product_name', 'aisle_id', 'department_id'], axis = 'columns')"
   ]
  },
  {
   "cell_type": "code",
   "execution_count": 57,
   "metadata": {},
   "outputs": [
    {
     "name": "stdout",
     "output_type": "stream",
     "text": [
      "    product_id         product_uppercase\n",
      "0        24852                    BANANA\n",
      "1        13176    BAG OF ORGANIC BANANAS\n",
      "2        21137      ORGANIC STRAWBERRIES\n",
      "3        21903      ORGANIC BABY SPINACH\n",
      "4        47209      ORGANIC HASS AVOCADO\n",
      "5        47766           ORGANIC AVOCADO\n",
      "6        27845        ORGANIC WHOLE MILK\n",
      "7        47626               LARGE LEMON\n",
      "8        27966       ORGANIC RASPBERRIES\n",
      "9        16797              STRAWBERRIES\n",
      "10       26209                     LIMES\n",
      "11       22935      ORGANIC YELLOW ONION\n",
      "12       24964            ORGANIC GARLIC\n",
      "13       45007          ORGANIC ZUCCHINI\n",
      "14       49683            CUCUMBER KIRBY\n",
      "15       28204        ORGANIC FUJI APPLE\n",
      "16        8277  APPLE HONEYCRISP ORGANIC\n",
      "17       39275       ORGANIC BLUEBERRIES\n",
      "18        5876             ORGANIC LEMON\n",
      "19       49235       ORGANIC HALF & HALF\n"
     ]
    }
   ],
   "source": [
    "print(reordered_merge.head(20))"
   ]
  },
  {
   "cell_type": "markdown",
   "metadata": {},
   "source": [
    "Escribe aquí tus conclusiones\n",
    "\n",
    "Similar al punto de los 20 productos más populares, se ve que los 20 productos quemás sevuelven a comprar son en su mayoría (por no decir todos) de las mismas categorías: `orgánicos` y `origen animal`.\n",
    "\n",
    "Esto hace ganar peso a la estrategia de aumentar los productos de esas categorías para aumentar las ventas."
   ]
  },
  {
   "cell_type": "markdown",
   "metadata": {},
   "source": [
    "### [C3] Para cada producto, ¿cuál es la proporción de las veces que se pide y que se vuelve a pedir?"
   ]
  },
  {
   "cell_type": "code",
   "execution_count": 58,
   "metadata": {},
   "outputs": [
    {
     "name": "stdout",
     "output_type": "stream",
     "text": [
      "product_id\n",
      "24852    14.676278\n",
      "13176    11.842567\n",
      "21137     8.230048\n",
      "21903     7.548340\n",
      "47209     6.615546\n",
      "Name: reordered, dtype: float64\n",
      "\n",
      "product_id\n",
      "24852    12.390511\n",
      "13176     9.876768\n",
      "21137     6.363572\n",
      "21903     5.828960\n",
      "47209     5.250352\n",
      "Name: reordered, dtype: float64\n"
     ]
    }
   ],
   "source": [
    "# Obtenemos el promedio (base 100) de productos comprados y de productos repetidos en cada orden de compra\n",
    "product_order = df_order_products.groupby('product_id')['reordered'].count() / df_order_products['order_id'].nunique() * 100\n",
    "product_reordered = df_order_products.groupby('product_id')['reordered'].sum() / df_order_products['order_id'].nunique() * 100\n",
    "\n",
    "print(product_order.sort_values(ascending=False).head(5))\n",
    "print()\n",
    "print(product_reordered.sort_values(ascending=False).head(5))"
   ]
  },
  {
   "cell_type": "code",
   "execution_count": 61,
   "metadata": {},
   "outputs": [
    {
     "data": {
      "image/png": "[encoded data removed]",
      "text/plain": [
       "<Figure size 1500x800 with 1 Axes>"
      ]
     },
     "metadata": {},
     "output_type": "display_data"
    }
   ],
   "source": [
    "# Puntos 'x' y 'y' para los 5 picos que representan los productos más comprados\n",
    "x = [24852, 13176, 21137, 21903, 47209]\n",
    "y = [14.67, 11.84, 8.23, 7.54, 6.61]\n",
    "\n",
    "product_order.plot(grid=True, figsize = [15, 8], xlabel='Products per ID', ylabel='Percentage', title='Frecuency of ordering by product')\n",
    "plt.plot(x, y, marker='o', linewidth=0)\n",
    "plt.text(x[0]+800, y[0], 'ID 24852')\n",
    "plt.text(x[1]-2500, y[1]+0.5, 'ID 13176')\n",
    "plt.text(x[2]-3500, y[2]+0.5, 'ID 21137')\n",
    "plt.text(x[3]+800, y[3]-0.2, 'ID 21903')\n",
    "plt.text(x[4]-2500, y[4]+0.5, 'ID 47209')\n",
    "plt.show()"
   ]
  },
  {
   "cell_type": "code",
   "execution_count": 62,
   "metadata": {},
   "outputs": [
    {
     "data": {
      "image/png": "[encoded data removed]",
      "text/plain": [
       "<Figure size 1500x800 with 1 Axes>"
      ]
     },
     "metadata": {},
     "output_type": "display_data"
    }
   ],
   "source": [
    "# Puntos 'x' y 'y' para los 5 picos que representan los productos más repetidos\n",
    "x = [24852, 13176, 21137, 21903, 47209]\n",
    "y = [12.39, 9.87, 6.36, 5.82, 5.25]\n",
    "\n",
    "product_reordered.plot(grid=True, figsize = [15, 8], xlabel='Products per ID', ylabel='Percentage', title='Frecuency of re-ordering by product')\n",
    "plt.plot(x, y, marker='o', linewidth=0)\n",
    "plt.text(x[0]+800, y[0], 'ID 24852')\n",
    "plt.text(x[1]-2500, y[1]+0.5, 'ID 13176')\n",
    "plt.text(x[2]-3500, y[2]+0.5, 'ID 21137')\n",
    "plt.text(x[3]+800, y[3]-0.2, 'ID 21903')\n",
    "plt.text(x[4]-2500, y[4]+0.5, 'ID 47209')\n",
    "plt.show()"
   ]
  },
  {
   "cell_type": "markdown",
   "metadata": {},
   "source": [
    "Escribe aquí tus conclusiones\n",
    "\n",
    "Las gráficas de lineas muestran las `'probabilidades'` (creo que a eso se refería con `'proporción'`) de que un producto activo sea comprado y que un producto activo sea re-comprado. Para ambos casos se presentan los 5 productos más populares y que vuelven a repetirse con frecuencia (presentando los 5 picos para ambas imágenes).\n",
    "\n",
    "El producto más popular `'BANANA'` tiene una probabilidad del `14.67% de ser comprado` y un `12.39% de ser re-comprado` en cada compra que se registra."
   ]
  },
  {
   "cell_type": "markdown",
   "metadata": {},
   "source": [
    "### [C4] Para cada cliente, ¿qué proporción de sus productos ya los había pedido?"
   ]
  },
  {
   "cell_type": "code",
   "execution_count": 64,
   "metadata": {},
   "outputs": [
    {
     "data": {
      "text/plain": [
       "0.0"
      ]
     },
     "execution_count": 64,
     "metadata": {},
     "output_type": "execute_result"
    }
   ],
   "source": [
    "# Creamos un DataFrame vacio\n",
    "mean_reordered_df = pd.DataFrame({})\n",
    "\n",
    "#Obtenemos el valor promedio de productos repetidos presentes en una orden de compra\n",
    "mean_reordered_df['mean_reordered_per_order'] = df_order_products.groupby('order_id')['reordered'].mean()\n",
    "mean_reordered_df.reset_index()\n",
    "\n",
    "# Hacemos inner merge con el DF de las ordenes de compra para obtener la columna de 'user_id'\n",
    "mean_merged_df = mean_reordered_df.merge(df_instacart_orders, on='order_id')\n",
    "\n",
    "# Usamos el promedio anterior para obtener el promedio de productos repetidos por cliente (base 100)\n",
    "user_mean = mean_merged_df.groupby('user_id')['mean_reordered_per_order'].mean() * 100\n",
    "user_mean.min()"
   ]
  },
  {
   "cell_type": "code",
   "execution_count": 65,
   "metadata": {},
   "outputs": [
    {
     "data": {
      "image/png": "[encoded data removed]",
      "text/plain": [
       "<Figure size 1200x800 with 1 Axes>"
      ]
     },
     "metadata": {},
     "output_type": "display_data"
    }
   ],
   "source": [
    "user_mean.plot(kind='hist', \n",
    "               xlabel = 'Reorder frequency (in %)', \n",
    "               ylabel = 'Customer frequency', \n",
    "               title = 'Frequency of reordered products per customer', \n",
    "               bins = 100, \n",
    "               figsize = [12, 8],\n",
    "               grid = True)\n",
    "\n",
    "plt.show()"
   ]
  },
  {
   "cell_type": "markdown",
   "metadata": {},
   "source": [
    "Escribe aquí tus conclusiones\n",
    "\n",
    "En este histograma se aprecian varios picos para la tasa de productos repetidos entre ordenes para los clientes. Se tiene el pico más grande en 0% de productos repetidos (seguramente de clientes que solo han hecho una compra y que se explica con las imágenes anteriores debido a que la gran mayoría de usuarios tienen pocas compras), seguido de un pico en el 100% (seguramente de clientes que tienen mucho tiempo en la plataforma y que estaban registrados antes de estos datos) y depués un pico alrededor de 50% (seguramente de usuarios ocasionales). Fuera de estos picos se tienen picos menores.\n",
    "\n",
    "Comprendo que la gráfica explica que la mayoría de los usuarios y usuarias muestran una distribución homogénea y seguramente sea difícil sacar conclusiones con esta gráfica por si misma."
   ]
  },
  {
   "cell_type": "markdown",
   "metadata": {},
   "source": [
    "### [C5] ¿Cuáles son los 20 principales artículos que las personas ponen primero en sus carritos?"
   ]
  },
  {
   "cell_type": "code",
   "execution_count": 66,
   "metadata": {},
   "outputs": [
    {
     "data": {
      "text/html": [
       "<div>\n",
       "<style scoped>\n",
       "    .dataframe tbody tr th:only-of-type {\n",
       "        vertical-align: middle;\n",
       "    }\n",
       "\n",
       "    .dataframe tbody tr th {\n",
       "        vertical-align: top;\n",
       "    }\n",
       "\n",
       "    .dataframe thead th {\n",
       "        text-align: right;\n",
       "    }\n",
       "</style>\n",
       "<table border=\"1\" class=\"dataframe\">\n",
       "  <thead>\n",
       "    <tr style=\"text-align: right;\">\n",
       "      <th></th>\n",
       "      <th>product_id</th>\n",
       "      <th>values</th>\n",
       "    </tr>\n",
       "  </thead>\n",
       "  <tbody>\n",
       "    <tr>\n",
       "      <th>0</th>\n",
       "      <td>24852</td>\n",
       "      <td>15562</td>\n",
       "    </tr>\n",
       "    <tr>\n",
       "      <th>1</th>\n",
       "      <td>13176</td>\n",
       "      <td>11026</td>\n",
       "    </tr>\n",
       "    <tr>\n",
       "      <th>2</th>\n",
       "      <td>27845</td>\n",
       "      <td>4363</td>\n",
       "    </tr>\n",
       "    <tr>\n",
       "      <th>3</th>\n",
       "      <td>21137</td>\n",
       "      <td>3946</td>\n",
       "    </tr>\n",
       "    <tr>\n",
       "      <th>4</th>\n",
       "      <td>47209</td>\n",
       "      <td>3390</td>\n",
       "    </tr>\n",
       "    <tr>\n",
       "      <th>5</th>\n",
       "      <td>21903</td>\n",
       "      <td>3336</td>\n",
       "    </tr>\n",
       "    <tr>\n",
       "      <th>6</th>\n",
       "      <td>47766</td>\n",
       "      <td>3044</td>\n",
       "    </tr>\n",
       "    <tr>\n",
       "      <th>7</th>\n",
       "      <td>19660</td>\n",
       "      <td>2336</td>\n",
       "    </tr>\n",
       "    <tr>\n",
       "      <th>8</th>\n",
       "      <td>16797</td>\n",
       "      <td>2308</td>\n",
       "    </tr>\n",
       "    <tr>\n",
       "      <th>9</th>\n",
       "      <td>27966</td>\n",
       "      <td>2024</td>\n",
       "    </tr>\n",
       "    <tr>\n",
       "      <th>10</th>\n",
       "      <td>44632</td>\n",
       "      <td>1914</td>\n",
       "    </tr>\n",
       "    <tr>\n",
       "      <th>11</th>\n",
       "      <td>49235</td>\n",
       "      <td>1797</td>\n",
       "    </tr>\n",
       "    <tr>\n",
       "      <th>12</th>\n",
       "      <td>47626</td>\n",
       "      <td>1737</td>\n",
       "    </tr>\n",
       "    <tr>\n",
       "      <th>13</th>\n",
       "      <td>196</td>\n",
       "      <td>1733</td>\n",
       "    </tr>\n",
       "    <tr>\n",
       "      <th>14</th>\n",
       "      <td>38689</td>\n",
       "      <td>1397</td>\n",
       "    </tr>\n",
       "    <tr>\n",
       "      <th>15</th>\n",
       "      <td>26209</td>\n",
       "      <td>1370</td>\n",
       "    </tr>\n",
       "    <tr>\n",
       "      <th>16</th>\n",
       "      <td>12341</td>\n",
       "      <td>1340</td>\n",
       "    </tr>\n",
       "    <tr>\n",
       "      <th>17</th>\n",
       "      <td>5785</td>\n",
       "      <td>1310</td>\n",
       "    </tr>\n",
       "    <tr>\n",
       "      <th>18</th>\n",
       "      <td>27086</td>\n",
       "      <td>1309</td>\n",
       "    </tr>\n",
       "    <tr>\n",
       "      <th>19</th>\n",
       "      <td>43352</td>\n",
       "      <td>1246</td>\n",
       "    </tr>\n",
       "  </tbody>\n",
       "</table>\n",
       "</div>"
      ],
      "text/plain": [
       "    product_id  values\n",
       "0        24852   15562\n",
       "1        13176   11026\n",
       "2        27845    4363\n",
       "3        21137    3946\n",
       "4        47209    3390\n",
       "5        21903    3336\n",
       "6        47766    3044\n",
       "7        19660    2336\n",
       "8        16797    2308\n",
       "9        27966    2024\n",
       "10       44632    1914\n",
       "11       49235    1797\n",
       "12       47626    1737\n",
       "13         196    1733\n",
       "14       38689    1397\n",
       "15       26209    1370\n",
       "16       12341    1340\n",
       "17        5785    1310\n",
       "18       27086    1309\n",
       "19       43352    1246"
      ]
     },
     "execution_count": 66,
     "metadata": {},
     "output_type": "execute_result"
    }
   ],
   "source": [
    "# Creamos un DataFrame vacio\n",
    "first_product_df = pd.DataFrame({})\n",
    "\n",
    "# Contamos la cantidad de veces que cada producto ha sido introducido al carrito de compra como primer objeto\n",
    "first_product_df['counts'] = df_order_products[df_order_products['add_to_cart_order'] == 1]['product_id'].value_counts()\n",
    "\n",
    "# Generamos una nueva columna de product_id con el viejo indice del DataFrame y cambiamos su nombre\n",
    "first_product_df = first_product_df.reset_index()\n",
    "first_product_df.columns = ['product_id', 'values']\n",
    "first_product_df.head(20)"
   ]
  },
  {
   "cell_type": "code",
   "execution_count": 67,
   "metadata": {},
   "outputs": [],
   "source": [
    "# Hacemos innner merge con el DF de productos para obtener el nombre de los productos\n",
    "merged_first_products_df = first_product_df.merge(df_products, on='product_id')\n",
    "\n",
    "# Borramos las columnas innecesarias\n",
    "merged_first_products_df = merged_first_products_df.drop(['product_name', 'aisle_id', 'department_id'] ,axis = 'columns')"
   ]
  },
  {
   "cell_type": "code",
   "execution_count": 68,
   "metadata": {},
   "outputs": [
    {
     "data": {
      "text/html": [
       "<div>\n",
       "<style scoped>\n",
       "    .dataframe tbody tr th:only-of-type {\n",
       "        vertical-align: middle;\n",
       "    }\n",
       "\n",
       "    .dataframe tbody tr th {\n",
       "        vertical-align: top;\n",
       "    }\n",
       "\n",
       "    .dataframe thead th {\n",
       "        text-align: right;\n",
       "    }\n",
       "</style>\n",
       "<table border=\"1\" class=\"dataframe\">\n",
       "  <thead>\n",
       "    <tr style=\"text-align: right;\">\n",
       "      <th></th>\n",
       "      <th>product_id</th>\n",
       "      <th>values</th>\n",
       "      <th>product_uppercase</th>\n",
       "    </tr>\n",
       "  </thead>\n",
       "  <tbody>\n",
       "    <tr>\n",
       "      <th>0</th>\n",
       "      <td>24852</td>\n",
       "      <td>15562</td>\n",
       "      <td>BANANA</td>\n",
       "    </tr>\n",
       "    <tr>\n",
       "      <th>1</th>\n",
       "      <td>13176</td>\n",
       "      <td>11026</td>\n",
       "      <td>BAG OF ORGANIC BANANAS</td>\n",
       "    </tr>\n",
       "    <tr>\n",
       "      <th>2</th>\n",
       "      <td>27845</td>\n",
       "      <td>4363</td>\n",
       "      <td>ORGANIC WHOLE MILK</td>\n",
       "    </tr>\n",
       "    <tr>\n",
       "      <th>3</th>\n",
       "      <td>21137</td>\n",
       "      <td>3946</td>\n",
       "      <td>ORGANIC STRAWBERRIES</td>\n",
       "    </tr>\n",
       "    <tr>\n",
       "      <th>4</th>\n",
       "      <td>47209</td>\n",
       "      <td>3390</td>\n",
       "      <td>ORGANIC HASS AVOCADO</td>\n",
       "    </tr>\n",
       "    <tr>\n",
       "      <th>5</th>\n",
       "      <td>21903</td>\n",
       "      <td>3336</td>\n",
       "      <td>ORGANIC BABY SPINACH</td>\n",
       "    </tr>\n",
       "    <tr>\n",
       "      <th>6</th>\n",
       "      <td>47766</td>\n",
       "      <td>3044</td>\n",
       "      <td>ORGANIC AVOCADO</td>\n",
       "    </tr>\n",
       "    <tr>\n",
       "      <th>7</th>\n",
       "      <td>19660</td>\n",
       "      <td>2336</td>\n",
       "      <td>SPRING WATER</td>\n",
       "    </tr>\n",
       "    <tr>\n",
       "      <th>8</th>\n",
       "      <td>16797</td>\n",
       "      <td>2308</td>\n",
       "      <td>STRAWBERRIES</td>\n",
       "    </tr>\n",
       "    <tr>\n",
       "      <th>9</th>\n",
       "      <td>27966</td>\n",
       "      <td>2024</td>\n",
       "      <td>ORGANIC RASPBERRIES</td>\n",
       "    </tr>\n",
       "    <tr>\n",
       "      <th>10</th>\n",
       "      <td>44632</td>\n",
       "      <td>1914</td>\n",
       "      <td>SPARKLING WATER GRAPEFRUIT</td>\n",
       "    </tr>\n",
       "    <tr>\n",
       "      <th>11</th>\n",
       "      <td>49235</td>\n",
       "      <td>1797</td>\n",
       "      <td>ORGANIC HALF &amp; HALF</td>\n",
       "    </tr>\n",
       "    <tr>\n",
       "      <th>12</th>\n",
       "      <td>47626</td>\n",
       "      <td>1737</td>\n",
       "      <td>LARGE LEMON</td>\n",
       "    </tr>\n",
       "    <tr>\n",
       "      <th>13</th>\n",
       "      <td>196</td>\n",
       "      <td>1733</td>\n",
       "      <td>SODA</td>\n",
       "    </tr>\n",
       "    <tr>\n",
       "      <th>14</th>\n",
       "      <td>38689</td>\n",
       "      <td>1397</td>\n",
       "      <td>ORGANIC REDUCED FAT MILK</td>\n",
       "    </tr>\n",
       "    <tr>\n",
       "      <th>15</th>\n",
       "      <td>26209</td>\n",
       "      <td>1370</td>\n",
       "      <td>LIMES</td>\n",
       "    </tr>\n",
       "    <tr>\n",
       "      <th>16</th>\n",
       "      <td>12341</td>\n",
       "      <td>1340</td>\n",
       "      <td>HASS AVOCADOS</td>\n",
       "    </tr>\n",
       "    <tr>\n",
       "      <th>17</th>\n",
       "      <td>5785</td>\n",
       "      <td>1310</td>\n",
       "      <td>ORGANIC REDUCED FAT 2% MILK</td>\n",
       "    </tr>\n",
       "    <tr>\n",
       "      <th>18</th>\n",
       "      <td>27086</td>\n",
       "      <td>1309</td>\n",
       "      <td>HALF &amp; HALF</td>\n",
       "    </tr>\n",
       "    <tr>\n",
       "      <th>19</th>\n",
       "      <td>43352</td>\n",
       "      <td>1246</td>\n",
       "      <td>RASPBERRIES</td>\n",
       "    </tr>\n",
       "  </tbody>\n",
       "</table>\n",
       "</div>"
      ],
      "text/plain": [
       "    product_id  values            product_uppercase\n",
       "0        24852   15562                       BANANA\n",
       "1        13176   11026       BAG OF ORGANIC BANANAS\n",
       "2        27845    4363           ORGANIC WHOLE MILK\n",
       "3        21137    3946         ORGANIC STRAWBERRIES\n",
       "4        47209    3390         ORGANIC HASS AVOCADO\n",
       "5        21903    3336         ORGANIC BABY SPINACH\n",
       "6        47766    3044              ORGANIC AVOCADO\n",
       "7        19660    2336                 SPRING WATER\n",
       "8        16797    2308                 STRAWBERRIES\n",
       "9        27966    2024          ORGANIC RASPBERRIES\n",
       "10       44632    1914   SPARKLING WATER GRAPEFRUIT\n",
       "11       49235    1797          ORGANIC HALF & HALF\n",
       "12       47626    1737                  LARGE LEMON\n",
       "13         196    1733                         SODA\n",
       "14       38689    1397     ORGANIC REDUCED FAT MILK\n",
       "15       26209    1370                        LIMES\n",
       "16       12341    1340                HASS AVOCADOS\n",
       "17        5785    1310  ORGANIC REDUCED FAT 2% MILK\n",
       "18       27086    1309                  HALF & HALF\n",
       "19       43352    1246                  RASPBERRIES"
      ]
     },
     "execution_count": 68,
     "metadata": {},
     "output_type": "execute_result"
    }
   ],
   "source": [
    "merged_first_products_df.head(20)"
   ]
  },
  {
   "cell_type": "markdown",
   "metadata": {},
   "source": [
    "Escribe aquí tus conclusiones\n",
    "\n",
    "Se ve una tendencia marcada para productos `orgánicos` y de `origen animal` en los productos que los usuarios y usuarias eligen primero (marcando que los productos mencionados ya han estado entre los más populares para 4 hipótesis del proyecto). \n",
    "\n",
    "Seguramente una aumento en productos de estas categorías y adaptar la página para que sea más fácil encontrar este tipo de productos estaría relacionado a un aumento en las ventas, pero aun falta información para confirmarlo."
   ]
  },
  {
   "cell_type": "markdown",
   "metadata": {},
   "source": [
    "### Conclusion general del proyecto:"
   ]
  },
  {
   "cell_type": "markdown",
   "metadata": {},
   "source": [
    "En este proyecto se trabajó con datos de InstaCart, que si bien han sido manipulados para fines didácticos, han servido de ejemplo para poder entender, pre-procesar, y manipular los datos presentes. Se llegaron a conclusiones interesantes respecto a que los usuarios y usuarias mostraron una clara aceptación hacia productos orgánicos y de origen animal, así como tambien que seguramente nos interese hacer que las personas hagan más compras debido a la baja tendencia de actividad para la mayoría de los usuarios.\n",
    "\n",
    "Estas conclusiones pueden ser usadas para tomar decisiones de negocio respecto a posibles futuras campañas para aumentar las ventas (ya sea con cupones de descuento o campañas con marcas de productos orgánicos y de origen animal) o el aumentar inventario de una categoría de productos en específico."
   ]
  }
 ],
 "metadata": {
  "kernelspec": {
   "display_name": "myenv",
   "language": "python",
   "name": "python3"
  },
  "language_info": {
   "codemirror_mode": {
    "name": "ipython",
    "version": 3
   },
   "file_extension": ".py",
   "mimetype": "text/x-python",
   "name": "python",
   "nbconvert_exporter": "python",
   "pygments_lexer": "ipython3",
   "version": "3.12.2"
  }
 },
 "nbformat": 4,
 "nbformat_minor": 2
}
