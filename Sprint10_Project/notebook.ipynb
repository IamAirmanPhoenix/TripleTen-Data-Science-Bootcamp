{
 "cells": [
  {
   "cell_type": "markdown",
   "metadata": {},
   "source": [
    "## Introduction\n",
    "\n",
    "This is the project of Sprint 10: Machine Learning on Business. In this project I will apply business concepts applied to machine learning concepts, A/B tests, bootstrapping and cross validation on a project focused for OilyGiant, an oil extraction company seeking where to open 200 new oil wells.\n",
    "\n",
    "### Explaining the case\n",
    "\n",
    "We are working on an oil extraction company named OilyGiant, and they have requested us to find the best locations for 200 future oil wells. They gave us raw data from samples of three regions, knowing the parameters of each well on the regions, and want to know the region with the best profit margin.\n",
    "\n",
    "## Read the data\n",
    "\n",
    "Knowing this, we first need to see the information OilyGiant gave us. Once we confirm the information is as we need it to be we can continue and proceed to further steps.\n",
    "\n",
    "### Importing libraries\n",
    "\n",
    "In this block code are the libraries/modules needed for the project."
   ]
  },
  {
   "cell_type": "code",
   "execution_count": 1,
   "metadata": {},
   "outputs": [],
   "source": [
    "import math\n",
    "import locale\n",
    "import pandas as pd\n",
    "from pandas.plotting import scatter_matrix\n",
    "import numpy as np\n",
    "from scipy import stats as st\n",
    "import seaborn as sns\n",
    "from matplotlib import pyplot as plt\n",
    "from sklearn.decomposition import PCA\n",
    "from sklearn.metrics import mean_squared_error, mean_absolute_error, r2_score\n",
    "from sklearn.linear_model import LinearRegression\n",
    "from sklearn.model_selection import train_test_split, cross_val_score\n",
    "from sklearn.preprocessing import StandardScaler\n",
    "\n",
    "locale.setlocale(locale.LC_ALL, '')\n",
    "DataFrame = pd.DataFrame({})"
   ]
  },
  {
   "cell_type": "markdown",
   "metadata": {},
   "source": [
    "### Reading the datasets\n",
    "\n",
    "Now we are saving the datasets we were given on variables `reg0`, `reg1` and `reg2`. Each of these variables has the geological information for each of the three regions where OilyGiant may want to dig on next. As contract details and each well characteristics  cannot be published all the data is synthetic."
   ]
  },
  {
   "cell_type": "code",
   "execution_count": 2,
   "metadata": {},
   "outputs": [],
   "source": [
    "reg0 = pd.read_csv('/datasets/geo_data_0.csv')\n",
    "reg1 = pd.read_csv('/datasets/geo_data_1.csv')\n",
    "reg2 = pd.read_csv('/datasets/geo_data_2.csv')"
   ]
  },
  {
   "cell_type": "markdown",
   "metadata": {},
   "source": [
    "The information on these three datasets is distributed the same way and has the same number of rows, but the data vary due to the region difference between them.\n",
    "\n",
    "The columns for all the datasets are the following:\n",
    "\n",
    "* `id`: Oil well unique identifier.\n",
    "* `f1`, `f2`, `f3`: Characteristics of the wells (this information is encoded but its values are significant).\n",
    "* `product`: Reserve volume on the oil well (thousands of barrels). Each product unit is equivalent to $4500 USD.\n",
    "\n",
    "Knowing this we now know which columns are our features and which column is our target:\n",
    "\n",
    "* `features`: id, f0, f1, f2.\n",
    "* `target`: product.\n",
    "\n",
    "Let's see how this data is distributed on all the three datasets.\n",
    "\n",
    "#### Dataset `geo_data_0.csv`"
   ]
  },
  {
   "cell_type": "code",
   "execution_count": 3,
   "metadata": {},
   "outputs": [
    {
     "name": "stdout",
     "output_type": "stream",
     "text": [
      "<class 'pandas.core.frame.DataFrame'>\n",
      "RangeIndex: 100000 entries, 0 to 99999\n",
      "Data columns (total 5 columns):\n",
      " #   Column   Non-Null Count   Dtype  \n",
      "---  ------   --------------   -----  \n",
      " 0   id       100000 non-null  object \n",
      " 1   f0       100000 non-null  float64\n",
      " 2   f1       100000 non-null  float64\n",
      " 3   f2       100000 non-null  float64\n",
      " 4   product  100000 non-null  float64\n",
      "dtypes: float64(4), object(1)\n",
      "memory usage: 3.8+ MB\n"
     ]
    }
   ],
   "source": [
    "reg0.info()"
   ]
  },
  {
   "cell_type": "code",
   "execution_count": 4,
   "metadata": {
    "scrolled": true
   },
   "outputs": [
    {
     "data": {
      "text/html": [
       "<div>\n",
       "<style scoped>\n",
       "    .dataframe tbody tr th:only-of-type {\n",
       "        vertical-align: middle;\n",
       "    }\n",
       "\n",
       "    .dataframe tbody tr th {\n",
       "        vertical-align: top;\n",
       "    }\n",
       "\n",
       "    .dataframe thead th {\n",
       "        text-align: right;\n",
       "    }\n",
       "</style>\n",
       "<table border=\"1\" class=\"dataframe\">\n",
       "  <thead>\n",
       "    <tr style=\"text-align: right;\">\n",
       "      <th></th>\n",
       "      <th>id</th>\n",
       "      <th>f0</th>\n",
       "      <th>f1</th>\n",
       "      <th>f2</th>\n",
       "      <th>product</th>\n",
       "    </tr>\n",
       "  </thead>\n",
       "  <tbody>\n",
       "    <tr>\n",
       "      <th>count</th>\n",
       "      <td>100000</td>\n",
       "      <td>100000.000000</td>\n",
       "      <td>100000.000000</td>\n",
       "      <td>100000.000000</td>\n",
       "      <td>100000.000000</td>\n",
       "    </tr>\n",
       "    <tr>\n",
       "      <th>unique</th>\n",
       "      <td>99990</td>\n",
       "      <td>NaN</td>\n",
       "      <td>NaN</td>\n",
       "      <td>NaN</td>\n",
       "      <td>NaN</td>\n",
       "    </tr>\n",
       "    <tr>\n",
       "      <th>top</th>\n",
       "      <td>Tdehs</td>\n",
       "      <td>NaN</td>\n",
       "      <td>NaN</td>\n",
       "      <td>NaN</td>\n",
       "      <td>NaN</td>\n",
       "    </tr>\n",
       "    <tr>\n",
       "      <th>freq</th>\n",
       "      <td>2</td>\n",
       "      <td>NaN</td>\n",
       "      <td>NaN</td>\n",
       "      <td>NaN</td>\n",
       "      <td>NaN</td>\n",
       "    </tr>\n",
       "    <tr>\n",
       "      <th>mean</th>\n",
       "      <td>NaN</td>\n",
       "      <td>0.500419</td>\n",
       "      <td>0.250143</td>\n",
       "      <td>2.502647</td>\n",
       "      <td>92.500000</td>\n",
       "    </tr>\n",
       "    <tr>\n",
       "      <th>std</th>\n",
       "      <td>NaN</td>\n",
       "      <td>0.871832</td>\n",
       "      <td>0.504433</td>\n",
       "      <td>3.248248</td>\n",
       "      <td>44.288691</td>\n",
       "    </tr>\n",
       "    <tr>\n",
       "      <th>min</th>\n",
       "      <td>NaN</td>\n",
       "      <td>-1.408605</td>\n",
       "      <td>-0.848218</td>\n",
       "      <td>-12.088328</td>\n",
       "      <td>0.000000</td>\n",
       "    </tr>\n",
       "    <tr>\n",
       "      <th>25%</th>\n",
       "      <td>NaN</td>\n",
       "      <td>-0.072580</td>\n",
       "      <td>-0.200881</td>\n",
       "      <td>0.287748</td>\n",
       "      <td>56.497507</td>\n",
       "    </tr>\n",
       "    <tr>\n",
       "      <th>50%</th>\n",
       "      <td>NaN</td>\n",
       "      <td>0.502360</td>\n",
       "      <td>0.250252</td>\n",
       "      <td>2.515969</td>\n",
       "      <td>91.849972</td>\n",
       "    </tr>\n",
       "    <tr>\n",
       "      <th>75%</th>\n",
       "      <td>NaN</td>\n",
       "      <td>1.073581</td>\n",
       "      <td>0.700646</td>\n",
       "      <td>4.715088</td>\n",
       "      <td>128.564089</td>\n",
       "    </tr>\n",
       "    <tr>\n",
       "      <th>max</th>\n",
       "      <td>NaN</td>\n",
       "      <td>2.362331</td>\n",
       "      <td>1.343769</td>\n",
       "      <td>16.003790</td>\n",
       "      <td>185.364347</td>\n",
       "    </tr>\n",
       "  </tbody>\n",
       "</table>\n",
       "</div>"
      ],
      "text/plain": [
       "            id             f0             f1             f2        product\n",
       "count   100000  100000.000000  100000.000000  100000.000000  100000.000000\n",
       "unique   99990            NaN            NaN            NaN            NaN\n",
       "top      Tdehs            NaN            NaN            NaN            NaN\n",
       "freq         2            NaN            NaN            NaN            NaN\n",
       "mean       NaN       0.500419       0.250143       2.502647      92.500000\n",
       "std        NaN       0.871832       0.504433       3.248248      44.288691\n",
       "min        NaN      -1.408605      -0.848218     -12.088328       0.000000\n",
       "25%        NaN      -0.072580      -0.200881       0.287748      56.497507\n",
       "50%        NaN       0.502360       0.250252       2.515969      91.849972\n",
       "75%        NaN       1.073581       0.700646       4.715088     128.564089\n",
       "max        NaN       2.362331       1.343769      16.003790     185.364347"
      ]
     },
     "execution_count": 4,
     "metadata": {},
     "output_type": "execute_result"
    }
   ],
   "source": [
    "reg0.describe(include='all')"
   ]
  },
  {
   "cell_type": "markdown",
   "metadata": {},
   "source": [
    "We can see the dataset `geo_data_0` does not have missing values and each column has a appropiate data type. On the other hand we can see the column `f2` has a mean and standard deviation values much higher than columns `f0 & f1`, so we need to scalate our data to have similar values. \n",
    "\n",
    "In case of columns `id` and `product` we do not need to apply any changes, this is because `id` column has alphanumerical values and an encoding process for those values will not generate any change because almost all values on it are uniques, and `product` column is our target and it has no sense scaling our target values."
   ]
  },
  {
   "cell_type": "markdown",
   "metadata": {},
   "source": [
    "#### Dataset `geo_data_1.csv`"
   ]
  },
  {
   "cell_type": "code",
   "execution_count": 5,
   "metadata": {},
   "outputs": [
    {
     "name": "stdout",
     "output_type": "stream",
     "text": [
      "<class 'pandas.core.frame.DataFrame'>\n",
      "RangeIndex: 100000 entries, 0 to 99999\n",
      "Data columns (total 5 columns):\n",
      " #   Column   Non-Null Count   Dtype  \n",
      "---  ------   --------------   -----  \n",
      " 0   id       100000 non-null  object \n",
      " 1   f0       100000 non-null  float64\n",
      " 2   f1       100000 non-null  float64\n",
      " 3   f2       100000 non-null  float64\n",
      " 4   product  100000 non-null  float64\n",
      "dtypes: float64(4), object(1)\n",
      "memory usage: 3.8+ MB\n"
     ]
    }
   ],
   "source": [
    "reg1.info()"
   ]
  },
  {
   "cell_type": "code",
   "execution_count": 6,
   "metadata": {},
   "outputs": [
    {
     "data": {
      "text/html": [
       "<div>\n",
       "<style scoped>\n",
       "    .dataframe tbody tr th:only-of-type {\n",
       "        vertical-align: middle;\n",
       "    }\n",
       "\n",
       "    .dataframe tbody tr th {\n",
       "        vertical-align: top;\n",
       "    }\n",
       "\n",
       "    .dataframe thead th {\n",
       "        text-align: right;\n",
       "    }\n",
       "</style>\n",
       "<table border=\"1\" class=\"dataframe\">\n",
       "  <thead>\n",
       "    <tr style=\"text-align: right;\">\n",
       "      <th></th>\n",
       "      <th>id</th>\n",
       "      <th>f0</th>\n",
       "      <th>f1</th>\n",
       "      <th>f2</th>\n",
       "      <th>product</th>\n",
       "    </tr>\n",
       "  </thead>\n",
       "  <tbody>\n",
       "    <tr>\n",
       "      <th>count</th>\n",
       "      <td>100000</td>\n",
       "      <td>100000.000000</td>\n",
       "      <td>100000.000000</td>\n",
       "      <td>100000.000000</td>\n",
       "      <td>100000.000000</td>\n",
       "    </tr>\n",
       "    <tr>\n",
       "      <th>unique</th>\n",
       "      <td>99996</td>\n",
       "      <td>NaN</td>\n",
       "      <td>NaN</td>\n",
       "      <td>NaN</td>\n",
       "      <td>NaN</td>\n",
       "    </tr>\n",
       "    <tr>\n",
       "      <th>top</th>\n",
       "      <td>5ltQ6</td>\n",
       "      <td>NaN</td>\n",
       "      <td>NaN</td>\n",
       "      <td>NaN</td>\n",
       "      <td>NaN</td>\n",
       "    </tr>\n",
       "    <tr>\n",
       "      <th>freq</th>\n",
       "      <td>2</td>\n",
       "      <td>NaN</td>\n",
       "      <td>NaN</td>\n",
       "      <td>NaN</td>\n",
       "      <td>NaN</td>\n",
       "    </tr>\n",
       "    <tr>\n",
       "      <th>mean</th>\n",
       "      <td>NaN</td>\n",
       "      <td>1.141296</td>\n",
       "      <td>-4.796579</td>\n",
       "      <td>2.494541</td>\n",
       "      <td>68.825000</td>\n",
       "    </tr>\n",
       "    <tr>\n",
       "      <th>std</th>\n",
       "      <td>NaN</td>\n",
       "      <td>8.965932</td>\n",
       "      <td>5.119872</td>\n",
       "      <td>1.703572</td>\n",
       "      <td>45.944423</td>\n",
       "    </tr>\n",
       "    <tr>\n",
       "      <th>min</th>\n",
       "      <td>NaN</td>\n",
       "      <td>-31.609576</td>\n",
       "      <td>-26.358598</td>\n",
       "      <td>-0.018144</td>\n",
       "      <td>0.000000</td>\n",
       "    </tr>\n",
       "    <tr>\n",
       "      <th>25%</th>\n",
       "      <td>NaN</td>\n",
       "      <td>-6.298551</td>\n",
       "      <td>-8.267985</td>\n",
       "      <td>1.000021</td>\n",
       "      <td>26.953261</td>\n",
       "    </tr>\n",
       "    <tr>\n",
       "      <th>50%</th>\n",
       "      <td>NaN</td>\n",
       "      <td>1.153055</td>\n",
       "      <td>-4.813172</td>\n",
       "      <td>2.011479</td>\n",
       "      <td>57.085625</td>\n",
       "    </tr>\n",
       "    <tr>\n",
       "      <th>75%</th>\n",
       "      <td>NaN</td>\n",
       "      <td>8.621015</td>\n",
       "      <td>-1.332816</td>\n",
       "      <td>3.999904</td>\n",
       "      <td>107.813044</td>\n",
       "    </tr>\n",
       "    <tr>\n",
       "      <th>max</th>\n",
       "      <td>NaN</td>\n",
       "      <td>29.421755</td>\n",
       "      <td>18.734063</td>\n",
       "      <td>5.019721</td>\n",
       "      <td>137.945408</td>\n",
       "    </tr>\n",
       "  </tbody>\n",
       "</table>\n",
       "</div>"
      ],
      "text/plain": [
       "            id             f0             f1             f2        product\n",
       "count   100000  100000.000000  100000.000000  100000.000000  100000.000000\n",
       "unique   99996            NaN            NaN            NaN            NaN\n",
       "top      5ltQ6            NaN            NaN            NaN            NaN\n",
       "freq         2            NaN            NaN            NaN            NaN\n",
       "mean       NaN       1.141296      -4.796579       2.494541      68.825000\n",
       "std        NaN       8.965932       5.119872       1.703572      45.944423\n",
       "min        NaN     -31.609576     -26.358598      -0.018144       0.000000\n",
       "25%        NaN      -6.298551      -8.267985       1.000021      26.953261\n",
       "50%        NaN       1.153055      -4.813172       2.011479      57.085625\n",
       "75%        NaN       8.621015      -1.332816       3.999904     107.813044\n",
       "max        NaN      29.421755      18.734063       5.019721     137.945408"
      ]
     },
     "execution_count": 6,
     "metadata": {},
     "output_type": "execute_result"
    }
   ],
   "source": [
    "reg1.describe(include='all')"
   ]
  },
  {
   "cell_type": "markdown",
   "metadata": {},
   "source": [
    "Similar to the previous dataset, on dataset `geo_data_1` we need to scalate columns `f0, f1 & f2`, but in this case all our columns have mean and standard deviation values quite different one to another. We have no missing values and no data type changes needed on the columns of the dataset.\n",
    "\n",
    "Columns `id & product` remain the same as they are for the same reasons mentioned on previous section."
   ]
  },
  {
   "cell_type": "markdown",
   "metadata": {},
   "source": [
    "#### Dataset `geo_data_2.csv`"
   ]
  },
  {
   "cell_type": "code",
   "execution_count": 7,
   "metadata": {},
   "outputs": [
    {
     "name": "stdout",
     "output_type": "stream",
     "text": [
      "<class 'pandas.core.frame.DataFrame'>\n",
      "RangeIndex: 100000 entries, 0 to 99999\n",
      "Data columns (total 5 columns):\n",
      " #   Column   Non-Null Count   Dtype  \n",
      "---  ------   --------------   -----  \n",
      " 0   id       100000 non-null  object \n",
      " 1   f0       100000 non-null  float64\n",
      " 2   f1       100000 non-null  float64\n",
      " 3   f2       100000 non-null  float64\n",
      " 4   product  100000 non-null  float64\n",
      "dtypes: float64(4), object(1)\n",
      "memory usage: 3.8+ MB\n"
     ]
    }
   ],
   "source": [
    "reg2.info()"
   ]
  },
  {
   "cell_type": "code",
   "execution_count": 8,
   "metadata": {},
   "outputs": [
    {
     "data": {
      "text/html": [
       "<div>\n",
       "<style scoped>\n",
       "    .dataframe tbody tr th:only-of-type {\n",
       "        vertical-align: middle;\n",
       "    }\n",
       "\n",
       "    .dataframe tbody tr th {\n",
       "        vertical-align: top;\n",
       "    }\n",
       "\n",
       "    .dataframe thead th {\n",
       "        text-align: right;\n",
       "    }\n",
       "</style>\n",
       "<table border=\"1\" class=\"dataframe\">\n",
       "  <thead>\n",
       "    <tr style=\"text-align: right;\">\n",
       "      <th></th>\n",
       "      <th>id</th>\n",
       "      <th>f0</th>\n",
       "      <th>f1</th>\n",
       "      <th>f2</th>\n",
       "      <th>product</th>\n",
       "    </tr>\n",
       "  </thead>\n",
       "  <tbody>\n",
       "    <tr>\n",
       "      <th>count</th>\n",
       "      <td>100000</td>\n",
       "      <td>100000.000000</td>\n",
       "      <td>100000.000000</td>\n",
       "      <td>100000.000000</td>\n",
       "      <td>100000.000000</td>\n",
       "    </tr>\n",
       "    <tr>\n",
       "      <th>unique</th>\n",
       "      <td>99996</td>\n",
       "      <td>NaN</td>\n",
       "      <td>NaN</td>\n",
       "      <td>NaN</td>\n",
       "      <td>NaN</td>\n",
       "    </tr>\n",
       "    <tr>\n",
       "      <th>top</th>\n",
       "      <td>VF7Jo</td>\n",
       "      <td>NaN</td>\n",
       "      <td>NaN</td>\n",
       "      <td>NaN</td>\n",
       "      <td>NaN</td>\n",
       "    </tr>\n",
       "    <tr>\n",
       "      <th>freq</th>\n",
       "      <td>2</td>\n",
       "      <td>NaN</td>\n",
       "      <td>NaN</td>\n",
       "      <td>NaN</td>\n",
       "      <td>NaN</td>\n",
       "    </tr>\n",
       "    <tr>\n",
       "      <th>mean</th>\n",
       "      <td>NaN</td>\n",
       "      <td>0.002023</td>\n",
       "      <td>-0.002081</td>\n",
       "      <td>2.495128</td>\n",
       "      <td>95.000000</td>\n",
       "    </tr>\n",
       "    <tr>\n",
       "      <th>std</th>\n",
       "      <td>NaN</td>\n",
       "      <td>1.732045</td>\n",
       "      <td>1.730417</td>\n",
       "      <td>3.473445</td>\n",
       "      <td>44.749921</td>\n",
       "    </tr>\n",
       "    <tr>\n",
       "      <th>min</th>\n",
       "      <td>NaN</td>\n",
       "      <td>-8.760004</td>\n",
       "      <td>-7.084020</td>\n",
       "      <td>-11.970335</td>\n",
       "      <td>0.000000</td>\n",
       "    </tr>\n",
       "    <tr>\n",
       "      <th>25%</th>\n",
       "      <td>NaN</td>\n",
       "      <td>-1.162288</td>\n",
       "      <td>-1.174820</td>\n",
       "      <td>0.130359</td>\n",
       "      <td>59.450441</td>\n",
       "    </tr>\n",
       "    <tr>\n",
       "      <th>50%</th>\n",
       "      <td>NaN</td>\n",
       "      <td>0.009424</td>\n",
       "      <td>-0.009482</td>\n",
       "      <td>2.484236</td>\n",
       "      <td>94.925613</td>\n",
       "    </tr>\n",
       "    <tr>\n",
       "      <th>75%</th>\n",
       "      <td>NaN</td>\n",
       "      <td>1.158535</td>\n",
       "      <td>1.163678</td>\n",
       "      <td>4.858794</td>\n",
       "      <td>130.595027</td>\n",
       "    </tr>\n",
       "    <tr>\n",
       "      <th>max</th>\n",
       "      <td>NaN</td>\n",
       "      <td>7.238262</td>\n",
       "      <td>7.844801</td>\n",
       "      <td>16.739402</td>\n",
       "      <td>190.029838</td>\n",
       "    </tr>\n",
       "  </tbody>\n",
       "</table>\n",
       "</div>"
      ],
      "text/plain": [
       "            id             f0             f1             f2        product\n",
       "count   100000  100000.000000  100000.000000  100000.000000  100000.000000\n",
       "unique   99996            NaN            NaN            NaN            NaN\n",
       "top      VF7Jo            NaN            NaN            NaN            NaN\n",
       "freq         2            NaN            NaN            NaN            NaN\n",
       "mean       NaN       0.002023      -0.002081       2.495128      95.000000\n",
       "std        NaN       1.732045       1.730417       3.473445      44.749921\n",
       "min        NaN      -8.760004      -7.084020     -11.970335       0.000000\n",
       "25%        NaN      -1.162288      -1.174820       0.130359      59.450441\n",
       "50%        NaN       0.009424      -0.009482       2.484236      94.925613\n",
       "75%        NaN       1.158535       1.163678       4.858794     130.595027\n",
       "max        NaN       7.238262       7.844801      16.739402     190.029838"
      ]
     },
     "execution_count": 8,
     "metadata": {},
     "output_type": "execute_result"
    }
   ],
   "source": [
    "reg2.describe(include='all')"
   ]
  },
  {
   "cell_type": "markdown",
   "metadata": {},
   "source": [
    "Dataset `geo_data_2` is quite similar to dataset `geo_data_0`. We will apply the same scaling process and remain other columns as they are."
   ]
  },
  {
   "cell_type": "markdown",
   "metadata": {},
   "source": [
    "## Conditions before start the work\n",
    "\n",
    "For this project we must follow the next conditions:\n",
    "\n",
    "Conditions:\n",
    "\n",
    "* Only Linear Regression can be used.\n",
    "* While exploring the region, 500 points are studied and the best 200 points are selected for the profit calculation.\n",
    "* The budget for the new 200 oil wells is 100M USD.\n",
    "* One oil barrel represents an income of 4.5 USD, and the profit of a product unit is 4500 USD. Product units are measured in thousands of barrels.\n",
    "* After the risk evaluation, keep the regions with a loss risk less than 2.5%.\n",
    "* From the regions that meet the criteria, select the one with the highest mean profit.\n",
    "\n",
    "Once stated, let's move to the pre-processing steps.\n",
    "\n",
    "## Preprocessing the data\n",
    "\n",
    "First of all let's define our features and our target. We have already determined our features will be columns `id, f0, f1 & f2` and our target will be column `product`, therefore our distribution will be the following:\n",
    "\n",
    "* Features: `id, f0, f1 & f2`.\n",
    "* Target: `product`.\n",
    "\n",
    "But we have to remove column `id` from our features to be processed because that information is not relevant for the task, so our distribution will be as the following:\n",
    "\n",
    "* Features: `f0, f1 & f2`.\n",
    "* Target: `product`."
   ]
  },
  {
   "cell_type": "code",
   "execution_count": 9,
   "metadata": {},
   "outputs": [],
   "source": [
    "reg0_feat = reg0.drop([\"id\", \"product\"], axis=1)\n",
    "reg0_targ = reg0[\"product\"]\n",
    "\n",
    "reg1_feat = reg1.drop([\"id\", \"product\"], axis=1)\n",
    "reg1_targ = reg1[\"product\"]\n",
    "\n",
    "reg2_feat = reg2.drop([\"id\", \"product\"], axis=1)\n",
    "reg2_targ = reg2[\"product\"]"
   ]
  },
  {
   "cell_type": "markdown",
   "metadata": {},
   "source": [
    "## Training our models\n",
    "\n",
    "Now we have our data processed we can continue to training our Linear Regression model and get predictions for our three interest regions. The following function `linearResults` will return a tuple of series objects with the predictions generated from the features validation set and other one with the target validation set, and at the same time prints important information about the the model trained (mean value, RMSE value, R2 value, number of locations where the minimum profit is achieved and mean cross validation score with 10 random samples).\n",
    "\n",
    "Once we use this function on all our datasets features and target sets we can know how our models predicts our interest values."
   ]
  },
  {
   "cell_type": "code",
   "execution_count": 10,
   "metadata": {},
   "outputs": [],
   "source": [
    "def linearResults(features:DataFrame, target:DataFrame) -> tuple:\n",
    "    \n",
    "    \"\"\"\n",
    "    This function returns a series object with the predictions generated from the target valid set, and at the same time \n",
    "    prints important information about the the model trained (mean value, RMSE value, R2 value, number of locations where \n",
    "    the minimum profit is achieved and mean cross validation score with 10 random samples).\n",
    "    \n",
    "    Inputs:\n",
    "        * features: Series-like, DataFrame-like\n",
    "            - The feature(s) that will be used for the model\n",
    "        * target: Series-like, DataFrame-like\n",
    "            - The target(s) that will be used for the model\n",
    "            \n",
    "    Output:\n",
    "        * predictions: Series\n",
    "            - A dataframe-like object in which will be the predictions generated by the model.\n",
    "            The shape of this variable will be (25% of target input rows & target input columns).\n",
    "        * target_valid: Series\n",
    "            - A dataframe-like object with the validation target set generated from the split process.\n",
    "            The shape of this variable will be (25% of target input rows & target input columns).\n",
    "    \"\"\"\n",
    "    \n",
    "    # Splitting the sets\n",
    "    features_train, features_valid = train_test_split(features, train_size=0.75, test_size=0.25, random_state=1234)\n",
    "    target_train, target_valid = train_test_split(target, train_size=0.75, test_size=0.25, random_state=1234)\n",
    "    \n",
    "    # Training the model and generating the predictions\n",
    "    model = LinearRegression().fit(features_train, target_train)\n",
    "    predictions = model.predict(features_valid)\n",
    "    \n",
    "    # Getting the predictions mean and rmse values\n",
    "    mean_target = predictions.mean()\n",
    "    rmse = mean_squared_error(target_valid, predictions) ** 0.5\n",
    "    r2 = r2_score(target_valid, predictions)\n",
    "    cross_val = cross_val_score(model, features, target, cv=10)\n",
    "    \n",
    "    # Scatter plotting validation answers and predictions\n",
    "    sns.regplot(x=target_valid, y=predictions, ci=None, color=\"b\", line_kws=dict(color=\"r\"))\n",
    "    plt.plot(target_valid, predictions, 'o', alpha=0.3, label=\"Points\")\n",
    "    \n",
    "    # Obtaining the values for the line that represents the linear regression\n",
    "    m, b = np.polyfit(target_valid, predictions, 1)\n",
    "\n",
    "    # Plotting \"x\", \"y = mx + b\" (straight line equation)\n",
    "    plt.plot(target_valid, m*target_valid+b, label=\"Regression line\")\n",
    "    \n",
    "    plt.xlabel(\"Validation set answers\")\n",
    "    plt.ylabel(\"Predictions\")\n",
    "    plt.title(\"Linear Regression plot\")\n",
    "    plt.grid()\n",
    "    plt.legend()\n",
    "    plt.show()\n",
    "    \n",
    "    # Returning our results\n",
    "    print(f\"Mean value: {mean_target}.\")\n",
    "    print(f\"RMSE value: {rmse}.\") \n",
    "    print(f\"R2 value: {r2}.\")\n",
    "    print(f\"Cross validation score: {(cross_val).mean()}.\")\n",
    "    print(f\"Number of wells that reach the minimum profit: {sum((predictions > 111.1) * 1)}.\")\n",
    "    return pd.Series(predictions, index=target_valid.index), pd.Series(target_valid)"
   ]
  },
  {
   "cell_type": "markdown",
   "metadata": {},
   "source": [
    "Once done, let's execute this function on each dataset and save our returned variables on the following variables:\n",
    "\n",
    "* `geo_data_0`:\n",
    "\n",
    "    -reg0_pred: Predictions from region 0 features validation set.\n",
    "    \n",
    "    -reg0_val: Real values for region 0 validation set.\n",
    "    \n",
    "    \n",
    "* `geo_data_1`:\n",
    "\n",
    "    -reg1_pred: Predictions from region 1 features validation set.\n",
    "    \n",
    "    -reg1_val: Real values for region 1 validation set.\n",
    "    \n",
    "    \n",
    "* `geo_data_2`:\n",
    "\n",
    "    -reg2_pred: Predictions from region 2 features validation set.\n",
    "    \n",
    "    -reg2_val: Real values for region 2 validation set.\n",
    "    \n",
    "\n",
    "### Geo-data 0"
   ]
  },
  {
   "cell_type": "code",
   "execution_count": 11,
   "metadata": {
    "scrolled": false
   },
   "outputs": [
    {
     "data": {
      "image/png": "[encoded data removed]",
      "text/plain": [
       "<Figure size 640x480 with 1 Axes>"
      ]
     },
     "metadata": {},
     "output_type": "display_data"
    },
    {
     "name": "stdout",
     "output_type": "stream",
     "text": [
      "Mean value: 92.43045952558441.\n",
      "RMSE value: 37.562394183637785.\n",
      "R2 value: 0.2740586761361865.\n",
      "Cross validation score: 0.27547024205606097.\n",
      "Number of wells that reach the minimum profit: 5267.\n"
     ]
    }
   ],
   "source": [
    "reg0_pred, reg0_val = linearResults(reg0_feat, reg0_targ)"
   ]
  },
  {
   "cell_type": "markdown",
   "metadata": {},
   "source": [
    "We can conclude the following from the model for dataset `geo_data_0`:\n",
    "\n",
    "* The value R2 of 0.27 shows us the model is not predicting correctly the results.\n",
    "* Mean and RMSE values differ widely from the desired values.\n",
    "* Aproximately 25% of the predictions reach the minimum production per region to generate profit.\n",
    "\n",
    "### Geo-data 1"
   ]
  },
  {
   "cell_type": "code",
   "execution_count": 12,
   "metadata": {
    "scrolled": false
   },
   "outputs": [
    {
     "data": {
      "image/png": "[encoded data removed]",
      "text/plain": [
       "<Figure size 640x480 with 1 Axes>"
      ]
     },
     "metadata": {},
     "output_type": "display_data"
    },
    {
     "name": "stdout",
     "output_type": "stream",
     "text": [
      "Mean value: 68.80248249798365.\n",
      "RMSE value: 0.8939344738117704.\n",
      "R2 value: 0.999619058765352.\n",
      "Cross validation score: 0.9996243430392981.\n",
      "Number of wells that reach the minimum profit: 4488.\n"
     ]
    }
   ],
   "source": [
    "reg1_pred, reg1_val = linearResults(reg1_feat, reg1_targ)"
   ]
  },
  {
   "cell_type": "markdown",
   "metadata": {},
   "source": [
    "We can conclude the following from the model for dataset `geo_data_1`:\n",
    "\n",
    "* The value R2 of 0.99 shows us the model is predicting correctly the results in a practical ideal way.\n",
    "* Mean value differs widely from the desired mean value.\n",
    "* RMSE value is practically ideal.\n",
    "* Less than 25% of the predictions reach the minimum production per region to generate profit.\n",
    "\n",
    "### Geo-data 2"
   ]
  },
  {
   "cell_type": "code",
   "execution_count": 13,
   "metadata": {
    "scrolled": false
   },
   "outputs": [
    {
     "data": {
      "image/png": "[encoded data removed]",
      "text/plain": [
       "<Figure size 640x480 with 1 Axes>"
      ]
     },
     "metadata": {},
     "output_type": "display_data"
    },
    {
     "name": "stdout",
     "output_type": "stream",
     "text": [
      "Mean value: 94.91573817913459.\n",
      "RMSE value: 40.10318099258418.\n",
      "R2 value: 0.1983301043994069.\n",
      "Cross validation score: 0.19867018805197603.\n",
      "Number of wells that reach the minimum profit: 5247.\n"
     ]
    }
   ],
   "source": [
    "reg2_pred, reg2_val = linearResults(reg2_feat, reg2_targ)"
   ]
  },
  {
   "cell_type": "markdown",
   "metadata": {},
   "source": [
    "We can conclude the following from the model for dataset `geo_data_2`:\n",
    "\n",
    "* The value R2 of 0.19 shows us the model is not predicting correctly the results.\n",
    "* Mean and RMSE values differ widely from the desired values.\n",
    "* Aproximately 25% of the predictions reach the minimum production per region to generate profit.\n",
    "\n",
    "### Section conclusions\n",
    "\n",
    "We have preprocessed our information as we were teached and used the Linear Regression model as we were told on section 3, eventhough this was not enough to assure a realistic or correct prediction model for neither of our datasets. This is because:\n",
    "\n",
    "* `geo_data_0`: The model has a R2 score of 0.27 (much lower than a optimal value), and we can see this on the scatter plot in which for all the values of the validation target list the model predicts a new value within a wide range of values, which is not what we are looking for.\n",
    "* `geo_data_1`: The model has results practically ideal (R2 score near 1) which may indicate the data does not define our parameters in the way needed. In case we can assure the data is not compromised in any way possible, we can use this model with no problem.\n",
    "* `geo_data_2`: Similar to \"geo_data_0\", this model has a low R2 score. This model is even less reliable than the model for \"geo_data_0\" for the same reasons as \"geo_data_0\".\n",
    "\n",
    "For academic purposes we will continue assuming all the results fit a realistic case and use them for future steps of the project.\n",
    "\n",
    "## Profit\n",
    "\n",
    "Now its time to determine how our bussiness model will be defined and the results of this bussiness model on our 3 prediction sets. \n",
    "\n",
    "###  Defining bussiness model\n",
    "\n",
    "We were told on section 3 we need to select the top 200 regions of each dataset and get the highest profit possible. Initial considerations are as following:\n",
    "\n",
    "* Initial investment: 100 million USD.\n",
    "* Price per product unit: 4500 USD.\n",
    "* Minimum production per region per region to be considered profitable: 111.1 product units (or 500,000 USD).\n",
    "\n",
    "We will be using the `Return On Investment (ROI)` formula to define the profit for each dataset, it it the following:\n",
    "\n",
    "-\n",
    "<center><font size=\"5\">$ROI = \\frac{Net Profit - Investment}{Investment}$</font></center>\n",
    "\n",
    "This is because we need to know how much profit we can get on a specific region with an initial investment (100 million USD), which is why the ROI formula is the adequate metric to use for this case.\n",
    "\n",
    "We generated a new function `profitResutls` to know the profit for our predicted series objects of each dataset on section 5. This function will take as inputs the generated series objects and will return the top 200 regions of the set as a series object and will print the product units produced on the top 200 regions and the profit in percentage for each region."
   ]
  },
  {
   "cell_type": "code",
   "execution_count": 14,
   "metadata": {},
   "outputs": [],
   "source": [
    "def profitResults(real:DataFrame, predicted:DataFrame, num:int):\n",
    "    \n",
    "    \"\"\"\n",
    "    This function takes as input two DataFrame-like objects in which is saved the information from the targets values from\n",
    "    validation set and the predicted values generated from validation set features, and a number which will be used as part \n",
    "    of a string with the information obtained for that set.\n",
    "    \n",
    "    Inputs:\n",
    "        * real: Series-like, DataFrame-like\n",
    "            - Variable with information from the validation set target values.\n",
    "        * predict: Series-like, DataFrame-like\n",
    "            - Variable with information from the prediction set values.\n",
    "        * num: int\n",
    "            - A number which represents the set region number.\n",
    "            \n",
    "    Output:\n",
    "        * top: Series-like, DataFrame-like\n",
    "            - A dataframe-like object with the best 200 values from the target input values.\n",
    "    \"\"\"\n",
    "    \n",
    "    top = predicted.sort_values(ascending=False).head(200)\n",
    "    stock = sum(real[top.index])\n",
    "    profit = (stock * 4500) - 100000000\n",
    "    \n",
    "    print(f\"\"\"The information of the top 200 locations on the region {num} is:\\n\n",
    "              Stocks: {math.ceil(stock*100)/100} product units.\n",
    "              Profit: {locale.currency(math.ceil(profit*100)/100, grouping=True)} USD (or {math.ceil(profit/10000)/100}%).\"\"\")\n",
    "    return top"
   ]
  },
  {
   "cell_type": "markdown",
   "metadata": {},
   "source": [
    "Let's run this function on our 3 generated tuple sets and save the top 200 regions of each on new variables `reg0_top`, `reg1_top` & `reg2_top`.\n",
    "\n",
    "### `geo_data_0` set"
   ]
  },
  {
   "cell_type": "code",
   "execution_count": 15,
   "metadata": {},
   "outputs": [
    {
     "name": "stdout",
     "output_type": "stream",
     "text": [
      "The information of the top 200 locations on the region 0 is:\n",
      "\n",
      "              Stocks: 29831.17 product units.\n",
      "              Profit: $34,240,263.21 USD (or 34.25%).\n"
     ]
    }
   ],
   "source": [
    "reg0_top = profitResults(reg0_val, reg0_pred, 0)"
   ]
  },
  {
   "cell_type": "markdown",
   "metadata": {},
   "source": [
    "This region has a profit of 34.25% or 29,831.17 product units production. This region has the highest profit among all the regions.\n",
    "\n",
    "### `geo_data_1` set"
   ]
  },
  {
   "cell_type": "code",
   "execution_count": 16,
   "metadata": {},
   "outputs": [
    {
     "name": "stdout",
     "output_type": "stream",
     "text": [
      "The information of the top 200 locations on the region 1 is:\n",
      "\n",
      "              Stocks: 27589.09 product units.\n",
      "              Profit: $24,150,866.97 USD (or 24.16%).\n"
     ]
    }
   ],
   "source": [
    "reg1_top = profitResults(reg1_val, reg1_pred, 1)"
   ]
  },
  {
   "cell_type": "markdown",
   "metadata": {},
   "source": [
    "This region has a profit of 24.16% or 27,589.09 product units production. This region has the least profit among all the regions.\n",
    "\n",
    "### `geo_data_2` set"
   ]
  },
  {
   "cell_type": "code",
   "execution_count": 17,
   "metadata": {},
   "outputs": [
    {
     "name": "stdout",
     "output_type": "stream",
     "text": [
      "The information of the top 200 locations on the region 2 is:\n",
      "\n",
      "              Stocks: 27899.91 product units.\n",
      "              Profit: $25,549,554.25 USD (or 25.55%).\n"
     ]
    }
   ],
   "source": [
    "reg2_top = profitResults(reg2_val, reg2_pred, 2)"
   ]
  },
  {
   "cell_type": "markdown",
   "metadata": {},
   "source": [
    "This region has a profit of 25.55% or 27,899.91 product units production. This region has a profit slightly higher that region 1.\n",
    "\n",
    "### Choosing the best region\n",
    "\n",
    "Using the information obatined unitl now, we conclude `region 0 has the highest profit` and we should build 200 new oil wells. But first let's clarify some points:\n",
    "\n",
    "* Dataset `geo_data_0` has a `poor performance in the Linear Regression model`, but it got the `highest profit` amount among all regions. This may indicate us this region is `potentialy` full of resources we can get and `if we improve our predictions we can get a profit even higher than the one we have`. Let's remember we use the index from the predicted production values to sum the real production values, so if we improve our predictions we should get a higher profit using this same logic.\n",
    "* Dataset `geo_data_1` is the only one which had a good performance in the Linear Regression model, but has the lowest profit value among all the regions. This probably indicates the regions does not have as much resources as we may want, so it's probable we may not want to biuld the new 200 wells on this set of regions.\n",
    "* Dataset `geo_data_2` has a slightly higher profit value than dataset `geo_data_1`. Same as in `geo_data_0`, our predictions were not as reliable as we want and this caused our profit values were not as high as they would be. This may mean regions on this dataset has a moderate amount of resources, which is not bad at all but is not what OilyGiant is looking for.\n",
    "\n",
    "`IN CONCLUSION`\n",
    "\n",
    "Our data indicates regions on dataset `geo_data_0` have the highest profit possible compared to regions on datasets `geo_data_1` and `geo_data_2`, but it is not recommended to determine an action yet. It is important to be as sure as possible our information is as accurate as it can be, and our predictions for datasets `geo_data_0` and `geo_data_2` need to be improved to assure an appropiate answer."
   ]
  },
  {
   "cell_type": "markdown",
   "metadata": {},
   "source": [
    "## Applying statistical analysis to determine the best set of regions\n",
    "\n",
    "Now is time to apply some statistical analysis to know the relation from the real mean profit value, the confidence interval and the risk probability for the three regions. To make this possible we need to apply a `bootstrap` processing and get a mean distribution of possible mean values we may get.\n",
    "\n",
    "For this we made a function `bootstrap` in which we put our target values (the top 200 regions series object we got on section 6) and get a series object with the profit mean distribution for a \"replaced\" sample of n-values of lenght 1000."
   ]
  },
  {
   "cell_type": "code",
   "execution_count": 24,
   "metadata": {},
   "outputs": [],
   "source": [
    "def bootstrap(real:DataFrame, predict:DataFrame, n:int=500):\n",
    "    \n",
    "    \"\"\"\n",
    "    This function uses as inputs two dataframe objects wi which we have the information from the targets values from\n",
    "    validation set and the predicted values generated from validation set features, and a number 'n' used to apply a \n",
    "    bootstrap process with 500 \"replaced-population\" for a \"n-lenght sample\" obatined from the target input (be default). \n",
    "    This generates a distribution of total profit values in USD and returns it as a series object and also two varaibles\n",
    "    \"lower\" and \"upper\" which represents the value for the 2.5% percentile and 97.5% percentile (confidence interval of 95%).\n",
    "    \n",
    "    Inputs:\n",
    "        * real: Series-like, DataFrame-like\n",
    "            - Variable with information from the validation set target values.\n",
    "        * predict: Series-like, DataFrame-like\n",
    "            - Variable with information from the prediction set values.\n",
    "        * n: int\n",
    "            - The lenght of the sample that will be used for the bootstrap process.\n",
    "            \n",
    "    Output:\n",
    "        * vals: Series-like\n",
    "            - The total profit values distribution generated.\n",
    "        * lower: float\n",
    "            - The value for the 2.5% percentile.\n",
    "        * upper: float\n",
    "            - The value for the 97.5% percentile.\n",
    "    \"\"\"\n",
    "\n",
    "    random = np.random.RandomState(0)\n",
    "    values = []\n",
    "    \n",
    "    for i in range(1000):\n",
    "\n",
    "        preds = predict.sample(n=n, replace=True, random_state=random).sort_values(ascending=False).head(200).index\n",
    "        values.append((real[preds].sum() * 4500) - 100000000)\n",
    "        \n",
    "    vals = pd.Series(values)\n",
    "    risk = (((vals < 0) * 1).sum() / len(vals)) * 100\n",
    "    lower = vals.quantile(0.025)\n",
    "    upper = vals.quantile(0.975)\n",
    "    \n",
    "    print(f\"Mean profit: {locale.currency(math.ceil(vals.mean()*100)/100, grouping=True)}.\")\n",
    "    print(f\"Confidence interval: ({locale.currency(math.ceil(lower*100)/100, grouping=True)}, {locale.currency(math.ceil(upper*100)/100, grouping=True)}).\")\n",
    "    print(f\"Risk probability: {risk}%.\")\n",
    "        \n",
    "    return vals, lower, upper"
   ]
  },
  {
   "cell_type": "markdown",
   "metadata": {},
   "source": [
    "Now we have this defined, let's test it for all our our top 200 lists with a bootstrap of 1000 samples and a confidence interval of 95%. Once obtained the information let's plot the distriburtion on an histogram and obtain the following information:\n",
    "\n",
    "* Mean profit of the whole distribution (a mean profit of 0 means there is no profit, only recovering the initial investment).\n",
    "* Confidence interval of the distribution (a range with values less than 0 represents loss).\n",
    "* Risk of loss probability of the dsitribution (a value more than 0 means there are regions with loss).\n",
    "\n",
    "### `geo_data_0` set"
   ]
  },
  {
   "cell_type": "code",
   "execution_count": 25,
   "metadata": {},
   "outputs": [
    {
     "name": "stdout",
     "output_type": "stream",
     "text": [
      "Mean profit: $3,896,140.74.\n",
      "Confidence interval: (-$1,239,882.72, $8,762,442.98).\n",
      "Risk probability: 6.3%.\n"
     ]
    },
    {
     "data": {
      "image/png": "[encoded data removed]",
      "text/plain": [
       "<Figure size 640x480 with 1 Axes>"
      ]
     },
     "metadata": {},
     "output_type": "display_data"
    }
   ],
   "source": [
    "reg0_boot, reg0_lower, reg0_upper = bootstrap(reg0_val, reg0_pred)\n",
    "\n",
    "reg0_boot.plot(kind='hist',\n",
    "              title=\"Profit distribution on region 0\",\n",
    "              bins=50,\n",
    "              grid=True)\n",
    "plt.plot([reg0_lower, reg0_lower], [0, 25])\n",
    "plt.plot([reg0_upper, reg0_upper], [0, 25])\n",
    "plt.show()"
   ]
  },
  {
   "cell_type": "markdown",
   "metadata": {},
   "source": [
    "The `geo_data_0` distribution give us the following information:\n",
    "\n",
    "* Mean total profit for the set: 3,896,140.74 USD.\n",
    "* Confidence interval: (-1,239,882.72, 8,762,442.98) (7,522,560.26 USD difference).\n",
    "* Risk of loss probability: 6.3%.\n",
    "\n",
    "### `geo_data_1`set"
   ]
  },
  {
   "cell_type": "code",
   "execution_count": 26,
   "metadata": {},
   "outputs": [
    {
     "name": "stdout",
     "output_type": "stream",
     "text": [
      "Mean profit: $4,275,081.96.\n",
      "Confidence interval: ($317,601.40, $8,165,696.45).\n",
      "Risk probability: 1.0999999999999999%.\n"
     ]
    },
    {
     "data": {
      "image/png": "[encoded data removed]",
      "text/plain": [
       "<Figure size 640x480 with 1 Axes>"
      ]
     },
     "metadata": {},
     "output_type": "display_data"
    }
   ],
   "source": [
    "reg1_boot, reg1_lower, reg1_upper = bootstrap(reg1_val, reg1_pred)\n",
    "\n",
    "reg1_boot.plot(kind='hist',\n",
    "              title=\"Profit distribution on region 1\",\n",
    "              bins=50,\n",
    "              grid=True)\n",
    "plt.plot([reg1_lower, reg1_lower], [0, 25])\n",
    "plt.plot([reg1_upper, reg1_upper], [0, 25])\n",
    "plt.show()"
   ]
  },
  {
   "cell_type": "markdown",
   "metadata": {},
   "source": [
    "The `geo_data_1` distribution give us the following information:\n",
    "\n",
    "* Mean total profit for the set: 4,275,081.96 USD.\n",
    "* Confidence interval: (317,601.40, 8,165,696.45) (7,848,095.05 USD difference).\n",
    "* Risk of loss probability: 1.09%.\n",
    "\n",
    "### `geo_data_2` set"
   ]
  },
  {
   "cell_type": "code",
   "execution_count": 27,
   "metadata": {},
   "outputs": [
    {
     "name": "stdout",
     "output_type": "stream",
     "text": [
      "Mean profit: $3,632,710.52.\n",
      "Confidence interval: (-$1,704,269.37, $8,964,982.75).\n",
      "Risk probability: 8.6%.\n"
     ]
    },
    {
     "data": {
      "image/png": "[encoded data removed]",
      "text/plain": [
       "<Figure size 640x480 with 1 Axes>"
      ]
     },
     "metadata": {},
     "output_type": "display_data"
    }
   ],
   "source": [
    "reg2_boot, reg2_lower, reg2_upper = bootstrap(reg2_val, reg2_pred)\n",
    "\n",
    "reg2_boot.plot(kind='hist',\n",
    "              title=\"Profit distribution on region 2\",\n",
    "              bins=50,\n",
    "              grid=True)\n",
    "plt.plot([reg2_lower, reg2_lower], [0, 25])\n",
    "plt.plot([reg2_upper, reg2_upper], [0, 25])\n",
    "plt.show()"
   ]
  },
  {
   "cell_type": "markdown",
   "metadata": {},
   "source": [
    "The `geo_data_2` distribution give us the following information:\n",
    "\n",
    "* Mean total profit for the set: 3,632,710.52 USD.\n",
    "* Confidence interval: (-1,704,269.37, 8,964,982.75) (10,669,252.12 USD difference).\n",
    "* Risk of loss probability: 8.6%.\n",
    "\n",
    "### Conclusions\n",
    "\n",
    "1.- The information obtained on section 7.1 - 7.3 indicates that only `regions on dataset \"geo_data_1\" shall be used on to build the new 200 oil wells`. Regions on datasets `geo_data_0` & `geo_data_2` have a risk probability higher than the 2.5% threshold.\n",
    "\n",
    "2.- The confidence intervals from all regions states the variance of profit among regions with a 95% confidence level likely related to the R2 scores values from the Linear Regression model:\n",
    "\n",
    "    *geo_data_0: 3,896,140.74 USD (R2 score = 0.27).\n",
    "    *geo_data_1: 4,275,081.96 USD (R2 score = 0.99).\n",
    "    *geo_data_2: 3,632,710.52 USD (R2 score = 0.19).\n",
    "\n",
    "3.- The bootstrapping process indicates the regions on `geo_data_1` have the highest profit available, but it is important to remark this may change if we can improve the predictions for regions on datasets `geo_data_0` & `geo_data_2`. We can continue with this conclusion because we are sure it gives the company a profit, but we cannot assure this is the best decision possible due to the poorly predicted values on 2 of our datasets.\n",
    "\n",
    "Maybe we should verify if using a more complex prediction model or maybe to generate a new set of data with a new information would give us a better solution of the problem we have (also we can generate new KPIs values if we are sure that data will be important to the project, but is risky).\n",
    "\n",
    "`IN CONCLUSION`\n",
    "\n",
    "The set of regions with the highest profit obtained is `geo_data_1`. Eventhough, it is recommended to process the information with a more complex model and/or strategies to assure this set is the best group of regions possible.\n",
    "\n",
    "## General conclusions\n",
    "\n",
    "1.- Translate bussiness concepts is important in a data scientist work because it gives us the keys to communicate confidence and risk values on each of the strategies we want to analyze in the company. In this project case the `Return Over the Investment` value was the key value for our analysis and also complement it with probability concepts as `confidence interval` and `risk probability` to add value to our conclusions.\n",
    "\n",
    "2.- It's valid to test different strategies and technologies to solve a problem as we conclude on section 7.4, but this must always be considered by the data scientist during the project's development, except you are ask to only use a limited number of tools (as we had on this project using Linear Regression).\n",
    "\n",
    "3.- It is important to properly communicate a situation in which we do not have a profit, and tools as bootstrapping can help us to find the distribution of the interest variable and comprehend the risks of the values we got."
   ]
  }
 ],
 "metadata": {
  "ExecuteTimeLog": [
   {
    "duration": 482,
    "start_time": "2024-06-10T21:43:57.725Z"
   },
   {
    "duration": 188,
    "start_time": "2024-06-10T21:44:37.726Z"
   },
   {
    "duration": 19,
    "start_time": "2024-06-10T21:44:48.563Z"
   },
   {
    "duration": 158,
    "start_time": "2024-06-10T21:45:07.793Z"
   },
   {
    "duration": 507,
    "start_time": "2024-06-10T21:46:06.807Z"
   },
   {
    "duration": 25,
    "start_time": "2024-06-10T21:46:11.913Z"
   },
   {
    "duration": 155,
    "start_time": "2024-06-10T21:46:16.876Z"
   },
   {
    "duration": 21,
    "start_time": "2024-06-10T21:46:23.864Z"
   },
   {
    "duration": 136,
    "start_time": "2024-06-10T21:46:43.388Z"
   },
   {
    "duration": 351,
    "start_time": "2024-06-10T21:46:56.429Z"
   },
   {
    "duration": 19,
    "start_time": "2024-06-10T21:47:01.678Z"
   },
   {
    "duration": 159,
    "start_time": "2024-06-10T21:47:25.717Z"
   },
   {
    "duration": 509,
    "start_time": "2024-06-11T17:54:41.667Z"
   },
   {
    "duration": 501,
    "start_time": "2024-06-11T17:54:43.429Z"
   },
   {
    "duration": 20,
    "start_time": "2024-06-11T17:54:45.085Z"
   },
   {
    "duration": 133,
    "start_time": "2024-06-11T17:54:47.370Z"
   },
   {
    "duration": 17,
    "start_time": "2024-06-11T17:54:49.329Z"
   },
   {
    "duration": 115,
    "start_time": "2024-06-11T17:54:50.624Z"
   },
   {
    "duration": 18,
    "start_time": "2024-06-11T17:54:52.009Z"
   },
   {
    "duration": 113,
    "start_time": "2024-06-11T17:54:53.014Z"
   },
   {
    "duration": 773,
    "start_time": "2024-06-11T19:49:10.451Z"
   },
   {
    "duration": 10,
    "start_time": "2024-06-11T19:49:59.153Z"
   },
   {
    "duration": 4,
    "start_time": "2024-06-11T19:57:58.787Z"
   },
   {
    "duration": 6,
    "start_time": "2024-06-11T19:59:24.339Z"
   },
   {
    "duration": 9,
    "start_time": "2024-06-11T20:00:43.912Z"
   },
   {
    "duration": 9,
    "start_time": "2024-06-11T20:01:01.489Z"
   },
   {
    "duration": 16,
    "start_time": "2024-06-11T20:01:21.459Z"
   },
   {
    "duration": 526,
    "start_time": "2024-06-11T20:01:32.928Z"
   },
   {
    "duration": 6,
    "start_time": "2024-06-11T20:03:26.122Z"
   },
   {
    "duration": 101,
    "start_time": "2024-06-11T20:03:27.652Z"
   },
   {
    "duration": 13,
    "start_time": "2024-06-11T20:04:02.401Z"
   },
   {
    "duration": 35,
    "start_time": "2024-06-11T20:04:03.570Z"
   },
   {
    "duration": 35,
    "start_time": "2024-06-11T20:04:06.084Z"
   },
   {
    "duration": 35,
    "start_time": "2024-06-11T20:04:07.048Z"
   },
   {
    "duration": 33,
    "start_time": "2024-06-11T20:04:07.669Z"
   },
   {
    "duration": 33,
    "start_time": "2024-06-11T20:04:08.199Z"
   },
   {
    "duration": 34,
    "start_time": "2024-06-11T20:04:08.662Z"
   },
   {
    "duration": 34,
    "start_time": "2024-06-11T20:04:09.116Z"
   },
   {
    "duration": 33,
    "start_time": "2024-06-11T20:04:09.573Z"
   },
   {
    "duration": 34,
    "start_time": "2024-06-11T20:05:09.694Z"
   },
   {
    "duration": 38,
    "start_time": "2024-06-11T20:05:11.524Z"
   },
   {
    "duration": 31,
    "start_time": "2024-06-11T20:14:50.166Z"
   },
   {
    "duration": 33,
    "start_time": "2024-06-11T20:14:51.315Z"
   },
   {
    "duration": 30,
    "start_time": "2024-06-11T20:14:52.643Z"
   },
   {
    "duration": 15,
    "start_time": "2024-06-11T20:17:12.960Z"
   },
   {
    "duration": 17,
    "start_time": "2024-06-11T20:17:28.028Z"
   },
   {
    "duration": 17,
    "start_time": "2024-06-11T20:17:40.067Z"
   },
   {
    "duration": 16,
    "start_time": "2024-06-11T20:17:50.362Z"
   },
   {
    "duration": 16,
    "start_time": "2024-06-11T20:17:58.854Z"
   },
   {
    "duration": 4,
    "start_time": "2024-06-11T22:20:37.310Z"
   },
   {
    "duration": 413,
    "start_time": "2024-06-11T22:20:42.383Z"
   },
   {
    "duration": 20,
    "start_time": "2024-06-11T22:20:44.488Z"
   },
   {
    "duration": 137,
    "start_time": "2024-06-11T22:20:45.600Z"
   },
   {
    "duration": 20,
    "start_time": "2024-06-11T22:20:47.008Z"
   },
   {
    "duration": 137,
    "start_time": "2024-06-11T22:20:48.178Z"
   },
   {
    "duration": 19,
    "start_time": "2024-06-11T22:20:49.701Z"
   },
   {
    "duration": 136,
    "start_time": "2024-06-11T22:20:51.038Z"
   },
   {
    "duration": 6,
    "start_time": "2024-06-11T22:20:53.249Z"
   },
   {
    "duration": 14,
    "start_time": "2024-06-11T22:20:55.034Z"
   },
   {
    "duration": 32,
    "start_time": "2024-06-11T22:20:56.656Z"
   },
   {
    "duration": 32,
    "start_time": "2024-06-11T22:20:57.476Z"
   },
   {
    "duration": 26,
    "start_time": "2024-06-11T22:20:58.287Z"
   },
   {
    "duration": 16,
    "start_time": "2024-06-11T22:21:04.577Z"
   },
   {
    "duration": 16,
    "start_time": "2024-06-11T22:21:05.675Z"
   },
   {
    "duration": 15,
    "start_time": "2024-06-11T22:21:07.038Z"
   },
   {
    "duration": 7,
    "start_time": "2024-06-11T22:21:48.921Z"
   },
   {
    "duration": 34,
    "start_time": "2024-06-11T22:21:50.540Z"
   },
   {
    "duration": 31,
    "start_time": "2024-06-11T22:21:51.802Z"
   },
   {
    "duration": 33,
    "start_time": "2024-06-11T22:21:53.183Z"
   },
   {
    "duration": 6,
    "start_time": "2024-06-11T22:37:27.318Z"
   },
   {
    "duration": 32,
    "start_time": "2024-06-11T22:37:29.546Z"
   },
   {
    "duration": 32,
    "start_time": "2024-06-11T22:37:30.638Z"
   },
   {
    "duration": 36,
    "start_time": "2024-06-11T22:37:31.580Z"
   },
   {
    "duration": 3875,
    "start_time": "2024-06-11T22:50:33.297Z"
   },
   {
    "duration": 8,
    "start_time": "2024-06-11T22:51:17.049Z"
   },
   {
    "duration": 2039,
    "start_time": "2024-06-11T22:51:18.707Z"
   },
   {
    "duration": 7,
    "start_time": "2024-06-11T22:52:20.716Z"
   },
   {
    "duration": 401,
    "start_time": "2024-06-11T22:52:23.108Z"
   },
   {
    "duration": 6,
    "start_time": "2024-06-11T22:52:35.324Z"
   },
   {
    "duration": 412,
    "start_time": "2024-06-11T22:52:36.657Z"
   },
   {
    "duration": 7,
    "start_time": "2024-06-11T22:52:58.033Z"
   },
   {
    "duration": 366,
    "start_time": "2024-06-11T22:52:59.706Z"
   },
   {
    "duration": 6,
    "start_time": "2024-06-11T22:55:12.727Z"
   },
   {
    "duration": 423,
    "start_time": "2024-06-11T22:55:13.710Z"
   },
   {
    "duration": 6,
    "start_time": "2024-06-11T22:55:28.926Z"
   },
   {
    "duration": 489,
    "start_time": "2024-06-11T22:55:30.083Z"
   },
   {
    "duration": 7,
    "start_time": "2024-06-11T22:55:35.693Z"
   },
   {
    "duration": 458,
    "start_time": "2024-06-11T22:55:36.822Z"
   },
   {
    "duration": 4,
    "start_time": "2024-06-11T22:56:05.593Z"
   },
   {
    "duration": 6,
    "start_time": "2024-06-11T22:57:21.212Z"
   },
   {
    "duration": 472,
    "start_time": "2024-06-11T22:57:22.324Z"
   },
   {
    "duration": 468,
    "start_time": "2024-06-11T22:57:40.274Z"
   },
   {
    "duration": 538,
    "start_time": "2024-06-11T22:57:46.657Z"
   },
   {
    "duration": 7,
    "start_time": "2024-06-11T22:58:31.120Z"
   },
   {
    "duration": 7,
    "start_time": "2024-06-11T22:58:34.118Z"
   },
   {
    "duration": 473,
    "start_time": "2024-06-11T22:58:35.200Z"
   },
   {
    "duration": 481,
    "start_time": "2024-06-11T22:58:38.259Z"
   },
   {
    "duration": 477,
    "start_time": "2024-06-11T22:58:40.720Z"
   },
   {
    "duration": 7,
    "start_time": "2024-06-11T23:00:58.491Z"
   },
   {
    "duration": 1915,
    "start_time": "2024-06-11T23:00:59.676Z"
   },
   {
    "duration": 10,
    "start_time": "2024-06-11T23:01:52.686Z"
   },
   {
    "duration": 517,
    "start_time": "2024-06-11T23:01:55.593Z"
   },
   {
    "duration": 8,
    "start_time": "2024-06-11T23:02:30.103Z"
   },
   {
    "duration": 511,
    "start_time": "2024-06-11T23:02:31.412Z"
   },
   {
    "duration": 481,
    "start_time": "2024-06-11T23:02:35.287Z"
   },
   {
    "duration": 496,
    "start_time": "2024-06-11T23:02:40.711Z"
   },
   {
    "duration": 8,
    "start_time": "2024-06-11T23:06:25.750Z"
   },
   {
    "duration": 491,
    "start_time": "2024-06-11T23:06:29.202Z"
   },
   {
    "duration": 508,
    "start_time": "2024-06-11T23:06:37.775Z"
   },
   {
    "duration": 557,
    "start_time": "2024-06-11T23:06:41.247Z"
   },
   {
    "duration": 8,
    "start_time": "2024-06-11T23:27:02.772Z"
   },
   {
    "duration": 538,
    "start_time": "2024-06-11T23:27:04.060Z"
   },
   {
    "duration": 8,
    "start_time": "2024-06-11T23:27:22.662Z"
   },
   {
    "duration": 588,
    "start_time": "2024-06-11T23:27:23.687Z"
   },
   {
    "duration": 568,
    "start_time": "2024-06-11T23:27:29.068Z"
   },
   {
    "duration": 567,
    "start_time": "2024-06-11T23:27:31.015Z"
   },
   {
    "duration": 9,
    "start_time": "2024-06-11T23:29:33.816Z"
   },
   {
    "duration": 649,
    "start_time": "2024-06-11T23:29:35.095Z"
   },
   {
    "duration": 585,
    "start_time": "2024-06-11T23:29:38.763Z"
   },
   {
    "duration": 641,
    "start_time": "2024-06-11T23:29:40.644Z"
   },
   {
    "duration": 143,
    "start_time": "2024-06-12T00:48:00.958Z"
   },
   {
    "duration": 622,
    "start_time": "2024-06-12T00:48:02.651Z"
   },
   {
    "duration": 576,
    "start_time": "2024-06-12T00:48:10.323Z"
   },
   {
    "duration": 576,
    "start_time": "2024-06-12T00:48:16.227Z"
   },
   {
    "duration": 9,
    "start_time": "2024-06-12T00:51:27.015Z"
   },
   {
    "duration": 653,
    "start_time": "2024-06-12T00:51:29.584Z"
   },
   {
    "duration": 515,
    "start_time": "2024-06-12T00:51:35.321Z"
   },
   {
    "duration": 636,
    "start_time": "2024-06-12T00:51:37.257Z"
   },
   {
    "duration": 9,
    "start_time": "2024-06-12T00:58:10.367Z"
   },
   {
    "duration": 668,
    "start_time": "2024-06-12T00:58:18.862Z"
   },
   {
    "duration": 590,
    "start_time": "2024-06-12T00:58:24.956Z"
   },
   {
    "duration": 582,
    "start_time": "2024-06-12T00:58:30.504Z"
   },
   {
    "duration": 6,
    "start_time": "2024-06-12T00:58:38.833Z"
   },
   {
    "duration": 26,
    "start_time": "2024-06-12T00:58:45.737Z"
   },
   {
    "duration": 8,
    "start_time": "2024-06-12T00:58:52.729Z"
   },
   {
    "duration": 12,
    "start_time": "2024-06-12T00:59:04.313Z"
   },
   {
    "duration": 11,
    "start_time": "2024-06-12T00:59:13.097Z"
   },
   {
    "duration": 11,
    "start_time": "2024-06-12T00:59:20.539Z"
   },
   {
    "duration": 12,
    "start_time": "2024-06-12T00:59:28.159Z"
   },
   {
    "duration": 8,
    "start_time": "2024-06-12T01:00:05.177Z"
   },
   {
    "duration": 672,
    "start_time": "2024-06-12T01:00:09.747Z"
   },
   {
    "duration": 11,
    "start_time": "2024-06-12T01:00:17.669Z"
   },
   {
    "duration": 11,
    "start_time": "2024-06-12T01:00:31.993Z"
   },
   {
    "duration": 605,
    "start_time": "2024-06-12T01:00:41.075Z"
   },
   {
    "duration": 604,
    "start_time": "2024-06-12T01:00:43.286Z"
   },
   {
    "duration": 10,
    "start_time": "2024-06-12T01:00:47.585Z"
   },
   {
    "duration": 11,
    "start_time": "2024-06-12T01:00:55.220Z"
   },
   {
    "duration": 10,
    "start_time": "2024-06-12T01:50:35.254Z"
   },
   {
    "duration": 10,
    "start_time": "2024-06-12T01:50:48.789Z"
   },
   {
    "duration": 9,
    "start_time": "2024-06-12T01:50:57.803Z"
   },
   {
    "duration": 8,
    "start_time": "2024-06-12T01:51:05.878Z"
   },
   {
    "duration": 6,
    "start_time": "2024-06-12T01:52:17.183Z"
   },
   {
    "duration": 6,
    "start_time": "2024-06-12T01:52:23.727Z"
   },
   {
    "duration": 4,
    "start_time": "2024-06-12T01:55:43.596Z"
   },
   {
    "duration": 10,
    "start_time": "2024-06-12T01:56:06.641Z"
   },
   {
    "duration": 4,
    "start_time": "2024-06-12T01:56:25.717Z"
   },
   {
    "duration": 9,
    "start_time": "2024-06-12T01:56:26.596Z"
   },
   {
    "duration": 5,
    "start_time": "2024-06-12T01:56:38.677Z"
   },
   {
    "duration": 10,
    "start_time": "2024-06-12T01:56:39.365Z"
   },
   {
    "duration": 9,
    "start_time": "2024-06-12T01:57:09.271Z"
   },
   {
    "duration": 8,
    "start_time": "2024-06-12T01:57:24.638Z"
   },
   {
    "duration": 4,
    "start_time": "2024-06-12T01:58:03.585Z"
   },
   {
    "duration": 8,
    "start_time": "2024-06-12T01:58:04.358Z"
   },
   {
    "duration": 9,
    "start_time": "2024-06-12T01:58:05.281Z"
   },
   {
    "duration": 9,
    "start_time": "2024-06-12T01:58:06.033Z"
   },
   {
    "duration": 5084,
    "start_time": "2024-06-12T21:27:11.639Z"
   },
   {
    "duration": 537,
    "start_time": "2024-06-12T21:27:16.727Z"
   },
   {
    "duration": 20,
    "start_time": "2024-06-12T21:27:17.267Z"
   },
   {
    "duration": 143,
    "start_time": "2024-06-12T21:27:17.289Z"
   },
   {
    "duration": 24,
    "start_time": "2024-06-12T21:27:17.438Z"
   },
   {
    "duration": 152,
    "start_time": "2024-06-12T21:27:17.470Z"
   },
   {
    "duration": 19,
    "start_time": "2024-06-12T21:27:17.625Z"
   },
   {
    "duration": 143,
    "start_time": "2024-06-12T21:27:17.646Z"
   },
   {
    "duration": 9,
    "start_time": "2024-06-12T21:27:17.803Z"
   },
   {
    "duration": 10,
    "start_time": "2024-06-12T21:27:17.816Z"
   },
   {
    "duration": 694,
    "start_time": "2024-06-12T21:27:17.829Z"
   },
   {
    "duration": 615,
    "start_time": "2024-06-12T21:27:18.527Z"
   },
   {
    "duration": 722,
    "start_time": "2024-06-12T21:27:19.145Z"
   },
   {
    "duration": 5,
    "start_time": "2024-06-12T21:27:19.874Z"
   },
   {
    "duration": 8,
    "start_time": "2024-06-12T21:27:19.903Z"
   },
   {
    "duration": 8,
    "start_time": "2024-06-12T21:27:19.914Z"
   },
   {
    "duration": 9,
    "start_time": "2024-06-12T21:27:19.926Z"
   },
   {
    "duration": 5,
    "start_time": "2024-06-12T21:28:24.671Z"
   },
   {
    "duration": 9,
    "start_time": "2024-06-12T21:28:25.403Z"
   },
   {
    "duration": 8,
    "start_time": "2024-06-12T21:28:30.326Z"
   },
   {
    "duration": 11,
    "start_time": "2024-06-12T21:28:31.144Z"
   },
   {
    "duration": 5,
    "start_time": "2024-06-12T21:28:35.659Z"
   },
   {
    "duration": 8,
    "start_time": "2024-06-12T21:28:36.585Z"
   },
   {
    "duration": 8,
    "start_time": "2024-06-12T21:28:37.402Z"
   },
   {
    "duration": 13,
    "start_time": "2024-06-12T21:28:38.188Z"
   },
   {
    "duration": 9,
    "start_time": "2024-06-12T21:33:33.725Z"
   },
   {
    "duration": 5,
    "start_time": "2024-06-12T21:36:28.215Z"
   },
   {
    "duration": 4,
    "start_time": "2024-06-12T21:36:32.269Z"
   },
   {
    "duration": 10,
    "start_time": "2024-06-12T21:36:33.219Z"
   },
   {
    "duration": 9,
    "start_time": "2024-06-12T21:36:34.947Z"
   },
   {
    "duration": 11,
    "start_time": "2024-06-12T21:36:35.933Z"
   },
   {
    "duration": 6,
    "start_time": "2024-06-12T21:37:15.622Z"
   },
   {
    "duration": 8,
    "start_time": "2024-06-12T21:37:16.525Z"
   },
   {
    "duration": 8,
    "start_time": "2024-06-12T21:37:17.564Z"
   },
   {
    "duration": 11,
    "start_time": "2024-06-12T21:37:18.428Z"
   },
   {
    "duration": 451,
    "start_time": "2024-06-12T21:38:27.827Z"
   },
   {
    "duration": 7,
    "start_time": "2024-06-12T21:38:31.508Z"
   },
   {
    "duration": 9,
    "start_time": "2024-06-12T21:38:32.286Z"
   },
   {
    "duration": 9,
    "start_time": "2024-06-12T21:38:37.339Z"
   },
   {
    "duration": 8,
    "start_time": "2024-06-12T21:38:42.241Z"
   },
   {
    "duration": 4,
    "start_time": "2024-06-12T21:41:05.526Z"
   },
   {
    "duration": 12,
    "start_time": "2024-06-12T21:41:36.202Z"
   },
   {
    "duration": 5,
    "start_time": "2024-06-12T21:42:15.857Z"
   },
   {
    "duration": 8,
    "start_time": "2024-06-12T21:42:17.168Z"
   },
   {
    "duration": 5,
    "start_time": "2024-06-12T21:42:22.345Z"
   },
   {
    "duration": 9,
    "start_time": "2024-06-12T21:42:23.889Z"
   },
   {
    "duration": 10,
    "start_time": "2024-06-12T21:42:25.942Z"
   },
   {
    "duration": 9,
    "start_time": "2024-06-12T21:42:26.867Z"
   },
   {
    "duration": 5,
    "start_time": "2024-06-12T21:48:14.027Z"
   },
   {
    "duration": 8,
    "start_time": "2024-06-12T21:48:14.983Z"
   },
   {
    "duration": 5,
    "start_time": "2024-06-12T21:48:36.363Z"
   },
   {
    "duration": 10,
    "start_time": "2024-06-12T21:48:37.124Z"
   },
   {
    "duration": 11,
    "start_time": "2024-06-12T21:48:38.817Z"
   },
   {
    "duration": 9,
    "start_time": "2024-06-12T21:48:39.748Z"
   },
   {
    "duration": 5,
    "start_time": "2024-06-12T21:48:58.602Z"
   },
   {
    "duration": 8,
    "start_time": "2024-06-12T21:48:59.270Z"
   },
   {
    "duration": 9,
    "start_time": "2024-06-12T21:49:01.843Z"
   },
   {
    "duration": 9,
    "start_time": "2024-06-12T21:49:02.706Z"
   },
   {
    "duration": 5,
    "start_time": "2024-06-12T21:49:18.650Z"
   },
   {
    "duration": 8,
    "start_time": "2024-06-12T21:49:19.486Z"
   },
   {
    "duration": 9,
    "start_time": "2024-06-12T21:49:20.886Z"
   },
   {
    "duration": 10,
    "start_time": "2024-06-12T21:49:21.698Z"
   },
   {
    "duration": 8,
    "start_time": "2024-06-12T21:51:51.293Z"
   },
   {
    "duration": 674,
    "start_time": "2024-06-12T21:51:53.173Z"
   },
   {
    "duration": 545,
    "start_time": "2024-06-12T21:51:57.431Z"
   },
   {
    "duration": 595,
    "start_time": "2024-06-12T21:51:59.733Z"
   },
   {
    "duration": 9,
    "start_time": "2024-06-12T22:23:40.210Z"
   },
   {
    "duration": 614,
    "start_time": "2024-06-12T22:23:42.783Z"
   },
   {
    "duration": 9,
    "start_time": "2024-06-12T22:27:32.407Z"
   },
   {
    "duration": 1935,
    "start_time": "2024-06-12T22:27:34.684Z"
   },
   {
    "duration": 9,
    "start_time": "2024-06-12T22:28:56.823Z"
   },
   {
    "duration": 564,
    "start_time": "2024-06-12T22:28:59.438Z"
   },
   {
    "duration": 590,
    "start_time": "2024-06-12T22:30:34.688Z"
   },
   {
    "duration": 744,
    "start_time": "2024-06-12T22:30:38.321Z"
   },
   {
    "duration": 8,
    "start_time": "2024-06-12T22:46:25.614Z"
   },
   {
    "duration": 461,
    "start_time": "2024-06-12T22:46:28.208Z"
   },
   {
    "duration": 8,
    "start_time": "2024-06-12T22:46:37.679Z"
   },
   {
    "duration": 578,
    "start_time": "2024-06-12T22:46:39.748Z"
   },
   {
    "duration": 567,
    "start_time": "2024-06-12T22:46:53.329Z"
   },
   {
    "duration": 619,
    "start_time": "2024-06-12T22:46:56.822Z"
   },
   {
    "duration": 7,
    "start_time": "2024-06-13T00:36:18.864Z"
   },
   {
    "duration": 27,
    "start_time": "2024-06-13T00:38:33.961Z"
   },
   {
    "duration": 80,
    "start_time": "2024-06-13T00:38:38.957Z"
   },
   {
    "duration": 28,
    "start_time": "2024-06-13T00:39:09.608Z"
   },
   {
    "duration": 26,
    "start_time": "2024-06-13T00:39:16.519Z"
   },
   {
    "duration": 25,
    "start_time": "2024-06-13T00:39:40.944Z"
   },
   {
    "duration": 27,
    "start_time": "2024-06-13T00:39:55.149Z"
   },
   {
    "duration": 71,
    "start_time": "2024-06-13T00:40:10.281Z"
   },
   {
    "duration": 572,
    "start_time": "2024-06-13T00:40:23.094Z"
   },
   {
    "duration": 32,
    "start_time": "2024-06-13T00:40:50.064Z"
   },
   {
    "duration": 17,
    "start_time": "2024-06-13T00:40:52.979Z"
   },
   {
    "duration": 11,
    "start_time": "2024-06-13T00:40:58.427Z"
   },
   {
    "duration": 783,
    "start_time": "2024-06-13T00:41:06.842Z"
   },
   {
    "duration": 14,
    "start_time": "2024-06-13T00:41:10.376Z"
   },
   {
    "duration": 16,
    "start_time": "2024-06-13T00:41:19.732Z"
   },
   {
    "duration": 71,
    "start_time": "2024-06-13T00:41:27.248Z"
   },
   {
    "duration": 71,
    "start_time": "2024-06-13T00:42:30.164Z"
   },
   {
    "duration": 69,
    "start_time": "2024-06-13T00:42:50.694Z"
   },
   {
    "duration": 16,
    "start_time": "2024-06-13T00:44:49.516Z"
   },
   {
    "duration": 14,
    "start_time": "2024-06-13T00:44:56.636Z"
   },
   {
    "duration": 7,
    "start_time": "2024-06-13T00:45:03.989Z"
   },
   {
    "duration": 17,
    "start_time": "2024-06-13T00:47:46.520Z"
   },
   {
    "duration": 17,
    "start_time": "2024-06-13T00:47:51.374Z"
   },
   {
    "duration": 42,
    "start_time": "2024-06-13T00:48:03.930Z"
   },
   {
    "duration": 9,
    "start_time": "2024-06-13T00:53:34.535Z"
   },
   {
    "duration": 9,
    "start_time": "2024-06-13T00:53:37.473Z"
   },
   {
    "duration": 609,
    "start_time": "2024-06-13T00:53:38.908Z"
   },
   {
    "duration": 613,
    "start_time": "2024-06-13T00:53:42.173Z"
   },
   {
    "duration": 583,
    "start_time": "2024-06-13T00:53:45.746Z"
   },
   {
    "duration": 8,
    "start_time": "2024-06-13T00:55:04.182Z"
   },
   {
    "duration": 8,
    "start_time": "2024-06-13T00:55:05.547Z"
   },
   {
    "duration": 8,
    "start_time": "2024-06-13T00:55:06.635Z"
   },
   {
    "duration": 10,
    "start_time": "2024-06-13T00:56:54.005Z"
   },
   {
    "duration": 619,
    "start_time": "2024-06-13T00:56:58.921Z"
   },
   {
    "duration": 574,
    "start_time": "2024-06-13T00:57:07.421Z"
   },
   {
    "duration": 617,
    "start_time": "2024-06-13T00:57:12.456Z"
   },
   {
    "duration": 9,
    "start_time": "2024-06-13T00:57:17.054Z"
   },
   {
    "duration": 8,
    "start_time": "2024-06-13T00:57:18.336Z"
   },
   {
    "duration": 8,
    "start_time": "2024-06-13T00:57:19.345Z"
   },
   {
    "duration": 5099,
    "start_time": "2024-06-13T22:29:37.795Z"
   },
   {
    "duration": 486,
    "start_time": "2024-06-13T22:29:42.898Z"
   },
   {
    "duration": 20,
    "start_time": "2024-06-13T22:29:43.387Z"
   },
   {
    "duration": 154,
    "start_time": "2024-06-13T22:29:43.411Z"
   },
   {
    "duration": 18,
    "start_time": "2024-06-13T22:29:43.569Z"
   },
   {
    "duration": 144,
    "start_time": "2024-06-13T22:29:43.590Z"
   },
   {
    "duration": 19,
    "start_time": "2024-06-13T22:29:43.737Z"
   },
   {
    "duration": 143,
    "start_time": "2024-06-13T22:29:43.759Z"
   },
   {
    "duration": 32,
    "start_time": "2024-06-13T22:29:43.905Z"
   },
   {
    "duration": 18,
    "start_time": "2024-06-13T22:29:43.940Z"
   },
   {
    "duration": 37,
    "start_time": "2024-06-13T22:29:43.961Z"
   },
   {
    "duration": 10,
    "start_time": "2024-06-13T22:29:44.032Z"
   },
   {
    "duration": 11,
    "start_time": "2024-06-13T22:29:44.045Z"
   },
   {
    "duration": 692,
    "start_time": "2024-06-13T22:29:44.062Z"
   },
   {
    "duration": 634,
    "start_time": "2024-06-13T22:29:44.757Z"
   },
   {
    "duration": 664,
    "start_time": "2024-06-13T22:29:45.397Z"
   },
   {
    "duration": 6,
    "start_time": "2024-06-13T22:29:46.064Z"
   },
   {
    "duration": 9,
    "start_time": "2024-06-13T22:29:46.072Z"
   },
   {
    "duration": 9,
    "start_time": "2024-06-13T22:29:46.084Z"
   },
   {
    "duration": 10,
    "start_time": "2024-06-13T22:29:46.132Z"
   },
   {
    "duration": 16,
    "start_time": "2024-06-14T22:53:56.618Z"
   },
   {
    "duration": 304,
    "start_time": "2024-06-14T22:53:59.246Z"
   },
   {
    "duration": 5145,
    "start_time": "2024-06-14T22:54:08.552Z"
   },
   {
    "duration": 501,
    "start_time": "2024-06-14T22:54:13.702Z"
   },
   {
    "duration": 27,
    "start_time": "2024-06-14T22:54:14.206Z"
   },
   {
    "duration": 140,
    "start_time": "2024-06-14T22:54:14.236Z"
   },
   {
    "duration": 22,
    "start_time": "2024-06-14T22:54:14.380Z"
   },
   {
    "duration": 154,
    "start_time": "2024-06-14T22:54:14.405Z"
   },
   {
    "duration": 18,
    "start_time": "2024-06-14T22:54:14.562Z"
   },
   {
    "duration": 150,
    "start_time": "2024-06-14T22:54:14.582Z"
   },
   {
    "duration": 16,
    "start_time": "2024-06-14T22:54:14.735Z"
   },
   {
    "duration": 18,
    "start_time": "2024-06-14T22:54:14.757Z"
   },
   {
    "duration": 72,
    "start_time": "2024-06-14T22:54:14.778Z"
   },
   {
    "duration": 10,
    "start_time": "2024-06-14T22:54:14.853Z"
   },
   {
    "duration": 11,
    "start_time": "2024-06-14T22:54:14.866Z"
   },
   {
    "duration": 1658,
    "start_time": "2024-06-14T22:54:14.879Z"
   },
   {
    "duration": 0,
    "start_time": "2024-06-14T22:54:16.540Z"
   },
   {
    "duration": 0,
    "start_time": "2024-06-14T22:54:16.543Z"
   },
   {
    "duration": 0,
    "start_time": "2024-06-14T22:54:16.545Z"
   },
   {
    "duration": 0,
    "start_time": "2024-06-14T22:54:16.548Z"
   },
   {
    "duration": 0,
    "start_time": "2024-06-14T22:54:16.551Z"
   },
   {
    "duration": 0,
    "start_time": "2024-06-14T22:54:16.552Z"
   },
   {
    "duration": 10,
    "start_time": "2024-06-14T22:56:21.279Z"
   },
   {
    "duration": 684,
    "start_time": "2024-06-14T22:56:23.605Z"
   },
   {
    "duration": 9,
    "start_time": "2024-06-14T22:58:32.455Z"
   },
   {
    "duration": 576,
    "start_time": "2024-06-14T22:58:34.205Z"
   },
   {
    "duration": 10,
    "start_time": "2024-06-14T22:59:00.263Z"
   },
   {
    "duration": 1686,
    "start_time": "2024-06-14T22:59:01.828Z"
   },
   {
    "duration": 14,
    "start_time": "2024-06-14T23:01:50.951Z"
   },
   {
    "duration": 1769,
    "start_time": "2024-06-14T23:01:52.775Z"
   },
   {
    "duration": 125,
    "start_time": "2024-06-14T23:13:41.148Z"
   },
   {
    "duration": 10,
    "start_time": "2024-06-14T23:13:45.547Z"
   },
   {
    "duration": 1632,
    "start_time": "2024-06-14T23:13:55.176Z"
   },
   {
    "duration": 9,
    "start_time": "2024-06-14T23:14:56.222Z"
   },
   {
    "duration": 706,
    "start_time": "2024-06-14T23:15:00.507Z"
   },
   {
    "duration": 11,
    "start_time": "2024-06-14T23:19:25.121Z"
   },
   {
    "duration": 11,
    "start_time": "2024-06-14T23:19:29.724Z"
   },
   {
    "duration": 10,
    "start_time": "2024-06-14T23:19:36.024Z"
   },
   {
    "duration": 676,
    "start_time": "2024-06-14T23:19:39.619Z"
   },
   {
    "duration": 15,
    "start_time": "2024-06-14T23:53:27.490Z"
   },
   {
    "duration": 15,
    "start_time": "2024-06-14T23:53:39.496Z"
   },
   {
    "duration": 17,
    "start_time": "2024-06-14T23:53:56.567Z"
   },
   {
    "duration": 390,
    "start_time": "2024-06-14T23:56:07.578Z"
   },
   {
    "duration": 933,
    "start_time": "2024-06-14T23:56:17.736Z"
   },
   {
    "duration": 337,
    "start_time": "2024-06-14T23:57:19.710Z"
   },
   {
    "duration": 377,
    "start_time": "2024-06-14T23:57:36.982Z"
   },
   {
    "duration": 315,
    "start_time": "2024-06-14T23:57:47.240Z"
   },
   {
    "duration": 328,
    "start_time": "2024-06-14T23:58:00.804Z"
   },
   {
    "duration": 376,
    "start_time": "2024-06-14T23:59:27.386Z"
   },
   {
    "duration": 355,
    "start_time": "2024-06-14T23:59:45.184Z"
   },
   {
    "duration": 5,
    "start_time": "2024-06-15T00:07:34.040Z"
   },
   {
    "duration": 30,
    "start_time": "2024-06-15T00:07:57.996Z"
   },
   {
    "duration": 6,
    "start_time": "2024-06-15T00:08:16.166Z"
   },
   {
    "duration": 27,
    "start_time": "2024-06-15T00:08:20.032Z"
   },
   {
    "duration": 35,
    "start_time": "2024-06-15T00:08:51.605Z"
   },
   {
    "duration": 424,
    "start_time": "2024-06-15T00:12:11.805Z"
   },
   {
    "duration": 432,
    "start_time": "2024-06-15T00:13:03.800Z"
   },
   {
    "duration": 441,
    "start_time": "2024-06-15T00:13:47.689Z"
   },
   {
    "duration": 7,
    "start_time": "2024-06-15T01:12:50.248Z"
   },
   {
    "duration": 40,
    "start_time": "2024-06-15T01:12:59.397Z"
   },
   {
    "duration": 32,
    "start_time": "2024-06-15T01:13:12.288Z"
   },
   {
    "duration": 33,
    "start_time": "2024-06-15T01:13:25.089Z"
   },
   {
    "duration": 17,
    "start_time": "2024-06-15T01:54:38.178Z"
   },
   {
    "duration": 28,
    "start_time": "2024-06-15T02:04:17.191Z"
   },
   {
    "duration": 25,
    "start_time": "2024-06-15T02:05:13.479Z"
   },
   {
    "duration": 24,
    "start_time": "2024-06-15T02:17:02.089Z"
   },
   {
    "duration": 1369,
    "start_time": "2024-06-15T02:17:08.846Z"
   },
   {
    "duration": 30,
    "start_time": "2024-06-15T02:17:23.454Z"
   },
   {
    "duration": 15,
    "start_time": "2024-06-15T02:17:34.223Z"
   },
   {
    "duration": 10,
    "start_time": "2024-06-15T02:17:44.907Z"
   },
   {
    "duration": 11,
    "start_time": "2024-06-15T02:18:22.614Z"
   },
   {
    "duration": 10,
    "start_time": "2024-06-15T02:18:27.758Z"
   },
   {
    "duration": 1623,
    "start_time": "2024-06-15T02:18:52.033Z"
   },
   {
    "duration": 374,
    "start_time": "2024-06-15T02:18:53.660Z"
   },
   {
    "duration": 20,
    "start_time": "2024-06-15T02:18:54.037Z"
   },
   {
    "duration": 149,
    "start_time": "2024-06-15T02:18:54.060Z"
   },
   {
    "duration": 30,
    "start_time": "2024-06-15T02:18:54.214Z"
   },
   {
    "duration": 127,
    "start_time": "2024-06-15T02:18:54.247Z"
   },
   {
    "duration": 17,
    "start_time": "2024-06-15T02:18:54.377Z"
   },
   {
    "duration": 138,
    "start_time": "2024-06-15T02:18:54.397Z"
   },
   {
    "duration": 9,
    "start_time": "2024-06-15T02:18:54.538Z"
   },
   {
    "duration": 16,
    "start_time": "2024-06-15T02:18:54.551Z"
   },
   {
    "duration": 426,
    "start_time": "2024-06-15T02:19:29.022Z"
   },
   {
    "duration": 30,
    "start_time": "2024-06-15T02:19:34.411Z"
   },
   {
    "duration": 1586,
    "start_time": "2024-06-15T02:19:54.928Z"
   },
   {
    "duration": 401,
    "start_time": "2024-06-15T02:19:56.518Z"
   },
   {
    "duration": 25,
    "start_time": "2024-06-15T02:19:56.921Z"
   },
   {
    "duration": 140,
    "start_time": "2024-06-15T02:19:56.948Z"
   },
   {
    "duration": 20,
    "start_time": "2024-06-15T02:19:57.092Z"
   },
   {
    "duration": 141,
    "start_time": "2024-06-15T02:19:57.132Z"
   },
   {
    "duration": 18,
    "start_time": "2024-06-15T02:19:57.275Z"
   },
   {
    "duration": 143,
    "start_time": "2024-06-15T02:19:57.296Z"
   },
   {
    "duration": 10,
    "start_time": "2024-06-15T02:19:57.445Z"
   },
   {
    "duration": 23,
    "start_time": "2024-06-15T02:19:57.458Z"
   },
   {
    "duration": 22,
    "start_time": "2024-06-15T02:20:32.190Z"
   },
   {
    "duration": 22,
    "start_time": "2024-06-15T02:20:47.954Z"
   },
   {
    "duration": 370,
    "start_time": "2024-06-15T02:20:54.999Z"
   },
   {
    "duration": 316,
    "start_time": "2024-06-15T02:20:58.462Z"
   },
   {
    "duration": 351,
    "start_time": "2024-06-15T02:21:01.422Z"
   },
   {
    "duration": 1518,
    "start_time": "2024-06-15T02:22:48.632Z"
   },
   {
    "duration": 27,
    "start_time": "2024-06-15T02:23:56.457Z"
   },
   {
    "duration": 1486,
    "start_time": "2024-06-15T02:24:27.516Z"
   },
   {
    "duration": 1545,
    "start_time": "2024-06-15T02:24:39.723Z"
   },
   {
    "duration": 4734,
    "start_time": "2024-06-15T02:25:08.739Z"
   },
   {
    "duration": 4696,
    "start_time": "2024-06-15T02:28:46.168Z"
   },
   {
    "duration": 6,
    "start_time": "2024-06-15T02:28:55.020Z"
   },
   {
    "duration": 6,
    "start_time": "2024-06-15T02:29:01.601Z"
   },
   {
    "duration": 5,
    "start_time": "2024-06-15T02:29:19.234Z"
   },
   {
    "duration": 5,
    "start_time": "2024-06-15T02:29:26.083Z"
   },
   {
    "duration": 5,
    "start_time": "2024-06-15T02:29:29.872Z"
   },
   {
    "duration": 7,
    "start_time": "2024-06-15T02:29:33.000Z"
   },
   {
    "duration": 5,
    "start_time": "2024-06-15T02:29:37.926Z"
   },
   {
    "duration": 6,
    "start_time": "2024-06-15T02:29:43.887Z"
   },
   {
    "duration": 4647,
    "start_time": "2024-06-15T02:30:25.125Z"
   },
   {
    "duration": 6,
    "start_time": "2024-06-15T02:30:31.319Z"
   },
   {
    "duration": 6,
    "start_time": "2024-06-15T02:30:37.940Z"
   },
   {
    "duration": 4712,
    "start_time": "2024-06-15T02:30:46.684Z"
   },
   {
    "duration": 5,
    "start_time": "2024-06-15T02:30:52.557Z"
   },
   {
    "duration": 6,
    "start_time": "2024-06-15T02:30:58.314Z"
   },
   {
    "duration": 6,
    "start_time": "2024-06-15T02:31:03.212Z"
   },
   {
    "duration": 22,
    "start_time": "2024-06-15T02:31:30.800Z"
   },
   {
    "duration": 363,
    "start_time": "2024-06-15T02:31:34.278Z"
   },
   {
    "duration": 1699,
    "start_time": "2024-06-15T02:31:53.120Z"
   },
   {
    "duration": 387,
    "start_time": "2024-06-15T02:31:54.832Z"
   },
   {
    "duration": 24,
    "start_time": "2024-06-15T02:31:55.222Z"
   },
   {
    "duration": 164,
    "start_time": "2024-06-15T02:31:55.249Z"
   },
   {
    "duration": 37,
    "start_time": "2024-06-15T02:31:55.424Z"
   },
   {
    "duration": 172,
    "start_time": "2024-06-15T02:31:55.465Z"
   },
   {
    "duration": 28,
    "start_time": "2024-06-15T02:31:55.641Z"
   },
   {
    "duration": 180,
    "start_time": "2024-06-15T02:31:55.672Z"
   },
   {
    "duration": 15,
    "start_time": "2024-06-15T02:31:55.854Z"
   },
   {
    "duration": 27,
    "start_time": "2024-06-15T02:31:55.872Z"
   },
   {
    "duration": 49,
    "start_time": "2024-06-15T02:31:55.904Z"
   },
   {
    "duration": 24,
    "start_time": "2024-06-15T02:31:55.956Z"
   },
   {
    "duration": 391,
    "start_time": "2024-06-15T02:31:55.985Z"
   },
   {
    "duration": 359,
    "start_time": "2024-06-15T02:31:56.381Z"
   },
   {
    "duration": 415,
    "start_time": "2024-06-15T02:31:56.743Z"
   },
   {
    "duration": 4870,
    "start_time": "2024-06-15T02:31:57.165Z"
   },
   {
    "duration": 5,
    "start_time": "2024-06-15T02:32:12.687Z"
   },
   {
    "duration": 6,
    "start_time": "2024-06-15T02:32:18.875Z"
   },
   {
    "duration": 6,
    "start_time": "2024-06-15T02:32:22.650Z"
   },
   {
    "duration": 6,
    "start_time": "2024-06-15T02:35:08.055Z"
   },
   {
    "duration": 415,
    "start_time": "2024-06-15T02:35:20.747Z"
   },
   {
    "duration": 33,
    "start_time": "2024-06-15T02:35:30.140Z"
   },
   {
    "duration": 5,
    "start_time": "2024-06-15T02:36:01.154Z"
   },
   {
    "duration": 4,
    "start_time": "2024-06-15T02:36:24.683Z"
   },
   {
    "duration": 10,
    "start_time": "2024-06-15T02:36:30.283Z"
   },
   {
    "duration": 6,
    "start_time": "2024-06-15T02:37:14.855Z"
   },
   {
    "duration": 12,
    "start_time": "2024-06-15T02:37:19.111Z"
   },
   {
    "duration": 10,
    "start_time": "2024-06-15T02:37:22.310Z"
   },
   {
    "duration": 3297,
    "start_time": "2024-06-15T02:47:38.106Z"
   },
   {
    "duration": 853,
    "start_time": "2024-06-15T02:47:42.006Z"
   },
   {
    "duration": 122,
    "start_time": "2024-06-15T02:48:16.960Z"
   },
   {
    "duration": 4774,
    "start_time": "2024-06-15T02:48:31.608Z"
   },
   {
    "duration": 8,
    "start_time": "2024-06-15T02:48:36.386Z"
   },
   {
    "duration": 10,
    "start_time": "2024-06-15T02:50:17.011Z"
   },
   {
    "duration": 88,
    "start_time": "2024-06-15T02:50:34.484Z"
   },
   {
    "duration": 59,
    "start_time": "2024-06-15T02:50:48.675Z"
   },
   {
    "duration": 6,
    "start_time": "2024-06-15T02:52:52.027Z"
   },
   {
    "duration": 16,
    "start_time": "2024-06-15T03:01:38.702Z"
   },
   {
    "duration": 37,
    "start_time": "2024-06-15T03:02:19.114Z"
   },
   {
    "duration": 3548,
    "start_time": "2024-06-15T03:03:02.463Z"
   },
   {
    "duration": 6,
    "start_time": "2024-06-15T03:03:07.461Z"
   },
   {
    "duration": 6,
    "start_time": "2024-06-15T03:03:20.567Z"
   },
   {
    "duration": 14,
    "start_time": "2024-06-15T03:03:22.234Z"
   },
   {
    "duration": 19,
    "start_time": "2024-06-15T03:06:45.762Z"
   },
   {
    "duration": 34,
    "start_time": "2024-06-15T03:06:55.032Z"
   },
   {
    "duration": 20,
    "start_time": "2024-06-15T03:06:57.008Z"
   },
   {
    "duration": 1560,
    "start_time": "2024-06-15T03:07:21.549Z"
   },
   {
    "duration": 413,
    "start_time": "2024-06-15T03:07:23.113Z"
   },
   {
    "duration": 19,
    "start_time": "2024-06-15T03:07:23.532Z"
   },
   {
    "duration": 147,
    "start_time": "2024-06-15T03:07:23.555Z"
   },
   {
    "duration": 31,
    "start_time": "2024-06-15T03:07:23.706Z"
   },
   {
    "duration": 130,
    "start_time": "2024-06-15T03:07:23.740Z"
   },
   {
    "duration": 18,
    "start_time": "2024-06-15T03:07:23.873Z"
   },
   {
    "duration": 139,
    "start_time": "2024-06-15T03:07:23.894Z"
   },
   {
    "duration": 14,
    "start_time": "2024-06-15T03:07:24.035Z"
   },
   {
    "duration": 42,
    "start_time": "2024-06-15T03:07:24.051Z"
   },
   {
    "duration": 23,
    "start_time": "2024-06-15T03:07:26.549Z"
   },
   {
    "duration": 23,
    "start_time": "2024-06-15T03:08:29.228Z"
   },
   {
    "duration": 807,
    "start_time": "2024-06-15T03:10:15.617Z"
   },
   {
    "duration": 25,
    "start_time": "2024-06-15T03:10:50.286Z"
   },
   {
    "duration": 103,
    "start_time": "2024-06-15T03:11:25.042Z"
   },
   {
    "duration": 87,
    "start_time": "2024-06-15T03:11:31.351Z"
   },
   {
    "duration": 27,
    "start_time": "2024-06-15T03:11:51.850Z"
   },
   {
    "duration": 569,
    "start_time": "2024-06-15T03:11:57.048Z"
   },
   {
    "duration": 6,
    "start_time": "2024-06-15T03:12:28.249Z"
   },
   {
    "duration": 113,
    "start_time": "2024-06-15T03:12:50.582Z"
   },
   {
    "duration": 36,
    "start_time": "2024-06-15T03:13:08.768Z"
   },
   {
    "duration": 14,
    "start_time": "2024-06-15T03:13:10.284Z"
   },
   {
    "duration": 6,
    "start_time": "2024-06-15T03:13:12.493Z"
   },
   {
    "duration": 35,
    "start_time": "2024-06-15T03:13:28.954Z"
   },
   {
    "duration": 17,
    "start_time": "2024-06-15T03:13:31.692Z"
   },
   {
    "duration": 13,
    "start_time": "2024-06-15T03:13:32.511Z"
   },
   {
    "duration": 32,
    "start_time": "2024-06-15T03:14:28.595Z"
   },
   {
    "duration": 329,
    "start_time": "2024-06-15T03:15:08.649Z"
   },
   {
    "duration": 346,
    "start_time": "2024-06-15T03:15:22.887Z"
   },
   {
    "duration": 335,
    "start_time": "2024-06-15T03:15:36.406Z"
   },
   {
    "duration": 3653,
    "start_time": "2024-06-15T03:15:42.740Z"
   },
   {
    "duration": 6,
    "start_time": "2024-06-15T03:15:50.274Z"
   },
   {
    "duration": 7,
    "start_time": "2024-06-15T03:15:52.376Z"
   },
   {
    "duration": 13,
    "start_time": "2024-06-15T03:15:53.749Z"
   },
   {
    "duration": 5589,
    "start_time": "2024-06-15T05:24:04.731Z"
   },
   {
    "duration": 558,
    "start_time": "2024-06-15T05:24:10.329Z"
   },
   {
    "duration": 32,
    "start_time": "2024-06-15T05:24:10.891Z"
   },
   {
    "duration": 156,
    "start_time": "2024-06-15T05:24:10.926Z"
   },
   {
    "duration": 22,
    "start_time": "2024-06-15T05:24:11.087Z"
   },
   {
    "duration": 144,
    "start_time": "2024-06-15T05:24:11.124Z"
   },
   {
    "duration": 22,
    "start_time": "2024-06-15T05:24:11.271Z"
   },
   {
    "duration": 161,
    "start_time": "2024-06-15T05:24:11.296Z"
   },
   {
    "duration": 11,
    "start_time": "2024-06-15T05:24:11.460Z"
   },
   {
    "duration": 73,
    "start_time": "2024-06-15T05:24:11.477Z"
   },
   {
    "duration": 39,
    "start_time": "2024-06-15T05:24:11.554Z"
   },
   {
    "duration": 381,
    "start_time": "2024-06-15T05:24:11.596Z"
   },
   {
    "duration": 411,
    "start_time": "2024-06-15T05:24:11.980Z"
   },
   {
    "duration": 369,
    "start_time": "2024-06-15T05:24:12.396Z"
   },
   {
    "duration": 3661,
    "start_time": "2024-06-15T05:24:12.769Z"
   },
   {
    "duration": 12,
    "start_time": "2024-06-15T05:24:16.433Z"
   },
   {
    "duration": 7,
    "start_time": "2024-06-15T05:24:16.449Z"
   },
   {
    "duration": 72,
    "start_time": "2024-06-15T05:24:16.459Z"
   },
   {
    "duration": 184,
    "start_time": "2024-06-15T05:32:23.347Z"
   },
   {
    "duration": 14,
    "start_time": "2024-06-15T05:32:29.261Z"
   },
   {
    "duration": 18,
    "start_time": "2024-06-15T05:32:53.170Z"
   },
   {
    "duration": 16,
    "start_time": "2024-06-15T05:32:56.960Z"
   },
   {
    "duration": 18,
    "start_time": "2024-06-15T05:33:01.341Z"
   },
   {
    "duration": 14,
    "start_time": "2024-06-15T05:33:06.151Z"
   },
   {
    "duration": 18,
    "start_time": "2024-06-15T05:33:12.387Z"
   },
   {
    "duration": 16,
    "start_time": "2024-06-15T05:33:16.451Z"
   },
   {
    "duration": 17,
    "start_time": "2024-06-15T05:33:30.087Z"
   },
   {
    "duration": 13,
    "start_time": "2024-06-15T05:33:37.599Z"
   },
   {
    "duration": 15,
    "start_time": "2024-06-15T05:33:42.494Z"
   },
   {
    "duration": 17,
    "start_time": "2024-06-15T05:33:48.379Z"
   },
   {
    "duration": 17,
    "start_time": "2024-06-15T05:33:53.982Z"
   },
   {
    "duration": 17,
    "start_time": "2024-06-15T05:34:02.735Z"
   },
   {
    "duration": 528,
    "start_time": "2024-06-15T05:37:37.481Z"
   },
   {
    "duration": 42,
    "start_time": "2024-06-15T05:37:51.398Z"
   },
   {
    "duration": 25,
    "start_time": "2024-06-15T05:37:58.299Z"
   },
   {
    "duration": 16,
    "start_time": "2024-06-15T05:38:50.341Z"
   },
   {
    "duration": 80,
    "start_time": "2024-06-15T05:40:08.343Z"
   },
   {
    "duration": 10,
    "start_time": "2024-06-15T05:40:09.562Z"
   },
   {
    "duration": 41,
    "start_time": "2024-06-15T05:40:38.244Z"
   },
   {
    "duration": 15,
    "start_time": "2024-06-15T05:40:40.656Z"
   },
   {
    "duration": 14,
    "start_time": "2024-06-15T05:40:55.453Z"
   },
   {
    "duration": 22,
    "start_time": "2024-06-15T05:42:05.867Z"
   },
   {
    "duration": 14,
    "start_time": "2024-06-15T05:42:23.367Z"
   },
   {
    "duration": 17,
    "start_time": "2024-06-15T05:42:37.711Z"
   },
   {
    "duration": 40,
    "start_time": "2024-06-15T05:44:02.472Z"
   },
   {
    "duration": 14,
    "start_time": "2024-06-15T05:44:05.417Z"
   },
   {
    "duration": 20,
    "start_time": "2024-06-15T05:44:07.650Z"
   },
   {
    "duration": 17,
    "start_time": "2024-06-15T05:44:17.945Z"
   },
   {
    "duration": 17,
    "start_time": "2024-06-15T05:44:27.784Z"
   },
   {
    "duration": 22,
    "start_time": "2024-06-15T05:44:36.225Z"
   },
   {
    "duration": 13,
    "start_time": "2024-06-15T05:44:44.615Z"
   },
   {
    "duration": 14,
    "start_time": "2024-06-15T05:44:51.574Z"
   },
   {
    "duration": 14,
    "start_time": "2024-06-15T05:45:01.715Z"
   },
   {
    "duration": 12,
    "start_time": "2024-06-15T05:45:08.919Z"
   },
   {
    "duration": 8,
    "start_time": "2024-06-15T05:48:00.196Z"
   },
   {
    "duration": 26,
    "start_time": "2024-06-15T05:49:20.480Z"
   },
   {
    "duration": 21,
    "start_time": "2024-06-15T05:49:39.568Z"
   },
   {
    "duration": 49,
    "start_time": "2024-06-15T05:50:13.174Z"
   },
   {
    "duration": 8,
    "start_time": "2024-06-15T05:50:49.886Z"
   },
   {
    "duration": 37,
    "start_time": "2024-06-15T05:51:21.540Z"
   },
   {
    "duration": 62,
    "start_time": "2024-06-15T05:54:17.565Z"
   },
   {
    "duration": 99,
    "start_time": "2024-06-15T05:54:22.543Z"
   },
   {
    "duration": 27,
    "start_time": "2024-06-15T06:00:39.086Z"
   },
   {
    "duration": 37,
    "start_time": "2024-06-15T06:00:59.014Z"
   },
   {
    "duration": 84,
    "start_time": "2024-06-15T06:06:41.243Z"
   },
   {
    "duration": 30,
    "start_time": "2024-06-15T06:06:45.095Z"
   },
   {
    "duration": 28,
    "start_time": "2024-06-15T06:06:49.776Z"
   },
   {
    "duration": 50,
    "start_time": "2024-06-15T06:13:16.277Z"
   },
   {
    "duration": 5,
    "start_time": "2024-06-15T06:13:21.992Z"
   },
   {
    "duration": 80,
    "start_time": "2024-06-15T06:16:01.566Z"
   },
   {
    "duration": 5,
    "start_time": "2024-06-15T06:16:03.549Z"
   },
   {
    "duration": 158,
    "start_time": "2024-06-15T06:16:05.481Z"
   },
   {
    "duration": 29,
    "start_time": "2024-06-15T06:16:09.219Z"
   },
   {
    "duration": 170,
    "start_time": "2024-06-15T06:25:14.264Z"
   },
   {
    "duration": 86,
    "start_time": "2024-06-15T06:25:20.763Z"
   },
   {
    "duration": 35,
    "start_time": "2024-06-15T06:25:29.545Z"
   },
   {
    "duration": 8,
    "start_time": "2024-06-15T06:25:46.401Z"
   },
   {
    "duration": 113,
    "start_time": "2024-06-15T06:25:54.527Z"
   },
   {
    "duration": 327,
    "start_time": "2024-06-15T06:26:27.185Z"
   },
   {
    "duration": 317,
    "start_time": "2024-06-15T06:26:54.242Z"
   },
   {
    "duration": 343,
    "start_time": "2024-06-15T06:27:01.919Z"
   },
   {
    "duration": 350,
    "start_time": "2024-06-15T06:27:12.659Z"
   },
   {
    "duration": 177,
    "start_time": "2024-06-15T06:28:27.747Z"
   },
   {
    "duration": 53,
    "start_time": "2024-06-15T06:28:35.501Z"
   },
   {
    "duration": 225,
    "start_time": "2024-06-15T06:28:39.607Z"
   },
   {
    "duration": 177,
    "start_time": "2024-06-15T06:29:08.453Z"
   },
   {
    "duration": 102,
    "start_time": "2024-06-15T06:29:20.253Z"
   },
   {
    "duration": 124,
    "start_time": "2024-06-15T06:29:42.610Z"
   },
   {
    "duration": 135,
    "start_time": "2024-06-15T06:30:00.612Z"
   },
   {
    "duration": 39,
    "start_time": "2024-06-15T06:30:59.362Z"
   },
   {
    "duration": 407,
    "start_time": "2024-06-15T06:31:02.239Z"
   },
   {
    "duration": 309,
    "start_time": "2024-06-15T06:31:05.137Z"
   },
   {
    "duration": 337,
    "start_time": "2024-06-15T06:31:09.706Z"
   },
   {
    "duration": 151,
    "start_time": "2024-06-15T06:31:14.099Z"
   },
   {
    "duration": 80,
    "start_time": "2024-06-15T06:31:16.661Z"
   },
   {
    "duration": 332,
    "start_time": "2024-06-15T06:44:05.294Z"
   },
   {
    "duration": 26,
    "start_time": "2024-06-15T06:45:08.798Z"
   },
   {
    "duration": 13,
    "start_time": "2024-06-15T06:45:15.196Z"
   },
   {
    "duration": 36,
    "start_time": "2024-06-15T06:45:27.248Z"
   },
   {
    "duration": 321,
    "start_time": "2024-06-15T06:45:30.346Z"
   },
   {
    "duration": 348,
    "start_time": "2024-06-15T06:45:33.764Z"
   },
   {
    "duration": 339,
    "start_time": "2024-06-15T06:45:36.769Z"
   },
   {
    "duration": 79,
    "start_time": "2024-06-15T06:45:43.948Z"
   },
   {
    "duration": 326,
    "start_time": "2024-06-15T06:45:47.752Z"
   },
   {
    "duration": 368,
    "start_time": "2024-06-15T06:45:51.374Z"
   },
   {
    "duration": 372,
    "start_time": "2024-06-15T06:45:57.193Z"
   },
   {
    "duration": 212,
    "start_time": "2024-06-15T06:46:00.432Z"
   },
   {
    "duration": 28,
    "start_time": "2024-06-15T06:46:02.740Z"
   },
   {
    "duration": 8,
    "start_time": "2024-06-15T06:53:34.214Z"
   },
   {
    "duration": 264,
    "start_time": "2024-06-15T06:54:21.387Z"
   },
   {
    "duration": 5102,
    "start_time": "2024-06-16T00:36:29.009Z"
   },
   {
    "duration": 540,
    "start_time": "2024-06-16T00:36:36.545Z"
   },
   {
    "duration": 124,
    "start_time": "2024-06-16T00:36:39.622Z"
   },
   {
    "duration": 19,
    "start_time": "2024-06-16T00:36:42.994Z"
   },
   {
    "duration": 113,
    "start_time": "2024-06-16T00:36:49.980Z"
   },
   {
    "duration": 114,
    "start_time": "2024-06-16T00:36:52.955Z"
   },
   {
    "duration": 18,
    "start_time": "2024-06-16T00:36:55.225Z"
   },
   {
    "duration": 118,
    "start_time": "2024-06-16T00:36:58.226Z"
   },
   {
    "duration": 9,
    "start_time": "2024-06-16T00:37:53.558Z"
   },
   {
    "duration": 28,
    "start_time": "2024-06-16T00:38:11.404Z"
   },
   {
    "duration": 40,
    "start_time": "2024-06-16T00:38:13.996Z"
   },
   {
    "duration": 15,
    "start_time": "2024-06-16T00:38:39.075Z"
   },
   {
    "duration": 15,
    "start_time": "2024-06-16T00:39:02.425Z"
   },
   {
    "duration": 47,
    "start_time": "2024-06-16T00:39:34.656Z"
   },
   {
    "duration": 50,
    "start_time": "2024-06-16T00:40:17.276Z"
   },
   {
    "duration": 31,
    "start_time": "2024-06-16T00:41:07.137Z"
   },
   {
    "duration": 153,
    "start_time": "2024-06-16T00:48:43.779Z"
   },
   {
    "duration": 174,
    "start_time": "2024-06-16T00:49:42.550Z"
   },
   {
    "duration": 190,
    "start_time": "2024-06-16T00:50:09.017Z"
   },
   {
    "duration": 138,
    "start_time": "2024-06-16T00:50:15.091Z"
   },
   {
    "duration": 9,
    "start_time": "2024-06-16T00:54:06.233Z"
   },
   {
    "duration": 164,
    "start_time": "2024-06-16T00:55:05.258Z"
   },
   {
    "duration": 144,
    "start_time": "2024-06-16T00:55:23.465Z"
   },
   {
    "duration": 9,
    "start_time": "2024-06-16T00:59:14.587Z"
   },
   {
    "duration": 156,
    "start_time": "2024-06-16T01:00:02.564Z"
   },
   {
    "duration": 682,
    "start_time": "2024-06-16T01:03:03.626Z"
   },
   {
    "duration": 275,
    "start_time": "2024-06-16T01:03:30.526Z"
   },
   {
    "duration": 869,
    "start_time": "2024-06-16T01:22:49.443Z"
   },
   {
    "duration": 908,
    "start_time": "2024-06-16T01:23:01.996Z"
   },
   {
    "duration": 904,
    "start_time": "2024-06-16T01:23:12.156Z"
   },
   {
    "duration": 7,
    "start_time": "2024-06-16T01:23:21.376Z"
   },
   {
    "duration": 198,
    "start_time": "2024-06-16T01:24:07.506Z"
   },
   {
    "duration": 623,
    "start_time": "2024-06-16T01:24:49.639Z"
   },
   {
    "duration": 190,
    "start_time": "2024-06-16T01:25:48.492Z"
   },
   {
    "duration": 247,
    "start_time": "2024-06-16T01:26:05.413Z"
   },
   {
    "duration": 280,
    "start_time": "2024-06-16T01:26:50.402Z"
   },
   {
    "duration": 548,
    "start_time": "2024-06-16T01:26:57.694Z"
   },
   {
    "duration": 638,
    "start_time": "2024-06-16T01:27:41.330Z"
   },
   {
    "duration": 1853,
    "start_time": "2024-06-16T01:28:11.765Z"
   },
   {
    "duration": 1894,
    "start_time": "2024-06-16T01:31:02.864Z"
   },
   {
    "duration": 1994,
    "start_time": "2024-06-16T01:32:30.891Z"
   },
   {
    "duration": 2150,
    "start_time": "2024-06-16T01:34:38.651Z"
   },
   {
    "duration": 1903,
    "start_time": "2024-06-16T01:35:59.061Z"
   },
   {
    "duration": 7,
    "start_time": "2024-06-16T01:44:59.407Z"
   },
   {
    "duration": 860,
    "start_time": "2024-06-16T01:45:01.853Z"
   },
   {
    "duration": 902,
    "start_time": "2024-06-16T01:45:55.093Z"
   },
   {
    "duration": 2337,
    "start_time": "2024-06-16T01:46:25.545Z"
   },
   {
    "duration": 291,
    "start_time": "2024-06-16T01:47:16.372Z"
   },
   {
    "duration": 1629,
    "start_time": "2024-06-16T01:47:19.658Z"
   },
   {
    "duration": 1677,
    "start_time": "2024-06-16T01:47:26.149Z"
   },
   {
    "duration": 620,
    "start_time": "2024-06-16T01:47:58.913Z"
   },
   {
    "duration": 569,
    "start_time": "2024-06-16T01:48:43.439Z"
   },
   {
    "duration": 733,
    "start_time": "2024-06-16T01:48:50.011Z"
   },
   {
    "duration": 8,
    "start_time": "2024-06-16T01:50:58.720Z"
   },
   {
    "duration": 6,
    "start_time": "2024-06-16T01:51:12.045Z"
   },
   {
    "duration": 26,
    "start_time": "2024-06-16T01:51:18.021Z"
   },
   {
    "duration": 8,
    "start_time": "2024-06-16T01:51:49.850Z"
   },
   {
    "duration": 8197,
    "start_time": "2024-06-16T01:51:59.940Z"
   },
   {
    "duration": 8231,
    "start_time": "2024-06-16T01:52:57.535Z"
   },
   {
    "duration": 8065,
    "start_time": "2024-06-16T01:54:07.043Z"
   },
   {
    "duration": 9,
    "start_time": "2024-06-16T01:56:14.003Z"
   },
   {
    "duration": 33,
    "start_time": "2024-06-16T01:56:24.910Z"
   },
   {
    "duration": 178,
    "start_time": "2024-06-16T01:56:26.224Z"
   },
   {
    "duration": 9,
    "start_time": "2024-06-16T01:57:35.809Z"
   },
   {
    "duration": 143,
    "start_time": "2024-06-16T01:57:42.783Z"
   },
   {
    "duration": 9,
    "start_time": "2024-06-16T01:58:01.808Z"
   },
   {
    "duration": 184,
    "start_time": "2024-06-16T01:58:07.918Z"
   },
   {
    "duration": 37,
    "start_time": "2024-06-16T01:58:27.173Z"
   },
   {
    "duration": 121,
    "start_time": "2024-06-16T01:58:28.503Z"
   },
   {
    "duration": 7,
    "start_time": "2024-06-16T01:58:39.165Z"
   },
   {
    "duration": 33,
    "start_time": "2024-06-16T01:58:43.409Z"
   },
   {
    "duration": 319,
    "start_time": "2024-06-16T01:58:44.638Z"
   },
   {
    "duration": 10,
    "start_time": "2024-06-16T01:59:13.928Z"
   },
   {
    "duration": 32,
    "start_time": "2024-06-16T01:59:37.504Z"
   },
   {
    "duration": 139,
    "start_time": "2024-06-16T01:59:46.143Z"
   },
   {
    "duration": 329,
    "start_time": "2024-06-16T02:20:22.422Z"
   },
   {
    "duration": 9,
    "start_time": "2024-06-16T02:20:29.647Z"
   },
   {
    "duration": 28,
    "start_time": "2024-06-16T02:20:31.736Z"
   },
   {
    "duration": 36,
    "start_time": "2024-06-16T02:20:38.500Z"
   },
   {
    "duration": 158,
    "start_time": "2024-06-16T02:20:39.643Z"
   },
   {
    "duration": 182,
    "start_time": "2024-06-16T02:21:01.520Z"
   },
   {
    "duration": 80,
    "start_time": "2024-06-16T02:21:24.451Z"
   },
   {
    "duration": 7,
    "start_time": "2024-06-16T02:27:46.472Z"
   },
   {
    "duration": 8295,
    "start_time": "2024-06-16T02:27:57.505Z"
   },
   {
    "duration": 31,
    "start_time": "2024-06-16T02:28:21.972Z"
   },
   {
    "duration": 8195,
    "start_time": "2024-06-16T02:28:23.243Z"
   },
   {
    "duration": 358,
    "start_time": "2024-06-16T02:37:19.847Z"
   },
   {
    "duration": 324,
    "start_time": "2024-06-16T02:37:21.681Z"
   },
   {
    "duration": 315,
    "start_time": "2024-06-16T02:37:26.929Z"
   },
   {
    "duration": 42,
    "start_time": "2024-06-16T02:37:45.064Z"
   },
   {
    "duration": 1778,
    "start_time": "2024-06-16T02:37:47.606Z"
   },
   {
    "duration": 65,
    "start_time": "2024-06-16T02:37:59.940Z"
   },
   {
    "duration": 329,
    "start_time": "2024-06-16T02:38:03.638Z"
   },
   {
    "duration": 313,
    "start_time": "2024-06-16T02:38:08.820Z"
   },
   {
    "duration": 501,
    "start_time": "2024-06-16T02:38:14.795Z"
   },
   {
    "duration": 116,
    "start_time": "2024-06-16T02:38:29.588Z"
   },
   {
    "duration": 314,
    "start_time": "2024-06-16T02:38:32.696Z"
   },
   {
    "duration": 323,
    "start_time": "2024-06-16T02:38:34.781Z"
   },
   {
    "duration": 330,
    "start_time": "2024-06-16T02:38:39.275Z"
   },
   {
    "duration": 94,
    "start_time": "2024-06-16T02:38:44.008Z"
   },
   {
    "duration": 28,
    "start_time": "2024-06-16T02:38:47.225Z"
   },
   {
    "duration": 180,
    "start_time": "2024-06-16T02:38:52.126Z"
   },
   {
    "duration": 233,
    "start_time": "2024-06-16T02:39:45.130Z"
   },
   {
    "duration": 66,
    "start_time": "2024-06-16T02:41:11.736Z"
   },
   {
    "duration": 30,
    "start_time": "2024-06-16T02:42:08.473Z"
   },
   {
    "duration": 121,
    "start_time": "2024-06-16T02:43:49.883Z"
   },
   {
    "duration": 5176,
    "start_time": "2024-06-18T00:01:36.566Z"
   },
   {
    "duration": 514,
    "start_time": "2024-06-18T00:01:46.633Z"
   },
   {
    "duration": 13,
    "start_time": "2024-06-18T01:02:48.984Z"
   },
   {
    "duration": 148,
    "start_time": "2024-06-18T01:02:59.252Z"
   },
   {
    "duration": 21,
    "start_time": "2024-06-18T01:03:02.122Z"
   },
   {
    "duration": 133,
    "start_time": "2024-06-18T01:03:03.189Z"
   },
   {
    "duration": 23,
    "start_time": "2024-06-18T01:03:05.871Z"
   },
   {
    "duration": 170,
    "start_time": "2024-06-18T01:03:06.947Z"
   },
   {
    "duration": 10,
    "start_time": "2024-06-18T01:03:09.277Z"
   },
   {
    "duration": 8,
    "start_time": "2024-06-18T01:06:38.584Z"
   },
   {
    "duration": 38,
    "start_time": "2024-06-18T01:08:23.405Z"
   },
   {
    "duration": 8496,
    "start_time": "2024-06-18T01:08:37.695Z"
   },
   {
    "duration": 8303,
    "start_time": "2024-06-18T02:25:23.163Z"
   },
   {
    "duration": 8300,
    "start_time": "2024-06-18T02:38:03.574Z"
   },
   {
    "duration": 8514,
    "start_time": "2024-06-18T02:38:15.395Z"
   },
   {
    "duration": 6427,
    "start_time": "2024-06-18T19:23:46.710Z"
   },
   {
    "duration": 624,
    "start_time": "2024-06-18T19:23:55.997Z"
   },
   {
    "duration": 26,
    "start_time": "2024-06-18T19:23:59.332Z"
   },
   {
    "duration": 159,
    "start_time": "2024-06-18T19:24:00.470Z"
   },
   {
    "duration": 22,
    "start_time": "2024-06-18T19:24:03.894Z"
   },
   {
    "duration": 158,
    "start_time": "2024-06-18T19:24:05.061Z"
   },
   {
    "duration": 21,
    "start_time": "2024-06-18T19:24:07.666Z"
   },
   {
    "duration": 152,
    "start_time": "2024-06-18T19:24:10.219Z"
   },
   {
    "duration": 10,
    "start_time": "2024-06-18T19:24:15.636Z"
   },
   {
    "duration": 33,
    "start_time": "2024-06-18T19:24:18.860Z"
   },
   {
    "duration": 9969,
    "start_time": "2024-06-18T19:24:29.116Z"
   },
   {
    "duration": 9314,
    "start_time": "2024-06-18T19:24:43.674Z"
   },
   {
    "duration": 9663,
    "start_time": "2024-06-18T19:25:00.390Z"
   },
   {
    "duration": 597,
    "start_time": "2024-06-18T19:26:46.288Z"
   },
   {
    "duration": 97,
    "start_time": "2024-06-18T19:28:48.623Z"
   },
   {
    "duration": 9907,
    "start_time": "2024-06-18T19:30:29.025Z"
   },
   {
    "duration": 9681,
    "start_time": "2024-06-18T19:31:42.701Z"
   },
   {
    "duration": 9842,
    "start_time": "2024-06-18T19:32:24.182Z"
   },
   {
    "duration": 8,
    "start_time": "2024-06-19T00:25:40.351Z"
   },
   {
    "duration": 390,
    "start_time": "2024-06-19T00:25:42.200Z"
   },
   {
    "duration": 20,
    "start_time": "2024-06-19T00:25:44.446Z"
   },
   {
    "duration": 135,
    "start_time": "2024-06-19T00:25:45.468Z"
   },
   {
    "duration": 18,
    "start_time": "2024-06-19T00:25:47.552Z"
   },
   {
    "duration": 122,
    "start_time": "2024-06-19T00:25:48.729Z"
   },
   {
    "duration": 20,
    "start_time": "2024-06-19T00:25:51.206Z"
   },
   {
    "duration": 126,
    "start_time": "2024-06-19T00:25:52.828Z"
   },
   {
    "duration": 10,
    "start_time": "2024-06-19T00:25:55.651Z"
   },
   {
    "duration": 26,
    "start_time": "2024-06-19T00:25:57.660Z"
   },
   {
    "duration": 8175,
    "start_time": "2024-06-19T00:25:59.704Z"
   },
   {
    "duration": 8399,
    "start_time": "2024-06-19T00:26:45.404Z"
   },
   {
    "duration": 8130,
    "start_time": "2024-06-19T00:26:57.546Z"
   },
   {
    "duration": 93,
    "start_time": "2024-06-19T00:27:10.539Z"
   },
   {
    "duration": 8298,
    "start_time": "2024-06-19T00:27:15.014Z"
   },
   {
    "duration": 8231,
    "start_time": "2024-06-19T00:27:23.316Z"
   },
   {
    "duration": 8291,
    "start_time": "2024-06-19T00:27:57.067Z"
   },
   {
    "duration": 32,
    "start_time": "2024-06-19T01:17:28.657Z"
   },
   {
    "duration": 31,
    "start_time": "2024-06-19T01:30:06.533Z"
   },
   {
    "duration": 8230,
    "start_time": "2024-06-19T01:30:09.661Z"
   },
   {
    "duration": 8337,
    "start_time": "2024-06-19T01:30:43.556Z"
   },
   {
    "duration": 8511,
    "start_time": "2024-06-19T01:31:22.653Z"
   },
   {
    "duration": 11,
    "start_time": "2024-06-19T01:31:31.168Z"
   },
   {
    "duration": 12,
    "start_time": "2024-06-19T01:33:44.565Z"
   },
   {
    "duration": 11,
    "start_time": "2024-06-19T01:34:16.873Z"
   },
   {
    "duration": 11,
    "start_time": "2024-06-19T01:34:54.325Z"
   },
   {
    "duration": 1000,
    "start_time": "2024-06-19T01:35:02.623Z"
   },
   {
    "duration": 928,
    "start_time": "2024-06-19T01:59:59.723Z"
   },
   {
    "duration": 1013,
    "start_time": "2024-06-19T02:00:09.249Z"
   },
   {
    "duration": 12,
    "start_time": "2024-06-19T02:06:44.124Z"
   },
   {
    "duration": 10,
    "start_time": "2024-06-19T02:07:11.078Z"
   },
   {
    "duration": 500,
    "start_time": "2024-06-19T02:07:14.169Z"
   },
   {
    "duration": 10,
    "start_time": "2024-06-19T02:08:29.770Z"
   },
   {
    "duration": 1031,
    "start_time": "2024-06-19T02:08:32.627Z"
   },
   {
    "duration": 941,
    "start_time": "2024-06-19T02:08:39.524Z"
   },
   {
    "duration": 1063,
    "start_time": "2024-06-19T02:08:47.946Z"
   },
   {
    "duration": 5,
    "start_time": "2024-06-19T02:10:42.856Z"
   },
   {
    "duration": 9,
    "start_time": "2024-06-19T02:10:44.096Z"
   },
   {
    "duration": 9,
    "start_time": "2024-06-19T02:10:45.390Z"
   },
   {
    "duration": 8,
    "start_time": "2024-06-19T02:10:46.363Z"
   },
   {
    "duration": 5256,
    "start_time": "2024-06-19T19:48:25.594Z"
   },
   {
    "duration": 483,
    "start_time": "2024-06-19T19:48:30.854Z"
   },
   {
    "duration": 40,
    "start_time": "2024-06-19T19:48:31.341Z"
   },
   {
    "duration": 136,
    "start_time": "2024-06-19T19:48:31.385Z"
   },
   {
    "duration": 28,
    "start_time": "2024-06-19T19:48:31.532Z"
   },
   {
    "duration": 156,
    "start_time": "2024-06-19T19:48:31.563Z"
   },
   {
    "duration": 27,
    "start_time": "2024-06-19T19:48:31.722Z"
   },
   {
    "duration": 152,
    "start_time": "2024-06-19T19:48:31.752Z"
   },
   {
    "duration": 10,
    "start_time": "2024-06-19T19:48:31.908Z"
   },
   {
    "duration": 39,
    "start_time": "2024-06-19T19:48:31.923Z"
   },
   {
    "duration": 8295,
    "start_time": "2024-06-19T19:48:31.966Z"
   },
   {
    "duration": 8197,
    "start_time": "2024-06-19T19:48:40.265Z"
   },
   {
    "duration": 8397,
    "start_time": "2024-06-19T19:48:48.465Z"
   },
   {
    "duration": 80,
    "start_time": "2024-06-19T19:48:56.866Z"
   },
   {
    "duration": 8401,
    "start_time": "2024-06-19T19:48:56.949Z"
   },
   {
    "duration": 8302,
    "start_time": "2024-06-19T19:49:05.354Z"
   },
   {
    "duration": 8208,
    "start_time": "2024-06-19T19:49:13.659Z"
   },
   {
    "duration": 13,
    "start_time": "2024-06-19T19:49:21.870Z"
   },
   {
    "duration": 1034,
    "start_time": "2024-06-19T19:49:21.887Z"
   },
   {
    "duration": 948,
    "start_time": "2024-06-19T19:49:22.932Z"
   },
   {
    "duration": 955,
    "start_time": "2024-06-19T19:49:23.883Z"
   },
   {
    "duration": 188,
    "start_time": "2024-06-19T21:37:19.773Z"
   },
   {
    "duration": 7,
    "start_time": "2024-06-19T22:22:18.140Z"
   },
   {
    "duration": 10,
    "start_time": "2024-06-19T22:22:19.093Z"
   },
   {
    "duration": 9,
    "start_time": "2024-06-19T22:22:20.841Z"
   },
   {
    "duration": 9,
    "start_time": "2024-06-19T22:22:21.958Z"
   },
   {
    "duration": 10,
    "start_time": "2024-06-19T22:44:16.351Z"
   },
   {
    "duration": 933,
    "start_time": "2024-06-19T22:44:20.079Z"
   },
   {
    "duration": 927,
    "start_time": "2024-06-19T22:44:24.825Z"
   },
   {
    "duration": 993,
    "start_time": "2024-06-19T22:44:28.345Z"
   },
   {
    "duration": 6,
    "start_time": "2024-06-19T22:44:38.410Z"
   },
   {
    "duration": 9,
    "start_time": "2024-06-20T00:40:23.872Z"
   },
   {
    "duration": 10,
    "start_time": "2024-06-20T00:41:20.159Z"
   },
   {
    "duration": 1051,
    "start_time": "2024-06-20T00:41:22.359Z"
   },
   {
    "duration": 10,
    "start_time": "2024-06-20T00:41:39.642Z"
   },
   {
    "duration": 1079,
    "start_time": "2024-06-20T00:41:41.640Z"
   },
   {
    "duration": 950,
    "start_time": "2024-06-20T00:41:50.288Z"
   },
   {
    "duration": 1032,
    "start_time": "2024-06-20T00:42:04.568Z"
   },
   {
    "duration": 10,
    "start_time": "2024-06-20T00:43:12.280Z"
   },
   {
    "duration": 1540,
    "start_time": "2024-06-20T00:43:13.493Z"
   },
   {
    "duration": 1462,
    "start_time": "2024-06-20T00:43:20.008Z"
   },
   {
    "duration": 1586,
    "start_time": "2024-06-20T00:43:27.528Z"
   },
   {
    "duration": 9,
    "start_time": "2024-06-20T01:01:34.529Z"
   },
   {
    "duration": 217,
    "start_time": "2024-06-20T01:02:16.802Z"
   },
   {
    "duration": 6,
    "start_time": "2024-06-20T01:02:36.766Z"
   },
   {
    "duration": 5,
    "start_time": "2024-06-20T02:09:31.722Z"
   },
   {
    "duration": 551,
    "start_time": "2024-06-20T02:10:26.366Z"
   },
   {
    "duration": 5,
    "start_time": "2024-06-20T02:13:00.510Z"
   },
   {
    "duration": 437,
    "start_time": "2024-06-20T02:13:01.603Z"
   },
   {
    "duration": 868,
    "start_time": "2024-06-20T02:14:33.917Z"
   },
   {
    "duration": 893,
    "start_time": "2024-06-20T02:14:50.139Z"
   },
   {
    "duration": 861,
    "start_time": "2024-06-20T02:14:56.592Z"
   },
   {
    "duration": 837,
    "start_time": "2024-06-20T02:15:04.692Z"
   },
   {
    "duration": 954,
    "start_time": "2024-06-20T02:39:42.021Z"
   },
   {
    "duration": 872,
    "start_time": "2024-06-20T02:40:35.157Z"
   },
   {
    "duration": 9,
    "start_time": "2024-06-20T02:42:51.747Z"
   },
   {
    "duration": 1568,
    "start_time": "2024-06-20T02:42:53.147Z"
   },
   {
    "duration": 1497,
    "start_time": "2024-06-20T02:42:59.553Z"
   },
   {
    "duration": 1609,
    "start_time": "2024-06-20T02:43:05.234Z"
   },
   {
    "duration": 847,
    "start_time": "2024-06-20T02:43:25.022Z"
   },
   {
    "duration": 815,
    "start_time": "2024-06-20T02:43:49.074Z"
   },
   {
    "duration": 854,
    "start_time": "2024-06-20T02:44:19.181Z"
   },
   {
    "duration": 877,
    "start_time": "2024-06-20T02:44:45.220Z"
   },
   {
    "duration": 968,
    "start_time": "2024-06-20T02:49:26.806Z"
   },
   {
    "duration": 855,
    "start_time": "2024-06-20T02:50:36.982Z"
   },
   {
    "duration": 865,
    "start_time": "2024-06-20T02:51:14.925Z"
   },
   {
    "duration": 8,
    "start_time": "2024-06-20T02:52:07.189Z"
   },
   {
    "duration": 13,
    "start_time": "2024-06-20T02:52:14.130Z"
   },
   {
    "duration": 11,
    "start_time": "2024-06-20T02:52:21.582Z"
   },
   {
    "duration": 10,
    "start_time": "2024-06-20T02:52:24.616Z"
   },
   {
    "duration": 6,
    "start_time": "2024-06-20T02:52:51.950Z"
   },
   {
    "duration": 7,
    "start_time": "2024-06-20T02:53:44.739Z"
   },
   {
    "duration": 5,
    "start_time": "2024-06-20T02:53:47.567Z"
   },
   {
    "duration": 5,
    "start_time": "2024-06-20T02:53:50.918Z"
   },
   {
    "duration": 6,
    "start_time": "2024-06-20T02:55:11.034Z"
   },
   {
    "duration": 989,
    "start_time": "2024-06-20T02:55:12.952Z"
   },
   {
    "duration": 5,
    "start_time": "2024-06-20T02:55:24.584Z"
   },
   {
    "duration": 849,
    "start_time": "2024-06-20T02:55:25.414Z"
   },
   {
    "duration": 914,
    "start_time": "2024-06-20T02:56:45.673Z"
   },
   {
    "duration": 456,
    "start_time": "2024-06-20T02:57:41.434Z"
   },
   {
    "duration": 436,
    "start_time": "2024-06-20T02:57:48.905Z"
   },
   {
    "duration": 437,
    "start_time": "2024-06-20T02:57:58.979Z"
   },
   {
    "duration": 545,
    "start_time": "2024-06-20T03:02:21.674Z"
   },
   {
    "duration": 446,
    "start_time": "2024-06-20T03:02:38.688Z"
   },
   {
    "duration": 440,
    "start_time": "2024-06-20T03:02:53.782Z"
   },
   {
    "duration": 454,
    "start_time": "2024-06-20T03:03:25.991Z"
   },
   {
    "duration": 447,
    "start_time": "2024-06-20T03:30:27.007Z"
   },
   {
    "duration": 436,
    "start_time": "2024-06-20T03:30:57.923Z"
   },
   {
    "duration": 449,
    "start_time": "2024-06-20T03:31:31.911Z"
   },
   {
    "duration": 457,
    "start_time": "2024-06-20T03:31:49.782Z"
   },
   {
    "duration": 443,
    "start_time": "2024-06-20T03:33:23.813Z"
   },
   {
    "duration": 442,
    "start_time": "2024-06-20T03:33:28.668Z"
   },
   {
    "duration": 14,
    "start_time": "2024-06-20T03:35:19.762Z"
   },
   {
    "duration": 10,
    "start_time": "2024-06-20T03:35:27.338Z"
   },
   {
    "duration": 10,
    "start_time": "2024-06-20T03:35:30.725Z"
   },
   {
    "duration": 1350,
    "start_time": "2024-06-20T03:35:32.184Z"
   },
   {
    "duration": 1535,
    "start_time": "2024-06-20T03:35:40.633Z"
   },
   {
    "duration": 1608,
    "start_time": "2024-06-20T03:35:49.928Z"
   },
   {
    "duration": 7,
    "start_time": "2024-06-20T03:37:44.503Z"
   },
   {
    "duration": 11,
    "start_time": "2024-06-20T03:38:07.820Z"
   },
   {
    "duration": 5,
    "start_time": "2024-06-20T03:38:30.408Z"
   },
   {
    "duration": 7,
    "start_time": "2024-06-20T03:38:37.907Z"
   },
   {
    "duration": 6,
    "start_time": "2024-06-20T03:39:06.205Z"
   },
   {
    "duration": 455,
    "start_time": "2024-06-20T03:39:11.265Z"
   },
   {
    "duration": 436,
    "start_time": "2024-06-20T03:39:14.405Z"
   },
   {
    "duration": 564,
    "start_time": "2024-06-20T03:39:16.959Z"
   },
   {
    "duration": 465,
    "start_time": "2024-06-20T03:42:53.735Z"
   },
   {
    "duration": 1669,
    "start_time": "2024-06-20T03:43:22.354Z"
   },
   {
    "duration": 456,
    "start_time": "2024-06-20T03:43:27.929Z"
   },
   {
    "duration": 454,
    "start_time": "2024-06-20T03:44:58.660Z"
   },
   {
    "duration": 449,
    "start_time": "2024-06-20T03:45:10.208Z"
   },
   {
    "duration": 457,
    "start_time": "2024-06-20T03:45:16.602Z"
   },
   {
    "duration": 445,
    "start_time": "2024-06-20T03:45:28.962Z"
   },
   {
    "duration": 451,
    "start_time": "2024-06-20T03:45:34.393Z"
   },
   {
    "duration": 5,
    "start_time": "2024-06-20T03:48:53.136Z"
   },
   {
    "duration": 440,
    "start_time": "2024-06-20T03:48:59.996Z"
   },
   {
    "duration": 442,
    "start_time": "2024-06-20T03:49:09.912Z"
   },
   {
    "duration": 476,
    "start_time": "2024-06-20T03:49:43.727Z"
   },
   {
    "duration": 448,
    "start_time": "2024-06-20T03:49:48.646Z"
   },
   {
    "duration": 598,
    "start_time": "2024-06-20T03:49:52.585Z"
   },
   {
    "duration": 5,
    "start_time": "2024-06-20T04:39:58.240Z"
   },
   {
    "duration": 455,
    "start_time": "2024-06-20T04:40:00.507Z"
   },
   {
    "duration": 5529,
    "start_time": "2024-06-20T18:26:34.381Z"
   },
   {
    "duration": 587,
    "start_time": "2024-06-20T18:26:39.915Z"
   },
   {
    "duration": 22,
    "start_time": "2024-06-20T18:26:40.506Z"
   },
   {
    "duration": 186,
    "start_time": "2024-06-20T18:26:40.531Z"
   },
   {
    "duration": 22,
    "start_time": "2024-06-20T18:26:40.723Z"
   },
   {
    "duration": 187,
    "start_time": "2024-06-20T18:26:40.751Z"
   },
   {
    "duration": 19,
    "start_time": "2024-06-20T18:26:40.941Z"
   },
   {
    "duration": 157,
    "start_time": "2024-06-20T18:26:40.963Z"
   },
   {
    "duration": 12,
    "start_time": "2024-06-20T18:26:41.123Z"
   },
   {
    "duration": 32,
    "start_time": "2024-06-20T18:26:41.139Z"
   },
   {
    "duration": 8548,
    "start_time": "2024-06-20T18:26:41.175Z"
   },
   {
    "duration": 8510,
    "start_time": "2024-06-20T18:26:49.727Z"
   },
   {
    "duration": 8527,
    "start_time": "2024-06-20T18:26:58.240Z"
   },
   {
    "duration": 62,
    "start_time": "2024-06-20T18:27:06.774Z"
   },
   {
    "duration": 8550,
    "start_time": "2024-06-20T18:27:06.907Z"
   },
   {
    "duration": 8582,
    "start_time": "2024-06-20T18:27:15.460Z"
   },
   {
    "duration": 8452,
    "start_time": "2024-06-20T18:27:24.046Z"
   },
   {
    "duration": 14,
    "start_time": "2024-06-20T18:27:32.505Z"
   },
   {
    "duration": 1400,
    "start_time": "2024-06-20T18:27:32.523Z"
   },
   {
    "duration": 0,
    "start_time": "2024-06-20T18:27:33.926Z"
   },
   {
    "duration": 0,
    "start_time": "2024-06-20T18:27:33.929Z"
   },
   {
    "duration": 6,
    "start_time": "2024-06-20T18:27:48.169Z"
   },
   {
    "duration": 27,
    "start_time": "2024-06-20T18:28:09.100Z"
   },
   {
    "duration": 131,
    "start_time": "2024-06-20T18:29:00.777Z"
   },
   {
    "duration": 14,
    "start_time": "2024-06-20T18:29:07.781Z"
   },
   {
    "duration": 1605,
    "start_time": "2024-06-20T18:29:10.141Z"
   },
   {
    "duration": 1410,
    "start_time": "2024-06-20T18:29:13.816Z"
   },
   {
    "duration": 1591,
    "start_time": "2024-06-20T18:29:16.676Z"
   },
   {
    "duration": 6,
    "start_time": "2024-06-20T18:29:20.195Z"
   },
   {
    "duration": 10,
    "start_time": "2024-06-20T18:29:22.165Z"
   },
   {
    "duration": 37,
    "start_time": "2024-06-20T18:29:28.061Z"
   },
   {
    "duration": 11,
    "start_time": "2024-06-20T18:29:38.219Z"
   },
   {
    "duration": 14,
    "start_time": "2024-06-20T18:29:47.722Z"
   },
   {
    "duration": 8,
    "start_time": "2024-06-20T18:30:13.072Z"
   },
   {
    "duration": 9,
    "start_time": "2024-06-20T18:30:27.183Z"
   },
   {
    "duration": 7,
    "start_time": "2024-06-20T18:30:40.926Z"
   },
   {
    "duration": 12,
    "start_time": "2024-06-20T18:30:49.687Z"
   },
   {
    "duration": 1439,
    "start_time": "2024-06-20T18:30:51.167Z"
   },
   {
    "duration": 6,
    "start_time": "2024-06-20T18:30:52.610Z"
   },
   {
    "duration": 5,
    "start_time": "2024-06-20T18:30:57.701Z"
   },
   {
    "duration": 23,
    "start_time": "2024-06-20T18:31:36.355Z"
   },
   {
    "duration": 11,
    "start_time": "2024-06-20T18:32:41.455Z"
   },
   {
    "duration": 1517,
    "start_time": "2024-06-20T18:32:42.971Z"
   },
   {
    "duration": 5,
    "start_time": "2024-06-20T18:32:45.814Z"
   },
   {
    "duration": 15,
    "start_time": "2024-06-20T18:33:01.836Z"
   },
   {
    "duration": 13,
    "start_time": "2024-06-20T18:33:27.933Z"
   },
   {
    "duration": 6,
    "start_time": "2024-06-20T18:34:13.855Z"
   },
   {
    "duration": 9,
    "start_time": "2024-06-20T18:34:16.093Z"
   },
   {
    "duration": 9,
    "start_time": "2024-06-20T18:34:18.779Z"
   },
   {
    "duration": 10,
    "start_time": "2024-06-20T18:34:20.488Z"
   },
   {
    "duration": 5,
    "start_time": "2024-06-20T18:37:38.252Z"
   },
   {
    "duration": 42,
    "start_time": "2024-06-20T18:37:42.619Z"
   },
   {
    "duration": 47,
    "start_time": "2024-06-20T18:38:32.601Z"
   },
   {
    "duration": 5,
    "start_time": "2024-06-20T18:39:09.710Z"
   },
   {
    "duration": 38,
    "start_time": "2024-06-20T18:39:12.075Z"
   },
   {
    "duration": 9,
    "start_time": "2024-06-20T18:39:17.414Z"
   },
   {
    "duration": 9,
    "start_time": "2024-06-20T18:39:18.817Z"
   },
   {
    "duration": 7,
    "start_time": "2024-06-20T18:39:23.687Z"
   },
   {
    "duration": 844,
    "start_time": "2024-06-20T18:39:34.617Z"
   },
   {
    "duration": 45,
    "start_time": "2024-06-20T18:39:47.660Z"
   },
   {
    "duration": 9,
    "start_time": "2024-06-20T18:39:53.073Z"
   },
   {
    "duration": 9,
    "start_time": "2024-06-20T18:39:54.508Z"
   },
   {
    "duration": 877,
    "start_time": "2024-06-20T18:39:58.532Z"
   },
   {
    "duration": 42,
    "start_time": "2024-06-20T18:40:05.572Z"
   },
   {
    "duration": 903,
    "start_time": "2024-06-20T18:40:39.220Z"
   },
   {
    "duration": 752,
    "start_time": "2024-06-20T18:40:56.590Z"
   },
   {
    "duration": 750,
    "start_time": "2024-06-20T18:41:06.317Z"
   },
   {
    "duration": 845,
    "start_time": "2024-06-20T18:41:18.761Z"
   },
   {
    "duration": 10,
    "start_time": "2024-06-20T18:42:33.873Z"
   },
   {
    "duration": 807,
    "start_time": "2024-06-20T18:42:50.878Z"
   },
   {
    "duration": 895,
    "start_time": "2024-06-20T18:44:57.288Z"
   },
   {
    "duration": 808,
    "start_time": "2024-06-20T18:46:02.786Z"
   },
   {
    "duration": 750,
    "start_time": "2024-06-20T18:46:12.239Z"
   },
   {
    "duration": 6,
    "start_time": "2024-06-20T18:46:56.855Z"
   },
   {
    "duration": 942,
    "start_time": "2024-06-20T18:46:58.648Z"
   },
   {
    "duration": 7,
    "start_time": "2024-06-20T18:47:36.085Z"
   },
   {
    "duration": 537,
    "start_time": "2024-06-20T18:47:38.603Z"
   },
   {
    "duration": 577,
    "start_time": "2024-06-20T18:47:53.641Z"
   },
   {
    "duration": 16,
    "start_time": "2024-06-20T18:47:59.524Z"
   },
   {
    "duration": 7,
    "start_time": "2024-06-20T18:48:35.232Z"
   },
   {
    "duration": 976,
    "start_time": "2024-06-20T18:48:37.733Z"
   },
   {
    "duration": 721,
    "start_time": "2024-06-20T18:49:00.356Z"
   },
   {
    "duration": 747,
    "start_time": "2024-06-20T18:49:10.343Z"
   },
   {
    "duration": 7,
    "start_time": "2024-06-20T18:50:00.212Z"
   },
   {
    "duration": 735,
    "start_time": "2024-06-20T18:50:04.993Z"
   },
   {
    "duration": 726,
    "start_time": "2024-06-20T18:50:11.790Z"
   },
   {
    "duration": 733,
    "start_time": "2024-06-20T18:50:21.278Z"
   },
   {
    "duration": 748,
    "start_time": "2024-06-20T18:50:57.940Z"
   },
   {
    "duration": 758,
    "start_time": "2024-06-20T18:51:25.050Z"
   },
   {
    "duration": 802,
    "start_time": "2024-06-20T18:52:31.033Z"
   },
   {
    "duration": 810,
    "start_time": "2024-06-20T18:52:55.163Z"
   },
   {
    "duration": 737,
    "start_time": "2024-06-20T18:53:05.506Z"
   },
   {
    "duration": 768,
    "start_time": "2024-06-20T18:53:23.657Z"
   },
   {
    "duration": 752,
    "start_time": "2024-06-20T18:55:39.215Z"
   },
   {
    "duration": 759,
    "start_time": "2024-06-20T18:56:02.804Z"
   },
   {
    "duration": 737,
    "start_time": "2024-06-20T18:56:29.784Z"
   },
   {
    "duration": 759,
    "start_time": "2024-06-20T18:56:57.926Z"
   },
   {
    "duration": 8,
    "start_time": "2024-06-20T18:57:46.842Z"
   },
   {
    "duration": 767,
    "start_time": "2024-06-20T18:57:49.039Z"
   },
   {
    "duration": 861,
    "start_time": "2024-06-20T18:57:54.599Z"
   },
   {
    "duration": 778,
    "start_time": "2024-06-20T18:58:35.303Z"
   },
   {
    "duration": 6,
    "start_time": "2024-06-20T19:15:49.416Z"
   },
   {
    "duration": 9,
    "start_time": "2024-06-20T19:15:53.097Z"
   },
   {
    "duration": 9,
    "start_time": "2024-06-20T19:15:54.639Z"
   },
   {
    "duration": 9,
    "start_time": "2024-06-20T19:15:56.077Z"
   },
   {
    "duration": 6,
    "start_time": "2024-06-20T19:18:53.228Z"
   },
   {
    "duration": 10,
    "start_time": "2024-06-20T19:18:56.726Z"
   },
   {
    "duration": 9,
    "start_time": "2024-06-20T19:18:59.153Z"
   },
   {
    "duration": 9,
    "start_time": "2024-06-20T19:19:00.381Z"
   },
   {
    "duration": 28,
    "start_time": "2024-06-20T20:13:36.293Z"
   },
   {
    "duration": 6,
    "start_time": "2024-06-20T20:13:40.670Z"
   },
   {
    "duration": 16,
    "start_time": "2024-06-20T20:13:57.193Z"
   },
   {
    "duration": 16,
    "start_time": "2024-06-20T20:14:31.006Z"
   },
   {
    "duration": 18,
    "start_time": "2024-06-20T20:15:51.357Z"
   },
   {
    "duration": 14,
    "start_time": "2024-06-20T20:17:40.594Z"
   },
   {
    "duration": 7,
    "start_time": "2024-06-20T20:27:34.199Z"
   },
   {
    "duration": 763,
    "start_time": "2024-06-20T20:28:25.611Z"
   },
   {
    "duration": 736,
    "start_time": "2024-06-20T20:29:21.829Z"
   },
   {
    "duration": 723,
    "start_time": "2024-06-20T20:30:15.535Z"
   },
   {
    "duration": 7,
    "start_time": "2024-06-20T20:31:36.357Z"
   },
   {
    "duration": 751,
    "start_time": "2024-06-20T20:31:39.915Z"
   },
   {
    "duration": 738,
    "start_time": "2024-06-20T20:31:43.252Z"
   },
   {
    "duration": 790,
    "start_time": "2024-06-20T20:31:46.356Z"
   },
   {
    "duration": 10,
    "start_time": "2024-06-20T20:49:48.789Z"
   },
   {
    "duration": 9,
    "start_time": "2024-06-20T20:49:52.601Z"
   },
   {
    "duration": 968,
    "start_time": "2024-06-20T20:49:55.291Z"
   },
   {
    "duration": 981,
    "start_time": "2024-06-20T20:50:05.160Z"
   },
   {
    "duration": 1021,
    "start_time": "2024-06-20T20:50:24.367Z"
   },
   {
    "duration": 8,
    "start_time": "2024-06-20T20:51:15.243Z"
   },
   {
    "duration": 1044,
    "start_time": "2024-06-20T20:51:17.757Z"
   },
   {
    "duration": 992,
    "start_time": "2024-06-20T20:52:04.544Z"
   },
   {
    "duration": 1064,
    "start_time": "2024-06-20T20:52:35.930Z"
   },
   {
    "duration": 8,
    "start_time": "2024-06-20T20:56:30.745Z"
   },
   {
    "duration": 1005,
    "start_time": "2024-06-20T20:56:32.509Z"
   },
   {
    "duration": 7,
    "start_time": "2024-06-20T20:57:01.076Z"
   },
   {
    "duration": 1205,
    "start_time": "2024-06-20T20:57:02.797Z"
   },
   {
    "duration": 1021,
    "start_time": "2024-06-20T20:57:07.258Z"
   },
   {
    "duration": 997,
    "start_time": "2024-06-20T20:57:09.540Z"
   },
   {
    "duration": 9,
    "start_time": "2024-06-20T21:00:18.024Z"
   },
   {
    "duration": 981,
    "start_time": "2024-06-20T21:00:19.837Z"
   },
   {
    "duration": 8,
    "start_time": "2024-06-20T21:01:02.255Z"
   },
   {
    "duration": 986,
    "start_time": "2024-06-20T21:01:04.330Z"
   },
   {
    "duration": 1026,
    "start_time": "2024-06-20T21:01:20.490Z"
   },
   {
    "duration": 1104,
    "start_time": "2024-06-20T21:01:27.872Z"
   },
   {
    "duration": 1006,
    "start_time": "2024-06-20T21:05:06.480Z"
   },
   {
    "duration": 1028,
    "start_time": "2024-06-20T21:05:20.526Z"
   },
   {
    "duration": 1019,
    "start_time": "2024-06-20T21:05:31.311Z"
   },
   {
    "duration": 6,
    "start_time": "2024-06-20T21:25:33.305Z"
   },
   {
    "duration": 596,
    "start_time": "2024-06-20T21:25:35.463Z"
   },
   {
    "duration": 6,
    "start_time": "2024-06-20T21:25:56.811Z"
   },
   {
    "duration": 76,
    "start_time": "2024-06-20T21:25:58.206Z"
   },
   {
    "duration": 6,
    "start_time": "2024-06-20T21:26:05.936Z"
   },
   {
    "duration": 9,
    "start_time": "2024-06-20T21:26:07.516Z"
   },
   {
    "duration": 1184,
    "start_time": "2024-06-20T21:57:52.301Z"
   },
   {
    "duration": 1035,
    "start_time": "2024-06-20T21:57:59.813Z"
   },
   {
    "duration": 1042,
    "start_time": "2024-06-20T21:58:07.232Z"
   },
   {
    "duration": 1548,
    "start_time": "2024-06-20T22:15:52.259Z"
   },
   {
    "duration": 1487,
    "start_time": "2024-06-20T22:16:09.144Z"
   },
   {
    "duration": 1580,
    "start_time": "2024-06-20T22:16:18.911Z"
   },
   {
    "duration": 9,
    "start_time": "2024-06-20T22:16:32.866Z"
   },
   {
    "duration": 10,
    "start_time": "2024-06-20T22:16:36.643Z"
   },
   {
    "duration": 9,
    "start_time": "2024-06-20T22:16:40.474Z"
   },
   {
    "duration": 1012,
    "start_time": "2024-06-20T22:16:48.249Z"
   },
   {
    "duration": 1933,
    "start_time": "2024-06-22T04:09:23.948Z"
   },
   {
    "duration": 569,
    "start_time": "2024-06-22T04:09:25.886Z"
   },
   {
    "duration": 26,
    "start_time": "2024-06-22T04:09:26.458Z"
   },
   {
    "duration": 182,
    "start_time": "2024-06-22T04:09:26.487Z"
   },
   {
    "duration": 38,
    "start_time": "2024-06-22T04:09:26.674Z"
   },
   {
    "duration": 151,
    "start_time": "2024-06-22T04:09:26.716Z"
   },
   {
    "duration": 40,
    "start_time": "2024-06-22T04:09:26.870Z"
   },
   {
    "duration": 146,
    "start_time": "2024-06-22T04:09:26.913Z"
   },
   {
    "duration": 10,
    "start_time": "2024-06-22T04:09:27.063Z"
   },
   {
    "duration": 52,
    "start_time": "2024-06-22T04:09:27.078Z"
   },
   {
    "duration": 13,
    "start_time": "2024-06-22T04:09:27.133Z"
   },
   {
    "duration": 1599,
    "start_time": "2024-06-22T04:09:27.149Z"
   },
   {
    "duration": 1799,
    "start_time": "2024-06-22T04:09:28.751Z"
   },
   {
    "duration": 1661,
    "start_time": "2024-06-22T04:09:30.557Z"
   },
   {
    "duration": 12,
    "start_time": "2024-06-22T04:09:50.978Z"
   },
   {
    "duration": 7,
    "start_time": "2024-06-22T04:09:53.698Z"
   },
   {
    "duration": 8,
    "start_time": "2024-06-22T04:11:24.697Z"
   },
   {
    "duration": 5177,
    "start_time": "2024-06-23T23:47:22.874Z"
   },
   {
    "duration": 487,
    "start_time": "2024-06-23T23:47:28.056Z"
   },
   {
    "duration": 22,
    "start_time": "2024-06-23T23:47:28.546Z"
   },
   {
    "duration": 140,
    "start_time": "2024-06-23T23:47:28.572Z"
   },
   {
    "duration": 20,
    "start_time": "2024-06-23T23:47:28.715Z"
   },
   {
    "duration": 138,
    "start_time": "2024-06-23T23:47:28.738Z"
   },
   {
    "duration": 17,
    "start_time": "2024-06-23T23:47:28.879Z"
   },
   {
    "duration": 126,
    "start_time": "2024-06-23T23:47:28.914Z"
   },
   {
    "duration": 10,
    "start_time": "2024-06-23T23:47:29.043Z"
   },
   {
    "duration": 4,
    "start_time": "2024-06-23T23:47:29.058Z"
   },
   {
    "duration": 12,
    "start_time": "2024-06-23T23:47:29.065Z"
   },
   {
    "duration": 1722,
    "start_time": "2024-06-23T23:47:29.112Z"
   },
   {
    "duration": 1679,
    "start_time": "2024-06-23T23:47:30.837Z"
   },
   {
    "duration": 1710,
    "start_time": "2024-06-23T23:47:32.521Z"
   },
   {
    "duration": 6,
    "start_time": "2024-06-23T23:47:34.234Z"
   },
   {
    "duration": 9,
    "start_time": "2024-06-23T23:47:34.244Z"
   },
   {
    "duration": 10,
    "start_time": "2024-06-23T23:47:34.256Z"
   },
   {
    "duration": 46,
    "start_time": "2024-06-23T23:47:34.268Z"
   },
   {
    "duration": 9,
    "start_time": "2024-06-23T23:47:34.318Z"
   },
   {
    "duration": 1035,
    "start_time": "2024-06-23T23:47:34.330Z"
   },
   {
    "duration": 1033,
    "start_time": "2024-06-23T23:47:35.369Z"
   },
   {
    "duration": 1002,
    "start_time": "2024-06-23T23:47:36.411Z"
   },
   {
    "duration": 5,
    "start_time": "2024-06-23T23:48:24.470Z"
   },
   {
    "duration": 7,
    "start_time": "2024-06-23T23:49:53.762Z"
   },
   {
    "duration": 12,
    "start_time": "2024-06-23T23:51:24.762Z"
   },
   {
    "duration": 1759,
    "start_time": "2024-06-23T23:51:42.787Z"
   },
   {
    "duration": 1591,
    "start_time": "2024-06-23T23:51:59.065Z"
   },
   {
    "duration": 1683,
    "start_time": "2024-06-23T23:52:07.108Z"
   },
   {
    "duration": 1004,
    "start_time": "2024-06-23T23:52:22.998Z"
   },
   {
    "duration": 9,
    "start_time": "2024-06-23T23:52:41.380Z"
   },
   {
    "duration": 6,
    "start_time": "2024-06-23T23:52:49.502Z"
   },
   {
    "duration": 8,
    "start_time": "2024-06-23T23:53:02.214Z"
   },
   {
    "duration": 114,
    "start_time": "2024-06-23T23:57:06.657Z"
   },
   {
    "duration": 9,
    "start_time": "2024-06-23T23:59:09.688Z"
   },
   {
    "duration": 8,
    "start_time": "2024-06-23T23:59:55.781Z"
   },
   {
    "duration": 9,
    "start_time": "2024-06-24T00:00:04.329Z"
   },
   {
    "duration": 10,
    "start_time": "2024-06-24T00:00:07.607Z"
   },
   {
    "duration": 10,
    "start_time": "2024-06-24T00:00:30.849Z"
   },
   {
    "duration": 9,
    "start_time": "2024-06-24T00:00:43.078Z"
   },
   {
    "duration": 9,
    "start_time": "2024-06-24T00:00:48.687Z"
   },
   {
    "duration": 9,
    "start_time": "2024-06-24T00:00:55.280Z"
   },
   {
    "duration": 10,
    "start_time": "2024-06-24T00:02:44.425Z"
   },
   {
    "duration": 1619,
    "start_time": "2024-06-24T00:02:51.565Z"
   },
   {
    "duration": 11,
    "start_time": "2024-06-24T00:03:06.864Z"
   },
   {
    "duration": 1578,
    "start_time": "2024-06-24T00:03:08.031Z"
   },
   {
    "duration": 1614,
    "start_time": "2024-06-24T00:03:15.932Z"
   },
   {
    "duration": 1783,
    "start_time": "2024-06-24T00:03:24.804Z"
   },
   {
    "duration": 8,
    "start_time": "2024-06-24T00:03:41.379Z"
   },
   {
    "duration": 12,
    "start_time": "2024-06-24T00:03:44.487Z"
   },
   {
    "duration": 8,
    "start_time": "2024-06-24T00:04:18.006Z"
   },
   {
    "duration": 8,
    "start_time": "2024-06-24T00:04:26.653Z"
   },
   {
    "duration": 9,
    "start_time": "2024-06-24T00:04:40.232Z"
   },
   {
    "duration": 11,
    "start_time": "2024-06-24T00:04:56.573Z"
   },
   {
    "duration": 9,
    "start_time": "2024-06-24T00:06:15.886Z"
   },
   {
    "duration": 13,
    "start_time": "2024-06-24T00:06:24.730Z"
   },
   {
    "duration": 11,
    "start_time": "2024-06-24T00:08:03.817Z"
   },
   {
    "duration": 9,
    "start_time": "2024-06-24T00:08:27.622Z"
   },
   {
    "duration": 12,
    "start_time": "2024-06-24T00:09:36.516Z"
   },
   {
    "duration": 1530,
    "start_time": "2024-06-24T00:09:45.847Z"
   },
   {
    "duration": 11,
    "start_time": "2024-06-24T00:09:58.723Z"
   },
   {
    "duration": 1751,
    "start_time": "2024-06-24T00:10:18.989Z"
   },
   {
    "duration": 1651,
    "start_time": "2024-06-24T00:10:30.772Z"
   },
   {
    "duration": 10,
    "start_time": "2024-06-24T00:11:01.563Z"
   },
   {
    "duration": 12,
    "start_time": "2024-06-24T00:11:14.640Z"
   },
   {
    "duration": 23,
    "start_time": "2024-06-24T00:17:09.884Z"
   },
   {
    "duration": 8,
    "start_time": "2024-06-24T00:17:13.453Z"
   },
   {
    "duration": 6,
    "start_time": "2024-06-24T00:17:14.289Z"
   },
   {
    "duration": 7,
    "start_time": "2024-06-24T00:17:43.257Z"
   },
   {
    "duration": 8,
    "start_time": "2024-06-24T00:17:49.473Z"
   },
   {
    "duration": 8,
    "start_time": "2024-06-24T00:18:18.700Z"
   },
   {
    "duration": 7,
    "start_time": "2024-06-24T00:18:19.447Z"
   },
   {
    "duration": 9,
    "start_time": "2024-06-24T00:26:43.224Z"
   },
   {
    "duration": 10,
    "start_time": "2024-06-24T00:27:08.206Z"
   },
   {
    "duration": 1056,
    "start_time": "2024-06-24T00:27:10.575Z"
   },
   {
    "duration": 11,
    "start_time": "2024-06-24T00:27:25.984Z"
   },
   {
    "duration": 1028,
    "start_time": "2024-06-24T00:27:28.916Z"
   },
   {
    "duration": 1052,
    "start_time": "2024-06-24T00:27:34.122Z"
   },
   {
    "duration": 1050,
    "start_time": "2024-06-24T00:27:43.365Z"
   },
   {
    "duration": 9,
    "start_time": "2024-06-24T00:30:38.287Z"
   },
   {
    "duration": 1010,
    "start_time": "2024-06-24T00:30:40.675Z"
   },
   {
    "duration": 986,
    "start_time": "2024-06-24T00:30:49.355Z"
   },
   {
    "duration": 1017,
    "start_time": "2024-06-24T00:31:02.145Z"
   },
   {
    "duration": 7,
    "start_time": "2024-06-24T00:37:48.688Z"
   },
   {
    "duration": 7,
    "start_time": "2024-06-24T00:38:10.820Z"
   },
   {
    "duration": 8,
    "start_time": "2024-06-24T00:38:19.364Z"
   },
   {
    "duration": 11,
    "start_time": "2024-06-24T00:38:36.696Z"
   },
   {
    "duration": 978,
    "start_time": "2024-06-24T00:40:12.999Z"
   },
   {
    "duration": 949,
    "start_time": "2024-06-24T00:40:28.346Z"
   },
   {
    "duration": 1113,
    "start_time": "2024-06-24T00:42:17.338Z"
   },
   {
    "duration": 1124,
    "start_time": "2024-06-24T00:42:29.410Z"
   },
   {
    "duration": 1003,
    "start_time": "2024-06-24T00:42:47.991Z"
   },
   {
    "duration": 1007,
    "start_time": "2024-06-24T00:42:58.878Z"
   },
   {
    "duration": 1008,
    "start_time": "2024-06-24T00:43:25.329Z"
   },
   {
    "duration": 1069,
    "start_time": "2024-06-24T00:43:36.780Z"
   },
   {
    "duration": 1077,
    "start_time": "2024-06-24T00:43:49.209Z"
   },
   {
    "duration": 1073,
    "start_time": "2024-06-24T00:44:43.039Z"
   },
   {
    "duration": 1024,
    "start_time": "2024-06-24T00:44:58.551Z"
   },
   {
    "duration": 1109,
    "start_time": "2024-06-24T00:45:39.223Z"
   },
   {
    "duration": 1105,
    "start_time": "2024-06-24T00:46:44.070Z"
   },
   {
    "duration": 1151,
    "start_time": "2024-06-24T00:46:50.072Z"
   },
   {
    "duration": 1026,
    "start_time": "2024-06-24T00:47:29.400Z"
   },
   {
    "duration": 1105,
    "start_time": "2024-06-24T00:54:06.720Z"
   },
   {
    "duration": 1059,
    "start_time": "2024-06-24T00:56:05.115Z"
   },
   {
    "duration": 1037,
    "start_time": "2024-06-24T00:57:58.678Z"
   },
   {
    "duration": 11,
    "start_time": "2024-06-24T01:10:50.723Z"
   },
   {
    "duration": 6,
    "start_time": "2024-06-24T03:20:02.434Z"
   },
   {
    "duration": 373,
    "start_time": "2024-06-24T03:20:02.445Z"
   },
   {
    "duration": 18,
    "start_time": "2024-06-24T03:20:02.821Z"
   },
   {
    "duration": 133,
    "start_time": "2024-06-24T03:20:02.843Z"
   },
   {
    "duration": 32,
    "start_time": "2024-06-24T03:20:02.985Z"
   },
   {
    "duration": 145,
    "start_time": "2024-06-24T03:20:03.021Z"
   },
   {
    "duration": 19,
    "start_time": "2024-06-24T03:20:03.169Z"
   },
   {
    "duration": 148,
    "start_time": "2024-06-24T03:20:03.190Z"
   },
   {
    "duration": 11,
    "start_time": "2024-06-24T03:20:03.341Z"
   },
   {
    "duration": 13,
    "start_time": "2024-06-24T03:20:03.356Z"
   },
   {
    "duration": 1643,
    "start_time": "2024-06-24T03:20:03.372Z"
   },
   {
    "duration": 1621,
    "start_time": "2024-06-24T03:20:05.018Z"
   },
   {
    "duration": 1682,
    "start_time": "2024-06-24T03:20:06.641Z"
   },
   {
    "duration": 5,
    "start_time": "2024-06-24T03:20:08.329Z"
   },
   {
    "duration": 10,
    "start_time": "2024-06-24T03:20:08.338Z"
   },
   {
    "duration": 12,
    "start_time": "2024-06-24T03:20:08.351Z"
   },
   {
    "duration": 46,
    "start_time": "2024-06-24T03:20:08.366Z"
   },
   {
    "duration": 9,
    "start_time": "2024-06-24T03:20:08.416Z"
   },
   {
    "duration": 1053,
    "start_time": "2024-06-24T03:20:08.428Z"
   },
   {
    "duration": 1173,
    "start_time": "2024-06-24T03:20:09.483Z"
   },
   {
    "duration": 1084,
    "start_time": "2024-06-24T03:20:10.659Z"
   },
   {
    "duration": 5284,
    "start_time": "2024-06-25T22:47:12.418Z"
   },
   {
    "duration": 506,
    "start_time": "2024-06-25T22:47:17.706Z"
   },
   {
    "duration": 23,
    "start_time": "2024-06-25T22:47:18.214Z"
   },
   {
    "duration": 166,
    "start_time": "2024-06-25T22:47:18.241Z"
   },
   {
    "duration": 27,
    "start_time": "2024-06-25T22:47:18.410Z"
   },
   {
    "duration": 132,
    "start_time": "2024-06-25T22:47:18.440Z"
   },
   {
    "duration": 18,
    "start_time": "2024-06-25T22:47:18.575Z"
   },
   {
    "duration": 145,
    "start_time": "2024-06-25T22:47:18.596Z"
   },
   {
    "duration": 10,
    "start_time": "2024-06-25T22:47:18.744Z"
   },
   {
    "duration": 14,
    "start_time": "2024-06-25T22:47:18.760Z"
   },
   {
    "duration": 1885,
    "start_time": "2024-06-25T22:47:18.777Z"
   },
   {
    "duration": 1621,
    "start_time": "2024-06-25T22:47:20.666Z"
   },
   {
    "duration": 1708,
    "start_time": "2024-06-25T22:47:22.290Z"
   },
   {
    "duration": 9,
    "start_time": "2024-06-25T22:47:36.979Z"
   },
   {
    "duration": 9,
    "start_time": "2024-06-25T22:47:39.644Z"
   },
   {
    "duration": 9,
    "start_time": "2024-06-25T22:50:25.961Z"
   },
   {
    "duration": 597,
    "start_time": "2024-06-25T22:50:29.565Z"
   },
   {
    "duration": 28,
    "start_time": "2024-06-25T22:50:35.054Z"
   },
   {
    "duration": 32,
    "start_time": "2024-06-25T22:50:35.948Z"
   },
   {
    "duration": 23,
    "start_time": "2024-06-25T22:50:36.301Z"
   },
   {
    "duration": 6,
    "start_time": "2024-06-25T22:50:39.414Z"
   },
   {
    "duration": 16,
    "start_time": "2024-06-25T22:50:40.029Z"
   },
   {
    "duration": 9,
    "start_time": "2024-06-25T22:50:40.662Z"
   },
   {
    "duration": 20,
    "start_time": "2024-06-25T22:50:41.237Z"
   },
   {
    "duration": 15,
    "start_time": "2024-06-25T22:50:43.530Z"
   },
   {
    "duration": 1221,
    "start_time": "2024-06-25T22:50:46.252Z"
   },
   {
    "duration": 1208,
    "start_time": "2024-06-25T22:50:51.746Z"
   },
   {
    "duration": 5316,
    "start_time": "2024-06-26T08:21:27.652Z"
   },
   {
    "duration": 528,
    "start_time": "2024-06-26T08:21:32.973Z"
   },
   {
    "duration": 24,
    "start_time": "2024-06-26T08:21:33.504Z"
   },
   {
    "duration": 162,
    "start_time": "2024-06-26T08:21:33.531Z"
   },
   {
    "duration": 32,
    "start_time": "2024-06-26T08:21:33.698Z"
   },
   {
    "duration": 188,
    "start_time": "2024-06-26T08:21:33.734Z"
   },
   {
    "duration": 26,
    "start_time": "2024-06-26T08:21:33.925Z"
   },
   {
    "duration": 152,
    "start_time": "2024-06-26T08:21:33.954Z"
   },
   {
    "duration": 11,
    "start_time": "2024-06-26T08:21:34.108Z"
   },
   {
    "duration": 13,
    "start_time": "2024-06-26T08:21:34.123Z"
   },
   {
    "duration": 1808,
    "start_time": "2024-06-26T08:21:34.140Z"
   },
   {
    "duration": 1656,
    "start_time": "2024-06-26T08:21:35.951Z"
   },
   {
    "duration": 1701,
    "start_time": "2024-06-26T08:21:37.610Z"
   },
   {
    "duration": 6,
    "start_time": "2024-06-26T08:21:39.317Z"
   },
   {
    "duration": 11,
    "start_time": "2024-06-26T08:21:39.326Z"
   },
   {
    "duration": 51,
    "start_time": "2024-06-26T08:21:39.339Z"
   },
   {
    "duration": 10,
    "start_time": "2024-06-26T08:21:39.393Z"
   },
   {
    "duration": 8,
    "start_time": "2024-06-26T08:21:39.406Z"
   },
   {
    "duration": 1124,
    "start_time": "2024-06-26T08:21:39.418Z"
   },
   {
    "duration": 1022,
    "start_time": "2024-06-26T08:21:40.545Z"
   },
   {
    "duration": 1114,
    "start_time": "2024-06-26T08:21:41.570Z"
   },
   {
    "duration": 1061,
    "start_time": "2024-06-26T08:22:01.304Z"
   },
   {
    "duration": 1193,
    "start_time": "2024-06-26T08:22:15.798Z"
   },
   {
    "duration": 9,
    "start_time": "2024-06-26T08:22:50.358Z"
   },
   {
    "duration": 1146,
    "start_time": "2024-06-26T08:22:53.602Z"
   },
   {
    "duration": 1152,
    "start_time": "2024-06-26T08:23:00.581Z"
   },
   {
    "duration": 1056,
    "start_time": "2024-06-26T08:23:09.170Z"
   }
  ],
  "kernelspec": {
   "display_name": "Python 3 (ipykernel)",
   "language": "python",
   "name": "python3"
  },
  "language_info": {
   "codemirror_mode": {
    "name": "ipython",
    "version": 3
   },
   "file_extension": ".py",
   "mimetype": "text/x-python",
   "name": "python",
   "nbconvert_exporter": "python",
   "pygments_lexer": "ipython3",
   "version": "3.9.19"
  },
  "toc": {
   "base_numbering": 1,
   "nav_menu": {},
   "number_sections": true,
   "sideBar": true,
   "skip_h1_title": true,
   "title_cell": "Table of Contents",
   "title_sidebar": "Contents",
   "toc_cell": false,
   "toc_position": {
    "height": "calc(100% - 180px)",
    "left": "10px",
    "top": "150px",
    "width": "264.757px"
   },
   "toc_section_display": true,
   "toc_window_display": true
  }
 },
 "nbformat": 4,
 "nbformat_minor": 2
}
