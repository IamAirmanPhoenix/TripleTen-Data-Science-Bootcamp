{
 "cells": [
  {
   "cell_type": "markdown",
   "metadata": {},
   "source": [
    "¡Hola Juan! Como te va?\n",
    "\n",
    "Mi nombre es Facundo Lozano! Un gusto conocerte, seré tu revisor en este proyecto.\n",
    "\n",
    "A continuación un poco sobre la modalidad de revisión que usaremos:\n",
    "\n",
    "Cuando enccuentro un error por primera vez, simplemente lo señalaré, te dejaré encontrarlo y arreglarlo tú cuenta. Además, a lo largo del texto iré haciendo algunas observaciones sobre mejora en tu código y también haré comentarios sobre tus percepciones sobre el tema. Pero si aún no puedes realizar esta tarea, te daré una pista más precisa en la próxima iteración y también algunos ejemplos prácticos. Estaré abierto a comentarios y discusiones sobre el tema.\n",
    "\n",
    "Encontrará mis comentarios a continuación: **no los mueva, modifique ni elimine**.\n",
    "\n",
    "Puedes encontrar mis comentarios en cuadros verdes, amarillos o rojos como este:\n",
    "\n",
    "<div class=\"alert alert-block alert-success\">\n",
    "<b>Comentario del revisor.</b> <a class=\"tocSkip\"></a>\n",
    "\n",
    "Exito. Todo se ha hecho de forma exitosa.\n",
    "</div>\n",
    "\n",
    "<div class=\"alert alert-block alert-warning\">\n",
    "<b>Comentario del revisor.</b> <a class=\"tocSkip\"></a>\n",
    "\n",
    "Observación. Algunas recomendaciones.\n",
    "</div>\n",
    "\n",
    "<div class=\"alert alert-block alert-danger\">\n",
    "\n",
    "<b>Comentario del revisor.</b> <a class=\"tocSkip\"></a>\n",
    "\n",
    "Necesita arreglos. Este apartado necesita algunas correcciones. El trabajo no puede ser aceptado con comentarios rojos. \n",
    "</div>\n",
    "\n",
    "Puedes responder utilizando esto:\n",
    "\n",
    "<div class=\"alert alert-block alert-info\">\n",
    "<b>Respuesta de estudiante.</b> <a class=\"tocSkip\"></a>\n",
    "</div>"
   ]
  },
  {
   "cell_type": "markdown",
   "metadata": {},
   "source": [
    "## 1. Introduction"
   ]
  },
  {
   "cell_type": "markdown",
   "metadata": {},
   "source": [
    "<div class=\"alert alert-block alert-success\">\n",
    "<b>Review General. (Iteración 1) </b> <a class=\"tocSkip\"></a>\n",
    "\n",
    "Juan, siempre me tomo este tiempo al inicio de tu proyecto para comentarte mis apreciaciones generales de esta iteración de tu entrega. \n",
    "\n",
    "Me gusta comenzar dando la bienvenida al mundo de los datos a los estudiantes, te deseo lo mejor y espero que consigas lograr tus objetivos. Personalmente me gusta brindar el siguiente consejo, \"Está bien equivocarse, es normal y es lo mejor que te puede pasar. Aprendemos de los errores y eso te hará mejor programador ya que podrás descubrir cosas a medida que avances y son estas cosas las que te darán esa experiencia para ser un gran Data Scientist\"\n",
    "\n",
    "Ahora si yendo a esta notebook. Juan lo he dicho al final del proyecto y lo recalco aquí, has hecho un trabajo increible y se ha notado tu gran compromiso en todo momento, se nota tu gran capacidad de manejo sobre las herramientas y de comprensión de lo obtenido, cumpliste con todos los puntos que se debían implementar por lo que tu trabajo esta en condiciones de ser aprobado!\n",
    "\n",
    "Exitos dentro de tu camino en el mundo de los datos Juan, saludos!"
   ]
  },
  {
   "cell_type": "markdown",
   "metadata": {},
   "source": [
    "A mobile company named Megaline has notice many of its customers have legacy plans and wants to develope a model which can recommend those customers one of the newer plans: Smart or Ultra. We have been given a dataset with the information of the behaviour of customers who already changed to one of the newer plans and have been told to develope a model which can predict the best fitting plan with an accuracy score of minimum 0.75."
   ]
  },
  {
   "cell_type": "markdown",
   "metadata": {},
   "source": [
    "## 2. Reading the data"
   ]
  },
  {
   "cell_type": "markdown",
   "metadata": {},
   "source": [
    "In this section, we will evaluate the quality of our information. This implies reading it, check for any error or information which needs to be processed and make the corrections needed in case is needed."
   ]
  },
  {
   "cell_type": "markdown",
   "metadata": {},
   "source": [
    "### 2.1. Importing libraries"
   ]
  },
  {
   "cell_type": "markdown",
   "metadata": {},
   "source": [
    "The following code represents the libraries/modules we will use to work with our data and test different learning algorithms and create the appropiate models."
   ]
  },
  {
   "cell_type": "code",
   "execution_count": 1,
   "metadata": {},
   "outputs": [],
   "source": [
    "import pandas as pd\n",
    "import math\n",
    "import numpy as np\n",
    "from sklearn.model_selection import train_test_split\n",
    "from sklearn.tree import DecisionTreeClassifier\n",
    "from sklearn.metrics import accuracy_score\n",
    "from sklearn.ensemble import RandomForestClassifier\n",
    "from sklearn.linear_model import LogisticRegression\n",
    "from sklearn.dummy import DummyClassifier\n",
    "from sklearn.metrics import plot_confusion_matrix\n",
    "from matplotlib import pyplot as plt"
   ]
  },
  {
   "cell_type": "markdown",
   "metadata": {},
   "source": [
    "### 2.2. Importing the dataset"
   ]
  },
  {
   "cell_type": "markdown",
   "metadata": {},
   "source": [
    "Importing the dataset to start working with it. We will name it `data`."
   ]
  },
  {
   "cell_type": "code",
   "execution_count": 2,
   "metadata": {},
   "outputs": [],
   "source": [
    "data = pd.read_csv('/datasets/users_behavior.csv')"
   ]
  },
  {
   "cell_type": "markdown",
   "metadata": {},
   "source": [
    "### 2.3. Reading the data"
   ]
  },
  {
   "cell_type": "markdown",
   "metadata": {},
   "source": [
    "The following code uses the functions `info()` & `describe()` to show the general information of our dataset `data`. We can see we have 3214 rows and none of them have apparent missing values. The columns of the dataset are the following:\n",
    "\n",
    " * `calls`: The number of calls made by the customer.\n",
    " * `minutes`: Total of calls duration (in minutes).\n",
    " * `messages`: Total of messages sent by the customer.\n",
    " * `mb_used`: Internet data used by customer (in MBs).\n",
    " * `is_ultra`: Mobile plan the customer had on the specific moth (0 for Smart, 1 for Ultra).\n",
    " \n",
    "All 5 columns have appropiate data types; columns `calls, minutes, messages & mb_used` represent numeric values for a determined variable, but only columns `minutes` & `mb_used` can vary on an infinitesimal way. Because of this, let's convert columns `calls` & `messages` to an int data type (as we can only have integer values of calls and messages). In case of column `is_ultra`, we have decided to leave its data type as int, because even though it can be represented as a category or boolean data type values, as long as we are using numbers (0 and 1) let's try to keep the original data type for those values.\n",
    "\n",
    "We do not consider necessary delete duplicated rows, because we do not have a reason to conclude duplicated rows represents the same user_id (this is because we do not have a value we can link our data with customers). Because of this, we will not apply a 'drop_duplicates' process."
   ]
  },
  {
   "cell_type": "code",
   "execution_count": 3,
   "metadata": {},
   "outputs": [
    {
     "name": "stdout",
     "output_type": "stream",
     "text": [
      "<class 'pandas.core.frame.DataFrame'>\n",
      "RangeIndex: 3214 entries, 0 to 3213\n",
      "Data columns (total 5 columns):\n",
      " #   Column    Non-Null Count  Dtype  \n",
      "---  ------    --------------  -----  \n",
      " 0   calls     3214 non-null   float64\n",
      " 1   minutes   3214 non-null   float64\n",
      " 2   messages  3214 non-null   float64\n",
      " 3   mb_used   3214 non-null   float64\n",
      " 4   is_ultra  3214 non-null   int64  \n",
      "dtypes: float64(4), int64(1)\n",
      "memory usage: 125.7 KB\n",
      "None\n",
      "\n",
      "             calls      minutes     messages       mb_used     is_ultra\n",
      "count  3214.000000  3214.000000  3214.000000   3214.000000  3214.000000\n",
      "mean     63.038892   438.208787    38.281269  17207.673836     0.306472\n",
      "std      33.236368   234.569872    36.148326   7570.968246     0.461100\n",
      "min       0.000000     0.000000     0.000000      0.000000     0.000000\n",
      "25%      40.000000   274.575000     9.000000  12491.902500     0.000000\n",
      "50%      62.000000   430.600000    30.000000  16943.235000     0.000000\n",
      "75%      82.000000   571.927500    57.000000  21424.700000     1.000000\n",
      "max     244.000000  1632.060000   224.000000  49745.730000     1.000000\n"
     ]
    }
   ],
   "source": [
    "print(data.info())\n",
    "print()\n",
    "print(data.describe(include='all'))"
   ]
  },
  {
   "cell_type": "markdown",
   "metadata": {},
   "source": [
    "<div class=\"alert alert-block alert-success\">\n",
    "\n",
    "<b>Comentario del revisor. (Iteración 1)\n",
    "    \n",
    "</b> <a class=\"tocSkip\"></a>\n",
    "\n",
    "    \n",
    "Excelente implementación de importaciones y carga de datos. Felicitaciones por mantener los procesos en celdas separadas! A la vez excelente implementación de los métodos para observar la composición de los datos!"
   ]
  },
  {
   "cell_type": "markdown",
   "metadata": {},
   "source": [
    "### 2.4 Change data types for columns calls and messages"
   ]
  },
  {
   "cell_type": "markdown",
   "metadata": {},
   "source": [
    "Let's evaluate if data will not be lost if converting these columns to an 'int' data type, and if not convert them."
   ]
  },
  {
   "cell_type": "code",
   "execution_count": 4,
   "metadata": {},
   "outputs": [],
   "source": [
    "if np.array_equal(data['calls'], data['calls'].astype('int')):\n",
    "    data['calls'] = data['calls'].astype('int')\n",
    "    \n",
    "if np.array_equal(data['messages'], data['messages'].astype('int')):\n",
    "    data['messages'] = data['messages'].astype('int')"
   ]
  },
  {
   "cell_type": "markdown",
   "metadata": {},
   "source": [
    "Double checking our information we can see both columns did not have data loss on the convertion and were converted correctly to an int64 data type."
   ]
  },
  {
   "cell_type": "code",
   "execution_count": 5,
   "metadata": {},
   "outputs": [
    {
     "name": "stdout",
     "output_type": "stream",
     "text": [
      "<class 'pandas.core.frame.DataFrame'>\n",
      "RangeIndex: 3214 entries, 0 to 3213\n",
      "Data columns (total 5 columns):\n",
      " #   Column    Non-Null Count  Dtype  \n",
      "---  ------    --------------  -----  \n",
      " 0   calls     3214 non-null   int64  \n",
      " 1   minutes   3214 non-null   float64\n",
      " 2   messages  3214 non-null   int64  \n",
      " 3   mb_used   3214 non-null   float64\n",
      " 4   is_ultra  3214 non-null   int64  \n",
      "dtypes: float64(2), int64(3)\n",
      "memory usage: 125.7 KB\n",
      "None\n",
      "\n",
      "             calls      minutes     messages       mb_used     is_ultra\n",
      "count  3214.000000  3214.000000  3214.000000   3214.000000  3214.000000\n",
      "mean     63.038892   438.208787    38.281269  17207.673836     0.306472\n",
      "std      33.236368   234.569872    36.148326   7570.968246     0.461100\n",
      "min       0.000000     0.000000     0.000000      0.000000     0.000000\n",
      "25%      40.000000   274.575000     9.000000  12491.902500     0.000000\n",
      "50%      62.000000   430.600000    30.000000  16943.235000     0.000000\n",
      "75%      82.000000   571.927500    57.000000  21424.700000     1.000000\n",
      "max     244.000000  1632.060000   224.000000  49745.730000     1.000000\n"
     ]
    }
   ],
   "source": [
    "print(data.info())\n",
    "print()\n",
    "print(data.describe(include='all'))"
   ]
  },
  {
   "cell_type": "markdown",
   "metadata": {},
   "source": [
    "<div class=\"alert alert-block alert-success\">\n",
    "\n",
    "<b>Comentario del revisor. (Iteración 1)\n",
    "    \n",
    "</b> <a class=\"tocSkip\"></a>\n",
    "\n",
    "    \n",
    "Implementaciones perfectas para normalizar los tipos de valores que contienen algunas de nuestras features! Bien hecho!"
   ]
  },
  {
   "cell_type": "markdown",
   "metadata": {},
   "source": [
    "## 3. Generating the train, test and validation sets"
   ]
  },
  {
   "cell_type": "markdown",
   "metadata": {},
   "source": [
    "To make possible the training of our models, we first need to define the information we need to predict and the parameters we will use to make the prediction possible, which we will be calling `target` and `features` respectively. Once we have that information divided, we need to segment that information in 3 sets of data for all the machine learning process: `training process`, `test process` and `validation process`.\n",
    "\n",
    "Let's work the data to get all the mentioned above."
   ]
  },
  {
   "cell_type": "markdown",
   "metadata": {},
   "source": [
    "### 3.1. Defining features and target"
   ]
  },
  {
   "cell_type": "markdown",
   "metadata": {},
   "source": [
    "The information we were asked to predict was \"the best fitting new mobile plan available\", which is defined on the column `is_ultra` (if 0 the plan is Smart, but if 1 the plan is Ultra). This is our target.\n",
    "\n",
    "On the other hand, the information we will use to make the prediction are all the other columns of the dataset. Those are our features."
   ]
  },
  {
   "cell_type": "code",
   "execution_count": 6,
   "metadata": {},
   "outputs": [],
   "source": [
    "# Features will be all columns in our dataset except 'is_ultra'\n",
    "features = data.drop(['is_ultra'], axis=1)\n",
    "\n",
    "# Our target will be column 'is_ultra'\n",
    "target = data['is_ultra']"
   ]
  },
  {
   "cell_type": "markdown",
   "metadata": {},
   "source": [
    "### 3.2. Getting training features and target"
   ]
  },
  {
   "cell_type": "markdown",
   "metadata": {},
   "source": [
    "Dividing the total information from features and target with a size of 0.7 for the variable `train_size`, we obtain the following variables:\n",
    "\n",
    " * `features_train, target_train`: Sets for the training process.\n",
    " * `features_comb, target_comb`: Sets wit the information for the test and validation process."
   ]
  },
  {
   "cell_type": "code",
   "execution_count": 7,
   "metadata": {},
   "outputs": [],
   "source": [
    "features_train, features_comb, target_train, target_comb = train_test_split(features, target, test_size=0.3, train_size=0.7)"
   ]
  },
  {
   "cell_type": "markdown",
   "metadata": {},
   "source": [
    "### 3.3. Getting features and targets for the test and validation sets"
   ]
  },
  {
   "cell_type": "markdown",
   "metadata": {},
   "source": [
    "Using the 'combined' sets of the code block above, we can divide with the variables test_size=0.33 and train_size=0.67 to get a validation tuple of sets of 20% of the total data aprox. and a test tuple of sets of 10% of the total data aprox."
   ]
  },
  {
   "cell_type": "code",
   "execution_count": 8,
   "metadata": {},
   "outputs": [],
   "source": [
    "features_val, features_test, target_val, target_test = train_test_split(features_comb, target_comb, test_size=0.33, train_size=0.67)"
   ]
  },
  {
   "cell_type": "markdown",
   "metadata": {},
   "source": [
    "We got the following tuples:\n",
    "\n",
    " * Training set (70%)\n",
    "     - `features_train, target_train`\n",
    " * Validation set (20% aprox)\n",
    "     - `features_test, target_test`\n",
    " * Test set (10% aprox)\n",
    "     - `features_val, target_val`\n",
    "     \n",
    "With the information divided in this way we can continue with the next step: `evaluate different learning algorithms` and `select` the best one for this application."
   ]
  },
  {
   "cell_type": "markdown",
   "metadata": {},
   "source": [
    "<div class=\"alert alert-block alert-success\">\n",
    "\n",
    "<b>Comentario del revisor. (Iteración 1)\n",
    "    \n",
    "</b> <a class=\"tocSkip\"></a>\n",
    "\n",
    "    \n",
    "Perfecto Juan, aquí hemos realizado la implementación perfecta sobre la división de los datos en los 3 conjuntos, tal como debíamos."
   ]
  },
  {
   "cell_type": "markdown",
   "metadata": {},
   "source": [
    "## 4. Testing algorithms"
   ]
  },
  {
   "cell_type": "markdown",
   "metadata": {},
   "source": [
    "The information we need to predict is `categorical`. We know this because we can only have a limited amount of different values for it (0 or 1). Knowing this, we shall use `categorical learning algorithms` to train our future model. At this moment, we only know 3 different algorithms:\n",
    "\n",
    " * `Decision Tree Classifier`\n",
    " * `Random Forest Classifier`\n",
    " * `Logistic Regression`\n",
    " \n",
    "Each of them have their advantages and disvantages. Let's use them and decide which of them gives us the best accuracy. `Our goal score is 0.75` and `our random state is 12345`."
   ]
  },
  {
   "cell_type": "markdown",
   "metadata": {},
   "source": [
    "### 4.1. Decision Tree Classifier"
   ]
  },
  {
   "cell_type": "markdown",
   "metadata": {},
   "source": [
    "A Decision Tree Classifier (DTC) model trains a decision tree with the training data is given. This model is quite sensitive to overfitting and underfitting, but gives relative fast processing time.\n",
    "\n",
    "Let's create a function which can iterate thru some of the model hyperparameters and choose the best combination of hyperparameters for this application."
   ]
  },
  {
   "cell_type": "code",
   "execution_count": 9,
   "metadata": {},
   "outputs": [],
   "source": [
    "def dtc_Chooser(training_features, training_target, validation_features, validation_target, in_split=2, in_leaf=1, in_depth=None):\n",
    "    \n",
    "    \"\"\"\n",
    "    This function takes as inputs 2 sets of data (the validation and the training sets), and gets the accuracy score\n",
    "    for the information on those sets using a Decision Tree Classifier model. You can also specify a new value \n",
    "    for the following parameters:\n",
    "    \n",
    "    min_samples_split, min_samples_leaf & max_depth.\n",
    "    \n",
    "    to iterate over them in the model if you want to use values different from the default parameters.\n",
    "    \n",
    "    Inputs:\n",
    "    -training_features: DataFrame or Series\n",
    "        ~ The feature(s) values for the training set.\n",
    "    -training_target: DataFrame or Series\n",
    "        ~ The target(s) values for the training set.\n",
    "    -validation_features: DataFrame or Series\n",
    "        ~ The feature(s) values for the validation set.\n",
    "    -validation_target: DataFrame or Series\n",
    "        ~ The target(s) values for the validation set.\n",
    "    -in_split: int or float\n",
    "        ~ Maximum value for the min_samples_split parameter.\n",
    "    -in_leaf: int or float\n",
    "        ~ Maximum value for the min_samples_leaf parameter.\n",
    "    -in_depth: None or int\n",
    "        ~ Maximum value for the max_depth parameter.\n",
    "        \n",
    "    Outputs:\n",
    "    -best_split_dtc: int or float\n",
    "        ~ The most optimal value for the min_samples_split parameter.\n",
    "    -best_leaf_dtc: int or float\n",
    "        ~ The most optimal value for the min_samples_leaf parameter.\n",
    "    -best_depth_dtc: None or int\n",
    "        ~ The most optimal value for the max_depth parameter.\n",
    "    -best_result_dtc: float\n",
    "        ~ The best accuracy level obtained in the iteration.\n",
    "    \"\"\"\n",
    "    \n",
    "    # Evaluations for incorrect inputs\n",
    "    if len(training_features) != len(training_target):\n",
    "        return \"Error. Training sets do not have the same lenght.\"\n",
    "        \n",
    "    if len(validation_features) != len(validation_target):\n",
    "        return \"Error. Test sets do not have the same lenght.\"\n",
    "        \n",
    "    if in_split < 0:\n",
    "        return \"Error. Minimum samples split value is less than 0.\"\n",
    "        \n",
    "    if in_leaf < 0:\n",
    "        return \"Error. Minimum samples leaf value is less than 0.\"\n",
    "        \n",
    "    if in_depth % 1 != 0:\n",
    "        return \"Error. Max depth value is a float number.\"\n",
    "    \n",
    "    if in_depth < 0:\n",
    "        return \"Error. Max depth value is less than 0.\"\n",
    "    \n",
    "    # Local variables for the parameters for the best accuracy in the evaluation\n",
    "    best_result_dtc = 0.0\n",
    "    best_split_dtc = 0.0\n",
    "    best_leaf_dtc = 0.0\n",
    "    best_depth_dtc = 0.0\n",
    "    best_result1_dtc = 0.0\n",
    "    \n",
    "    # Getting the value for min_samples_split variable in case our input is a float number between 0 and 1\n",
    "    if in_split % 1 != 0:\n",
    "        \n",
    "        in_split = math.ceil(len(target_train) * in_split)\n",
    "        \n",
    "    # Getting the value for min_samples_leaf variable in case our input is a float number between 0 and 1\n",
    "    if in_leaf % 1 != 0:\n",
    "        \n",
    "        in_leaf = math.ceil(len(target_train) * in_leaf)\n",
    "\n",
    "        \n",
    "    \n",
    "    # Evaluating the model for min_samples_split between 2 and the input value (increments by 1)\n",
    "    for split in range(2, (in_split+1), 1):\n",
    "\n",
    "        # Evaluating the model for min_samples_leaf between 1 and the input value (increments by 1)\n",
    "        for leaf in range(1, (in_leaf+1), 1):\n",
    "\n",
    "            # Evaluating if out input value for the max_depth variable is not None\n",
    "            if in_depth != None:\n",
    "                \n",
    "                # Evaluating the model for max_depth between 1 and the input value (increments by 1)\n",
    "                for depth in range(1, (in_depth+1), 1):\n",
    "\n",
    "                    # Setting the model with our hyperparameters\n",
    "                    model_dtc = DecisionTreeClassifier(random_state=12345, max_depth=depth, min_samples_split=split, min_samples_leaf=leaf)\n",
    "\n",
    "                    # Training the model with the training sets\n",
    "                    model_dtc.fit(training_features, training_target)\n",
    "\n",
    "                    # Obtaining the predictions using test set features\n",
    "                    predictions = model_dtc.predict(validation_features)\n",
    "\n",
    "                    # Obtaining the accuracy of the model for each configuration (usinf both accuracy_score and score functions)\n",
    "                    result = accuracy_score(validation_target, predictions)\n",
    "                    result1 = model_dtc.score(validation_features, validation_target)\n",
    "\n",
    "                    # In case the accuracy of the current configuration is greater than the current \"best configuration\",\n",
    "                    # save the current configuration as the \"best configuration\"\n",
    "                    if result > best_result_dtc:\n",
    "                        best_result_dtc = result\n",
    "                        best_split_dtc = split\n",
    "                        best_leaf_dtc = leaf\n",
    "                        best_depth_dtc = depth\n",
    "                        best_result1_dtc = result1\n",
    "                        \n",
    "            # In case we select None as the value for max_depth\n",
    "            else:\n",
    "                \n",
    "                # Setting the model with our hyperparameters\n",
    "                model_dtc = DecisionTreeClassifier(random_state=12345, max_depth=None, min_samples_split=split, min_samples_leaf=leaf)\n",
    "\n",
    "                # Training the model with the training sets\n",
    "                model_dtc.fit(training_features, training_target)\n",
    "\n",
    "                # Obtaining the predictions using test set features\n",
    "                predictions = model_dtc.predict(validation_features)\n",
    "\n",
    "                # Obtaining the accuracy of the model for each configuration (usinf both accuracy_score and score functions)\n",
    "                result = accuracy_score(validation_target, predictions)\n",
    "                result1 = model_dtc.score(validation_features, validation_target)\n",
    "\n",
    "                # In case the accuracy of the current configuration is greater than the current \"best configuration\",\n",
    "                # save the current configuration as the \"best configuration\"\n",
    "                if result > best_result_dtc:\n",
    "                    best_result_dtc = result\n",
    "                    best_split_dtc = split\n",
    "                    best_leaf_dtc = leaf\n",
    "                    best_depth_dtc = in_depth\n",
    "                    best_result1_dtc = result1\n",
    "                \n",
    "    # Once finished the iterations, print the best configuration hyperparameters with its accuracy scores\n",
    "    print(f\"\"\"The best configuration with a result of '{best_result_dtc} / {best_result1_dtc}' is: \n",
    "              split ({best_split_dtc}), leaf ({best_leaf_dtc}), depth ({best_depth_dtc}).'\"\"\")\n",
    "    \n",
    "    # Returning values of the best hyperparameters configuration in case we want to use them in the future\n",
    "    return best_split_dtc, best_leaf_dtc, best_depth_dtc, best_result_dtc"
   ]
  },
  {
   "cell_type": "markdown",
   "metadata": {},
   "source": [
    "<div class=\"alert alert-block alert-success\">\n",
    "\n",
    "<b>Comentario del revisor. (Iteración 1)\n",
    "    \n",
    "</b> <a class=\"tocSkip\"></a>\n",
    "\n",
    "    \n",
    "¡Felicidades por esta función Juan! Has implementado varios métodos clave para entrenar y evaluar tu modelo. Has utilizado el método fit para entrenar el modelo, el método predict para obtener predicciones, y has evaluado la precisión del modelo utilizando accuracy_score y score tal como correspondía. Además, has implementado una lógica para guardar la configuración de hiperparámetros que proporciona el mejor rendimiento. Esto demuestra un buen entendimiento de los pasos necesarios para construir y optimizar un modelo, muy bien hecho! "
   ]
  },
  {
   "cell_type": "markdown",
   "metadata": {},
   "source": [
    "Once done, is time to test the function.\n",
    "\n",
    "Let's use as inputs the training sets, the validation sets, a split range from 2-5, a leaf range from 1-5 and a depth range from 1-10."
   ]
  },
  {
   "cell_type": "code",
   "execution_count": 10,
   "metadata": {},
   "outputs": [
    {
     "name": "stdout",
     "output_type": "stream",
     "text": [
      "The best configuration with a result of '0.8126934984520123 / 0.8126934984520123' is: \n",
      "              split (2), leaf (5), depth (10).'\n"
     ]
    }
   ],
   "source": [
    "dtc_split, dtc_leaf, dtc_depth, dtc_result = dtc_Chooser(features_train, target_train, features_val, target_val, in_split=5, in_leaf=5, in_depth=10)"
   ]
  },
  {
   "cell_type": "markdown",
   "metadata": {},
   "source": [
    "With this, we have the new variables dtc_split, dtc_leaf, dtc_depth, dtc_result to compare and work with in further sections of the project."
   ]
  },
  {
   "cell_type": "code",
   "execution_count": 11,
   "metadata": {},
   "outputs": [
    {
     "data": {
      "image/png": "[encoded data removed]",
      "text/plain": [
       "<Figure size 640x480 with 2 Axes>"
      ]
     },
     "metadata": {},
     "output_type": "display_data"
    }
   ],
   "source": [
    "model_dtc = DecisionTreeClassifier(random_state=12345, max_depth=dtc_depth, min_samples_split=dtc_split, min_samples_leaf=dtc_leaf)\n",
    "model_dtc.fit(features_train, target_train)\n",
    "\n",
    "plot_confusion_matrix(estimator=model_dtc, X=features_val, y_true=target_val,\n",
    "                      normalize='true', cmap='Blues')\n",
    "plt.show()"
   ]
  },
  {
   "cell_type": "markdown",
   "metadata": {},
   "source": [
    "<div class=\"alert alert-block alert-success\">\n",
    "\n",
    "<b>Comentario del revisor. (Iteración 1)\n",
    "    \n",
    "</b> <a class=\"tocSkip\"></a>\n",
    "\n",
    "Excelente obtención de la matriz de confusión!"
   ]
  },
  {
   "cell_type": "markdown",
   "metadata": {},
   "source": [
    "Using those variables we can create a \"confusion matrix plot\" in which we can conclude the following:\n",
    "\n",
    " * Our model can `predict as 0 the 92%` of the total values which are 0 of the set.\n",
    " * Our model can `predict as 1 the 55%` of the total values which are 1 of the set."
   ]
  },
  {
   "cell_type": "markdown",
   "metadata": {},
   "source": [
    "### 4.2. Random Forest Classifier"
   ]
  },
  {
   "cell_type": "markdown",
   "metadata": {},
   "source": [
    "The Random Forest Classifier (RFC) has its base on the Decision Tree Classifier (DTC), because this new model uses a new hyperparameter `n_estimators`, which is basically the number of DTC models it will be using on its model. For this reason this model is not sensitive to overfitting and underfitting, but its processing time is increased drastically depending on the number of estimators used.\n",
    "\n",
    "Similar to the DTC, let's create a function which can iterate over the RFC hyperparameters and find the best fitting configuration for the application."
   ]
  },
  {
   "cell_type": "code",
   "execution_count": 12,
   "metadata": {},
   "outputs": [],
   "source": [
    "def rfc_Chooser(training_features, training_target, validation_features, validation_target, in_estimators=100, in_split=2, in_leaf=1, in_depth=None):\n",
    "    \n",
    "    \"\"\"\n",
    "    This function takes as inputs 2 sets of data (the validation and the training sets), and gets the accuracy score\n",
    "    for the information on those sets using a Random Forest Classifier model. You can also specify a new value \n",
    "    for the following parameters:\n",
    "    \n",
    "    n_estimators, min_samples_split, min_samples_leaf & max_depth.\n",
    "    \n",
    "    to iterate over them in the model if you want to use values different from the default parameters.\n",
    "    \n",
    "    Inputs:\n",
    "    -training_features: DataFrame or Series\n",
    "        ~ The feature(s) values for the training set.\n",
    "    -training_target: DataFrame or Series\n",
    "        ~ The target(s) values for the training set.\n",
    "    -validation_features: DataFrame or Series\n",
    "        ~ The feature(s) values for the validation set.\n",
    "    -validation_target: DataFrame or Series\n",
    "        ~ The target(s) values for the validation set.\n",
    "    -in_estimators: int\n",
    "        ~ Maximum value for the n_estimators parameter.\n",
    "    -in_split: int or float\n",
    "        ~ Maximum value for the min_samples_split parameter.\n",
    "    -in_leaf: int or float\n",
    "        ~ Maximum value for the min_samples_leaf parameter.\n",
    "    -in_depth: None or int\n",
    "        ~ Maximum value for the max_depth parameter.\n",
    "        \n",
    "    Outputs:\n",
    "    -best_split_rfc: int or float\n",
    "        ~ The most optimal value for the min_samples_split parameter.\n",
    "    -best_leaf_rfc: int or float\n",
    "        ~ The most optimal value for the min_samples_leaf parameter.\n",
    "    -best_depth_rfc: None or int\n",
    "        ~ The most optimal value for the max_depth parameter.\n",
    "    -best_est_rfc: int\n",
    "        ~ The most optimal value for the max_depth parameter.\n",
    "    -best_result_rfc: float\n",
    "        ~ The best accuracy level obtained in the iteration.\n",
    "    \"\"\"\n",
    "    \n",
    "    # Evaluations for incorrect inputs\n",
    "    if len(training_features) != len(training_target):\n",
    "        return \"Error. Training sets do not have the same lenght.\"\n",
    "        \n",
    "    if len(validation_features) != len(validation_target):\n",
    "        return \"Error. Test sets do not have the same lenght.\"\n",
    "    \n",
    "    if in_estimators < 1:\n",
    "        return \"Error. Number of estimators value is less than 1.\"\n",
    "    \n",
    "    if in_estimators % 1 != 0:\n",
    "        return \"Error. Number of estimators value is less than 0.\"\n",
    "        \n",
    "    if in_split < 0:\n",
    "        return \"Error. Minimum samples split value is less than 0.\"\n",
    "        \n",
    "    if in_leaf < 0:\n",
    "        return \"Error. Minimum samples leaf value is less than 0.\"\n",
    "        \n",
    "    if in_depth % 1 != 0:\n",
    "        return \"Error. Max depth value is a float number.\"\n",
    "    \n",
    "    if in_depth < 0:\n",
    "        return \"Error. Max depth value is less than 0.\"\n",
    "    \n",
    "    # Local variables for the parameters for the best accuracy in the evaluation\n",
    "    best_result_rfc = 0.0\n",
    "    best_split_rfc = 0.0\n",
    "    best_leaf_rfc = 0.0\n",
    "    best_depth_rfc = 0.0\n",
    "    best_est_rfc = 0.0\n",
    "    best_result1_rfc = 0.0\n",
    "    \n",
    "    # Getting the value for min_samples_split variable in case our input is a float number between 0 and 1\n",
    "    if in_split % 1 != 0:\n",
    "        \n",
    "        in_split = math.ceil(len(target_train) * in_split)\n",
    "        \n",
    "    # Getting the value for min_samples_leaf variable in case our input is a float number between 0 and 1\n",
    "    if in_leaf % 1 != 0:\n",
    "        \n",
    "        in_leaf = math.ceil(len(target_train) * in_leaf)\n",
    "\n",
    "    # Evaluating the model for min_samples_split between 2 and the input value (increments by 1)\n",
    "    for split in range(2, (in_split+1), 1):\n",
    "\n",
    "        # Evaluating the model for min_samples_leaf between 1 and the input value (increments by 1)\n",
    "        for leaf in range(1, (in_leaf+1), 1):\n",
    "            \n",
    "            # Evaluating the model for n_estimators between 10 and the input value (increments by 10)\n",
    "            for est in range(10, (in_estimators+1), 10):\n",
    "\n",
    "                # Evaluating if out input value for the max_depth variable is not None\n",
    "                if in_depth != None:\n",
    "\n",
    "                    # Evaluating the model for max_depth between 1 and the input value (increments by 1)\n",
    "                    for depth in range(1, (in_depth+1), 1):\n",
    "\n",
    "                        # Setting the model with our hyperparameters\n",
    "                        model_rfc = RandomForestClassifier(random_state=12345, n_estimators=est, max_depth=depth, min_samples_split=split, min_samples_leaf=leaf)\n",
    "\n",
    "                        # Training the model with the training sets\n",
    "                        model_rfc.fit(training_features, training_target)\n",
    "\n",
    "                        # Obtaining the predictions using test set features\n",
    "                        predictions = model_rfc.predict(validation_features)\n",
    "\n",
    "                        # Obtaining the accuracy of the model for each configuration (usinf both accuracy_score and score functions)\n",
    "                        result = accuracy_score(validation_target, predictions)\n",
    "                        result1 = model_rfc.score(validation_features, validation_target) \n",
    "\n",
    "                        # In case the accuracy of the current configuration is greater than the current \"best configuration\",\n",
    "                        # save the current configuration as the \"best configuration\"\n",
    "                        if result > best_result_rfc:\n",
    "                            best_result_rfc = result\n",
    "                            best_split_rfc = split\n",
    "                            best_leaf_rfc = leaf\n",
    "                            best_depth_rfc = depth\n",
    "                            best_est_rfc = est\n",
    "                            best_result1_rfc = result1\n",
    "                            \n",
    "                # In case we select None as the value for max_depth\n",
    "                else:\n",
    "\n",
    "                    # Setting the model with our hyperparameters\n",
    "                    model_rfc = RandomForestClassifier(random_state=12345, n_estimators=est, max_depth=None, min_samples_split=split, min_samples_leaf=leaf)\n",
    "\n",
    "                    # Training the model with the training sets\n",
    "                    model_rfc.fit(training_features, training_target)\n",
    "\n",
    "                    # Obtaining the predictions using test set features\n",
    "                    predictions = model_rfc.predict(validation_features)\n",
    "\n",
    "                    # Obtaining the accuracy of the model for each configuration (usinf both accuracy_score and score functions)\n",
    "                    result = accuracy_score(validation_target, predictions)\n",
    "                    result1 = model_rfc.score(validation_features, validation_target) \n",
    "\n",
    "                    # In case the accuracy of the current configuration is greater than the current \"best configuration\",\n",
    "                    # save the current configuration as the \"best configuration\"\n",
    "                    if result > best_result_rfc:\n",
    "                        best_result_rfc = result\n",
    "                        best_split_rfc = split\n",
    "                        best_leaf_rfc = leaf\n",
    "                        best_depth_rfc = in_depth\n",
    "                        best_est_rfc = est\n",
    "                        best_result1_rfc = result1\n",
    "                \n",
    "    # Once finished the iterations, print the best configuration hyperparameters with its accuracy scores\n",
    "    print(f\"\"\"The best configuration with a result of '{best_result_rfc} / {best_result1_rfc}' is: \n",
    "              split ({best_split_rfc}), leaf ({best_leaf_rfc}), depth ({best_depth_rfc}), estimators ({best_est_rfc}).'\"\"\")\n",
    "    \n",
    "    # Returning values of the best hyperparameters configuration in case we want to use them in the future\n",
    "    return best_split_rfc, best_leaf_rfc, best_depth_rfc, best_est_rfc, best_result_rfc"
   ]
  },
  {
   "cell_type": "markdown",
   "metadata": {},
   "source": [
    "Once finished, let's test it.\n",
    "\n",
    "We will be using the same hyperparameters as in the DTC model, but adding an estimators range from 10-100."
   ]
  },
  {
   "cell_type": "code",
   "execution_count": 13,
   "metadata": {},
   "outputs": [
    {
     "name": "stdout",
     "output_type": "stream",
     "text": [
      "The best configuration with a result of '0.8235294117647058 / 0.8235294117647058' is: \n",
      "              split (5), leaf (2), depth (10), estimators (60).'\n"
     ]
    }
   ],
   "source": [
    "rfc_split, rfc_leaf, rfc_depth, rfc_est, rfc_result = rfc_Chooser(features_train, target_train, features_val, target_val, in_estimators=100, in_split=5, in_leaf=5, in_depth=10)"
   ]
  },
  {
   "cell_type": "markdown",
   "metadata": {},
   "source": [
    "With this, we have the new variables rfc_split, rfc_leaf, rfc_depth, rfc_est, rfc_result to compare and work with in further sections of the project."
   ]
  },
  {
   "cell_type": "code",
   "execution_count": 14,
   "metadata": {},
   "outputs": [
    {
     "data": {
      "image/png": "[encoded data removed]",
      "text/plain": [
       "<Figure size 640x480 with 2 Axes>"
      ]
     },
     "metadata": {},
     "output_type": "display_data"
    }
   ],
   "source": [
    "model_rfc = RandomForestClassifier(random_state=12345, max_depth=rfc_depth, min_samples_split=rfc_split, min_samples_leaf=rfc_leaf, n_estimators=rfc_est)\n",
    "model_rfc.fit(features_train, target_train)\n",
    "\n",
    "plot_confusion_matrix(estimator=model_rfc, X=features_val, y_true=target_val,\n",
    "                      normalize='true', cmap='Blues')\n",
    "plt.show()"
   ]
  },
  {
   "cell_type": "markdown",
   "metadata": {},
   "source": [
    "<div class=\"alert alert-block alert-success\">\n",
    "\n",
    "<b>Comentario del revisor. (Iteración 1)\n",
    "    \n",
    "</b> <a class=\"tocSkip\"></a>\n",
    "\n",
    "Aqui un proceso similar y correcto pero sobre un modelo diferente, nuevamente felicitaciones Juan!"
   ]
  },
  {
   "cell_type": "markdown",
   "metadata": {},
   "source": [
    "Similar as in the DecisionTreeClassifier model, we can create a new confusion matrix plot for the RandomForestClassifier model in which we can conclude the following:\n",
    "\n",
    " * Our model can `predict as 0 the 94%` of the total values which are 0 of the set.\n",
    " * Our model can `predict as 1 the 55%` of the total values which are 1 of the set."
   ]
  },
  {
   "cell_type": "markdown",
   "metadata": {},
   "source": [
    "### 4.3. Logistic Regression"
   ]
  },
  {
   "cell_type": "markdown",
   "metadata": {},
   "source": [
    "The Logistic Regression (LR) model has its base on the sigmoid function (s-shaped curve). This mean it measures the probability of a value to be True or False (or in our case to be 0 or 1). This model has a fast procesing time but does not have high levels of accuracy, so there will be occasions this model is not the most fitting model available.\n",
    "\n",
    "As in the past models, let's create a function in which we can work with this model."
   ]
  },
  {
   "cell_type": "code",
   "execution_count": 15,
   "metadata": {},
   "outputs": [],
   "source": [
    "def lr_Chooser(training_features, training_target, validation_features, validation_target, in_solver='liblinear'):\n",
    "    \n",
    "    \"\"\"\n",
    "    This function takes as inputs 2 sets of data (the validation and the test sets), and gets the accuracy score\n",
    "    for the information on those sets using a Logistic Regression model. You can also specify a new value for the \n",
    "    parameter 'solver' to change the model processing if you want to use values different from the default parameters.\n",
    "    \n",
    "    Inputs:\n",
    "    -training_features: DataFrame or Series\n",
    "        ~ The feature(s) values for the training set.\n",
    "    -training_target: DataFrame or Series\n",
    "        ~ The target(s) values for the training set.\n",
    "    -validation_features: DataFrame or Series\n",
    "        ~ The feature(s) values for the validation set.\n",
    "    -validation_target: DataFrame or Series\n",
    "        ~ The target(s) values for the validation set.\n",
    "    -in_solver: str\n",
    "        ~ Value for the 'solver' parameter.\n",
    "        \n",
    "    Outputs:\n",
    "    -in_solver: str\n",
    "        ~ The value selected for the 'solver' parameter.\n",
    "    -result: float\n",
    "        ~ The accuracy score value obtained.\n",
    "    \"\"\"\n",
    "    \n",
    "    # Setting the model with the selected solver input\n",
    "    model_lr = LogisticRegression(random_state=12345, solver=in_solver)\n",
    "    \n",
    "    # Training the model\n",
    "    model_lr.fit(features_train, target_train)\n",
    "    \n",
    "    # Generating the predictions\n",
    "    predictions = model_lr.predict(validation_features)\n",
    "    \n",
    "    # Obtaining the accuracy of the model for each configuration (usinf both accuracy_score and score functions)\n",
    "    result = accuracy_score(validation_target, predictions)\n",
    "    result1 = model_lr.score(validation_features, validation_target)\n",
    "    \n",
    "    # Once finished, print its accuracy scores\n",
    "    print(f\"The result for linear regression model is: {result} / {result1}\")\n",
    "    \n",
    "    # Returning the accuracy score obtained and the solver selected\n",
    "    return in_solver, result"
   ]
  },
  {
   "cell_type": "markdown",
   "metadata": {},
   "source": [
    "Once finished, let's test it with it's default `solver` value `liblinear`."
   ]
  },
  {
   "cell_type": "code",
   "execution_count": 33,
   "metadata": {},
   "outputs": [
    {
     "name": "stdout",
     "output_type": "stream",
     "text": [
      "The result for linear regression model is: 0.7523219814241486 / 0.7523219814241486\n"
     ]
    }
   ],
   "source": [
    "lr_solver, lr_result = lr_Chooser(features_train, target_train, features_val, target_val)"
   ]
  },
  {
   "cell_type": "markdown",
   "metadata": {},
   "source": [
    "With this, we have the new variables lr_solver, lr_result to compare and work with in further sections of the project."
   ]
  },
  {
   "cell_type": "code",
   "execution_count": 34,
   "metadata": {},
   "outputs": [
    {
     "data": {
      "image/png": "[encoded data removed]",
      "text/plain": [
       "<Figure size 640x480 with 2 Axes>"
      ]
     },
     "metadata": {},
     "output_type": "display_data"
    }
   ],
   "source": [
    "model_lr = LogisticRegression(random_state=12345, solver=lr_solver)\n",
    "model_lr.fit(features_train, target_train)\n",
    "\n",
    "plot_confusion_matrix(estimator=model_lr, X=features_val, y_true=target_val,\n",
    "                      normalize='true', cmap='Blues')\n",
    "plt.show()"
   ]
  },
  {
   "cell_type": "markdown",
   "metadata": {},
   "source": [
    "Creating a new confusion matrix plot for the LogisticRegression model we can conclude the following:\n",
    "\n",
    " * Our model can `predict as 0 the 99%` of the total values which are 0 of the set.\n",
    " * Our model can `predict as 1 the 1.9%` of the total values which are 1 of the set."
   ]
  },
  {
   "cell_type": "markdown",
   "metadata": {},
   "source": [
    "<div class=\"alert alert-block alert-success\">\n",
    "\n",
    "<b>Comentario del revisor. (Iteración 1)\n",
    "    \n",
    "</b> <a class=\"tocSkip\"></a>\n",
    "\n",
    "Un modelo más tradicional pero util, excelente Juan!"
   ]
  },
  {
   "cell_type": "markdown",
   "metadata": {},
   "source": [
    "### 4.4. Determine which model gives us the higher accuracy score"
   ]
  },
  {
   "cell_type": "markdown",
   "metadata": {},
   "source": [
    "At this point, we have enough information to determine which model is the best for this application. So let's generate the final model using the code below which will evaluate the higher accuracy score among the 3 models and generate it using the best hyperparameters obtained."
   ]
  },
  {
   "cell_type": "code",
   "execution_count": 18,
   "metadata": {},
   "outputs": [],
   "source": [
    "# If-else statement to evaluate which accuracy score value from the 3 models used is higher. Depending of which is determined\n",
    "# to be higher, create a 'final_model' with the corresponding algorithm and its best hyperparameters obtained.\n",
    "if dtc_result > rfc_result:\n",
    "    \n",
    "    if dtc_result > lr_result:\n",
    "        \n",
    "        model_final = DecisionTreeClassifier(random_state=12345, max_depth=dtc_depth, min_samples_split=dtc_split, min_samples_leaf=dtc_leaf)\n",
    "        \n",
    "    else:\n",
    "        \n",
    "        model_final = LogisticRegression(random_state=12345, solver=lr_solver)\n",
    "        \n",
    "else:\n",
    "    \n",
    "    if rfc_result > lr_result:\n",
    "        \n",
    "        model_final = RandomForestClassifier(random_state=12345, n_estimators=rfc_est, max_depth=rfc_depth, min_samples_split=rfc_split, min_samples_leaf=rfc_leaf)\n",
    "        \n",
    "    else:\n",
    "        \n",
    "        model_final = LogisticRegression(random_state=12345, solver=lr_solver)"
   ]
  },
  {
   "cell_type": "markdown",
   "metadata": {},
   "source": [
    "Applying a new confusion matrix plot (seen below) for the best model obtained we can conclude the following:\n",
    "\n",
    " * Our model can `predict as 0 the 88%` of the total values which are 0 of the set.\n",
    " * Our model can `predict as 1 the 58%` of the total values which are 1 of the set."
   ]
  },
  {
   "cell_type": "code",
   "execution_count": 21,
   "metadata": {},
   "outputs": [
    {
     "data": {
      "text/plain": [
       "RandomForestClassifier(max_depth=10, min_samples_leaf=2, min_samples_split=5,\n",
       "                       n_estimators=60, random_state=12345)"
      ]
     },
     "execution_count": 21,
     "metadata": {},
     "output_type": "execute_result"
    }
   ],
   "source": [
    "model_final.fit(features_val, target_val)"
   ]
  },
  {
   "cell_type": "code",
   "execution_count": 22,
   "metadata": {},
   "outputs": [
    {
     "data": {
      "image/png": "[encoded data removed]",
      "text/plain": [
       "<Figure size 640x480 with 2 Axes>"
      ]
     },
     "metadata": {},
     "output_type": "display_data"
    }
   ],
   "source": [
    "plot_confusion_matrix(estimator=model_final, X=features_val, y_true=target_val,\n",
    "                      normalize='true', cmap='Blues')\n",
    "plt.show()"
   ]
  },
  {
   "cell_type": "markdown",
   "metadata": {},
   "source": [
    "Once this is complete, we can see the RFC model (Random Forest Classifier) is the one with the highest accuracy score. We can now use this new model with the validation set and obtain the accuracy level for this configuration."
   ]
  },
  {
   "cell_type": "code",
   "execution_count": 23,
   "metadata": {},
   "outputs": [
    {
     "data": {
      "text/plain": [
       "RandomForestClassifier(max_depth=10, min_samples_leaf=2, min_samples_split=5,\n",
       "                       n_estimators=60, random_state=12345)"
      ]
     },
     "execution_count": 23,
     "metadata": {},
     "output_type": "execute_result"
    }
   ],
   "source": [
    "model_final.fit(features_test, target_test)"
   ]
  },
  {
   "cell_type": "markdown",
   "metadata": {},
   "source": [
    "<div class=\"alert alert-block alert-success\">\n",
    "\n",
    "<b>Comentario del revisor. (Iteración 1)\n",
    "    \n",
    "</b> <a class=\"tocSkip\"></a>\n",
    "\n",
    "Una logica perfecta para definir cual fue nuestro mejor modelo para así elegirlo y utilizarlo. Has hecho un grandisimo trabajo Juan!"
   ]
  },
  {
   "cell_type": "markdown",
   "metadata": {},
   "source": [
    "### 4.5. Conclusions"
   ]
  },
  {
   "cell_type": "markdown",
   "metadata": {},
   "source": [
    "As we could see, the best model overall was the RandomForestClassifier, seconds DecisionTreeClassifier and lastly the LinearRegression model. Despite this, it's undeniable the RFC needs more processing time than the other options, so we need to be cautious when we intend to apply it on our models and analyze if other options are better overall.\n",
    "\n",
    "Also, we could see by the confusion matrix plots despite the DTC and RFC matrices are quite similar, once we see the LinearRegression model matrix we can see a drastical difference in the results (indicating we should not use that algorithm).\n",
    "\n",
    "Overall, even though we cannot generalize an algorith usage over the others, we must analyze the best model through various strategies (the iteration strategy we used in this project is only one of them) and then adjust it to improve its results."
   ]
  },
  {
   "cell_type": "markdown",
   "metadata": {},
   "source": [
    "## 5. Using Random Forest Classifier with test sets"
   ]
  },
  {
   "cell_type": "markdown",
   "metadata": {},
   "source": [
    "On past section we determined the RandomForestClassifier is the best model for the current application, so now we can use the test sets to determine our new accuracy score with the best hyperparameters configuration we got.\n",
    "\n",
    "To compare how the values change increasing the quantity of data we will get the score for the test sets and the score for the whole dataset features and target. We can see the values differ drastically among themselves, maybe implying an underfitting, but if this is the case we would need much more processing time for a minimal increase in the scores (currently we have almost 80% of accuracy (said other way, we find the correct answer 4 of each 5 customers), so maybe this would be enough)."
   ]
  },
  {
   "cell_type": "code",
   "execution_count": 24,
   "metadata": {},
   "outputs": [],
   "source": [
    "results = model_final.score(features_test, target_test)\n",
    "results_data = model_final.score(features, target)"
   ]
  },
  {
   "cell_type": "code",
   "execution_count": 25,
   "metadata": {},
   "outputs": [
    {
     "name": "stdout",
     "output_type": "stream",
     "text": [
      "Results with best fitting model using validation sets is: 0.9498432601880877\n"
     ]
    }
   ],
   "source": [
    "print(f\"Results with best fitting model using validation sets is: {results}\")"
   ]
  },
  {
   "cell_type": "code",
   "execution_count": 26,
   "metadata": {},
   "outputs": [
    {
     "name": "stdout",
     "output_type": "stream",
     "text": [
      "Results with best fitting model using the complete dataset is: 0.7937149968886124\n"
     ]
    }
   ],
   "source": [
    "print(f\"Results with best fitting model using the complete dataset is: {results_data}\")"
   ]
  },
  {
   "cell_type": "markdown",
   "metadata": {},
   "source": [
    "Applying a confusion matrix to the test sets, we can see the following:\n",
    "\n",
    " * Our model can `predict as 0 the 99%` of the total values which are 0 of the set.\n",
    " * Our model can `predict as 1 the 87%` of the total values which are 1 of the set."
   ]
  },
  {
   "cell_type": "code",
   "execution_count": 27,
   "metadata": {},
   "outputs": [
    {
     "data": {
      "image/png": "[encoded data removed]",
      "text/plain": [
       "<Figure size 640x480 with 2 Axes>"
      ]
     },
     "metadata": {},
     "output_type": "display_data"
    }
   ],
   "source": [
    "plot_confusion_matrix(estimator=model_final, X=features_test, y_true=target_test,\n",
    "                      normalize='true', cmap='Blues')\n",
    "plt.show()"
   ]
  },
  {
   "cell_type": "markdown",
   "metadata": {},
   "source": [
    "<div class=\"alert alert-block alert-success\">\n",
    "\n",
    "<b>Comentario del revisor. (Iteración 1)\n",
    "    \n",
    "</b> <a class=\"tocSkip\"></a>\n",
    "\n",
    "Excelente! Tal como se debía hemos elegido el mejor modelo y lo hemos testeado contra nuestro conjunto de pruebas, muy buena imlementación!"
   ]
  },
  {
   "cell_type": "markdown",
   "metadata": {},
   "source": [
    "## 6. Sanity test"
   ]
  },
  {
   "cell_type": "markdown",
   "metadata": {},
   "source": [
    "A sanity test is a basic test to quickly evaluate whether a claim or the result of a calculation can possibly be true. In our case we will evaluate this using a DummyClassifier algorithm, set the strategy as \"prior\" (as this is the best strategy for this application as we could determine) and see if our model is better that the \"causality\"."
   ]
  },
  {
   "cell_type": "code",
   "execution_count": 28,
   "metadata": {},
   "outputs": [],
   "source": [
    "model_sanity = DummyClassifier(random_state=12345, strategy='prior')"
   ]
  },
  {
   "cell_type": "code",
   "execution_count": 29,
   "metadata": {},
   "outputs": [
    {
     "data": {
      "text/plain": [
       "DummyClassifier(random_state=12345)"
      ]
     },
     "execution_count": 29,
     "metadata": {},
     "output_type": "execute_result"
    }
   ],
   "source": [
    "model_sanity.fit(features_test, target_test)"
   ]
  },
  {
   "cell_type": "code",
   "execution_count": 30,
   "metadata": {},
   "outputs": [],
   "source": [
    "results_sanity = model_sanity.score(features_test, target_test)"
   ]
  },
  {
   "cell_type": "code",
   "execution_count": 31,
   "metadata": {},
   "outputs": [
    {
     "name": "stdout",
     "output_type": "stream",
     "text": [
      "Results with best sanity test model using validation sets is: 0.6865203761755486.\n"
     ]
    }
   ],
   "source": [
    "print(f\"Results with best sanity test model using validation sets is: {results_sanity}.\")"
   ]
  },
  {
   "cell_type": "markdown",
   "metadata": {},
   "source": [
    "We get by the DummyClassifier model our accuracy score is less than the 70% (worse than we got from the RFC model), so we can use this as an indicative to conclude our model is better than the \"causality\". Nevertheless, let's visualize in a confusion matrix how the information of this sanity test behaves and complement our information with new information."
   ]
  },
  {
   "cell_type": "code",
   "execution_count": 32,
   "metadata": {
    "scrolled": false
   },
   "outputs": [
    {
     "data": {
      "image/png": "[encoded data removed]",
      "text/plain": [
       "<Figure size 640x480 with 2 Axes>"
      ]
     },
     "metadata": {},
     "output_type": "display_data"
    }
   ],
   "source": [
    "plot_confusion_matrix(estimator=model_sanity, X=features_test, y_true=target_test,\n",
    "                      normalize='true', cmap='Blues')\n",
    "plt.show()"
   ]
  },
  {
   "cell_type": "markdown",
   "metadata": {},
   "source": [
    "<div class=\"alert alert-block alert-success\">\n",
    "\n",
    "<b>Comentario del revisor. (Iteración 1)\n",
    "    \n",
    "</b> <a class=\"tocSkip\"></a>\n",
    "\n",
    "    \n",
    "Excelentes pruebas de cordura Juan, estas son muy importantes ya que nos permiten corroborar que nuestro modelo se comporta mejor que una opción básica confirmandonos que vale la pena utilizarlo. Excelente!"
   ]
  },
  {
   "cell_type": "markdown",
   "metadata": {},
   "source": [
    "Using the parameter strategy as \"prior\" we can see the model sets all the predicted values as 0, which is not what should be happening as we are losing valuable predictions for our customers."
   ]
  },
  {
   "cell_type": "markdown",
   "metadata": {},
   "source": [
    "### 6.1. Conclusion"
   ]
  },
  {
   "cell_type": "markdown",
   "metadata": {},
   "source": [
    "Comparing our accuracy scores for the sanity test and our configured model we can see our model has better accuracy score and our predictions are more accurate than the sanity test. By this way, we can conclude our model has passed the sanity test."
   ]
  },
  {
   "cell_type": "markdown",
   "metadata": {},
   "source": [
    "## 7. General conclusions"
   ]
  },
  {
   "cell_type": "markdown",
   "metadata": {},
   "source": [
    "Through this project we could train classifier models to predict the best plan for Megaline customers from a list of two plans: Smart and Ultra. With this in mind we trained 3 different algorithms ans iterate over their hyperparamenters to obtain the best configuration to get the higher accuracy score possible and then to train the model which gave us the highest accuracy score.\n",
    "\n",
    "We needed to consider either the accuracy score obtained and the processing time and concluded the Random Forest Classifier was our best option. Setting its hyperparameters we obtained a high enough accuracy score and test it with the test sets.\n",
    "\n",
    "Lastly we applied a sanity test to prove our information was being predicted as intended and not being generated randomly. Using a Dummy Classifier model we could prove our data was not being generated unbiased and determined the sanity test was passed.\n",
    "\n",
    "Final conclusions for this project are:\n",
    "\n",
    " * Test various models to see how the information is being handled from different strategies and then select the one who fits the application better.\n",
    " * Verify always the data you are obtaining from your models are supposed to be the way you are obtaining them."
   ]
  },
  {
   "cell_type": "markdown",
   "metadata": {},
   "source": [
    "<div class=\"alert alert-block alert-success\">\n",
    "\n",
    "<b>Comentario del revisor. (Iteración 1)\n",
    "    \n",
    "</b> <a class=\"tocSkip\"></a>\n",
    "\n",
    "Quería felicitarte Juan porque has tenido un gran compromiso con tus conclusiones y con tus códigos a lo largo de todo el trabajo, el trabajo en si está excelente, nuevamente felicitaciones!"
   ]
  },
  {
   "cell_type": "code",
   "execution_count": null,
   "metadata": {},
   "outputs": [],
   "source": []
  }
 ],
 "metadata": {
  "ExecuteTimeLog": [
   {
    "duration": 442,
    "start_time": "2024-05-25T18:03:47.537Z"
   },
   {
    "duration": 1028,
    "start_time": "2024-05-25T18:04:34.923Z"
   },
   {
    "duration": 18,
    "start_time": "2024-05-25T18:04:54.188Z"
   },
   {
    "duration": 32,
    "start_time": "2024-05-25T18:05:47.987Z"
   },
   {
    "duration": 657,
    "start_time": "2024-05-25T20:28:13.022Z"
   },
   {
    "duration": 5,
    "start_time": "2024-05-25T20:29:04.139Z"
   },
   {
    "duration": 6,
    "start_time": "2024-05-25T20:31:47.547Z"
   },
   {
    "duration": 21,
    "start_time": "2024-05-25T20:31:54.858Z"
   },
   {
    "duration": 21,
    "start_time": "2024-05-25T20:32:07.689Z"
   },
   {
    "duration": 7,
    "start_time": "2024-05-25T20:32:39.538Z"
   },
   {
    "duration": 17,
    "start_time": "2024-05-25T20:32:49.147Z"
   },
   {
    "duration": 17,
    "start_time": "2024-05-25T20:32:57.517Z"
   },
   {
    "duration": 7,
    "start_time": "2024-05-25T20:33:03.604Z"
   },
   {
    "duration": 8,
    "start_time": "2024-05-25T20:33:10.053Z"
   },
   {
    "duration": 5,
    "start_time": "2024-05-25T20:37:54.284Z"
   },
   {
    "duration": 16,
    "start_time": "2024-05-25T20:38:03.900Z"
   },
   {
    "duration": 17,
    "start_time": "2024-05-25T20:38:10.156Z"
   },
   {
    "duration": 8,
    "start_time": "2024-05-25T20:38:16.294Z"
   },
   {
    "duration": 6,
    "start_time": "2024-05-25T20:38:22.287Z"
   },
   {
    "duration": 1225,
    "start_time": "2024-05-25T23:48:06.302Z"
   },
   {
    "duration": 15,
    "start_time": "2024-05-25T23:48:10.396Z"
   },
   {
    "duration": 32,
    "start_time": "2024-05-25T23:48:12.293Z"
   },
   {
    "duration": 5,
    "start_time": "2024-05-25T23:48:15.422Z"
   },
   {
    "duration": 6,
    "start_time": "2024-05-25T23:48:18.360Z"
   },
   {
    "duration": 12,
    "start_time": "2024-05-25T23:48:21.367Z"
   },
   {
    "duration": 4,
    "start_time": "2024-05-25T23:49:33.311Z"
   },
   {
    "duration": 42,
    "start_time": "2024-05-25T23:50:14.153Z"
   },
   {
    "duration": 6,
    "start_time": "2024-05-25T23:50:45.524Z"
   },
   {
    "duration": 12,
    "start_time": "2024-05-25T23:50:53.299Z"
   },
   {
    "duration": 6,
    "start_time": "2024-05-25T23:51:00.519Z"
   },
   {
    "duration": 3,
    "start_time": "2024-05-26T00:14:34.278Z"
   },
   {
    "duration": 118,
    "start_time": "2024-05-26T00:15:22.753Z"
   },
   {
    "duration": 140,
    "start_time": "2024-05-26T00:16:00.713Z"
   },
   {
    "duration": 624,
    "start_time": "2024-05-26T00:22:38.057Z"
   },
   {
    "duration": 2206,
    "start_time": "2024-05-26T00:23:31.073Z"
   },
   {
    "duration": 15,
    "start_time": "2024-05-26T00:35:01.881Z"
   },
   {
    "duration": 2049,
    "start_time": "2024-05-26T00:36:43.826Z"
   },
   {
    "duration": 2069,
    "start_time": "2024-05-26T00:37:21.513Z"
   },
   {
    "duration": 2042,
    "start_time": "2024-05-26T00:37:47.223Z"
   },
   {
    "duration": 2015,
    "start_time": "2024-05-26T00:37:55.572Z"
   },
   {
    "duration": 7,
    "start_time": "2024-05-26T00:39:24.505Z"
   },
   {
    "duration": 16,
    "start_time": "2024-05-26T00:47:13.966Z"
   },
   {
    "duration": 13,
    "start_time": "2024-05-26T00:47:41.380Z"
   },
   {
    "duration": 4,
    "start_time": "2024-05-26T00:49:37.276Z"
   },
   {
    "duration": 10,
    "start_time": "2024-05-26T00:50:56.790Z"
   },
   {
    "duration": 12,
    "start_time": "2024-05-26T00:52:26.218Z"
   },
   {
    "duration": 87,
    "start_time": "2024-05-26T00:52:29.246Z"
   },
   {
    "duration": 10,
    "start_time": "2024-05-26T00:53:37.285Z"
   },
   {
    "duration": 27,
    "start_time": "2024-05-26T00:53:39.664Z"
   },
   {
    "duration": 1892,
    "start_time": "2024-05-26T00:54:00.469Z"
   },
   {
    "duration": 129732,
    "start_time": "2024-05-26T00:54:14.652Z"
   },
   {
    "duration": 47510,
    "start_time": "2024-05-26T00:56:36.458Z"
   },
   {
    "duration": 6,
    "start_time": "2024-05-26T01:02:52.130Z"
   },
   {
    "duration": 6,
    "start_time": "2024-05-26T01:03:00.491Z"
   },
   {
    "duration": 12,
    "start_time": "2024-05-26T01:05:29.959Z"
   },
   {
    "duration": 12,
    "start_time": "2024-05-26T01:05:45.853Z"
   },
   {
    "duration": 11,
    "start_time": "2024-05-26T01:06:04.446Z"
   },
   {
    "duration": 1820,
    "start_time": "2024-05-26T01:06:11.926Z"
   },
   {
    "duration": 5,
    "start_time": "2024-05-26T01:06:19.997Z"
   },
   {
    "duration": 12,
    "start_time": "2024-05-26T01:07:48.444Z"
   },
   {
    "duration": 9,
    "start_time": "2024-05-26T01:07:51.410Z"
   },
   {
    "duration": 5,
    "start_time": "2024-05-26T01:07:56.924Z"
   },
   {
    "duration": 12,
    "start_time": "2024-05-26T01:08:19.003Z"
   },
   {
    "duration": 7,
    "start_time": "2024-05-26T01:08:43.780Z"
   },
   {
    "duration": 53,
    "start_time": "2024-05-26T01:08:47.911Z"
   },
   {
    "duration": 14,
    "start_time": "2024-05-26T01:08:54.857Z"
   },
   {
    "duration": 53,
    "start_time": "2024-05-26T01:08:57.684Z"
   },
   {
    "duration": 12,
    "start_time": "2024-05-26T01:09:22.216Z"
   },
   {
    "duration": 6,
    "start_time": "2024-05-26T01:09:24.916Z"
   },
   {
    "duration": 6,
    "start_time": "2024-05-26T01:09:28.714Z"
   },
   {
    "duration": 1824,
    "start_time": "2024-05-26T01:09:34.389Z"
   },
   {
    "duration": 6,
    "start_time": "2024-05-26T01:09:48.481Z"
   },
   {
    "duration": 6,
    "start_time": "2024-05-26T01:09:59.172Z"
   },
   {
    "duration": 1894,
    "start_time": "2024-05-26T01:10:04.309Z"
   },
   {
    "duration": 13,
    "start_time": "2024-05-26T01:12:59.847Z"
   },
   {
    "duration": 1843,
    "start_time": "2024-05-26T01:15:33.358Z"
   },
   {
    "duration": 14,
    "start_time": "2024-05-26T01:19:16.004Z"
   },
   {
    "duration": 13,
    "start_time": "2024-05-26T01:26:14.534Z"
   },
   {
    "duration": 14,
    "start_time": "2024-05-26T01:26:23.014Z"
   },
   {
    "duration": 109072,
    "start_time": "2024-05-26T01:26:25.961Z"
   },
   {
    "duration": 14,
    "start_time": "2024-05-26T01:29:05.902Z"
   },
   {
    "duration": 15,
    "start_time": "2024-05-26T01:29:13.664Z"
   },
   {
    "duration": 14,
    "start_time": "2024-05-26T01:29:18.501Z"
   },
   {
    "duration": 111482,
    "start_time": "2024-05-26T01:29:21.675Z"
   },
   {
    "duration": 17,
    "start_time": "2024-05-26T01:31:28.657Z"
   },
   {
    "duration": 1913,
    "start_time": "2024-05-26T01:31:30.595Z"
   },
   {
    "duration": 1296,
    "start_time": "2024-05-26T03:41:33.215Z"
   },
   {
    "duration": 26,
    "start_time": "2024-05-26T03:41:34.514Z"
   },
   {
    "duration": 37,
    "start_time": "2024-05-26T03:41:34.543Z"
   },
   {
    "duration": 6,
    "start_time": "2024-05-26T03:41:34.584Z"
   },
   {
    "duration": 34,
    "start_time": "2024-05-26T03:41:34.595Z"
   },
   {
    "duration": 7,
    "start_time": "2024-05-26T03:41:34.633Z"
   },
   {
    "duration": 16,
    "start_time": "2024-05-26T03:41:34.643Z"
   },
   {
    "duration": 2002,
    "start_time": "2024-05-26T03:41:34.662Z"
   },
   {
    "duration": 16,
    "start_time": "2024-05-26T03:41:36.667Z"
   },
   {
    "duration": 111661,
    "start_time": "2024-05-26T03:41:36.686Z"
   },
   {
    "duration": 4,
    "start_time": "2024-05-26T03:45:11.655Z"
   },
   {
    "duration": 4,
    "start_time": "2024-05-26T04:01:42.222Z"
   },
   {
    "duration": 494,
    "start_time": "2024-05-26T04:02:03.871Z"
   },
   {
    "duration": 5,
    "start_time": "2024-05-26T04:02:27.563Z"
   },
   {
    "duration": 48,
    "start_time": "2024-05-26T04:02:29.857Z"
   },
   {
    "duration": 5,
    "start_time": "2024-05-26T04:02:40.388Z"
   },
   {
    "duration": 43,
    "start_time": "2024-05-26T04:02:42.548Z"
   },
   {
    "duration": 5,
    "start_time": "2024-05-26T04:02:54.016Z"
   },
   {
    "duration": 14,
    "start_time": "2024-05-26T04:02:55.779Z"
   },
   {
    "duration": 216,
    "start_time": "2024-05-26T04:03:25.012Z"
   },
   {
    "duration": 14,
    "start_time": "2024-05-26T04:03:55.987Z"
   },
   {
    "duration": 17,
    "start_time": "2024-05-26T04:10:06.834Z"
   },
   {
    "duration": 122511,
    "start_time": "2024-05-26T04:10:09.752Z"
   },
   {
    "duration": 15,
    "start_time": "2024-05-26T04:12:26.590Z"
   },
   {
    "duration": 120773,
    "start_time": "2024-05-26T04:12:29.469Z"
   },
   {
    "duration": 5,
    "start_time": "2024-05-26T04:15:05.496Z"
   },
   {
    "duration": 5,
    "start_time": "2024-05-26T04:15:15.947Z"
   },
   {
    "duration": 51,
    "start_time": "2024-05-26T04:15:17.882Z"
   },
   {
    "duration": 5,
    "start_time": "2024-05-26T04:15:26.782Z"
   },
   {
    "duration": 15,
    "start_time": "2024-05-26T04:15:28.043Z"
   },
   {
    "duration": 15,
    "start_time": "2024-05-26T04:15:46.179Z"
   },
   {
    "duration": 121146,
    "start_time": "2024-05-26T04:15:48.836Z"
   },
   {
    "duration": 16,
    "start_time": "2024-05-26T04:19:48.999Z"
   },
   {
    "duration": 14,
    "start_time": "2024-05-26T04:20:01.378Z"
   },
   {
    "duration": 2402,
    "start_time": "2024-05-26T04:20:04.228Z"
   },
   {
    "duration": 15,
    "start_time": "2024-05-26T04:20:15.037Z"
   },
   {
    "duration": 121872,
    "start_time": "2024-05-26T04:20:17.973Z"
   },
   {
    "duration": 4,
    "start_time": "2024-05-26T04:32:25.203Z"
   },
   {
    "duration": 30,
    "start_time": "2024-05-26T04:33:33.646Z"
   },
   {
    "duration": 69,
    "start_time": "2024-05-26T04:34:14.975Z"
   },
   {
    "duration": 12,
    "start_time": "2024-05-26T04:34:31.600Z"
   },
   {
    "duration": 13,
    "start_time": "2024-05-26T04:34:57.521Z"
   },
   {
    "duration": 1206,
    "start_time": "2024-05-26T21:13:45.599Z"
   },
   {
    "duration": 21,
    "start_time": "2024-05-26T21:13:46.810Z"
   },
   {
    "duration": 38,
    "start_time": "2024-05-26T21:13:46.834Z"
   },
   {
    "duration": 6,
    "start_time": "2024-05-26T21:13:46.876Z"
   },
   {
    "duration": 7,
    "start_time": "2024-05-26T21:13:46.887Z"
   },
   {
    "duration": 8,
    "start_time": "2024-05-26T21:13:46.933Z"
   },
   {
    "duration": 17,
    "start_time": "2024-05-26T21:13:46.944Z"
   },
   {
    "duration": 2303,
    "start_time": "2024-05-26T21:13:46.965Z"
   },
   {
    "duration": 17,
    "start_time": "2024-05-26T21:13:49.272Z"
   },
   {
    "duration": 120961,
    "start_time": "2024-05-26T21:13:49.294Z"
   },
   {
    "duration": 5,
    "start_time": "2024-05-26T21:15:50.259Z"
   },
   {
    "duration": 19,
    "start_time": "2024-05-26T21:15:50.268Z"
   },
   {
    "duration": 4,
    "start_time": "2024-05-26T21:15:50.290Z"
   },
   {
    "duration": 116,
    "start_time": "2024-05-26T21:15:50.299Z"
   },
   {
    "duration": 13,
    "start_time": "2024-05-26T21:15:50.433Z"
   },
   {
    "duration": 5,
    "start_time": "2024-05-26T21:15:50.449Z"
   },
   {
    "duration": 17,
    "start_time": "2024-05-26T21:18:19.020Z"
   },
   {
    "duration": 114704,
    "start_time": "2024-05-26T21:18:21.848Z"
   },
   {
    "duration": 15,
    "start_time": "2024-05-26T22:07:08.589Z"
   },
   {
    "duration": 14,
    "start_time": "2024-05-26T22:07:13.726Z"
   },
   {
    "duration": 410399,
    "start_time": "2024-05-26T22:07:15.898Z"
   },
   {
    "duration": 15,
    "start_time": "2024-05-26T22:16:47.666Z"
   },
   {
    "duration": 2196,
    "start_time": "2024-05-26T22:17:09.176Z"
   },
   {
    "duration": 15,
    "start_time": "2024-05-26T22:17:51.364Z"
   },
   {
    "duration": 404333,
    "start_time": "2024-05-26T22:17:56.637Z"
   },
   {
    "duration": 6,
    "start_time": "2024-05-26T22:25:55.159Z"
   },
   {
    "duration": 17,
    "start_time": "2024-05-26T22:26:04.254Z"
   },
   {
    "duration": 3,
    "start_time": "2024-05-26T22:26:54.132Z"
   },
   {
    "duration": 97,
    "start_time": "2024-05-26T22:26:58.692Z"
   },
   {
    "duration": 14,
    "start_time": "2024-05-26T22:27:02.361Z"
   },
   {
    "duration": 5,
    "start_time": "2024-05-26T22:27:04.740Z"
   },
   {
    "duration": 6,
    "start_time": "2024-05-26T22:28:44.474Z"
   },
   {
    "duration": 16,
    "start_time": "2024-05-26T22:28:46.892Z"
   },
   {
    "duration": 14,
    "start_time": "2024-05-26T22:29:08.366Z"
   },
   {
    "duration": 2213,
    "start_time": "2024-05-26T22:29:27.475Z"
   },
   {
    "duration": 15,
    "start_time": "2024-05-26T22:29:57.910Z"
   },
   {
    "duration": 407937,
    "start_time": "2024-05-26T22:30:12.110Z"
   },
   {
    "duration": 6,
    "start_time": "2024-05-26T22:41:27.115Z"
   },
   {
    "duration": 112,
    "start_time": "2024-05-26T22:41:44.126Z"
   },
   {
    "duration": 12,
    "start_time": "2024-05-26T22:41:49.525Z"
   },
   {
    "duration": 5,
    "start_time": "2024-05-26T22:41:52.237Z"
   },
   {
    "duration": 4,
    "start_time": "2024-05-26T22:42:59.340Z"
   },
   {
    "duration": 34,
    "start_time": "2024-05-26T22:43:46.819Z"
   },
   {
    "duration": 4,
    "start_time": "2024-05-26T22:44:13.624Z"
   },
   {
    "duration": 6,
    "start_time": "2024-05-26T22:45:25.006Z"
   },
   {
    "duration": 454,
    "start_time": "2024-05-26T22:45:35.524Z"
   },
   {
    "duration": 6,
    "start_time": "2024-05-26T22:45:51.166Z"
   },
   {
    "duration": 22,
    "start_time": "2024-05-26T22:45:53.736Z"
   },
   {
    "duration": 18,
    "start_time": "2024-05-26T22:46:51.531Z"
   },
   {
    "duration": 5,
    "start_time": "2024-05-26T22:47:30.297Z"
   },
   {
    "duration": 22,
    "start_time": "2024-05-26T22:47:59.820Z"
   },
   {
    "duration": 23,
    "start_time": "2024-05-26T22:48:05.376Z"
   },
   {
    "duration": 6,
    "start_time": "2024-05-26T22:48:32.435Z"
   },
   {
    "duration": 5,
    "start_time": "2024-05-26T22:48:38.742Z"
   },
   {
    "duration": 23,
    "start_time": "2024-05-26T22:48:40.582Z"
   },
   {
    "duration": 24,
    "start_time": "2024-05-26T22:48:52.246Z"
   },
   {
    "duration": 6,
    "start_time": "2024-05-26T22:48:56.462Z"
   },
   {
    "duration": 24,
    "start_time": "2024-05-26T22:48:58.188Z"
   },
   {
    "duration": 5,
    "start_time": "2024-05-26T22:49:05.648Z"
   },
   {
    "duration": 18,
    "start_time": "2024-05-26T22:49:07.419Z"
   },
   {
    "duration": 24,
    "start_time": "2024-05-26T22:49:50.716Z"
   },
   {
    "duration": 164,
    "start_time": "2024-05-26T22:50:13.964Z"
   },
   {
    "duration": 210,
    "start_time": "2024-05-26T22:50:36.733Z"
   },
   {
    "duration": 50,
    "start_time": "2024-05-26T22:50:55.375Z"
   },
   {
    "duration": 51,
    "start_time": "2024-05-26T22:50:59.228Z"
   },
   {
    "duration": 17,
    "start_time": "2024-05-26T22:51:08.833Z"
   },
   {
    "duration": 5,
    "start_time": "2024-05-26T23:12:38.277Z"
   },
   {
    "duration": 8,
    "start_time": "2024-05-26T23:13:54.070Z"
   },
   {
    "duration": 29,
    "start_time": "2024-05-26T23:14:09.875Z"
   },
   {
    "duration": 7,
    "start_time": "2024-05-27T04:09:56.001Z"
   },
   {
    "duration": 5,
    "start_time": "2024-05-27T04:47:35.518Z"
   },
   {
    "duration": 11,
    "start_time": "2024-05-27T04:47:35.528Z"
   },
   {
    "duration": 30,
    "start_time": "2024-05-27T04:47:35.542Z"
   },
   {
    "duration": 7,
    "start_time": "2024-05-27T04:47:35.576Z"
   },
   {
    "duration": 59,
    "start_time": "2024-05-27T04:47:35.587Z"
   },
   {
    "duration": 6,
    "start_time": "2024-05-27T04:47:35.649Z"
   },
   {
    "duration": 8,
    "start_time": "2024-05-27T04:47:35.657Z"
   },
   {
    "duration": 6,
    "start_time": "2024-05-27T04:47:35.668Z"
   },
   {
    "duration": 59,
    "start_time": "2024-05-27T04:47:35.677Z"
   },
   {
    "duration": 2272,
    "start_time": "2024-05-27T04:47:35.741Z"
   },
   {
    "duration": 28,
    "start_time": "2024-05-27T04:47:38.016Z"
   },
   {
    "duration": 399180,
    "start_time": "2024-05-27T04:47:38.046Z"
   },
   {
    "duration": 9,
    "start_time": "2024-05-27T04:54:17.233Z"
   },
   {
    "duration": 21,
    "start_time": "2024-05-27T04:54:17.250Z"
   },
   {
    "duration": 8,
    "start_time": "2024-05-27T04:54:17.275Z"
   },
   {
    "duration": 70,
    "start_time": "2024-05-27T04:54:17.286Z"
   },
   {
    "duration": 17,
    "start_time": "2024-05-27T04:54:17.359Z"
   },
   {
    "duration": 6,
    "start_time": "2024-05-27T04:54:17.380Z"
   },
   {
    "duration": 42,
    "start_time": "2024-05-27T04:54:17.390Z"
   },
   {
    "duration": 1240,
    "start_time": "2024-05-27T19:52:40.631Z"
   },
   {
    "duration": 21,
    "start_time": "2024-05-27T19:52:41.875Z"
   },
   {
    "duration": 42,
    "start_time": "2024-05-27T19:52:41.898Z"
   },
   {
    "duration": 10,
    "start_time": "2024-05-27T19:52:41.944Z"
   },
   {
    "duration": 31,
    "start_time": "2024-05-27T19:52:41.957Z"
   },
   {
    "duration": 9,
    "start_time": "2024-05-27T19:52:41.991Z"
   },
   {
    "duration": 17,
    "start_time": "2024-05-27T19:52:42.032Z"
   },
   {
    "duration": 8,
    "start_time": "2024-05-27T19:52:42.055Z"
   },
   {
    "duration": 23,
    "start_time": "2024-05-27T19:52:42.065Z"
   },
   {
    "duration": 2354,
    "start_time": "2024-05-27T19:52:42.093Z"
   },
   {
    "duration": 18,
    "start_time": "2024-05-27T19:52:44.450Z"
   },
   {
    "duration": 408816,
    "start_time": "2024-05-27T19:52:44.472Z"
   },
   {
    "duration": 7,
    "start_time": "2024-05-27T19:59:33.290Z"
   },
   {
    "duration": 36,
    "start_time": "2024-05-27T19:59:33.300Z"
   },
   {
    "duration": 7,
    "start_time": "2024-05-27T19:59:33.339Z"
   },
   {
    "duration": 52,
    "start_time": "2024-05-27T19:59:33.349Z"
   },
   {
    "duration": 45,
    "start_time": "2024-05-27T19:59:33.404Z"
   },
   {
    "duration": 4,
    "start_time": "2024-05-27T19:59:33.451Z"
   },
   {
    "duration": 5,
    "start_time": "2024-05-27T19:59:33.458Z"
   },
   {
    "duration": 5,
    "start_time": "2024-05-27T23:22:58.405Z"
   },
   {
    "duration": 4,
    "start_time": "2024-05-27T23:26:24.537Z"
   },
   {
    "duration": 7,
    "start_time": "2024-05-27T23:27:20.328Z"
   },
   {
    "duration": 6,
    "start_time": "2024-05-27T23:28:03.766Z"
   },
   {
    "duration": 5,
    "start_time": "2024-05-27T23:28:35.214Z"
   },
   {
    "duration": 4,
    "start_time": "2024-05-27T23:29:04.622Z"
   },
   {
    "duration": 7,
    "start_time": "2024-05-27T23:29:05.473Z"
   },
   {
    "duration": 5,
    "start_time": "2024-05-27T23:29:06.370Z"
   },
   {
    "duration": 4,
    "start_time": "2024-05-27T23:29:07.405Z"
   },
   {
    "duration": 4,
    "start_time": "2024-05-27T23:29:14.475Z"
   },
   {
    "duration": 7,
    "start_time": "2024-05-27T23:29:15.299Z"
   },
   {
    "duration": 5,
    "start_time": "2024-05-27T23:29:16.163Z"
   },
   {
    "duration": 5,
    "start_time": "2024-05-27T23:29:17.069Z"
   },
   {
    "duration": 4,
    "start_time": "2024-05-27T23:34:08.179Z"
   },
   {
    "duration": 11,
    "start_time": "2024-05-27T23:37:21.992Z"
   },
   {
    "duration": 5,
    "start_time": "2024-05-27T23:40:15.405Z"
   },
   {
    "duration": 4188,
    "start_time": "2024-05-27T23:40:26.428Z"
   },
   {
    "duration": 5,
    "start_time": "2024-05-27T23:42:03.886Z"
   },
   {
    "duration": 236,
    "start_time": "2024-05-27T23:42:46.349Z"
   },
   {
    "duration": 3,
    "start_time": "2024-05-27T23:43:21.703Z"
   },
   {
    "duration": 10,
    "start_time": "2024-05-27T23:43:22.532Z"
   },
   {
    "duration": 4,
    "start_time": "2024-05-27T23:43:23.396Z"
   },
   {
    "duration": 5,
    "start_time": "2024-05-27T23:43:24.178Z"
   },
   {
    "duration": 4,
    "start_time": "2024-05-27T23:43:24.947Z"
   },
   {
    "duration": 288,
    "start_time": "2024-05-27T23:43:26.463Z"
   },
   {
    "duration": 561,
    "start_time": "2024-05-28T00:00:18.751Z"
   },
   {
    "duration": 7,
    "start_time": "2024-05-28T00:00:24.900Z"
   },
   {
    "duration": 5,
    "start_time": "2024-05-28T00:00:30.328Z"
   },
   {
    "duration": 243,
    "start_time": "2024-05-28T00:01:39.650Z"
   },
   {
    "duration": 5,
    "start_time": "2024-05-28T00:02:04.786Z"
   },
   {
    "duration": 4,
    "start_time": "2024-05-28T00:05:19.820Z"
   },
   {
    "duration": 239,
    "start_time": "2024-05-28T00:05:24.830Z"
   },
   {
    "duration": 294,
    "start_time": "2024-05-28T00:07:45.990Z"
   },
   {
    "duration": 247,
    "start_time": "2024-05-28T00:08:38.635Z"
   },
   {
    "duration": 255,
    "start_time": "2024-05-28T00:15:04.944Z"
   },
   {
    "duration": 38,
    "start_time": "2024-05-28T00:16:05.276Z"
   },
   {
    "duration": 372,
    "start_time": "2024-05-28T00:16:42.212Z"
   },
   {
    "duration": 220,
    "start_time": "2024-05-28T00:17:37.737Z"
   },
   {
    "duration": 3,
    "start_time": "2024-05-28T00:21:48.188Z"
   },
   {
    "duration": 7,
    "start_time": "2024-05-28T00:21:49.049Z"
   },
   {
    "duration": 4,
    "start_time": "2024-05-28T00:21:49.882Z"
   },
   {
    "duration": 6,
    "start_time": "2024-05-28T00:21:50.594Z"
   },
   {
    "duration": 3,
    "start_time": "2024-05-28T00:21:51.283Z"
   },
   {
    "duration": 336,
    "start_time": "2024-05-28T00:21:52.844Z"
   },
   {
    "duration": 4,
    "start_time": "2024-05-28T00:22:32.583Z"
   },
   {
    "duration": 7,
    "start_time": "2024-05-28T00:22:34.931Z"
   },
   {
    "duration": 4,
    "start_time": "2024-05-28T00:22:35.689Z"
   },
   {
    "duration": 5,
    "start_time": "2024-05-28T00:22:36.601Z"
   },
   {
    "duration": 4,
    "start_time": "2024-05-28T00:22:37.593Z"
   },
   {
    "duration": 235,
    "start_time": "2024-05-28T00:22:38.617Z"
   },
   {
    "duration": 3,
    "start_time": "2024-05-28T00:22:51.546Z"
   },
   {
    "duration": 6,
    "start_time": "2024-05-28T00:22:52.288Z"
   },
   {
    "duration": 5,
    "start_time": "2024-05-28T00:22:52.985Z"
   },
   {
    "duration": 6,
    "start_time": "2024-05-28T00:22:53.754Z"
   },
   {
    "duration": 4,
    "start_time": "2024-05-28T00:22:54.513Z"
   },
   {
    "duration": 266,
    "start_time": "2024-05-28T00:22:55.727Z"
   },
   {
    "duration": 4,
    "start_time": "2024-05-28T00:23:16.729Z"
   },
   {
    "duration": 6,
    "start_time": "2024-05-28T00:23:17.452Z"
   },
   {
    "duration": 4,
    "start_time": "2024-05-28T00:23:18.195Z"
   },
   {
    "duration": 6,
    "start_time": "2024-05-28T00:23:18.952Z"
   },
   {
    "duration": 4,
    "start_time": "2024-05-28T00:23:19.683Z"
   },
   {
    "duration": 222,
    "start_time": "2024-05-28T00:23:20.639Z"
   },
   {
    "duration": 4,
    "start_time": "2024-05-28T00:23:38.717Z"
   },
   {
    "duration": 6,
    "start_time": "2024-05-28T00:23:39.475Z"
   },
   {
    "duration": 8,
    "start_time": "2024-05-28T00:23:40.167Z"
   },
   {
    "duration": 6,
    "start_time": "2024-05-28T00:23:40.904Z"
   },
   {
    "duration": 4,
    "start_time": "2024-05-28T00:23:41.630Z"
   },
   {
    "duration": 242,
    "start_time": "2024-05-28T00:23:42.563Z"
   },
   {
    "duration": 3,
    "start_time": "2024-05-28T00:24:17.440Z"
   },
   {
    "duration": 6,
    "start_time": "2024-05-28T00:24:18.230Z"
   },
   {
    "duration": 5,
    "start_time": "2024-05-28T00:24:18.935Z"
   },
   {
    "duration": 5,
    "start_time": "2024-05-28T00:24:19.688Z"
   },
   {
    "duration": 4,
    "start_time": "2024-05-28T00:24:20.326Z"
   },
   {
    "duration": 221,
    "start_time": "2024-05-28T00:24:21.182Z"
   },
   {
    "duration": 5,
    "start_time": "2024-05-28T00:26:10.794Z"
   },
   {
    "duration": 5,
    "start_time": "2024-05-28T00:27:11.798Z"
   },
   {
    "duration": 5,
    "start_time": "2024-05-28T00:27:19.665Z"
   },
   {
    "duration": 5133,
    "start_time": "2024-05-28T02:21:19.630Z"
   },
   {
    "duration": 21,
    "start_time": "2024-05-28T02:21:24.766Z"
   },
   {
    "duration": 46,
    "start_time": "2024-05-28T02:21:24.790Z"
   },
   {
    "duration": 8,
    "start_time": "2024-05-28T02:21:24.840Z"
   },
   {
    "duration": 30,
    "start_time": "2024-05-28T02:21:24.854Z"
   },
   {
    "duration": 7,
    "start_time": "2024-05-28T02:21:24.886Z"
   },
   {
    "duration": 10,
    "start_time": "2024-05-28T02:21:24.934Z"
   },
   {
    "duration": 7,
    "start_time": "2024-05-28T02:21:24.946Z"
   },
   {
    "duration": 19,
    "start_time": "2024-05-28T02:21:24.956Z"
   },
   {
    "duration": 2418,
    "start_time": "2024-05-28T02:21:24.978Z"
   },
   {
    "duration": 282,
    "start_time": "2024-05-28T02:21:27.399Z"
   },
   {
    "duration": 18,
    "start_time": "2024-05-28T02:21:27.684Z"
   },
   {
    "duration": 412374,
    "start_time": "2024-05-28T02:21:27.705Z"
   },
   {
    "duration": 535,
    "start_time": "2024-05-28T02:28:20.085Z"
   },
   {
    "duration": 16,
    "start_time": "2024-05-28T02:28:20.623Z"
   },
   {
    "duration": 18,
    "start_time": "2024-05-28T02:28:20.642Z"
   },
   {
    "duration": 251,
    "start_time": "2024-05-28T02:28:20.663Z"
   },
   {
    "duration": 17,
    "start_time": "2024-05-28T02:28:20.917Z"
   },
   {
    "duration": 776,
    "start_time": "2024-05-28T02:28:20.938Z"
   },
   {
    "duration": 0,
    "start_time": "2024-05-28T02:28:21.717Z"
   },
   {
    "duration": 0,
    "start_time": "2024-05-28T02:28:21.720Z"
   },
   {
    "duration": 0,
    "start_time": "2024-05-28T02:28:21.722Z"
   },
   {
    "duration": 0,
    "start_time": "2024-05-28T02:28:21.733Z"
   },
   {
    "duration": 0,
    "start_time": "2024-05-28T02:28:21.735Z"
   },
   {
    "duration": 0,
    "start_time": "2024-05-28T02:28:21.736Z"
   },
   {
    "duration": 0,
    "start_time": "2024-05-28T02:28:21.738Z"
   },
   {
    "duration": 0,
    "start_time": "2024-05-28T02:28:21.739Z"
   },
   {
    "duration": 0,
    "start_time": "2024-05-28T02:28:21.741Z"
   },
   {
    "duration": 0,
    "start_time": "2024-05-28T02:28:21.742Z"
   },
   {
    "duration": 28,
    "start_time": "2024-05-28T02:29:17.794Z"
   },
   {
    "duration": 144,
    "start_time": "2024-05-28T02:29:46.186Z"
   },
   {
    "duration": 228,
    "start_time": "2024-05-28T02:29:51.819Z"
   },
   {
    "duration": 115,
    "start_time": "2024-05-28T02:30:27.414Z"
   },
   {
    "duration": 39,
    "start_time": "2024-05-28T02:30:32.270Z"
   },
   {
    "duration": 4,
    "start_time": "2024-05-28T02:30:34.427Z"
   },
   {
    "duration": 5,
    "start_time": "2024-05-28T02:30:36.496Z"
   },
   {
    "duration": 223,
    "start_time": "2024-05-28T02:30:38.833Z"
   },
   {
    "duration": 4,
    "start_time": "2024-05-28T02:30:47.128Z"
   },
   {
    "duration": 7,
    "start_time": "2024-05-28T02:30:48.127Z"
   },
   {
    "duration": 5,
    "start_time": "2024-05-28T02:30:50.344Z"
   },
   {
    "duration": 4,
    "start_time": "2024-05-28T02:30:52.537Z"
   },
   {
    "duration": 224,
    "start_time": "2024-05-28T02:30:54.140Z"
   },
   {
    "duration": 18,
    "start_time": "2024-05-28T02:32:19.670Z"
   },
   {
    "duration": 221,
    "start_time": "2024-05-28T02:32:26.776Z"
   }
  ],
  "kernelspec": {
   "display_name": "Python 3 (ipykernel)",
   "language": "python",
   "name": "python3"
  },
  "language_info": {
   "codemirror_mode": {
    "name": "ipython",
    "version": 3
   },
   "file_extension": ".py",
   "mimetype": "text/x-python",
   "name": "python",
   "nbconvert_exporter": "python",
   "pygments_lexer": "ipython3",
   "version": "3.9.19"
  },
  "toc": {
   "base_numbering": "0",
   "nav_menu": {},
   "number_sections": false,
   "sideBar": true,
   "skip_h1_title": false,
   "title_cell": "Table of Contents",
   "title_sidebar": "Contents",
   "toc_cell": false,
   "toc_position": {
    "height": "calc(100% - 180px)",
    "left": "10px",
    "top": "150px",
    "width": "373.316px"
   },
   "toc_section_display": true,
   "toc_window_display": true
  }
 },
 "nbformat": 4,
 "nbformat_minor": 2
}
