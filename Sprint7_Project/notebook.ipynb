{
 "cells": [
  {
   "cell_type": "markdown",
   "metadata": {},
   "source": [
    "#Github link: https://github.com/IamAirmanPhoenix/Sprint7_Project"
   ]
  },
  {
   "cell_type": "markdown",
   "metadata": {},
   "source": [
    "# INTRODUCTION"
   ]
  },
  {
   "cell_type": "markdown",
   "metadata": {},
   "source": [
    "On this sections of the project, we will continue with the analysis of the taxi companies activities on November 2017 we started on previous sections with dataminig on a website and using PostgreSQL to obtain datasets we'll be using in the following sections.\n",
    "\n",
    "Let's see the conclusions we can get with the information we have and comprehend its behaviour."
   ]
  },
  {
   "cell_type": "markdown",
   "metadata": {},
   "source": [
    "# 4. Exploratory analysis of data"
   ]
  },
  {
   "cell_type": "markdown",
   "metadata": {},
   "source": [
    "First of all, it is needed to understand and comprehend the information we have to be able to make a correct analysis and processing of the data."
   ]
  },
  {
   "cell_type": "markdown",
   "metadata": {},
   "source": [
    "## 4.1. Importing libraries"
   ]
  },
  {
   "cell_type": "markdown",
   "metadata": {},
   "source": [
    "Libraries we'll be using for processing and plotting the information."
   ]
  },
  {
   "cell_type": "code",
   "execution_count": 17,
   "metadata": {},
   "outputs": [],
   "source": [
    "import pandas as pd\n",
    "import seaborn as sns\n",
    "import numpy as np\n",
    "from matplotlib import pyplot as plt\n",
    "from scipy import stats as st"
   ]
  },
  {
   "cell_type": "markdown",
   "metadata": {},
   "source": [
    "## 4.2. Importing datasets"
   ]
  },
  {
   "cell_type": "markdown",
   "metadata": {},
   "source": [
    "The datasets we'll be using on the following sections."
   ]
  },
  {
   "cell_type": "code",
   "execution_count": 18,
   "metadata": {},
   "outputs": [],
   "source": [
    "result_01 = pd.read_csv('datasets/moved_project_sql_result_01.csv')\n",
    "result_04 = pd.read_csv('datasets/moved_project_sql_result_04.csv')\n",
    "result_07 = pd.read_csv('datasets/moved_project_sql_result_07.csv')"
   ]
  },
  {
   "cell_type": "markdown",
   "metadata": {},
   "source": [
    "## 4.3. Studying datasets"
   ]
  },
  {
   "cell_type": "markdown",
   "metadata": {},
   "source": [
    "### 4.3.1. Dataset 'results_01'"
   ]
  },
  {
   "cell_type": "markdown",
   "metadata": {},
   "source": [
    "This dataset has the `relation \"name-number of trips\"` for each taxi company which had trips on `Novermber 15 & 16, 2017`. The output from code block below may be interpreted with the following statements:\n",
    "\n",
    " * Columns names have an adecuate format.\n",
    " * Columns data types are correct.\n",
    " * There are no apparent missing values.\n",
    " * We have no companies with 0 trips.\n",
    " \n",
    "Is needed to apply some more tests on the dataset to prove the last point as true."
   ]
  },
  {
   "cell_type": "code",
   "execution_count": 19,
   "metadata": {},
   "outputs": [
    {
     "name": "stdout",
     "output_type": "stream",
     "text": [
      "                      company_name  trips_amount\n",
      "0                        Flash Cab         19558\n",
      "1        Taxi Affiliation Services         11422\n",
      "2                 Medallion Leasin         10367\n",
      "3                       Yellow Cab          9888\n",
      "4  Taxi Affiliation Service Yellow          9299\n",
      "\n",
      "<class 'pandas.core.frame.DataFrame'>\n",
      "RangeIndex: 64 entries, 0 to 63\n",
      "Data columns (total 2 columns):\n",
      " #   Column        Non-Null Count  Dtype \n",
      "---  ------        --------------  ----- \n",
      " 0   company_name  64 non-null     object\n",
      " 1   trips_amount  64 non-null     int64 \n",
      "dtypes: int64(1), object(1)\n",
      "memory usage: 1.1+ KB\n",
      "None\n",
      "\n",
      "       company_name  trips_amount\n",
      "count            64     64.000000\n",
      "unique           64           NaN\n",
      "top       Flash Cab           NaN\n",
      "freq              1           NaN\n",
      "mean            NaN   2145.484375\n",
      "std             NaN   3812.310186\n",
      "min             NaN      2.000000\n",
      "25%             NaN     20.750000\n",
      "50%             NaN    178.500000\n",
      "75%             NaN   2106.500000\n",
      "max             NaN  19558.000000\n"
     ]
    }
   ],
   "source": [
    "print(result_01.head())\n",
    "print()\n",
    "print(result_01.info())\n",
    "print()\n",
    "print(result_01.describe(include='all'))"
   ]
  },
  {
   "cell_type": "markdown",
   "metadata": {},
   "source": [
    "Analyzing duplicated values we can see there are no duplicated rows on the dataset overall (either on company_name column and on all the dataset), so there is no more processing necessary on this file.\n",
    "\n",
    "`NOTE:` This processing does not ignore the numbers on each name, so a not detected 'non-apparent' duplicated value of that kind should be processed with a more detailed processing. "
   ]
  },
  {
   "cell_type": "code",
   "execution_count": 20,
   "metadata": {},
   "outputs": [
    {
     "name": "stdout",
     "output_type": "stream",
     "text": [
      "¨Quantity of duplicated rows: 0\n",
      "¨Quantity of duplicated company names: 0\n"
     ]
    }
   ],
   "source": [
    "print(f\"¨Quantity of duplicated rows: {result_01.duplicated().sum()}\")\n",
    "print(f\"¨Quantity of duplicated company names: {result_01['company_name'].str.lower().duplicated().sum()}\")"
   ]
  },
  {
   "cell_type": "markdown",
   "metadata": {},
   "source": [
    "### 4.3.2. Dataset 'results_04'"
   ]
  },
  {
   "cell_type": "markdown",
   "metadata": {},
   "source": [
    "This dataset has the `relation \"dropoff location name - average trips\"` for all the registered trips `on November 2017`. From the code block output below we can conclude the following: \n",
    "\n",
    " * The column names have an adecuate format.\n",
    " * The columns data types are correct.\n",
    " * There are not apparent missing values.\n",
    " * We have not companies with 0 avg trips.\n",
    "\n",
    "Let´s apply a similar processing as in 'results_01' dataset and verify we have the information correctly."
   ]
  },
  {
   "cell_type": "code",
   "execution_count": 21,
   "metadata": {},
   "outputs": [
    {
     "name": "stdout",
     "output_type": "stream",
     "text": [
      "  dropoff_location_name  average_trips\n",
      "0                  Loop   10727.466667\n",
      "1           River North    9523.666667\n",
      "2         Streeterville    6664.666667\n",
      "3             West Loop    5163.666667\n",
      "4                O'Hare    2546.900000\n",
      "\n",
      "<class 'pandas.core.frame.DataFrame'>\n",
      "RangeIndex: 94 entries, 0 to 93\n",
      "Data columns (total 2 columns):\n",
      " #   Column                 Non-Null Count  Dtype  \n",
      "---  ------                 --------------  -----  \n",
      " 0   dropoff_location_name  94 non-null     object \n",
      " 1   average_trips          94 non-null     float64\n",
      "dtypes: float64(1), object(1)\n",
      "memory usage: 1.6+ KB\n",
      "None\n",
      "\n",
      "       dropoff_location_name  average_trips\n",
      "count                     94      94.000000\n",
      "unique                    94            NaN\n",
      "top                     Loop            NaN\n",
      "freq                       1            NaN\n",
      "mean                     NaN     599.953728\n",
      "std                      NaN    1714.591098\n",
      "min                      NaN       1.800000\n",
      "25%                      NaN      14.266667\n",
      "50%                      NaN      52.016667\n",
      "75%                      NaN     298.858333\n",
      "max                      NaN   10727.466667\n"
     ]
    }
   ],
   "source": [
    "print(result_04.head())\n",
    "print()\n",
    "print(result_04.info())\n",
    "print()\n",
    "print(result_04.describe(include='all'))"
   ]
  },
  {
   "cell_type": "markdown",
   "metadata": {},
   "source": [
    "We can conclude this dataset has no duplicated values overall. No more processing needed.\n",
    "\n",
    "`NOTE:` Same as on dataset 'results_01'."
   ]
  },
  {
   "cell_type": "code",
   "execution_count": 22,
   "metadata": {},
   "outputs": [
    {
     "name": "stdout",
     "output_type": "stream",
     "text": [
      "¨Quantity of duplicated rows: 0\n",
      "¨Quantity of duplicated locations names: 0\n"
     ]
    }
   ],
   "source": [
    "print(f\"¨Quantity of duplicated rows: {result_04.duplicated().sum()}\")\n",
    "print(f\"¨Quantity of duplicated locations names: {result_04['dropoff_location_name'].str.lower().duplicated().sum()}\")"
   ]
  },
  {
   "cell_type": "markdown",
   "metadata": {},
   "source": [
    "### 4.3.3. Dataset 'results_07'"
   ]
  },
  {
   "cell_type": "markdown",
   "metadata": {},
   "source": [
    "This dataset is the result of a previous consult on PostgreSQL in which we obtained the information of taxi trips `from \"Loop\" to \"O'Hare International Airport\" on November 2017`. The data shows the following information:\n",
    "\n",
    " * `start_ts`: Start timestamp on \"YYYY-MM-DD HH:mm:ss\" format rounded to hour.\n",
    " * `weather_conditions`: Bad for 'rain related weather' and good for the rest.\n",
    " * `duration_seconds`: Trip duration on seconds.\n",
    "\n",
    "From this dataset we can conclude the following:\n",
    "\n",
    " * The column names have an adecuate format.\n",
    " * The columns data types are correct, except start_ts which we will change to datetime to make easier the analysis.\n",
    " * There are not apparent missing values.\n",
    " * We do have trips with durations of 0 seconds.\n",
    "\n",
    "We still need to apply a processing to assure the information is as we need."
   ]
  },
  {
   "cell_type": "code",
   "execution_count": 23,
   "metadata": {},
   "outputs": [
    {
     "name": "stdout",
     "output_type": "stream",
     "text": [
      "              start_ts weather_conditions  duration_seconds\n",
      "0  2017-11-25 16:00:00               Good            2410.0\n",
      "1  2017-11-25 14:00:00               Good            1920.0\n",
      "2  2017-11-25 12:00:00               Good            1543.0\n",
      "3  2017-11-04 10:00:00               Good            2512.0\n",
      "4  2017-11-11 07:00:00               Good            1440.0\n",
      "\n",
      "<class 'pandas.core.frame.DataFrame'>\n",
      "RangeIndex: 1068 entries, 0 to 1067\n",
      "Data columns (total 3 columns):\n",
      " #   Column              Non-Null Count  Dtype  \n",
      "---  ------              --------------  -----  \n",
      " 0   start_ts            1068 non-null   object \n",
      " 1   weather_conditions  1068 non-null   object \n",
      " 2   duration_seconds    1068 non-null   float64\n",
      "dtypes: float64(1), object(2)\n",
      "memory usage: 25.2+ KB\n",
      "None\n",
      "\n",
      "                   start_ts weather_conditions  duration_seconds\n",
      "count                  1068               1068       1068.000000\n",
      "unique                   81                  2               NaN\n",
      "top     2017-11-11 10:00:00               Good               NaN\n",
      "freq                     48                888               NaN\n",
      "mean                    NaN                NaN       2071.731273\n",
      "std                     NaN                NaN        769.461125\n",
      "min                     NaN                NaN          0.000000\n",
      "25%                     NaN                NaN       1438.250000\n",
      "50%                     NaN                NaN       1980.000000\n",
      "75%                     NaN                NaN       2580.000000\n",
      "max                     NaN                NaN       7440.000000\n"
     ]
    }
   ],
   "source": [
    "print(result_07.head())\n",
    "print()\n",
    "print(result_07.info())\n",
    "print()\n",
    "print(result_07.describe(include='all'))"
   ]
  },
  {
   "cell_type": "markdown",
   "metadata": {},
   "source": [
    "From the code block below we can conclude the following:\n",
    "\n",
    " * We have 197 duplicated rows (so we need to delete them).\n",
    " * We have two values for 'weather-conditions' column (as we need)."
   ]
  },
  {
   "cell_type": "code",
   "execution_count": 24,
   "metadata": {},
   "outputs": [
    {
     "name": "stdout",
     "output_type": "stream",
     "text": [
      "Quantity of duplicated rows: 197\n",
      "Quantity of values for weather_conditions: 2, (['Good', 'Bad'])\n"
     ]
    }
   ],
   "source": [
    "print(f\"Quantity of duplicated rows: {result_07.duplicated().sum()}\")\n",
    "print(f\"Quantity of values for weather_conditions: {result_07['weather_conditions'].nunique()}, ({list(result_07['weather_conditions'].unique())})\")"
   ]
  },
  {
   "cell_type": "markdown",
   "metadata": {},
   "source": [
    "Once the duplicated rows are deleted, we have the dataset ready to work in."
   ]
  },
  {
   "cell_type": "code",
   "execution_count": 25,
   "metadata": {},
   "outputs": [
    {
     "name": "stdout",
     "output_type": "stream",
     "text": [
      "<class 'pandas.core.frame.DataFrame'>\n",
      "Index: 871 entries, 0 to 1067\n",
      "Data columns (total 3 columns):\n",
      " #   Column              Non-Null Count  Dtype  \n",
      "---  ------              --------------  -----  \n",
      " 0   start_ts            871 non-null    object \n",
      " 1   weather_conditions  871 non-null    object \n",
      " 2   duration_seconds    871 non-null    float64\n",
      "dtypes: float64(1), object(2)\n",
      "memory usage: 27.2+ KB\n",
      "None\n",
      "\n",
      "Quantity of duplicated rows: 0\n"
     ]
    }
   ],
   "source": [
    "result_07.drop_duplicates(inplace=True)\n",
    "print(result_07.info())\n",
    "print()\n",
    "print(f\"Quantity of duplicated rows: {result_07.duplicated().sum()}\")"
   ]
  },
  {
   "cell_type": "markdown",
   "metadata": {},
   "source": [
    "Now we convert the column data type to datetime."
   ]
  },
  {
   "cell_type": "code",
   "execution_count": 26,
   "metadata": {},
   "outputs": [],
   "source": [
    "result_07['start_ts'] = pd.to_datetime(result_07['start_ts'], format='%Y-%m-%d %H:%M:%S', errors='coerce')"
   ]
  },
  {
   "cell_type": "markdown",
   "metadata": {},
   "source": [
    "Confirming the result is correct and continue. We still have 0 values on it, so we need to filter them on future steps."
   ]
  },
  {
   "cell_type": "code",
   "execution_count": 27,
   "metadata": {},
   "outputs": [
    {
     "name": "stdout",
     "output_type": "stream",
     "text": [
      "<class 'pandas.core.frame.DataFrame'>\n",
      "Index: 871 entries, 0 to 1067\n",
      "Data columns (total 3 columns):\n",
      " #   Column              Non-Null Count  Dtype         \n",
      "---  ------              --------------  -----         \n",
      " 0   start_ts            871 non-null    datetime64[ns]\n",
      " 1   weather_conditions  871 non-null    object        \n",
      " 2   duration_seconds    871 non-null    float64       \n",
      "dtypes: datetime64[ns](1), float64(1), object(1)\n",
      "memory usage: 27.2+ KB\n",
      "None\n",
      "\n",
      "                             start_ts weather_conditions  duration_seconds\n",
      "count                             871                871        871.000000\n",
      "unique                            NaN                  2               NaN\n",
      "top                               NaN               Good               NaN\n",
      "freq                              NaN                723               NaN\n",
      "mean    2017-11-11 20:10:53.042479872                NaN       2096.308840\n",
      "min               2017-11-04 00:00:00                NaN          0.000000\n",
      "25%               2017-11-04 15:00:00                NaN       1440.000000\n",
      "50%               2017-11-11 10:00:00                NaN       2015.000000\n",
      "75%               2017-11-18 07:00:00                NaN       2584.000000\n",
      "max               2017-11-25 23:00:00                NaN       7440.000000\n",
      "std                               NaN                NaN        782.274717\n"
     ]
    }
   ],
   "source": [
    "print(result_07.info())\n",
    "print()\n",
    "print(result_07.describe(include='all'))"
   ]
  },
  {
   "cell_type": "markdown",
   "metadata": {},
   "source": [
    "## 4.4. Top 10 dropoff locations."
   ]
  },
  {
   "cell_type": "markdown",
   "metadata": {},
   "source": [
    "Ordering and filtering the dataset 'results_04' we can obtain a reduced dataframe with the top 10 dropoff locations on November 2017."
   ]
  },
  {
   "cell_type": "code",
   "execution_count": 28,
   "metadata": {},
   "outputs": [
    {
     "name": "stdout",
     "output_type": "stream",
     "text": [
      "  dropoff_location_name  average_trips\n",
      "0                  Loop   10727.466667\n",
      "1           River North    9523.666667\n",
      "2         Streeterville    6664.666667\n",
      "3             West Loop    5163.666667\n",
      "4                O'Hare    2546.900000\n",
      "5             Lake View    2420.966667\n",
      "6            Grant Park    2068.533333\n",
      "7         Museum Campus    1510.000000\n",
      "8            Gold Coast    1364.233333\n",
      "9    Sheffield & DePaul    1259.766667\n"
     ]
    }
   ],
   "source": [
    "top_dropoff = result_04.sort_values(by='average_trips', ascending=False).head(10)\n",
    "print(top_dropoff)"
   ]
  },
  {
   "cell_type": "markdown",
   "metadata": {},
   "source": [
    "Following this, we may need to plot the resulting dataframe to better comprehend the information. The following bar chart shows us the difference between the top 10 dropoff locations as the following:\n",
    "\n",
    " * The most common dropoff locations are Loop, River North, Streeterville ans West Loop.\n",
    " * The remaining locations in the top do not vary as much between them in comparison with the first four.\n",
    "\n",
    "What may be a reason for this disparity among the 10 most request locations?\n",
    "\n",
    "The most probable reason may be the activity on those zones. Other reason can be an special event o0r events on those zones on that particular month. This must be a point that shall be discussed on further steps of this analysis."
   ]
  },
  {
   "cell_type": "code",
   "execution_count": 29,
   "metadata": {},
   "outputs": [
    {
     "data": {
      "image/png": "[encoded data removed]",
      "text/plain": [
       "<Figure size 1000x500 with 1 Axes>"
      ]
     },
     "metadata": {},
     "output_type": "display_data"
    }
   ],
   "source": [
    "top_dropoff.plot(kind='bar',\n",
    "                 x='dropoff_location_name',\n",
    "                 xlabel='Locations',\n",
    "                 ylabel='Average',\n",
    "                 title='Top 10 dropoff locations on November 2017',\n",
    "                 rot=20,\n",
    "                 grid=True,\n",
    "                 figsize=[10,5],\n",
    "                 legend=False,\n",
    "                 color='lightblue')\n",
    "\n",
    "plt.show()"
   ]
  },
  {
   "cell_type": "markdown",
   "metadata": {},
   "source": [
    "By the hand of the bar chart we generate, we can use a boxplot diagram to complement the information.\n",
    "\n",
    "We do not have atypical values in the top 10 locations list, but we do have a remarcable asymmetry on the population. We can see the range of the data below the 50th percentile is more narrow than data above it, causing a huge `difference between our mean and median values of 1841 average trips aprox` (as seen below)."
   ]
  },
  {
   "cell_type": "code",
   "execution_count": 45,
   "metadata": {},
   "outputs": [
    {
     "data": {
      "text/plain": [
       "<Axes: >"
      ]
     },
     "execution_count": 45,
     "metadata": {},
     "output_type": "execute_result"
    },
    {
     "data": {
      "image/png": "[encoded data removed]",
      "text/plain": [
       "<Figure size 640x480 with 1 Axes>"
      ]
     },
     "metadata": {},
     "output_type": "display_data"
    }
   ],
   "source": [
    "sns.boxplot(top_dropoff['average_trips'])"
   ]
  },
  {
   "cell_type": "code",
   "execution_count": 31,
   "metadata": {},
   "outputs": [
    {
     "name": "stdout",
     "output_type": "stream",
     "text": [
      "The mean value of the population is: 4324.986666666667.\n",
      "The median value of the population is: 2483.9333333333334.\n",
      "\n",
      "The difference between them is: 1841.0533333333333\n"
     ]
    }
   ],
   "source": [
    "print(f\"The mean value of the population is: {top_dropoff['average_trips'].mean()}.\")\n",
    "print(f\"The median value of the population is: {top_dropoff['average_trips'].median()}.\")\n",
    "print()\n",
    "print(f\"The difference between them is: {abs(top_dropoff['average_trips'].mean() - top_dropoff['average_trips'].median())}\")"
   ]
  },
  {
   "cell_type": "markdown",
   "metadata": {},
   "source": [
    "CONCLUSION:\n",
    "\n",
    "We may want to exclude the top 4 locations for other types of analysis in which we may want to include all others locations due to the huge difference between those locations values and the others locations values. In other hand, this does not mean we cannot use those 4 locations to propose another strategy in particular."
   ]
  },
  {
   "cell_type": "markdown",
   "metadata": {},
   "source": [
    "## 4.5. Top 10 taxi companies"
   ]
  },
  {
   "cell_type": "markdown",
   "metadata": {},
   "source": [
    "Ordering and filtering the dataset 'results_01' to obtain only the information we want."
   ]
  },
  {
   "cell_type": "code",
   "execution_count": 32,
   "metadata": {},
   "outputs": [
    {
     "name": "stdout",
     "output_type": "stream",
     "text": [
      "                        company_name  trips_amount\n",
      "0                          Flash Cab         19558\n",
      "1          Taxi Affiliation Services         11422\n",
      "2                   Medallion Leasin         10367\n",
      "3                         Yellow Cab          9888\n",
      "4    Taxi Affiliation Service Yellow          9299\n",
      "5          Chicago Carriage Cab Corp          9181\n",
      "6                       City Service          8448\n",
      "7                           Sun Taxi          7701\n",
      "8          Star North Management LLC          7455\n",
      "9  Blue Ribbon Taxi Association Inc.          5953\n"
     ]
    }
   ],
   "source": [
    "top_companies = result_01.sort_values(by='trips_amount', ascending=False).head(10)\n",
    "print(top_companies)"
   ]
  },
  {
   "cell_type": "markdown",
   "metadata": {},
   "source": [
    "Plotting the obtained dataframe we can conclude the following statements: \n",
    "\n",
    " * The difference between the first place company of the list and the others is anormaly huge.\n",
    " * The values for the remaining companies does not vary much between them.\n",
    "\n",
    "With this in hand, is obvious Flash Cab (the company with most trips on November 15/16, 2017) was the customers favorite, but the reason is not known yet. May this imply Flash Cab had an special promotion on those specific days? Or this may be caused by external factors to Flash Cab company? This should be discused in the future to determined if the cause of this disparity may used in favor of other companies."
   ]
  },
  {
   "cell_type": "code",
   "execution_count": 33,
   "metadata": {},
   "outputs": [
    {
     "data": {
      "image/png": "[encoded data removed]",
      "text/plain": [
       "<Figure size 1000x500 with 1 Axes>"
      ]
     },
     "metadata": {},
     "output_type": "display_data"
    }
   ],
   "source": [
    "top_companies.plot(kind='bar',\n",
    "                 x='company_name',\n",
    "                 xlabel='Companies',\n",
    "                 ylabel='Trips',\n",
    "                 title='Top 10 companies on November 15-16 2017 (by trips)',\n",
    "                 rot=30,\n",
    "                 grid=True,\n",
    "                 figsize=[10,5],\n",
    "                 legend=False,\n",
    "                 color='lightblue')\n",
    "\n",
    "plt.show()"
   ]
  },
  {
   "cell_type": "markdown",
   "metadata": {},
   "source": [
    "As well as in previous dataset, creating a boxplot may help complimenting the current information.\n",
    "\n",
    "In this specific case, we can see the previously discussed trips value for Flash Cab is an atypical value within the population, so maybe this can be evidence the data from Flash Cab should by used separately from the other values. Once done this, we can see the range of the data does not vary significantly, and also has an asymmetry to the values above the 50th percentile (causing a minor difference between the mean and median values of aproximately 687 trips as shown below)."
   ]
  },
  {
   "cell_type": "code",
   "execution_count": 46,
   "metadata": {},
   "outputs": [
    {
     "data": {
      "text/plain": [
       "<Axes: >"
      ]
     },
     "execution_count": 46,
     "metadata": {},
     "output_type": "execute_result"
    },
    {
     "data": {
      "image/png": "[encoded data removed]",
      "text/plain": [
       "<Figure size 640x480 with 1 Axes>"
      ]
     },
     "metadata": {},
     "output_type": "display_data"
    }
   ],
   "source": [
    "sns.boxplot(top_companies['trips_amount'])"
   ]
  },
  {
   "cell_type": "code",
   "execution_count": 35,
   "metadata": {},
   "outputs": [
    {
     "name": "stdout",
     "output_type": "stream",
     "text": [
      "The mean value of the population is: 9927.2.\n",
      "The median value of the population is: 9240.0.\n",
      "\n",
      "The difference between them is: 687.2000000000007\n"
     ]
    }
   ],
   "source": [
    "print(f\"The mean value of the population is: {top_companies['trips_amount'].mean()}.\")\n",
    "print(f\"The median value of the population is: {top_companies['trips_amount'].median()}.\")\n",
    "print()\n",
    "print(f\"The difference between them is: {abs(top_companies['trips_amount'].mean() - top_companies['trips_amount'].median())}\")"
   ]
  },
  {
   "cell_type": "markdown",
   "metadata": {},
   "source": [
    "CONCLUSION:\n",
    "\n",
    "We may infer the difference between Flash Cab is not typical (also because the boxplot shows us that), but it is necessary to do further investigation on days November 15/16, 2017 to be sure what caused this anormality on favor of Flash Cab."
   ]
  },
  {
   "cell_type": "markdown",
   "metadata": {},
   "source": [
    "# 5. Hyphotesis tests"
   ]
  },
  {
   "cell_type": "markdown",
   "metadata": {},
   "source": [
    "On this section, the dataset 'results_07' will be used to make the required statistical tests."
   ]
  },
  {
   "cell_type": "code",
   "execution_count": 36,
   "metadata": {},
   "outputs": [
    {
     "name": "stdout",
     "output_type": "stream",
     "text": [
      "                start_ts weather_conditions  duration_seconds\n",
      "0    2017-11-25 16:00:00               Good            2410.0\n",
      "1    2017-11-25 14:00:00               Good            1920.0\n",
      "2    2017-11-25 12:00:00               Good            1543.0\n",
      "3    2017-11-04 10:00:00               Good            2512.0\n",
      "4    2017-11-11 07:00:00               Good            1440.0\n",
      "...                  ...                ...               ...\n",
      "1060 2017-11-04 14:00:00               Good            2700.0\n",
      "1061 2017-11-18 16:00:00                Bad            2186.0\n",
      "1063 2017-11-25 11:00:00               Good               0.0\n",
      "1064 2017-11-11 10:00:00               Good            1318.0\n",
      "1067 2017-11-04 16:00:00                Bad            2834.0\n",
      "\n",
      "[871 rows x 3 columns]\n"
     ]
    }
   ],
   "source": [
    "print(result_07)"
   ]
  },
  {
   "cell_type": "markdown",
   "metadata": {},
   "source": [
    "## 5.1. Does the avg. duration of trips from Loop to O'Hare International Airport change on rainy Saturdays?"
   ]
  },
  {
   "cell_type": "markdown",
   "metadata": {},
   "source": [
    "To answer this question we must define our null hyphotesis and alternate hyphotesis:\n",
    "\n",
    " * `NULL HYPHOTESIS`: The avg. duration of trips from Loop to O'Hare International Airport `DOES change` on rainy Saturdays.\n",
    " * `ALTERNATE HYPHOTESIS`: The avg. duration of trips from Loop to O'Hare International Airport `DOES NOT change` on rainy Saturdays.\n",
    "\n",
    "With this in mind, let's prepare the data. First of all, let's see if all the values we have in our datasets are from Saturdays checking on their 'day' value."
   ]
  },
  {
   "cell_type": "code",
   "execution_count": 37,
   "metadata": {},
   "outputs": [
    {
     "data": {
      "text/plain": [
       "array([25,  4, 11, 18], dtype=int32)"
      ]
     },
     "execution_count": 37,
     "metadata": {},
     "output_type": "execute_result"
    }
   ],
   "source": [
    "result_07['start_ts'].dt.day.unique()"
   ]
  },
  {
   "cell_type": "markdown",
   "metadata": {},
   "source": [
    "With this code we can see the unique values for the days are (4, 11, 18, 25) which we can say are all Saturdays days.\n",
    "\n",
    "Once this done, let's make two populations for this test:\n",
    "\n",
    " * Saturdays trips with rainy weather.\n",
    " * Saturdays trips without rainy weather.\n",
    "\n",
    "To make this possible, we'll create a new column 'hour' in which the values of the hour of all the trips will be contained."
   ]
  },
  {
   "cell_type": "code",
   "execution_count": 38,
   "metadata": {},
   "outputs": [],
   "source": [
    "result_07['hour'] = result_07['start_ts'].dt.hour"
   ]
  },
  {
   "cell_type": "markdown",
   "metadata": {},
   "source": [
    "We then create two DataFrames: One for the rainy days and one for the days there was no rain (excluding the trips with a registered duration of 0 seconds for both of them)."
   ]
  },
  {
   "cell_type": "code",
   "execution_count": 40,
   "metadata": {},
   "outputs": [],
   "source": [
    "# DataFrame for trips on rain condition\n",
    "sat_rain = result_07[(result_07['weather_conditions'] == 'Bad') & (result_07['duration_seconds'] > 0)]\n",
    "\n",
    "# DataFrame for trips on good condition\n",
    "sat_norain = result_07[(result_07['weather_conditions'] == 'Good') & (result_07['duration_seconds'] > 0)]"
   ]
  },
  {
   "cell_type": "markdown",
   "metadata": {},
   "source": [
    "Because we need to prove the difference on a population for a variable, we can conclude the 2 DataFrames we have are RELATED SAMPLES so we have to use a statistical test according with our samples: for example 'ttest_rel()' function. For this test I'll be using an alpha value of 5% (0.05).\n",
    "\n",
    "As we have different lenghts on both populations, we cannot apply any test on them yet. We will group them by hour and get the avg for both DFs."
   ]
  },
  {
   "cell_type": "code",
   "execution_count": 41,
   "metadata": {},
   "outputs": [],
   "source": [
    "piv_rain = sat_rain.pivot_table(index='hour',\n",
    "                                values='duration_seconds',\n",
    "                                aggfunc='mean')\n",
    "\n",
    "piv_norain = sat_norain.pivot_table(index='hour',\n",
    "                                    values='duration_seconds',\n",
    "                                    aggfunc='mean')"
   ]
  },
  {
   "cell_type": "markdown",
   "metadata": {},
   "source": [
    "As we can see, we do not have information for trips with rain for all the 24 hours of the day, so we need to take only the hours we can compare with our 'rainy trips' values."
   ]
  },
  {
   "cell_type": "code",
   "execution_count": 42,
   "metadata": {},
   "outputs": [
    {
     "name": "stdout",
     "output_type": "stream",
     "text": [
      "11\n",
      "\n",
      "23\n"
     ]
    }
   ],
   "source": [
    "print(len(piv_rain))\n",
    "print()\n",
    "print(len(piv_norain))"
   ]
  },
  {
   "cell_type": "markdown",
   "metadata": {},
   "source": [
    "In this way, we create a new table in which we only have the hours we can compare."
   ]
  },
  {
   "cell_type": "code",
   "execution_count": 43,
   "metadata": {},
   "outputs": [],
   "source": [
    "piv_norain_filt = piv_norain.loc[piv_rain.index]"
   ]
  },
  {
   "cell_type": "markdown",
   "metadata": {},
   "source": [
    "Once with the information as we need, let's apply the t-test and determine if we shall accept or reject the null hyphotesis. In case we obtain a p-value above the alpha value we will reject the null hyphotesis (because this means both means are likely to match each other), if not we will accept it."
   ]
  },
  {
   "cell_type": "code",
   "execution_count": 44,
   "metadata": {},
   "outputs": [
    {
     "name": "stdout",
     "output_type": "stream",
     "text": [
      "REJECTTING NULL HYPHOTESIS. P-value ([0.73191343]) higher that 5%.\n"
     ]
    }
   ],
   "source": [
    "alpha = 0.05\n",
    "\n",
    "test = st.ttest_rel(piv_norain_filt, piv_rain)\n",
    "\n",
    "if test.pvalue > alpha:\n",
    "    print(f\"REJECTTING NULL HYPHOTESIS. P-value ({test.pvalue}) higher that 5%.\")\n",
    "else:\n",
    "    print(f\"ACEPTING NULL HYPHOTESIS. P-value ({test.pvalue}) lower that 5%.\")"
   ]
  },
  {
   "cell_type": "markdown",
   "metadata": {},
   "source": [
    "With the following information we can concluded the following:\n",
    "\n",
    " * We `REJECT the null hyphotesis` and `ACCEPT the alternate hyphotesis`. So, The avg. duration of trips from Loop to O'Hare International Airport `DOES NOT change` on rainy Saturdays."
   ]
  },
  {
   "cell_type": "markdown",
   "metadata": {},
   "source": [
    "# 6. GENERAL CONCLUSIONS"
   ]
  },
  {
   "cell_type": "markdown",
   "metadata": {},
   "source": [
    "As conclusion, we can state de following points of the Sprint 7 project:\n",
    "\n",
    " * Datamining (or scrapping) is a powerful tool we can use to obtain information from web-sites and APIs. We can obtain the    information on HTML or json formats.\n",
    " * SQL based softwares (as PostgreSQL which we used on this project) can help us to generate new information using \"general    information\" from the case. As an example: How we obtained the information of the taxi companies trips on November using    as reference tables of 'companies by id', 'trips on November' and 'weather conditions'.\n",
    " * Once the ionformation is obtained as 'clean' as we can, then we can analyze and study it to give conclusions for a specific question    and apply various statistical tests to complement our answers.\n",
    " \n",
    "The integration of all the previous points helps us not only to make our work more efficient, also simplier to others to unserstand and explain how our working process was and explain the 'why?' of our conclusions."
   ]
  }
 ],
 "metadata": {
  "kernelspec": {
   "display_name": "myenv",
   "language": "python",
   "name": "python3"
  },
  "language_info": {
   "codemirror_mode": {
    "name": "ipython",
    "version": 3
   },
   "file_extension": ".py",
   "mimetype": "text/x-python",
   "name": "python",
   "nbconvert_exporter": "python",
   "pygments_lexer": "ipython3",
   "version": "3.12.2"
  }
 },
 "nbformat": 4,
 "nbformat_minor": 2
}
